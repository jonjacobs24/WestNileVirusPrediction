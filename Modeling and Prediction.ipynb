{
 "cells": [
  {
   "cell_type": "markdown",
   "metadata": {},
   "source": [
    "<h1>Modeling and Prediction</h1>\n",
    "On the West Nile Virus data set"
   ]
  },
  {
   "cell_type": "code",
   "execution_count": 1,
   "metadata": {},
   "outputs": [],
   "source": [
    "import pandas as pd\n",
    "import matplotlib.pyplot as plt\n",
    "import seaborn as sns\n",
    "import numpy as np\n",
    "from sklearn.model_selection import train_test_split\n",
    "sns.set_style('whitegrid')"
   ]
  },
  {
   "cell_type": "code",
   "execution_count": 2,
   "metadata": {},
   "outputs": [],
   "source": [
    "#loading cleaned data\n",
    "X = pd.read_pickle('./data/train.pkl')\n",
    "y = pd.read_pickle('./data/y.pkl')\n",
    "#X_test = pd.read_pickle('./data/test.pkl')\n",
    "#y_test = pd.read_csv('./data/sampleSubmission.csv.zip')"
   ]
  },
  {
   "cell_type": "code",
   "execution_count": 3,
   "metadata": {},
   "outputs": [],
   "source": [
    "#dropping a few columns I mis-interpreted. Coding sprecies\n",
    "X = X.drop(['Trap','Sunrise_x','Sunset_x','Sunrise_y','Sunset_y'],axis=1)\n",
    "#X_test = X_test.drop(['Trap','Sunrise_x','Sunset_x','Sunrise_y','Sunset_y'],axis=1)\n",
    "\n",
    "#coding species columns\n",
    "X = pd.get_dummies(X,columns=['Species','month'])\n",
    "#X_test = pd.get_dummies(X_test,columns=['Species','month'])"
   ]
  },
  {
   "cell_type": "code",
   "execution_count": 4,
   "metadata": {},
   "outputs": [],
   "source": [
    "# mistakenly, thought that the train_test_split was done for me. It was not, the test set is for the kaggle competition\n",
    "X_train, X_test, y_train, y_test = train_test_split(X,y,test_size=0.25,random_state=42)"
   ]
  },
  {
   "cell_type": "markdown",
   "metadata": {},
   "source": [
    "<h2>Random Forest Classifier</h2>\n",
    "Random Forest Classifier is a great ensemble method which I will look into first with a Random Search CV. The driving metric for analysis is recall. This data set is heavily class biased -- there are few west nile virus sightings compared to the observations as a whole. What's most important is that WNV is not missed, i.e. False Negative. For this purpose, a False Positive is better than False Negative, so recall is the most important metric."
   ]
  },
  {
   "cell_type": "markdown",
   "metadata": {},
   "source": [
    "***Building Pipeline***"
   ]
  },
  {
   "cell_type": "code",
   "execution_count": 5,
   "metadata": {},
   "outputs": [],
   "source": [
    "from sklearn.pipeline import make_pipeline\n",
    "from sklearn.ensemble import RandomForestClassifier\n",
    "from sklearn.model_selection import RandomizedSearchCV\n",
    "from sklearn.preprocessing import StandardScaler\n",
    "from sklearn.metrics import recall_score\n",
    "from scipy.stats import truncnorm, uniform\n",
    "from sklearn.impute import SimpleImputer"
   ]
  },
  {
   "cell_type": "code",
   "execution_count": 6,
   "metadata": {},
   "outputs": [],
   "source": [
    "pipe = make_pipeline( \n",
    "    SimpleImputer(strategy='median'),\n",
    "    StandardScaler(), \n",
    "    RandomForestClassifier()\n",
    ")"
   ]
  },
  {
   "cell_type": "code",
   "execution_count": 7,
   "metadata": {},
   "outputs": [
    {
     "data": {
      "text/plain": [
       "dict_keys(['memory', 'steps', 'verbose', 'simpleimputer', 'standardscaler', 'randomforestclassifier', 'simpleimputer__add_indicator', 'simpleimputer__copy', 'simpleimputer__fill_value', 'simpleimputer__missing_values', 'simpleimputer__strategy', 'simpleimputer__verbose', 'standardscaler__copy', 'standardscaler__with_mean', 'standardscaler__with_std', 'randomforestclassifier__bootstrap', 'randomforestclassifier__ccp_alpha', 'randomforestclassifier__class_weight', 'randomforestclassifier__criterion', 'randomforestclassifier__max_depth', 'randomforestclassifier__max_features', 'randomforestclassifier__max_leaf_nodes', 'randomforestclassifier__max_samples', 'randomforestclassifier__min_impurity_decrease', 'randomforestclassifier__min_impurity_split', 'randomforestclassifier__min_samples_leaf', 'randomforestclassifier__min_samples_split', 'randomforestclassifier__min_weight_fraction_leaf', 'randomforestclassifier__n_estimators', 'randomforestclassifier__n_jobs', 'randomforestclassifier__oob_score', 'randomforestclassifier__random_state', 'randomforestclassifier__verbose', 'randomforestclassifier__warm_start'])"
      ]
     },
     "execution_count": 7,
     "metadata": {},
     "output_type": "execute_result"
    }
   ],
   "source": [
    "pipe.get_params().keys()\n"
   ]
  },
  {
   "cell_type": "code",
   "execution_count": 8,
   "metadata": {},
   "outputs": [],
   "source": [
    "params = {'randomforestclassifier__n_estimators': np.arange(50,2000),\n",
    "         'randomforestclassifier__max_depth' :  np.arange(2,20)}\n",
    "\n",
    "rf_rand = RandomizedSearchCV(pipe,param_distributions=params,cv=5, n_jobs=-1, scoring = 'recall',n_iter=10,\n",
    "                            random_state = 42)"
   ]
  },
  {
   "cell_type": "code",
   "execution_count": 9,
   "metadata": {},
   "outputs": [
    {
     "data": {
      "text/plain": [
       "RandomizedSearchCV(cv=5,\n",
       "                   estimator=Pipeline(steps=[('simpleimputer',\n",
       "                                              SimpleImputer(strategy='median')),\n",
       "                                             ('standardscaler',\n",
       "                                              StandardScaler()),\n",
       "                                             ('randomforestclassifier',\n",
       "                                              RandomForestClassifier())]),\n",
       "                   n_jobs=-1,\n",
       "                   param_distributions={'randomforestclassifier__max_depth': array([ 2,  3,  4,  5,  6,  7,  8,  9, 10, 11, 12, 13, 14, 15, 16, 17, 18,\n",
       "       19]),\n",
       "                                        'randomforestclassifier__n_estimators': array([  50,   51,   52, ..., 1997, 1998, 1999])},\n",
       "                   random_state=42, scoring='recall')"
      ]
     },
     "execution_count": 9,
     "metadata": {},
     "output_type": "execute_result"
    }
   ],
   "source": [
    "rf_rand.fit(X_train,y_train)"
   ]
  },
  {
   "cell_type": "markdown",
   "metadata": {},
   "source": [
    "***Looking at results from the random search***"
   ]
  },
  {
   "cell_type": "code",
   "execution_count": 10,
   "metadata": {},
   "outputs": [
    {
     "data": {
      "text/plain": [
       "{'randomforestclassifier__n_estimators': 562,\n",
       " 'randomforestclassifier__max_depth': 13}"
      ]
     },
     "execution_count": 10,
     "metadata": {},
     "output_type": "execute_result"
    }
   ],
   "source": [
    "rf_rand.best_params_"
   ]
  },
  {
   "cell_type": "code",
   "execution_count": 11,
   "metadata": {},
   "outputs": [],
   "source": [
    "rf_res = pd.DataFrame(rf_rand.cv_results_)"
   ]
  },
  {
   "cell_type": "code",
   "execution_count": 12,
   "metadata": {},
   "outputs": [
    {
     "data": {
      "text/html": [
       "<div>\n",
       "<style scoped>\n",
       "    .dataframe tbody tr th:only-of-type {\n",
       "        vertical-align: middle;\n",
       "    }\n",
       "\n",
       "    .dataframe tbody tr th {\n",
       "        vertical-align: top;\n",
       "    }\n",
       "\n",
       "    .dataframe thead th {\n",
       "        text-align: right;\n",
       "    }\n",
       "</style>\n",
       "<table border=\"1\" class=\"dataframe\">\n",
       "  <thead>\n",
       "    <tr style=\"text-align: right;\">\n",
       "      <th></th>\n",
       "      <th>mean_fit_time</th>\n",
       "      <th>std_fit_time</th>\n",
       "      <th>mean_score_time</th>\n",
       "      <th>std_score_time</th>\n",
       "      <th>param_randomforestclassifier__n_estimators</th>\n",
       "      <th>param_randomforestclassifier__max_depth</th>\n",
       "      <th>params</th>\n",
       "      <th>split0_test_score</th>\n",
       "      <th>split1_test_score</th>\n",
       "      <th>split2_test_score</th>\n",
       "      <th>split3_test_score</th>\n",
       "      <th>split4_test_score</th>\n",
       "      <th>mean_test_score</th>\n",
       "      <th>std_test_score</th>\n",
       "      <th>rank_test_score</th>\n",
       "    </tr>\n",
       "  </thead>\n",
       "  <tbody>\n",
       "    <tr>\n",
       "      <th>5</th>\n",
       "      <td>6.676574</td>\n",
       "      <td>0.494606</td>\n",
       "      <td>0.360505</td>\n",
       "      <td>0.108034</td>\n",
       "      <td>562</td>\n",
       "      <td>13</td>\n",
       "      <td>{'randomforestclassifier__n_estimators': 562, ...</td>\n",
       "      <td>0.071429</td>\n",
       "      <td>0.095238</td>\n",
       "      <td>0.072289</td>\n",
       "      <td>0.036145</td>\n",
       "      <td>0.084337</td>\n",
       "      <td>0.071888</td>\n",
       "      <td>0.019891</td>\n",
       "      <td>1</td>\n",
       "    </tr>\n",
       "    <tr>\n",
       "      <th>0</th>\n",
       "      <td>2.309790</td>\n",
       "      <td>0.085612</td>\n",
       "      <td>0.106948</td>\n",
       "      <td>0.008940</td>\n",
       "      <td>245</td>\n",
       "      <td>10</td>\n",
       "      <td>{'randomforestclassifier__n_estimators': 245, ...</td>\n",
       "      <td>0.047619</td>\n",
       "      <td>0.047619</td>\n",
       "      <td>0.024096</td>\n",
       "      <td>0.012048</td>\n",
       "      <td>0.060241</td>\n",
       "      <td>0.038325</td>\n",
       "      <td>0.017584</td>\n",
       "      <td>2</td>\n",
       "    </tr>\n",
       "    <tr>\n",
       "      <th>4</th>\n",
       "      <td>13.082430</td>\n",
       "      <td>0.267924</td>\n",
       "      <td>0.713468</td>\n",
       "      <td>0.101567</td>\n",
       "      <td>1300</td>\n",
       "      <td>10</td>\n",
       "      <td>{'randomforestclassifier__n_estimators': 1300,...</td>\n",
       "      <td>0.047619</td>\n",
       "      <td>0.047619</td>\n",
       "      <td>0.024096</td>\n",
       "      <td>0.012048</td>\n",
       "      <td>0.060241</td>\n",
       "      <td>0.038325</td>\n",
       "      <td>0.017584</td>\n",
       "      <td>2</td>\n",
       "    </tr>\n",
       "    <tr>\n",
       "      <th>6</th>\n",
       "      <td>4.635134</td>\n",
       "      <td>0.134347</td>\n",
       "      <td>0.238203</td>\n",
       "      <td>0.058156</td>\n",
       "      <td>473</td>\n",
       "      <td>10</td>\n",
       "      <td>{'randomforestclassifier__n_estimators': 473, ...</td>\n",
       "      <td>0.047619</td>\n",
       "      <td>0.035714</td>\n",
       "      <td>0.036145</td>\n",
       "      <td>0.012048</td>\n",
       "      <td>0.048193</td>\n",
       "      <td>0.035944</td>\n",
       "      <td>0.013095</td>\n",
       "      <td>4</td>\n",
       "    </tr>\n",
       "    <tr>\n",
       "      <th>2</th>\n",
       "      <td>11.522877</td>\n",
       "      <td>0.030594</td>\n",
       "      <td>0.520742</td>\n",
       "      <td>0.017121</td>\n",
       "      <td>1584</td>\n",
       "      <td>7</td>\n",
       "      <td>{'randomforestclassifier__n_estimators': 1584,...</td>\n",
       "      <td>0.011905</td>\n",
       "      <td>0.000000</td>\n",
       "      <td>0.012048</td>\n",
       "      <td>0.000000</td>\n",
       "      <td>0.000000</td>\n",
       "      <td>0.004791</td>\n",
       "      <td>0.005867</td>\n",
       "      <td>5</td>\n",
       "    </tr>\n",
       "    <tr>\n",
       "      <th>1</th>\n",
       "      <td>3.885598</td>\n",
       "      <td>0.008139</td>\n",
       "      <td>0.230907</td>\n",
       "      <td>0.009363</td>\n",
       "      <td>910</td>\n",
       "      <td>2</td>\n",
       "      <td>{'randomforestclassifier__n_estimators': 910, ...</td>\n",
       "      <td>0.000000</td>\n",
       "      <td>0.000000</td>\n",
       "      <td>0.000000</td>\n",
       "      <td>0.000000</td>\n",
       "      <td>0.000000</td>\n",
       "      <td>0.000000</td>\n",
       "      <td>0.000000</td>\n",
       "      <td>6</td>\n",
       "    </tr>\n",
       "    <tr>\n",
       "      <th>3</th>\n",
       "      <td>2.922855</td>\n",
       "      <td>0.071087</td>\n",
       "      <td>0.156257</td>\n",
       "      <td>0.021393</td>\n",
       "      <td>465</td>\n",
       "      <td>5</td>\n",
       "      <td>{'randomforestclassifier__n_estimators': 465, ...</td>\n",
       "      <td>0.000000</td>\n",
       "      <td>0.000000</td>\n",
       "      <td>0.000000</td>\n",
       "      <td>0.000000</td>\n",
       "      <td>0.000000</td>\n",
       "      <td>0.000000</td>\n",
       "      <td>0.000000</td>\n",
       "      <td>6</td>\n",
       "    </tr>\n",
       "    <tr>\n",
       "      <th>7</th>\n",
       "      <td>7.562625</td>\n",
       "      <td>0.090873</td>\n",
       "      <td>0.434218</td>\n",
       "      <td>0.008798</td>\n",
       "      <td>1735</td>\n",
       "      <td>2</td>\n",
       "      <td>{'randomforestclassifier__n_estimators': 1735,...</td>\n",
       "      <td>0.000000</td>\n",
       "      <td>0.000000</td>\n",
       "      <td>0.000000</td>\n",
       "      <td>0.000000</td>\n",
       "      <td>0.000000</td>\n",
       "      <td>0.000000</td>\n",
       "      <td>0.000000</td>\n",
       "      <td>6</td>\n",
       "    </tr>\n",
       "    <tr>\n",
       "      <th>8</th>\n",
       "      <td>3.385971</td>\n",
       "      <td>0.098858</td>\n",
       "      <td>0.194454</td>\n",
       "      <td>0.032681</td>\n",
       "      <td>819</td>\n",
       "      <td>2</td>\n",
       "      <td>{'randomforestclassifier__n_estimators': 819, ...</td>\n",
       "      <td>0.000000</td>\n",
       "      <td>0.000000</td>\n",
       "      <td>0.000000</td>\n",
       "      <td>0.000000</td>\n",
       "      <td>0.000000</td>\n",
       "      <td>0.000000</td>\n",
       "      <td>0.000000</td>\n",
       "      <td>6</td>\n",
       "    </tr>\n",
       "    <tr>\n",
       "      <th>9</th>\n",
       "      <td>2.118760</td>\n",
       "      <td>0.051734</td>\n",
       "      <td>0.094521</td>\n",
       "      <td>0.008321</td>\n",
       "      <td>533</td>\n",
       "      <td>3</td>\n",
       "      <td>{'randomforestclassifier__n_estimators': 533, ...</td>\n",
       "      <td>0.000000</td>\n",
       "      <td>0.000000</td>\n",
       "      <td>0.000000</td>\n",
       "      <td>0.000000</td>\n",
       "      <td>0.000000</td>\n",
       "      <td>0.000000</td>\n",
       "      <td>0.000000</td>\n",
       "      <td>6</td>\n",
       "    </tr>\n",
       "  </tbody>\n",
       "</table>\n",
       "</div>"
      ],
      "text/plain": [
       "   mean_fit_time  std_fit_time  mean_score_time  std_score_time  \\\n",
       "5       6.676574      0.494606         0.360505        0.108034   \n",
       "0       2.309790      0.085612         0.106948        0.008940   \n",
       "4      13.082430      0.267924         0.713468        0.101567   \n",
       "6       4.635134      0.134347         0.238203        0.058156   \n",
       "2      11.522877      0.030594         0.520742        0.017121   \n",
       "1       3.885598      0.008139         0.230907        0.009363   \n",
       "3       2.922855      0.071087         0.156257        0.021393   \n",
       "7       7.562625      0.090873         0.434218        0.008798   \n",
       "8       3.385971      0.098858         0.194454        0.032681   \n",
       "9       2.118760      0.051734         0.094521        0.008321   \n",
       "\n",
       "  param_randomforestclassifier__n_estimators  \\\n",
       "5                                        562   \n",
       "0                                        245   \n",
       "4                                       1300   \n",
       "6                                        473   \n",
       "2                                       1584   \n",
       "1                                        910   \n",
       "3                                        465   \n",
       "7                                       1735   \n",
       "8                                        819   \n",
       "9                                        533   \n",
       "\n",
       "  param_randomforestclassifier__max_depth  \\\n",
       "5                                      13   \n",
       "0                                      10   \n",
       "4                                      10   \n",
       "6                                      10   \n",
       "2                                       7   \n",
       "1                                       2   \n",
       "3                                       5   \n",
       "7                                       2   \n",
       "8                                       2   \n",
       "9                                       3   \n",
       "\n",
       "                                              params  split0_test_score  \\\n",
       "5  {'randomforestclassifier__n_estimators': 562, ...           0.071429   \n",
       "0  {'randomforestclassifier__n_estimators': 245, ...           0.047619   \n",
       "4  {'randomforestclassifier__n_estimators': 1300,...           0.047619   \n",
       "6  {'randomforestclassifier__n_estimators': 473, ...           0.047619   \n",
       "2  {'randomforestclassifier__n_estimators': 1584,...           0.011905   \n",
       "1  {'randomforestclassifier__n_estimators': 910, ...           0.000000   \n",
       "3  {'randomforestclassifier__n_estimators': 465, ...           0.000000   \n",
       "7  {'randomforestclassifier__n_estimators': 1735,...           0.000000   \n",
       "8  {'randomforestclassifier__n_estimators': 819, ...           0.000000   \n",
       "9  {'randomforestclassifier__n_estimators': 533, ...           0.000000   \n",
       "\n",
       "   split1_test_score  split2_test_score  split3_test_score  split4_test_score  \\\n",
       "5           0.095238           0.072289           0.036145           0.084337   \n",
       "0           0.047619           0.024096           0.012048           0.060241   \n",
       "4           0.047619           0.024096           0.012048           0.060241   \n",
       "6           0.035714           0.036145           0.012048           0.048193   \n",
       "2           0.000000           0.012048           0.000000           0.000000   \n",
       "1           0.000000           0.000000           0.000000           0.000000   \n",
       "3           0.000000           0.000000           0.000000           0.000000   \n",
       "7           0.000000           0.000000           0.000000           0.000000   \n",
       "8           0.000000           0.000000           0.000000           0.000000   \n",
       "9           0.000000           0.000000           0.000000           0.000000   \n",
       "\n",
       "   mean_test_score  std_test_score  rank_test_score  \n",
       "5         0.071888        0.019891                1  \n",
       "0         0.038325        0.017584                2  \n",
       "4         0.038325        0.017584                2  \n",
       "6         0.035944        0.013095                4  \n",
       "2         0.004791        0.005867                5  \n",
       "1         0.000000        0.000000                6  \n",
       "3         0.000000        0.000000                6  \n",
       "7         0.000000        0.000000                6  \n",
       "8         0.000000        0.000000                6  \n",
       "9         0.000000        0.000000                6  "
      ]
     },
     "execution_count": 12,
     "metadata": {},
     "output_type": "execute_result"
    }
   ],
   "source": [
    "rf_res.sort_values('mean_test_score',axis=0, ascending=False)"
   ]
  },
  {
   "cell_type": "code",
   "execution_count": 13,
   "metadata": {},
   "outputs": [
    {
     "data": {
      "text/plain": [
       "0.0718875502008032"
      ]
     },
     "execution_count": 13,
     "metadata": {},
     "output_type": "execute_result"
    }
   ],
   "source": [
    "rf_rand.best_score_"
   ]
  },
  {
   "cell_type": "code",
   "execution_count": 14,
   "metadata": {},
   "outputs": [
    {
     "data": {
      "image/png": "[encoded data removed]",
      "text/plain": [
       "<Figure size 432x288 with 1 Axes>"
      ]
     },
     "metadata": {},
     "output_type": "display_data"
    }
   ],
   "source": [
    "from sklearn.metrics import precision_recall_curve\n",
    "\n",
    "def pr_curve(e,x,y):\n",
    "    \"\"\"e is estimator, x is data and y is true value\"\"\"\n",
    "\n",
    "    #predicting from model\n",
    "    y_pred_rf = e.predict_proba(x)\n",
    "\n",
    "    #finding curve\n",
    "    p, r, t = precision_recall_curve(y.to_numpy(),y_pred_rf[:,1])\n",
    "    sns.lineplot(x=p,y=r)\n",
    "    plt.xlabel('Precision')\n",
    "    plt.ylabel('Recall')\n",
    "    return pd.DataFrame({'precision':p[:-1],'recall':r[:-1],'threshold':t})\n",
    "\n",
    "    \n",
    "c = pr_curve(rf_rand.best_estimator_,X_train,y_train)"
   ]
  },
  {
   "cell_type": "code",
   "execution_count": 15,
   "metadata": {},
   "outputs": [
    {
     "data": {
      "text/html": [
       "<div>\n",
       "<style scoped>\n",
       "    .dataframe tbody tr th:only-of-type {\n",
       "        vertical-align: middle;\n",
       "    }\n",
       "\n",
       "    .dataframe tbody tr th {\n",
       "        vertical-align: top;\n",
       "    }\n",
       "\n",
       "    .dataframe thead th {\n",
       "        text-align: right;\n",
       "    }\n",
       "</style>\n",
       "<table border=\"1\" class=\"dataframe\">\n",
       "  <thead>\n",
       "    <tr style=\"text-align: right;\">\n",
       "      <th></th>\n",
       "      <th>precision</th>\n",
       "      <th>recall</th>\n",
       "      <th>threshold</th>\n",
       "      <th>sum</th>\n",
       "    </tr>\n",
       "  </thead>\n",
       "  <tbody>\n",
       "    <tr>\n",
       "      <th>1053</th>\n",
       "      <td>0.710794</td>\n",
       "      <td>0.83693</td>\n",
       "      <td>0.244112</td>\n",
       "      <td>1.547725</td>\n",
       "    </tr>\n",
       "  </tbody>\n",
       "</table>\n",
       "</div>"
      ],
      "text/plain": [
       "      precision   recall  threshold       sum\n",
       "1053   0.710794  0.83693   0.244112  1.547725"
      ]
     },
     "execution_count": 15,
     "metadata": {},
     "output_type": "execute_result"
    }
   ],
   "source": [
    "c['sum'] = c['precision'] + c['recall']\n",
    "c[c['sum'] == c['sum'].max()]"
   ]
  },
  {
   "cell_type": "markdown",
   "metadata": {},
   "source": [
    "***Comparing to test set***"
   ]
  },
  {
   "cell_type": "code",
   "execution_count": 16,
   "metadata": {},
   "outputs": [
    {
     "name": "stdout",
     "output_type": "stream",
     "text": [
      "Evaluating the classifier on the test set, the recall is: 0.261, and the precision is: 0.246\n"
     ]
    }
   ],
   "source": [
    "from sklearn.metrics import recall_score\n",
    "from sklearn.metrics import precision_score\n",
    "\n",
    "def test_comp(e,t):\n",
    "    #predicting probability from test set\n",
    "    y_pred = e.predict_proba(X_test)[:,1]\n",
    "    #deciding membership\n",
    "    y_pred = (y_pred >= t).astype('int')\n",
    "    \n",
    "    r = np.round(recall_score(y_test,y_pred),3)\n",
    "    p = np.round(precision_score(y_test,y_pred),3)\n",
    "    print('Evaluating the classifier on the test set, the recall is: ' +  \n",
    "          '{}, and the precision is: {}'.format(r,p))\n",
    "\n",
    "test_comp(rf_rand.best_estimator_,0.247047)"
   ]
  },
  {
   "cell_type": "markdown",
   "metadata": {},
   "source": [
    "<h3>Random Forest first results</h3>\n",
    "\n",
    "As I thought, the classifier was overfit. I will re-run with a much lower max depth. "
   ]
  },
  {
   "cell_type": "code",
   "execution_count": 17,
   "metadata": {},
   "outputs": [
    {
     "data": {
      "text/plain": [
       "RandomizedSearchCV(cv=5,\n",
       "                   estimator=Pipeline(steps=[('simpleimputer',\n",
       "                                              SimpleImputer(strategy='median')),\n",
       "                                             ('standardscaler',\n",
       "                                              StandardScaler()),\n",
       "                                             ('randomforestclassifier',\n",
       "                                              RandomForestClassifier())]),\n",
       "                   n_jobs=-1,\n",
       "                   param_distributions={'randomforestclassifier__max_depth': array([1, 2, 3, 4]),\n",
       "                                        'randomforestclassifier__n_estimators': array([  50,   51,   52, ..., 1997, 1998, 1999])},\n",
       "                   random_state=42, scoring='recall')"
      ]
     },
     "execution_count": 17,
     "metadata": {},
     "output_type": "execute_result"
    }
   ],
   "source": [
    "params = {'randomforestclassifier__n_estimators': np.arange(50,2000),\n",
    "         'randomforestclassifier__max_depth' :  np.arange(1,5)}\n",
    "\n",
    "rf_rand = RandomizedSearchCV(pipe,param_distributions=params,cv=5, n_jobs=-1, scoring = 'recall',n_iter=10,\n",
    "                            random_state = 42)\n",
    "rf_rand.fit(X_train,y_train)"
   ]
  },
  {
   "cell_type": "code",
   "execution_count": 18,
   "metadata": {},
   "outputs": [
    {
     "data": {
      "text/html": [
       "<div>\n",
       "<style scoped>\n",
       "    .dataframe tbody tr th:only-of-type {\n",
       "        vertical-align: middle;\n",
       "    }\n",
       "\n",
       "    .dataframe tbody tr th {\n",
       "        vertical-align: top;\n",
       "    }\n",
       "\n",
       "    .dataframe thead th {\n",
       "        text-align: right;\n",
       "    }\n",
       "</style>\n",
       "<table border=\"1\" class=\"dataframe\">\n",
       "  <thead>\n",
       "    <tr style=\"text-align: right;\">\n",
       "      <th></th>\n",
       "      <th>precision</th>\n",
       "      <th>recall</th>\n",
       "      <th>threshold</th>\n",
       "      <th>sum</th>\n",
       "    </tr>\n",
       "  </thead>\n",
       "  <tbody>\n",
       "    <tr>\n",
       "      <th>0</th>\n",
       "      <td>0.065177</td>\n",
       "      <td>1.0</td>\n",
       "      <td>0.023372</td>\n",
       "      <td>1.065177</td>\n",
       "    </tr>\n",
       "  </tbody>\n",
       "</table>\n",
       "</div>"
      ],
      "text/plain": [
       "   precision  recall  threshold       sum\n",
       "0   0.065177     1.0   0.023372  1.065177"
      ]
     },
     "execution_count": 18,
     "metadata": {},
     "output_type": "execute_result"
    },
    {
     "data": {
      "image/png": "[encoded data removed]",
      "text/plain": [
       "<Figure size 432x288 with 1 Axes>"
      ]
     },
     "metadata": {},
     "output_type": "display_data"
    }
   ],
   "source": [
    "c = pr_curve(rf_rand.best_estimator_,X_train,y_train)\n",
    "c['sum'] = c['precision'] + c['recall']\n",
    "c[c['sum'] == c['sum'].max()]"
   ]
  },
  {
   "cell_type": "code",
   "execution_count": 19,
   "metadata": {},
   "outputs": [
    {
     "data": {
      "text/plain": [
       "0.06377613367189537"
      ]
     },
     "execution_count": 19,
     "metadata": {},
     "output_type": "execute_result"
    }
   ],
   "source": [
    "c[np.round(c.recall,2) == 0.8].threshold.mean()"
   ]
  },
  {
   "cell_type": "code",
   "execution_count": 20,
   "metadata": {},
   "outputs": [
    {
     "data": {
      "text/plain": [
       "{'randomforestclassifier__n_estimators': 1470,\n",
       " 'randomforestclassifier__max_depth': 4}"
      ]
     },
     "execution_count": 20,
     "metadata": {},
     "output_type": "execute_result"
    }
   ],
   "source": [
    "rf_rand.best_params_"
   ]
  },
  {
   "cell_type": "code",
   "execution_count": 21,
   "metadata": {},
   "outputs": [
    {
     "name": "stdout",
     "output_type": "stream",
     "text": [
      "Evaluating the classifier on the test set, the recall is: 0.724, and the precision is: 0.135\n"
     ]
    }
   ],
   "source": [
    "test_comp(rf_rand.best_estimator_,0.06226)"
   ]
  },
  {
   "cell_type": "markdown",
   "metadata": {},
   "source": [
    "<h3>Random Forest second results</h3>\n",
    "\n",
    "This classifier generalizes considerably better. The recall is good on the test set and the precision is acceptable.\n",
    "\n",
    "I will see if with PCA I can improve the results. My intution says that there are too many factors."
   ]
  },
  {
   "cell_type": "markdown",
   "metadata": {},
   "source": [
    "<h3>Random Forest with PCA</h3>"
   ]
  },
  {
   "cell_type": "code",
   "execution_count": 22,
   "metadata": {},
   "outputs": [],
   "source": [
    "from sklearn.decomposition import PCA"
   ]
  },
  {
   "cell_type": "code",
   "execution_count": 23,
   "metadata": {},
   "outputs": [],
   "source": [
    "pipe_PCA = make_pipeline( \n",
    "    SimpleImputer(strategy='median'),\n",
    "    StandardScaler(),\n",
    "    PCA(),\n",
    "    RandomForestClassifier()\n",
    ")"
   ]
  },
  {
   "cell_type": "code",
   "execution_count": 24,
   "metadata": {},
   "outputs": [],
   "source": [
    "params = {'randomforestclassifier__n_estimators': np.arange(200,2000),\n",
    "         'randomforestclassifier__max_depth' :  np.arange(1,5),\n",
    "          'pca__n_components' : np.arange(5,75)}\n",
    "\n",
    "#starting with few iterations, and narrowing the ranges afterwards\n",
    "rf_rand_PCA = RandomizedSearchCV(pipe_PCA,param_distributions=params,cv=5,n_jobs=-1,\n",
    "                                 scoring = 'recall',n_iter=10,random_state = 42, verbose =10)"
   ]
  },
  {
   "cell_type": "code",
   "execution_count": 25,
   "metadata": {
    "scrolled": true
   },
   "outputs": [
    {
     "name": "stdout",
     "output_type": "stream",
     "text": [
      "Fitting 5 folds for each of 10 candidates, totalling 50 fits\n"
     ]
    },
    {
     "name": "stderr",
     "output_type": "stream",
     "text": [
      "[Parallel(n_jobs=-1)]: Using backend LokyBackend with 8 concurrent workers.\n",
      "[Parallel(n_jobs=-1)]: Done   2 tasks      | elapsed:   14.0s\n",
      "[Parallel(n_jobs=-1)]: Done   9 tasks      | elapsed:   23.8s\n",
      "[Parallel(n_jobs=-1)]: Done  16 tasks      | elapsed:   38.9s\n",
      "[Parallel(n_jobs=-1)]: Done  25 tasks      | elapsed:  1.2min\n",
      "[Parallel(n_jobs=-1)]: Done  34 tasks      | elapsed:  1.3min\n",
      "[Parallel(n_jobs=-1)]: Done  41 out of  50 | elapsed:  1.6min remaining:   20.8s\n",
      "[Parallel(n_jobs=-1)]: Done  47 out of  50 | elapsed:  1.7min remaining:    6.3s\n",
      "[Parallel(n_jobs=-1)]: Done  50 out of  50 | elapsed:  1.7min finished\n"
     ]
    },
    {
     "data": {
      "text/plain": [
       "RandomizedSearchCV(cv=5,\n",
       "                   estimator=Pipeline(steps=[('simpleimputer',\n",
       "                                              SimpleImputer(strategy='median')),\n",
       "                                             ('standardscaler',\n",
       "                                              StandardScaler()),\n",
       "                                             ('pca', PCA()),\n",
       "                                             ('randomforestclassifier',\n",
       "                                              RandomForestClassifier())]),\n",
       "                   n_jobs=-1,\n",
       "                   param_distributions={'pca__n_components': array([ 5,  6,  7,  8,  9, 10, 11, 12, 13, 14, 15, 16, 17, 18, 19, 20, 21,\n",
       "       22, 23, 24, 25, 26, 27, 28, 29, 30, 31, 32, 33, 34, 35, 36, 37, 38,\n",
       "       39, 40, 41, 42, 43, 44, 45, 46, 47, 48, 49, 50, 51, 52, 53, 54, 55,\n",
       "       56, 57, 58, 59, 60, 61, 62, 63, 64, 65, 66, 67, 68, 69, 70, 71, 72,\n",
       "       73, 74]),\n",
       "                                        'randomforestclassifier__max_depth': array([1, 2, 3, 4]),\n",
       "                                        'randomforestclassifier__n_estimators': array([ 200,  201,  202, ..., 1997, 1998, 1999])},\n",
       "                   random_state=42, scoring='recall', verbose=10)"
      ]
     },
     "execution_count": 25,
     "metadata": {},
     "output_type": "execute_result"
    }
   ],
   "source": [
    "rf_rand_PCA.fit(X_train,y_train)"
   ]
  },
  {
   "cell_type": "code",
   "execution_count": 26,
   "metadata": {},
   "outputs": [
    {
     "data": {
      "text/plain": [
       "{'randomforestclassifier__n_estimators': 1558,\n",
       " 'randomforestclassifier__max_depth': 4,\n",
       " 'pca__n_components': 21}"
      ]
     },
     "execution_count": 26,
     "metadata": {},
     "output_type": "execute_result"
    }
   ],
   "source": [
    "rf_rand_PCA.best_params_"
   ]
  },
  {
   "cell_type": "code",
   "execution_count": 27,
   "metadata": {},
   "outputs": [
    {
     "data": {
      "text/plain": [
       "0.007200229489386116"
      ]
     },
     "execution_count": 27,
     "metadata": {},
     "output_type": "execute_result"
    }
   ],
   "source": [
    "rf_rand_PCA.best_score_"
   ]
  },
  {
   "cell_type": "code",
   "execution_count": 28,
   "metadata": {},
   "outputs": [
    {
     "data": {
      "text/html": [
       "<div>\n",
       "<style scoped>\n",
       "    .dataframe tbody tr th:only-of-type {\n",
       "        vertical-align: middle;\n",
       "    }\n",
       "\n",
       "    .dataframe tbody tr th {\n",
       "        vertical-align: top;\n",
       "    }\n",
       "\n",
       "    .dataframe thead th {\n",
       "        text-align: right;\n",
       "    }\n",
       "</style>\n",
       "<table border=\"1\" class=\"dataframe\">\n",
       "  <thead>\n",
       "    <tr style=\"text-align: right;\">\n",
       "      <th></th>\n",
       "      <th>precision</th>\n",
       "      <th>recall</th>\n",
       "      <th>threshold</th>\n",
       "      <th>sum</th>\n",
       "    </tr>\n",
       "  </thead>\n",
       "  <tbody>\n",
       "    <tr>\n",
       "      <th>1295</th>\n",
       "      <td>0.072075</td>\n",
       "      <td>0.992806</td>\n",
       "      <td>0.031227</td>\n",
       "      <td>1.064881</td>\n",
       "    </tr>\n",
       "  </tbody>\n",
       "</table>\n",
       "</div>"
      ],
      "text/plain": [
       "      precision    recall  threshold       sum\n",
       "1295   0.072075  0.992806   0.031227  1.064881"
      ]
     },
     "execution_count": 28,
     "metadata": {},
     "output_type": "execute_result"
    },
    {
     "data": {
      "image/png": "[encoded data removed]",
      "text/plain": [
       "<Figure size 432x288 with 1 Axes>"
      ]
     },
     "metadata": {},
     "output_type": "display_data"
    }
   ],
   "source": [
    "c = pr_curve(rf_rand_PCA.best_estimator_,X_train,y_train)\n",
    "c['sum'] = c['precision'] + c['recall']\n",
    "c[c['sum'] == c['sum'].max()]"
   ]
  },
  {
   "cell_type": "code",
   "execution_count": 29,
   "metadata": {},
   "outputs": [
    {
     "data": {
      "text/plain": [
       "0.05579574895557849"
      ]
     },
     "execution_count": 29,
     "metadata": {},
     "output_type": "execute_result"
    }
   ],
   "source": [
    "c[np.round(c.recall,2) == 0.8].threshold.mean()"
   ]
  },
  {
   "cell_type": "code",
   "execution_count": 30,
   "metadata": {},
   "outputs": [
    {
     "name": "stdout",
     "output_type": "stream",
     "text": [
      "Evaluating the classifier on the test set, the recall is: 0.769, and the precision is: 0.121\n"
     ]
    }
   ],
   "source": [
    "test_comp(rf_rand.best_estimator_,0.056)"
   ]
  },
  {
   "cell_type": "markdown",
   "metadata": {},
   "source": [
    "PCA looks to have little impact on the results of the random forest regressor. Due to the added complexity, I will not use PCA"
   ]
  },
  {
   "cell_type": "markdown",
   "metadata": {},
   "source": [
    "<h3>Random Forest Conclusions</h3>\n",
    "\n",
    "On the test test with a 5.6% threshold, 1470 estimators, max depth of 4, the classifier does okay. It yields roughly 76% recall and 12% precision. In more direct terms, roughly 8/10 WNV mosquitos will be correctly predicted as so, while about 1/10 predicted WNV will be accurate. This is over-cautious, appropriate for a public health setting, but with worse precision that I would hope."
   ]
  },
  {
   "cell_type": "markdown",
   "metadata": {},
   "source": [
    "<h2>Logistic Regression</h2>\n",
    "Logistic Regression might be the right classifier for this application. Given that I would like to maximize recall, adjusting the barrier could be a great way to do so. I will take a similar approach of random search over large variety with few iterations, and then narrow down and do more iterations."
   ]
  },
  {
   "cell_type": "code",
   "execution_count": 31,
   "metadata": {},
   "outputs": [],
   "source": [
    "from sklearn.linear_model import LogisticRegression"
   ]
  },
  {
   "cell_type": "code",
   "execution_count": 32,
   "metadata": {},
   "outputs": [],
   "source": [
    "pipe_lr = make_pipeline( \n",
    "    SimpleImputer(strategy='median'),\n",
    "    StandardScaler(),\n",
    "    LogisticRegression(max_iter=1000)\n",
    ")\n",
    "\n",
    "params = {'logisticregression__C': np.logspace(-2,6)}\n",
    "\n",
    "#starting with few iterations, and narrowing the ranges afterwards\n",
    "lr = RandomizedSearchCV(pipe_lr,param_distributions=params,cv=5, n_jobs=-1, verbose =10, \n",
    "                                 scoring = 'recall',n_iter=20,random_state = 42)\n"
   ]
  },
  {
   "cell_type": "code",
   "execution_count": 33,
   "metadata": {
    "scrolled": true
   },
   "outputs": [
    {
     "name": "stdout",
     "output_type": "stream",
     "text": [
      "Fitting 5 folds for each of 20 candidates, totalling 100 fits\n"
     ]
    },
    {
     "name": "stderr",
     "output_type": "stream",
     "text": [
      "[Parallel(n_jobs=-1)]: Using backend LokyBackend with 8 concurrent workers.\n",
      "[Parallel(n_jobs=-1)]: Done   2 tasks      | elapsed:    1.4s\n",
      "[Parallel(n_jobs=-1)]: Done   9 tasks      | elapsed:    7.3s\n",
      "[Parallel(n_jobs=-1)]: Done  16 tasks      | elapsed:   12.5s\n",
      "[Parallel(n_jobs=-1)]: Done  25 tasks      | elapsed:   16.1s\n",
      "[Parallel(n_jobs=-1)]: Done  34 tasks      | elapsed:   25.7s\n",
      "[Parallel(n_jobs=-1)]: Done  45 tasks      | elapsed:   31.0s\n",
      "[Parallel(n_jobs=-1)]: Done  56 tasks      | elapsed:   32.7s\n",
      "[Parallel(n_jobs=-1)]: Done  69 tasks      | elapsed:   34.9s\n",
      "[Parallel(n_jobs=-1)]: Done  82 tasks      | elapsed:   42.2s\n",
      "[Parallel(n_jobs=-1)]: Done  96 out of 100 | elapsed:   50.7s remaining:    2.1s\n",
      "[Parallel(n_jobs=-1)]: Done 100 out of 100 | elapsed:   50.9s finished\n"
     ]
    },
    {
     "data": {
      "text/plain": [
       "RandomizedSearchCV(cv=5,\n",
       "                   estimator=Pipeline(steps=[('simpleimputer',\n",
       "                                              SimpleImputer(strategy='median')),\n",
       "                                             ('standardscaler',\n",
       "                                              StandardScaler()),\n",
       "                                             ('logisticregression',\n",
       "                                              LogisticRegression(max_iter=1000))]),\n",
       "                   n_iter=20, n_jobs=-1,\n",
       "                   param_distributions={'logisticregression__C': array([1.00000000e-02, 1.45634848e-02, 2.12095089e-02, 3.08884360e-02,\n",
       "       4.49843267e-02, 6.55128...\n",
       "       3.72759372e+02, 5.42867544e+02, 7.90604321e+02, 1.15139540e+03,\n",
       "       1.67683294e+03, 2.44205309e+03, 3.55648031e+03, 5.17947468e+03,\n",
       "       7.54312006e+03, 1.09854114e+04, 1.59985872e+04, 2.32995181e+04,\n",
       "       3.39322177e+04, 4.94171336e+04, 7.19685673e+04, 1.04811313e+05,\n",
       "       1.52641797e+05, 2.22299648e+05, 3.23745754e+05, 4.71486636e+05,\n",
       "       6.86648845e+05, 1.00000000e+06])},\n",
       "                   random_state=42, scoring='recall', verbose=10)"
      ]
     },
     "execution_count": 33,
     "metadata": {},
     "output_type": "execute_result"
    }
   ],
   "source": [
    "lr.fit(X,y)"
   ]
  },
  {
   "cell_type": "code",
   "execution_count": 34,
   "metadata": {},
   "outputs": [
    {
     "data": {
      "text/plain": [
       "{'logisticregression__C': 23299.51810515367}"
      ]
     },
     "execution_count": 34,
     "metadata": {},
     "output_type": "execute_result"
    }
   ],
   "source": [
    "lr.best_params_"
   ]
  },
  {
   "cell_type": "code",
   "execution_count": 35,
   "metadata": {},
   "outputs": [
    {
     "data": {
      "text/plain": [
       "0.1484848484848485"
      ]
     },
     "execution_count": 35,
     "metadata": {},
     "output_type": "execute_result"
    }
   ],
   "source": [
    "lr.best_score_"
   ]
  },
  {
   "cell_type": "markdown",
   "metadata": {},
   "source": [
    "<h3>Precision Recall Curve - Logistic Regression</h3>\n"
   ]
  },
  {
   "cell_type": "code",
   "execution_count": 36,
   "metadata": {},
   "outputs": [
    {
     "data": {
      "image/png": "[encoded data removed]",
      "text/plain": [
       "<Figure size 432x288 with 1 Axes>"
      ]
     },
     "metadata": {},
     "output_type": "display_data"
    }
   ],
   "source": [
    "c = pr_curve(lr.best_estimator_,X_train,y_train)"
   ]
  },
  {
   "cell_type": "code",
   "execution_count": 37,
   "metadata": {},
   "outputs": [
    {
     "data": {
      "text/html": [
       "<div>\n",
       "<style scoped>\n",
       "    .dataframe tbody tr th:only-of-type {\n",
       "        vertical-align: middle;\n",
       "    }\n",
       "\n",
       "    .dataframe tbody tr th {\n",
       "        vertical-align: top;\n",
       "    }\n",
       "\n",
       "    .dataframe thead th {\n",
       "        text-align: right;\n",
       "    }\n",
       "</style>\n",
       "<table border=\"1\" class=\"dataframe\">\n",
       "  <thead>\n",
       "    <tr style=\"text-align: right;\">\n",
       "      <th></th>\n",
       "      <th>precision</th>\n",
       "      <th>recall</th>\n",
       "      <th>threshold</th>\n",
       "      <th>sum</th>\n",
       "    </tr>\n",
       "  </thead>\n",
       "  <tbody>\n",
       "    <tr>\n",
       "      <th>0</th>\n",
       "      <td>0.065228</td>\n",
       "      <td>1.0</td>\n",
       "      <td>0.000725</td>\n",
       "      <td>1.065228</td>\n",
       "    </tr>\n",
       "  </tbody>\n",
       "</table>\n",
       "</div>"
      ],
      "text/plain": [
       "   precision  recall  threshold       sum\n",
       "0   0.065228     1.0   0.000725  1.065228"
      ]
     },
     "execution_count": 37,
     "metadata": {},
     "output_type": "execute_result"
    }
   ],
   "source": [
    "c['sum'] = c['precision'] + c['recall']\n",
    "c[c['sum'] == c['sum'].max()]"
   ]
  },
  {
   "cell_type": "code",
   "execution_count": 38,
   "metadata": {},
   "outputs": [
    {
     "data": {
      "text/plain": [
       "0.06518273564977835"
      ]
     },
     "execution_count": 38,
     "metadata": {},
     "output_type": "execute_result"
    }
   ],
   "source": [
    "c[np.round(c.recall,2) == 0.8].threshold.mean()"
   ]
  },
  {
   "cell_type": "markdown",
   "metadata": {},
   "source": [
    "<h3>Evaluating with test set</h3>"
   ]
  },
  {
   "cell_type": "code",
   "execution_count": 39,
   "metadata": {},
   "outputs": [
    {
     "name": "stdout",
     "output_type": "stream",
     "text": [
      "Evaluating the classifier on the test set, the recall is: 0.739, and the precision is: 0.146\n"
     ]
    }
   ],
   "source": [
    "test_comp(lr.best_estimator_,0.0654)"
   ]
  },
  {
   "cell_type": "markdown",
   "metadata": {},
   "source": [
    "<h3>Logistic Regression Conclusions</h3>\n",
    "\n",
    "The logistic regression results were similar to the random forest results. Both have easy probabilistic interpretations, so I lean more to the random forest classifier, which I'm more comfortable tuning."
   ]
  },
  {
   "cell_type": "markdown",
   "metadata": {},
   "source": [
    "<h2>KNN </h2>\n",
    "\n",
    "I don't expect KNN to give better results due to the high-dimensionality of the feature space. PCA will certainly be necessary here."
   ]
  },
  {
   "cell_type": "code",
   "execution_count": 68,
   "metadata": {},
   "outputs": [
    {
     "name": "stdout",
     "output_type": "stream",
     "text": [
      "Fitting 5 folds for each of 200 candidates, totalling 1000 fits\n"
     ]
    },
    {
     "name": "stderr",
     "output_type": "stream",
     "text": [
      "[Parallel(n_jobs=-1)]: Using backend LokyBackend with 8 concurrent workers.\n",
      "[Parallel(n_jobs=-1)]: Done   2 tasks      | elapsed:    1.8s\n",
      "[Parallel(n_jobs=-1)]: Done   9 tasks      | elapsed:    2.4s\n",
      "[Parallel(n_jobs=-1)]: Done  16 tasks      | elapsed:    3.8s\n",
      "[Parallel(n_jobs=-1)]: Done  25 tasks      | elapsed:    5.5s\n",
      "[Parallel(n_jobs=-1)]: Done  34 tasks      | elapsed:    8.1s\n",
      "[Parallel(n_jobs=-1)]: Done  45 tasks      | elapsed:   10.3s\n",
      "[Parallel(n_jobs=-1)]: Done  56 tasks      | elapsed:   12.0s\n",
      "[Parallel(n_jobs=-1)]: Done  69 tasks      | elapsed:   13.2s\n",
      "[Parallel(n_jobs=-1)]: Done  82 tasks      | elapsed:   16.2s\n",
      "[Parallel(n_jobs=-1)]: Done  97 tasks      | elapsed:   19.7s\n",
      "[Parallel(n_jobs=-1)]: Done 112 tasks      | elapsed:   22.1s\n",
      "[Parallel(n_jobs=-1)]: Done 129 tasks      | elapsed:   24.9s\n",
      "[Parallel(n_jobs=-1)]: Done 146 tasks      | elapsed:   27.6s\n",
      "[Parallel(n_jobs=-1)]: Done 165 tasks      | elapsed:   29.7s\n",
      "[Parallel(n_jobs=-1)]: Done 184 tasks      | elapsed:   32.2s\n",
      "[Parallel(n_jobs=-1)]: Done 205 tasks      | elapsed:   38.1s\n",
      "[Parallel(n_jobs=-1)]: Done 226 tasks      | elapsed:   40.9s\n",
      "[Parallel(n_jobs=-1)]: Done 249 tasks      | elapsed:   45.5s\n",
      "[Parallel(n_jobs=-1)]: Done 272 tasks      | elapsed:   49.3s\n",
      "[Parallel(n_jobs=-1)]: Done 297 tasks      | elapsed:   53.6s\n",
      "[Parallel(n_jobs=-1)]: Done 322 tasks      | elapsed:   58.8s\n",
      "[Parallel(n_jobs=-1)]: Done 349 tasks      | elapsed:  1.0min\n",
      "[Parallel(n_jobs=-1)]: Done 376 tasks      | elapsed:  1.1min\n",
      "[Parallel(n_jobs=-1)]: Done 405 tasks      | elapsed:  1.3min\n",
      "[Parallel(n_jobs=-1)]: Done 434 tasks      | elapsed:  1.4min\n",
      "[Parallel(n_jobs=-1)]: Done 465 tasks      | elapsed:  1.4min\n",
      "[Parallel(n_jobs=-1)]: Done 496 tasks      | elapsed:  1.5min\n",
      "[Parallel(n_jobs=-1)]: Done 529 tasks      | elapsed:  1.6min\n",
      "[Parallel(n_jobs=-1)]: Done 562 tasks      | elapsed:  1.7min\n",
      "[Parallel(n_jobs=-1)]: Done 597 tasks      | elapsed:  1.8min\n",
      "[Parallel(n_jobs=-1)]: Done 632 tasks      | elapsed:  1.9min\n",
      "[Parallel(n_jobs=-1)]: Done 669 tasks      | elapsed:  2.1min\n",
      "[Parallel(n_jobs=-1)]: Done 706 tasks      | elapsed:  2.2min\n",
      "[Parallel(n_jobs=-1)]: Done 745 tasks      | elapsed:  2.3min\n",
      "[Parallel(n_jobs=-1)]: Done 784 tasks      | elapsed:  2.4min\n",
      "[Parallel(n_jobs=-1)]: Done 825 tasks      | elapsed:  2.6min\n",
      "[Parallel(n_jobs=-1)]: Done 866 tasks      | elapsed:  2.7min\n",
      "[Parallel(n_jobs=-1)]: Done 909 tasks      | elapsed:  2.9min\n",
      "[Parallel(n_jobs=-1)]: Done 952 tasks      | elapsed:  3.0min\n",
      "[Parallel(n_jobs=-1)]: Done 1000 out of 1000 | elapsed:  3.2min finished\n"
     ]
    },
    {
     "data": {
      "text/plain": [
       "RandomizedSearchCV(cv=5,\n",
       "                   estimator=Pipeline(steps=[('simpleimputer',\n",
       "                                              SimpleImputer(strategy='median')),\n",
       "                                             ('standardscaler',\n",
       "                                              StandardScaler()),\n",
       "                                             ('pca', PCA()),\n",
       "                                             ('kneighborsclassifier',\n",
       "                                              KNeighborsClassifier(weights='distance'))]),\n",
       "                   n_iter=200, n_jobs=-1,\n",
       "                   param_distributions={'kneighborsclassifier__n_neighbors': array([  1,   2,   3,   4,   5,   6,   7,   8,   9,  10,  11,  12,  13,\n",
       "        14,  15,  16,  17,  18,  1...\n",
       "       157, 158, 159, 160, 161, 162, 163, 164, 165, 166, 167, 168, 169,\n",
       "       170, 171, 172, 173, 174, 175, 176, 177, 178, 179, 180, 181, 182,\n",
       "       183, 184, 185, 186, 187, 188, 189, 190, 191, 192, 193, 194, 195,\n",
       "       196, 197, 198, 199]),\n",
       "                                        'pca__n_components': array([10, 11, 12, 13, 14, 15, 16, 17, 18, 19, 20, 21, 22, 23, 24, 25, 26,\n",
       "       27, 28, 29, 30, 31, 32, 33, 34, 35, 36, 37, 38, 39, 40, 41, 42, 43,\n",
       "       44, 45, 46, 47, 48, 49, 50, 51, 52, 53, 54])},\n",
       "                   random_state=42, scoring='recall', verbose=10)"
      ]
     },
     "execution_count": 68,
     "metadata": {},
     "output_type": "execute_result"
    }
   ],
   "source": [
    "from sklearn.neighbors import KNeighborsClassifier\n",
    "\n",
    "pipe_knn = make_pipeline( \n",
    "    SimpleImputer(strategy='median'),\n",
    "    StandardScaler(),\n",
    "    PCA(),\n",
    "    KNeighborsClassifier(weights='distance')\n",
    ")\n",
    "\n",
    "params = {'pca__n_components' : np.arange(10,55),\n",
    "          'kneighborsclassifier__n_neighbors': np.arange(1,200)}\n",
    "    \n",
    "\n",
    "#starting with few iterations, and narrowing the ranges afterwards\n",
    "knn = RandomizedSearchCV(pipe_knn,param_distributions=params,cv=5, n_jobs=-1, verbose =10, \n",
    "                                 scoring = 'recall',n_iter=200,random_state = 42)\n",
    "\n",
    "knn.fit(X_train,y_train)"
   ]
  },
  {
   "cell_type": "code",
   "execution_count": 69,
   "metadata": {},
   "outputs": [
    {
     "data": {
      "text/plain": [
       "{'pca__n_components': 51, 'kneighborsclassifier__n_neighbors': 3}"
      ]
     },
     "execution_count": 69,
     "metadata": {},
     "output_type": "execute_result"
    }
   ],
   "source": [
    "knn.best_params_"
   ]
  },
  {
   "cell_type": "code",
   "execution_count": 70,
   "metadata": {},
   "outputs": [
    {
     "data": {
      "text/plain": [
       "0.12231784279977051"
      ]
     },
     "execution_count": 70,
     "metadata": {},
     "output_type": "execute_result"
    }
   ],
   "source": [
    "knn.best_score_"
   ]
  },
  {
   "cell_type": "code",
   "execution_count": 71,
   "metadata": {},
   "outputs": [
    {
     "data": {
      "image/png": "[encoded data removed]",
      "text/plain": [
       "<Figure size 432x288 with 1 Axes>"
      ]
     },
     "metadata": {},
     "output_type": "display_data"
    }
   ],
   "source": [
    "c = pr_curve(knn.best_estimator_,X_train,y_train)"
   ]
  },
  {
   "cell_type": "code",
   "execution_count": 72,
   "metadata": {},
   "outputs": [
    {
     "data": {
      "text/html": [
       "<div>\n",
       "<style scoped>\n",
       "    .dataframe tbody tr th:only-of-type {\n",
       "        vertical-align: middle;\n",
       "    }\n",
       "\n",
       "    .dataframe tbody tr th {\n",
       "        vertical-align: top;\n",
       "    }\n",
       "\n",
       "    .dataframe thead th {\n",
       "        text-align: right;\n",
       "    }\n",
       "</style>\n",
       "<table border=\"1\" class=\"dataframe\">\n",
       "  <thead>\n",
       "    <tr style=\"text-align: right;\">\n",
       "      <th></th>\n",
       "      <th>precision</th>\n",
       "      <th>recall</th>\n",
       "      <th>threshold</th>\n",
       "      <th>sum</th>\n",
       "    </tr>\n",
       "  </thead>\n",
       "  <tbody>\n",
       "    <tr>\n",
       "      <th>455</th>\n",
       "      <td>0.945205</td>\n",
       "      <td>0.661871</td>\n",
       "      <td>0.666667</td>\n",
       "      <td>1.607076</td>\n",
       "    </tr>\n",
       "  </tbody>\n",
       "</table>\n",
       "</div>"
      ],
      "text/plain": [
       "     precision    recall  threshold       sum\n",
       "455   0.945205  0.661871   0.666667  1.607076"
      ]
     },
     "execution_count": 72,
     "metadata": {},
     "output_type": "execute_result"
    }
   ],
   "source": [
    "c['sum'] = c['precision'] + c['recall']\n",
    "c[c['sum'] == c['sum'].max()]"
   ]
  },
  {
   "cell_type": "code",
   "execution_count": 73,
   "metadata": {},
   "outputs": [
    {
     "data": {
      "text/plain": [
       "0.33333333333333337"
      ]
     },
     "execution_count": 73,
     "metadata": {},
     "output_type": "execute_result"
    }
   ],
   "source": [
    "c[np.round(c.recall,2) == 0.85].threshold.mean()"
   ]
  },
  {
   "cell_type": "markdown",
   "metadata": {},
   "source": [
    "<h3>Evaluating with test set</h3>"
   ]
  },
  {
   "cell_type": "code",
   "execution_count": 74,
   "metadata": {},
   "outputs": [
    {
     "name": "stdout",
     "output_type": "stream",
     "text": [
      "Evaluating the classifier on the test set, the recall is: 0.328, and the precision is: 0.2\n"
     ]
    }
   ],
   "source": [
    "test_comp(knn.best_estimator_,0.33)"
   ]
  },
  {
   "cell_type": "markdown",
   "metadata": {},
   "source": [
    "<h3>KNN Conclusions</h3>\n",
    "\n",
    "I could tune KNN's performances on the train set to do quite well -- peaking at 18% recall. The model generalizes poorly, so I will not be using it. "
   ]
  },
  {
   "cell_type": "markdown",
   "metadata": {},
   "source": [
    "<h2>SVC</h2>\n",
    "\n",
    "SVC is supposedly good in high dimension data, and the set I have is relatively high dimension. "
   ]
  },
  {
   "cell_type": "code",
   "execution_count": 77,
   "metadata": {},
   "outputs": [
    {
     "name": "stdout",
     "output_type": "stream",
     "text": [
      "Fitting 5 folds for each of 10 candidates, totalling 50 fits\n"
     ]
    },
    {
     "name": "stderr",
     "output_type": "stream",
     "text": [
      "[Parallel(n_jobs=-1)]: Using backend LokyBackend with 8 concurrent workers.\n",
      "[Parallel(n_jobs=-1)]: Done   2 tasks      | elapsed:    8.5s\n",
      "[Parallel(n_jobs=-1)]: Done   9 tasks      | elapsed:   27.2s\n",
      "[Parallel(n_jobs=-1)]: Done  16 tasks      | elapsed:   39.0s\n",
      "[Parallel(n_jobs=-1)]: Done  25 tasks      | elapsed:  1.8min\n",
      "[Parallel(n_jobs=-1)]: Done  34 tasks      | elapsed:  2.3min\n",
      "[Parallel(n_jobs=-1)]: Done  41 out of  50 | elapsed:  2.8min remaining:   36.3s\n",
      "[Parallel(n_jobs=-1)]: Done  47 out of  50 | elapsed:  3.2min remaining:   12.4s\n",
      "[Parallel(n_jobs=-1)]: Done  50 out of  50 | elapsed:  4.3min finished\n"
     ]
    },
    {
     "data": {
      "text/plain": [
       "RandomizedSearchCV(cv=5,\n",
       "                   estimator=Pipeline(steps=[('simpleimputer',\n",
       "                                              SimpleImputer(strategy='median')),\n",
       "                                             ('standardscaler',\n",
       "                                              StandardScaler()),\n",
       "                                             ('svc', SVC(probability=True))]),\n",
       "                   n_jobs=-1,\n",
       "                   param_distributions={'svc__C': array([1.00000000e-05, 1.59985872e-05, 2.55954792e-05, 4.09491506e-05,\n",
       "       6.55128557e-05, 1.04811313e-04, 1.67683294e-04, 2.68269580e-04,\n",
       "       4.29193426e-04...\n",
       "       5.17947468e+00, 8.28642773e+00, 1.32571137e+01, 2.12095089e+01,\n",
       "       3.39322177e+01, 5.42867544e+01, 8.68511374e+01, 1.38949549e+02,\n",
       "       2.22299648e+02, 3.55648031e+02, 5.68986603e+02, 9.10298178e+02,\n",
       "       1.45634848e+03, 2.32995181e+03, 3.72759372e+03, 5.96362332e+03,\n",
       "       9.54095476e+03, 1.52641797e+04, 2.44205309e+04, 3.90693994e+04,\n",
       "       6.25055193e+04, 1.00000000e+05])},\n",
       "                   random_state=42, scoring='recall', verbose=10)"
      ]
     },
     "execution_count": 77,
     "metadata": {},
     "output_type": "execute_result"
    }
   ],
   "source": [
    "from sklearn.svm import SVC\n",
    "\n",
    "pipe_svc = make_pipeline( \n",
    "    SimpleImputer(strategy='median'),\n",
    "    StandardScaler(),\n",
    "    SVC(probability=True)\n",
    ")\n",
    "\n",
    "params = {'svc__C': np.logspace(-5,5)}\n",
    "    \n",
    "\n",
    "#starting with few iterations, and narrowing the ranges afterwards\n",
    "svc = RandomizedSearchCV(pipe_svc,param_distributions=params,cv=5, n_jobs=-1, verbose =10, \n",
    "                                 scoring = 'recall',n_iter=10,random_state = 42)\n",
    "\n",
    "svc.fit(X_train,y_train)"
   ]
  },
  {
   "cell_type": "code",
   "execution_count": 78,
   "metadata": {},
   "outputs": [
    {
     "data": {
      "text/plain": [
       "{'svc__C': 62505.51925273976}"
      ]
     },
     "execution_count": 78,
     "metadata": {},
     "output_type": "execute_result"
    }
   ],
   "source": [
    "svc.best_params_"
   ]
  },
  {
   "cell_type": "code",
   "execution_count": 79,
   "metadata": {},
   "outputs": [
    {
     "data": {
      "text/plain": [
       "0.10068846815834767"
      ]
     },
     "execution_count": 79,
     "metadata": {},
     "output_type": "execute_result"
    }
   ],
   "source": [
    "svc.best_score_"
   ]
  },
  {
   "cell_type": "code",
   "execution_count": 80,
   "metadata": {},
   "outputs": [
    {
     "data": {
      "image/png": "[encoded data removed]",
      "text/plain": [
       "<Figure size 432x288 with 1 Axes>"
      ]
     },
     "metadata": {},
     "output_type": "display_data"
    }
   ],
   "source": [
    "c = pr_curve(svc.best_estimator_,X_train,y_train)"
   ]
  },
  {
   "cell_type": "code",
   "execution_count": 81,
   "metadata": {},
   "outputs": [
    {
     "data": {
      "text/html": [
       "<div>\n",
       "<style scoped>\n",
       "    .dataframe tbody tr th:only-of-type {\n",
       "        vertical-align: middle;\n",
       "    }\n",
       "\n",
       "    .dataframe tbody tr th {\n",
       "        vertical-align: top;\n",
       "    }\n",
       "\n",
       "    .dataframe thead th {\n",
       "        text-align: right;\n",
       "    }\n",
       "</style>\n",
       "<table border=\"1\" class=\"dataframe\">\n",
       "  <thead>\n",
       "    <tr style=\"text-align: right;\">\n",
       "      <th></th>\n",
       "      <th>precision</th>\n",
       "      <th>recall</th>\n",
       "      <th>threshold</th>\n",
       "      <th>sum</th>\n",
       "    </tr>\n",
       "  </thead>\n",
       "  <tbody>\n",
       "    <tr>\n",
       "      <th>1541</th>\n",
       "      <td>0.68254</td>\n",
       "      <td>0.515588</td>\n",
       "      <td>0.102623</td>\n",
       "      <td>1.198127</td>\n",
       "    </tr>\n",
       "  </tbody>\n",
       "</table>\n",
       "</div>"
      ],
      "text/plain": [
       "      precision    recall  threshold       sum\n",
       "1541    0.68254  0.515588   0.102623  1.198127"
      ]
     },
     "execution_count": 81,
     "metadata": {},
     "output_type": "execute_result"
    }
   ],
   "source": [
    "c['sum'] = c['precision'] + c['recall']\n",
    "c[c['sum'] == c['sum'].max()]"
   ]
  },
  {
   "cell_type": "code",
   "execution_count": 82,
   "metadata": {},
   "outputs": [
    {
     "data": {
      "text/plain": [
       "0.10178891962497467"
      ]
     },
     "execution_count": 82,
     "metadata": {},
     "output_type": "execute_result"
    }
   ],
   "source": [
    "c[np.round(c.recall,2) == 0.85].threshold.mean()"
   ]
  },
  {
   "cell_type": "markdown",
   "metadata": {},
   "source": [
    "<h3>Evaluating with test set</h3>"
   ]
  },
  {
   "cell_type": "code",
   "execution_count": 83,
   "metadata": {},
   "outputs": [
    {
     "name": "stdout",
     "output_type": "stream",
     "text": [
      "Evaluating the classifier on the test set, the recall is: 0.56, and the precision is: 0.121\n"
     ]
    }
   ],
   "source": [
    "test_comp(svc.best_estimator_,0.1)"
   ]
  },
  {
   "cell_type": "markdown",
   "metadata": {},
   "source": [
    "<h3>SVC Conclusions</h3>\n",
    "\n",
    "Like KNN, SVC performed well on the test set, but generalized quite poorly. It's possible I could tune SVC to be better, but I'm not as familiar with its parameters."
   ]
  },
  {
   "cell_type": "markdown",
   "metadata": {},
   "source": [
    "<h1>Choosing a classifier</h1>\n",
    "\n",
    "Two models stand out as options to ultimately choose -- Random Forest and Logistic Regression. They both generalize faily well, though not to the extent I would hope. Random forest has more hyperparameters that I can tune and evaluate, so I will continue to look into it as the final model."
   ]
  },
  {
   "cell_type": "code",
   "execution_count": 89,
   "metadata": {},
   "outputs": [
    {
     "name": "stdout",
     "output_type": "stream",
     "text": [
      "Fitting 5 folds for each of 100 candidates, totalling 500 fits\n"
     ]
    },
    {
     "name": "stderr",
     "output_type": "stream",
     "text": [
      "[Parallel(n_jobs=-1)]: Using backend LokyBackend with 8 concurrent workers.\n",
      "[Parallel(n_jobs=-1)]: Done   2 tasks      | elapsed:    3.0s\n",
      "[Parallel(n_jobs=-1)]: Done   9 tasks      | elapsed:    4.6s\n",
      "[Parallel(n_jobs=-1)]: Done  16 tasks      | elapsed:    9.1s\n",
      "[Parallel(n_jobs=-1)]: Done  25 tasks      | elapsed:   11.0s\n",
      "[Parallel(n_jobs=-1)]: Done  34 tasks      | elapsed:   15.5s\n",
      "[Parallel(n_jobs=-1)]: Done  45 tasks      | elapsed:   18.4s\n",
      "[Parallel(n_jobs=-1)]: Done  56 tasks      | elapsed:   20.4s\n",
      "[Parallel(n_jobs=-1)]: Done  69 tasks      | elapsed:   30.9s\n",
      "[Parallel(n_jobs=-1)]: Done  82 tasks      | elapsed:   38.3s\n",
      "[Parallel(n_jobs=-1)]: Done  97 tasks      | elapsed:   42.0s\n",
      "[Parallel(n_jobs=-1)]: Done 112 tasks      | elapsed:   47.9s\n",
      "[Parallel(n_jobs=-1)]: Done 129 tasks      | elapsed:   59.5s\n",
      "[Parallel(n_jobs=-1)]: Done 146 tasks      | elapsed:  1.2min\n",
      "[Parallel(n_jobs=-1)]: Done 165 tasks      | elapsed:  1.4min\n",
      "[Parallel(n_jobs=-1)]: Done 184 tasks      | elapsed:  1.8min\n",
      "[Parallel(n_jobs=-1)]: Done 205 tasks      | elapsed:  2.1min\n",
      "[Parallel(n_jobs=-1)]: Done 226 tasks      | elapsed:  2.3min\n",
      "[Parallel(n_jobs=-1)]: Done 249 tasks      | elapsed:  2.5min\n",
      "[Parallel(n_jobs=-1)]: Done 272 tasks      | elapsed:  2.8min\n",
      "[Parallel(n_jobs=-1)]: Done 297 tasks      | elapsed:  3.0min\n",
      "[Parallel(n_jobs=-1)]: Done 322 tasks      | elapsed:  3.5min\n",
      "[Parallel(n_jobs=-1)]: Done 349 tasks      | elapsed:  3.8min\n",
      "[Parallel(n_jobs=-1)]: Done 376 tasks      | elapsed:  4.0min\n",
      "[Parallel(n_jobs=-1)]: Done 405 tasks      | elapsed:  4.3min\n",
      "[Parallel(n_jobs=-1)]: Done 434 tasks      | elapsed:  4.7min\n",
      "[Parallel(n_jobs=-1)]: Done 465 tasks      | elapsed:  4.9min\n",
      "[Parallel(n_jobs=-1)]: Done 500 out of 500 | elapsed:  5.2min finished\n"
     ]
    },
    {
     "data": {
      "text/plain": [
       "RandomizedSearchCV(cv=5,\n",
       "                   estimator=Pipeline(steps=[('simpleimputer',\n",
       "                                              SimpleImputer(strategy='median')),\n",
       "                                             ('standardscaler',\n",
       "                                              StandardScaler()),\n",
       "                                             ('randomforestclassifier',\n",
       "                                              RandomForestClassifier())]),\n",
       "                   n_iter=100, n_jobs=-1,\n",
       "                   param_distributions={'randomforestclassifier__max_depth': array([1, 2, 3, 4]),\n",
       "                                        'randomforestclassifier__min_samples_leaf': array([1, 2, 3, 4]),\n",
       "                                        'randomforestclassifier__min_samples_split': array([1, 2, 3, 4]),\n",
       "                                        'randomforestclassifier__n_estimators': array([  50,   51,   52, ..., 1997, 1998, 1999])},\n",
       "                   random_state=42, scoring='recall', verbose=10)"
      ]
     },
     "execution_count": 89,
     "metadata": {},
     "output_type": "execute_result"
    }
   ],
   "source": [
    "pipe_rf = make_pipeline( \n",
    "    SimpleImputer(strategy='median'),\n",
    "    StandardScaler(), \n",
    "    RandomForestClassifier()\n",
    ")\n",
    "\n",
    "params = {'randomforestclassifier__n_estimators': np.arange(50,2000),\n",
    "          'randomforestclassifier__max_depth' :  np.arange(1,5),\n",
    "          'randomforestclassifier__min_samples_split' : np.arange(1,5),\n",
    "          'randomforestclassifier__min_samples_leaf' : np.arange(1,5)}\n",
    "\n",
    "rf = RandomizedSearchCV(pipe,param_distributions=params,cv=5, n_jobs=-1, scoring = 'recall',n_iter=100,\n",
    "                            random_state = 42,verbose=10)\n",
    "\n",
    "rf.fit(X_train,y_train)"
   ]
  },
  {
   "cell_type": "code",
   "execution_count": 91,
   "metadata": {},
   "outputs": [
    {
     "data": {
      "text/plain": [
       "{'randomforestclassifier__n_estimators': 1108,\n",
       " 'randomforestclassifier__min_samples_split': 3,\n",
       " 'randomforestclassifier__min_samples_leaf': 4,\n",
       " 'randomforestclassifier__max_depth': 4}"
      ]
     },
     "execution_count": 91,
     "metadata": {},
     "output_type": "execute_result"
    }
   ],
   "source": [
    "rf.best_params_"
   ]
  },
  {
   "cell_type": "markdown",
   "metadata": {},
   "source": [
    "***Evaluating Performance***"
   ]
  },
  {
   "cell_type": "code",
   "execution_count": 92,
   "metadata": {},
   "outputs": [
    {
     "data": {
      "image/png": "[encoded data removed]",
      "text/plain": [
       "<Figure size 432x288 with 1 Axes>"
      ]
     },
     "metadata": {},
     "output_type": "display_data"
    }
   ],
   "source": [
    "c = pr_curve(rf.best_estimator_,X_train,y_train)"
   ]
  },
  {
   "cell_type": "code",
   "execution_count": 94,
   "metadata": {},
   "outputs": [
    {
     "data": {
      "text/html": [
       "<div>\n",
       "<style scoped>\n",
       "    .dataframe tbody tr th:only-of-type {\n",
       "        vertical-align: middle;\n",
       "    }\n",
       "\n",
       "    .dataframe tbody tr th {\n",
       "        vertical-align: top;\n",
       "    }\n",
       "\n",
       "    .dataframe thead th {\n",
       "        text-align: right;\n",
       "    }\n",
       "</style>\n",
       "<table border=\"1\" class=\"dataframe\">\n",
       "  <thead>\n",
       "    <tr style=\"text-align: right;\">\n",
       "      <th></th>\n",
       "      <th>precision</th>\n",
       "      <th>recall</th>\n",
       "      <th>threshold</th>\n",
       "      <th>sum</th>\n",
       "    </tr>\n",
       "  </thead>\n",
       "  <tbody>\n",
       "    <tr>\n",
       "      <th>0</th>\n",
       "      <td>0.064974</td>\n",
       "      <td>1.0</td>\n",
       "      <td>0.022534</td>\n",
       "      <td>1.064974</td>\n",
       "    </tr>\n",
       "  </tbody>\n",
       "</table>\n",
       "</div>"
      ],
      "text/plain": [
       "   precision  recall  threshold       sum\n",
       "0   0.064974     1.0   0.022534  1.064974"
      ]
     },
     "execution_count": 94,
     "metadata": {},
     "output_type": "execute_result"
    }
   ],
   "source": [
    "c['sum'] = c['precision'] + c['recall']\n",
    "c[c['sum'] == c['sum'].max()]"
   ]
  },
  {
   "cell_type": "code",
   "execution_count": 96,
   "metadata": {},
   "outputs": [
    {
     "data": {
      "text/plain": [
       "0.06309897930530303"
      ]
     },
     "execution_count": 96,
     "metadata": {},
     "output_type": "execute_result"
    }
   ],
   "source": [
    "c[np.round(c.recall,2) == 0.8].threshold.mean()"
   ]
  },
  {
   "cell_type": "code",
   "execution_count": 97,
   "metadata": {},
   "outputs": [
    {
     "name": "stdout",
     "output_type": "stream",
     "text": [
      "Evaluating the classifier on the test set, the recall is: 0.881, and the precision is: 0.096\n"
     ]
    }
   ],
   "source": [
    "test_comp(svc.best_estimator_,0.063)"
   ]
  },
  {
   "cell_type": "code",
   "execution_count": 103,
   "metadata": {},
   "outputs": [
    {
     "name": "stdout",
     "output_type": "stream",
     "text": [
      "Evaluating the classifier on the test set, the recall is: 0.776, and the precision is: 0.12\n"
     ]
    }
   ],
   "source": [
    "test_comp(svc.best_estimator_,0.09)"
   ]
  },
  {
   "cell_type": "code",
   "execution_count": 104,
   "metadata": {},
   "outputs": [
    {
     "name": "stdout",
     "output_type": "stream",
     "text": [
      "Evaluating the classifier on the test set, the recall is: 0.56, and the precision is: 0.121\n"
     ]
    }
   ],
   "source": [
    "test_comp(svc.best_estimator_,0.1)"
   ]
  },
  {
   "cell_type": "code",
   "execution_count": 107,
   "metadata": {},
   "outputs": [
    {
     "data": {
      "text/plain": [
       "0.5"
      ]
     },
     "execution_count": 107,
     "metadata": {},
     "output_type": "execute_result"
    }
   ],
   "source": [
    "from sklearn.metrics import roc_auc_score\n",
    "roc_auc_score(y_train,rf.best_estimator_.predict(X_train))"
   ]
  },
  {
   "cell_type": "code",
   "execution_count": 109,
   "metadata": {},
   "outputs": [
    {
     "data": {
      "text/plain": [
       "0.5"
      ]
     },
     "execution_count": 109,
     "metadata": {},
     "output_type": "execute_result"
    }
   ],
   "source": [
    "roc_auc_score(y_test,rf.best_estimator_.predict(X_test))"
   ]
  },
  {
   "cell_type": "markdown",
   "metadata": {},
   "source": [
    "***Looking at feature importance***"
   ]
  },
  {
   "cell_type": "code",
   "execution_count": 125,
   "metadata": {},
   "outputs": [],
   "source": [
    "r = rf.best_estimator_\n",
    "imp = r.steps[2][1].feature_importances_"
   ]
  },
  {
   "cell_type": "code",
   "execution_count": 137,
   "metadata": {},
   "outputs": [
    {
     "data": {
      "text/plain": [
       "<AxesSubplot:xlabel='importance', ylabel='feature'>"
      ]
     },
     "execution_count": 137,
     "metadata": {},
     "output_type": "execute_result"
    },
    {
     "data": {
      "image/png": "[encoded data removed]",
      "text/plain": [
       "<Figure size 1080x1440 with 1 Axes>"
      ]
     },
     "metadata": {},
     "output_type": "display_data"
    }
   ],
   "source": [
    "ax = plt.figure(figsize=(15,20))\n",
    "\n",
    "i = pd.DataFrame({'feature':X_test.columns,'importance':imp}).sort_values('importance',ascending=False)\n",
    "\n",
    "sns.barplot(data=i,y='feature',x='importance',orient='h',color='gray')"
   ]
  },
  {
   "cell_type": "markdown",
   "metadata": {},
   "source": [
    "<h1>Conclusions</h1>\n",
    "\n",
    "We are able to predict the appearence of WNV carrying mosquitos in the Chicago area with relative success. With a Random Forest Classifier, we're able to identify more than 80% of the WNV carrying mosquitos based primarily on weather data from two locations in the Chicago area. There is a trade-off however, that only roughly 1/10 positives from the model are true positives. The model gives us a good sense of where WNV is most likely to be, and airs on the side of extreme caution. In order to effectively target mosquito populations, this data set allows prioritization, for treatment or prevention, of zones and weather circumstances that are most closely associated with WNV. "
   ]
  },
  {
   "cell_type": "code",
   "execution_count": null,
   "metadata": {},
   "outputs": [],
   "source": []
  }
 ],
 "metadata": {
  "kernelspec": {
   "display_name": "Python 3",
   "language": "python",
   "name": "python3"
  },
  "language_info": {
   "codemirror_mode": {
    "name": "ipython",
    "version": 3
   },
   "file_extension": ".py",
   "mimetype": "text/x-python",
   "name": "python",
   "nbconvert_exporter": "python",
   "pygments_lexer": "ipython3",
   "version": "3.8.3"
  }
 },
 "nbformat": 4,
 "nbformat_minor": 4
}
