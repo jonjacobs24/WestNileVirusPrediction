{
 "cells": [
  {
   "cell_type": "markdown",
   "metadata": {},
   "source": [
    "<h1>Modeling and Prediction</h1>\n",
    "On the West Nile Virus data set"
   ]
  },
  {
   "cell_type": "code",
   "execution_count": 1,
   "metadata": {},
   "outputs": [],
   "source": [
    "import pandas as pd\n",
    "import matplotlib.pyplot as plt\n",
    "import seaborn as sns\n",
    "import numpy as np\n",
    "from sklearn.model_selection import train_test_split\n",
    "sns.set_style('whitegrid')"
   ]
  },
  {
   "cell_type": "code",
   "execution_count": 2,
   "metadata": {},
   "outputs": [],
   "source": [
    "#loading cleaned data\n",
    "X = pd.read_pickle('./data/train.pkl')\n",
    "y = pd.read_pickle('./data/y.pkl')\n",
    "#X_test = pd.read_pickle('./data/test.pkl')\n",
    "#y_test = pd.read_csv('./data/sampleSubmission.csv.zip')"
   ]
  },
  {
   "cell_type": "code",
   "execution_count": 3,
   "metadata": {},
   "outputs": [],
   "source": [
    "#dropping a few columns I mis-interpreted. Coding sprecies\n",
    "X = X.drop(['Trap','Sunrise_x','Sunset_x','Sunrise_y','Sunset_y'],axis=1)\n",
    "#X_test = X_test.drop(['Trap','Sunrise_x','Sunset_x','Sunrise_y','Sunset_y'],axis=1)\n",
    "\n",
    "#coding species columns\n",
    "X = pd.get_dummies(X,columns=['Species','month'])\n",
    "#X_test = pd.get_dummies(X_test,columns=['Species','month'])"
   ]
  },
  {
   "cell_type": "code",
   "execution_count": 4,
   "metadata": {},
   "outputs": [],
   "source": [
    "# mistakenly, thought that the train_test_split was done for me. It was not, the test set is for the kaggle competition\n",
    "X_train, X_test, y_train, y_test = train_test_split(X,y,test_size=0.25,random_state=42)"
   ]
  },
  {
   "cell_type": "markdown",
   "metadata": {},
   "source": [
    "<h2>Random Forest Classifier</h2>\n",
    "Random Forest Classifier is a great ensemble method which I will look into first with a Random Search CV. The driving metric for analysis is recall. This data set is heavily class biased -- there are few west nile virus sightings compared to the observations as a whole. What's most important is that WNV is not missed, i.e. False Negative. For this purpose, a False Positive is better than False Negative, so recall is the most important metric."
   ]
  },
  {
   "cell_type": "markdown",
   "metadata": {},
   "source": [
    "***Building Pipeline***"
   ]
  },
  {
   "cell_type": "code",
   "execution_count": 5,
   "metadata": {},
   "outputs": [],
   "source": [
    "from sklearn.pipeline import make_pipeline\n",
    "from sklearn.ensemble import RandomForestClassifier\n",
    "from sklearn.model_selection import RandomizedSearchCV\n",
    "from sklearn.preprocessing import StandardScaler\n",
    "from sklearn.metrics import recall_score\n",
    "from scipy.stats import truncnorm, uniform\n",
    "from sklearn.impute import SimpleImputer"
   ]
  },
  {
   "cell_type": "code",
   "execution_count": 6,
   "metadata": {},
   "outputs": [],
   "source": [
    "pipe = make_pipeline( \n",
    "    SimpleImputer(strategy='median'),\n",
    "    StandardScaler(), \n",
    "    RandomForestClassifier()\n",
    ")"
   ]
  },
  {
   "cell_type": "code",
   "execution_count": 7,
   "metadata": {},
   "outputs": [
    {
     "data": {
      "text/plain": [
       "dict_keys(['memory', 'steps', 'verbose', 'simpleimputer', 'standardscaler', 'randomforestclassifier', 'simpleimputer__add_indicator', 'simpleimputer__copy', 'simpleimputer__fill_value', 'simpleimputer__missing_values', 'simpleimputer__strategy', 'simpleimputer__verbose', 'standardscaler__copy', 'standardscaler__with_mean', 'standardscaler__with_std', 'randomforestclassifier__bootstrap', 'randomforestclassifier__ccp_alpha', 'randomforestclassifier__class_weight', 'randomforestclassifier__criterion', 'randomforestclassifier__max_depth', 'randomforestclassifier__max_features', 'randomforestclassifier__max_leaf_nodes', 'randomforestclassifier__max_samples', 'randomforestclassifier__min_impurity_decrease', 'randomforestclassifier__min_impurity_split', 'randomforestclassifier__min_samples_leaf', 'randomforestclassifier__min_samples_split', 'randomforestclassifier__min_weight_fraction_leaf', 'randomforestclassifier__n_estimators', 'randomforestclassifier__n_jobs', 'randomforestclassifier__oob_score', 'randomforestclassifier__random_state', 'randomforestclassifier__verbose', 'randomforestclassifier__warm_start'])"
      ]
     },
     "execution_count": 7,
     "metadata": {},
     "output_type": "execute_result"
    }
   ],
   "source": [
    "pipe.get_params().keys()\n"
   ]
  },
  {
   "cell_type": "code",
   "execution_count": 8,
   "metadata": {},
   "outputs": [],
   "source": [
    "params = {'randomforestclassifier__n_estimators': np.arange(50,2000),\n",
    "         'randomforestclassifier__max_depth' :  np.arange(2,20)}\n",
    "\n",
    "rf_rand = RandomizedSearchCV(pipe,param_distributions=params,cv=5, n_jobs=-1, scoring = 'recall',n_iter=10,\n",
    "                            random_state = 42)"
   ]
  },
  {
   "cell_type": "code",
   "execution_count": 9,
   "metadata": {},
   "outputs": [
    {
     "data": {
      "text/plain": [
       "RandomizedSearchCV(cv=5,\n",
       "                   estimator=Pipeline(steps=[('simpleimputer',\n",
       "                                              SimpleImputer(strategy='median')),\n",
       "                                             ('standardscaler',\n",
       "                                              StandardScaler()),\n",
       "                                             ('randomforestclassifier',\n",
       "                                              RandomForestClassifier())]),\n",
       "                   n_jobs=-1,\n",
       "                   param_distributions={'randomforestclassifier__max_depth': array([ 2,  3,  4,  5,  6,  7,  8,  9, 10, 11, 12, 13, 14, 15, 16, 17, 18,\n",
       "       19]),\n",
       "                                        'randomforestclassifier__n_estimators': array([  50,   51,   52, ..., 1997, 1998, 1999])},\n",
       "                   random_state=42, scoring='recall')"
      ]
     },
     "execution_count": 9,
     "metadata": {},
     "output_type": "execute_result"
    }
   ],
   "source": [
    "rf_rand.fit(X_train,y_train)"
   ]
  },
  {
   "cell_type": "markdown",
   "metadata": {},
   "source": [
    "***Looking at results from the random search***"
   ]
  },
  {
   "cell_type": "code",
   "execution_count": 10,
   "metadata": {},
   "outputs": [
    {
     "data": {
      "text/plain": [
       "{'randomforestclassifier__n_estimators': 562,\n",
       " 'randomforestclassifier__max_depth': 13}"
      ]
     },
     "execution_count": 10,
     "metadata": {},
     "output_type": "execute_result"
    }
   ],
   "source": [
    "rf_rand.best_params_"
   ]
  },
  {
   "cell_type": "code",
   "execution_count": 11,
   "metadata": {},
   "outputs": [],
   "source": [
    "rf_res = pd.DataFrame(rf_rand.cv_results_)"
   ]
  },
  {
   "cell_type": "code",
   "execution_count": 12,
   "metadata": {},
   "outputs": [
    {
     "data": {
      "text/html": [
       "<div>\n",
       "<style scoped>\n",
       "    .dataframe tbody tr th:only-of-type {\n",
       "        vertical-align: middle;\n",
       "    }\n",
       "\n",
       "    .dataframe tbody tr th {\n",
       "        vertical-align: top;\n",
       "    }\n",
       "\n",
       "    .dataframe thead th {\n",
       "        text-align: right;\n",
       "    }\n",
       "</style>\n",
       "<table border=\"1\" class=\"dataframe\">\n",
       "  <thead>\n",
       "    <tr style=\"text-align: right;\">\n",
       "      <th></th>\n",
       "      <th>mean_fit_time</th>\n",
       "      <th>std_fit_time</th>\n",
       "      <th>mean_score_time</th>\n",
       "      <th>std_score_time</th>\n",
       "      <th>param_randomforestclassifier__n_estimators</th>\n",
       "      <th>param_randomforestclassifier__max_depth</th>\n",
       "      <th>params</th>\n",
       "      <th>split0_test_score</th>\n",
       "      <th>split1_test_score</th>\n",
       "      <th>split2_test_score</th>\n",
       "      <th>split3_test_score</th>\n",
       "      <th>split4_test_score</th>\n",
       "      <th>mean_test_score</th>\n",
       "      <th>std_test_score</th>\n",
       "      <th>rank_test_score</th>\n",
       "    </tr>\n",
       "  </thead>\n",
       "  <tbody>\n",
       "    <tr>\n",
       "      <th>5</th>\n",
       "      <td>5.662159</td>\n",
       "      <td>0.059547</td>\n",
       "      <td>0.246465</td>\n",
       "      <td>0.006241</td>\n",
       "      <td>562</td>\n",
       "      <td>13</td>\n",
       "      <td>{'randomforestclassifier__n_estimators': 562, ...</td>\n",
       "      <td>0.071429</td>\n",
       "      <td>0.095238</td>\n",
       "      <td>0.072289</td>\n",
       "      <td>0.036145</td>\n",
       "      <td>0.084337</td>\n",
       "      <td>0.071888</td>\n",
       "      <td>0.019891</td>\n",
       "      <td>1</td>\n",
       "    </tr>\n",
       "    <tr>\n",
       "      <th>0</th>\n",
       "      <td>2.184694</td>\n",
       "      <td>0.007781</td>\n",
       "      <td>0.102495</td>\n",
       "      <td>0.003981</td>\n",
       "      <td>245</td>\n",
       "      <td>10</td>\n",
       "      <td>{'randomforestclassifier__n_estimators': 245, ...</td>\n",
       "      <td>0.035714</td>\n",
       "      <td>0.047619</td>\n",
       "      <td>0.024096</td>\n",
       "      <td>0.012048</td>\n",
       "      <td>0.060241</td>\n",
       "      <td>0.035944</td>\n",
       "      <td>0.016959</td>\n",
       "      <td>2</td>\n",
       "    </tr>\n",
       "    <tr>\n",
       "      <th>4</th>\n",
       "      <td>11.440721</td>\n",
       "      <td>0.105505</td>\n",
       "      <td>0.537370</td>\n",
       "      <td>0.017828</td>\n",
       "      <td>1300</td>\n",
       "      <td>10</td>\n",
       "      <td>{'randomforestclassifier__n_estimators': 1300,...</td>\n",
       "      <td>0.047619</td>\n",
       "      <td>0.035714</td>\n",
       "      <td>0.024096</td>\n",
       "      <td>0.012048</td>\n",
       "      <td>0.048193</td>\n",
       "      <td>0.033534</td>\n",
       "      <td>0.013919</td>\n",
       "      <td>3</td>\n",
       "    </tr>\n",
       "    <tr>\n",
       "      <th>6</th>\n",
       "      <td>4.211173</td>\n",
       "      <td>0.030337</td>\n",
       "      <td>0.191178</td>\n",
       "      <td>0.006307</td>\n",
       "      <td>473</td>\n",
       "      <td>10</td>\n",
       "      <td>{'randomforestclassifier__n_estimators': 473, ...</td>\n",
       "      <td>0.047619</td>\n",
       "      <td>0.035714</td>\n",
       "      <td>0.024096</td>\n",
       "      <td>0.012048</td>\n",
       "      <td>0.048193</td>\n",
       "      <td>0.033534</td>\n",
       "      <td>0.013919</td>\n",
       "      <td>3</td>\n",
       "    </tr>\n",
       "    <tr>\n",
       "      <th>2</th>\n",
       "      <td>11.030200</td>\n",
       "      <td>0.060302</td>\n",
       "      <td>0.536789</td>\n",
       "      <td>0.004968</td>\n",
       "      <td>1584</td>\n",
       "      <td>7</td>\n",
       "      <td>{'randomforestclassifier__n_estimators': 1584,...</td>\n",
       "      <td>0.011905</td>\n",
       "      <td>0.000000</td>\n",
       "      <td>0.012048</td>\n",
       "      <td>0.000000</td>\n",
       "      <td>0.000000</td>\n",
       "      <td>0.004791</td>\n",
       "      <td>0.005867</td>\n",
       "      <td>5</td>\n",
       "    </tr>\n",
       "    <tr>\n",
       "      <th>1</th>\n",
       "      <td>3.810162</td>\n",
       "      <td>0.043197</td>\n",
       "      <td>0.217478</td>\n",
       "      <td>0.008579</td>\n",
       "      <td>910</td>\n",
       "      <td>2</td>\n",
       "      <td>{'randomforestclassifier__n_estimators': 910, ...</td>\n",
       "      <td>0.000000</td>\n",
       "      <td>0.000000</td>\n",
       "      <td>0.000000</td>\n",
       "      <td>0.000000</td>\n",
       "      <td>0.000000</td>\n",
       "      <td>0.000000</td>\n",
       "      <td>0.000000</td>\n",
       "      <td>6</td>\n",
       "    </tr>\n",
       "    <tr>\n",
       "      <th>3</th>\n",
       "      <td>2.780086</td>\n",
       "      <td>0.031935</td>\n",
       "      <td>0.152171</td>\n",
       "      <td>0.017282</td>\n",
       "      <td>465</td>\n",
       "      <td>5</td>\n",
       "      <td>{'randomforestclassifier__n_estimators': 465, ...</td>\n",
       "      <td>0.000000</td>\n",
       "      <td>0.000000</td>\n",
       "      <td>0.000000</td>\n",
       "      <td>0.000000</td>\n",
       "      <td>0.000000</td>\n",
       "      <td>0.000000</td>\n",
       "      <td>0.000000</td>\n",
       "      <td>6</td>\n",
       "    </tr>\n",
       "    <tr>\n",
       "      <th>7</th>\n",
       "      <td>7.549677</td>\n",
       "      <td>0.034093</td>\n",
       "      <td>0.451684</td>\n",
       "      <td>0.007969</td>\n",
       "      <td>1735</td>\n",
       "      <td>2</td>\n",
       "      <td>{'randomforestclassifier__n_estimators': 1735,...</td>\n",
       "      <td>0.000000</td>\n",
       "      <td>0.000000</td>\n",
       "      <td>0.000000</td>\n",
       "      <td>0.000000</td>\n",
       "      <td>0.000000</td>\n",
       "      <td>0.000000</td>\n",
       "      <td>0.000000</td>\n",
       "      <td>6</td>\n",
       "    </tr>\n",
       "    <tr>\n",
       "      <th>8</th>\n",
       "      <td>3.569373</td>\n",
       "      <td>0.090926</td>\n",
       "      <td>0.203165</td>\n",
       "      <td>0.023401</td>\n",
       "      <td>819</td>\n",
       "      <td>2</td>\n",
       "      <td>{'randomforestclassifier__n_estimators': 819, ...</td>\n",
       "      <td>0.000000</td>\n",
       "      <td>0.000000</td>\n",
       "      <td>0.000000</td>\n",
       "      <td>0.000000</td>\n",
       "      <td>0.000000</td>\n",
       "      <td>0.000000</td>\n",
       "      <td>0.000000</td>\n",
       "      <td>6</td>\n",
       "    </tr>\n",
       "    <tr>\n",
       "      <th>9</th>\n",
       "      <td>2.278871</td>\n",
       "      <td>0.055107</td>\n",
       "      <td>0.087975</td>\n",
       "      <td>0.009529</td>\n",
       "      <td>533</td>\n",
       "      <td>3</td>\n",
       "      <td>{'randomforestclassifier__n_estimators': 533, ...</td>\n",
       "      <td>0.000000</td>\n",
       "      <td>0.000000</td>\n",
       "      <td>0.000000</td>\n",
       "      <td>0.000000</td>\n",
       "      <td>0.000000</td>\n",
       "      <td>0.000000</td>\n",
       "      <td>0.000000</td>\n",
       "      <td>6</td>\n",
       "    </tr>\n",
       "  </tbody>\n",
       "</table>\n",
       "</div>"
      ],
      "text/plain": [
       "   mean_fit_time  std_fit_time  mean_score_time  std_score_time  \\\n",
       "5       5.662159      0.059547         0.246465        0.006241   \n",
       "0       2.184694      0.007781         0.102495        0.003981   \n",
       "4      11.440721      0.105505         0.537370        0.017828   \n",
       "6       4.211173      0.030337         0.191178        0.006307   \n",
       "2      11.030200      0.060302         0.536789        0.004968   \n",
       "1       3.810162      0.043197         0.217478        0.008579   \n",
       "3       2.780086      0.031935         0.152171        0.017282   \n",
       "7       7.549677      0.034093         0.451684        0.007969   \n",
       "8       3.569373      0.090926         0.203165        0.023401   \n",
       "9       2.278871      0.055107         0.087975        0.009529   \n",
       "\n",
       "  param_randomforestclassifier__n_estimators  \\\n",
       "5                                        562   \n",
       "0                                        245   \n",
       "4                                       1300   \n",
       "6                                        473   \n",
       "2                                       1584   \n",
       "1                                        910   \n",
       "3                                        465   \n",
       "7                                       1735   \n",
       "8                                        819   \n",
       "9                                        533   \n",
       "\n",
       "  param_randomforestclassifier__max_depth  \\\n",
       "5                                      13   \n",
       "0                                      10   \n",
       "4                                      10   \n",
       "6                                      10   \n",
       "2                                       7   \n",
       "1                                       2   \n",
       "3                                       5   \n",
       "7                                       2   \n",
       "8                                       2   \n",
       "9                                       3   \n",
       "\n",
       "                                              params  split0_test_score  \\\n",
       "5  {'randomforestclassifier__n_estimators': 562, ...           0.071429   \n",
       "0  {'randomforestclassifier__n_estimators': 245, ...           0.035714   \n",
       "4  {'randomforestclassifier__n_estimators': 1300,...           0.047619   \n",
       "6  {'randomforestclassifier__n_estimators': 473, ...           0.047619   \n",
       "2  {'randomforestclassifier__n_estimators': 1584,...           0.011905   \n",
       "1  {'randomforestclassifier__n_estimators': 910, ...           0.000000   \n",
       "3  {'randomforestclassifier__n_estimators': 465, ...           0.000000   \n",
       "7  {'randomforestclassifier__n_estimators': 1735,...           0.000000   \n",
       "8  {'randomforestclassifier__n_estimators': 819, ...           0.000000   \n",
       "9  {'randomforestclassifier__n_estimators': 533, ...           0.000000   \n",
       "\n",
       "   split1_test_score  split2_test_score  split3_test_score  split4_test_score  \\\n",
       "5           0.095238           0.072289           0.036145           0.084337   \n",
       "0           0.047619           0.024096           0.012048           0.060241   \n",
       "4           0.035714           0.024096           0.012048           0.048193   \n",
       "6           0.035714           0.024096           0.012048           0.048193   \n",
       "2           0.000000           0.012048           0.000000           0.000000   \n",
       "1           0.000000           0.000000           0.000000           0.000000   \n",
       "3           0.000000           0.000000           0.000000           0.000000   \n",
       "7           0.000000           0.000000           0.000000           0.000000   \n",
       "8           0.000000           0.000000           0.000000           0.000000   \n",
       "9           0.000000           0.000000           0.000000           0.000000   \n",
       "\n",
       "   mean_test_score  std_test_score  rank_test_score  \n",
       "5         0.071888        0.019891                1  \n",
       "0         0.035944        0.016959                2  \n",
       "4         0.033534        0.013919                3  \n",
       "6         0.033534        0.013919                3  \n",
       "2         0.004791        0.005867                5  \n",
       "1         0.000000        0.000000                6  \n",
       "3         0.000000        0.000000                6  \n",
       "7         0.000000        0.000000                6  \n",
       "8         0.000000        0.000000                6  \n",
       "9         0.000000        0.000000                6  "
      ]
     },
     "execution_count": 12,
     "metadata": {},
     "output_type": "execute_result"
    }
   ],
   "source": [
    "rf_res.sort_values('mean_test_score',axis=0, ascending=False)"
   ]
  },
  {
   "cell_type": "code",
   "execution_count": 13,
   "metadata": {},
   "outputs": [
    {
     "data": {
      "text/plain": [
       "0.0718875502008032"
      ]
     },
     "execution_count": 13,
     "metadata": {},
     "output_type": "execute_result"
    }
   ],
   "source": [
    "rf_rand.best_score_"
   ]
  },
  {
   "cell_type": "code",
   "execution_count": 26,
   "metadata": {},
   "outputs": [
    {
     "data": {
      "image/png": "[encoded data removed]",
      "text/plain": [
       "<Figure size 432x288 with 1 Axes>"
      ]
     },
     "metadata": {},
     "output_type": "display_data"
    }
   ],
   "source": [
    "from sklearn.metrics import precision_recall_curve\n",
    "\n",
    "def pr_curve(e,x,y):\n",
    "    \"\"\"e is estimator, x is data and y is true value\"\"\"\n",
    "\n",
    "    #predicting from model\n",
    "    y_pred_rf = e.predict_proba(x)\n",
    "\n",
    "    #finding curve\n",
    "    p, r, t = precision_recall_curve(y.to_numpy(),y_pred_rf[:,1])\n",
    "    sns.lineplot(x=p,y=r)\n",
    "    plt.xlabel('Precision')\n",
    "    plt.ylabel('Recall')\n",
    "    return pd.DataFrame({'precision':p[:-1],'recall':r[:-1],'threshold':t})\n",
    "\n",
    "    \n",
    "c = pr_curve(rf_rand.best_estimator_,X_train,y_train)"
   ]
  },
  {
   "cell_type": "code",
   "execution_count": 27,
   "metadata": {},
   "outputs": [
    {
     "data": {
      "text/html": [
       "<div>\n",
       "<style scoped>\n",
       "    .dataframe tbody tr th:only-of-type {\n",
       "        vertical-align: middle;\n",
       "    }\n",
       "\n",
       "    .dataframe tbody tr th {\n",
       "        vertical-align: top;\n",
       "    }\n",
       "\n",
       "    .dataframe thead th {\n",
       "        text-align: right;\n",
       "    }\n",
       "</style>\n",
       "<table border=\"1\" class=\"dataframe\">\n",
       "  <thead>\n",
       "    <tr style=\"text-align: right;\">\n",
       "      <th></th>\n",
       "      <th>precision</th>\n",
       "      <th>recall</th>\n",
       "      <th>threshold</th>\n",
       "      <th>sum</th>\n",
       "    </tr>\n",
       "  </thead>\n",
       "  <tbody>\n",
       "    <tr>\n",
       "      <th>1064</th>\n",
       "      <td>0.72327</td>\n",
       "      <td>0.827338</td>\n",
       "      <td>0.247047</td>\n",
       "      <td>1.550609</td>\n",
       "    </tr>\n",
       "  </tbody>\n",
       "</table>\n",
       "</div>"
      ],
      "text/plain": [
       "      precision    recall  threshold       sum\n",
       "1064    0.72327  0.827338   0.247047  1.550609"
      ]
     },
     "execution_count": 27,
     "metadata": {},
     "output_type": "execute_result"
    }
   ],
   "source": [
    "c['sum'] = c['precision'] + c['recall']\n",
    "c[c['sum'] == c['sum'].max()]"
   ]
  },
  {
   "cell_type": "markdown",
   "metadata": {},
   "source": [
    "***Comparing to test set***"
   ]
  },
  {
   "cell_type": "code",
   "execution_count": 81,
   "metadata": {},
   "outputs": [
    {
     "name": "stdout",
     "output_type": "stream",
     "text": [
      "Evaluating the classifier on the test set, the recall is: 0.0, and the precision is: 0.0\n"
     ]
    },
    {
     "name": "stderr",
     "output_type": "stream",
     "text": [
      "/Users/jon/opt/anaconda3/lib/python3.8/site-packages/sklearn/metrics/_classification.py:1221: UndefinedMetricWarning: Precision is ill-defined and being set to 0.0 due to no predicted samples. Use `zero_division` parameter to control this behavior.\n",
      "  _warn_prf(average, modifier, msg_start, len(result))\n"
     ]
    }
   ],
   "source": [
    "from sklearn.metrics import recall_score\n",
    "from sklearn.metrics import precision_score\n",
    "\n",
    "def test_comp(e,t):\n",
    "    #predicting probability from test set\n",
    "    y_pred = e.predict_proba(X_test)[:,1]\n",
    "    #deciding membership\n",
    "    y_pred = (y_pred >= t).astype('int')\n",
    "    \n",
    "    r = np.round(recall_score(y_test,y_pred),3)\n",
    "    p = np.round(precision_score(y_test,y_pred),3)\n",
    "    print('Evaluating the classifier on the test set, the recall is: ' +  \n",
    "          '{}, and the precision is: {}'.format(r,p))\n",
    "\n",
    "test_comp(rf_rand.best_estimator_,0.247047)"
   ]
  },
  {
   "cell_type": "markdown",
   "metadata": {},
   "source": [
    "<h3>Random Forest first results</h3>\n",
    "\n",
    "As I thought, the classifier was overfit. I will re-run with a much lower max depth. "
   ]
  },
  {
   "cell_type": "code",
   "execution_count": 32,
   "metadata": {},
   "outputs": [
    {
     "data": {
      "text/plain": [
       "RandomizedSearchCV(cv=5,\n",
       "                   estimator=Pipeline(steps=[('simpleimputer',\n",
       "                                              SimpleImputer(strategy='median')),\n",
       "                                             ('standardscaler',\n",
       "                                              StandardScaler()),\n",
       "                                             ('randomforestclassifier',\n",
       "                                              RandomForestClassifier())]),\n",
       "                   n_jobs=-1,\n",
       "                   param_distributions={'randomforestclassifier__max_depth': array([1, 2, 3, 4]),\n",
       "                                        'randomforestclassifier__n_estimators': array([  50,   51,   52, ..., 1997, 1998, 1999])},\n",
       "                   random_state=42, scoring='recall')"
      ]
     },
     "execution_count": 32,
     "metadata": {},
     "output_type": "execute_result"
    }
   ],
   "source": [
    "params = {'randomforestclassifier__n_estimators': np.arange(50,2000),\n",
    "         'randomforestclassifier__max_depth' :  np.arange(1,5)}\n",
    "\n",
    "rf_rand = RandomizedSearchCV(pipe,param_distributions=params,cv=5, n_jobs=-1, scoring = 'recall',n_iter=10,\n",
    "                            random_state = 42)\n",
    "rf_rand.fit(X_train,y_train)"
   ]
  },
  {
   "cell_type": "code",
   "execution_count": 33,
   "metadata": {},
   "outputs": [
    {
     "data": {
      "text/html": [
       "<div>\n",
       "<style scoped>\n",
       "    .dataframe tbody tr th:only-of-type {\n",
       "        vertical-align: middle;\n",
       "    }\n",
       "\n",
       "    .dataframe tbody tr th {\n",
       "        vertical-align: top;\n",
       "    }\n",
       "\n",
       "    .dataframe thead th {\n",
       "        text-align: right;\n",
       "    }\n",
       "</style>\n",
       "<table border=\"1\" class=\"dataframe\">\n",
       "  <thead>\n",
       "    <tr style=\"text-align: right;\">\n",
       "      <th></th>\n",
       "      <th>precision</th>\n",
       "      <th>recall</th>\n",
       "      <th>threshold</th>\n",
       "      <th>sum</th>\n",
       "    </tr>\n",
       "  </thead>\n",
       "  <tbody>\n",
       "    <tr>\n",
       "      <th>0</th>\n",
       "      <td>0.065065</td>\n",
       "      <td>1.0</td>\n",
       "      <td>0.023877</td>\n",
       "      <td>1.065065</td>\n",
       "    </tr>\n",
       "  </tbody>\n",
       "</table>\n",
       "</div>"
      ],
      "text/plain": [
       "   precision  recall  threshold       sum\n",
       "0   0.065065     1.0   0.023877  1.065065"
      ]
     },
     "execution_count": 33,
     "metadata": {},
     "output_type": "execute_result"
    },
    {
     "data": {
      "image/png": "[encoded data removed]",
      "text/plain": [
       "<Figure size 432x288 with 1 Axes>"
      ]
     },
     "metadata": {},
     "output_type": "display_data"
    }
   ],
   "source": [
    "c = pr_curve(rf_rand.best_estimator_,X_train,y_train)\n",
    "c['sum'] = c['precision'] + c['recall']\n",
    "c[c['sum'] == c['sum'].max()]"
   ]
  },
  {
   "cell_type": "code",
   "execution_count": 38,
   "metadata": {},
   "outputs": [
    {
     "data": {
      "text/plain": [
       "0.062259562565551055"
      ]
     },
     "execution_count": 38,
     "metadata": {},
     "output_type": "execute_result"
    }
   ],
   "source": [
    "c[np.round(c.recall,2) == 0.8].threshold.mean()"
   ]
  },
  {
   "cell_type": "code",
   "execution_count": 34,
   "metadata": {},
   "outputs": [
    {
     "data": {
      "text/plain": [
       "{'randomforestclassifier__n_estimators': 1470,\n",
       " 'randomforestclassifier__max_depth': 4}"
      ]
     },
     "execution_count": 34,
     "metadata": {},
     "output_type": "execute_result"
    }
   ],
   "source": [
    "rf_rand.best_params_"
   ]
  },
  {
   "cell_type": "code",
   "execution_count": 58,
   "metadata": {},
   "outputs": [
    {
     "name": "stdout",
     "output_type": "stream",
     "text": [
      "Evaluating the random forest classifier on the test set, the recall is: 0.724, and the precision is: 0.136\n"
     ]
    }
   ],
   "source": [
    "test_comp(rf_rand.best_estimator_,0.06226)"
   ]
  },
  {
   "cell_type": "markdown",
   "metadata": {},
   "source": [
    "<h3>Random Forest second results</h3>\n",
    "\n",
    "This classifier generalizes considerably better. The recall is good on the test set and the precision is acceptable.\n",
    "\n",
    "I will see if with PCA I can improve the results. My intution says that there are too many factors."
   ]
  },
  {
   "cell_type": "markdown",
   "metadata": {},
   "source": [
    "<h3>Random Forest with PCA</h3>"
   ]
  },
  {
   "cell_type": "code",
   "execution_count": 47,
   "metadata": {},
   "outputs": [],
   "source": [
    "from sklearn.decomposition import PCA"
   ]
  },
  {
   "cell_type": "code",
   "execution_count": 48,
   "metadata": {},
   "outputs": [],
   "source": [
    "pipe_PCA = make_pipeline( \n",
    "    SimpleImputer(strategy='median'),\n",
    "    StandardScaler(),\n",
    "    PCA(),\n",
    "    RandomForestClassifier()\n",
    ")"
   ]
  },
  {
   "cell_type": "code",
   "execution_count": 49,
   "metadata": {},
   "outputs": [],
   "source": [
    "params = {'randomforestclassifier__n_estimators': np.arange(200,2000),\n",
    "         'randomforestclassifier__max_depth' :  np.arange(1,5),\n",
    "          'pca__n_components' : np.arange(5,75)}\n",
    "\n",
    "#starting with few iterations, and narrowing the ranges afterwards\n",
    "rf_rand_PCA = RandomizedSearchCV(pipe_PCA,param_distributions=params,cv=5,n_jobs=-1,\n",
    "                                 scoring = 'recall',n_iter=20,random_state = 42, verbose =10)"
   ]
  },
  {
   "cell_type": "code",
   "execution_count": 50,
   "metadata": {
    "scrolled": true
   },
   "outputs": [
    {
     "name": "stdout",
     "output_type": "stream",
     "text": [
      "Fitting 5 folds for each of 20 candidates, totalling 100 fits\n"
     ]
    },
    {
     "name": "stderr",
     "output_type": "stream",
     "text": [
      "[Parallel(n_jobs=-1)]: Using backend LokyBackend with 8 concurrent workers.\n",
      "[Parallel(n_jobs=-1)]: Done   2 tasks      | elapsed:   13.9s\n",
      "[Parallel(n_jobs=-1)]: Done   9 tasks      | elapsed:   21.6s\n",
      "[Parallel(n_jobs=-1)]: Done  16 tasks      | elapsed:   35.0s\n",
      "[Parallel(n_jobs=-1)]: Done  25 tasks      | elapsed:  1.1min\n",
      "[Parallel(n_jobs=-1)]: Done  34 tasks      | elapsed:  1.2min\n",
      "[Parallel(n_jobs=-1)]: Done  45 tasks      | elapsed:  1.5min\n",
      "[Parallel(n_jobs=-1)]: Done  56 tasks      | elapsed:  1.6min\n",
      "[Parallel(n_jobs=-1)]: Done  69 tasks      | elapsed:  1.8min\n",
      "[Parallel(n_jobs=-1)]: Done  82 tasks      | elapsed:  2.4min\n",
      "[Parallel(n_jobs=-1)]: Done  96 out of 100 | elapsed:  3.1min remaining:    7.6s\n",
      "[Parallel(n_jobs=-1)]: Done 100 out of 100 | elapsed:  3.1min finished\n"
     ]
    },
    {
     "data": {
      "text/plain": [
       "RandomizedSearchCV(cv=5,\n",
       "                   estimator=Pipeline(steps=[('simpleimputer',\n",
       "                                              SimpleImputer(strategy='median')),\n",
       "                                             ('standardscaler',\n",
       "                                              StandardScaler()),\n",
       "                                             ('pca', PCA()),\n",
       "                                             ('randomforestclassifier',\n",
       "                                              RandomForestClassifier())]),\n",
       "                   n_iter=20, n_jobs=-1,\n",
       "                   param_distributions={'pca__n_components': array([ 5,  6,  7,  8,  9, 10, 11, 12, 13, 14, 15, 16, 17, 18, 19, 20, 21,\n",
       "       22, 23, 24, 25, 26, 27, 28, 29, 30, 31, 32, 33, 34, 35, 36, 37, 38,\n",
       "       39, 40, 41, 42, 43, 44, 45, 46, 47, 48, 49, 50, 51, 52, 53, 54, 55,\n",
       "       56, 57, 58, 59, 60, 61, 62, 63, 64, 65, 66, 67, 68, 69, 70, 71, 72,\n",
       "       73, 74]),\n",
       "                                        'randomforestclassifier__max_depth': array([1, 2, 3, 4]),\n",
       "                                        'randomforestclassifier__n_estimators': array([ 200,  201,  202, ..., 1997, 1998, 1999])},\n",
       "                   random_state=42, scoring='recall', verbose=10)"
      ]
     },
     "execution_count": 50,
     "metadata": {},
     "output_type": "execute_result"
    }
   ],
   "source": [
    "rf_rand_PCA.fit(X_train,y_train)"
   ]
  },
  {
   "cell_type": "code",
   "execution_count": 51,
   "metadata": {},
   "outputs": [
    {
     "data": {
      "text/plain": [
       "{'randomforestclassifier__n_estimators': 1558,\n",
       " 'randomforestclassifier__max_depth': 4,\n",
       " 'pca__n_components': 21}"
      ]
     },
     "execution_count": 51,
     "metadata": {},
     "output_type": "execute_result"
    }
   ],
   "source": [
    "rf_rand_PCA.best_params_"
   ]
  },
  {
   "cell_type": "code",
   "execution_count": 52,
   "metadata": {},
   "outputs": [
    {
     "data": {
      "text/plain": [
       "0.007200229489386116"
      ]
     },
     "execution_count": 52,
     "metadata": {},
     "output_type": "execute_result"
    }
   ],
   "source": [
    "rf_rand_PCA.best_score_"
   ]
  },
  {
   "cell_type": "code",
   "execution_count": 53,
   "metadata": {},
   "outputs": [
    {
     "data": {
      "text/html": [
       "<div>\n",
       "<style scoped>\n",
       "    .dataframe tbody tr th:only-of-type {\n",
       "        vertical-align: middle;\n",
       "    }\n",
       "\n",
       "    .dataframe tbody tr th {\n",
       "        vertical-align: top;\n",
       "    }\n",
       "\n",
       "    .dataframe thead th {\n",
       "        text-align: right;\n",
       "    }\n",
       "</style>\n",
       "<table border=\"1\" class=\"dataframe\">\n",
       "  <thead>\n",
       "    <tr style=\"text-align: right;\">\n",
       "      <th></th>\n",
       "      <th>precision</th>\n",
       "      <th>recall</th>\n",
       "      <th>threshold</th>\n",
       "      <th>sum</th>\n",
       "    </tr>\n",
       "  </thead>\n",
       "  <tbody>\n",
       "    <tr>\n",
       "      <th>1300</th>\n",
       "      <td>0.072466</td>\n",
       "      <td>0.992806</td>\n",
       "      <td>0.031648</td>\n",
       "      <td>1.065272</td>\n",
       "    </tr>\n",
       "  </tbody>\n",
       "</table>\n",
       "</div>"
      ],
      "text/plain": [
       "      precision    recall  threshold       sum\n",
       "1300   0.072466  0.992806   0.031648  1.065272"
      ]
     },
     "execution_count": 53,
     "metadata": {},
     "output_type": "execute_result"
    },
    {
     "data": {
      "image/png": "[encoded data removed]",
      "text/plain": [
       "<Figure size 432x288 with 1 Axes>"
      ]
     },
     "metadata": {},
     "output_type": "display_data"
    }
   ],
   "source": [
    "c = pr_curve(rf_rand_PCA.best_estimator_,X_train,y_train)\n",
    "c['sum'] = c['precision'] + c['recall']\n",
    "c[c['sum'] == c['sum'].max()]"
   ]
  },
  {
   "cell_type": "code",
   "execution_count": 54,
   "metadata": {},
   "outputs": [
    {
     "data": {
      "text/plain": [
       "0.05633650505672928"
      ]
     },
     "execution_count": 54,
     "metadata": {},
     "output_type": "execute_result"
    }
   ],
   "source": [
    "c[np.round(c.recall,2) == 0.8].threshold.mean()"
   ]
  },
  {
   "cell_type": "code",
   "execution_count": 59,
   "metadata": {},
   "outputs": [
    {
     "name": "stdout",
     "output_type": "stream",
     "text": [
      "Evaluating the random forest classifier on the test set, the recall is: 0.761, and the precision is: 0.121\n"
     ]
    }
   ],
   "source": [
    "test_comp(rf_rand.best_estimator_,0.056)"
   ]
  },
  {
   "cell_type": "markdown",
   "metadata": {},
   "source": [
    "PCA looks to have little impact on the results of the random forest regressor. Due to the added complexity, I will not use PCA"
   ]
  },
  {
   "cell_type": "markdown",
   "metadata": {},
   "source": [
    "<h3>Random Forest Conclusions</h3>\n",
    "\n",
    "On the test test with a 5.6% threshold, 1470 estimators, max depth of 4, the classifier does okay. It yields roughly 76% recall and 12% precision. In more direct terms, roughly 8/10 WNV mosquitos will be correctly predicted as so, while about 12% of predicted WNV will be accurate. This is over-cautious and appropriate for a public health setting."
   ]
  },
  {
   "cell_type": "markdown",
   "metadata": {},
   "source": [
    "<h2>Logistic Regression</h2>\n",
    "Logistic Regression might be the right classifier for this application. Given that I would like to maximize recall, adjusting the barrier could be a great way to do so. I will take a similar approach of random search over large variety with few iterations, and then narrow down and do more iterations."
   ]
  },
  {
   "cell_type": "code",
   "execution_count": 60,
   "metadata": {},
   "outputs": [],
   "source": [
    "from sklearn.linear_model import LogisticRegression"
   ]
  },
  {
   "cell_type": "code",
   "execution_count": 83,
   "metadata": {},
   "outputs": [],
   "source": [
    "pipe_lr = make_pipeline( \n",
    "    SimpleImputer(strategy='median'),\n",
    "    StandardScaler(),\n",
    "    LogisticRegression(max_iter=1000)\n",
    ")\n",
    "\n",
    "params = {'logisticregression__C': np.logspace(-2,6)}\n",
    "\n",
    "#starting with few iterations, and narrowing the ranges afterwards\n",
    "rf_rand_lr = RandomizedSearchCV(pipe_lr,param_distributions=params,cv=5, n_jobs=-1, verbose =10, \n",
    "                                 scoring = 'recall',n_iter=20,random_state = 42)\n"
   ]
  },
  {
   "cell_type": "code",
   "execution_count": 84,
   "metadata": {
    "scrolled": true
   },
   "outputs": [
    {
     "name": "stdout",
     "output_type": "stream",
     "text": [
      "Fitting 5 folds for each of 20 candidates, totalling 100 fits\n"
     ]
    },
    {
     "name": "stderr",
     "output_type": "stream",
     "text": [
      "[Parallel(n_jobs=-1)]: Using backend LokyBackend with 8 concurrent workers.\n",
      "[Parallel(n_jobs=-1)]: Done   2 tasks      | elapsed:    3.4s\n",
      "[Parallel(n_jobs=-1)]: Done   9 tasks      | elapsed:    9.2s\n",
      "[Parallel(n_jobs=-1)]: Done  16 tasks      | elapsed:   13.5s\n",
      "[Parallel(n_jobs=-1)]: Done  25 tasks      | elapsed:   15.9s\n",
      "[Parallel(n_jobs=-1)]: Done  34 tasks      | elapsed:   28.9s\n",
      "[Parallel(n_jobs=-1)]: Done  45 tasks      | elapsed:   35.9s\n",
      "[Parallel(n_jobs=-1)]: Done  56 tasks      | elapsed:   37.9s\n",
      "[Parallel(n_jobs=-1)]: Done  69 tasks      | elapsed:   40.7s\n",
      "[Parallel(n_jobs=-1)]: Done  82 tasks      | elapsed:   48.0s\n",
      "[Parallel(n_jobs=-1)]: Done  96 out of 100 | elapsed:   55.9s remaining:    2.3s\n",
      "[Parallel(n_jobs=-1)]: Done 100 out of 100 | elapsed:   56.1s finished\n"
     ]
    },
    {
     "data": {
      "text/plain": [
       "RandomizedSearchCV(cv=5,\n",
       "                   estimator=Pipeline(steps=[('simpleimputer',\n",
       "                                              SimpleImputer(strategy='median')),\n",
       "                                             ('standardscaler',\n",
       "                                              StandardScaler()),\n",
       "                                             ('logisticregression',\n",
       "                                              LogisticRegression(max_iter=1000))]),\n",
       "                   n_iter=20, n_jobs=-1,\n",
       "                   param_distributions={'logisticregression__C': array([1.00000000e-02, 1.45634848e-02, 2.12095089e-02, 3.08884360e-02,\n",
       "       4.49843267e-02, 6.55128...\n",
       "       3.72759372e+02, 5.42867544e+02, 7.90604321e+02, 1.15139540e+03,\n",
       "       1.67683294e+03, 2.44205309e+03, 3.55648031e+03, 5.17947468e+03,\n",
       "       7.54312006e+03, 1.09854114e+04, 1.59985872e+04, 2.32995181e+04,\n",
       "       3.39322177e+04, 4.94171336e+04, 7.19685673e+04, 1.04811313e+05,\n",
       "       1.52641797e+05, 2.22299648e+05, 3.23745754e+05, 4.71486636e+05,\n",
       "       6.86648845e+05, 1.00000000e+06])},\n",
       "                   random_state=42, scoring='recall', verbose=10)"
      ]
     },
     "execution_count": 84,
     "metadata": {},
     "output_type": "execute_result"
    }
   ],
   "source": [
    "rf_rand_lr.fit(X,y)"
   ]
  },
  {
   "cell_type": "code",
   "execution_count": 85,
   "metadata": {},
   "outputs": [
    {
     "data": {
      "text/plain": [
       "{'logisticregression__C': 23299.51810515367}"
      ]
     },
     "execution_count": 85,
     "metadata": {},
     "output_type": "execute_result"
    }
   ],
   "source": [
    "rf_rand_lr.best_params_"
   ]
  },
  {
   "cell_type": "code",
   "execution_count": 86,
   "metadata": {},
   "outputs": [
    {
     "data": {
      "text/plain": [
       "0.1484848484848485"
      ]
     },
     "execution_count": 86,
     "metadata": {},
     "output_type": "execute_result"
    }
   ],
   "source": [
    "rf_rand_lr.best_score_"
   ]
  },
  {
   "cell_type": "markdown",
   "metadata": {},
   "source": [
    "<h3>Precision Recall Curve - Logistic Regression</h3>\n"
   ]
  },
  {
   "cell_type": "code",
   "execution_count": 87,
   "metadata": {},
   "outputs": [
    {
     "data": {
      "image/png": "[encoded data removed]",
      "text/plain": [
       "<Figure size 432x288 with 1 Axes>"
      ]
     },
     "metadata": {},
     "output_type": "display_data"
    }
   ],
   "source": [
    "c = pr_curve(rf_rand_lr.best_estimator_,X_train,y_train)"
   ]
  },
  {
   "cell_type": "code",
   "execution_count": 88,
   "metadata": {},
   "outputs": [
    {
     "data": {
      "text/html": [
       "<div>\n",
       "<style scoped>\n",
       "    .dataframe tbody tr th:only-of-type {\n",
       "        vertical-align: middle;\n",
       "    }\n",
       "\n",
       "    .dataframe tbody tr th {\n",
       "        vertical-align: top;\n",
       "    }\n",
       "\n",
       "    .dataframe thead th {\n",
       "        text-align: right;\n",
       "    }\n",
       "</style>\n",
       "<table border=\"1\" class=\"dataframe\">\n",
       "  <thead>\n",
       "    <tr style=\"text-align: right;\">\n",
       "      <th></th>\n",
       "      <th>precision</th>\n",
       "      <th>recall</th>\n",
       "      <th>threshold</th>\n",
       "      <th>sum</th>\n",
       "    </tr>\n",
       "  </thead>\n",
       "  <tbody>\n",
       "    <tr>\n",
       "      <th>0</th>\n",
       "      <td>0.065228</td>\n",
       "      <td>1.0</td>\n",
       "      <td>0.000725</td>\n",
       "      <td>1.065228</td>\n",
       "    </tr>\n",
       "  </tbody>\n",
       "</table>\n",
       "</div>"
      ],
      "text/plain": [
       "   precision  recall  threshold       sum\n",
       "0   0.065228     1.0   0.000725  1.065228"
      ]
     },
     "execution_count": 88,
     "metadata": {},
     "output_type": "execute_result"
    }
   ],
   "source": [
    "c['sum'] = c['precision'] + c['recall']\n",
    "c[c['sum'] == c['sum'].max()]"
   ]
  },
  {
   "cell_type": "code",
   "execution_count": 89,
   "metadata": {},
   "outputs": [
    {
     "data": {
      "text/plain": [
       "0.06518273564977835"
      ]
     },
     "execution_count": 89,
     "metadata": {},
     "output_type": "execute_result"
    }
   ],
   "source": [
    "c[np.round(c.recall,2) == 0.8].threshold.mean()"
   ]
  },
  {
   "cell_type": "markdown",
   "metadata": {},
   "source": [
    "<h3>Evaluating with test set</h3>"
   ]
  },
  {
   "cell_type": "code",
   "execution_count": 91,
   "metadata": {},
   "outputs": [
    {
     "name": "stdout",
     "output_type": "stream",
     "text": [
      "Evaluating the classifier on the test set, the recall is: 0.739, and the precision is: 0.146\n"
     ]
    }
   ],
   "source": [
    "test_comp(rf_rand_lr.best_estimator_,0.0654)"
   ]
  },
  {
   "cell_type": "markdown",
   "metadata": {},
   "source": [
    "<h3>Logistic Regression Conclusions</h3>\n",
    "\n",
    "The logistic regression results were similar to the random forest results. Both have easy probabilistic interpretations, so I learn more to the random forest classifier, which I'm more comfortable tuning."
   ]
  },
  {
   "cell_type": "code",
   "execution_count": null,
   "metadata": {},
   "outputs": [],
   "source": []
  }
 ],
 "metadata": {
  "kernelspec": {
   "display_name": "Python 3",
   "language": "python",
   "name": "python3"
  },
  "language_info": {
   "codemirror_mode": {
    "name": "ipython",
    "version": 3
   },
   "file_extension": ".py",
   "mimetype": "text/x-python",
   "name": "python",
   "nbconvert_exporter": "python",
   "pygments_lexer": "ipython3",
   "version": "3.8.3"
  }
 },
 "nbformat": 4,
 "nbformat_minor": 4
}
