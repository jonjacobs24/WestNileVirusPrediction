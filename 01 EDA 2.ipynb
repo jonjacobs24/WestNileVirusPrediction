{
 "cells": [
  {
   "cell_type": "markdown",
   "metadata": {},
   "source": [
    "<h1>Predicting West Nile Virus in Chicago</h1>\n",
    "<h2>EDA and feature engineering, 2nd round</h2>"
   ]
  },
  {
   "cell_type": "code",
   "execution_count": 1,
   "metadata": {},
   "outputs": [],
   "source": [
    "#importing relevant packages\n",
    "\n",
    "import pandas as pd\n",
    "import numpy as np\n",
    "from scipy import stats\n",
    "import seaborn as sns\n",
    "import matplotlib.pyplot as plt\n",
    "from sklearn.model_selection import train_test_split, cross_val_score, GridSearchCV\n",
    "from sklearn.pipeline import Pipeline\n",
    "from sklearn.metrics import classification_report\n",
    "from sklearn.linear_model import LogisticRegression\n",
    "import pandas.core.algorithms as algos\n",
    "from pandas import Series\n",
    "import scipy.stats.stats as stats\n",
    "import re\n",
    "import traceback\n",
    "import string\n",
    "import statsmodels.api as sm\n",
    "from statsmodels.stats.outliers_influence import variance_inflation_factor\n",
    "\n",
    "sns.set_style('whitegrid')"
   ]
  },
  {
   "cell_type": "code",
   "execution_count": 2,
   "metadata": {},
   "outputs": [],
   "source": [
    "sp = pd.read_csv('./data/spray.csv.zip') #spray data\n",
    "df= pd.read_csv('./data/train.csv.zip') #mosquito data\n",
    "w = pd.read_csv('./data/weather.csv.zip') # weather data\n"
   ]
  },
  {
   "cell_type": "markdown",
   "metadata": {},
   "source": [
    "<h2>Wrangling Weather</h2>\n",
    "Filling missing values, breaking out weather events to separate columns, checking value types, and handling the two weather stations"
   ]
  },
  {
   "cell_type": "code",
   "execution_count": 3,
   "metadata": {},
   "outputs": [
    {
     "name": "stdout",
     "output_type": "stream",
     "text": [
      "<class 'pandas.core.frame.DataFrame'>\n",
      "RangeIndex: 2944 entries, 0 to 2943\n",
      "Data columns (total 22 columns):\n",
      " #   Column       Non-Null Count  Dtype  \n",
      "---  ------       --------------  -----  \n",
      " 0   Station      2944 non-null   int64  \n",
      " 1   Date         2944 non-null   object \n",
      " 2   Tmax         2944 non-null   int64  \n",
      " 3   Tmin         2944 non-null   int64  \n",
      " 4   Tavg         2944 non-null   object \n",
      " 5   Depart       2944 non-null   object \n",
      " 6   DewPoint     2944 non-null   int64  \n",
      " 7   WetBulb      2944 non-null   object \n",
      " 8   Heat         2944 non-null   object \n",
      " 9   Cool         2944 non-null   object \n",
      " 10  Sunrise      2944 non-null   object \n",
      " 11  Sunset       2944 non-null   object \n",
      " 12  CodeSum      2944 non-null   object \n",
      " 13  Depth        2944 non-null   object \n",
      " 14  Water1       2944 non-null   object \n",
      " 15  SnowFall     2944 non-null   object \n",
      " 16  PrecipTotal  2944 non-null   object \n",
      " 17  StnPressure  2944 non-null   object \n",
      " 18  SeaLevel     2944 non-null   object \n",
      " 19  ResultSpeed  2944 non-null   float64\n",
      " 20  ResultDir    2944 non-null   int64  \n",
      " 21  AvgSpeed     2944 non-null   object \n",
      "dtypes: float64(1), int64(5), object(16)\n",
      "memory usage: 506.1+ KB\n"
     ]
    }
   ],
   "source": [
    "w.info()"
   ]
  },
  {
   "cell_type": "code",
   "execution_count": 4,
   "metadata": {},
   "outputs": [
    {
     "data": {
      "text/html": [
       "<div>\n",
       "<style scoped>\n",
       "    .dataframe tbody tr th:only-of-type {\n",
       "        vertical-align: middle;\n",
       "    }\n",
       "\n",
       "    .dataframe tbody tr th {\n",
       "        vertical-align: top;\n",
       "    }\n",
       "\n",
       "    .dataframe thead th {\n",
       "        text-align: right;\n",
       "    }\n",
       "</style>\n",
       "<table border=\"1\" class=\"dataframe\">\n",
       "  <thead>\n",
       "    <tr style=\"text-align: right;\">\n",
       "      <th></th>\n",
       "      <th>Station</th>\n",
       "      <th>Date</th>\n",
       "      <th>Tmax</th>\n",
       "      <th>Tmin</th>\n",
       "      <th>Tavg</th>\n",
       "      <th>Depart</th>\n",
       "      <th>DewPoint</th>\n",
       "      <th>WetBulb</th>\n",
       "      <th>Heat</th>\n",
       "      <th>Cool</th>\n",
       "      <th>...</th>\n",
       "      <th>CodeSum</th>\n",
       "      <th>Depth</th>\n",
       "      <th>Water1</th>\n",
       "      <th>SnowFall</th>\n",
       "      <th>PrecipTotal</th>\n",
       "      <th>StnPressure</th>\n",
       "      <th>SeaLevel</th>\n",
       "      <th>ResultSpeed</th>\n",
       "      <th>ResultDir</th>\n",
       "      <th>AvgSpeed</th>\n",
       "    </tr>\n",
       "  </thead>\n",
       "  <tbody>\n",
       "    <tr>\n",
       "      <th>0</th>\n",
       "      <td>1</td>\n",
       "      <td>2007-05-01</td>\n",
       "      <td>83</td>\n",
       "      <td>50</td>\n",
       "      <td>67</td>\n",
       "      <td>14</td>\n",
       "      <td>51</td>\n",
       "      <td>56</td>\n",
       "      <td>0</td>\n",
       "      <td>2</td>\n",
       "      <td>...</td>\n",
       "      <td></td>\n",
       "      <td>0</td>\n",
       "      <td>M</td>\n",
       "      <td>0.0</td>\n",
       "      <td>0.00</td>\n",
       "      <td>29.10</td>\n",
       "      <td>29.82</td>\n",
       "      <td>1.7</td>\n",
       "      <td>27</td>\n",
       "      <td>9.2</td>\n",
       "    </tr>\n",
       "    <tr>\n",
       "      <th>1</th>\n",
       "      <td>2</td>\n",
       "      <td>2007-05-01</td>\n",
       "      <td>84</td>\n",
       "      <td>52</td>\n",
       "      <td>68</td>\n",
       "      <td>M</td>\n",
       "      <td>51</td>\n",
       "      <td>57</td>\n",
       "      <td>0</td>\n",
       "      <td>3</td>\n",
       "      <td>...</td>\n",
       "      <td></td>\n",
       "      <td>M</td>\n",
       "      <td>M</td>\n",
       "      <td>M</td>\n",
       "      <td>0.00</td>\n",
       "      <td>29.18</td>\n",
       "      <td>29.82</td>\n",
       "      <td>2.7</td>\n",
       "      <td>25</td>\n",
       "      <td>9.6</td>\n",
       "    </tr>\n",
       "    <tr>\n",
       "      <th>2</th>\n",
       "      <td>1</td>\n",
       "      <td>2007-05-02</td>\n",
       "      <td>59</td>\n",
       "      <td>42</td>\n",
       "      <td>51</td>\n",
       "      <td>-3</td>\n",
       "      <td>42</td>\n",
       "      <td>47</td>\n",
       "      <td>14</td>\n",
       "      <td>0</td>\n",
       "      <td>...</td>\n",
       "      <td>BR</td>\n",
       "      <td>0</td>\n",
       "      <td>M</td>\n",
       "      <td>0.0</td>\n",
       "      <td>0.00</td>\n",
       "      <td>29.38</td>\n",
       "      <td>30.09</td>\n",
       "      <td>13.0</td>\n",
       "      <td>4</td>\n",
       "      <td>13.4</td>\n",
       "    </tr>\n",
       "    <tr>\n",
       "      <th>3</th>\n",
       "      <td>2</td>\n",
       "      <td>2007-05-02</td>\n",
       "      <td>60</td>\n",
       "      <td>43</td>\n",
       "      <td>52</td>\n",
       "      <td>M</td>\n",
       "      <td>42</td>\n",
       "      <td>47</td>\n",
       "      <td>13</td>\n",
       "      <td>0</td>\n",
       "      <td>...</td>\n",
       "      <td>BR HZ</td>\n",
       "      <td>M</td>\n",
       "      <td>M</td>\n",
       "      <td>M</td>\n",
       "      <td>0.00</td>\n",
       "      <td>29.44</td>\n",
       "      <td>30.08</td>\n",
       "      <td>13.3</td>\n",
       "      <td>2</td>\n",
       "      <td>13.4</td>\n",
       "    </tr>\n",
       "    <tr>\n",
       "      <th>4</th>\n",
       "      <td>1</td>\n",
       "      <td>2007-05-03</td>\n",
       "      <td>66</td>\n",
       "      <td>46</td>\n",
       "      <td>56</td>\n",
       "      <td>2</td>\n",
       "      <td>40</td>\n",
       "      <td>48</td>\n",
       "      <td>9</td>\n",
       "      <td>0</td>\n",
       "      <td>...</td>\n",
       "      <td></td>\n",
       "      <td>0</td>\n",
       "      <td>M</td>\n",
       "      <td>0.0</td>\n",
       "      <td>0.00</td>\n",
       "      <td>29.39</td>\n",
       "      <td>30.12</td>\n",
       "      <td>11.7</td>\n",
       "      <td>7</td>\n",
       "      <td>11.9</td>\n",
       "    </tr>\n",
       "  </tbody>\n",
       "</table>\n",
       "<p>5 rows × 22 columns</p>\n",
       "</div>"
      ],
      "text/plain": [
       "   Station        Date  Tmax  Tmin Tavg Depart  DewPoint WetBulb Heat Cool  \\\n",
       "0        1  2007-05-01    83    50   67     14        51      56    0    2   \n",
       "1        2  2007-05-01    84    52   68      M        51      57    0    3   \n",
       "2        1  2007-05-02    59    42   51     -3        42      47   14    0   \n",
       "3        2  2007-05-02    60    43   52      M        42      47   13    0   \n",
       "4        1  2007-05-03    66    46   56      2        40      48    9    0   \n",
       "\n",
       "   ... CodeSum Depth Water1 SnowFall PrecipTotal StnPressure SeaLevel  \\\n",
       "0  ...             0      M      0.0        0.00       29.10    29.82   \n",
       "1  ...             M      M        M        0.00       29.18    29.82   \n",
       "2  ...      BR     0      M      0.0        0.00       29.38    30.09   \n",
       "3  ...   BR HZ     M      M        M        0.00       29.44    30.08   \n",
       "4  ...             0      M      0.0        0.00       29.39    30.12   \n",
       "\n",
       "  ResultSpeed ResultDir  AvgSpeed  \n",
       "0         1.7        27       9.2  \n",
       "1         2.7        25       9.6  \n",
       "2        13.0         4      13.4  \n",
       "3        13.3         2      13.4  \n",
       "4        11.7         7      11.9  \n",
       "\n",
       "[5 rows x 22 columns]"
      ]
     },
     "execution_count": 4,
     "metadata": {},
     "output_type": "execute_result"
    }
   ],
   "source": [
    "w.head()"
   ]
  },
  {
   "cell_type": "code",
   "execution_count": 5,
   "metadata": {},
   "outputs": [
    {
     "data": {
      "text/plain": [
       "M    2944\n",
       "Name: Water1, dtype: int64"
      ]
     },
     "execution_count": 5,
     "metadata": {},
     "output_type": "execute_result"
    }
   ],
   "source": [
    "w.Water1.value_counts()"
   ]
  },
  {
   "cell_type": "code",
   "execution_count": 6,
   "metadata": {},
   "outputs": [],
   "source": [
    "w = w.replace('M',np.nan)"
   ]
  },
  {
   "cell_type": "code",
   "execution_count": 7,
   "metadata": {},
   "outputs": [
    {
     "data": {
      "text/plain": [
       "0.0    1459\n",
       "  T      12\n",
       "0.1       1\n",
       "Name: SnowFall, dtype: int64"
      ]
     },
     "execution_count": 7,
     "metadata": {},
     "output_type": "execute_result"
    }
   ],
   "source": [
    "w.SnowFall.value_counts()"
   ]
  },
  {
   "cell_type": "code",
   "execution_count": 8,
   "metadata": {},
   "outputs": [
    {
     "data": {
      "text/plain": [
       "array(['67', '68', '51', '52', '56', '58', nan, '60', '59', '65', '70',\n",
       "       '69', '71', '61', '55', '57', '73', '72', '53', '62', '63', '74',\n",
       "       '75', '78', '76', '77', '66', '80', '64', '81', '82', '79', '85',\n",
       "       '84', '83', '50', '49', '46', '48', '45', '54', '47', '44', '40',\n",
       "       '41', '38', '39', '42', '37', '43', '86', '87', '89', '92', '88',\n",
       "       '91', '93', '94', '90', '36'], dtype=object)"
      ]
     },
     "execution_count": 8,
     "metadata": {},
     "output_type": "execute_result"
    }
   ],
   "source": [
    "w.Tavg.unique()"
   ]
  },
  {
   "cell_type": "code",
   "execution_count": 9,
   "metadata": {},
   "outputs": [],
   "source": [
    "w.loc[:,'Tavg'] = w.loc[:,'Tavg'].astype('float')"
   ]
  },
  {
   "cell_type": "code",
   "execution_count": 10,
   "metadata": {},
   "outputs": [
    {
     "data": {
      "text/plain": [
       "array(['14', nan, '-3', ' 2', ' 4', ' 5', '10', '12', '13', '-2', '15',\n",
       "       '11', '-4', '-6', ' 8', '-5', ' 1', ' 9', ' 6', '-9', '-8', ' 3',\n",
       "       ' 0', '-1', '-7', ' 7', '-14', '18', '16', '22', '21', '20', '-10',\n",
       "       '-16', '17', '-12', '-11', '-15', '-17', '19', '-13', '23'],\n",
       "      dtype=object)"
      ]
     },
     "execution_count": 10,
     "metadata": {},
     "output_type": "execute_result"
    }
   ],
   "source": [
    "w.Depart.unique()"
   ]
  },
  {
   "cell_type": "code",
   "execution_count": 11,
   "metadata": {},
   "outputs": [],
   "source": [
    "w.loc[:,'Depart'] = w.loc[:,'Depart'].astype('float')"
   ]
  },
  {
   "cell_type": "code",
   "execution_count": 12,
   "metadata": {},
   "outputs": [
    {
     "name": "stdout",
     "output_type": "stream",
     "text": [
      "<class 'pandas.core.frame.DataFrame'>\n",
      "RangeIndex: 2944 entries, 0 to 2943\n",
      "Data columns (total 22 columns):\n",
      " #   Column       Non-Null Count  Dtype  \n",
      "---  ------       --------------  -----  \n",
      " 0   Station      2944 non-null   int64  \n",
      " 1   Date         2944 non-null   object \n",
      " 2   Tmax         2944 non-null   int64  \n",
      " 3   Tmin         2944 non-null   int64  \n",
      " 4   Tavg         2933 non-null   float64\n",
      " 5   Depart       1472 non-null   float64\n",
      " 6   DewPoint     2944 non-null   int64  \n",
      " 7   WetBulb      2940 non-null   object \n",
      " 8   Heat         2933 non-null   object \n",
      " 9   Cool         2933 non-null   object \n",
      " 10  Sunrise      2944 non-null   object \n",
      " 11  Sunset       2944 non-null   object \n",
      " 12  CodeSum      2944 non-null   object \n",
      " 13  Depth        1472 non-null   object \n",
      " 14  Water1       0 non-null      float64\n",
      " 15  SnowFall     1472 non-null   object \n",
      " 16  PrecipTotal  2942 non-null   object \n",
      " 17  StnPressure  2940 non-null   object \n",
      " 18  SeaLevel     2935 non-null   object \n",
      " 19  ResultSpeed  2944 non-null   float64\n",
      " 20  ResultDir    2944 non-null   int64  \n",
      " 21  AvgSpeed     2941 non-null   object \n",
      "dtypes: float64(4), int64(5), object(13)\n",
      "memory usage: 506.1+ KB\n"
     ]
    }
   ],
   "source": [
    "w.info()"
   ]
  },
  {
   "cell_type": "code",
   "execution_count": 13,
   "metadata": {},
   "outputs": [
    {
     "data": {
      "text/plain": [
       "array(['56', '57', '47', '48', '50', '49', '46', '54', '53', '62', '63',\n",
       "       '60', '61', '51', '59', '58', '43', '44', '45', '65', '66', '67',\n",
       "       '64', '52', '55', '69', '68', '70', '72', '71', '73', '74', '76',\n",
       "       '42', '39', '40', '41', '35', '33', '34', nan, '75', '36', '32',\n",
       "       '38', '78', '77', '37'], dtype=object)"
      ]
     },
     "execution_count": 13,
     "metadata": {},
     "output_type": "execute_result"
    }
   ],
   "source": [
    "w.WetBulb.unique()"
   ]
  },
  {
   "cell_type": "code",
   "execution_count": 14,
   "metadata": {},
   "outputs": [],
   "source": [
    "w['WetBulb'] = w['WetBulb'].astype('float')"
   ]
  },
  {
   "cell_type": "code",
   "execution_count": 15,
   "metadata": {},
   "outputs": [
    {
     "data": {
      "text/plain": [
       "array(['0', '14', '13', '9', '7', nan, '5', '6', '4', '10', '8', '12',\n",
       "       '3', '2', '1', '15', '16', '19', '17', '20', '11', '18', '21',\n",
       "       '25', '24', '27', '26', '23', '28', '22', '29'], dtype=object)"
      ]
     },
     "execution_count": 15,
     "metadata": {},
     "output_type": "execute_result"
    }
   ],
   "source": [
    "w.Heat.unique()"
   ]
  },
  {
   "cell_type": "code",
   "execution_count": 16,
   "metadata": {},
   "outputs": [
    {
     "data": {
      "text/plain": [
       "array([' 2', ' 3', ' 0', nan, ' 5', ' 4', ' 6', ' 8', ' 7', ' 9', '10',\n",
       "       '13', '11', '12', ' 1', '15', '16', '17', '14', '20', '19', '18',\n",
       "       '21', '22', '24', '27', '23', '26', '28', '29', '25'], dtype=object)"
      ]
     },
     "execution_count": 16,
     "metadata": {},
     "output_type": "execute_result"
    }
   ],
   "source": [
    "w.Cool.unique()"
   ]
  },
  {
   "cell_type": "code",
   "execution_count": 17,
   "metadata": {},
   "outputs": [],
   "source": [
    "w['Heat'] = w['Heat'].astype('float')\n",
    "w['Cool'] = w['Cool'].astype('float')"
   ]
  },
  {
   "cell_type": "code",
   "execution_count": 18,
   "metadata": {},
   "outputs": [
    {
     "data": {
      "text/plain": [
       "Sunrise    0\n",
       "Sunset     0\n",
       "dtype: int64"
      ]
     },
     "execution_count": 18,
     "metadata": {},
     "output_type": "execute_result"
    }
   ],
   "source": [
    "w.loc[:,'Sunrise':'Sunset'] = w.loc[:,'Sunrise':'Sunset'].replace('-',method='bfill')\n",
    "w.loc[:,'Sunrise':'Sunset'] = w.loc[:,'Sunrise':'Sunset'].replace('-',method='ffill')\n",
    "w.loc[:,'Sunrise':'Sunset'].isna().sum()"
   ]
  },
  {
   "cell_type": "code",
   "execution_count": 19,
   "metadata": {},
   "outputs": [],
   "source": [
    "w.loc[:,'Sunrise':'Sunset'] = w.loc[:,'Sunrise':'Sunset'].astype('int')"
   ]
  },
  {
   "cell_type": "code",
   "execution_count": 20,
   "metadata": {},
   "outputs": [],
   "source": [
    "w['sunrise_diff'] = w['Sunrise'].diff().fillna(0)\n",
    "w['sunset_diff'] = w['Sunset'].diff().fillna(0)"
   ]
  },
  {
   "cell_type": "code",
   "execution_count": 21,
   "metadata": {},
   "outputs": [
    {
     "name": "stdout",
     "output_type": "stream",
     "text": [
      "<class 'pandas.core.frame.DataFrame'>\n",
      "RangeIndex: 2944 entries, 0 to 2943\n",
      "Data columns (total 24 columns):\n",
      " #   Column        Non-Null Count  Dtype  \n",
      "---  ------        --------------  -----  \n",
      " 0   Station       2944 non-null   int64  \n",
      " 1   Date          2944 non-null   object \n",
      " 2   Tmax          2944 non-null   int64  \n",
      " 3   Tmin          2944 non-null   int64  \n",
      " 4   Tavg          2933 non-null   float64\n",
      " 5   Depart        1472 non-null   float64\n",
      " 6   DewPoint      2944 non-null   int64  \n",
      " 7   WetBulb       2940 non-null   float64\n",
      " 8   Heat          2933 non-null   float64\n",
      " 9   Cool          2933 non-null   float64\n",
      " 10  Sunrise       2944 non-null   int64  \n",
      " 11  Sunset        2944 non-null   int64  \n",
      " 12  CodeSum       2944 non-null   object \n",
      " 13  Depth         1472 non-null   object \n",
      " 14  Water1        0 non-null      float64\n",
      " 15  SnowFall      1472 non-null   object \n",
      " 16  PrecipTotal   2942 non-null   object \n",
      " 17  StnPressure   2940 non-null   object \n",
      " 18  SeaLevel      2935 non-null   object \n",
      " 19  ResultSpeed   2944 non-null   float64\n",
      " 20  ResultDir     2944 non-null   int64  \n",
      " 21  AvgSpeed      2941 non-null   object \n",
      " 22  sunrise_diff  2944 non-null   float64\n",
      " 23  sunset_diff   2944 non-null   float64\n",
      "dtypes: float64(9), int64(7), object(8)\n",
      "memory usage: 552.1+ KB\n"
     ]
    }
   ],
   "source": [
    "w.info()"
   ]
  },
  {
   "cell_type": "code",
   "execution_count": 22,
   "metadata": {},
   "outputs": [
    {
     "data": {
      "text/html": [
       "<div>\n",
       "<style scoped>\n",
       "    .dataframe tbody tr th:only-of-type {\n",
       "        vertical-align: middle;\n",
       "    }\n",
       "\n",
       "    .dataframe tbody tr th {\n",
       "        vertical-align: top;\n",
       "    }\n",
       "\n",
       "    .dataframe thead th {\n",
       "        text-align: right;\n",
       "    }\n",
       "</style>\n",
       "<table border=\"1\" class=\"dataframe\">\n",
       "  <thead>\n",
       "    <tr style=\"text-align: right;\">\n",
       "      <th></th>\n",
       "      <th>Station</th>\n",
       "      <th>Date</th>\n",
       "      <th>Tmax</th>\n",
       "      <th>Tmin</th>\n",
       "      <th>Tavg</th>\n",
       "      <th>Depart</th>\n",
       "      <th>DewPoint</th>\n",
       "      <th>WetBulb</th>\n",
       "      <th>Heat</th>\n",
       "      <th>Cool</th>\n",
       "      <th>...</th>\n",
       "      <th>Water1</th>\n",
       "      <th>SnowFall</th>\n",
       "      <th>PrecipTotal</th>\n",
       "      <th>StnPressure</th>\n",
       "      <th>SeaLevel</th>\n",
       "      <th>ResultSpeed</th>\n",
       "      <th>ResultDir</th>\n",
       "      <th>AvgSpeed</th>\n",
       "      <th>sunrise_diff</th>\n",
       "      <th>sunset_diff</th>\n",
       "    </tr>\n",
       "  </thead>\n",
       "  <tbody>\n",
       "    <tr>\n",
       "      <th>0</th>\n",
       "      <td>1</td>\n",
       "      <td>2007-05-01</td>\n",
       "      <td>83</td>\n",
       "      <td>50</td>\n",
       "      <td>67.0</td>\n",
       "      <td>14.0</td>\n",
       "      <td>51</td>\n",
       "      <td>56.0</td>\n",
       "      <td>0.0</td>\n",
       "      <td>2.0</td>\n",
       "      <td>...</td>\n",
       "      <td>NaN</td>\n",
       "      <td>0.0</td>\n",
       "      <td>0.00</td>\n",
       "      <td>29.10</td>\n",
       "      <td>29.82</td>\n",
       "      <td>1.7</td>\n",
       "      <td>27</td>\n",
       "      <td>9.2</td>\n",
       "      <td>0.0</td>\n",
       "      <td>0.0</td>\n",
       "    </tr>\n",
       "    <tr>\n",
       "      <th>1</th>\n",
       "      <td>2</td>\n",
       "      <td>2007-05-01</td>\n",
       "      <td>84</td>\n",
       "      <td>52</td>\n",
       "      <td>68.0</td>\n",
       "      <td>NaN</td>\n",
       "      <td>51</td>\n",
       "      <td>57.0</td>\n",
       "      <td>0.0</td>\n",
       "      <td>3.0</td>\n",
       "      <td>...</td>\n",
       "      <td>NaN</td>\n",
       "      <td>NaN</td>\n",
       "      <td>0.00</td>\n",
       "      <td>29.18</td>\n",
       "      <td>29.82</td>\n",
       "      <td>2.7</td>\n",
       "      <td>25</td>\n",
       "      <td>9.6</td>\n",
       "      <td>-1.0</td>\n",
       "      <td>1.0</td>\n",
       "    </tr>\n",
       "    <tr>\n",
       "      <th>2</th>\n",
       "      <td>1</td>\n",
       "      <td>2007-05-02</td>\n",
       "      <td>59</td>\n",
       "      <td>42</td>\n",
       "      <td>51.0</td>\n",
       "      <td>-3.0</td>\n",
       "      <td>42</td>\n",
       "      <td>47.0</td>\n",
       "      <td>14.0</td>\n",
       "      <td>0.0</td>\n",
       "      <td>...</td>\n",
       "      <td>NaN</td>\n",
       "      <td>0.0</td>\n",
       "      <td>0.00</td>\n",
       "      <td>29.38</td>\n",
       "      <td>30.09</td>\n",
       "      <td>13.0</td>\n",
       "      <td>4</td>\n",
       "      <td>13.4</td>\n",
       "      <td>0.0</td>\n",
       "      <td>0.0</td>\n",
       "    </tr>\n",
       "    <tr>\n",
       "      <th>3</th>\n",
       "      <td>2</td>\n",
       "      <td>2007-05-02</td>\n",
       "      <td>60</td>\n",
       "      <td>43</td>\n",
       "      <td>52.0</td>\n",
       "      <td>NaN</td>\n",
       "      <td>42</td>\n",
       "      <td>47.0</td>\n",
       "      <td>13.0</td>\n",
       "      <td>0.0</td>\n",
       "      <td>...</td>\n",
       "      <td>NaN</td>\n",
       "      <td>NaN</td>\n",
       "      <td>0.00</td>\n",
       "      <td>29.44</td>\n",
       "      <td>30.08</td>\n",
       "      <td>13.3</td>\n",
       "      <td>2</td>\n",
       "      <td>13.4</td>\n",
       "      <td>-1.0</td>\n",
       "      <td>1.0</td>\n",
       "    </tr>\n",
       "    <tr>\n",
       "      <th>4</th>\n",
       "      <td>1</td>\n",
       "      <td>2007-05-03</td>\n",
       "      <td>66</td>\n",
       "      <td>46</td>\n",
       "      <td>56.0</td>\n",
       "      <td>2.0</td>\n",
       "      <td>40</td>\n",
       "      <td>48.0</td>\n",
       "      <td>9.0</td>\n",
       "      <td>0.0</td>\n",
       "      <td>...</td>\n",
       "      <td>NaN</td>\n",
       "      <td>0.0</td>\n",
       "      <td>0.00</td>\n",
       "      <td>29.39</td>\n",
       "      <td>30.12</td>\n",
       "      <td>11.7</td>\n",
       "      <td>7</td>\n",
       "      <td>11.9</td>\n",
       "      <td>0.0</td>\n",
       "      <td>0.0</td>\n",
       "    </tr>\n",
       "  </tbody>\n",
       "</table>\n",
       "<p>5 rows × 24 columns</p>\n",
       "</div>"
      ],
      "text/plain": [
       "   Station        Date  Tmax  Tmin  Tavg  Depart  DewPoint  WetBulb  Heat  \\\n",
       "0        1  2007-05-01    83    50  67.0    14.0        51     56.0   0.0   \n",
       "1        2  2007-05-01    84    52  68.0     NaN        51     57.0   0.0   \n",
       "2        1  2007-05-02    59    42  51.0    -3.0        42     47.0  14.0   \n",
       "3        2  2007-05-02    60    43  52.0     NaN        42     47.0  13.0   \n",
       "4        1  2007-05-03    66    46  56.0     2.0        40     48.0   9.0   \n",
       "\n",
       "   Cool  ...  Water1  SnowFall PrecipTotal StnPressure  SeaLevel ResultSpeed  \\\n",
       "0   2.0  ...     NaN       0.0        0.00       29.10     29.82         1.7   \n",
       "1   3.0  ...     NaN       NaN        0.00       29.18     29.82         2.7   \n",
       "2   0.0  ...     NaN       0.0        0.00       29.38     30.09        13.0   \n",
       "3   0.0  ...     NaN       NaN        0.00       29.44     30.08        13.3   \n",
       "4   0.0  ...     NaN       0.0        0.00       29.39     30.12        11.7   \n",
       "\n",
       "  ResultDir AvgSpeed sunrise_diff  sunset_diff  \n",
       "0        27      9.2          0.0          0.0  \n",
       "1        25      9.6         -1.0          1.0  \n",
       "2         4     13.4          0.0          0.0  \n",
       "3         2     13.4         -1.0          1.0  \n",
       "4         7     11.9          0.0          0.0  \n",
       "\n",
       "[5 rows x 24 columns]"
      ]
     },
     "execution_count": 22,
     "metadata": {},
     "output_type": "execute_result"
    }
   ],
   "source": [
    "w.head()"
   ]
  },
  {
   "cell_type": "code",
   "execution_count": 23,
   "metadata": {},
   "outputs": [],
   "source": [
    "w['Date'] = pd.to_datetime(w['Date'])"
   ]
  },
  {
   "cell_type": "code",
   "execution_count": 24,
   "metadata": {
    "scrolled": true
   },
   "outputs": [],
   "source": [
    "w = w.drop('Water1',axis=1)"
   ]
  },
  {
   "cell_type": "code",
   "execution_count": 25,
   "metadata": {},
   "outputs": [
    {
     "data": {
      "text/html": [
       "<div>\n",
       "<style scoped>\n",
       "    .dataframe tbody tr th:only-of-type {\n",
       "        vertical-align: middle;\n",
       "    }\n",
       "\n",
       "    .dataframe tbody tr th {\n",
       "        vertical-align: top;\n",
       "    }\n",
       "\n",
       "    .dataframe thead th {\n",
       "        text-align: right;\n",
       "    }\n",
       "</style>\n",
       "<table border=\"1\" class=\"dataframe\">\n",
       "  <thead>\n",
       "    <tr style=\"text-align: right;\">\n",
       "      <th></th>\n",
       "      <th>Station</th>\n",
       "      <th>Date</th>\n",
       "      <th>Tmax</th>\n",
       "      <th>Tmin</th>\n",
       "      <th>Tavg</th>\n",
       "      <th>Depart</th>\n",
       "      <th>DewPoint</th>\n",
       "      <th>WetBulb</th>\n",
       "      <th>Heat</th>\n",
       "      <th>Cool</th>\n",
       "      <th>...</th>\n",
       "      <th>Depth</th>\n",
       "      <th>SnowFall</th>\n",
       "      <th>PrecipTotal</th>\n",
       "      <th>StnPressure</th>\n",
       "      <th>SeaLevel</th>\n",
       "      <th>ResultSpeed</th>\n",
       "      <th>ResultDir</th>\n",
       "      <th>AvgSpeed</th>\n",
       "      <th>sunrise_diff</th>\n",
       "      <th>sunset_diff</th>\n",
       "    </tr>\n",
       "  </thead>\n",
       "  <tbody>\n",
       "    <tr>\n",
       "      <th>0</th>\n",
       "      <td>1</td>\n",
       "      <td>2007-05-01</td>\n",
       "      <td>83</td>\n",
       "      <td>50</td>\n",
       "      <td>67.0</td>\n",
       "      <td>14.0</td>\n",
       "      <td>51</td>\n",
       "      <td>56.0</td>\n",
       "      <td>0.0</td>\n",
       "      <td>2.0</td>\n",
       "      <td>...</td>\n",
       "      <td>0</td>\n",
       "      <td>0.0</td>\n",
       "      <td>0.00</td>\n",
       "      <td>29.10</td>\n",
       "      <td>29.82</td>\n",
       "      <td>1.7</td>\n",
       "      <td>27</td>\n",
       "      <td>9.2</td>\n",
       "      <td>0.0</td>\n",
       "      <td>0.0</td>\n",
       "    </tr>\n",
       "    <tr>\n",
       "      <th>1</th>\n",
       "      <td>2</td>\n",
       "      <td>2007-05-01</td>\n",
       "      <td>84</td>\n",
       "      <td>52</td>\n",
       "      <td>68.0</td>\n",
       "      <td>NaN</td>\n",
       "      <td>51</td>\n",
       "      <td>57.0</td>\n",
       "      <td>0.0</td>\n",
       "      <td>3.0</td>\n",
       "      <td>...</td>\n",
       "      <td>NaN</td>\n",
       "      <td>NaN</td>\n",
       "      <td>0.00</td>\n",
       "      <td>29.18</td>\n",
       "      <td>29.82</td>\n",
       "      <td>2.7</td>\n",
       "      <td>25</td>\n",
       "      <td>9.6</td>\n",
       "      <td>-1.0</td>\n",
       "      <td>1.0</td>\n",
       "    </tr>\n",
       "    <tr>\n",
       "      <th>2</th>\n",
       "      <td>1</td>\n",
       "      <td>2007-05-02</td>\n",
       "      <td>59</td>\n",
       "      <td>42</td>\n",
       "      <td>51.0</td>\n",
       "      <td>-3.0</td>\n",
       "      <td>42</td>\n",
       "      <td>47.0</td>\n",
       "      <td>14.0</td>\n",
       "      <td>0.0</td>\n",
       "      <td>...</td>\n",
       "      <td>0</td>\n",
       "      <td>0.0</td>\n",
       "      <td>0.00</td>\n",
       "      <td>29.38</td>\n",
       "      <td>30.09</td>\n",
       "      <td>13.0</td>\n",
       "      <td>4</td>\n",
       "      <td>13.4</td>\n",
       "      <td>0.0</td>\n",
       "      <td>0.0</td>\n",
       "    </tr>\n",
       "    <tr>\n",
       "      <th>3</th>\n",
       "      <td>2</td>\n",
       "      <td>2007-05-02</td>\n",
       "      <td>60</td>\n",
       "      <td>43</td>\n",
       "      <td>52.0</td>\n",
       "      <td>NaN</td>\n",
       "      <td>42</td>\n",
       "      <td>47.0</td>\n",
       "      <td>13.0</td>\n",
       "      <td>0.0</td>\n",
       "      <td>...</td>\n",
       "      <td>NaN</td>\n",
       "      <td>NaN</td>\n",
       "      <td>0.00</td>\n",
       "      <td>29.44</td>\n",
       "      <td>30.08</td>\n",
       "      <td>13.3</td>\n",
       "      <td>2</td>\n",
       "      <td>13.4</td>\n",
       "      <td>-1.0</td>\n",
       "      <td>1.0</td>\n",
       "    </tr>\n",
       "    <tr>\n",
       "      <th>4</th>\n",
       "      <td>1</td>\n",
       "      <td>2007-05-03</td>\n",
       "      <td>66</td>\n",
       "      <td>46</td>\n",
       "      <td>56.0</td>\n",
       "      <td>2.0</td>\n",
       "      <td>40</td>\n",
       "      <td>48.0</td>\n",
       "      <td>9.0</td>\n",
       "      <td>0.0</td>\n",
       "      <td>...</td>\n",
       "      <td>0</td>\n",
       "      <td>0.0</td>\n",
       "      <td>0.00</td>\n",
       "      <td>29.39</td>\n",
       "      <td>30.12</td>\n",
       "      <td>11.7</td>\n",
       "      <td>7</td>\n",
       "      <td>11.9</td>\n",
       "      <td>0.0</td>\n",
       "      <td>0.0</td>\n",
       "    </tr>\n",
       "    <tr>\n",
       "      <th>5</th>\n",
       "      <td>2</td>\n",
       "      <td>2007-05-03</td>\n",
       "      <td>67</td>\n",
       "      <td>48</td>\n",
       "      <td>58.0</td>\n",
       "      <td>NaN</td>\n",
       "      <td>40</td>\n",
       "      <td>50.0</td>\n",
       "      <td>7.0</td>\n",
       "      <td>0.0</td>\n",
       "      <td>...</td>\n",
       "      <td>NaN</td>\n",
       "      <td>NaN</td>\n",
       "      <td>0.00</td>\n",
       "      <td>29.46</td>\n",
       "      <td>30.12</td>\n",
       "      <td>12.9</td>\n",
       "      <td>6</td>\n",
       "      <td>13.2</td>\n",
       "      <td>-2.0</td>\n",
       "      <td>1.0</td>\n",
       "    </tr>\n",
       "    <tr>\n",
       "      <th>6</th>\n",
       "      <td>1</td>\n",
       "      <td>2007-05-04</td>\n",
       "      <td>66</td>\n",
       "      <td>49</td>\n",
       "      <td>58.0</td>\n",
       "      <td>4.0</td>\n",
       "      <td>41</td>\n",
       "      <td>50.0</td>\n",
       "      <td>7.0</td>\n",
       "      <td>0.0</td>\n",
       "      <td>...</td>\n",
       "      <td>0</td>\n",
       "      <td>0.0</td>\n",
       "      <td>T</td>\n",
       "      <td>29.31</td>\n",
       "      <td>30.05</td>\n",
       "      <td>10.4</td>\n",
       "      <td>8</td>\n",
       "      <td>10.8</td>\n",
       "      <td>0.0</td>\n",
       "      <td>0.0</td>\n",
       "    </tr>\n",
       "    <tr>\n",
       "      <th>7</th>\n",
       "      <td>2</td>\n",
       "      <td>2007-05-04</td>\n",
       "      <td>78</td>\n",
       "      <td>51</td>\n",
       "      <td>NaN</td>\n",
       "      <td>NaN</td>\n",
       "      <td>42</td>\n",
       "      <td>50.0</td>\n",
       "      <td>NaN</td>\n",
       "      <td>NaN</td>\n",
       "      <td>...</td>\n",
       "      <td>NaN</td>\n",
       "      <td>NaN</td>\n",
       "      <td>0.00</td>\n",
       "      <td>29.36</td>\n",
       "      <td>30.04</td>\n",
       "      <td>10.1</td>\n",
       "      <td>7</td>\n",
       "      <td>10.4</td>\n",
       "      <td>-1.0</td>\n",
       "      <td>1.0</td>\n",
       "    </tr>\n",
       "    <tr>\n",
       "      <th>8</th>\n",
       "      <td>1</td>\n",
       "      <td>2007-05-05</td>\n",
       "      <td>66</td>\n",
       "      <td>53</td>\n",
       "      <td>60.0</td>\n",
       "      <td>5.0</td>\n",
       "      <td>38</td>\n",
       "      <td>49.0</td>\n",
       "      <td>5.0</td>\n",
       "      <td>0.0</td>\n",
       "      <td>...</td>\n",
       "      <td>0</td>\n",
       "      <td>0.0</td>\n",
       "      <td>T</td>\n",
       "      <td>29.40</td>\n",
       "      <td>30.10</td>\n",
       "      <td>11.7</td>\n",
       "      <td>7</td>\n",
       "      <td>12.0</td>\n",
       "      <td>0.0</td>\n",
       "      <td>0.0</td>\n",
       "    </tr>\n",
       "    <tr>\n",
       "      <th>9</th>\n",
       "      <td>2</td>\n",
       "      <td>2007-05-05</td>\n",
       "      <td>66</td>\n",
       "      <td>54</td>\n",
       "      <td>60.0</td>\n",
       "      <td>NaN</td>\n",
       "      <td>39</td>\n",
       "      <td>50.0</td>\n",
       "      <td>5.0</td>\n",
       "      <td>0.0</td>\n",
       "      <td>...</td>\n",
       "      <td>NaN</td>\n",
       "      <td>NaN</td>\n",
       "      <td>T</td>\n",
       "      <td>29.46</td>\n",
       "      <td>30.09</td>\n",
       "      <td>11.2</td>\n",
       "      <td>7</td>\n",
       "      <td>11.5</td>\n",
       "      <td>-1.0</td>\n",
       "      <td>2.0</td>\n",
       "    </tr>\n",
       "  </tbody>\n",
       "</table>\n",
       "<p>10 rows × 23 columns</p>\n",
       "</div>"
      ],
      "text/plain": [
       "   Station       Date  Tmax  Tmin  Tavg  Depart  DewPoint  WetBulb  Heat  \\\n",
       "0        1 2007-05-01    83    50  67.0    14.0        51     56.0   0.0   \n",
       "1        2 2007-05-01    84    52  68.0     NaN        51     57.0   0.0   \n",
       "2        1 2007-05-02    59    42  51.0    -3.0        42     47.0  14.0   \n",
       "3        2 2007-05-02    60    43  52.0     NaN        42     47.0  13.0   \n",
       "4        1 2007-05-03    66    46  56.0     2.0        40     48.0   9.0   \n",
       "5        2 2007-05-03    67    48  58.0     NaN        40     50.0   7.0   \n",
       "6        1 2007-05-04    66    49  58.0     4.0        41     50.0   7.0   \n",
       "7        2 2007-05-04    78    51   NaN     NaN        42     50.0   NaN   \n",
       "8        1 2007-05-05    66    53  60.0     5.0        38     49.0   5.0   \n",
       "9        2 2007-05-05    66    54  60.0     NaN        39     50.0   5.0   \n",
       "\n",
       "   Cool  ...  Depth  SnowFall PrecipTotal StnPressure SeaLevel ResultSpeed  \\\n",
       "0   2.0  ...      0       0.0        0.00       29.10    29.82         1.7   \n",
       "1   3.0  ...    NaN       NaN        0.00       29.18    29.82         2.7   \n",
       "2   0.0  ...      0       0.0        0.00       29.38    30.09        13.0   \n",
       "3   0.0  ...    NaN       NaN        0.00       29.44    30.08        13.3   \n",
       "4   0.0  ...      0       0.0        0.00       29.39    30.12        11.7   \n",
       "5   0.0  ...    NaN       NaN        0.00       29.46    30.12        12.9   \n",
       "6   0.0  ...      0       0.0           T       29.31    30.05        10.4   \n",
       "7   NaN  ...    NaN       NaN        0.00       29.36    30.04        10.1   \n",
       "8   0.0  ...      0       0.0           T       29.40    30.10        11.7   \n",
       "9   0.0  ...    NaN       NaN           T       29.46    30.09        11.2   \n",
       "\n",
       "  ResultDir AvgSpeed  sunrise_diff  sunset_diff  \n",
       "0        27      9.2           0.0          0.0  \n",
       "1        25      9.6          -1.0          1.0  \n",
       "2         4     13.4           0.0          0.0  \n",
       "3         2     13.4          -1.0          1.0  \n",
       "4         7     11.9           0.0          0.0  \n",
       "5         6     13.2          -2.0          1.0  \n",
       "6         8     10.8           0.0          0.0  \n",
       "7         7     10.4          -1.0          1.0  \n",
       "8         7     12.0           0.0          0.0  \n",
       "9         7     11.5          -1.0          2.0  \n",
       "\n",
       "[10 rows x 23 columns]"
      ]
     },
     "execution_count": 25,
     "metadata": {},
     "output_type": "execute_result"
    }
   ],
   "source": [
    "w.head(10)"
   ]
  },
  {
   "cell_type": "code",
   "execution_count": 26,
   "metadata": {},
   "outputs": [
    {
     "data": {
      "text/plain": [
       "0.0"
      ]
     },
     "execution_count": 26,
     "metadata": {},
     "output_type": "execute_result"
    }
   ],
   "source": [
    "w['Depth'] = w['Depth'].astype('float')\n",
    "w.Depth.sum()"
   ]
  },
  {
   "cell_type": "code",
   "execution_count": 27,
   "metadata": {},
   "outputs": [],
   "source": [
    "w = w.drop(['Depth','SnowFall'],axis=1)"
   ]
  },
  {
   "cell_type": "code",
   "execution_count": 28,
   "metadata": {},
   "outputs": [],
   "source": [
    "w['PrecipTotal'] = w['PrecipTotal'].replace(['T','  T'],0.01)\n",
    "w['PrecipTotal'] = w['PrecipTotal'].astype('float')\n",
    "w['PrecipTotal'] = w['PrecipTotal'].fillna(0)"
   ]
  },
  {
   "cell_type": "code",
   "execution_count": 29,
   "metadata": {},
   "outputs": [],
   "source": [
    "w = w.fillna(method='ffill')"
   ]
  },
  {
   "cell_type": "code",
   "execution_count": 30,
   "metadata": {},
   "outputs": [
    {
     "name": "stdout",
     "output_type": "stream",
     "text": [
      "<class 'pandas.core.frame.DataFrame'>\n",
      "RangeIndex: 2944 entries, 0 to 2943\n",
      "Data columns (total 21 columns):\n",
      " #   Column        Non-Null Count  Dtype         \n",
      "---  ------        --------------  -----         \n",
      " 0   Station       2944 non-null   int64         \n",
      " 1   Date          2944 non-null   datetime64[ns]\n",
      " 2   Tmax          2944 non-null   int64         \n",
      " 3   Tmin          2944 non-null   int64         \n",
      " 4   Tavg          2944 non-null   float64       \n",
      " 5   Depart        2944 non-null   float64       \n",
      " 6   DewPoint      2944 non-null   int64         \n",
      " 7   WetBulb       2944 non-null   float64       \n",
      " 8   Heat          2944 non-null   float64       \n",
      " 9   Cool          2944 non-null   float64       \n",
      " 10  Sunrise       2944 non-null   int64         \n",
      " 11  Sunset        2944 non-null   int64         \n",
      " 12  CodeSum       2944 non-null   object        \n",
      " 13  PrecipTotal   2944 non-null   float64       \n",
      " 14  StnPressure   2944 non-null   object        \n",
      " 15  SeaLevel      2944 non-null   object        \n",
      " 16  ResultSpeed   2944 non-null   float64       \n",
      " 17  ResultDir     2944 non-null   int64         \n",
      " 18  AvgSpeed      2944 non-null   object        \n",
      " 19  sunrise_diff  2944 non-null   float64       \n",
      " 20  sunset_diff   2944 non-null   float64       \n",
      "dtypes: datetime64[ns](1), float64(9), int64(7), object(4)\n",
      "memory usage: 483.1+ KB\n"
     ]
    }
   ],
   "source": [
    "w.info()"
   ]
  },
  {
   "cell_type": "code",
   "execution_count": 31,
   "metadata": {},
   "outputs": [],
   "source": [
    "w[['StnPressure','SeaLevel','AvgSpeed']] = w[['StnPressure','SeaLevel','AvgSpeed']].astype('float')"
   ]
  },
  {
   "cell_type": "code",
   "execution_count": 32,
   "metadata": {},
   "outputs": [],
   "source": [
    "#breaking out codesum into separate columns \n",
    "#getting a list of all unique codes in the weather set\n",
    "codes = []\n",
    "for code in w.CodeSum.unique():\n",
    "    for c in code.split(' '):\n",
    "        codes.append(c)\n",
    "codes = pd.Series(codes)\n",
    "codes = codes.unique()[1:]\n",
    "\n",
    "#for each code, creating a column where value is 1 if happens, 0 if doesn't, then drop codeSum\n",
    "for c in codes:\n",
    "    col = [1 if c in s else 0 for s in w.CodeSum]\n",
    "    \n",
    "    if np.sum(col)>(len(col)/100): \n",
    "        w[c] = col\n",
    "\n",
    "w = w.drop('CodeSum',axis=1)\n"
   ]
  },
  {
   "cell_type": "code",
   "execution_count": 33,
   "metadata": {},
   "outputs": [],
   "source": [
    "#breaking two weather stations out based on station and merging together in one \n",
    "w_1 = w[w['Station']==1].drop('Station',axis=1)\n",
    "w_2 = w[w['Station']==2].drop('Station',axis=1)\n",
    "\n",
    "#merging back together on date with a variety of tactics\n",
    "\n",
    "#keeping all data here\n",
    "w_all = w_1.merge(w_2, on='Date').set_index('Date')\n",
    "\n",
    "#averaging the two weather sets\n",
    "w_avg = (w_1.set_index('Date') + w_2.set_index('Date')) / 2\n",
    "\n"
   ]
  },
  {
   "cell_type": "markdown",
   "metadata": {},
   "source": [
    "<h2>Wrangling Mosquito data and spray data</h2>"
   ]
  },
  {
   "cell_type": "code",
   "execution_count": 34,
   "metadata": {
    "scrolled": true
   },
   "outputs": [
    {
     "name": "stdout",
     "output_type": "stream",
     "text": [
      "<class 'pandas.core.frame.DataFrame'>\n",
      "RangeIndex: 14835 entries, 0 to 14834\n",
      "Data columns (total 4 columns):\n",
      " #   Column     Non-Null Count  Dtype  \n",
      "---  ------     --------------  -----  \n",
      " 0   Date       14835 non-null  object \n",
      " 1   Time       14251 non-null  object \n",
      " 2   Latitude   14835 non-null  float64\n",
      " 3   Longitude  14835 non-null  float64\n",
      "dtypes: float64(2), object(2)\n",
      "memory usage: 463.7+ KB\n"
     ]
    }
   ],
   "source": [
    "sp.info()"
   ]
  },
  {
   "cell_type": "code",
   "execution_count": 35,
   "metadata": {},
   "outputs": [
    {
     "data": {
      "text/html": [
       "<div>\n",
       "<style scoped>\n",
       "    .dataframe tbody tr th:only-of-type {\n",
       "        vertical-align: middle;\n",
       "    }\n",
       "\n",
       "    .dataframe tbody tr th {\n",
       "        vertical-align: top;\n",
       "    }\n",
       "\n",
       "    .dataframe thead th {\n",
       "        text-align: right;\n",
       "    }\n",
       "</style>\n",
       "<table border=\"1\" class=\"dataframe\">\n",
       "  <thead>\n",
       "    <tr style=\"text-align: right;\">\n",
       "      <th></th>\n",
       "      <th>Date</th>\n",
       "      <th>Time</th>\n",
       "      <th>Latitude</th>\n",
       "      <th>Longitude</th>\n",
       "    </tr>\n",
       "  </thead>\n",
       "  <tbody>\n",
       "    <tr>\n",
       "      <th>0</th>\n",
       "      <td>2011-08-29</td>\n",
       "      <td>6:56:58 PM</td>\n",
       "      <td>42.391623</td>\n",
       "      <td>-88.089163</td>\n",
       "    </tr>\n",
       "    <tr>\n",
       "      <th>1</th>\n",
       "      <td>2011-08-29</td>\n",
       "      <td>6:57:08 PM</td>\n",
       "      <td>42.391348</td>\n",
       "      <td>-88.089163</td>\n",
       "    </tr>\n",
       "    <tr>\n",
       "      <th>2</th>\n",
       "      <td>2011-08-29</td>\n",
       "      <td>6:57:18 PM</td>\n",
       "      <td>42.391022</td>\n",
       "      <td>-88.089157</td>\n",
       "    </tr>\n",
       "    <tr>\n",
       "      <th>3</th>\n",
       "      <td>2011-08-29</td>\n",
       "      <td>6:57:28 PM</td>\n",
       "      <td>42.390637</td>\n",
       "      <td>-88.089158</td>\n",
       "    </tr>\n",
       "    <tr>\n",
       "      <th>4</th>\n",
       "      <td>2011-08-29</td>\n",
       "      <td>6:57:38 PM</td>\n",
       "      <td>42.390410</td>\n",
       "      <td>-88.088858</td>\n",
       "    </tr>\n",
       "  </tbody>\n",
       "</table>\n",
       "</div>"
      ],
      "text/plain": [
       "         Date        Time   Latitude  Longitude\n",
       "0  2011-08-29  6:56:58 PM  42.391623 -88.089163\n",
       "1  2011-08-29  6:57:08 PM  42.391348 -88.089163\n",
       "2  2011-08-29  6:57:18 PM  42.391022 -88.089157\n",
       "3  2011-08-29  6:57:28 PM  42.390637 -88.089158\n",
       "4  2011-08-29  6:57:38 PM  42.390410 -88.088858"
      ]
     },
     "execution_count": 35,
     "metadata": {},
     "output_type": "execute_result"
    }
   ],
   "source": [
    "sp.head()"
   ]
  },
  {
   "cell_type": "code",
   "execution_count": 36,
   "metadata": {},
   "outputs": [
    {
     "name": "stdout",
     "output_type": "stream",
     "text": [
      "<class 'pandas.core.frame.DataFrame'>\n",
      "RangeIndex: 10506 entries, 0 to 10505\n",
      "Data columns (total 12 columns):\n",
      " #   Column                  Non-Null Count  Dtype  \n",
      "---  ------                  --------------  -----  \n",
      " 0   Date                    10506 non-null  object \n",
      " 1   Address                 10506 non-null  object \n",
      " 2   Species                 10506 non-null  object \n",
      " 3   Block                   10506 non-null  int64  \n",
      " 4   Street                  10506 non-null  object \n",
      " 5   Trap                    10506 non-null  object \n",
      " 6   AddressNumberAndStreet  10506 non-null  object \n",
      " 7   Latitude                10506 non-null  float64\n",
      " 8   Longitude               10506 non-null  float64\n",
      " 9   AddressAccuracy         10506 non-null  int64  \n",
      " 10  NumMosquitos            10506 non-null  int64  \n",
      " 11  WnvPresent              10506 non-null  int64  \n",
      "dtypes: float64(2), int64(4), object(6)\n",
      "memory usage: 985.1+ KB\n"
     ]
    }
   ],
   "source": [
    "df.info()"
   ]
  },
  {
   "cell_type": "code",
   "execution_count": 37,
   "metadata": {},
   "outputs": [
    {
     "data": {
      "text/html": [
       "<div>\n",
       "<style scoped>\n",
       "    .dataframe tbody tr th:only-of-type {\n",
       "        vertical-align: middle;\n",
       "    }\n",
       "\n",
       "    .dataframe tbody tr th {\n",
       "        vertical-align: top;\n",
       "    }\n",
       "\n",
       "    .dataframe thead th {\n",
       "        text-align: right;\n",
       "    }\n",
       "</style>\n",
       "<table border=\"1\" class=\"dataframe\">\n",
       "  <thead>\n",
       "    <tr style=\"text-align: right;\">\n",
       "      <th></th>\n",
       "      <th>Date</th>\n",
       "      <th>Address</th>\n",
       "      <th>Species</th>\n",
       "      <th>Block</th>\n",
       "      <th>Street</th>\n",
       "      <th>Trap</th>\n",
       "      <th>AddressNumberAndStreet</th>\n",
       "      <th>Latitude</th>\n",
       "      <th>Longitude</th>\n",
       "      <th>AddressAccuracy</th>\n",
       "      <th>NumMosquitos</th>\n",
       "      <th>WnvPresent</th>\n",
       "    </tr>\n",
       "  </thead>\n",
       "  <tbody>\n",
       "    <tr>\n",
       "      <th>0</th>\n",
       "      <td>2007-05-29</td>\n",
       "      <td>4100 North Oak Park Avenue, Chicago, IL 60634,...</td>\n",
       "      <td>CULEX PIPIENS/RESTUANS</td>\n",
       "      <td>41</td>\n",
       "      <td>N OAK PARK AVE</td>\n",
       "      <td>T002</td>\n",
       "      <td>4100  N OAK PARK AVE, Chicago, IL</td>\n",
       "      <td>41.954690</td>\n",
       "      <td>-87.800991</td>\n",
       "      <td>9</td>\n",
       "      <td>1</td>\n",
       "      <td>0</td>\n",
       "    </tr>\n",
       "    <tr>\n",
       "      <th>1</th>\n",
       "      <td>2007-05-29</td>\n",
       "      <td>4100 North Oak Park Avenue, Chicago, IL 60634,...</td>\n",
       "      <td>CULEX RESTUANS</td>\n",
       "      <td>41</td>\n",
       "      <td>N OAK PARK AVE</td>\n",
       "      <td>T002</td>\n",
       "      <td>4100  N OAK PARK AVE, Chicago, IL</td>\n",
       "      <td>41.954690</td>\n",
       "      <td>-87.800991</td>\n",
       "      <td>9</td>\n",
       "      <td>1</td>\n",
       "      <td>0</td>\n",
       "    </tr>\n",
       "    <tr>\n",
       "      <th>2</th>\n",
       "      <td>2007-05-29</td>\n",
       "      <td>6200 North Mandell Avenue, Chicago, IL 60646, USA</td>\n",
       "      <td>CULEX RESTUANS</td>\n",
       "      <td>62</td>\n",
       "      <td>N MANDELL AVE</td>\n",
       "      <td>T007</td>\n",
       "      <td>6200  N MANDELL AVE, Chicago, IL</td>\n",
       "      <td>41.994991</td>\n",
       "      <td>-87.769279</td>\n",
       "      <td>9</td>\n",
       "      <td>1</td>\n",
       "      <td>0</td>\n",
       "    </tr>\n",
       "    <tr>\n",
       "      <th>3</th>\n",
       "      <td>2007-05-29</td>\n",
       "      <td>7900 West Foster Avenue, Chicago, IL 60656, USA</td>\n",
       "      <td>CULEX PIPIENS/RESTUANS</td>\n",
       "      <td>79</td>\n",
       "      <td>W FOSTER AVE</td>\n",
       "      <td>T015</td>\n",
       "      <td>7900  W FOSTER AVE, Chicago, IL</td>\n",
       "      <td>41.974089</td>\n",
       "      <td>-87.824812</td>\n",
       "      <td>8</td>\n",
       "      <td>1</td>\n",
       "      <td>0</td>\n",
       "    </tr>\n",
       "    <tr>\n",
       "      <th>4</th>\n",
       "      <td>2007-05-29</td>\n",
       "      <td>7900 West Foster Avenue, Chicago, IL 60656, USA</td>\n",
       "      <td>CULEX RESTUANS</td>\n",
       "      <td>79</td>\n",
       "      <td>W FOSTER AVE</td>\n",
       "      <td>T015</td>\n",
       "      <td>7900  W FOSTER AVE, Chicago, IL</td>\n",
       "      <td>41.974089</td>\n",
       "      <td>-87.824812</td>\n",
       "      <td>8</td>\n",
       "      <td>4</td>\n",
       "      <td>0</td>\n",
       "    </tr>\n",
       "  </tbody>\n",
       "</table>\n",
       "</div>"
      ],
      "text/plain": [
       "         Date                                            Address  \\\n",
       "0  2007-05-29  4100 North Oak Park Avenue, Chicago, IL 60634,...   \n",
       "1  2007-05-29  4100 North Oak Park Avenue, Chicago, IL 60634,...   \n",
       "2  2007-05-29  6200 North Mandell Avenue, Chicago, IL 60646, USA   \n",
       "3  2007-05-29    7900 West Foster Avenue, Chicago, IL 60656, USA   \n",
       "4  2007-05-29    7900 West Foster Avenue, Chicago, IL 60656, USA   \n",
       "\n",
       "                  Species  Block           Street  Trap  \\\n",
       "0  CULEX PIPIENS/RESTUANS     41   N OAK PARK AVE  T002   \n",
       "1          CULEX RESTUANS     41   N OAK PARK AVE  T002   \n",
       "2          CULEX RESTUANS     62    N MANDELL AVE  T007   \n",
       "3  CULEX PIPIENS/RESTUANS     79     W FOSTER AVE  T015   \n",
       "4          CULEX RESTUANS     79     W FOSTER AVE  T015   \n",
       "\n",
       "              AddressNumberAndStreet   Latitude  Longitude  AddressAccuracy  \\\n",
       "0  4100  N OAK PARK AVE, Chicago, IL  41.954690 -87.800991                9   \n",
       "1  4100  N OAK PARK AVE, Chicago, IL  41.954690 -87.800991                9   \n",
       "2   6200  N MANDELL AVE, Chicago, IL  41.994991 -87.769279                9   \n",
       "3    7900  W FOSTER AVE, Chicago, IL  41.974089 -87.824812                8   \n",
       "4    7900  W FOSTER AVE, Chicago, IL  41.974089 -87.824812                8   \n",
       "\n",
       "   NumMosquitos  WnvPresent  \n",
       "0             1           0  \n",
       "1             1           0  \n",
       "2             1           0  \n",
       "3             1           0  \n",
       "4             4           0  "
      ]
     },
     "execution_count": 37,
     "metadata": {},
     "output_type": "execute_result"
    }
   ],
   "source": [
    "df.head()"
   ]
  },
  {
   "cell_type": "code",
   "execution_count": 38,
   "metadata": {
    "scrolled": true
   },
   "outputs": [],
   "source": [
    "#integrating spray data into mosquito data\n",
    "\n",
    "mi_per_deg_lat = 364000/5280 #36400 ft per degree lat\n",
    "mi_per_deg_long = 288200/5280 #288200 ft per degree long\n",
    "\n",
    "#chaning date columns to pandas datetime for easy handling\n",
    "sp['Date'] = pd.to_datetime(sp['Date'])\n",
    "df['Date'] = pd.to_datetime(df['Date'])\n",
    "\n",
    "\n",
    "def sprayed(dist, time, traps, sprays):\n",
    "    \"\"\"Returns wether or not a mosquito trap locations was sprayed within a certain distance and time frame. \n",
    "    Distance is in miles, time is 0 for year, 1 for month, and 2 for day. d is dataset\"\"\"\n",
    "    s = []\n",
    "    #for each trap, find the distances to all sprays within the timeframe, if the miniumum is below \n",
    "    # the threshold, than it was sprayed during that time period\n",
    "    period = {0:'y',1:'m',2:'d'}\n",
    "    \n",
    "    for i,r  in traps.iterrows():\n",
    "       \n",
    "        #creating a mask to select relevant spray locations based on date\n",
    "        mask = sprays['Date'].dt.to_period(period[time]) == r[0].to_period(period[time]) \n",
    "        \n",
    "        #passing the loop if there are no sprays during the right window\n",
    "        if mask.sum() == 0:\n",
    "            s.append(0)\n",
    "            continue\n",
    "        spray = sprays[mask]\n",
    "        \n",
    "        #finding euclidian distance based on lat/long converted to miles\n",
    "        lat_d = (spray.iloc[:,2]-r[7]) * mi_per_deg_lat\n",
    "        long_d = (spray.iloc[:,3]-r[8])* mi_per_deg_long\n",
    "        d = np.sqrt(lat_d**2 + long_d**2)\n",
    "        \n",
    "        #if the closest spray in the time period is within the cutoff distance, assign 1, otherwise 0\n",
    "        if d.min() <= dist:\n",
    "            s.append(1) \n",
    "        else: \n",
    "            s.append(0)\n",
    "\n",
    "    return s\n",
    "\n",
    "    \n",
    "\n",
    "\n",
    "    \n"
   ]
  },
  {
   "cell_type": "code",
   "execution_count": 39,
   "metadata": {},
   "outputs": [],
   "source": [
    "df['spray_year'] = sprayed(1,0,df,sp)\n",
    "df['spray_month'] = sprayed(1,1,df,sp)\n",
    "df['spray_day'] = sprayed(1,2,df,sp)"
   ]
  },
  {
   "cell_type": "code",
   "execution_count": 40,
   "metadata": {},
   "outputs": [
    {
     "name": "stdout",
     "output_type": "stream",
     "text": [
      "<class 'pandas.core.frame.DataFrame'>\n",
      "RangeIndex: 10506 entries, 0 to 10505\n",
      "Data columns (total 15 columns):\n",
      " #   Column                  Non-Null Count  Dtype         \n",
      "---  ------                  --------------  -----         \n",
      " 0   Date                    10506 non-null  datetime64[ns]\n",
      " 1   Address                 10506 non-null  object        \n",
      " 2   Species                 10506 non-null  object        \n",
      " 3   Block                   10506 non-null  int64         \n",
      " 4   Street                  10506 non-null  object        \n",
      " 5   Trap                    10506 non-null  object        \n",
      " 6   AddressNumberAndStreet  10506 non-null  object        \n",
      " 7   Latitude                10506 non-null  float64       \n",
      " 8   Longitude               10506 non-null  float64       \n",
      " 9   AddressAccuracy         10506 non-null  int64         \n",
      " 10  NumMosquitos            10506 non-null  int64         \n",
      " 11  WnvPresent              10506 non-null  int64         \n",
      " 12  spray_year              10506 non-null  int64         \n",
      " 13  spray_month             10506 non-null  int64         \n",
      " 14  spray_day               10506 non-null  int64         \n",
      "dtypes: datetime64[ns](1), float64(2), int64(7), object(5)\n",
      "memory usage: 1.2+ MB\n"
     ]
    }
   ],
   "source": [
    "df.info()"
   ]
  },
  {
   "cell_type": "code",
   "execution_count": 41,
   "metadata": {},
   "outputs": [
    {
     "data": {
      "text/plain": [
       "60"
      ]
     },
     "execution_count": 41,
     "metadata": {},
     "output_type": "execute_result"
    }
   ],
   "source": [
    "df['spray_day'].sum()"
   ]
  },
  {
   "cell_type": "code",
   "execution_count": 42,
   "metadata": {},
   "outputs": [
    {
     "data": {
      "text/plain": [
       "402"
      ]
     },
     "execution_count": 42,
     "metadata": {},
     "output_type": "execute_result"
    }
   ],
   "source": [
    "df['spray_month'].sum()"
   ]
  },
  {
   "cell_type": "code",
   "execution_count": 43,
   "metadata": {},
   "outputs": [
    {
     "data": {
      "text/plain": [
       "1184"
      ]
     },
     "execution_count": 43,
     "metadata": {},
     "output_type": "execute_result"
    }
   ],
   "source": [
    "df['spray_year'].sum()"
   ]
  },
  {
   "cell_type": "code",
   "execution_count": 44,
   "metadata": {},
   "outputs": [],
   "source": [
    "df = df.drop(['Address','Block','Street','AddressNumberAndStreet','AddressAccuracy'],axis=1)"
   ]
  },
  {
   "cell_type": "code",
   "execution_count": 45,
   "metadata": {},
   "outputs": [
    {
     "name": "stdout",
     "output_type": "stream",
     "text": [
      "<class 'pandas.core.frame.DataFrame'>\n",
      "RangeIndex: 10506 entries, 0 to 10505\n",
      "Data columns (total 10 columns):\n",
      " #   Column        Non-Null Count  Dtype         \n",
      "---  ------        --------------  -----         \n",
      " 0   Date          10506 non-null  datetime64[ns]\n",
      " 1   Species       10506 non-null  object        \n",
      " 2   Trap          10506 non-null  object        \n",
      " 3   Latitude      10506 non-null  float64       \n",
      " 4   Longitude     10506 non-null  float64       \n",
      " 5   NumMosquitos  10506 non-null  int64         \n",
      " 6   WnvPresent    10506 non-null  int64         \n",
      " 7   spray_year    10506 non-null  int64         \n",
      " 8   spray_month   10506 non-null  int64         \n",
      " 9   spray_day     10506 non-null  int64         \n",
      "dtypes: datetime64[ns](1), float64(2), int64(5), object(2)\n",
      "memory usage: 820.9+ KB\n"
     ]
    }
   ],
   "source": [
    "df.info()"
   ]
  },
  {
   "cell_type": "markdown",
   "metadata": {},
   "source": [
    "<h2>EDA</h2>"
   ]
  },
  {
   "cell_type": "code",
   "execution_count": 46,
   "metadata": {},
   "outputs": [
    {
     "data": {
      "text/html": [
       "<div>\n",
       "<style scoped>\n",
       "    .dataframe tbody tr th:only-of-type {\n",
       "        vertical-align: middle;\n",
       "    }\n",
       "\n",
       "    .dataframe tbody tr th {\n",
       "        vertical-align: top;\n",
       "    }\n",
       "\n",
       "    .dataframe thead th {\n",
       "        text-align: right;\n",
       "    }\n",
       "</style>\n",
       "<table border=\"1\" class=\"dataframe\">\n",
       "  <thead>\n",
       "    <tr style=\"text-align: right;\">\n",
       "      <th></th>\n",
       "      <th>Species</th>\n",
       "      <th>CULEX ERRATICUS</th>\n",
       "      <th>CULEX PIPIENS</th>\n",
       "      <th>CULEX PIPIENS/RESTUANS</th>\n",
       "      <th>CULEX RESTUANS</th>\n",
       "      <th>CULEX SALINARIUS</th>\n",
       "      <th>CULEX TARSALIS</th>\n",
       "      <th>CULEX TERRITANS</th>\n",
       "    </tr>\n",
       "  </thead>\n",
       "  <tbody>\n",
       "    <tr>\n",
       "      <th rowspan=\"8\" valign=\"top\">Latitude</th>\n",
       "      <th>count</th>\n",
       "      <td>1.000000</td>\n",
       "      <td>2699.000000</td>\n",
       "      <td>4752.000000</td>\n",
       "      <td>2740.000000</td>\n",
       "      <td>86.000000</td>\n",
       "      <td>6.000000</td>\n",
       "      <td>222.000000</td>\n",
       "    </tr>\n",
       "    <tr>\n",
       "      <th>mean</th>\n",
       "      <td>41.974689</td>\n",
       "      <td>41.813402</td>\n",
       "      <td>41.848832</td>\n",
       "      <td>41.859096</td>\n",
       "      <td>41.825134</td>\n",
       "      <td>41.818023</td>\n",
       "      <td>41.798297</td>\n",
       "    </tr>\n",
       "    <tr>\n",
       "      <th>std</th>\n",
       "      <td>NaN</td>\n",
       "      <td>0.115259</td>\n",
       "      <td>0.110800</td>\n",
       "      <td>0.107698</td>\n",
       "      <td>0.121245</td>\n",
       "      <td>0.102586</td>\n",
       "      <td>0.108345</td>\n",
       "    </tr>\n",
       "    <tr>\n",
       "      <th>min</th>\n",
       "      <td>41.974689</td>\n",
       "      <td>41.644612</td>\n",
       "      <td>41.644612</td>\n",
       "      <td>41.644612</td>\n",
       "      <td>41.659112</td>\n",
       "      <td>41.678618</td>\n",
       "      <td>41.659112</td>\n",
       "    </tr>\n",
       "    <tr>\n",
       "      <th>25%</th>\n",
       "      <td>41.974689</td>\n",
       "      <td>41.704572</td>\n",
       "      <td>41.750498</td>\n",
       "      <td>41.765585</td>\n",
       "      <td>41.704572</td>\n",
       "      <td>41.756336</td>\n",
       "      <td>41.702724</td>\n",
       "    </tr>\n",
       "    <tr>\n",
       "      <th>50%</th>\n",
       "      <td>41.974689</td>\n",
       "      <td>41.793818</td>\n",
       "      <td>41.868077</td>\n",
       "      <td>41.878114</td>\n",
       "      <td>41.811901</td>\n",
       "      <td>41.814516</td>\n",
       "      <td>41.774501</td>\n",
       "    </tr>\n",
       "    <tr>\n",
       "      <th>75%</th>\n",
       "      <td>41.974689</td>\n",
       "      <td>41.923738</td>\n",
       "      <td>41.954690</td>\n",
       "      <td>41.958271</td>\n",
       "      <td>41.952235</td>\n",
       "      <td>41.880825</td>\n",
       "      <td>41.891126</td>\n",
       "    </tr>\n",
       "    <tr>\n",
       "      <th>max</th>\n",
       "      <td>41.974689</td>\n",
       "      <td>42.017430</td>\n",
       "      <td>42.017430</td>\n",
       "      <td>42.017430</td>\n",
       "      <td>42.017430</td>\n",
       "      <td>41.960616</td>\n",
       "      <td>42.017430</td>\n",
       "    </tr>\n",
       "    <tr>\n",
       "      <th rowspan=\"8\" valign=\"top\">Longitude</th>\n",
       "      <th>count</th>\n",
       "      <td>1.000000</td>\n",
       "      <td>2699.000000</td>\n",
       "      <td>4752.000000</td>\n",
       "      <td>2740.000000</td>\n",
       "      <td>86.000000</td>\n",
       "      <td>6.000000</td>\n",
       "      <td>222.000000</td>\n",
       "    </tr>\n",
       "    <tr>\n",
       "      <th>mean</th>\n",
       "      <td>-87.890615</td>\n",
       "      <td>-87.680481</td>\n",
       "      <td>-87.705241</td>\n",
       "      <td>-87.713366</td>\n",
       "      <td>-87.693788</td>\n",
       "      <td>-87.661568</td>\n",
       "      <td>-87.658375</td>\n",
       "    </tr>\n",
       "    <tr>\n",
       "      <th>std</th>\n",
       "      <td>NaN</td>\n",
       "      <td>0.095400</td>\n",
       "      <td>0.095853</td>\n",
       "      <td>0.095198</td>\n",
       "      <td>0.107487</td>\n",
       "      <td>0.094513</td>\n",
       "      <td>0.088155</td>\n",
       "    </tr>\n",
       "    <tr>\n",
       "      <th>min</th>\n",
       "      <td>-87.890615</td>\n",
       "      <td>-87.930995</td>\n",
       "      <td>-87.930995</td>\n",
       "      <td>-87.930995</td>\n",
       "      <td>-87.890615</td>\n",
       "      <td>-87.777189</td>\n",
       "      <td>-87.890615</td>\n",
       "    </tr>\n",
       "    <tr>\n",
       "      <th>25%</th>\n",
       "      <td>-87.890615</td>\n",
       "      <td>-87.745602</td>\n",
       "      <td>-87.763416</td>\n",
       "      <td>-87.777189</td>\n",
       "      <td>-87.752411</td>\n",
       "      <td>-87.724109</td>\n",
       "      <td>-87.728492</td>\n",
       "    </tr>\n",
       "    <tr>\n",
       "      <th>50%</th>\n",
       "      <td>-87.890615</td>\n",
       "      <td>-87.674677</td>\n",
       "      <td>-87.700117</td>\n",
       "      <td>-87.703047</td>\n",
       "      <td>-87.687266</td>\n",
       "      <td>-87.679886</td>\n",
       "      <td>-87.666622</td>\n",
       "    </tr>\n",
       "    <tr>\n",
       "      <th>75%</th>\n",
       "      <td>-87.890615</td>\n",
       "      <td>-87.599862</td>\n",
       "      <td>-87.642984</td>\n",
       "      <td>-87.654224</td>\n",
       "      <td>-87.601220</td>\n",
       "      <td>-87.580227</td>\n",
       "      <td>-87.563583</td>\n",
       "    </tr>\n",
       "    <tr>\n",
       "      <th>max</th>\n",
       "      <td>-87.890615</td>\n",
       "      <td>-87.531635</td>\n",
       "      <td>-87.531635</td>\n",
       "      <td>-87.531635</td>\n",
       "      <td>-87.531635</td>\n",
       "      <td>-87.546587</td>\n",
       "      <td>-87.531635</td>\n",
       "    </tr>\n",
       "    <tr>\n",
       "      <th rowspan=\"8\" valign=\"top\">NumMosquitos</th>\n",
       "      <th>count</th>\n",
       "      <td>1.000000</td>\n",
       "      <td>2699.000000</td>\n",
       "      <td>4752.000000</td>\n",
       "      <td>2740.000000</td>\n",
       "      <td>86.000000</td>\n",
       "      <td>6.000000</td>\n",
       "      <td>222.000000</td>\n",
       "    </tr>\n",
       "    <tr>\n",
       "      <th>mean</th>\n",
       "      <td>7.000000</td>\n",
       "      <td>16.550945</td>\n",
       "      <td>13.945286</td>\n",
       "      <td>8.551460</td>\n",
       "      <td>1.686047</td>\n",
       "      <td>1.166667</td>\n",
       "      <td>2.297297</td>\n",
       "    </tr>\n",
       "    <tr>\n",
       "      <th>std</th>\n",
       "      <td>NaN</td>\n",
       "      <td>19.040433</td>\n",
       "      <td>15.995301</td>\n",
       "      <td>12.182166</td>\n",
       "      <td>2.286851</td>\n",
       "      <td>0.408248</td>\n",
       "      <td>4.392702</td>\n",
       "    </tr>\n",
       "    <tr>\n",
       "      <th>min</th>\n",
       "      <td>7.000000</td>\n",
       "      <td>1.000000</td>\n",
       "      <td>1.000000</td>\n",
       "      <td>1.000000</td>\n",
       "      <td>1.000000</td>\n",
       "      <td>1.000000</td>\n",
       "      <td>1.000000</td>\n",
       "    </tr>\n",
       "    <tr>\n",
       "      <th>25%</th>\n",
       "      <td>7.000000</td>\n",
       "      <td>2.000000</td>\n",
       "      <td>2.000000</td>\n",
       "      <td>1.000000</td>\n",
       "      <td>1.000000</td>\n",
       "      <td>1.000000</td>\n",
       "      <td>1.000000</td>\n",
       "    </tr>\n",
       "    <tr>\n",
       "      <th>50%</th>\n",
       "      <td>7.000000</td>\n",
       "      <td>6.000000</td>\n",
       "      <td>6.000000</td>\n",
       "      <td>3.000000</td>\n",
       "      <td>1.000000</td>\n",
       "      <td>1.000000</td>\n",
       "      <td>1.000000</td>\n",
       "    </tr>\n",
       "    <tr>\n",
       "      <th>75%</th>\n",
       "      <td>7.000000</td>\n",
       "      <td>31.000000</td>\n",
       "      <td>20.000000</td>\n",
       "      <td>9.000000</td>\n",
       "      <td>2.000000</td>\n",
       "      <td>1.000000</td>\n",
       "      <td>2.000000</td>\n",
       "    </tr>\n",
       "    <tr>\n",
       "      <th>max</th>\n",
       "      <td>7.000000</td>\n",
       "      <td>50.000000</td>\n",
       "      <td>50.000000</td>\n",
       "      <td>50.000000</td>\n",
       "      <td>21.000000</td>\n",
       "      <td>2.000000</td>\n",
       "      <td>42.000000</td>\n",
       "    </tr>\n",
       "    <tr>\n",
       "      <th rowspan=\"8\" valign=\"top\">WnvPresent</th>\n",
       "      <th>count</th>\n",
       "      <td>1.000000</td>\n",
       "      <td>2699.000000</td>\n",
       "      <td>4752.000000</td>\n",
       "      <td>2740.000000</td>\n",
       "      <td>86.000000</td>\n",
       "      <td>6.000000</td>\n",
       "      <td>222.000000</td>\n",
       "    </tr>\n",
       "    <tr>\n",
       "      <th>mean</th>\n",
       "      <td>0.000000</td>\n",
       "      <td>0.088922</td>\n",
       "      <td>0.055135</td>\n",
       "      <td>0.017883</td>\n",
       "      <td>0.000000</td>\n",
       "      <td>0.000000</td>\n",
       "      <td>0.000000</td>\n",
       "    </tr>\n",
       "    <tr>\n",
       "      <th>std</th>\n",
       "      <td>NaN</td>\n",
       "      <td>0.284684</td>\n",
       "      <td>0.228267</td>\n",
       "      <td>0.132551</td>\n",
       "      <td>0.000000</td>\n",
       "      <td>0.000000</td>\n",
       "      <td>0.000000</td>\n",
       "    </tr>\n",
       "    <tr>\n",
       "      <th>min</th>\n",
       "      <td>0.000000</td>\n",
       "      <td>0.000000</td>\n",
       "      <td>0.000000</td>\n",
       "      <td>0.000000</td>\n",
       "      <td>0.000000</td>\n",
       "      <td>0.000000</td>\n",
       "      <td>0.000000</td>\n",
       "    </tr>\n",
       "    <tr>\n",
       "      <th>25%</th>\n",
       "      <td>0.000000</td>\n",
       "      <td>0.000000</td>\n",
       "      <td>0.000000</td>\n",
       "      <td>0.000000</td>\n",
       "      <td>0.000000</td>\n",
       "      <td>0.000000</td>\n",
       "      <td>0.000000</td>\n",
       "    </tr>\n",
       "    <tr>\n",
       "      <th>50%</th>\n",
       "      <td>0.000000</td>\n",
       "      <td>0.000000</td>\n",
       "      <td>0.000000</td>\n",
       "      <td>0.000000</td>\n",
       "      <td>0.000000</td>\n",
       "      <td>0.000000</td>\n",
       "      <td>0.000000</td>\n",
       "    </tr>\n",
       "    <tr>\n",
       "      <th>75%</th>\n",
       "      <td>0.000000</td>\n",
       "      <td>0.000000</td>\n",
       "      <td>0.000000</td>\n",
       "      <td>0.000000</td>\n",
       "      <td>0.000000</td>\n",
       "      <td>0.000000</td>\n",
       "      <td>0.000000</td>\n",
       "    </tr>\n",
       "    <tr>\n",
       "      <th>max</th>\n",
       "      <td>0.000000</td>\n",
       "      <td>1.000000</td>\n",
       "      <td>1.000000</td>\n",
       "      <td>1.000000</td>\n",
       "      <td>0.000000</td>\n",
       "      <td>0.000000</td>\n",
       "      <td>0.000000</td>\n",
       "    </tr>\n",
       "    <tr>\n",
       "      <th rowspan=\"8\" valign=\"top\">spray_year</th>\n",
       "      <th>count</th>\n",
       "      <td>1.000000</td>\n",
       "      <td>2699.000000</td>\n",
       "      <td>4752.000000</td>\n",
       "      <td>2740.000000</td>\n",
       "      <td>86.000000</td>\n",
       "      <td>6.000000</td>\n",
       "      <td>222.000000</td>\n",
       "    </tr>\n",
       "    <tr>\n",
       "      <th>mean</th>\n",
       "      <td>0.000000</td>\n",
       "      <td>0.082253</td>\n",
       "      <td>0.118687</td>\n",
       "      <td>0.142701</td>\n",
       "      <td>0.023256</td>\n",
       "      <td>0.166667</td>\n",
       "      <td>0.018018</td>\n",
       "    </tr>\n",
       "    <tr>\n",
       "      <th>std</th>\n",
       "      <td>NaN</td>\n",
       "      <td>0.274800</td>\n",
       "      <td>0.323454</td>\n",
       "      <td>0.349831</td>\n",
       "      <td>0.151599</td>\n",
       "      <td>0.408248</td>\n",
       "      <td>0.133317</td>\n",
       "    </tr>\n",
       "    <tr>\n",
       "      <th>min</th>\n",
       "      <td>0.000000</td>\n",
       "      <td>0.000000</td>\n",
       "      <td>0.000000</td>\n",
       "      <td>0.000000</td>\n",
       "      <td>0.000000</td>\n",
       "      <td>0.000000</td>\n",
       "      <td>0.000000</td>\n",
       "    </tr>\n",
       "    <tr>\n",
       "      <th>25%</th>\n",
       "      <td>0.000000</td>\n",
       "      <td>0.000000</td>\n",
       "      <td>0.000000</td>\n",
       "      <td>0.000000</td>\n",
       "      <td>0.000000</td>\n",
       "      <td>0.000000</td>\n",
       "      <td>0.000000</td>\n",
       "    </tr>\n",
       "    <tr>\n",
       "      <th>50%</th>\n",
       "      <td>0.000000</td>\n",
       "      <td>0.000000</td>\n",
       "      <td>0.000000</td>\n",
       "      <td>0.000000</td>\n",
       "      <td>0.000000</td>\n",
       "      <td>0.000000</td>\n",
       "      <td>0.000000</td>\n",
       "    </tr>\n",
       "    <tr>\n",
       "      <th>75%</th>\n",
       "      <td>0.000000</td>\n",
       "      <td>0.000000</td>\n",
       "      <td>0.000000</td>\n",
       "      <td>0.000000</td>\n",
       "      <td>0.000000</td>\n",
       "      <td>0.000000</td>\n",
       "      <td>0.000000</td>\n",
       "    </tr>\n",
       "    <tr>\n",
       "      <th>max</th>\n",
       "      <td>0.000000</td>\n",
       "      <td>1.000000</td>\n",
       "      <td>1.000000</td>\n",
       "      <td>1.000000</td>\n",
       "      <td>1.000000</td>\n",
       "      <td>1.000000</td>\n",
       "      <td>1.000000</td>\n",
       "    </tr>\n",
       "    <tr>\n",
       "      <th rowspan=\"8\" valign=\"top\">spray_month</th>\n",
       "      <th>count</th>\n",
       "      <td>1.000000</td>\n",
       "      <td>2699.000000</td>\n",
       "      <td>4752.000000</td>\n",
       "      <td>2740.000000</td>\n",
       "      <td>86.000000</td>\n",
       "      <td>6.000000</td>\n",
       "      <td>222.000000</td>\n",
       "    </tr>\n",
       "    <tr>\n",
       "      <th>mean</th>\n",
       "      <td>0.000000</td>\n",
       "      <td>0.034828</td>\n",
       "      <td>0.039352</td>\n",
       "      <td>0.043431</td>\n",
       "      <td>0.011628</td>\n",
       "      <td>0.166667</td>\n",
       "      <td>0.000000</td>\n",
       "    </tr>\n",
       "    <tr>\n",
       "      <th>std</th>\n",
       "      <td>NaN</td>\n",
       "      <td>0.183377</td>\n",
       "      <td>0.194451</td>\n",
       "      <td>0.203862</td>\n",
       "      <td>0.107833</td>\n",
       "      <td>0.408248</td>\n",
       "      <td>0.000000</td>\n",
       "    </tr>\n",
       "    <tr>\n",
       "      <th>min</th>\n",
       "      <td>0.000000</td>\n",
       "      <td>0.000000</td>\n",
       "      <td>0.000000</td>\n",
       "      <td>0.000000</td>\n",
       "      <td>0.000000</td>\n",
       "      <td>0.000000</td>\n",
       "      <td>0.000000</td>\n",
       "    </tr>\n",
       "    <tr>\n",
       "      <th>25%</th>\n",
       "      <td>0.000000</td>\n",
       "      <td>0.000000</td>\n",
       "      <td>0.000000</td>\n",
       "      <td>0.000000</td>\n",
       "      <td>0.000000</td>\n",
       "      <td>0.000000</td>\n",
       "      <td>0.000000</td>\n",
       "    </tr>\n",
       "    <tr>\n",
       "      <th>50%</th>\n",
       "      <td>0.000000</td>\n",
       "      <td>0.000000</td>\n",
       "      <td>0.000000</td>\n",
       "      <td>0.000000</td>\n",
       "      <td>0.000000</td>\n",
       "      <td>0.000000</td>\n",
       "      <td>0.000000</td>\n",
       "    </tr>\n",
       "    <tr>\n",
       "      <th>75%</th>\n",
       "      <td>0.000000</td>\n",
       "      <td>0.000000</td>\n",
       "      <td>0.000000</td>\n",
       "      <td>0.000000</td>\n",
       "      <td>0.000000</td>\n",
       "      <td>0.000000</td>\n",
       "      <td>0.000000</td>\n",
       "    </tr>\n",
       "    <tr>\n",
       "      <th>max</th>\n",
       "      <td>0.000000</td>\n",
       "      <td>1.000000</td>\n",
       "      <td>1.000000</td>\n",
       "      <td>1.000000</td>\n",
       "      <td>1.000000</td>\n",
       "      <td>1.000000</td>\n",
       "      <td>0.000000</td>\n",
       "    </tr>\n",
       "    <tr>\n",
       "      <th rowspan=\"8\" valign=\"top\">spray_day</th>\n",
       "      <th>count</th>\n",
       "      <td>1.000000</td>\n",
       "      <td>2699.000000</td>\n",
       "      <td>4752.000000</td>\n",
       "      <td>2740.000000</td>\n",
       "      <td>86.000000</td>\n",
       "      <td>6.000000</td>\n",
       "      <td>222.000000</td>\n",
       "    </tr>\n",
       "    <tr>\n",
       "      <th>mean</th>\n",
       "      <td>0.000000</td>\n",
       "      <td>0.005558</td>\n",
       "      <td>0.005892</td>\n",
       "      <td>0.006204</td>\n",
       "      <td>0.000000</td>\n",
       "      <td>0.000000</td>\n",
       "      <td>0.000000</td>\n",
       "    </tr>\n",
       "    <tr>\n",
       "      <th>std</th>\n",
       "      <td>NaN</td>\n",
       "      <td>0.074356</td>\n",
       "      <td>0.076543</td>\n",
       "      <td>0.078537</td>\n",
       "      <td>0.000000</td>\n",
       "      <td>0.000000</td>\n",
       "      <td>0.000000</td>\n",
       "    </tr>\n",
       "    <tr>\n",
       "      <th>min</th>\n",
       "      <td>0.000000</td>\n",
       "      <td>0.000000</td>\n",
       "      <td>0.000000</td>\n",
       "      <td>0.000000</td>\n",
       "      <td>0.000000</td>\n",
       "      <td>0.000000</td>\n",
       "      <td>0.000000</td>\n",
       "    </tr>\n",
       "    <tr>\n",
       "      <th>25%</th>\n",
       "      <td>0.000000</td>\n",
       "      <td>0.000000</td>\n",
       "      <td>0.000000</td>\n",
       "      <td>0.000000</td>\n",
       "      <td>0.000000</td>\n",
       "      <td>0.000000</td>\n",
       "      <td>0.000000</td>\n",
       "    </tr>\n",
       "    <tr>\n",
       "      <th>50%</th>\n",
       "      <td>0.000000</td>\n",
       "      <td>0.000000</td>\n",
       "      <td>0.000000</td>\n",
       "      <td>0.000000</td>\n",
       "      <td>0.000000</td>\n",
       "      <td>0.000000</td>\n",
       "      <td>0.000000</td>\n",
       "    </tr>\n",
       "    <tr>\n",
       "      <th>75%</th>\n",
       "      <td>0.000000</td>\n",
       "      <td>0.000000</td>\n",
       "      <td>0.000000</td>\n",
       "      <td>0.000000</td>\n",
       "      <td>0.000000</td>\n",
       "      <td>0.000000</td>\n",
       "      <td>0.000000</td>\n",
       "    </tr>\n",
       "    <tr>\n",
       "      <th>max</th>\n",
       "      <td>0.000000</td>\n",
       "      <td>1.000000</td>\n",
       "      <td>1.000000</td>\n",
       "      <td>1.000000</td>\n",
       "      <td>0.000000</td>\n",
       "      <td>0.000000</td>\n",
       "      <td>0.000000</td>\n",
       "    </tr>\n",
       "  </tbody>\n",
       "</table>\n",
       "</div>"
      ],
      "text/plain": [
       "Species             CULEX ERRATICUS  CULEX PIPIENS  CULEX PIPIENS/RESTUANS  \\\n",
       "Latitude     count         1.000000    2699.000000             4752.000000   \n",
       "             mean         41.974689      41.813402               41.848832   \n",
       "             std                NaN       0.115259                0.110800   \n",
       "             min          41.974689      41.644612               41.644612   \n",
       "             25%          41.974689      41.704572               41.750498   \n",
       "             50%          41.974689      41.793818               41.868077   \n",
       "             75%          41.974689      41.923738               41.954690   \n",
       "             max          41.974689      42.017430               42.017430   \n",
       "Longitude    count         1.000000    2699.000000             4752.000000   \n",
       "             mean        -87.890615     -87.680481              -87.705241   \n",
       "             std                NaN       0.095400                0.095853   \n",
       "             min         -87.890615     -87.930995              -87.930995   \n",
       "             25%         -87.890615     -87.745602              -87.763416   \n",
       "             50%         -87.890615     -87.674677              -87.700117   \n",
       "             75%         -87.890615     -87.599862              -87.642984   \n",
       "             max         -87.890615     -87.531635              -87.531635   \n",
       "NumMosquitos count         1.000000    2699.000000             4752.000000   \n",
       "             mean          7.000000      16.550945               13.945286   \n",
       "             std                NaN      19.040433               15.995301   \n",
       "             min           7.000000       1.000000                1.000000   \n",
       "             25%           7.000000       2.000000                2.000000   \n",
       "             50%           7.000000       6.000000                6.000000   \n",
       "             75%           7.000000      31.000000               20.000000   \n",
       "             max           7.000000      50.000000               50.000000   \n",
       "WnvPresent   count         1.000000    2699.000000             4752.000000   \n",
       "             mean          0.000000       0.088922                0.055135   \n",
       "             std                NaN       0.284684                0.228267   \n",
       "             min           0.000000       0.000000                0.000000   \n",
       "             25%           0.000000       0.000000                0.000000   \n",
       "             50%           0.000000       0.000000                0.000000   \n",
       "             75%           0.000000       0.000000                0.000000   \n",
       "             max           0.000000       1.000000                1.000000   \n",
       "spray_year   count         1.000000    2699.000000             4752.000000   \n",
       "             mean          0.000000       0.082253                0.118687   \n",
       "             std                NaN       0.274800                0.323454   \n",
       "             min           0.000000       0.000000                0.000000   \n",
       "             25%           0.000000       0.000000                0.000000   \n",
       "             50%           0.000000       0.000000                0.000000   \n",
       "             75%           0.000000       0.000000                0.000000   \n",
       "             max           0.000000       1.000000                1.000000   \n",
       "spray_month  count         1.000000    2699.000000             4752.000000   \n",
       "             mean          0.000000       0.034828                0.039352   \n",
       "             std                NaN       0.183377                0.194451   \n",
       "             min           0.000000       0.000000                0.000000   \n",
       "             25%           0.000000       0.000000                0.000000   \n",
       "             50%           0.000000       0.000000                0.000000   \n",
       "             75%           0.000000       0.000000                0.000000   \n",
       "             max           0.000000       1.000000                1.000000   \n",
       "spray_day    count         1.000000    2699.000000             4752.000000   \n",
       "             mean          0.000000       0.005558                0.005892   \n",
       "             std                NaN       0.074356                0.076543   \n",
       "             min           0.000000       0.000000                0.000000   \n",
       "             25%           0.000000       0.000000                0.000000   \n",
       "             50%           0.000000       0.000000                0.000000   \n",
       "             75%           0.000000       0.000000                0.000000   \n",
       "             max           0.000000       1.000000                1.000000   \n",
       "\n",
       "Species             CULEX RESTUANS  CULEX SALINARIUS  CULEX TARSALIS  \\\n",
       "Latitude     count     2740.000000         86.000000        6.000000   \n",
       "             mean        41.859096         41.825134       41.818023   \n",
       "             std          0.107698          0.121245        0.102586   \n",
       "             min         41.644612         41.659112       41.678618   \n",
       "             25%         41.765585         41.704572       41.756336   \n",
       "             50%         41.878114         41.811901       41.814516   \n",
       "             75%         41.958271         41.952235       41.880825   \n",
       "             max         42.017430         42.017430       41.960616   \n",
       "Longitude    count     2740.000000         86.000000        6.000000   \n",
       "             mean       -87.713366        -87.693788      -87.661568   \n",
       "             std          0.095198          0.107487        0.094513   \n",
       "             min        -87.930995        -87.890615      -87.777189   \n",
       "             25%        -87.777189        -87.752411      -87.724109   \n",
       "             50%        -87.703047        -87.687266      -87.679886   \n",
       "             75%        -87.654224        -87.601220      -87.580227   \n",
       "             max        -87.531635        -87.531635      -87.546587   \n",
       "NumMosquitos count     2740.000000         86.000000        6.000000   \n",
       "             mean         8.551460          1.686047        1.166667   \n",
       "             std         12.182166          2.286851        0.408248   \n",
       "             min          1.000000          1.000000        1.000000   \n",
       "             25%          1.000000          1.000000        1.000000   \n",
       "             50%          3.000000          1.000000        1.000000   \n",
       "             75%          9.000000          2.000000        1.000000   \n",
       "             max         50.000000         21.000000        2.000000   \n",
       "WnvPresent   count     2740.000000         86.000000        6.000000   \n",
       "             mean         0.017883          0.000000        0.000000   \n",
       "             std          0.132551          0.000000        0.000000   \n",
       "             min          0.000000          0.000000        0.000000   \n",
       "             25%          0.000000          0.000000        0.000000   \n",
       "             50%          0.000000          0.000000        0.000000   \n",
       "             75%          0.000000          0.000000        0.000000   \n",
       "             max          1.000000          0.000000        0.000000   \n",
       "spray_year   count     2740.000000         86.000000        6.000000   \n",
       "             mean         0.142701          0.023256        0.166667   \n",
       "             std          0.349831          0.151599        0.408248   \n",
       "             min          0.000000          0.000000        0.000000   \n",
       "             25%          0.000000          0.000000        0.000000   \n",
       "             50%          0.000000          0.000000        0.000000   \n",
       "             75%          0.000000          0.000000        0.000000   \n",
       "             max          1.000000          1.000000        1.000000   \n",
       "spray_month  count     2740.000000         86.000000        6.000000   \n",
       "             mean         0.043431          0.011628        0.166667   \n",
       "             std          0.203862          0.107833        0.408248   \n",
       "             min          0.000000          0.000000        0.000000   \n",
       "             25%          0.000000          0.000000        0.000000   \n",
       "             50%          0.000000          0.000000        0.000000   \n",
       "             75%          0.000000          0.000000        0.000000   \n",
       "             max          1.000000          1.000000        1.000000   \n",
       "spray_day    count     2740.000000         86.000000        6.000000   \n",
       "             mean         0.006204          0.000000        0.000000   \n",
       "             std          0.078537          0.000000        0.000000   \n",
       "             min          0.000000          0.000000        0.000000   \n",
       "             25%          0.000000          0.000000        0.000000   \n",
       "             50%          0.000000          0.000000        0.000000   \n",
       "             75%          0.000000          0.000000        0.000000   \n",
       "             max          1.000000          0.000000        0.000000   \n",
       "\n",
       "Species             CULEX TERRITANS  \n",
       "Latitude     count       222.000000  \n",
       "             mean         41.798297  \n",
       "             std           0.108345  \n",
       "             min          41.659112  \n",
       "             25%          41.702724  \n",
       "             50%          41.774501  \n",
       "             75%          41.891126  \n",
       "             max          42.017430  \n",
       "Longitude    count       222.000000  \n",
       "             mean        -87.658375  \n",
       "             std           0.088155  \n",
       "             min         -87.890615  \n",
       "             25%         -87.728492  \n",
       "             50%         -87.666622  \n",
       "             75%         -87.563583  \n",
       "             max         -87.531635  \n",
       "NumMosquitos count       222.000000  \n",
       "             mean          2.297297  \n",
       "             std           4.392702  \n",
       "             min           1.000000  \n",
       "             25%           1.000000  \n",
       "             50%           1.000000  \n",
       "             75%           2.000000  \n",
       "             max          42.000000  \n",
       "WnvPresent   count       222.000000  \n",
       "             mean          0.000000  \n",
       "             std           0.000000  \n",
       "             min           0.000000  \n",
       "             25%           0.000000  \n",
       "             50%           0.000000  \n",
       "             75%           0.000000  \n",
       "             max           0.000000  \n",
       "spray_year   count       222.000000  \n",
       "             mean          0.018018  \n",
       "             std           0.133317  \n",
       "             min           0.000000  \n",
       "             25%           0.000000  \n",
       "             50%           0.000000  \n",
       "             75%           0.000000  \n",
       "             max           1.000000  \n",
       "spray_month  count       222.000000  \n",
       "             mean          0.000000  \n",
       "             std           0.000000  \n",
       "             min           0.000000  \n",
       "             25%           0.000000  \n",
       "             50%           0.000000  \n",
       "             75%           0.000000  \n",
       "             max           0.000000  \n",
       "spray_day    count       222.000000  \n",
       "             mean          0.000000  \n",
       "             std           0.000000  \n",
       "             min           0.000000  \n",
       "             25%           0.000000  \n",
       "             50%           0.000000  \n",
       "             75%           0.000000  \n",
       "             max           0.000000  "
      ]
     },
     "execution_count": 46,
     "metadata": {},
     "output_type": "execute_result"
    }
   ],
   "source": [
    "df.groupby('Species').describe().T"
   ]
  },
  {
   "cell_type": "code",
   "execution_count": 47,
   "metadata": {},
   "outputs": [
    {
     "data": {
      "text/plain": [
       "<AxesSubplot:xlabel='WnvPresent', ylabel='Species'>"
      ]
     },
     "execution_count": 47,
     "metadata": {},
     "output_type": "execute_result"
    },
    {
     "data": {
      "image/png": "[encoded data removed]",
      "text/plain": [
       "<Figure size 432x288 with 1 Axes>"
      ]
     },
     "metadata": {},
     "output_type": "display_data"
    }
   ],
   "source": [
    "sns.barplot(data=df,y='Species',x='WnvPresent')\n"
   ]
  },
  {
   "cell_type": "markdown",
   "metadata": {},
   "source": [
    "Really important finding here! WNV is only in two mosquito species"
   ]
  },
  {
   "cell_type": "code",
   "execution_count": 48,
   "metadata": {},
   "outputs": [],
   "source": [
    "df['cul_or_pip'] = [1 if s in ['CULEX PIPIENS/RESTUANS', 'CULEX RESTUANS', 'CULEX PIPIENS'] else 0 for s in df.Species]\n",
    "\n",
    "df_all = df.merge(w_all.reset_index(),on='Date')\n",
    "df_avg = df.merge(w_avg.reset_index(),on='Date')"
   ]
  },
  {
   "cell_type": "code",
   "execution_count": 49,
   "metadata": {},
   "outputs": [
    {
     "data": {
      "text/plain": [
       "<AxesSubplot:xlabel='WnvPresent', ylabel='Tavg'>"
      ]
     },
     "execution_count": 49,
     "metadata": {},
     "output_type": "execute_result"
    },
    {
     "data": {
      "image/png": "[encoded data removed]",
      "text/plain": [
       "<Figure size 432x288 with 1 Axes>"
      ]
     },
     "metadata": {},
     "output_type": "display_data"
    }
   ],
   "source": [
    "sns.violinplot(data=df_avg,x='WnvPresent',y='Tavg')"
   ]
  },
  {
   "cell_type": "code",
   "execution_count": 50,
   "metadata": {},
   "outputs": [
    {
     "data": {
      "text/plain": [
       "0.0642559817674728"
      ]
     },
     "execution_count": 50,
     "metadata": {},
     "output_type": "execute_result"
    }
   ],
   "source": [
    "df_avg.WnvPresent.corr(df_avg.Tavg)"
   ]
  },
  {
   "cell_type": "markdown",
   "metadata": {},
   "source": [
    "As you might expect, warmer temperatures mean more mosquitos. Correlation indicates that there is not a linear relationship. As long as it's warm enough, mosquitos are out! "
   ]
  },
  {
   "cell_type": "code",
   "execution_count": 51,
   "metadata": {},
   "outputs": [
    {
     "data": {
      "text/plain": [
       "<AxesSubplot:xlabel='WnvPresent', ylabel='PrecipTotal'>"
      ]
     },
     "execution_count": 51,
     "metadata": {},
     "output_type": "execute_result"
    },
    {
     "data": {
      "image/png": "[encoded data removed]",
      "text/plain": [
       "<Figure size 432x288 with 1 Axes>"
      ]
     },
     "metadata": {},
     "output_type": "display_data"
    }
   ],
   "source": [
    "sns.violinplot(data=df_avg,x='WnvPresent',y='PrecipTotal')"
   ]
  },
  {
   "cell_type": "markdown",
   "metadata": {},
   "source": [
    "High precipitation day-of trends towards fewer mosquitos. I wonder what it looks like with rolling average?"
   ]
  },
  {
   "cell_type": "code",
   "execution_count": 52,
   "metadata": {},
   "outputs": [],
   "source": [
    "#rolling total pepceiption on a few different time scales. \n",
    "w_avg['three_day_rain'] = w_avg['PrecipTotal'].rolling(3, min_periods=1).sum()\n",
    "w_avg['week_rain'] = w_avg['PrecipTotal'].rolling(7, min_periods=1).sum()\n",
    "w_avg['two_week_rain'] = w_avg['PrecipTotal'].rolling(14, min_periods=1).sum()\n",
    "w_avg['month_rain'] = w_avg['PrecipTotal'].rolling(28, min_periods=1).sum()\n",
    "\n",
    "#and for the separate weather stations\n",
    "w_all['three_day_rain_x'] = w_all['PrecipTotal_x'].rolling(3, min_periods=1).sum()\n",
    "w_all['week_rain_x'] = w_all['PrecipTotal_x'].rolling(7, min_periods=1).sum()\n",
    "w_all['two_week_rain_x'] = w_all['PrecipTotal_x'].rolling(14, min_periods=1).sum()\n",
    "w_all['month_rain_x'] = w_all['PrecipTotal_x'].rolling(28, min_periods=1).sum()\n",
    "\n",
    "w_all['three_day_rain_y'] = w_all['PrecipTotal_y'].rolling(3, min_periods=1).sum()\n",
    "w_all['week_rain_y'] = w_all['PrecipTotal_y'].rolling(7, min_periods=1).sum()\n",
    "w_all['two_week_rain_y'] = w_all['PrecipTotal_y'].rolling(14, min_periods=1).sum()\n",
    "w_all['month_rain_y'] = w_all['PrecipTotal_y'].rolling(28, min_periods=1).sum()"
   ]
  },
  {
   "cell_type": "code",
   "execution_count": 53,
   "metadata": {},
   "outputs": [],
   "source": [
    "df_avg = df.merge(w_avg.reset_index(),on='Date')\n",
    "df_all = df.merge(w_all.reset_index(),on='Date')"
   ]
  },
  {
   "cell_type": "code",
   "execution_count": 54,
   "metadata": {
    "scrolled": true
   },
   "outputs": [
    {
     "data": {
      "text/plain": [
       "<AxesSubplot:xlabel='WnvPresent', ylabel='three_day_rain'>"
      ]
     },
     "execution_count": 54,
     "metadata": {},
     "output_type": "execute_result"
    },
    {
     "data": {
      "image/png": "[encoded data removed]",
      "text/plain": [
       "<Figure size 432x288 with 1 Axes>"
      ]
     },
     "metadata": {},
     "output_type": "display_data"
    }
   ],
   "source": [
    "sns.violinplot(data=df_avg,x='WnvPresent',y='three_day_rain')"
   ]
  },
  {
   "cell_type": "code",
   "execution_count": 55,
   "metadata": {},
   "outputs": [
    {
     "data": {
      "text/plain": [
       "<AxesSubplot:xlabel='WnvPresent', ylabel='week_rain'>"
      ]
     },
     "execution_count": 55,
     "metadata": {},
     "output_type": "execute_result"
    },
    {
     "data": {
      "image/png": "[encoded data removed]",
      "text/plain": [
       "<Figure size 432x288 with 1 Axes>"
      ]
     },
     "metadata": {},
     "output_type": "display_data"
    }
   ],
   "source": [
    "sns.violinplot(data=df_avg,x='WnvPresent',y='week_rain')"
   ]
  },
  {
   "cell_type": "code",
   "execution_count": 56,
   "metadata": {},
   "outputs": [
    {
     "data": {
      "text/plain": [
       "<AxesSubplot:xlabel='WnvPresent', ylabel='two_week_rain'>"
      ]
     },
     "execution_count": 56,
     "metadata": {},
     "output_type": "execute_result"
    },
    {
     "data": {
      "image/png": "[encoded data removed]",
      "text/plain": [
       "<Figure size 432x288 with 1 Axes>"
      ]
     },
     "metadata": {},
     "output_type": "display_data"
    }
   ],
   "source": [
    "sns.violinplot(data=df_avg,x='WnvPresent',y='two_week_rain')"
   ]
  },
  {
   "cell_type": "code",
   "execution_count": 57,
   "metadata": {},
   "outputs": [
    {
     "data": {
      "text/plain": [
       "<AxesSubplot:xlabel='WnvPresent', ylabel='month_rain'>"
      ]
     },
     "execution_count": 57,
     "metadata": {},
     "output_type": "execute_result"
    },
    {
     "data": {
      "image/png": "[encoded data removed]",
      "text/plain": [
       "<Figure size 432x288 with 1 Axes>"
      ]
     },
     "metadata": {},
     "output_type": "display_data"
    }
   ],
   "source": [
    "sns.violinplot(data=df_avg,x='WnvPresent',y='month_rain')"
   ]
  },
  {
   "cell_type": "code",
   "execution_count": 58,
   "metadata": {},
   "outputs": [
    {
     "data": {
      "text/plain": [
       "<AxesSubplot:>"
      ]
     },
     "execution_count": 58,
     "metadata": {},
     "output_type": "execute_result"
    },
    {
     "data": {
      "image/png": "[encoded data removed]",
      "text/plain": [
       "<Figure size 432x288 with 2 Axes>"
      ]
     },
     "metadata": {},
     "output_type": "display_data"
    }
   ],
   "source": [
    "subset = df_avg[['WnvPresent','PrecipTotal','three_day_rain','week_rain','two_week_rain',\n",
    "                'month_rain','DewPoint','Tavg']]\n",
    "sns.heatmap(subset.corr())"
   ]
  },
  {
   "cell_type": "code",
   "execution_count": 59,
   "metadata": {},
   "outputs": [
    {
     "data": {
      "text/plain": [
       "Latitude          0.028697\n",
       "Longitude        -0.060345\n",
       "NumMosquitos      0.196820\n",
       "WnvPresent        1.000000\n",
       "spray_year        0.078184\n",
       "spray_month       0.115555\n",
       "spray_day         0.050164\n",
       "cul_or_pip        0.041362\n",
       "Tmax              0.048244\n",
       "Tmin              0.074048\n",
       "Tavg              0.064256\n",
       "Depart            0.055436\n",
       "DewPoint          0.085883\n",
       "WetBulb           0.079363\n",
       "Heat             -0.054740\n",
       "Cool              0.058101\n",
       "Sunrise           0.111944\n",
       "Sunset           -0.068844\n",
       "PrecipTotal      -0.000577\n",
       "StnPressure       0.010128\n",
       "SeaLevel          0.006480\n",
       "ResultSpeed      -0.046298\n",
       "ResultDir         0.000175\n",
       "AvgSpeed         -0.029416\n",
       "sunrise_diff      0.079836\n",
       "sunset_diff      -0.107039\n",
       "BR                0.044808\n",
       "HZ                0.016236\n",
       "RA                0.009714\n",
       "TSRA              0.043148\n",
       "TS                0.047925\n",
       "DZ               -0.019889\n",
       "FG                0.098846\n",
       "three_day_rain    0.029163\n",
       "week_rain         0.045091\n",
       "two_week_rain     0.052931\n",
       "month_rain        0.009032\n",
       "Name: WnvPresent, dtype: float64"
      ]
     },
     "execution_count": 59,
     "metadata": {},
     "output_type": "execute_result"
    }
   ],
   "source": [
    "corr = df_avg.corr()\n",
    "corr['WnvPresent']\n",
    "\n"
   ]
  },
  {
   "cell_type": "code",
   "execution_count": 60,
   "metadata": {},
   "outputs": [
    {
     "data": {
      "text/plain": [
       "<AxesSubplot:xlabel='WnvPresent', ylabel='spray_month'>"
      ]
     },
     "execution_count": 60,
     "metadata": {},
     "output_type": "execute_result"
    },
    {
     "data": {
      "image/png": "[encoded data removed]",
      "text/plain": [
       "<Figure size 432x288 with 1 Axes>"
      ]
     },
     "metadata": {},
     "output_type": "display_data"
    }
   ],
   "source": [
    "sns.violinplot(data=df_avg,x='WnvPresent',y='spray_month')"
   ]
  },
  {
   "cell_type": "code",
   "execution_count": 61,
   "metadata": {},
   "outputs": [
    {
     "data": {
      "text/plain": [
       "<AxesSubplot:xlabel='WnvPresent', ylabel='Sunrise'>"
      ]
     },
     "execution_count": 61,
     "metadata": {},
     "output_type": "execute_result"
    },
    {
     "data": {
      "image/png": "[encoded data removed]",
      "text/plain": [
       "<Figure size 432x288 with 1 Axes>"
      ]
     },
     "metadata": {},
     "output_type": "display_data"
    }
   ],
   "source": [
    "sns.violinplot(data=df_avg,x='WnvPresent',y='Sunrise')"
   ]
  },
  {
   "cell_type": "code",
   "execution_count": 62,
   "metadata": {},
   "outputs": [
    {
     "data": {
      "text/plain": [
       "<AxesSubplot:xlabel='WnvPresent', ylabel='SeaLevel'>"
      ]
     },
     "execution_count": 62,
     "metadata": {},
     "output_type": "execute_result"
    },
    {
     "data": {
      "image/png": "[encoded data removed]",
      "text/plain": [
       "<Figure size 432x288 with 1 Axes>"
      ]
     },
     "metadata": {},
     "output_type": "display_data"
    }
   ],
   "source": [
    "sns.violinplot(data=df_avg,x='WnvPresent',y='SeaLevel')"
   ]
  },
  {
   "cell_type": "code",
   "execution_count": 63,
   "metadata": {},
   "outputs": [
    {
     "data": {
      "text/plain": [
       "<AxesSubplot:xlabel='WnvPresent', ylabel='AvgSpeed'>"
      ]
     },
     "execution_count": 63,
     "metadata": {},
     "output_type": "execute_result"
    },
    {
     "data": {
      "image/png": "[encoded data removed]",
      "text/plain": [
       "<Figure size 432x288 with 1 Axes>"
      ]
     },
     "metadata": {},
     "output_type": "display_data"
    }
   ],
   "source": [
    "sns.violinplot(data=df_avg,x='WnvPresent',y='AvgSpeed')"
   ]
  },
  {
   "cell_type": "code",
   "execution_count": 64,
   "metadata": {},
   "outputs": [
    {
     "data": {
      "text/plain": [
       "<AxesSubplot:xlabel='WnvPresent', ylabel='DewPoint'>"
      ]
     },
     "execution_count": 64,
     "metadata": {},
     "output_type": "execute_result"
    },
    {
     "data": {
      "image/png": "[encoded data removed]",
      "text/plain": [
       "<Figure size 432x288 with 1 Axes>"
      ]
     },
     "metadata": {},
     "output_type": "display_data"
    }
   ],
   "source": [
    "sns.violinplot(data=df_avg,x='WnvPresent',y='DewPoint')"
   ]
  },
  {
   "cell_type": "code",
   "execution_count": 65,
   "metadata": {},
   "outputs": [],
   "source": [
    "df_avg['T_spread'] = df_avg.Tmax - df_avg.Tmin\n",
    "df_avg['longer_days'] = [1 if r[0] - r[1] > 0 else 0 for i,r in df_avg[['sunset_diff','sunrise_diff']].iterrows()]\n"
   ]
  },
  {
   "cell_type": "code",
   "execution_count": 66,
   "metadata": {},
   "outputs": [
    {
     "name": "stdout",
     "output_type": "stream",
     "text": [
      "<class 'pandas.core.frame.DataFrame'>\n",
      "Int64Index: 10506 entries, 0 to 10505\n",
      "Data columns (total 42 columns):\n",
      " #   Column          Non-Null Count  Dtype         \n",
      "---  ------          --------------  -----         \n",
      " 0   Date            10506 non-null  datetime64[ns]\n",
      " 1   Species         10506 non-null  object        \n",
      " 2   Trap            10506 non-null  object        \n",
      " 3   Latitude        10506 non-null  float64       \n",
      " 4   Longitude       10506 non-null  float64       \n",
      " 5   NumMosquitos    10506 non-null  int64         \n",
      " 6   WnvPresent      10506 non-null  int64         \n",
      " 7   spray_year      10506 non-null  int64         \n",
      " 8   spray_month     10506 non-null  int64         \n",
      " 9   spray_day       10506 non-null  int64         \n",
      " 10  cul_or_pip      10506 non-null  int64         \n",
      " 11  Tmax            10506 non-null  float64       \n",
      " 12  Tmin            10506 non-null  float64       \n",
      " 13  Tavg            10506 non-null  float64       \n",
      " 14  Depart          10506 non-null  float64       \n",
      " 15  DewPoint        10506 non-null  float64       \n",
      " 16  WetBulb         10506 non-null  float64       \n",
      " 17  Heat            10506 non-null  float64       \n",
      " 18  Cool            10506 non-null  float64       \n",
      " 19  Sunrise         10506 non-null  float64       \n",
      " 20  Sunset          10506 non-null  float64       \n",
      " 21  PrecipTotal     10506 non-null  float64       \n",
      " 22  StnPressure     10506 non-null  float64       \n",
      " 23  SeaLevel        10506 non-null  float64       \n",
      " 24  ResultSpeed     10506 non-null  float64       \n",
      " 25  ResultDir       10506 non-null  float64       \n",
      " 26  AvgSpeed        10506 non-null  float64       \n",
      " 27  sunrise_diff    10506 non-null  float64       \n",
      " 28  sunset_diff     10506 non-null  float64       \n",
      " 29  BR              10506 non-null  float64       \n",
      " 30  HZ              10506 non-null  float64       \n",
      " 31  RA              10506 non-null  float64       \n",
      " 32  TSRA            10506 non-null  float64       \n",
      " 33  TS              10506 non-null  float64       \n",
      " 34  DZ              10506 non-null  float64       \n",
      " 35  FG              10506 non-null  float64       \n",
      " 36  three_day_rain  10506 non-null  float64       \n",
      " 37  week_rain       10506 non-null  float64       \n",
      " 38  two_week_rain   10506 non-null  float64       \n",
      " 39  month_rain      10506 non-null  float64       \n",
      " 40  T_spread        10506 non-null  float64       \n",
      " 41  longer_days     10506 non-null  int64         \n",
      "dtypes: datetime64[ns](1), float64(32), int64(7), object(2)\n",
      "memory usage: 3.8+ MB\n"
     ]
    }
   ],
   "source": [
    "df_avg.info()"
   ]
  },
  {
   "cell_type": "markdown",
   "metadata": {},
   "source": [
    "<h3>Correlations for lagged weather variables</h3>\n",
    "\n",
    "Here I will explore how correlation changes based on the lag in the variable. For each variable, I will save the index (lag or span) that produced the best correlation"
   ]
  },
  {
   "cell_type": "code",
   "execution_count": 67,
   "metadata": {},
   "outputs": [],
   "source": [
    "w_avg['longer_days'] = [1 if r[1] - r[0] > 0 else 0 for i, r in w_avg[['sunrise_diff','sunset_diff']].iterrows()]\n",
    "w_avg['T_spread'] = w_avg.Tmax - w_avg.Tmin\n",
    "w_avg['rainy_and_hot'] = pd.qcut(w_avg.Tmax,5,labels=range(0,5)).astype('float') + pd.cut(\n",
    "    w_avg.PrecipTotal,5,labels=range(0,5)).astype('float')\n"
   ]
  },
  {
   "cell_type": "code",
   "execution_count": 68,
   "metadata": {},
   "outputs": [],
   "source": [
    "#lagged weather\n",
    "def lagged(df,n):\n",
    "    return df.rolling(n).mean().dropna()\n",
    "\n",
    "def exp_lag(df,n):\n",
    "    return df.ewm(span=n).mean().dropna()\n",
    "\n",
    "w_exp = {s:exp_lag(w_avg,s) for s in np.arange(2,60)}\n",
    "w_lag = {s:lagged(w_avg,s) for s in np.arange(2,60)}"
   ]
  },
  {
   "cell_type": "code",
   "execution_count": 69,
   "metadata": {},
   "outputs": [],
   "source": [
    "def lag_corr(weather, data=df):\n",
    "    best_corr = {c:[0,0] for c in df.merge(weather[2].reset_index(),on='Date').columns}\n",
    "    for lag,w_df in weather.items():\n",
    "        d = data.merge(w_df.reset_index(),on='Date')\n",
    "        for i, corr in d.corr()['WnvPresent'].iteritems():\n",
    "            if np.abs(best_corr[i][1]) < np.abs(corr):\n",
    "                best_corr[i][1] = corr\n",
    "                best_corr[i][0] = lag\n",
    "        \n",
    "    return best_corr"
   ]
  },
  {
   "cell_type": "code",
   "execution_count": 70,
   "metadata": {},
   "outputs": [
    {
     "data": {
      "text/html": [
       "<div>\n",
       "<style scoped>\n",
       "    .dataframe tbody tr th:only-of-type {\n",
       "        vertical-align: middle;\n",
       "    }\n",
       "\n",
       "    .dataframe tbody tr th {\n",
       "        vertical-align: top;\n",
       "    }\n",
       "\n",
       "    .dataframe thead th {\n",
       "        text-align: right;\n",
       "    }\n",
       "</style>\n",
       "<table border=\"1\" class=\"dataframe\">\n",
       "  <thead>\n",
       "    <tr style=\"text-align: right;\">\n",
       "      <th></th>\n",
       "      <th>0</th>\n",
       "      <th>1</th>\n",
       "    </tr>\n",
       "  </thead>\n",
       "  <tbody>\n",
       "    <tr>\n",
       "      <th>Date</th>\n",
       "      <td>0.0</td>\n",
       "      <td>0.000000</td>\n",
       "    </tr>\n",
       "    <tr>\n",
       "      <th>Species</th>\n",
       "      <td>0.0</td>\n",
       "      <td>0.000000</td>\n",
       "    </tr>\n",
       "    <tr>\n",
       "      <th>Trap</th>\n",
       "      <td>0.0</td>\n",
       "      <td>0.000000</td>\n",
       "    </tr>\n",
       "    <tr>\n",
       "      <th>Latitude</th>\n",
       "      <td>2.0</td>\n",
       "      <td>0.028697</td>\n",
       "    </tr>\n",
       "    <tr>\n",
       "      <th>Longitude</th>\n",
       "      <td>2.0</td>\n",
       "      <td>-0.060345</td>\n",
       "    </tr>\n",
       "    <tr>\n",
       "      <th>NumMosquitos</th>\n",
       "      <td>2.0</td>\n",
       "      <td>0.196820</td>\n",
       "    </tr>\n",
       "    <tr>\n",
       "      <th>WnvPresent</th>\n",
       "      <td>2.0</td>\n",
       "      <td>1.000000</td>\n",
       "    </tr>\n",
       "    <tr>\n",
       "      <th>spray_year</th>\n",
       "      <td>2.0</td>\n",
       "      <td>0.078184</td>\n",
       "    </tr>\n",
       "    <tr>\n",
       "      <th>spray_month</th>\n",
       "      <td>2.0</td>\n",
       "      <td>0.115555</td>\n",
       "    </tr>\n",
       "    <tr>\n",
       "      <th>spray_day</th>\n",
       "      <td>2.0</td>\n",
       "      <td>0.050164</td>\n",
       "    </tr>\n",
       "    <tr>\n",
       "      <th>cul_or_pip</th>\n",
       "      <td>2.0</td>\n",
       "      <td>0.041362</td>\n",
       "    </tr>\n",
       "    <tr>\n",
       "      <th>Tmax</th>\n",
       "      <td>59.0</td>\n",
       "      <td>0.137643</td>\n",
       "    </tr>\n",
       "    <tr>\n",
       "      <th>Tmin</th>\n",
       "      <td>59.0</td>\n",
       "      <td>0.156602</td>\n",
       "    </tr>\n",
       "    <tr>\n",
       "      <th>Tavg</th>\n",
       "      <td>59.0</td>\n",
       "      <td>0.148963</td>\n",
       "    </tr>\n",
       "    <tr>\n",
       "      <th>Depart</th>\n",
       "      <td>2.0</td>\n",
       "      <td>0.062206</td>\n",
       "    </tr>\n",
       "    <tr>\n",
       "      <th>DewPoint</th>\n",
       "      <td>59.0</td>\n",
       "      <td>0.165128</td>\n",
       "    </tr>\n",
       "    <tr>\n",
       "      <th>WetBulb</th>\n",
       "      <td>59.0</td>\n",
       "      <td>0.160492</td>\n",
       "    </tr>\n",
       "    <tr>\n",
       "      <th>Heat</th>\n",
       "      <td>59.0</td>\n",
       "      <td>-0.138744</td>\n",
       "    </tr>\n",
       "    <tr>\n",
       "      <th>Cool</th>\n",
       "      <td>59.0</td>\n",
       "      <td>0.144050</td>\n",
       "    </tr>\n",
       "    <tr>\n",
       "      <th>Sunrise</th>\n",
       "      <td>2.0</td>\n",
       "      <td>0.108794</td>\n",
       "    </tr>\n",
       "    <tr>\n",
       "      <th>Sunset</th>\n",
       "      <td>3.0</td>\n",
       "      <td>-0.069026</td>\n",
       "    </tr>\n",
       "    <tr>\n",
       "      <th>PrecipTotal</th>\n",
       "      <td>12.0</td>\n",
       "      <td>0.043776</td>\n",
       "    </tr>\n",
       "    <tr>\n",
       "      <th>StnPressure</th>\n",
       "      <td>35.0</td>\n",
       "      <td>0.069590</td>\n",
       "    </tr>\n",
       "    <tr>\n",
       "      <th>SeaLevel</th>\n",
       "      <td>30.0</td>\n",
       "      <td>0.058246</td>\n",
       "    </tr>\n",
       "    <tr>\n",
       "      <th>ResultSpeed</th>\n",
       "      <td>42.0</td>\n",
       "      <td>-0.131196</td>\n",
       "    </tr>\n",
       "    <tr>\n",
       "      <th>ResultDir</th>\n",
       "      <td>4.0</td>\n",
       "      <td>0.023572</td>\n",
       "    </tr>\n",
       "    <tr>\n",
       "      <th>AvgSpeed</th>\n",
       "      <td>44.0</td>\n",
       "      <td>-0.127036</td>\n",
       "    </tr>\n",
       "    <tr>\n",
       "      <th>sunrise_diff</th>\n",
       "      <td>26.0</td>\n",
       "      <td>0.190618</td>\n",
       "    </tr>\n",
       "    <tr>\n",
       "      <th>sunset_diff</th>\n",
       "      <td>42.0</td>\n",
       "      <td>-0.123486</td>\n",
       "    </tr>\n",
       "    <tr>\n",
       "      <th>BR</th>\n",
       "      <td>2.0</td>\n",
       "      <td>0.051104</td>\n",
       "    </tr>\n",
       "    <tr>\n",
       "      <th>HZ</th>\n",
       "      <td>11.0</td>\n",
       "      <td>-0.028095</td>\n",
       "    </tr>\n",
       "    <tr>\n",
       "      <th>RA</th>\n",
       "      <td>10.0</td>\n",
       "      <td>0.020259</td>\n",
       "    </tr>\n",
       "    <tr>\n",
       "      <th>TSRA</th>\n",
       "      <td>14.0</td>\n",
       "      <td>0.059983</td>\n",
       "    </tr>\n",
       "    <tr>\n",
       "      <th>TS</th>\n",
       "      <td>16.0</td>\n",
       "      <td>0.067774</td>\n",
       "    </tr>\n",
       "    <tr>\n",
       "      <th>DZ</th>\n",
       "      <td>58.0</td>\n",
       "      <td>-0.050296</td>\n",
       "    </tr>\n",
       "    <tr>\n",
       "      <th>FG</th>\n",
       "      <td>2.0</td>\n",
       "      <td>0.068295</td>\n",
       "    </tr>\n",
       "    <tr>\n",
       "      <th>three_day_rain</th>\n",
       "      <td>11.0</td>\n",
       "      <td>0.045642</td>\n",
       "    </tr>\n",
       "    <tr>\n",
       "      <th>week_rain</th>\n",
       "      <td>7.0</td>\n",
       "      <td>0.050031</td>\n",
       "    </tr>\n",
       "    <tr>\n",
       "      <th>two_week_rain</th>\n",
       "      <td>2.0</td>\n",
       "      <td>0.052053</td>\n",
       "    </tr>\n",
       "    <tr>\n",
       "      <th>month_rain</th>\n",
       "      <td>59.0</td>\n",
       "      <td>-0.077179</td>\n",
       "    </tr>\n",
       "    <tr>\n",
       "      <th>longer_days</th>\n",
       "      <td>59.0</td>\n",
       "      <td>-0.130672</td>\n",
       "    </tr>\n",
       "    <tr>\n",
       "      <th>T_spread</th>\n",
       "      <td>51.0</td>\n",
       "      <td>-0.121691</td>\n",
       "    </tr>\n",
       "    <tr>\n",
       "      <th>rainy_and_hot</th>\n",
       "      <td>59.0</td>\n",
       "      <td>0.131738</td>\n",
       "    </tr>\n",
       "  </tbody>\n",
       "</table>\n",
       "</div>"
      ],
      "text/plain": [
       "                   0         1\n",
       "Date             0.0  0.000000\n",
       "Species          0.0  0.000000\n",
       "Trap             0.0  0.000000\n",
       "Latitude         2.0  0.028697\n",
       "Longitude        2.0 -0.060345\n",
       "NumMosquitos     2.0  0.196820\n",
       "WnvPresent       2.0  1.000000\n",
       "spray_year       2.0  0.078184\n",
       "spray_month      2.0  0.115555\n",
       "spray_day        2.0  0.050164\n",
       "cul_or_pip       2.0  0.041362\n",
       "Tmax            59.0  0.137643\n",
       "Tmin            59.0  0.156602\n",
       "Tavg            59.0  0.148963\n",
       "Depart           2.0  0.062206\n",
       "DewPoint        59.0  0.165128\n",
       "WetBulb         59.0  0.160492\n",
       "Heat            59.0 -0.138744\n",
       "Cool            59.0  0.144050\n",
       "Sunrise          2.0  0.108794\n",
       "Sunset           3.0 -0.069026\n",
       "PrecipTotal     12.0  0.043776\n",
       "StnPressure     35.0  0.069590\n",
       "SeaLevel        30.0  0.058246\n",
       "ResultSpeed     42.0 -0.131196\n",
       "ResultDir        4.0  0.023572\n",
       "AvgSpeed        44.0 -0.127036\n",
       "sunrise_diff    26.0  0.190618\n",
       "sunset_diff     42.0 -0.123486\n",
       "BR               2.0  0.051104\n",
       "HZ              11.0 -0.028095\n",
       "RA              10.0  0.020259\n",
       "TSRA            14.0  0.059983\n",
       "TS              16.0  0.067774\n",
       "DZ              58.0 -0.050296\n",
       "FG               2.0  0.068295\n",
       "three_day_rain  11.0  0.045642\n",
       "week_rain        7.0  0.050031\n",
       "two_week_rain    2.0  0.052053\n",
       "month_rain      59.0 -0.077179\n",
       "longer_days     59.0 -0.130672\n",
       "T_spread        51.0 -0.121691\n",
       "rainy_and_hot   59.0  0.131738"
      ]
     },
     "execution_count": 70,
     "metadata": {},
     "output_type": "execute_result"
    }
   ],
   "source": [
    "lag_df = pd.DataFrame(lag_corr(w_lag,df)).T\n",
    "ewm_df = pd.DataFrame(lag_corr(w_exp,df)).T\n",
    "ewm_df"
   ]
  },
  {
   "cell_type": "code",
   "execution_count": 71,
   "metadata": {},
   "outputs": [
    {
     "data": {
      "text/plain": [
       "Date              0\n",
       "Species           0\n",
       "Trap              0\n",
       "Latitude          1\n",
       "Longitude         1\n",
       "NumMosquitos      0\n",
       "WnvPresent        0\n",
       "spray_year        0\n",
       "spray_month       0\n",
       "spray_day         0\n",
       "cul_or_pip        1\n",
       "Tmax              1\n",
       "Tmin             -1\n",
       "Tavg             -1\n",
       "Depart            1\n",
       "DewPoint         -1\n",
       "WetBulb          -1\n",
       "Heat             -1\n",
       "Cool              1\n",
       "Sunrise          -1\n",
       "Sunset            1\n",
       "PrecipTotal       1\n",
       "StnPressure       1\n",
       "SeaLevel          1\n",
       "ResultSpeed       1\n",
       "ResultDir         1\n",
       "AvgSpeed          1\n",
       "sunrise_diff      1\n",
       "sunset_diff       1\n",
       "BR                1\n",
       "HZ                1\n",
       "RA                1\n",
       "TSRA              1\n",
       "TS                1\n",
       "DZ                1\n",
       "FG                1\n",
       "three_day_rain    1\n",
       "week_rain         1\n",
       "two_week_rain     1\n",
       "month_rain        1\n",
       "longer_days       1\n",
       "T_spread          1\n",
       "rainy_and_hot     1\n",
       "Name: 1, dtype: int64"
      ]
     },
     "execution_count": 71,
     "metadata": {},
     "output_type": "execute_result"
    }
   ],
   "source": [
    "diff = np.abs(lag_df) - np.abs(ewm_df)\n",
    "# if 1, lagged approach is best, if -1, exp lag is best\n",
    "def pos_neg(x):\n",
    "    if x < 0:\n",
    "        return -1\n",
    "    elif x == 0:\n",
    "        return 0\n",
    "    elif x > 0:\n",
    "        return 1\n",
    "\n",
    "choice = diff.loc[:,1].apply(pos_neg)\n",
    "choice"
   ]
  },
  {
   "cell_type": "code",
   "execution_count": 72,
   "metadata": {},
   "outputs": [],
   "source": [
    "df_best = df\n",
    "\n",
    "for col in w_lag[2].columns:\n",
    "    c = choice[col]\n",
    "    if c == -1:\n",
    "        lag = ewm_df.loc[col][0]\n",
    "        best_col = w_exp[lag][col].reset_index()\n",
    "        df_best = df_best.merge(best_col, on='Date')\n",
    "        cols = list(df_best.columns)\n",
    "        cols[-1] = col + ' ' + str(lag) + ' ewm'\n",
    "        df_best.columns = cols\n",
    "        \n",
    "    elif c == 1:\n",
    "        lag = lag_df.loc[col][0]\n",
    "        best_col = w_lag[lag][col].reset_index()\n",
    "        df_best = df_best.merge(best_col, on='Date')\n",
    "        cols = list(df_best.columns)\n",
    "        cols[-1]= col + ' ' + str(lag) + ' lag'\n",
    "        df_best.columns = cols"
   ]
  },
  {
   "cell_type": "code",
   "execution_count": 73,
   "metadata": {},
   "outputs": [
    {
     "data": {
      "text/plain": [
       "Latitude                   0.030364\n",
       "Longitude                 -0.061089\n",
       "NumMosquitos               0.195298\n",
       "WnvPresent                 1.000000\n",
       "spray_year                 0.077033\n",
       "spray_month                0.114934\n",
       "spray_day                  0.049920\n",
       "cul_or_pip                 0.041940\n",
       "Tmax 59.0 lag              0.137975\n",
       "Tmin 59.0 ewm              0.154917\n",
       "Tavg 59.0 ewm              0.147498\n",
       "Depart 3.0 lag             0.070700\n",
       "DewPoint 59.0 ewm          0.163484\n",
       "WetBulb 59.0 ewm           0.158672\n",
       "Heat 59.0 ewm             -0.137652\n",
       "Cool 59.0 lag              0.146471\n",
       "Sunrise 2.0 ewm            0.105891\n",
       "Sunset 5.0 lag            -0.067520\n",
       "PrecipTotal 59.0 lag      -0.068424\n",
       "StnPressure 32.0 lag       0.090062\n",
       "SeaLevel 32.0 lag          0.078761\n",
       "ResultSpeed 32.0 lag      -0.141801\n",
       "ResultDir 4.0 lag          0.040657\n",
       "AvgSpeed 32.0 lag         -0.140936\n",
       "sunrise_diff 23.0 lag      0.204976\n",
       "sunset_diff 28.0 lag      -0.136952\n",
       "BR 48.0 lag               -0.089179\n",
       "HZ 10.0 lag               -0.047328\n",
       "RA 48.0 lag               -0.099539\n",
       "TSRA 14.0 lag              0.082747\n",
       "TS 14.0 lag                0.084413\n",
       "DZ 59.0 lag               -0.077751\n",
       "FG 48.0 lag               -0.078977\n",
       "three_day_rain 58.0 lag   -0.070899\n",
       "week_rain 58.0 lag        -0.081380\n",
       "two_week_rain 51.0 lag    -0.092833\n",
       "month_rain 44.0 lag       -0.103921\n",
       "longer_days 58.0 lag      -0.152612\n",
       "T_spread 56.0 lag         -0.135145\n",
       "rainy_and_hot 59.0 lag     0.134250\n",
       "Name: WnvPresent, dtype: float64"
      ]
     },
     "execution_count": 73,
     "metadata": {},
     "output_type": "execute_result"
    }
   ],
   "source": [
    "df_best.corr()['WnvPresent']"
   ]
  },
  {
   "cell_type": "code",
   "execution_count": 80,
   "metadata": {},
   "outputs": [
    {
     "data": {
      "text/plain": [
       "<AxesSubplot:xlabel='WnvPresent', ylabel='HZ 10.0 lag'>"
      ]
     },
     "execution_count": 80,
     "metadata": {},
     "output_type": "execute_result"
    },
    {
     "data": {
      "image/png": "[encoded data removed]",
      "text/plain": [
       "<Figure size 432x288 with 1 Axes>"
      ]
     },
     "metadata": {},
     "output_type": "display_data"
    }
   ],
   "source": [
    "sns.violinplot(data=df_best,x='WnvPresent',y='HZ 10.0 lag')"
   ]
  },
  {
   "cell_type": "code",
   "execution_count": 79,
   "metadata": {
    "scrolled": true
   },
   "outputs": [
    {
     "data": {
      "text/plain": [
       "<AxesSubplot:xlabel='WnvPresent', ylabel='longer_days 58.0 lag'>"
      ]
     },
     "execution_count": 79,
     "metadata": {},
     "output_type": "execute_result"
    },
    {
     "data": {
      "image/png": "[encoded data removed]",
      "text/plain": [
       "<Figure size 432x288 with 1 Axes>"
      ]
     },
     "metadata": {},
     "output_type": "display_data"
    }
   ],
   "source": [
    "sns.violinplot(data=df_best,x='WnvPresent',y='longer_days 58.0 lag')"
   ]
  },
  {
   "cell_type": "code",
   "execution_count": 77,
   "metadata": {},
   "outputs": [
    {
     "data": {
      "text/plain": [
       "<AxesSubplot:xlabel='WnvPresent', ylabel='spray_month'>"
      ]
     },
     "execution_count": 77,
     "metadata": {},
     "output_type": "execute_result"
    },
    {
     "data": {
      "image/png": "[encoded data removed]",
      "text/plain": [
       "<Figure size 432x288 with 1 Axes>"
      ]
     },
     "metadata": {},
     "output_type": "display_data"
    }
   ],
   "source": [
    "sns.violinplot(data=df_best,x='WnvPresent',y='spray_month')"
   ]
  },
  {
   "cell_type": "code",
   "execution_count": 74,
   "metadata": {},
   "outputs": [
    {
     "data": {
      "text/plain": [
       "<AxesSubplot:xlabel='WnvPresent', ylabel='PrecipTotal 59.0 lag'>"
      ]
     },
     "execution_count": 74,
     "metadata": {},
     "output_type": "execute_result"
    },
    {
     "data": {
      "image/png": "[encoded data removed]",
      "text/plain": [
       "<Figure size 432x288 with 1 Axes>"
      ]
     },
     "metadata": {},
     "output_type": "display_data"
    }
   ],
   "source": [
    "sns.violinplot(data=df_best,x='WnvPresent',y='PrecipTotal 59.0 lag')"
   ]
  },
  {
   "cell_type": "code",
   "execution_count": 146,
   "metadata": {},
   "outputs": [
    {
     "data": {
      "text/plain": [
       "<AxesSubplot:xlabel='WnvPresent', ylabel='DewPoint 59.0 ewm'>"
      ]
     },
     "execution_count": 146,
     "metadata": {},
     "output_type": "execute_result"
    },
    {
     "data": {
      "image/png": "[encoded data removed]",
      "text/plain": [
       "<Figure size 432x288 with 1 Axes>"
      ]
     },
     "metadata": {},
     "output_type": "display_data"
    }
   ],
   "source": [
    "sns.violinplot(data=df_best,x='WnvPresent',y='DewPoint 59.0 ewm')"
   ]
  },
  {
   "cell_type": "code",
   "execution_count": 147,
   "metadata": {},
   "outputs": [
    {
     "data": {
      "text/plain": [
       "<AxesSubplot:xlabel='WnvPresent', ylabel='Heat 59.0 ewm'>"
      ]
     },
     "execution_count": 147,
     "metadata": {},
     "output_type": "execute_result"
    },
    {
     "data": {
      "image/png": "[encoded data removed]",
      "text/plain": [
       "<Figure size 432x288 with 1 Axes>"
      ]
     },
     "metadata": {},
     "output_type": "display_data"
    }
   ],
   "source": [
    "sns.violinplot(data=df_best,x='WnvPresent',y='Heat 59.0 ewm')"
   ]
  },
  {
   "cell_type": "code",
   "execution_count": 148,
   "metadata": {},
   "outputs": [
    {
     "data": {
      "text/plain": [
       "<AxesSubplot:xlabel='WnvPresent', ylabel='Tmax 59.0 lag'>"
      ]
     },
     "execution_count": 148,
     "metadata": {},
     "output_type": "execute_result"
    },
    {
     "data": {
      "image/png": "[encoded data removed]",
      "text/plain": [
       "<Figure size 432x288 with 1 Axes>"
      ]
     },
     "metadata": {},
     "output_type": "display_data"
    }
   ],
   "source": [
    "sns.violinplot(data=df_best,x='WnvPresent',y='Tmax 59.0 lag')"
   ]
  },
  {
   "cell_type": "code",
   "execution_count": 149,
   "metadata": {},
   "outputs": [
    {
     "data": {
      "text/plain": [
       "<AxesSubplot:xlabel='Tmax 59.0 lag', ylabel='Count'>"
      ]
     },
     "execution_count": 149,
     "metadata": {},
     "output_type": "execute_result"
    },
    {
     "data": {
      "image/png": "[encoded data removed]",
      "text/plain": [
       "<Figure size 432x288 with 1 Axes>"
      ]
     },
     "metadata": {},
     "output_type": "display_data"
    }
   ],
   "source": [
    "sns.histplot(data=df_best,x='Tmax 59.0 lag')"
   ]
  },
  {
   "cell_type": "code",
   "execution_count": 150,
   "metadata": {},
   "outputs": [
    {
     "data": {
      "text/plain": [
       "<AxesSubplot:xlabel='WnvPresent', ylabel='Sunrise 2.0 ewm'>"
      ]
     },
     "execution_count": 150,
     "metadata": {},
     "output_type": "execute_result"
    },
    {
     "data": {
      "image/png": "[encoded data removed]",
      "text/plain": [
       "<Figure size 432x288 with 1 Axes>"
      ]
     },
     "metadata": {},
     "output_type": "display_data"
    }
   ],
   "source": [
    "sns.violinplot(data=df_best,x='WnvPresent',y='Sunrise 2.0 ewm')"
   ]
  },
  {
   "cell_type": "code",
   "execution_count": 151,
   "metadata": {},
   "outputs": [
    {
     "data": {
      "text/plain": [
       "<AxesSubplot:xlabel='WnvPresent', ylabel='ResultSpeed 32.0 lag'>"
      ]
     },
     "execution_count": 151,
     "metadata": {},
     "output_type": "execute_result"
    },
    {
     "data": {
      "image/png": "[encoded data removed]",
      "text/plain": [
       "<Figure size 432x288 with 1 Axes>"
      ]
     },
     "metadata": {},
     "output_type": "display_data"
    }
   ],
   "source": [
    "sns.violinplot(data=df_best,x='WnvPresent',y='ResultSpeed 32.0 lag')"
   ]
  },
  {
   "cell_type": "code",
   "execution_count": 152,
   "metadata": {},
   "outputs": [
    {
     "data": {
      "text/plain": [
       "<AxesSubplot:>"
      ]
     },
     "execution_count": 152,
     "metadata": {},
     "output_type": "execute_result"
    },
    {
     "data": {
      "image/png": "[encoded data removed]",
      "text/plain": [
       "<Figure size 1440x1440 with 2 Axes>"
      ]
     },
     "metadata": {},
     "output_type": "display_data"
    }
   ],
   "source": [
    "ax = plt.figure(figsize=(20,20))\n",
    "\n",
    "sns.heatmap(df_best.corr())"
   ]
  },
  {
   "cell_type": "code",
   "execution_count": 153,
   "metadata": {},
   "outputs": [
    {
     "name": "stdout",
     "output_type": "stream",
     "text": [
      "<class 'pandas.core.frame.DataFrame'>\n",
      "Int64Index: 10351 entries, 0 to 10350\n",
      "Data columns (total 43 columns):\n",
      " #   Column                   Non-Null Count  Dtype         \n",
      "---  ------                   --------------  -----         \n",
      " 0   Date                     10351 non-null  datetime64[ns]\n",
      " 1   Species                  10351 non-null  object        \n",
      " 2   Trap                     10351 non-null  object        \n",
      " 3   Latitude                 10351 non-null  float64       \n",
      " 4   Longitude                10351 non-null  float64       \n",
      " 5   NumMosquitos             10351 non-null  int64         \n",
      " 6   WnvPresent               10351 non-null  int64         \n",
      " 7   spray_year               10351 non-null  int64         \n",
      " 8   spray_month              10351 non-null  int64         \n",
      " 9   spray_day                10351 non-null  int64         \n",
      " 10  cul_or_pip               10351 non-null  int64         \n",
      " 11  Tmax 59.0 lag            10351 non-null  float64       \n",
      " 12  Tmin 59.0 ewm            10351 non-null  float64       \n",
      " 13  Tavg 59.0 ewm            10351 non-null  float64       \n",
      " 14  Depart 3.0 lag           10351 non-null  float64       \n",
      " 15  DewPoint 59.0 ewm        10351 non-null  float64       \n",
      " 16  WetBulb 59.0 ewm         10351 non-null  float64       \n",
      " 17  Heat 59.0 ewm            10351 non-null  float64       \n",
      " 18  Cool 59.0 lag            10351 non-null  float64       \n",
      " 19  Sunrise 2.0 ewm          10351 non-null  float64       \n",
      " 20  Sunset 5.0 lag           10351 non-null  float64       \n",
      " 21  PrecipTotal 59.0 lag     10351 non-null  float64       \n",
      " 22  StnPressure 32.0 lag     10351 non-null  float64       \n",
      " 23  SeaLevel 32.0 lag        10351 non-null  float64       \n",
      " 24  ResultSpeed 32.0 lag     10351 non-null  float64       \n",
      " 25  ResultDir 4.0 lag        10351 non-null  float64       \n",
      " 26  AvgSpeed 32.0 lag        10351 non-null  float64       \n",
      " 27  sunrise_diff 23.0 lag    10351 non-null  float64       \n",
      " 28  sunset_diff 28.0 lag     10351 non-null  float64       \n",
      " 29  BR 48.0 lag              10351 non-null  float64       \n",
      " 30  HZ 10.0 lag              10351 non-null  float64       \n",
      " 31  RA 48.0 lag              10351 non-null  float64       \n",
      " 32  TSRA 14.0 lag            10351 non-null  float64       \n",
      " 33  TS 14.0 lag              10351 non-null  float64       \n",
      " 34  DZ 59.0 lag              10351 non-null  float64       \n",
      " 35  FG 48.0 lag              10351 non-null  float64       \n",
      " 36  three_day_rain 58.0 lag  10351 non-null  float64       \n",
      " 37  week_rain 58.0 lag       10351 non-null  float64       \n",
      " 38  two_week_rain 51.0 lag   10351 non-null  float64       \n",
      " 39  month_rain 44.0 lag      10351 non-null  float64       \n",
      " 40  longer_days 58.0 lag     10351 non-null  float64       \n",
      " 41  T_spread 56.0 lag        10351 non-null  float64       \n",
      " 42  rainy_and_hot 59.0 lag   10351 non-null  float64       \n",
      "dtypes: datetime64[ns](1), float64(34), int64(6), object(2)\n",
      "memory usage: 3.8+ MB\n"
     ]
    }
   ],
   "source": [
    "df_best.info()"
   ]
  },
  {
   "cell_type": "code",
   "execution_count": 155,
   "metadata": {},
   "outputs": [],
   "source": [
    "max_bin = 20\n",
    "force_bin = 3\n",
    "\n",
    "def mono_bin(Y, X, n = max_bin):\n",
    "    \n",
    "    np.seterr(divide='ignore')\n",
    "    \n",
    "    df1 = pd.DataFrame({\"X\": X, \"Y\": Y})\n",
    "    justmiss = df1[['X','Y']][df1.X.isnull()]\n",
    "    notmiss = df1[['X','Y']][df1.X.notnull()]\n",
    "    r = 0\n",
    "    while np.abs(r) < 1:\n",
    "        try:\n",
    "            d1 = pd.DataFrame({\"X\": notmiss.X, \"Y\": notmiss.Y, \"Bucket\": pd.qcut(notmiss.X, n)})\n",
    "            d2 = d1.groupby('Bucket', as_index=True)\n",
    "            r, p = stats.spearmanr(d2.mean().X, d2.mean().Y)\n",
    "            n = n - 1 \n",
    "        except Exception as e:\n",
    "            n = n - 1\n",
    "\n",
    "    if len(d2) == 1:\n",
    "        n = force_bin         \n",
    "        bins = algos.quantile(notmiss.X, np.linspace(0, 1, n))\n",
    "        if len(np.unique(bins)) == 2:\n",
    "            bins = np.insert(bins, 0, 1)\n",
    "            bins[1] = bins[1]-(bins[1]/2)\n",
    "        d1 = pd.DataFrame({\"X\": notmiss.X, \"Y\": notmiss.Y, \"Bucket\": pd.cut(notmiss.X, np.unique(bins),include_lowest=True)}) \n",
    "        d2 = d1.groupby('Bucket', as_index=True)\n",
    "    \n",
    "    d3 = pd.DataFrame({},index=[])\n",
    "    d3[\"MIN_VALUE\"] = d2.min().X\n",
    "    d3[\"MAX_VALUE\"] = d2.max().X\n",
    "    d3[\"COUNT\"] = d2.count().Y\n",
    "    d3[\"EVENT\"] = d2.sum().Y\n",
    "    d3[\"NONEVENT\"] = d2.count().Y - d2.sum().Y\n",
    "    d3=d3.reset_index(drop=True)\n",
    "    \n",
    "    if len(justmiss.index) > 0:\n",
    "        d4 = pd.DataFrame({'MIN_VALUE':np.nan},index=[0])\n",
    "        d4[\"MAX_VALUE\"] = np.nan\n",
    "        d4[\"COUNT\"] = justmiss.count().Y\n",
    "        d4[\"EVENT\"] = justmiss.sum().Y\n",
    "        d4[\"NONEVENT\"] = justmiss.count().Y - justmiss.sum().Y\n",
    "        d3 = d3.append(d4,ignore_index=True)\n",
    "    \n",
    "    d3[\"EVENT_RATE\"] = np.divide(d3.EVENT,d3.COUNT)\n",
    "    d3[\"NON_EVENT_RATE\"] = np.divide(d3.NONEVENT,d3.COUNT)\n",
    "    d3[\"DIST_EVENT\"] = np.divide(d3.EVENT,d3.sum().EVENT)\n",
    "    d3[\"DIST_NON_EVENT\"] = np.divide(d3.NONEVENT,d3.sum().NONEVENT)\n",
    "    d3[\"WOE\"] = np.log(np.divide(d3.DIST_EVENT,d3.DIST_NON_EVENT))\n",
    "    d3[\"IV\"] = (d3.DIST_EVENT-d3.DIST_NON_EVENT)*d3.WOE\n",
    "    d3[\"VAR_NAME\"] = \"VAR\"\n",
    "    d3 = d3[['VAR_NAME','MIN_VALUE', 'MAX_VALUE', 'COUNT', 'EVENT', 'EVENT_RATE', 'NONEVENT', 'NON_EVENT_RATE', 'DIST_EVENT','DIST_NON_EVENT','WOE', 'IV']]       \n",
    "    d3 = d3.replace([np.inf, -np.inf], 0)\n",
    "    d3.IV = d3.IV.sum()\n",
    "    \n",
    "    return(d3)\n",
    "\n",
    "def char_bin(Y, X):\n",
    "        \n",
    "    df1 = pd.DataFrame({\"X\": X, \"Y\": Y})\n",
    "    justmiss = df1[['X','Y']][df1.X.isnull()]\n",
    "    notmiss = df1[['X','Y']][df1.X.notnull()]    \n",
    "    df2 = notmiss.groupby('X',as_index=True)\n",
    "    \n",
    "    d3 = pd.DataFrame({},index=[])\n",
    "    d3[\"COUNT\"] = df2.count().Y\n",
    "    d3[\"MIN_VALUE\"] = df2.sum().Y.index\n",
    "    d3[\"MAX_VALUE\"] = d3[\"MIN_VALUE\"]\n",
    "    d3[\"EVENT\"] = df2.sum().Y\n",
    "    d3[\"NONEVENT\"] = df2.count().Y - df2.sum().Y\n",
    "    \n",
    "    if len(justmiss.index) > 0:\n",
    "        d4 = pd.DataFrame({'MIN_VALUE':np.nan},index=[0])\n",
    "        d4[\"MAX_VALUE\"] = np.nan\n",
    "        d4[\"COUNT\"] = justmiss.count().Y\n",
    "        d4[\"EVENT\"] = justmiss.sum().Y\n",
    "        d4[\"NONEVENT\"] = justmiss.count().Y - justmiss.sum().Y\n",
    "        d3 = d3.append(d4,ignore_index=True)\n",
    "    \n",
    "    \n",
    "    d3[\"EVENT_RATE\"] = np.divide(d3.EVENT,d3.COUNT)\n",
    "    d3[\"NON_EVENT_RATE\"] = np.divide(d3.NONEVENT,d3.COUNT)\n",
    "    d3[\"DIST_EVENT\"] = np.divide(d3.EVENT,d3.sum().EVENT)\n",
    "    d3[\"DIST_NON_EVENT\"] = np.divide(d3.NONEVENT,d3.sum().NONEVENT)\n",
    "    d3[\"WOE\"] = np.log(np.divide(d3.DIST_EVENT,d3.DIST_NON_EVENT))\n",
    "    \n",
    "    d3[\"IV\"] = (d3.DIST_EVENT-d3.DIST_NON_EVENT)*np.log(d3.DIST_EVENT/d3.DIST_NON_EVENT)\n",
    "    d3[\"VAR_NAME\"] = \"VAR\"\n",
    "    d3 = d3[['VAR_NAME','MIN_VALUE', 'MAX_VALUE', 'COUNT', 'EVENT', 'EVENT_RATE', 'NONEVENT', 'NON_EVENT_RATE', 'DIST_EVENT','DIST_NON_EVENT','WOE', 'IV']]      \n",
    "    d3 = d3.replace([np.inf, -np.inf], 0)\n",
    "    d3.IV = d3.IV.sum()\n",
    "    d3 = d3.reset_index(drop=True)\n",
    "    \n",
    "    return(d3)\n",
    "\n",
    "def data_vars(df1, target):\n",
    "    \n",
    "    stack = traceback.extract_stack()\n",
    "    filename, lineno, function_name, code = stack[-2]\n",
    "    vars_name = re.compile(r'\\((.*?)\\).*$').search(code).groups()[0]\n",
    "    final = (re.findall(r\"[\\w']+\", vars_name))[-1]\n",
    "    \n",
    "    x = df1.dtypes.index\n",
    "    count = -1\n",
    "    \n",
    "    for i in x:\n",
    "        if i.upper() not in (final.upper()):\n",
    "            if np.issubdtype(df1[i], np.number) and len(pd.Series.unique(df1[i])) > 2:\n",
    "                conv = mono_bin(target, df1[i])\n",
    "                conv[\"VAR_NAME\"] = i\n",
    "                count = count + 1\n",
    "            else:\n",
    "                conv = char_bin(target, df1[i])\n",
    "                conv[\"VAR_NAME\"] = i            \n",
    "                count = count + 1\n",
    "                \n",
    "            if count == 0:\n",
    "                iv_df = conv\n",
    "            else:\n",
    "                iv_df = iv_df.append(conv,ignore_index=True)\n",
    "    \n",
    "    iv = pd.DataFrame({'IV':iv_df.groupby('VAR_NAME').IV.max()})\n",
    "    iv = iv.reset_index()\n",
    "    return(iv_df,iv)"
   ]
  },
  {
   "cell_type": "code",
   "execution_count": 156,
   "metadata": {
    "scrolled": true
   },
   "outputs": [],
   "source": [
    "df_ivs, IV = data_vars(df_best.drop('WnvPresent',axis=1),df_best['WnvPresent'])\n",
    "to_drop = IV[(IV.IV > 0.8) | (IV.IV < 0.02)].drop(29)\n",
    "df_iv = df_best.drop(to_drop.VAR_NAME, axis=1)\n",
    "df_iv = df_iv.drop(['spray_year','spray_day','Trap','Species'],axis=1)"
   ]
  },
  {
   "cell_type": "code",
   "execution_count": 174,
   "metadata": {},
   "outputs": [],
   "source": [
    "features = ['spray_month','Tavg 59.0 ewm','Depart 3.0 lag','PrecipTotal 59.0 lag','longer_days 58.0 lag',\n",
    "           'ResultSpeed 32.0 lag','HZ 10.0 lag','BR 48.0 lag','T_spread 56.0 lag']\n",
    "df_X = df_iv[features]"
   ]
  },
  {
   "cell_type": "markdown",
   "metadata": {},
   "source": [
    "<h2>Conclusions / Notes</h2>\n",
    "\n",
    "1. Mosquitos are only present in CULEX PIPIENS/RESTUANS. I should combine the mosquito species data into a yes or no columns on species\n",
    "\n",
    "2. Lagging variables is incredbily important. For each variable, I was able to select the lag that correlated the variable most strongly with WnvPresent. I use a mixed approach of exponentially weighted moving averages and uniformly wieghted. "
   ]
  },
  {
   "cell_type": "code",
   "execution_count": 175,
   "metadata": {},
   "outputs": [],
   "source": [
    "from statsmodels.stats.outliers_influence import variance_inflation_factor\n",
    "def iterate_vif(df, vif_threshold=10, max_vif=11):\n",
    "  count = 0\n",
    "  while max_vif > vif_threshold:\n",
    "    count += 1\n",
    "    print(\"Iteration # \"+str(count))\n",
    "    vif = pd.DataFrame()\n",
    "    vif[\"VIFactor\"] = [variance_inflation_factor(df.values, i) for i in range(df.shape[1])]\n",
    "    vif[\"features\"] = df.columns\n",
    "    \n",
    "    if np.round(vif['VIFactor'].max(),1) > vif_threshold:\n",
    "      print('Removing %s with VIF of %f' % (vif[vif['VIFactor'] == vif['VIFactor'].max()]['features'].values[0], np.round(vif['VIFactor'].max(),1)))\n",
    "      df = df.drop(vif[vif['VIFactor'] == vif['VIFactor'].max()]['features'].values[0], axis=1)\n",
    "      max_vif = np.round(vif['VIFactor'].max(),1)\n",
    "    else:\n",
    "        print('Complete')\n",
    "        return df, np.round(vif.sort_values('VIFactor'),1)"
   ]
  },
  {
   "cell_type": "code",
   "execution_count": 176,
   "metadata": {},
   "outputs": [],
   "source": [
    "X = df_X\n",
    "y = df_iv.WnvPresent"
   ]
  },
  {
   "cell_type": "code",
   "execution_count": 177,
   "metadata": {},
   "outputs": [
    {
     "name": "stdout",
     "output_type": "stream",
     "text": [
      "Iteration # 1\n",
      "Removing T_spread 56.0 lag with VIF of 1287.000000\n",
      "Iteration # 2\n",
      "Removing Tavg 59.0 ewm with VIF of 110.800000\n",
      "Iteration # 3\n",
      "Removing BR 48.0 lag with VIF of 25.900000\n",
      "Iteration # 4\n",
      "Removing ResultSpeed 32.0 lag with VIF of 12.200000\n",
      "Iteration # 5\n",
      "Complete\n"
     ]
    }
   ],
   "source": [
    "X2, vif = iterate_vif(X._get_numeric_data())"
   ]
  },
  {
   "cell_type": "code",
   "execution_count": 178,
   "metadata": {},
   "outputs": [],
   "source": [
    "from sklearn.model_selection import train_test_split\n",
    "from sklearn.ensemble import RandomForestClassifier\n",
    "from sklearn.model_selection import RandomizedSearchCV\n",
    "\n",
    "X2.to_pickle('./data/X2.pkl')\n",
    "y.to_pickle('./data/y.pkl')"
   ]
  },
  {
   "cell_type": "code",
   "execution_count": 179,
   "metadata": {},
   "outputs": [],
   "source": [
    "X_train, X_test, y_train, y_test = train_test_split(X2,y, test_size = 0.2, random_state = 42)"
   ]
  },
  {
   "cell_type": "code",
   "execution_count": 180,
   "metadata": {},
   "outputs": [],
   "source": [
    "rf = RandomForestClassifier()\n",
    "\n",
    "params = {'n_estimators': np.arange(750,2000,50),'max_depth': np.arange(3,8)}\n",
    "\n",
    "rf_rand = RandomizedSearchCV(rf,param_distributions=params,cv=5, n_jobs=-1, scoring = 'roc_auc',n_iter=10,\n",
    "                            random_state = 42, verbose=10)"
   ]
  },
  {
   "cell_type": "code",
   "execution_count": 181,
   "metadata": {},
   "outputs": [
    {
     "name": "stdout",
     "output_type": "stream",
     "text": [
      "Fitting 5 folds for each of 10 candidates, totalling 50 fits\n"
     ]
    },
    {
     "name": "stderr",
     "output_type": "stream",
     "text": [
      "[Parallel(n_jobs=-1)]: Using backend LokyBackend with 8 concurrent workers.\n",
      "[Parallel(n_jobs=-1)]: Done   2 tasks      | elapsed:    9.5s\n",
      "[Parallel(n_jobs=-1)]: Done   9 tasks      | elapsed:   14.3s\n",
      "[Parallel(n_jobs=-1)]: Done  16 tasks      | elapsed:   17.5s\n",
      "[Parallel(n_jobs=-1)]: Done  25 tasks      | elapsed:   22.7s\n",
      "[Parallel(n_jobs=-1)]: Done  34 tasks      | elapsed:   32.1s\n",
      "[Parallel(n_jobs=-1)]: Done  41 out of  50 | elapsed:   38.5s remaining:    8.5s\n",
      "[Parallel(n_jobs=-1)]: Done  47 out of  50 | elapsed:   43.1s remaining:    2.8s\n",
      "[Parallel(n_jobs=-1)]: Done  50 out of  50 | elapsed:   44.8s finished\n"
     ]
    },
    {
     "data": {
      "text/plain": [
       "RandomizedSearchCV(cv=5, estimator=RandomForestClassifier(), n_jobs=-1,\n",
       "                   param_distributions={'max_depth': array([3, 4, 5, 6, 7]),\n",
       "                                        'n_estimators': array([ 750,  800,  850,  900,  950, 1000, 1050, 1100, 1150, 1200, 1250,\n",
       "       1300, 1350, 1400, 1450, 1500, 1550, 1600, 1650, 1700, 1750, 1800,\n",
       "       1850, 1900, 1950])},\n",
       "                   random_state=42, scoring='roc_auc', verbose=10)"
      ]
     },
     "execution_count": 181,
     "metadata": {},
     "output_type": "execute_result"
    }
   ],
   "source": [
    "rf_rand.fit(X_train,y_train)"
   ]
  },
  {
   "cell_type": "code",
   "execution_count": 182,
   "metadata": {},
   "outputs": [
    {
     "data": {
      "text/plain": [
       "0.8063778849745071"
      ]
     },
     "execution_count": 182,
     "metadata": {},
     "output_type": "execute_result"
    }
   ],
   "source": [
    "rf_rand.best_score_"
   ]
  },
  {
   "cell_type": "code",
   "execution_count": 183,
   "metadata": {},
   "outputs": [
    {
     "data": {
      "text/plain": [
       "0.8180671119412841"
      ]
     },
     "execution_count": 183,
     "metadata": {},
     "output_type": "execute_result"
    }
   ],
   "source": [
    "from sklearn.metrics import roc_auc_score\n",
    "\n",
    "y_pred = rf_rand.best_estimator_.predict_proba(X_test)\n",
    "\n",
    "roc_auc_score(y_test,y_pred[:,1])\n"
   ]
  },
  {
   "cell_type": "code",
   "execution_count": 190,
   "metadata": {},
   "outputs": [
    {
     "data": {
      "text/plain": [
       "<AxesSubplot:xlabel='importance', ylabel='feature'>"
      ]
     },
     "execution_count": 190,
     "metadata": {},
     "output_type": "execute_result"
    },
    {
     "data": {
      "image/png": "[encoded data removed]",
      "text/plain": [
       "<Figure size 720x360 with 1 Axes>"
      ]
     },
     "metadata": {},
     "output_type": "display_data"
    }
   ],
   "source": [
    "r = rf_rand.best_estimator_\n",
    "imp = r.feature_importances_\n",
    "\n",
    "ax = plt.figure(figsize=(10,5))\n",
    "\n",
    "i = pd.DataFrame({'feature':X_test.columns,'importance':imp}).sort_values('importance',ascending=False)\n",
    "\n",
    "sns.barplot(data=i,y='feature',x='importance',orient='h',color='gray')"
   ]
  },
  {
   "cell_type": "code",
   "execution_count": 185,
   "metadata": {},
   "outputs": [
    {
     "name": "stdout",
     "output_type": "stream",
     "text": [
      "Evaluating the classifier on the test set, area under the roc curve is: 0.818\n"
     ]
    }
   ],
   "source": [
    "from sklearn.metrics import roc_curve\n",
    "\n",
    "def roc_plot(e,x,y):\n",
    "    \"\"\"e is estimator, x is data and y is true value\"\"\"\n",
    "\n",
    "    #predicting from model\n",
    "    y_pred = e.predict_proba(x)[:,1]\n",
    "\n",
    "    #finding curve\n",
    "    fpr, tpr, t = roc_curve(y, y_pred)\n",
    "    sns.lineplot(x=fpr,y=tpr)\n",
    "    plt.xlabel('false positive rate')\n",
    "    plt.ylabel('true positive rate')\n",
    "    plt.title('Compute Receiver Operating Characteristic Curve')\n",
    "    return pd.DataFrame({'fpr':fpr,'tpr':tpr,'threshold':t})\n",
    "\n",
    "from sklearn.metrics import roc_auc_score\n",
    "\n",
    "\n",
    "def test_comp(e):\n",
    "    #predicting probability from test set\n",
    "    y_pred = e.predict_proba(X_test)[:,1]\n",
    "    \n",
    "    \n",
    "    r = np.round(roc_auc_score(y_test,y_pred),3)\n",
    "    \n",
    "    print('Evaluating the classifier on the test set, area under the roc curve is: ' +  \n",
    "           '{}'.format(r))\n",
    "\n",
    "test_comp(rf_rand.best_estimator_)\n",
    "\n"
   ]
  },
  {
   "cell_type": "code",
   "execution_count": 186,
   "metadata": {
    "scrolled": true
   },
   "outputs": [
    {
     "name": "stdout",
     "output_type": "stream",
     "text": [
      "Evaluating the classifier on the test set, area under the roc curve is: 0.818\n"
     ]
    }
   ],
   "source": [
    "test_comp(rf_rand.best_estimator_)"
   ]
  },
  {
   "cell_type": "code",
   "execution_count": 187,
   "metadata": {},
   "outputs": [
    {
     "data": {
      "image/png": "[encoded data removed]",
      "text/plain": [
       "<Figure size 432x288 with 1 Axes>"
      ]
     },
     "metadata": {},
     "output_type": "display_data"
    }
   ],
   "source": [
    "est = rf_rand.best_estimator_\n",
    "c = roc_plot(est, X_train, y_train)"
   ]
  },
  {
   "cell_type": "code",
   "execution_count": null,
   "metadata": {},
   "outputs": [],
   "source": []
  }
 ],
 "metadata": {
  "kernelspec": {
   "display_name": "Python 3",
   "language": "python",
   "name": "python3"
  },
  "language_info": {
   "codemirror_mode": {
    "name": "ipython",
    "version": 3
   },
   "file_extension": ".py",
   "mimetype": "text/x-python",
   "name": "python",
   "nbconvert_exporter": "python",
   "pygments_lexer": "ipython3",
   "version": "3.8.3"
  }
 },
 "nbformat": 4,
 "nbformat_minor": 4
}
