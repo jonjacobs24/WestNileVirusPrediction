{
 "cells": [
  {
   "cell_type": "markdown",
   "metadata": {},
   "source": [
    "# Predicting West Nile Virus in Chicago\n",
    "## Cleaning, feature engineering, and EDA\n"
   ]
  },
  {
   "cell_type": "markdown",
   "metadata": {},
   "source": [
    "* [1 Introduction and Imports](#intro)\n",
    "* [2. Cleaning](#cleaning)\n",
    "    *  [2.1 Weather](#weather_c)\n",
    "        * [2.1.1 Correcting Data Types](#w_missing)\n",
    "        * [2.1.2 Snow fall](#snow_fall)\n",
    "        * [2.1.3 Depth](#depth)\n",
    "        * [2.1.4 Water1](#water1)\n",
    "        * [2.1.5 Preciptotal](#precip)\n",
    "        * [2.1.6 Filling missing numerical data](#w_miss)\n",
    "        * [2.1.7 weather codes](#codesum)\n",
    "        * [2.1.8 two weather stations](#two_w)\n",
    "    * [2.2 Mosquito and Spray data](#mosquito_and_spray) \n",
    "        * [2.2.1 Spray data](#spray)\n",
    "        * [2.2.2 Traps](#trap)\n",
    "        * [2.2.3 uniting the two](#ms)  \n",
    "* [2.3 EDA and Feature Engineering](#EDA)\n",
    "    * [2.3.1 Distributions and Pairplots](#dist) \n",
    "    * [2.3.1 Species](#species)\n",
    "    * [2.3.2 WNV comparisons](#grouped)"
   ]
  },
  {
   "cell_type": "markdown",
   "metadata": {},
   "source": [
    "## Introduction\n",
    "\n",
    "According to the CDC, West Nile Virus (WNV) is the leading cause of mosquito-borne disease in the US. The Chicago area reported 6 cases of WNV in the summer of 2020. Although this figure is small, the disease is dangerous, proving fatal for around 1 in 150 people who become infected. Mosquitos, beyond being a nuisance, are a public health concern, and it’s important for densely populated urban areas to control the mosquito population. \n",
    "\n",
    "The primary method of mosquito control is to spray insecticide over large areas of land. Along with environmental costs, there are significant costs and inconveniences associated with controlling mosquito populations. The city of Chicago Department of Public Health treats 40,000 water basins each year with larvicide and monitors 83 traps around the city each week for mosquitos with WNV. It’s costly both in terms of time and resources, and yet there are cases of WNV reported every year. \n",
    "\n",
    "This notebook is centered on the wrangling, cleaning, and feature engineering of three data sets in order to predict the presence of WNV in Chicago and surrounding commiunities. The three data sets are 1. historical data on mosquito spraying with insecticide 2. historical weather data from two monitoring stations 3. mosquito trap data from the city of Chicago Department of Public Health, which details if and when mosquitos were trapped, and whether or not they carried WNV.\n",
    "\n",
    "<a id='intro'></a>"
   ]
  },
  {
   "cell_type": "code",
   "execution_count": 1,
   "metadata": {},
   "outputs": [],
   "source": [
    "#importing relevant packages\n",
    "\n",
    "import pandas as pd\n",
    "import numpy as np\n",
    "from scipy import stats\n",
    "import seaborn as sns\n",
    "import matplotlib.pyplot as plt\n",
    "from sklearn.model_selection import train_test_split, cross_val_score, GridSearchCV\n",
    "from sklearn.pipeline import Pipeline\n",
    "from sklearn.metrics import classification_report\n",
    "from sklearn.linear_model import LogisticRegression\n",
    "import pandas.core.algorithms as algos\n",
    "from pandas import Series\n",
    "import scipy.stats.stats as stats\n",
    "import re\n",
    "import traceback\n",
    "import string\n",
    "import statsmodels.api as sm\n",
    "from statsmodels.stats.outliers_influence import variance_inflation_factor\n",
    "\n",
    "sns.set_style('whitegrid')"
   ]
  },
  {
   "cell_type": "code",
   "execution_count": 2,
   "metadata": {},
   "outputs": [],
   "source": [
    "#loading the three data sets\n",
    "\n",
    "sp = pd.read_csv('./data/spray.csv.zip') #spray data\n",
    "df= pd.read_csv('./data/train.csv.zip') #mosquito data\n",
    "w = pd.read_csv('./data/weather.csv.zip') # weather data\n"
   ]
  },
  {
   "cell_type": "markdown",
   "metadata": {},
   "source": [
    "<a id='cleaning'></a>\n",
    "\n",
    "## 2. Cleaning"
   ]
  },
  {
   "cell_type": "markdown",
   "metadata": {},
   "source": [
    "<a id='weather_c'></a>\n",
    "\n",
    "## 2. 1 Weather Cleaning\n"
   ]
  },
  {
   "cell_type": "code",
   "execution_count": 3,
   "metadata": {},
   "outputs": [
    {
     "name": "stdout",
     "output_type": "stream",
     "text": [
      "<class 'pandas.core.frame.DataFrame'>\n",
      "RangeIndex: 2944 entries, 0 to 2943\n",
      "Data columns (total 22 columns):\n",
      " #   Column       Non-Null Count  Dtype  \n",
      "---  ------       --------------  -----  \n",
      " 0   Station      2944 non-null   int64  \n",
      " 1   Date         2944 non-null   object \n",
      " 2   Tmax         2944 non-null   int64  \n",
      " 3   Tmin         2944 non-null   int64  \n",
      " 4   Tavg         2944 non-null   object \n",
      " 5   Depart       2944 non-null   object \n",
      " 6   DewPoint     2944 non-null   int64  \n",
      " 7   WetBulb      2944 non-null   object \n",
      " 8   Heat         2944 non-null   object \n",
      " 9   Cool         2944 non-null   object \n",
      " 10  Sunrise      2944 non-null   object \n",
      " 11  Sunset       2944 non-null   object \n",
      " 12  CodeSum      2944 non-null   object \n",
      " 13  Depth        2944 non-null   object \n",
      " 14  Water1       2944 non-null   object \n",
      " 15  SnowFall     2944 non-null   object \n",
      " 16  PrecipTotal  2944 non-null   object \n",
      " 17  StnPressure  2944 non-null   object \n",
      " 18  SeaLevel     2944 non-null   object \n",
      " 19  ResultSpeed  2944 non-null   float64\n",
      " 20  ResultDir    2944 non-null   int64  \n",
      " 21  AvgSpeed     2944 non-null   object \n",
      "dtypes: float64(1), int64(5), object(16)\n",
      "memory usage: 506.1+ KB\n"
     ]
    }
   ],
   "source": [
    "w.info()"
   ]
  },
  {
   "cell_type": "code",
   "execution_count": 4,
   "metadata": {},
   "outputs": [
    {
     "data": {
      "text/html": [
       "<div>\n",
       "<style scoped>\n",
       "    .dataframe tbody tr th:only-of-type {\n",
       "        vertical-align: middle;\n",
       "    }\n",
       "\n",
       "    .dataframe tbody tr th {\n",
       "        vertical-align: top;\n",
       "    }\n",
       "\n",
       "    .dataframe thead th {\n",
       "        text-align: right;\n",
       "    }\n",
       "</style>\n",
       "<table border=\"1\" class=\"dataframe\">\n",
       "  <thead>\n",
       "    <tr style=\"text-align: right;\">\n",
       "      <th></th>\n",
       "      <th>Station</th>\n",
       "      <th>Date</th>\n",
       "      <th>Tmax</th>\n",
       "      <th>Tmin</th>\n",
       "      <th>Tavg</th>\n",
       "      <th>Depart</th>\n",
       "      <th>DewPoint</th>\n",
       "      <th>WetBulb</th>\n",
       "      <th>Heat</th>\n",
       "      <th>Cool</th>\n",
       "      <th>...</th>\n",
       "      <th>CodeSum</th>\n",
       "      <th>Depth</th>\n",
       "      <th>Water1</th>\n",
       "      <th>SnowFall</th>\n",
       "      <th>PrecipTotal</th>\n",
       "      <th>StnPressure</th>\n",
       "      <th>SeaLevel</th>\n",
       "      <th>ResultSpeed</th>\n",
       "      <th>ResultDir</th>\n",
       "      <th>AvgSpeed</th>\n",
       "    </tr>\n",
       "  </thead>\n",
       "  <tbody>\n",
       "    <tr>\n",
       "      <th>0</th>\n",
       "      <td>1</td>\n",
       "      <td>2007-05-01</td>\n",
       "      <td>83</td>\n",
       "      <td>50</td>\n",
       "      <td>67</td>\n",
       "      <td>14</td>\n",
       "      <td>51</td>\n",
       "      <td>56</td>\n",
       "      <td>0</td>\n",
       "      <td>2</td>\n",
       "      <td>...</td>\n",
       "      <td></td>\n",
       "      <td>0</td>\n",
       "      <td>M</td>\n",
       "      <td>0.0</td>\n",
       "      <td>0.00</td>\n",
       "      <td>29.10</td>\n",
       "      <td>29.82</td>\n",
       "      <td>1.7</td>\n",
       "      <td>27</td>\n",
       "      <td>9.2</td>\n",
       "    </tr>\n",
       "    <tr>\n",
       "      <th>1</th>\n",
       "      <td>2</td>\n",
       "      <td>2007-05-01</td>\n",
       "      <td>84</td>\n",
       "      <td>52</td>\n",
       "      <td>68</td>\n",
       "      <td>M</td>\n",
       "      <td>51</td>\n",
       "      <td>57</td>\n",
       "      <td>0</td>\n",
       "      <td>3</td>\n",
       "      <td>...</td>\n",
       "      <td></td>\n",
       "      <td>M</td>\n",
       "      <td>M</td>\n",
       "      <td>M</td>\n",
       "      <td>0.00</td>\n",
       "      <td>29.18</td>\n",
       "      <td>29.82</td>\n",
       "      <td>2.7</td>\n",
       "      <td>25</td>\n",
       "      <td>9.6</td>\n",
       "    </tr>\n",
       "    <tr>\n",
       "      <th>2</th>\n",
       "      <td>1</td>\n",
       "      <td>2007-05-02</td>\n",
       "      <td>59</td>\n",
       "      <td>42</td>\n",
       "      <td>51</td>\n",
       "      <td>-3</td>\n",
       "      <td>42</td>\n",
       "      <td>47</td>\n",
       "      <td>14</td>\n",
       "      <td>0</td>\n",
       "      <td>...</td>\n",
       "      <td>BR</td>\n",
       "      <td>0</td>\n",
       "      <td>M</td>\n",
       "      <td>0.0</td>\n",
       "      <td>0.00</td>\n",
       "      <td>29.38</td>\n",
       "      <td>30.09</td>\n",
       "      <td>13.0</td>\n",
       "      <td>4</td>\n",
       "      <td>13.4</td>\n",
       "    </tr>\n",
       "    <tr>\n",
       "      <th>3</th>\n",
       "      <td>2</td>\n",
       "      <td>2007-05-02</td>\n",
       "      <td>60</td>\n",
       "      <td>43</td>\n",
       "      <td>52</td>\n",
       "      <td>M</td>\n",
       "      <td>42</td>\n",
       "      <td>47</td>\n",
       "      <td>13</td>\n",
       "      <td>0</td>\n",
       "      <td>...</td>\n",
       "      <td>BR HZ</td>\n",
       "      <td>M</td>\n",
       "      <td>M</td>\n",
       "      <td>M</td>\n",
       "      <td>0.00</td>\n",
       "      <td>29.44</td>\n",
       "      <td>30.08</td>\n",
       "      <td>13.3</td>\n",
       "      <td>2</td>\n",
       "      <td>13.4</td>\n",
       "    </tr>\n",
       "    <tr>\n",
       "      <th>4</th>\n",
       "      <td>1</td>\n",
       "      <td>2007-05-03</td>\n",
       "      <td>66</td>\n",
       "      <td>46</td>\n",
       "      <td>56</td>\n",
       "      <td>2</td>\n",
       "      <td>40</td>\n",
       "      <td>48</td>\n",
       "      <td>9</td>\n",
       "      <td>0</td>\n",
       "      <td>...</td>\n",
       "      <td></td>\n",
       "      <td>0</td>\n",
       "      <td>M</td>\n",
       "      <td>0.0</td>\n",
       "      <td>0.00</td>\n",
       "      <td>29.39</td>\n",
       "      <td>30.12</td>\n",
       "      <td>11.7</td>\n",
       "      <td>7</td>\n",
       "      <td>11.9</td>\n",
       "    </tr>\n",
       "  </tbody>\n",
       "</table>\n",
       "<p>5 rows × 22 columns</p>\n",
       "</div>"
      ],
      "text/plain": [
       "   Station        Date  Tmax  Tmin Tavg Depart  DewPoint WetBulb Heat Cool  \\\n",
       "0        1  2007-05-01    83    50   67     14        51      56    0    2   \n",
       "1        2  2007-05-01    84    52   68      M        51      57    0    3   \n",
       "2        1  2007-05-02    59    42   51     -3        42      47   14    0   \n",
       "3        2  2007-05-02    60    43   52      M        42      47   13    0   \n",
       "4        1  2007-05-03    66    46   56      2        40      48    9    0   \n",
       "\n",
       "   ... CodeSum Depth Water1 SnowFall PrecipTotal StnPressure SeaLevel  \\\n",
       "0  ...             0      M      0.0        0.00       29.10    29.82   \n",
       "1  ...             M      M        M        0.00       29.18    29.82   \n",
       "2  ...      BR     0      M      0.0        0.00       29.38    30.09   \n",
       "3  ...   BR HZ     M      M        M        0.00       29.44    30.08   \n",
       "4  ...             0      M      0.0        0.00       29.39    30.12   \n",
       "\n",
       "  ResultSpeed ResultDir  AvgSpeed  \n",
       "0         1.7        27       9.2  \n",
       "1         2.7        25       9.6  \n",
       "2        13.0         4      13.4  \n",
       "3        13.3         2      13.4  \n",
       "4        11.7         7      11.9  \n",
       "\n",
       "[5 rows x 22 columns]"
      ]
     },
     "execution_count": 4,
     "metadata": {},
     "output_type": "execute_result"
    }
   ],
   "source": [
    "w.head()"
   ]
  },
  {
   "cell_type": "code",
   "execution_count": 5,
   "metadata": {},
   "outputs": [
    {
     "data": {
      "text/plain": [
       "M    2944\n",
       "Name: Water1, dtype: int64"
      ]
     },
     "execution_count": 5,
     "metadata": {},
     "output_type": "execute_result"
    }
   ],
   "source": [
    "w.Water1.value_counts()"
   ]
  },
  {
   "cell_type": "markdown",
   "metadata": {},
   "source": [
    "### 2.1.1 Correcting Data Types\n",
    "\n",
    "<a id='w_missing'></a>\n",
    "\n",
    "In order to have the numerical data correctly represented, I first replace 'M', 'T', and '-' and then represent relevant columns as floats.\n",
    "\n",
    "'M' indicates missing data. I replace 'M' with np.nan in order to more easily handle missing numerical data.\n",
    "\n",
    "'T' indicates 'trace,' for example a snow flurry that does not stick. T is only relevant for precipitation, where I reaplce T with 0.01. For snow fall, where T is also present, there are only 12 non-zero observations, too sparse to make any conclusions on.\n",
    "\n",
    "'-' appears only in sunrise and sunset, which are measured every other day. I fill all missing sunrise and sunset values with the day before.\n",
    "\n"
   ]
  },
  {
   "cell_type": "code",
   "execution_count": 6,
   "metadata": {},
   "outputs": [
    {
     "name": "stdout",
     "output_type": "stream",
     "text": [
      "<class 'pandas.core.frame.DataFrame'>\n",
      "RangeIndex: 2944 entries, 0 to 2943\n",
      "Data columns (total 22 columns):\n",
      " #   Column       Non-Null Count  Dtype  \n",
      "---  ------       --------------  -----  \n",
      " 0   Station      2944 non-null   int64  \n",
      " 1   Date         2944 non-null   object \n",
      " 2   Tmax         2944 non-null   int64  \n",
      " 3   Tmin         2944 non-null   int64  \n",
      " 4   Tavg         2933 non-null   object \n",
      " 5   Depart       1472 non-null   object \n",
      " 6   DewPoint     2944 non-null   int64  \n",
      " 7   WetBulb      2940 non-null   object \n",
      " 8   Heat         2933 non-null   object \n",
      " 9   Cool         2933 non-null   object \n",
      " 10  Sunrise      2944 non-null   object \n",
      " 11  Sunset       2944 non-null   object \n",
      " 12  CodeSum      2944 non-null   object \n",
      " 13  Depth        1472 non-null   object \n",
      " 14  Water1       0 non-null      float64\n",
      " 15  SnowFall     1472 non-null   object \n",
      " 16  PrecipTotal  2942 non-null   object \n",
      " 17  StnPressure  2940 non-null   object \n",
      " 18  SeaLevel     2935 non-null   object \n",
      " 19  ResultSpeed  2944 non-null   float64\n",
      " 20  ResultDir    2944 non-null   int64  \n",
      " 21  AvgSpeed     2941 non-null   object \n",
      "dtypes: float64(2), int64(5), object(15)\n",
      "memory usage: 506.1+ KB\n"
     ]
    }
   ],
   "source": [
    "w = w.replace('M',np.nan)\n",
    "w = w.replace(['T','  T'],0.01)\n",
    "w.loc[:,'Sunrise':'Sunset'] = w.loc[:,'Sunrise':'Sunset'].replace('-',method='bfill')\n",
    "w.loc[:,'Sunrise':'Sunset'] = w.loc[:,'Sunrise':'Sunset'].replace('-',method='ffill')\n",
    "\n",
    "w.info()"
   ]
  },
  {
   "cell_type": "code",
   "execution_count": 7,
   "metadata": {},
   "outputs": [],
   "source": [
    "as_float = ['Tavg','Depart','WetBulb','Heat','Cool','Depth','StnPressure','SeaLevel','AvgSpeed','PrecipTotal',\n",
    "           'Sunrise','Sunset']\n",
    "\n",
    "w.loc[:,as_float] = w.loc[:,as_float].astype('float')\n",
    "    \n",
    "#quickly engineering a feature\n",
    "w['sunrise_diff'] = w['Sunrise'].diff().fillna(0)\n",
    "w['sunset_diff'] = w['Sunset'].diff().fillna(0)\n"
   ]
  },
  {
   "cell_type": "markdown",
   "metadata": {},
   "source": [
    "### 2.1.2 Snow Fall\n",
    "<a id='snow_fall'></a>\n",
    "\n",
    "Snow fall is almost entirely 0, except for 12 observations of trace snow fall and 1 of 0.1 inches. For this reason, I drop the column."
   ]
  },
  {
   "cell_type": "code",
   "execution_count": 8,
   "metadata": {
    "scrolled": true
   },
   "outputs": [
    {
     "data": {
      "text/plain": [
       "0.0     1459\n",
       "0.01      12\n",
       "0.1        1\n",
       "Name: SnowFall, dtype: int64"
      ]
     },
     "execution_count": 8,
     "metadata": {},
     "output_type": "execute_result"
    }
   ],
   "source": [
    "w.SnowFall.value_counts()"
   ]
  },
  {
   "cell_type": "code",
   "execution_count": 9,
   "metadata": {},
   "outputs": [],
   "source": [
    "w = w.drop('SnowFall',axis=1)"
   ]
  },
  {
   "cell_type": "markdown",
   "metadata": {},
   "source": [
    "### 2.1.3 Depth\n",
    "<a id='depth'></a>\n",
    "Depth is all 0 and is dropped"
   ]
  },
  {
   "cell_type": "code",
   "execution_count": 10,
   "metadata": {},
   "outputs": [
    {
     "data": {
      "text/plain": [
       "0.0    1472\n",
       "Name: Depth, dtype: int64"
      ]
     },
     "execution_count": 10,
     "metadata": {},
     "output_type": "execute_result"
    }
   ],
   "source": [
    "w.Depth.value_counts()"
   ]
  },
  {
   "cell_type": "code",
   "execution_count": 11,
   "metadata": {},
   "outputs": [],
   "source": [
    "w = w.drop('Depth',axis=1)"
   ]
  },
  {
   "cell_type": "markdown",
   "metadata": {},
   "source": [
    "### 2.1.4 Water1\n",
    "<a id='water1'></a>\n",
    "Water 1 is all 0 and is dropped"
   ]
  },
  {
   "cell_type": "code",
   "execution_count": 12,
   "metadata": {},
   "outputs": [
    {
     "data": {
      "text/plain": [
       "Series([], Name: Water1, dtype: int64)"
      ]
     },
     "execution_count": 12,
     "metadata": {},
     "output_type": "execute_result"
    }
   ],
   "source": [
    "w['Water1'].value_counts()"
   ]
  },
  {
   "cell_type": "code",
   "execution_count": 13,
   "metadata": {},
   "outputs": [],
   "source": [
    "w = w.drop('Water1',axis=1)"
   ]
  },
  {
   "cell_type": "markdown",
   "metadata": {},
   "source": [
    "### 2.1.5 PrecipTotal\n",
    "<a id='precip'></a>\n",
    "\n",
    "I assume that missing values for percipitation are simply days the data was not recorded because there was no precipitation. I have not found any indication that too much rain (filling the measuring device too high) would have caused a missing value to be unput.\n",
    "\n",
    "For this reason, I fill missing values with 0"
   ]
  },
  {
   "cell_type": "code",
   "execution_count": 14,
   "metadata": {},
   "outputs": [],
   "source": [
    "w['PrecipTotal'] = w['PrecipTotal'].fillna(0)"
   ]
  },
  {
   "cell_type": "markdown",
   "metadata": {},
   "source": [
    "### 2.1.6 Filling missing numerical data\n",
    "\n",
    "<a id='w_miss'></a>\n",
    "\n",
    "There are few coluns where there is significat missing data. \n",
    "\n",
    "Depart is only measured at one of two weather stations each days, which is why half of the data is missing. This is handled by using the value for Depart from station 1 for station 2 as well. The weather at the two stations is not different enought to suggest different values for Departure is necessary. \n",
    "\n",
    "The other columns with missing data do not follow an obvious trend. My assumption is that the missing values are random and could be due to chance or errors with the measurement devices. I will fill the missing values with a forward fill. The previous day's weather will be a good enough approximation of the next days weather for the few values that are missing."
   ]
  },
  {
   "cell_type": "code",
   "execution_count": 15,
   "metadata": {},
   "outputs": [
    {
     "data": {
      "text/plain": [
       "Station            0\n",
       "Date               0\n",
       "Tmax               0\n",
       "Tmin               0\n",
       "Tavg              11\n",
       "Depart          1472\n",
       "DewPoint           0\n",
       "WetBulb            4\n",
       "Heat              11\n",
       "Cool              11\n",
       "Sunrise            0\n",
       "Sunset             0\n",
       "CodeSum            0\n",
       "PrecipTotal        0\n",
       "StnPressure        4\n",
       "SeaLevel           9\n",
       "ResultSpeed        0\n",
       "ResultDir          0\n",
       "AvgSpeed           3\n",
       "sunrise_diff       0\n",
       "sunset_diff        0\n",
       "dtype: int64"
      ]
     },
     "execution_count": 15,
     "metadata": {},
     "output_type": "execute_result"
    }
   ],
   "source": [
    "w.isna().sum()"
   ]
  },
  {
   "cell_type": "code",
   "execution_count": 16,
   "metadata": {},
   "outputs": [
    {
     "data": {
      "text/html": [
       "<div>\n",
       "<style scoped>\n",
       "    .dataframe tbody tr th:only-of-type {\n",
       "        vertical-align: middle;\n",
       "    }\n",
       "\n",
       "    .dataframe tbody tr th {\n",
       "        vertical-align: top;\n",
       "    }\n",
       "\n",
       "    .dataframe thead th {\n",
       "        text-align: right;\n",
       "    }\n",
       "</style>\n",
       "<table border=\"1\" class=\"dataframe\">\n",
       "  <thead>\n",
       "    <tr style=\"text-align: right;\">\n",
       "      <th></th>\n",
       "      <th>Station</th>\n",
       "      <th>Date</th>\n",
       "      <th>Tmax</th>\n",
       "      <th>Tmin</th>\n",
       "      <th>Tavg</th>\n",
       "      <th>Depart</th>\n",
       "      <th>DewPoint</th>\n",
       "      <th>WetBulb</th>\n",
       "      <th>Heat</th>\n",
       "      <th>Cool</th>\n",
       "      <th>...</th>\n",
       "      <th>Sunset</th>\n",
       "      <th>CodeSum</th>\n",
       "      <th>PrecipTotal</th>\n",
       "      <th>StnPressure</th>\n",
       "      <th>SeaLevel</th>\n",
       "      <th>ResultSpeed</th>\n",
       "      <th>ResultDir</th>\n",
       "      <th>AvgSpeed</th>\n",
       "      <th>sunrise_diff</th>\n",
       "      <th>sunset_diff</th>\n",
       "    </tr>\n",
       "  </thead>\n",
       "  <tbody>\n",
       "    <tr>\n",
       "      <th>7</th>\n",
       "      <td>2</td>\n",
       "      <td>2007-05-04</td>\n",
       "      <td>78</td>\n",
       "      <td>51</td>\n",
       "      <td>NaN</td>\n",
       "      <td>NaN</td>\n",
       "      <td>42</td>\n",
       "      <td>50.0</td>\n",
       "      <td>NaN</td>\n",
       "      <td>NaN</td>\n",
       "      <td>...</td>\n",
       "      <td>1853.0</td>\n",
       "      <td></td>\n",
       "      <td>0.00</td>\n",
       "      <td>29.36</td>\n",
       "      <td>30.04</td>\n",
       "      <td>10.1</td>\n",
       "      <td>7</td>\n",
       "      <td>10.4</td>\n",
       "      <td>-1.0</td>\n",
       "      <td>1.0</td>\n",
       "    </tr>\n",
       "    <tr>\n",
       "      <th>505</th>\n",
       "      <td>2</td>\n",
       "      <td>2008-07-08</td>\n",
       "      <td>86</td>\n",
       "      <td>46</td>\n",
       "      <td>NaN</td>\n",
       "      <td>NaN</td>\n",
       "      <td>68</td>\n",
       "      <td>71.0</td>\n",
       "      <td>NaN</td>\n",
       "      <td>NaN</td>\n",
       "      <td>...</td>\n",
       "      <td>1929.0</td>\n",
       "      <td>TS RA</td>\n",
       "      <td>0.28</td>\n",
       "      <td>29.16</td>\n",
       "      <td>29.80</td>\n",
       "      <td>7.4</td>\n",
       "      <td>24</td>\n",
       "      <td>8.3</td>\n",
       "      <td>1.0</td>\n",
       "      <td>0.0</td>\n",
       "    </tr>\n",
       "    <tr>\n",
       "      <th>675</th>\n",
       "      <td>2</td>\n",
       "      <td>2008-10-01</td>\n",
       "      <td>62</td>\n",
       "      <td>46</td>\n",
       "      <td>NaN</td>\n",
       "      <td>NaN</td>\n",
       "      <td>41</td>\n",
       "      <td>47.0</td>\n",
       "      <td>NaN</td>\n",
       "      <td>NaN</td>\n",
       "      <td>...</td>\n",
       "      <td>1732.0</td>\n",
       "      <td></td>\n",
       "      <td>0.00</td>\n",
       "      <td>29.30</td>\n",
       "      <td>29.96</td>\n",
       "      <td>10.9</td>\n",
       "      <td>33</td>\n",
       "      <td>11.0</td>\n",
       "      <td>1.0</td>\n",
       "      <td>-2.0</td>\n",
       "    </tr>\n",
       "    <tr>\n",
       "      <th>1637</th>\n",
       "      <td>2</td>\n",
       "      <td>2011-07-22</td>\n",
       "      <td>100</td>\n",
       "      <td>71</td>\n",
       "      <td>NaN</td>\n",
       "      <td>NaN</td>\n",
       "      <td>70</td>\n",
       "      <td>74.0</td>\n",
       "      <td>NaN</td>\n",
       "      <td>NaN</td>\n",
       "      <td>...</td>\n",
       "      <td>1920.0</td>\n",
       "      <td>TS TSRA BR</td>\n",
       "      <td>0.14</td>\n",
       "      <td>29.23</td>\n",
       "      <td>29.86</td>\n",
       "      <td>3.8</td>\n",
       "      <td>10</td>\n",
       "      <td>8.2</td>\n",
       "      <td>1.0</td>\n",
       "      <td>-1.0</td>\n",
       "    </tr>\n",
       "    <tr>\n",
       "      <th>2067</th>\n",
       "      <td>2</td>\n",
       "      <td>2012-08-22</td>\n",
       "      <td>84</td>\n",
       "      <td>72</td>\n",
       "      <td>NaN</td>\n",
       "      <td>NaN</td>\n",
       "      <td>51</td>\n",
       "      <td>61.0</td>\n",
       "      <td>NaN</td>\n",
       "      <td>NaN</td>\n",
       "      <td>...</td>\n",
       "      <td>1842.0</td>\n",
       "      <td></td>\n",
       "      <td>0.00</td>\n",
       "      <td>29.39</td>\n",
       "      <td>NaN</td>\n",
       "      <td>4.7</td>\n",
       "      <td>19</td>\n",
       "      <td>NaN</td>\n",
       "      <td>2.0</td>\n",
       "      <td>-1.0</td>\n",
       "    </tr>\n",
       "    <tr>\n",
       "      <th>2211</th>\n",
       "      <td>2</td>\n",
       "      <td>2013-05-02</td>\n",
       "      <td>71</td>\n",
       "      <td>42</td>\n",
       "      <td>NaN</td>\n",
       "      <td>NaN</td>\n",
       "      <td>39</td>\n",
       "      <td>45.0</td>\n",
       "      <td>NaN</td>\n",
       "      <td>NaN</td>\n",
       "      <td>...</td>\n",
       "      <td>1851.0</td>\n",
       "      <td></td>\n",
       "      <td>0.00</td>\n",
       "      <td>29.51</td>\n",
       "      <td>30.17</td>\n",
       "      <td>15.8</td>\n",
       "      <td>2</td>\n",
       "      <td>16.1</td>\n",
       "      <td>-1.0</td>\n",
       "      <td>1.0</td>\n",
       "    </tr>\n",
       "    <tr>\n",
       "      <th>2501</th>\n",
       "      <td>2</td>\n",
       "      <td>2013-09-24</td>\n",
       "      <td>91</td>\n",
       "      <td>52</td>\n",
       "      <td>NaN</td>\n",
       "      <td>NaN</td>\n",
       "      <td>48</td>\n",
       "      <td>54.0</td>\n",
       "      <td>NaN</td>\n",
       "      <td>NaN</td>\n",
       "      <td>...</td>\n",
       "      <td>1744.0</td>\n",
       "      <td></td>\n",
       "      <td>0.00</td>\n",
       "      <td>29.33</td>\n",
       "      <td>30.00</td>\n",
       "      <td>5.8</td>\n",
       "      <td>9</td>\n",
       "      <td>7.7</td>\n",
       "      <td>1.0</td>\n",
       "      <td>-2.0</td>\n",
       "    </tr>\n",
       "    <tr>\n",
       "      <th>2511</th>\n",
       "      <td>2</td>\n",
       "      <td>2013-09-29</td>\n",
       "      <td>84</td>\n",
       "      <td>53</td>\n",
       "      <td>NaN</td>\n",
       "      <td>NaN</td>\n",
       "      <td>48</td>\n",
       "      <td>54.0</td>\n",
       "      <td>NaN</td>\n",
       "      <td>NaN</td>\n",
       "      <td>...</td>\n",
       "      <td>1735.0</td>\n",
       "      <td>RA BR</td>\n",
       "      <td>0.22</td>\n",
       "      <td>29.36</td>\n",
       "      <td>30.01</td>\n",
       "      <td>6.3</td>\n",
       "      <td>36</td>\n",
       "      <td>7.8</td>\n",
       "      <td>1.0</td>\n",
       "      <td>-2.0</td>\n",
       "    </tr>\n",
       "    <tr>\n",
       "      <th>2525</th>\n",
       "      <td>2</td>\n",
       "      <td>2013-10-06</td>\n",
       "      <td>76</td>\n",
       "      <td>48</td>\n",
       "      <td>NaN</td>\n",
       "      <td>NaN</td>\n",
       "      <td>44</td>\n",
       "      <td>50.0</td>\n",
       "      <td>NaN</td>\n",
       "      <td>NaN</td>\n",
       "      <td>...</td>\n",
       "      <td>1724.0</td>\n",
       "      <td>RA DZ BR</td>\n",
       "      <td>0.06</td>\n",
       "      <td>29.10</td>\n",
       "      <td>29.76</td>\n",
       "      <td>10.1</td>\n",
       "      <td>25</td>\n",
       "      <td>10.6</td>\n",
       "      <td>1.0</td>\n",
       "      <td>-1.0</td>\n",
       "    </tr>\n",
       "    <tr>\n",
       "      <th>2579</th>\n",
       "      <td>2</td>\n",
       "      <td>2014-05-02</td>\n",
       "      <td>80</td>\n",
       "      <td>47</td>\n",
       "      <td>NaN</td>\n",
       "      <td>NaN</td>\n",
       "      <td>43</td>\n",
       "      <td>47.0</td>\n",
       "      <td>NaN</td>\n",
       "      <td>NaN</td>\n",
       "      <td>...</td>\n",
       "      <td>1851.0</td>\n",
       "      <td>RA</td>\n",
       "      <td>0.04</td>\n",
       "      <td>29.10</td>\n",
       "      <td>29.79</td>\n",
       "      <td>10.7</td>\n",
       "      <td>23</td>\n",
       "      <td>11.9</td>\n",
       "      <td>-1.0</td>\n",
       "      <td>1.0</td>\n",
       "    </tr>\n",
       "    <tr>\n",
       "      <th>2811</th>\n",
       "      <td>2</td>\n",
       "      <td>2014-08-26</td>\n",
       "      <td>86</td>\n",
       "      <td>49</td>\n",
       "      <td>NaN</td>\n",
       "      <td>NaN</td>\n",
       "      <td>68</td>\n",
       "      <td>71.0</td>\n",
       "      <td>NaN</td>\n",
       "      <td>NaN</td>\n",
       "      <td>...</td>\n",
       "      <td>1835.0</td>\n",
       "      <td></td>\n",
       "      <td>0.01</td>\n",
       "      <td>29.41</td>\n",
       "      <td>30.04</td>\n",
       "      <td>1.3</td>\n",
       "      <td>15</td>\n",
       "      <td>5.8</td>\n",
       "      <td>1.0</td>\n",
       "      <td>-2.0</td>\n",
       "    </tr>\n",
       "  </tbody>\n",
       "</table>\n",
       "<p>11 rows × 21 columns</p>\n",
       "</div>"
      ],
      "text/plain": [
       "      Station        Date  Tmax  Tmin  Tavg  Depart  DewPoint  WetBulb  Heat  \\\n",
       "7           2  2007-05-04    78    51   NaN     NaN        42     50.0   NaN   \n",
       "505         2  2008-07-08    86    46   NaN     NaN        68     71.0   NaN   \n",
       "675         2  2008-10-01    62    46   NaN     NaN        41     47.0   NaN   \n",
       "1637        2  2011-07-22   100    71   NaN     NaN        70     74.0   NaN   \n",
       "2067        2  2012-08-22    84    72   NaN     NaN        51     61.0   NaN   \n",
       "2211        2  2013-05-02    71    42   NaN     NaN        39     45.0   NaN   \n",
       "2501        2  2013-09-24    91    52   NaN     NaN        48     54.0   NaN   \n",
       "2511        2  2013-09-29    84    53   NaN     NaN        48     54.0   NaN   \n",
       "2525        2  2013-10-06    76    48   NaN     NaN        44     50.0   NaN   \n",
       "2579        2  2014-05-02    80    47   NaN     NaN        43     47.0   NaN   \n",
       "2811        2  2014-08-26    86    49   NaN     NaN        68     71.0   NaN   \n",
       "\n",
       "      Cool  ...  Sunset     CodeSum PrecipTotal  StnPressure  SeaLevel  \\\n",
       "7      NaN  ...  1853.0                    0.00        29.36     30.04   \n",
       "505    NaN  ...  1929.0       TS RA        0.28        29.16     29.80   \n",
       "675    NaN  ...  1732.0                    0.00        29.30     29.96   \n",
       "1637   NaN  ...  1920.0  TS TSRA BR        0.14        29.23     29.86   \n",
       "2067   NaN  ...  1842.0                    0.00        29.39       NaN   \n",
       "2211   NaN  ...  1851.0                    0.00        29.51     30.17   \n",
       "2501   NaN  ...  1744.0                    0.00        29.33     30.00   \n",
       "2511   NaN  ...  1735.0       RA BR        0.22        29.36     30.01   \n",
       "2525   NaN  ...  1724.0    RA DZ BR        0.06        29.10     29.76   \n",
       "2579   NaN  ...  1851.0          RA        0.04        29.10     29.79   \n",
       "2811   NaN  ...  1835.0                    0.01        29.41     30.04   \n",
       "\n",
       "      ResultSpeed  ResultDir  AvgSpeed  sunrise_diff  sunset_diff  \n",
       "7            10.1          7      10.4          -1.0          1.0  \n",
       "505           7.4         24       8.3           1.0          0.0  \n",
       "675          10.9         33      11.0           1.0         -2.0  \n",
       "1637          3.8         10       8.2           1.0         -1.0  \n",
       "2067          4.7         19       NaN           2.0         -1.0  \n",
       "2211         15.8          2      16.1          -1.0          1.0  \n",
       "2501          5.8          9       7.7           1.0         -2.0  \n",
       "2511          6.3         36       7.8           1.0         -2.0  \n",
       "2525         10.1         25      10.6           1.0         -1.0  \n",
       "2579         10.7         23      11.9          -1.0          1.0  \n",
       "2811          1.3         15       5.8           1.0         -2.0  \n",
       "\n",
       "[11 rows x 21 columns]"
      ]
     },
     "execution_count": 16,
     "metadata": {},
     "output_type": "execute_result"
    }
   ],
   "source": [
    "w[w.Tavg.isna()]"
   ]
  },
  {
   "cell_type": "code",
   "execution_count": 17,
   "metadata": {},
   "outputs": [
    {
     "data": {
      "text/html": [
       "<div>\n",
       "<style scoped>\n",
       "    .dataframe tbody tr th:only-of-type {\n",
       "        vertical-align: middle;\n",
       "    }\n",
       "\n",
       "    .dataframe tbody tr th {\n",
       "        vertical-align: top;\n",
       "    }\n",
       "\n",
       "    .dataframe thead th {\n",
       "        text-align: right;\n",
       "    }\n",
       "</style>\n",
       "<table border=\"1\" class=\"dataframe\">\n",
       "  <thead>\n",
       "    <tr style=\"text-align: right;\">\n",
       "      <th></th>\n",
       "      <th>Station</th>\n",
       "      <th>Date</th>\n",
       "      <th>Tmax</th>\n",
       "      <th>Tmin</th>\n",
       "      <th>Tavg</th>\n",
       "      <th>Depart</th>\n",
       "      <th>DewPoint</th>\n",
       "      <th>WetBulb</th>\n",
       "      <th>Heat</th>\n",
       "      <th>Cool</th>\n",
       "      <th>...</th>\n",
       "      <th>Sunset</th>\n",
       "      <th>CodeSum</th>\n",
       "      <th>PrecipTotal</th>\n",
       "      <th>StnPressure</th>\n",
       "      <th>SeaLevel</th>\n",
       "      <th>ResultSpeed</th>\n",
       "      <th>ResultDir</th>\n",
       "      <th>AvgSpeed</th>\n",
       "      <th>sunrise_diff</th>\n",
       "      <th>sunset_diff</th>\n",
       "    </tr>\n",
       "  </thead>\n",
       "  <tbody>\n",
       "    <tr>\n",
       "      <th>87</th>\n",
       "      <td>2</td>\n",
       "      <td>2007-06-13</td>\n",
       "      <td>86</td>\n",
       "      <td>68</td>\n",
       "      <td>77.0</td>\n",
       "      <td>NaN</td>\n",
       "      <td>53</td>\n",
       "      <td>62.0</td>\n",
       "      <td>0.0</td>\n",
       "      <td>12.0</td>\n",
       "      <td>...</td>\n",
       "      <td>1928.0</td>\n",
       "      <td></td>\n",
       "      <td>0.0</td>\n",
       "      <td>NaN</td>\n",
       "      <td>NaN</td>\n",
       "      <td>7.0</td>\n",
       "      <td>5</td>\n",
       "      <td>NaN</td>\n",
       "      <td>0.0</td>\n",
       "      <td>1.0</td>\n",
       "    </tr>\n",
       "    <tr>\n",
       "      <th>848</th>\n",
       "      <td>1</td>\n",
       "      <td>2009-06-26</td>\n",
       "      <td>86</td>\n",
       "      <td>69</td>\n",
       "      <td>78.0</td>\n",
       "      <td>7.0</td>\n",
       "      <td>60</td>\n",
       "      <td>NaN</td>\n",
       "      <td>0.0</td>\n",
       "      <td>13.0</td>\n",
       "      <td>...</td>\n",
       "      <td>1931.0</td>\n",
       "      <td></td>\n",
       "      <td>0.0</td>\n",
       "      <td>NaN</td>\n",
       "      <td>29.85</td>\n",
       "      <td>6.4</td>\n",
       "      <td>4</td>\n",
       "      <td>8.2</td>\n",
       "      <td>0.0</td>\n",
       "      <td>0.0</td>\n",
       "    </tr>\n",
       "    <tr>\n",
       "      <th>2410</th>\n",
       "      <td>1</td>\n",
       "      <td>2013-08-10</td>\n",
       "      <td>81</td>\n",
       "      <td>64</td>\n",
       "      <td>73.0</td>\n",
       "      <td>0.0</td>\n",
       "      <td>57</td>\n",
       "      <td>NaN</td>\n",
       "      <td>0.0</td>\n",
       "      <td>8.0</td>\n",
       "      <td>...</td>\n",
       "      <td>1900.0</td>\n",
       "      <td></td>\n",
       "      <td>0.0</td>\n",
       "      <td>NaN</td>\n",
       "      <td>30.08</td>\n",
       "      <td>5.3</td>\n",
       "      <td>5</td>\n",
       "      <td>6.5</td>\n",
       "      <td>0.0</td>\n",
       "      <td>0.0</td>\n",
       "    </tr>\n",
       "    <tr>\n",
       "      <th>2411</th>\n",
       "      <td>2</td>\n",
       "      <td>2013-08-10</td>\n",
       "      <td>81</td>\n",
       "      <td>68</td>\n",
       "      <td>75.0</td>\n",
       "      <td>NaN</td>\n",
       "      <td>55</td>\n",
       "      <td>63.0</td>\n",
       "      <td>0.0</td>\n",
       "      <td>10.0</td>\n",
       "      <td>...</td>\n",
       "      <td>1859.0</td>\n",
       "      <td></td>\n",
       "      <td>0.0</td>\n",
       "      <td>NaN</td>\n",
       "      <td>30.07</td>\n",
       "      <td>6.0</td>\n",
       "      <td>6</td>\n",
       "      <td>7.4</td>\n",
       "      <td>1.0</td>\n",
       "      <td>-41.0</td>\n",
       "    </tr>\n",
       "  </tbody>\n",
       "</table>\n",
       "<p>4 rows × 21 columns</p>\n",
       "</div>"
      ],
      "text/plain": [
       "      Station        Date  Tmax  Tmin  Tavg  Depart  DewPoint  WetBulb  Heat  \\\n",
       "87          2  2007-06-13    86    68  77.0     NaN        53     62.0   0.0   \n",
       "848         1  2009-06-26    86    69  78.0     7.0        60      NaN   0.0   \n",
       "2410        1  2013-08-10    81    64  73.0     0.0        57      NaN   0.0   \n",
       "2411        2  2013-08-10    81    68  75.0     NaN        55     63.0   0.0   \n",
       "\n",
       "      Cool  ...  Sunset  CodeSum PrecipTotal  StnPressure  SeaLevel  \\\n",
       "87    12.0  ...  1928.0                  0.0          NaN       NaN   \n",
       "848   13.0  ...  1931.0                  0.0          NaN     29.85   \n",
       "2410   8.0  ...  1900.0                  0.0          NaN     30.08   \n",
       "2411  10.0  ...  1859.0                  0.0          NaN     30.07   \n",
       "\n",
       "      ResultSpeed  ResultDir  AvgSpeed  sunrise_diff  sunset_diff  \n",
       "87            7.0          5       NaN           0.0          1.0  \n",
       "848           6.4          4       8.2           0.0          0.0  \n",
       "2410          5.3          5       6.5           0.0          0.0  \n",
       "2411          6.0          6       7.4           1.0        -41.0  \n",
       "\n",
       "[4 rows x 21 columns]"
      ]
     },
     "execution_count": 17,
     "metadata": {},
     "output_type": "execute_result"
    }
   ],
   "source": [
    "w[w.StnPressure.isna()]"
   ]
  },
  {
   "cell_type": "code",
   "execution_count": 18,
   "metadata": {},
   "outputs": [
    {
     "data": {
      "text/html": [
       "<div>\n",
       "<style scoped>\n",
       "    .dataframe tbody tr th:only-of-type {\n",
       "        vertical-align: middle;\n",
       "    }\n",
       "\n",
       "    .dataframe tbody tr th {\n",
       "        vertical-align: top;\n",
       "    }\n",
       "\n",
       "    .dataframe thead th {\n",
       "        text-align: right;\n",
       "    }\n",
       "</style>\n",
       "<table border=\"1\" class=\"dataframe\">\n",
       "  <thead>\n",
       "    <tr style=\"text-align: right;\">\n",
       "      <th></th>\n",
       "      <th>Station</th>\n",
       "      <th>Date</th>\n",
       "      <th>Tmax</th>\n",
       "      <th>Tmin</th>\n",
       "      <th>Tavg</th>\n",
       "      <th>Depart</th>\n",
       "      <th>DewPoint</th>\n",
       "      <th>WetBulb</th>\n",
       "      <th>Heat</th>\n",
       "      <th>Cool</th>\n",
       "      <th>...</th>\n",
       "      <th>Sunset</th>\n",
       "      <th>CodeSum</th>\n",
       "      <th>PrecipTotal</th>\n",
       "      <th>StnPressure</th>\n",
       "      <th>SeaLevel</th>\n",
       "      <th>ResultSpeed</th>\n",
       "      <th>ResultDir</th>\n",
       "      <th>AvgSpeed</th>\n",
       "      <th>sunrise_diff</th>\n",
       "      <th>sunset_diff</th>\n",
       "    </tr>\n",
       "  </thead>\n",
       "  <tbody>\n",
       "    <tr>\n",
       "      <th>87</th>\n",
       "      <td>2</td>\n",
       "      <td>2007-06-13</td>\n",
       "      <td>86</td>\n",
       "      <td>68</td>\n",
       "      <td>77.0</td>\n",
       "      <td>NaN</td>\n",
       "      <td>53</td>\n",
       "      <td>62.0</td>\n",
       "      <td>0.0</td>\n",
       "      <td>12.0</td>\n",
       "      <td>...</td>\n",
       "      <td>1928.0</td>\n",
       "      <td></td>\n",
       "      <td>0.00</td>\n",
       "      <td>NaN</td>\n",
       "      <td>NaN</td>\n",
       "      <td>7.0</td>\n",
       "      <td>5</td>\n",
       "      <td>NaN</td>\n",
       "      <td>0.0</td>\n",
       "      <td>1.0</td>\n",
       "    </tr>\n",
       "    <tr>\n",
       "      <th>1745</th>\n",
       "      <td>2</td>\n",
       "      <td>2011-09-14</td>\n",
       "      <td>60</td>\n",
       "      <td>48</td>\n",
       "      <td>54.0</td>\n",
       "      <td>NaN</td>\n",
       "      <td>45</td>\n",
       "      <td>51.0</td>\n",
       "      <td>11.0</td>\n",
       "      <td>0.0</td>\n",
       "      <td>...</td>\n",
       "      <td>1803.0</td>\n",
       "      <td>RA BR HZ FU</td>\n",
       "      <td>0.01</td>\n",
       "      <td>29.47</td>\n",
       "      <td>NaN</td>\n",
       "      <td>6.0</td>\n",
       "      <td>32</td>\n",
       "      <td>NaN</td>\n",
       "      <td>1.0</td>\n",
       "      <td>-2.0</td>\n",
       "    </tr>\n",
       "    <tr>\n",
       "      <th>2067</th>\n",
       "      <td>2</td>\n",
       "      <td>2012-08-22</td>\n",
       "      <td>84</td>\n",
       "      <td>72</td>\n",
       "      <td>NaN</td>\n",
       "      <td>NaN</td>\n",
       "      <td>51</td>\n",
       "      <td>61.0</td>\n",
       "      <td>NaN</td>\n",
       "      <td>NaN</td>\n",
       "      <td>...</td>\n",
       "      <td>1842.0</td>\n",
       "      <td></td>\n",
       "      <td>0.00</td>\n",
       "      <td>29.39</td>\n",
       "      <td>NaN</td>\n",
       "      <td>4.7</td>\n",
       "      <td>19</td>\n",
       "      <td>NaN</td>\n",
       "      <td>2.0</td>\n",
       "      <td>-1.0</td>\n",
       "    </tr>\n",
       "  </tbody>\n",
       "</table>\n",
       "<p>3 rows × 21 columns</p>\n",
       "</div>"
      ],
      "text/plain": [
       "      Station        Date  Tmax  Tmin  Tavg  Depart  DewPoint  WetBulb  Heat  \\\n",
       "87          2  2007-06-13    86    68  77.0     NaN        53     62.0   0.0   \n",
       "1745        2  2011-09-14    60    48  54.0     NaN        45     51.0  11.0   \n",
       "2067        2  2012-08-22    84    72   NaN     NaN        51     61.0   NaN   \n",
       "\n",
       "      Cool  ...  Sunset      CodeSum PrecipTotal  StnPressure  SeaLevel  \\\n",
       "87    12.0  ...  1928.0                     0.00          NaN       NaN   \n",
       "1745   0.0  ...  1803.0  RA BR HZ FU        0.01        29.47       NaN   \n",
       "2067   NaN  ...  1842.0                     0.00        29.39       NaN   \n",
       "\n",
       "      ResultSpeed  ResultDir  AvgSpeed  sunrise_diff  sunset_diff  \n",
       "87            7.0          5       NaN           0.0          1.0  \n",
       "1745          6.0         32       NaN           1.0         -2.0  \n",
       "2067          4.7         19       NaN           2.0         -1.0  \n",
       "\n",
       "[3 rows x 21 columns]"
      ]
     },
     "execution_count": 18,
     "metadata": {},
     "output_type": "execute_result"
    }
   ],
   "source": [
    "w[w.AvgSpeed.isna()]"
   ]
  },
  {
   "cell_type": "code",
   "execution_count": 19,
   "metadata": {},
   "outputs": [],
   "source": [
    "w = w.fillna(method='ffill')"
   ]
  },
  {
   "cell_type": "code",
   "execution_count": 20,
   "metadata": {},
   "outputs": [
    {
     "name": "stdout",
     "output_type": "stream",
     "text": [
      "<class 'pandas.core.frame.DataFrame'>\n",
      "RangeIndex: 2944 entries, 0 to 2943\n",
      "Data columns (total 21 columns):\n",
      " #   Column        Non-Null Count  Dtype  \n",
      "---  ------        --------------  -----  \n",
      " 0   Station       2944 non-null   int64  \n",
      " 1   Date          2944 non-null   object \n",
      " 2   Tmax          2944 non-null   int64  \n",
      " 3   Tmin          2944 non-null   int64  \n",
      " 4   Tavg          2944 non-null   float64\n",
      " 5   Depart        2944 non-null   float64\n",
      " 6   DewPoint      2944 non-null   int64  \n",
      " 7   WetBulb       2944 non-null   float64\n",
      " 8   Heat          2944 non-null   float64\n",
      " 9   Cool          2944 non-null   float64\n",
      " 10  Sunrise       2944 non-null   float64\n",
      " 11  Sunset        2944 non-null   float64\n",
      " 12  CodeSum       2944 non-null   object \n",
      " 13  PrecipTotal   2944 non-null   float64\n",
      " 14  StnPressure   2944 non-null   float64\n",
      " 15  SeaLevel      2944 non-null   float64\n",
      " 16  ResultSpeed   2944 non-null   float64\n",
      " 17  ResultDir     2944 non-null   int64  \n",
      " 18  AvgSpeed      2944 non-null   float64\n",
      " 19  sunrise_diff  2944 non-null   float64\n",
      " 20  sunset_diff   2944 non-null   float64\n",
      "dtypes: float64(14), int64(5), object(2)\n",
      "memory usage: 483.1+ KB\n"
     ]
    }
   ],
   "source": [
    "w.info()"
   ]
  },
  {
   "cell_type": "markdown",
   "metadata": {},
   "source": [
    "### 2.1.7 Codesum\n",
    "<a id='codesum'></a>\n",
    "\n",
    "Codesum is a sum of all of the weather codes observed on a particular day. I break these apart into separate columns and assign 1 for occured and 0 otherwise."
   ]
  },
  {
   "cell_type": "code",
   "execution_count": 21,
   "metadata": {},
   "outputs": [],
   "source": [
    "#breaking out codesum into separate columns \n",
    "#getting a list of all unique codes in the weather set\n",
    "codes = []\n",
    "for code in w.CodeSum.unique():\n",
    "    for c in code.split(' '):\n",
    "        codes.append(c)\n",
    "codes = pd.Series(codes)\n",
    "codes = codes.unique()[1:]\n",
    "\n",
    "#for each code, creating a column where value is 1 if happens, 0 if doesn't, then drop codeSum\n",
    "for c in codes:\n",
    "    col = [1 if c in s else 0 for s in w.CodeSum]\n",
    "    \n",
    "    if np.sum(col)>(len(col)/100): \n",
    "        w[c] = col\n",
    "\n",
    "w = w.drop('CodeSum',axis=1)\n"
   ]
  },
  {
   "cell_type": "code",
   "execution_count": 22,
   "metadata": {},
   "outputs": [
    {
     "name": "stdout",
     "output_type": "stream",
     "text": [
      "<class 'pandas.core.frame.DataFrame'>\n",
      "RangeIndex: 2944 entries, 0 to 2943\n",
      "Data columns (total 27 columns):\n",
      " #   Column        Non-Null Count  Dtype  \n",
      "---  ------        --------------  -----  \n",
      " 0   Station       2944 non-null   int64  \n",
      " 1   Date          2944 non-null   object \n",
      " 2   Tmax          2944 non-null   int64  \n",
      " 3   Tmin          2944 non-null   int64  \n",
      " 4   Tavg          2944 non-null   float64\n",
      " 5   Depart        2944 non-null   float64\n",
      " 6   DewPoint      2944 non-null   int64  \n",
      " 7   WetBulb       2944 non-null   float64\n",
      " 8   Heat          2944 non-null   float64\n",
      " 9   Cool          2944 non-null   float64\n",
      " 10  Sunrise       2944 non-null   float64\n",
      " 11  Sunset        2944 non-null   float64\n",
      " 12  PrecipTotal   2944 non-null   float64\n",
      " 13  StnPressure   2944 non-null   float64\n",
      " 14  SeaLevel      2944 non-null   float64\n",
      " 15  ResultSpeed   2944 non-null   float64\n",
      " 16  ResultDir     2944 non-null   int64  \n",
      " 17  AvgSpeed      2944 non-null   float64\n",
      " 18  sunrise_diff  2944 non-null   float64\n",
      " 19  sunset_diff   2944 non-null   float64\n",
      " 20  BR            2944 non-null   int64  \n",
      " 21  HZ            2944 non-null   int64  \n",
      " 22  RA            2944 non-null   int64  \n",
      " 23  TSRA          2944 non-null   int64  \n",
      " 24  TS            2944 non-null   int64  \n",
      " 25  DZ            2944 non-null   int64  \n",
      " 26  FG            2944 non-null   int64  \n",
      "dtypes: float64(14), int64(12), object(1)\n",
      "memory usage: 621.1+ KB\n"
     ]
    }
   ],
   "source": [
    "w.info()"
   ]
  },
  {
   "cell_type": "markdown",
   "metadata": {},
   "source": [
    "### 2.1.8 Two weather stations\n",
    "<a id='two_w'></a>\n",
    "\n",
    "There are two weather observations for each day, one for each weather station. Here I separate each station and re-merge on data. This yields one observation for each day, which is necessary to merge with the mosquito data.\n",
    "\n",
    "I resample and compare sample means for each variable. Although there is significant differences statistically, the differences are not likely to be practically significant. For example, Tavg is statistically different between the groups but only by about 1.2 degrees F, less than the margin of error on most home thermometers. \n",
    "\n",
    "Because the groups are close, but not exact, I will average the two to use for analysis. There is not enough of a significant difference to justify separate use, and one or the other would be culled later on due to covariance."
   ]
  },
  {
   "cell_type": "code",
   "execution_count": 23,
   "metadata": {},
   "outputs": [],
   "source": [
    "#breaking two weather stations out based on station and merging together in one \n",
    "w_1 = w[w['Station']==1].drop('Station',axis=1)\n",
    "w_2 = w[w['Station']==2].drop('Station',axis=1)"
   ]
  },
  {
   "cell_type": "code",
   "execution_count": 24,
   "metadata": {},
   "outputs": [],
   "source": [
    "def resample(df):\n",
    "    res = {col : [] for col, ser in df.iteritems()}\n",
    "    for col, ser in df.iteritems():\n",
    "        res[col] = [np.mean(np.random.choice(ser,size=100)) for i in range(len(ser))]\n",
    "    return pd.DataFrame(res)\n",
    "\n",
    "\n",
    "w_1_sam = resample(w_1.drop('Date',axis=1))\n",
    "w_2_sam = resample(w_2.drop('Date',axis=1))"
   ]
  },
  {
   "cell_type": "code",
   "execution_count": 25,
   "metadata": {},
   "outputs": [
    {
     "name": "stdout",
     "output_type": "stream",
     "text": [
      "for Tmin, t is -56.62076913856423, and p is 0.0\n",
      "for Tavg, t is -31.02886440802983, and p is 4.020404591911731e-183\n",
      "for WetBulb, t is -14.378232502709048, and p is 2.356703255293739e-45\n",
      "for Heat, t is 20.42288964763542, and p is 8.318272821389424e-87\n",
      "for Cool, t is -38.86456329038449, and p is 4.848281468526567e-267\n",
      "for StnPressure, t is -106.00949942103098, and p is 0.0\n",
      "for SeaLevel, t is 16.583358523714292, and p is 4.086777296551439e-59\n",
      "for HZ, t is -34.14104296815195, and p is 1.6759063617316336e-215\n",
      "for DZ, t is -16.362692182669402, and p is 1.15351602755834e-57\n"
     ]
    }
   ],
   "source": [
    "from scipy.stats import ttest_ind\n",
    "\n",
    "for col in w_1_sam.columns:\n",
    "    t, p = ttest_ind(w_1_sam[col],w_2_sam[col])\n",
    "    if p < 0.1**(len(w_1_sam.columns)):\n",
    "        print('for {}, t is {}, and p is {}'.format(col,t,p))"
   ]
  },
  {
   "cell_type": "code",
   "execution_count": 26,
   "metadata": {},
   "outputs": [
    {
     "data": {
      "text/html": [
       "<div>\n",
       "<style scoped>\n",
       "    .dataframe tbody tr th:only-of-type {\n",
       "        vertical-align: middle;\n",
       "    }\n",
       "\n",
       "    .dataframe tbody tr th {\n",
       "        vertical-align: top;\n",
       "    }\n",
       "\n",
       "    .dataframe thead th {\n",
       "        text-align: right;\n",
       "    }\n",
       "</style>\n",
       "<table border=\"1\" class=\"dataframe\">\n",
       "  <thead>\n",
       "    <tr style=\"text-align: right;\">\n",
       "      <th></th>\n",
       "      <th>Tmax</th>\n",
       "      <th>Tmin</th>\n",
       "      <th>Tavg</th>\n",
       "      <th>Depart</th>\n",
       "      <th>DewPoint</th>\n",
       "      <th>WetBulb</th>\n",
       "      <th>Heat</th>\n",
       "      <th>Cool</th>\n",
       "      <th>Sunrise</th>\n",
       "      <th>Sunset</th>\n",
       "      <th>...</th>\n",
       "      <th>AvgSpeed</th>\n",
       "      <th>sunrise_diff</th>\n",
       "      <th>sunset_diff</th>\n",
       "      <th>BR</th>\n",
       "      <th>HZ</th>\n",
       "      <th>RA</th>\n",
       "      <th>TSRA</th>\n",
       "      <th>TS</th>\n",
       "      <th>DZ</th>\n",
       "      <th>FG</th>\n",
       "    </tr>\n",
       "  </thead>\n",
       "  <tbody>\n",
       "    <tr>\n",
       "      <th>count</th>\n",
       "      <td>1472.000000</td>\n",
       "      <td>1472.000000</td>\n",
       "      <td>1472.000000</td>\n",
       "      <td>1472.000000</td>\n",
       "      <td>1472.000000</td>\n",
       "      <td>1472.000000</td>\n",
       "      <td>1472.000000</td>\n",
       "      <td>1472.000000</td>\n",
       "      <td>1472.000000</td>\n",
       "      <td>1472.000000</td>\n",
       "      <td>...</td>\n",
       "      <td>1472.000000</td>\n",
       "      <td>1472.000000</td>\n",
       "      <td>1472.000000</td>\n",
       "      <td>1472.000000</td>\n",
       "      <td>1472.000000</td>\n",
       "      <td>1472.000000</td>\n",
       "      <td>1472.000000</td>\n",
       "      <td>1472.000000</td>\n",
       "      <td>1472.000000</td>\n",
       "      <td>1472.000000</td>\n",
       "    </tr>\n",
       "    <tr>\n",
       "      <th>mean</th>\n",
       "      <td>-0.394246</td>\n",
       "      <td>-2.161936</td>\n",
       "      <td>-1.174592</td>\n",
       "      <td>-0.017486</td>\n",
       "      <td>-0.248845</td>\n",
       "      <td>-0.499062</td>\n",
       "      <td>0.452846</td>\n",
       "      <td>-0.865808</td>\n",
       "      <td>-0.369640</td>\n",
       "      <td>0.151399</td>\n",
       "      <td>...</td>\n",
       "      <td>-0.023436</td>\n",
       "      <td>-0.113770</td>\n",
       "      <td>0.181963</td>\n",
       "      <td>0.005931</td>\n",
       "      <td>-0.035652</td>\n",
       "      <td>0.009341</td>\n",
       "      <td>-0.005333</td>\n",
       "      <td>-0.002969</td>\n",
       "      <td>-0.012385</td>\n",
       "      <td>0.003804</td>\n",
       "    </tr>\n",
       "    <tr>\n",
       "      <th>std</th>\n",
       "      <td>1.626396</td>\n",
       "      <td>1.477347</td>\n",
       "      <td>1.465883</td>\n",
       "      <td>0.978568</td>\n",
       "      <td>1.570987</td>\n",
       "      <td>1.367528</td>\n",
       "      <td>0.866751</td>\n",
       "      <td>0.814678</td>\n",
       "      <td>9.155917</td>\n",
       "      <td>12.512646</td>\n",
       "      <td>...</td>\n",
       "      <td>0.455558</td>\n",
       "      <td>1.268245</td>\n",
       "      <td>1.520403</td>\n",
       "      <td>0.063181</td>\n",
       "      <td>0.040527</td>\n",
       "      <td>0.066435</td>\n",
       "      <td>0.043432</td>\n",
       "      <td>0.044850</td>\n",
       "      <td>0.029131</td>\n",
       "      <td>0.016701</td>\n",
       "    </tr>\n",
       "    <tr>\n",
       "      <th>min</th>\n",
       "      <td>-5.840000</td>\n",
       "      <td>-7.250000</td>\n",
       "      <td>-6.280000</td>\n",
       "      <td>-3.190000</td>\n",
       "      <td>-4.970000</td>\n",
       "      <td>-5.050000</td>\n",
       "      <td>-2.330000</td>\n",
       "      <td>-3.630000</td>\n",
       "      <td>-26.280000</td>\n",
       "      <td>-48.960000</td>\n",
       "      <td>...</td>\n",
       "      <td>-1.639000</td>\n",
       "      <td>-3.020000</td>\n",
       "      <td>-6.010000</td>\n",
       "      <td>-0.190000</td>\n",
       "      <td>-0.180000</td>\n",
       "      <td>-0.190000</td>\n",
       "      <td>-0.150000</td>\n",
       "      <td>-0.170000</td>\n",
       "      <td>-0.120000</td>\n",
       "      <td>-0.080000</td>\n",
       "    </tr>\n",
       "    <tr>\n",
       "      <th>25%</th>\n",
       "      <td>-1.560000</td>\n",
       "      <td>-3.130000</td>\n",
       "      <td>-2.122500</td>\n",
       "      <td>-0.650000</td>\n",
       "      <td>-1.340000</td>\n",
       "      <td>-1.422500</td>\n",
       "      <td>-0.110000</td>\n",
       "      <td>-1.440000</td>\n",
       "      <td>-6.265000</td>\n",
       "      <td>-8.450000</td>\n",
       "      <td>...</td>\n",
       "      <td>-0.328250</td>\n",
       "      <td>-0.970000</td>\n",
       "      <td>-0.880000</td>\n",
       "      <td>-0.040000</td>\n",
       "      <td>-0.060000</td>\n",
       "      <td>-0.030000</td>\n",
       "      <td>-0.030000</td>\n",
       "      <td>-0.030000</td>\n",
       "      <td>-0.030000</td>\n",
       "      <td>-0.010000</td>\n",
       "    </tr>\n",
       "    <tr>\n",
       "      <th>50%</th>\n",
       "      <td>-0.355000</td>\n",
       "      <td>-2.170000</td>\n",
       "      <td>-1.180000</td>\n",
       "      <td>0.000000</td>\n",
       "      <td>-0.205000</td>\n",
       "      <td>-0.505000</td>\n",
       "      <td>0.460000</td>\n",
       "      <td>-0.875000</td>\n",
       "      <td>-0.155000</td>\n",
       "      <td>0.105000</td>\n",
       "      <td>...</td>\n",
       "      <td>-0.044000</td>\n",
       "      <td>-0.515000</td>\n",
       "      <td>0.645000</td>\n",
       "      <td>0.010000</td>\n",
       "      <td>-0.040000</td>\n",
       "      <td>0.010000</td>\n",
       "      <td>-0.010000</td>\n",
       "      <td>0.000000</td>\n",
       "      <td>-0.010000</td>\n",
       "      <td>0.000000</td>\n",
       "    </tr>\n",
       "    <tr>\n",
       "      <th>75%</th>\n",
       "      <td>0.750000</td>\n",
       "      <td>-1.130000</td>\n",
       "      <td>-0.207500</td>\n",
       "      <td>0.640000</td>\n",
       "      <td>0.790000</td>\n",
       "      <td>0.462500</td>\n",
       "      <td>1.010000</td>\n",
       "      <td>-0.320000</td>\n",
       "      <td>5.650000</td>\n",
       "      <td>8.857500</td>\n",
       "      <td>...</td>\n",
       "      <td>0.281750</td>\n",
       "      <td>0.820000</td>\n",
       "      <td>1.250000</td>\n",
       "      <td>0.050000</td>\n",
       "      <td>-0.010000</td>\n",
       "      <td>0.050000</td>\n",
       "      <td>0.020000</td>\n",
       "      <td>0.030000</td>\n",
       "      <td>0.010000</td>\n",
       "      <td>0.010000</td>\n",
       "    </tr>\n",
       "    <tr>\n",
       "      <th>max</th>\n",
       "      <td>5.720000</td>\n",
       "      <td>2.230000</td>\n",
       "      <td>3.800000</td>\n",
       "      <td>3.640000</td>\n",
       "      <td>5.310000</td>\n",
       "      <td>4.300000</td>\n",
       "      <td>4.080000</td>\n",
       "      <td>2.060000</td>\n",
       "      <td>28.950000</td>\n",
       "      <td>40.840000</td>\n",
       "      <td>...</td>\n",
       "      <td>1.479000</td>\n",
       "      <td>6.130000</td>\n",
       "      <td>3.460000</td>\n",
       "      <td>0.190000</td>\n",
       "      <td>0.090000</td>\n",
       "      <td>0.240000</td>\n",
       "      <td>0.180000</td>\n",
       "      <td>0.170000</td>\n",
       "      <td>0.090000</td>\n",
       "      <td>0.060000</td>\n",
       "    </tr>\n",
       "  </tbody>\n",
       "</table>\n",
       "<p>8 rows × 25 columns</p>\n",
       "</div>"
      ],
      "text/plain": [
       "              Tmax         Tmin         Tavg       Depart     DewPoint  \\\n",
       "count  1472.000000  1472.000000  1472.000000  1472.000000  1472.000000   \n",
       "mean     -0.394246    -2.161936    -1.174592    -0.017486    -0.248845   \n",
       "std       1.626396     1.477347     1.465883     0.978568     1.570987   \n",
       "min      -5.840000    -7.250000    -6.280000    -3.190000    -4.970000   \n",
       "25%      -1.560000    -3.130000    -2.122500    -0.650000    -1.340000   \n",
       "50%      -0.355000    -2.170000    -1.180000     0.000000    -0.205000   \n",
       "75%       0.750000    -1.130000    -0.207500     0.640000     0.790000   \n",
       "max       5.720000     2.230000     3.800000     3.640000     5.310000   \n",
       "\n",
       "           WetBulb         Heat         Cool      Sunrise       Sunset  ...  \\\n",
       "count  1472.000000  1472.000000  1472.000000  1472.000000  1472.000000  ...   \n",
       "mean     -0.499062     0.452846    -0.865808    -0.369640     0.151399  ...   \n",
       "std       1.367528     0.866751     0.814678     9.155917    12.512646  ...   \n",
       "min      -5.050000    -2.330000    -3.630000   -26.280000   -48.960000  ...   \n",
       "25%      -1.422500    -0.110000    -1.440000    -6.265000    -8.450000  ...   \n",
       "50%      -0.505000     0.460000    -0.875000    -0.155000     0.105000  ...   \n",
       "75%       0.462500     1.010000    -0.320000     5.650000     8.857500  ...   \n",
       "max       4.300000     4.080000     2.060000    28.950000    40.840000  ...   \n",
       "\n",
       "          AvgSpeed  sunrise_diff  sunset_diff           BR           HZ  \\\n",
       "count  1472.000000   1472.000000  1472.000000  1472.000000  1472.000000   \n",
       "mean     -0.023436     -0.113770     0.181963     0.005931    -0.035652   \n",
       "std       0.455558      1.268245     1.520403     0.063181     0.040527   \n",
       "min      -1.639000     -3.020000    -6.010000    -0.190000    -0.180000   \n",
       "25%      -0.328250     -0.970000    -0.880000    -0.040000    -0.060000   \n",
       "50%      -0.044000     -0.515000     0.645000     0.010000    -0.040000   \n",
       "75%       0.281750      0.820000     1.250000     0.050000    -0.010000   \n",
       "max       1.479000      6.130000     3.460000     0.190000     0.090000   \n",
       "\n",
       "                RA         TSRA           TS           DZ           FG  \n",
       "count  1472.000000  1472.000000  1472.000000  1472.000000  1472.000000  \n",
       "mean      0.009341    -0.005333    -0.002969    -0.012385     0.003804  \n",
       "std       0.066435     0.043432     0.044850     0.029131     0.016701  \n",
       "min      -0.190000    -0.150000    -0.170000    -0.120000    -0.080000  \n",
       "25%      -0.030000    -0.030000    -0.030000    -0.030000    -0.010000  \n",
       "50%       0.010000    -0.010000     0.000000    -0.010000     0.000000  \n",
       "75%       0.050000     0.020000     0.030000     0.010000     0.010000  \n",
       "max       0.240000     0.180000     0.170000     0.090000     0.060000  \n",
       "\n",
       "[8 rows x 25 columns]"
      ]
     },
     "execution_count": 26,
     "metadata": {},
     "output_type": "execute_result"
    }
   ],
   "source": [
    "w_diff = w_1_sam - w_2_sam\n",
    "w_diff.describe()"
   ]
  },
  {
   "cell_type": "code",
   "execution_count": 27,
   "metadata": {},
   "outputs": [],
   "source": [
    "#averaging the two weather sets\n",
    "w_avg = (w_1.set_index('Date') + w_2.set_index('Date')) / 2\n",
    "w_avg = w_avg.reset_index()"
   ]
  },
  {
   "cell_type": "code",
   "execution_count": 28,
   "metadata": {},
   "outputs": [],
   "source": [
    "w_avg['Date'] = pd.to_datetime(w_avg['Date'])"
   ]
  },
  {
   "cell_type": "markdown",
   "metadata": {},
   "source": [
    "## 2.2 Mosquito and Spray Data\n",
    "<a id='mosquito_and_spray'></a>\n"
   ]
  },
  {
   "cell_type": "markdown",
   "metadata": {},
   "source": [
    "### 2.2.1 Spray Data Exploration\n",
    "<a id ='spray'></a>"
   ]
  },
  {
   "cell_type": "code",
   "execution_count": 29,
   "metadata": {
    "scrolled": true
   },
   "outputs": [
    {
     "name": "stdout",
     "output_type": "stream",
     "text": [
      "<class 'pandas.core.frame.DataFrame'>\n",
      "RangeIndex: 14835 entries, 0 to 14834\n",
      "Data columns (total 4 columns):\n",
      " #   Column     Non-Null Count  Dtype  \n",
      "---  ------     --------------  -----  \n",
      " 0   Date       14835 non-null  object \n",
      " 1   Time       14251 non-null  object \n",
      " 2   Latitude   14835 non-null  float64\n",
      " 3   Longitude  14835 non-null  float64\n",
      "dtypes: float64(2), object(2)\n",
      "memory usage: 463.7+ KB\n"
     ]
    }
   ],
   "source": [
    "sp.info()"
   ]
  },
  {
   "cell_type": "code",
   "execution_count": 30,
   "metadata": {},
   "outputs": [
    {
     "data": {
      "text/html": [
       "<div>\n",
       "<style scoped>\n",
       "    .dataframe tbody tr th:only-of-type {\n",
       "        vertical-align: middle;\n",
       "    }\n",
       "\n",
       "    .dataframe tbody tr th {\n",
       "        vertical-align: top;\n",
       "    }\n",
       "\n",
       "    .dataframe thead th {\n",
       "        text-align: right;\n",
       "    }\n",
       "</style>\n",
       "<table border=\"1\" class=\"dataframe\">\n",
       "  <thead>\n",
       "    <tr style=\"text-align: right;\">\n",
       "      <th></th>\n",
       "      <th>Date</th>\n",
       "      <th>Time</th>\n",
       "      <th>Latitude</th>\n",
       "      <th>Longitude</th>\n",
       "    </tr>\n",
       "  </thead>\n",
       "  <tbody>\n",
       "    <tr>\n",
       "      <th>0</th>\n",
       "      <td>2011-08-29</td>\n",
       "      <td>6:56:58 PM</td>\n",
       "      <td>42.391623</td>\n",
       "      <td>-88.089163</td>\n",
       "    </tr>\n",
       "    <tr>\n",
       "      <th>1</th>\n",
       "      <td>2011-08-29</td>\n",
       "      <td>6:57:08 PM</td>\n",
       "      <td>42.391348</td>\n",
       "      <td>-88.089163</td>\n",
       "    </tr>\n",
       "    <tr>\n",
       "      <th>2</th>\n",
       "      <td>2011-08-29</td>\n",
       "      <td>6:57:18 PM</td>\n",
       "      <td>42.391022</td>\n",
       "      <td>-88.089157</td>\n",
       "    </tr>\n",
       "    <tr>\n",
       "      <th>3</th>\n",
       "      <td>2011-08-29</td>\n",
       "      <td>6:57:28 PM</td>\n",
       "      <td>42.390637</td>\n",
       "      <td>-88.089158</td>\n",
       "    </tr>\n",
       "    <tr>\n",
       "      <th>4</th>\n",
       "      <td>2011-08-29</td>\n",
       "      <td>6:57:38 PM</td>\n",
       "      <td>42.390410</td>\n",
       "      <td>-88.088858</td>\n",
       "    </tr>\n",
       "  </tbody>\n",
       "</table>\n",
       "</div>"
      ],
      "text/plain": [
       "         Date        Time   Latitude  Longitude\n",
       "0  2011-08-29  6:56:58 PM  42.391623 -88.089163\n",
       "1  2011-08-29  6:57:08 PM  42.391348 -88.089163\n",
       "2  2011-08-29  6:57:18 PM  42.391022 -88.089157\n",
       "3  2011-08-29  6:57:28 PM  42.390637 -88.089158\n",
       "4  2011-08-29  6:57:38 PM  42.390410 -88.088858"
      ]
     },
     "execution_count": 30,
     "metadata": {},
     "output_type": "execute_result"
    }
   ],
   "source": [
    "sp.head()"
   ]
  },
  {
   "cell_type": "markdown",
   "metadata": {},
   "source": [
    "### 2.2.2 Mosquito trap data\n",
    "<a id='trap'></a>\n"
   ]
  },
  {
   "cell_type": "code",
   "execution_count": 31,
   "metadata": {},
   "outputs": [
    {
     "name": "stdout",
     "output_type": "stream",
     "text": [
      "<class 'pandas.core.frame.DataFrame'>\n",
      "RangeIndex: 10506 entries, 0 to 10505\n",
      "Data columns (total 12 columns):\n",
      " #   Column                  Non-Null Count  Dtype  \n",
      "---  ------                  --------------  -----  \n",
      " 0   Date                    10506 non-null  object \n",
      " 1   Address                 10506 non-null  object \n",
      " 2   Species                 10506 non-null  object \n",
      " 3   Block                   10506 non-null  int64  \n",
      " 4   Street                  10506 non-null  object \n",
      " 5   Trap                    10506 non-null  object \n",
      " 6   AddressNumberAndStreet  10506 non-null  object \n",
      " 7   Latitude                10506 non-null  float64\n",
      " 8   Longitude               10506 non-null  float64\n",
      " 9   AddressAccuracy         10506 non-null  int64  \n",
      " 10  NumMosquitos            10506 non-null  int64  \n",
      " 11  WnvPresent              10506 non-null  int64  \n",
      "dtypes: float64(2), int64(4), object(6)\n",
      "memory usage: 985.1+ KB\n"
     ]
    }
   ],
   "source": [
    "df.info()"
   ]
  },
  {
   "cell_type": "code",
   "execution_count": 32,
   "metadata": {},
   "outputs": [
    {
     "data": {
      "text/html": [
       "<div>\n",
       "<style scoped>\n",
       "    .dataframe tbody tr th:only-of-type {\n",
       "        vertical-align: middle;\n",
       "    }\n",
       "\n",
       "    .dataframe tbody tr th {\n",
       "        vertical-align: top;\n",
       "    }\n",
       "\n",
       "    .dataframe thead th {\n",
       "        text-align: right;\n",
       "    }\n",
       "</style>\n",
       "<table border=\"1\" class=\"dataframe\">\n",
       "  <thead>\n",
       "    <tr style=\"text-align: right;\">\n",
       "      <th></th>\n",
       "      <th>Date</th>\n",
       "      <th>Address</th>\n",
       "      <th>Species</th>\n",
       "      <th>Block</th>\n",
       "      <th>Street</th>\n",
       "      <th>Trap</th>\n",
       "      <th>AddressNumberAndStreet</th>\n",
       "      <th>Latitude</th>\n",
       "      <th>Longitude</th>\n",
       "      <th>AddressAccuracy</th>\n",
       "      <th>NumMosquitos</th>\n",
       "      <th>WnvPresent</th>\n",
       "    </tr>\n",
       "  </thead>\n",
       "  <tbody>\n",
       "    <tr>\n",
       "      <th>0</th>\n",
       "      <td>2007-05-29</td>\n",
       "      <td>4100 North Oak Park Avenue, Chicago, IL 60634,...</td>\n",
       "      <td>CULEX PIPIENS/RESTUANS</td>\n",
       "      <td>41</td>\n",
       "      <td>N OAK PARK AVE</td>\n",
       "      <td>T002</td>\n",
       "      <td>4100  N OAK PARK AVE, Chicago, IL</td>\n",
       "      <td>41.954690</td>\n",
       "      <td>-87.800991</td>\n",
       "      <td>9</td>\n",
       "      <td>1</td>\n",
       "      <td>0</td>\n",
       "    </tr>\n",
       "    <tr>\n",
       "      <th>1</th>\n",
       "      <td>2007-05-29</td>\n",
       "      <td>4100 North Oak Park Avenue, Chicago, IL 60634,...</td>\n",
       "      <td>CULEX RESTUANS</td>\n",
       "      <td>41</td>\n",
       "      <td>N OAK PARK AVE</td>\n",
       "      <td>T002</td>\n",
       "      <td>4100  N OAK PARK AVE, Chicago, IL</td>\n",
       "      <td>41.954690</td>\n",
       "      <td>-87.800991</td>\n",
       "      <td>9</td>\n",
       "      <td>1</td>\n",
       "      <td>0</td>\n",
       "    </tr>\n",
       "    <tr>\n",
       "      <th>2</th>\n",
       "      <td>2007-05-29</td>\n",
       "      <td>6200 North Mandell Avenue, Chicago, IL 60646, USA</td>\n",
       "      <td>CULEX RESTUANS</td>\n",
       "      <td>62</td>\n",
       "      <td>N MANDELL AVE</td>\n",
       "      <td>T007</td>\n",
       "      <td>6200  N MANDELL AVE, Chicago, IL</td>\n",
       "      <td>41.994991</td>\n",
       "      <td>-87.769279</td>\n",
       "      <td>9</td>\n",
       "      <td>1</td>\n",
       "      <td>0</td>\n",
       "    </tr>\n",
       "    <tr>\n",
       "      <th>3</th>\n",
       "      <td>2007-05-29</td>\n",
       "      <td>7900 West Foster Avenue, Chicago, IL 60656, USA</td>\n",
       "      <td>CULEX PIPIENS/RESTUANS</td>\n",
       "      <td>79</td>\n",
       "      <td>W FOSTER AVE</td>\n",
       "      <td>T015</td>\n",
       "      <td>7900  W FOSTER AVE, Chicago, IL</td>\n",
       "      <td>41.974089</td>\n",
       "      <td>-87.824812</td>\n",
       "      <td>8</td>\n",
       "      <td>1</td>\n",
       "      <td>0</td>\n",
       "    </tr>\n",
       "    <tr>\n",
       "      <th>4</th>\n",
       "      <td>2007-05-29</td>\n",
       "      <td>7900 West Foster Avenue, Chicago, IL 60656, USA</td>\n",
       "      <td>CULEX RESTUANS</td>\n",
       "      <td>79</td>\n",
       "      <td>W FOSTER AVE</td>\n",
       "      <td>T015</td>\n",
       "      <td>7900  W FOSTER AVE, Chicago, IL</td>\n",
       "      <td>41.974089</td>\n",
       "      <td>-87.824812</td>\n",
       "      <td>8</td>\n",
       "      <td>4</td>\n",
       "      <td>0</td>\n",
       "    </tr>\n",
       "  </tbody>\n",
       "</table>\n",
       "</div>"
      ],
      "text/plain": [
       "         Date                                            Address  \\\n",
       "0  2007-05-29  4100 North Oak Park Avenue, Chicago, IL 60634,...   \n",
       "1  2007-05-29  4100 North Oak Park Avenue, Chicago, IL 60634,...   \n",
       "2  2007-05-29  6200 North Mandell Avenue, Chicago, IL 60646, USA   \n",
       "3  2007-05-29    7900 West Foster Avenue, Chicago, IL 60656, USA   \n",
       "4  2007-05-29    7900 West Foster Avenue, Chicago, IL 60656, USA   \n",
       "\n",
       "                  Species  Block           Street  Trap  \\\n",
       "0  CULEX PIPIENS/RESTUANS     41   N OAK PARK AVE  T002   \n",
       "1          CULEX RESTUANS     41   N OAK PARK AVE  T002   \n",
       "2          CULEX RESTUANS     62    N MANDELL AVE  T007   \n",
       "3  CULEX PIPIENS/RESTUANS     79     W FOSTER AVE  T015   \n",
       "4          CULEX RESTUANS     79     W FOSTER AVE  T015   \n",
       "\n",
       "              AddressNumberAndStreet   Latitude  Longitude  AddressAccuracy  \\\n",
       "0  4100  N OAK PARK AVE, Chicago, IL  41.954690 -87.800991                9   \n",
       "1  4100  N OAK PARK AVE, Chicago, IL  41.954690 -87.800991                9   \n",
       "2   6200  N MANDELL AVE, Chicago, IL  41.994991 -87.769279                9   \n",
       "3    7900  W FOSTER AVE, Chicago, IL  41.974089 -87.824812                8   \n",
       "4    7900  W FOSTER AVE, Chicago, IL  41.974089 -87.824812                8   \n",
       "\n",
       "   NumMosquitos  WnvPresent  \n",
       "0             1           0  \n",
       "1             1           0  \n",
       "2             1           0  \n",
       "3             1           0  \n",
       "4             4           0  "
      ]
     },
     "execution_count": 32,
     "metadata": {},
     "output_type": "execute_result"
    }
   ],
   "source": [
    "df.head()"
   ]
  },
  {
   "cell_type": "markdown",
   "metadata": {},
   "source": [
    "### 2.2.3 Integrating spray and mosquito data\n",
    "<a id='ms'></a>\n",
    "\n",
    "Insecticide sprays, unlike weather, are highly location dependant. A particular spray affects a small area and can last for a varying amount of time dependant on the type of insecticide used, the amount sprayed, the total are covered and other factors. These factors are not included, so to integrate spray data, I look at different time intervals and different location proximities.\n",
    "\n",
    "After this calculation I merge the data sets and drop a few redundant columns."
   ]
  },
  {
   "cell_type": "code",
   "execution_count": 33,
   "metadata": {
    "scrolled": true
   },
   "outputs": [],
   "source": [
    "#integrating spray data into mosquito data\n",
    "\n",
    "mi_per_deg_lat = 364000/5280 #36400 ft per degree lat\n",
    "mi_per_deg_long = 288200/5280 #288200 ft per degree long\n",
    "\n",
    "#chaning date columns to pandas datetime for easy handling\n",
    "sp['Date'] = pd.to_datetime(sp['Date'])\n",
    "df['Date'] = pd.to_datetime(df['Date'])\n",
    "\n",
    "\n",
    "def sprayed(dist, time, traps, sprays):\n",
    "    \"\"\"Returns wether or not a mosquito trap locations was sprayed within a certain distance and time frame. \n",
    "    Distance is in miles, time is 0 for year, 1 for month, and 2 for day. d is dataset\"\"\"\n",
    "    s = []\n",
    "    #for each trap, find the distances to all sprays within the timeframe, if the miniumum is below \n",
    "    # the threshold, than it was sprayed during that time period\n",
    "    period = {0:'y',1:'m',2:'d'}\n",
    "    \n",
    "    for i,r  in traps.iterrows():\n",
    "       \n",
    "        #creating a mask to select relevant spray locations based on date\n",
    "        mask = sprays['Date'].dt.to_period(period[time]) == r[0].to_period(period[time]) \n",
    "        \n",
    "        #passing the loop if there are no sprays during the right window\n",
    "        if mask.sum() == 0:\n",
    "            s.append(0)\n",
    "            continue\n",
    "        spray = sprays[mask]\n",
    "        \n",
    "        #finding euclidian distance based on lat/long converted to miles\n",
    "        lat_d = (spray.iloc[:,2]-r[7]) * mi_per_deg_lat\n",
    "        long_d = (spray.iloc[:,3]-r[8])* mi_per_deg_long\n",
    "        d = np.sqrt(lat_d**2 + long_d**2)\n",
    "        \n",
    "        #if the closest spray in the time period is within the cutoff distance, assign 1, otherwise 0\n",
    "        if d.min() <= dist:\n",
    "            s.append(1) \n",
    "        else: \n",
    "            s.append(0)\n",
    "\n",
    "    return s"
   ]
  },
  {
   "cell_type": "code",
   "execution_count": 34,
   "metadata": {},
   "outputs": [],
   "source": [
    "df['spray_year'] = sprayed(1,0,df,sp)\n",
    "df['spray_month'] = sprayed(1,1,df,sp)\n",
    "df['spray_day'] = sprayed(1,2,df,sp)"
   ]
  },
  {
   "cell_type": "code",
   "execution_count": 35,
   "metadata": {},
   "outputs": [
    {
     "name": "stdout",
     "output_type": "stream",
     "text": [
      "<class 'pandas.core.frame.DataFrame'>\n",
      "RangeIndex: 10506 entries, 0 to 10505\n",
      "Data columns (total 15 columns):\n",
      " #   Column                  Non-Null Count  Dtype         \n",
      "---  ------                  --------------  -----         \n",
      " 0   Date                    10506 non-null  datetime64[ns]\n",
      " 1   Address                 10506 non-null  object        \n",
      " 2   Species                 10506 non-null  object        \n",
      " 3   Block                   10506 non-null  int64         \n",
      " 4   Street                  10506 non-null  object        \n",
      " 5   Trap                    10506 non-null  object        \n",
      " 6   AddressNumberAndStreet  10506 non-null  object        \n",
      " 7   Latitude                10506 non-null  float64       \n",
      " 8   Longitude               10506 non-null  float64       \n",
      " 9   AddressAccuracy         10506 non-null  int64         \n",
      " 10  NumMosquitos            10506 non-null  int64         \n",
      " 11  WnvPresent              10506 non-null  int64         \n",
      " 12  spray_year              10506 non-null  int64         \n",
      " 13  spray_month             10506 non-null  int64         \n",
      " 14  spray_day               10506 non-null  int64         \n",
      "dtypes: datetime64[ns](1), float64(2), int64(7), object(5)\n",
      "memory usage: 1.2+ MB\n"
     ]
    }
   ],
   "source": [
    "df.info()"
   ]
  },
  {
   "cell_type": "code",
   "execution_count": 36,
   "metadata": {},
   "outputs": [
    {
     "data": {
      "text/plain": [
       "60"
      ]
     },
     "execution_count": 36,
     "metadata": {},
     "output_type": "execute_result"
    }
   ],
   "source": [
    "df['spray_day'].sum()"
   ]
  },
  {
   "cell_type": "code",
   "execution_count": 37,
   "metadata": {},
   "outputs": [
    {
     "data": {
      "text/plain": [
       "402"
      ]
     },
     "execution_count": 37,
     "metadata": {},
     "output_type": "execute_result"
    }
   ],
   "source": [
    "df['spray_month'].sum()"
   ]
  },
  {
   "cell_type": "code",
   "execution_count": 38,
   "metadata": {},
   "outputs": [
    {
     "data": {
      "text/plain": [
       "1184"
      ]
     },
     "execution_count": 38,
     "metadata": {},
     "output_type": "execute_result"
    }
   ],
   "source": [
    "df['spray_year'].sum()"
   ]
  },
  {
   "cell_type": "code",
   "execution_count": 39,
   "metadata": {},
   "outputs": [],
   "source": [
    "df = df.drop(['Address','Block','Street','AddressNumberAndStreet','AddressAccuracy'],axis=1)"
   ]
  },
  {
   "cell_type": "code",
   "execution_count": 40,
   "metadata": {},
   "outputs": [
    {
     "name": "stdout",
     "output_type": "stream",
     "text": [
      "<class 'pandas.core.frame.DataFrame'>\n",
      "RangeIndex: 10506 entries, 0 to 10505\n",
      "Data columns (total 10 columns):\n",
      " #   Column        Non-Null Count  Dtype         \n",
      "---  ------        --------------  -----         \n",
      " 0   Date          10506 non-null  datetime64[ns]\n",
      " 1   Species       10506 non-null  object        \n",
      " 2   Trap          10506 non-null  object        \n",
      " 3   Latitude      10506 non-null  float64       \n",
      " 4   Longitude     10506 non-null  float64       \n",
      " 5   NumMosquitos  10506 non-null  int64         \n",
      " 6   WnvPresent    10506 non-null  int64         \n",
      " 7   spray_year    10506 non-null  int64         \n",
      " 8   spray_month   10506 non-null  int64         \n",
      " 9   spray_day     10506 non-null  int64         \n",
      "dtypes: datetime64[ns](1), float64(2), int64(5), object(2)\n",
      "memory usage: 820.9+ KB\n"
     ]
    }
   ],
   "source": [
    "df.info()"
   ]
  },
  {
   "cell_type": "code",
   "execution_count": 46,
   "metadata": {},
   "outputs": [],
   "source": [
    "df_avg = df.merge(w_avg,on='Date')"
   ]
  },
  {
   "cell_type": "code",
   "execution_count": 47,
   "metadata": {},
   "outputs": [
    {
     "name": "stdout",
     "output_type": "stream",
     "text": [
      "<class 'pandas.core.frame.DataFrame'>\n",
      "Int64Index: 10506 entries, 0 to 10505\n",
      "Data columns (total 35 columns):\n",
      " #   Column        Non-Null Count  Dtype         \n",
      "---  ------        --------------  -----         \n",
      " 0   Date          10506 non-null  datetime64[ns]\n",
      " 1   Species       10506 non-null  object        \n",
      " 2   Trap          10506 non-null  object        \n",
      " 3   Latitude      10506 non-null  float64       \n",
      " 4   Longitude     10506 non-null  float64       \n",
      " 5   NumMosquitos  10506 non-null  int64         \n",
      " 6   WnvPresent    10506 non-null  int64         \n",
      " 7   spray_year    10506 non-null  int64         \n",
      " 8   spray_month   10506 non-null  int64         \n",
      " 9   spray_day     10506 non-null  int64         \n",
      " 10  Tmax          10506 non-null  float64       \n",
      " 11  Tmin          10506 non-null  float64       \n",
      " 12  Tavg          10506 non-null  float64       \n",
      " 13  Depart        10506 non-null  float64       \n",
      " 14  DewPoint      10506 non-null  float64       \n",
      " 15  WetBulb       10506 non-null  float64       \n",
      " 16  Heat          10506 non-null  float64       \n",
      " 17  Cool          10506 non-null  float64       \n",
      " 18  Sunrise       10506 non-null  float64       \n",
      " 19  Sunset        10506 non-null  float64       \n",
      " 20  PrecipTotal   10506 non-null  float64       \n",
      " 21  StnPressure   10506 non-null  float64       \n",
      " 22  SeaLevel      10506 non-null  float64       \n",
      " 23  ResultSpeed   10506 non-null  float64       \n",
      " 24  ResultDir     10506 non-null  float64       \n",
      " 25  AvgSpeed      10506 non-null  float64       \n",
      " 26  sunrise_diff  10506 non-null  float64       \n",
      " 27  sunset_diff   10506 non-null  float64       \n",
      " 28  BR            10506 non-null  float64       \n",
      " 29  HZ            10506 non-null  float64       \n",
      " 30  RA            10506 non-null  float64       \n",
      " 31  TSRA          10506 non-null  float64       \n",
      " 32  TS            10506 non-null  float64       \n",
      " 33  DZ            10506 non-null  float64       \n",
      " 34  FG            10506 non-null  float64       \n",
      "dtypes: datetime64[ns](1), float64(27), int64(5), object(2)\n",
      "memory usage: 2.9+ MB\n"
     ]
    }
   ],
   "source": [
    "df_avg.info()"
   ]
  },
  {
   "cell_type": "markdown",
   "metadata": {},
   "source": [
    "## 2.3 EDA and Feature Engineering\n",
    "<a id='EDA'></a>"
   ]
  },
  {
   "cell_type": "markdown",
   "metadata": {},
   "source": [
    "### 2.3.1 Distributions and Pairplots\n",
    "<a id='dist'></a>\n"
   ]
  },
  {
   "cell_type": "code",
   "execution_count": 48,
   "metadata": {
    "scrolled": true
   },
   "outputs": [
    {
     "name": "stdout",
     "output_type": "stream",
     "text": [
      "<class 'pandas.core.frame.DataFrame'>\n",
      "Int64Index: 10506 entries, 0 to 10505\n",
      "Data columns (total 32 columns):\n",
      " #   Column        Non-Null Count  Dtype  \n",
      "---  ------        --------------  -----  \n",
      " 0   Latitude      10506 non-null  float64\n",
      " 1   Longitude     10506 non-null  float64\n",
      " 2   NumMosquitos  10506 non-null  int64  \n",
      " 3   WnvPresent    10506 non-null  int64  \n",
      " 4   spray_year    10506 non-null  int64  \n",
      " 5   spray_month   10506 non-null  int64  \n",
      " 6   spray_day     10506 non-null  int64  \n",
      " 7   Tmax          10506 non-null  float64\n",
      " 8   Tmin          10506 non-null  float64\n",
      " 9   Tavg          10506 non-null  float64\n",
      " 10  Depart        10506 non-null  float64\n",
      " 11  DewPoint      10506 non-null  float64\n",
      " 12  WetBulb       10506 non-null  float64\n",
      " 13  Heat          10506 non-null  float64\n",
      " 14  Cool          10506 non-null  float64\n",
      " 15  Sunrise       10506 non-null  float64\n",
      " 16  Sunset        10506 non-null  float64\n",
      " 17  PrecipTotal   10506 non-null  float64\n",
      " 18  StnPressure   10506 non-null  float64\n",
      " 19  SeaLevel      10506 non-null  float64\n",
      " 20  ResultSpeed   10506 non-null  float64\n",
      " 21  ResultDir     10506 non-null  float64\n",
      " 22  AvgSpeed      10506 non-null  float64\n",
      " 23  sunrise_diff  10506 non-null  float64\n",
      " 24  sunset_diff   10506 non-null  float64\n",
      " 25  BR            10506 non-null  float64\n",
      " 26  HZ            10506 non-null  float64\n",
      " 27  RA            10506 non-null  float64\n",
      " 28  TSRA          10506 non-null  float64\n",
      " 29  TS            10506 non-null  float64\n",
      " 30  DZ            10506 non-null  float64\n",
      " 31  FG            10506 non-null  float64\n",
      "dtypes: float64(27), int64(5)\n",
      "memory usage: 2.6 MB\n"
     ]
    }
   ],
   "source": [
    "df_num = df_avg.select_dtypes(include='number')\n",
    "df_num.info()"
   ]
  },
  {
   "cell_type": "code",
   "execution_count": null,
   "metadata": {},
   "outputs": [
    {
     "ename": "NameError",
     "evalue": "name 'filename' is not defined",
     "output_type": "error",
     "traceback": [
      "\u001b[0;31m---------------------------------------------------------------------------\u001b[0m",
      "\u001b[0;31mNameError\u001b[0m                                 Traceback (most recent call last)",
      "\u001b[0;32m<ipython-input-53-bbc33c8720fc>\u001b[0m in \u001b[0;36m<module>\u001b[0;34m\u001b[0m\n\u001b[1;32m      5\u001b[0m     \u001b[0msns\u001b[0m\u001b[0;34m.\u001b[0m\u001b[0mpairplot\u001b[0m\u001b[0;34m(\u001b[0m\u001b[0mdf\u001b[0m\u001b[0;34m,\u001b[0m\u001b[0mvars\u001b[0m\u001b[0;34m=\u001b[0m\u001b[0mv\u001b[0m\u001b[0;34m,\u001b[0m\u001b[0mcorner\u001b[0m\u001b[0;34m=\u001b[0m\u001b[0;32mTrue\u001b[0m\u001b[0;34m,\u001b[0m \u001b[0mkind\u001b[0m \u001b[0;34m=\u001b[0m\u001b[0;34m'reg'\u001b[0m\u001b[0;34m)\u001b[0m\u001b[0;34m\u001b[0m\u001b[0;34m\u001b[0m\u001b[0m\n\u001b[1;32m      6\u001b[0m     \u001b[0mplt\u001b[0m\u001b[0;34m.\u001b[0m\u001b[0msavefig\u001b[0m\u001b[0;34m(\u001b[0m\u001b[0mfilename\u001b[0m\u001b[0;34m,\u001b[0m\u001b[0mdpi\u001b[0m\u001b[0;34m=\u001b[0m\u001b[0;36m60\u001b[0m\u001b[0;34m)\u001b[0m\u001b[0;34m\u001b[0m\u001b[0;34m\u001b[0m\u001b[0m\n\u001b[0;32m----> 7\u001b[0;31m \u001b[0mp_plot\u001b[0m\u001b[0;34m(\u001b[0m\u001b[0mdf_num\u001b[0m\u001b[0;34m,\u001b[0m \u001b[0mvars1\u001b[0m\u001b[0;34m,\u001b[0m \u001b[0;34m'./plots/pairplot.png'\u001b[0m\u001b[0;34m)\u001b[0m\u001b[0;34m\u001b[0m\u001b[0;34m\u001b[0m\u001b[0m\n\u001b[0m",
      "\u001b[0;32m<ipython-input-53-bbc33c8720fc>\u001b[0m in \u001b[0;36mp_plot\u001b[0;34m(df, v, file_name)\u001b[0m\n\u001b[1;32m      4\u001b[0m     \u001b[0max\u001b[0m \u001b[0;34m=\u001b[0m \u001b[0mplt\u001b[0m\u001b[0;34m.\u001b[0m\u001b[0mfigure\u001b[0m\u001b[0;34m(\u001b[0m\u001b[0mfigsize\u001b[0m \u001b[0;34m=\u001b[0m \u001b[0;34m(\u001b[0m\u001b[0;36m30\u001b[0m\u001b[0;34m,\u001b[0m\u001b[0;36m30\u001b[0m\u001b[0;34m)\u001b[0m\u001b[0;34m)\u001b[0m\u001b[0;34m\u001b[0m\u001b[0;34m\u001b[0m\u001b[0m\n\u001b[1;32m      5\u001b[0m     \u001b[0msns\u001b[0m\u001b[0;34m.\u001b[0m\u001b[0mpairplot\u001b[0m\u001b[0;34m(\u001b[0m\u001b[0mdf\u001b[0m\u001b[0;34m,\u001b[0m\u001b[0mvars\u001b[0m\u001b[0;34m=\u001b[0m\u001b[0mv\u001b[0m\u001b[0;34m,\u001b[0m\u001b[0mcorner\u001b[0m\u001b[0;34m=\u001b[0m\u001b[0;32mTrue\u001b[0m\u001b[0;34m,\u001b[0m \u001b[0mkind\u001b[0m \u001b[0;34m=\u001b[0m\u001b[0;34m'reg'\u001b[0m\u001b[0;34m)\u001b[0m\u001b[0;34m\u001b[0m\u001b[0;34m\u001b[0m\u001b[0m\n\u001b[0;32m----> 6\u001b[0;31m     \u001b[0mplt\u001b[0m\u001b[0;34m.\u001b[0m\u001b[0msavefig\u001b[0m\u001b[0;34m(\u001b[0m\u001b[0mfilename\u001b[0m\u001b[0;34m,\u001b[0m\u001b[0mdpi\u001b[0m\u001b[0;34m=\u001b[0m\u001b[0;36m60\u001b[0m\u001b[0;34m)\u001b[0m\u001b[0;34m\u001b[0m\u001b[0;34m\u001b[0m\u001b[0m\n\u001b[0m\u001b[1;32m      7\u001b[0m \u001b[0mp_plot\u001b[0m\u001b[0;34m(\u001b[0m\u001b[0mdf_num\u001b[0m\u001b[0;34m,\u001b[0m \u001b[0mvars1\u001b[0m\u001b[0;34m,\u001b[0m \u001b[0;34m'./plots/pairplot.png'\u001b[0m\u001b[0;34m)\u001b[0m\u001b[0;34m\u001b[0m\u001b[0;34m\u001b[0m\u001b[0m\n",
      "\u001b[0;31mNameError\u001b[0m: name 'filename' is not defined"
     ]
    },
    {
     "data": {
      "text/plain": [
       "<Figure size 2160x2160 with 0 Axes>"
      ]
     },
     "metadata": {},
     "output_type": "display_data"
    }
   ],
   "source": [
    "vars1 = ['NumMosquitos','spray_month','Tavg','Depart','DewPoint','PrecipTotal','StnPressure','SeaLevel','AvgSpeed']\n",
    "\n",
    "def p_plot(df,v,file_name):\n",
    "    ax = plt.figure(figsize = (30,30))\n",
    "    sns.pairplot(df,vars=v,corner=True, kind ='reg')\n",
    "    plt.savefig(filename,dpi=60)\n",
    "p_plot(df_num, vars1, './plots/pairplot.png')"
   ]
  },
  {
   "cell_type": "markdown",
   "metadata": {},
   "source": [
    "### 2.3.2 Species \n",
    "<a id='species'></a>\n",
    "\n",
    "WNV can only be carrier by two mosquito species, pipens or restauns. Unfortunately the data is highly class biased, and the vast majority of mosquitos are of the two species that can carry WNV. I create a boolean variable with 1 as a positive indication for species and 0 otherwise."
   ]
  },
  {
   "cell_type": "code",
   "execution_count": null,
   "metadata": {},
   "outputs": [],
   "source": [
    "df.groupby('Species').describe().T"
   ]
  },
  {
   "cell_type": "code",
   "execution_count": null,
   "metadata": {},
   "outputs": [],
   "source": [
    "sns.barplot(data=df,y='Species',x='WnvPresent')\n"
   ]
  },
  {
   "cell_type": "code",
   "execution_count": null,
   "metadata": {},
   "outputs": [],
   "source": [
    "sns.barplot(y=df.Species.value_counts().index, x=df.Species.value_counts())"
   ]
  },
  {
   "cell_type": "code",
   "execution_count": null,
   "metadata": {},
   "outputs": [],
   "source": [
    "df['cul_or_pip'] = [1 if s in ['CULEX PIPIENS/RESTUANS', 'CULEX RESTUANS', 'CULEX PIPIENS'] else 0 for s in df.Species]\n"
   ]
  },
  {
   "cell_type": "markdown",
   "metadata": {},
   "source": [
    "### 2.3.4 WNV comparisons\n",
    "<a id='grouped'></a>\n",
    "\n",
    "For the numerical data, I create violin plots to looks at any differences in the distributions for WNV present or not."
   ]
  },
  {
   "cell_type": "code",
   "execution_count": null,
   "metadata": {},
   "outputs": [],
   "source": [
    "sns.violinplot(data=df_avg,x='WnvPresent',y='Tavg')"
   ]
  },
  {
   "cell_type": "code",
   "execution_count": null,
   "metadata": {},
   "outputs": [],
   "source": [
    "df_avg.WnvPresent.corr(df_avg.Tavg)"
   ]
  },
  {
   "cell_type": "markdown",
   "metadata": {},
   "source": [
    "It appears as though temperatures trend higher when WNV is present. The relationship is not strong and has a low correlation."
   ]
  },
  {
   "cell_type": "code",
   "execution_count": null,
   "metadata": {},
   "outputs": [],
   "source": [
    "sns.violinplot(data=df_avg,x='WnvPresent',y='PrecipTotal')"
   ]
  },
  {
   "cell_type": "markdown",
   "metadata": {},
   "source": [
    "Precipitation is somewhat unclear, despite the association with mosquitos."
   ]
  },
  {
   "cell_type": "code",
   "execution_count": null,
   "metadata": {},
   "outputs": [],
   "source": [
    "#rolling total pepceiption on a few different time scales. \n",
    "w_avg['three_day_rain'] = w_avg['PrecipTotal'].rolling(3, min_periods=1).sum()\n",
    "w_avg['week_rain'] = w_avg['PrecipTotal'].rolling(7, min_periods=1).sum()\n",
    "w_avg['two_week_rain'] = w_avg['PrecipTotal'].rolling(14, min_periods=1).sum()\n",
    "w_avg['month_rain'] = w_avg['PrecipTotal'].rolling(28, min_periods=1).sum()\n",
    "\n",
    "#and for the separate weather stations\n",
    "w_all['three_day_rain_x'] = w_all['PrecipTotal_x'].rolling(3, min_periods=1).sum()\n",
    "w_all['week_rain_x'] = w_all['PrecipTotal_x'].rolling(7, min_periods=1).sum()\n",
    "w_all['two_week_rain_x'] = w_all['PrecipTotal_x'].rolling(14, min_periods=1).sum()\n",
    "w_all['month_rain_x'] = w_all['PrecipTotal_x'].rolling(28, min_periods=1).sum()\n",
    "\n",
    "w_all['three_day_rain_y'] = w_all['PrecipTotal_y'].rolling(3, min_periods=1).sum()\n",
    "w_all['week_rain_y'] = w_all['PrecipTotal_y'].rolling(7, min_periods=1).sum()\n",
    "w_all['two_week_rain_y'] = w_all['PrecipTotal_y'].rolling(14, min_periods=1).sum()\n",
    "w_all['month_rain_y'] = w_all['PrecipTotal_y'].rolling(28, min_periods=1).sum()"
   ]
  },
  {
   "cell_type": "code",
   "execution_count": null,
   "metadata": {},
   "outputs": [],
   "source": [
    "df_avg = df.merge(w_avg.reset_index(),on='Date')\n",
    "df_all = df.merge(w_all.reset_index(),on='Date')"
   ]
  },
  {
   "cell_type": "code",
   "execution_count": null,
   "metadata": {
    "scrolled": true
   },
   "outputs": [],
   "source": [
    "sns.violinplot(data=df_avg,x='WnvPresent',y='three_day_rain')"
   ]
  },
  {
   "cell_type": "code",
   "execution_count": null,
   "metadata": {},
   "outputs": [],
   "source": [
    "sns.violinplot(data=df_avg,x='WnvPresent',y='week_rain')"
   ]
  },
  {
   "cell_type": "code",
   "execution_count": null,
   "metadata": {},
   "outputs": [],
   "source": [
    "sns.violinplot(data=df_avg,x='WnvPresent',y='two_week_rain')"
   ]
  },
  {
   "cell_type": "code",
   "execution_count": null,
   "metadata": {},
   "outputs": [],
   "source": [
    "sns.violinplot(data=df_avg,x='WnvPresent',y='month_rain')"
   ]
  },
  {
   "cell_type": "code",
   "execution_count": null,
   "metadata": {},
   "outputs": [],
   "source": [
    "subset = df_avg[['WnvPresent','PrecipTotal','three_day_rain','week_rain','two_week_rain',\n",
    "                'month_rain','DewPoint','Tavg']]\n",
    "sns.heatmap(subset.corr())"
   ]
  },
  {
   "cell_type": "code",
   "execution_count": null,
   "metadata": {},
   "outputs": [],
   "source": [
    "corr = df_avg.corr()\n",
    "corr['WnvPresent']\n",
    "\n"
   ]
  },
  {
   "cell_type": "code",
   "execution_count": null,
   "metadata": {},
   "outputs": [],
   "source": [
    "sns.violinplot(data=df_avg,x='WnvPresent',y='spray_month')"
   ]
  },
  {
   "cell_type": "code",
   "execution_count": null,
   "metadata": {},
   "outputs": [],
   "source": [
    "sns.violinplot(data=df_avg,x='WnvPresent',y='Sunrise')"
   ]
  },
  {
   "cell_type": "code",
   "execution_count": null,
   "metadata": {},
   "outputs": [],
   "source": [
    "sns.violinplot(data=df_avg,x='WnvPresent',y='SeaLevel')"
   ]
  },
  {
   "cell_type": "code",
   "execution_count": null,
   "metadata": {},
   "outputs": [],
   "source": [
    "sns.violinplot(data=df_avg,x='WnvPresent',y='AvgSpeed')"
   ]
  },
  {
   "cell_type": "code",
   "execution_count": null,
   "metadata": {},
   "outputs": [],
   "source": [
    "sns.violinplot(data=df_avg,x='WnvPresent',y='DewPoint')"
   ]
  },
  {
   "cell_type": "code",
   "execution_count": null,
   "metadata": {},
   "outputs": [],
   "source": [
    "df_avg['T_spread'] = df_avg.Tmax - df_avg.Tmin\n",
    "df_avg['longer_days'] = [1 if r[0] - r[1] > 0 else 0 for i,r in df_avg[['sunset_diff','sunrise_diff']].iterrows()]\n"
   ]
  },
  {
   "cell_type": "code",
   "execution_count": null,
   "metadata": {},
   "outputs": [],
   "source": [
    "df_avg.info()"
   ]
  },
  {
   "cell_type": "markdown",
   "metadata": {},
   "source": [
    "<h3>Correlations for lagged weather variables</h3>\n",
    "\n",
    "Here I will explore how correlation changes based on the lag in the variable. For each variable, I will save the index (lag or span) that produced the best correlation"
   ]
  },
  {
   "cell_type": "code",
   "execution_count": null,
   "metadata": {},
   "outputs": [],
   "source": [
    "w_avg['longer_days'] = [1 if r[1] - r[0] > 0 else 0 for i, r in w_avg[['sunrise_diff','sunset_diff']].iterrows()]\n",
    "w_avg['T_spread'] = w_avg.Tmax - w_avg.Tmin\n",
    "w_avg['rainy_and_hot'] = pd.qcut(w_avg.Tmax,5,labels=range(0,5)).astype('float') + pd.cut(\n",
    "    w_avg.PrecipTotal,5,labels=range(0,5)).astype('float')\n"
   ]
  },
  {
   "cell_type": "code",
   "execution_count": null,
   "metadata": {},
   "outputs": [],
   "source": [
    "#lagged weather\n",
    "def lagged(df,n):\n",
    "    return df.rolling(n).mean().dropna()\n",
    "\n",
    "def exp_lag(df,n):\n",
    "    return df.ewm(span=n).mean().dropna()\n",
    "\n",
    "w_exp = {s:exp_lag(w_avg,s) for s in np.arange(2,60)}\n",
    "w_lag = {s:lagged(w_avg,s) for s in np.arange(2,60)}"
   ]
  },
  {
   "cell_type": "code",
   "execution_count": null,
   "metadata": {},
   "outputs": [],
   "source": [
    "def lag_corr(weather, data=df):\n",
    "    best_corr = {c:[0,0] for c in df.merge(weather[2].reset_index(),on='Date').columns}\n",
    "    for lag,w_df in weather.items():\n",
    "        d = data.merge(w_df.reset_index(),on='Date')\n",
    "        for i, corr in d.corr()['WnvPresent'].iteritems():\n",
    "            if np.abs(best_corr[i][1]) < np.abs(corr):\n",
    "                best_corr[i][1] = corr\n",
    "                best_corr[i][0] = lag\n",
    "        \n",
    "    return best_corr"
   ]
  },
  {
   "cell_type": "code",
   "execution_count": null,
   "metadata": {},
   "outputs": [],
   "source": [
    "lag_df = pd.DataFrame(lag_corr(w_lag,df)).T\n",
    "ewm_df = pd.DataFrame(lag_corr(w_exp,df)).T\n",
    "ewm_df"
   ]
  },
  {
   "cell_type": "code",
   "execution_count": null,
   "metadata": {},
   "outputs": [],
   "source": [
    "diff = np.abs(lag_df) - np.abs(ewm_df)\n",
    "# if 1, lagged approach is best, if -1, exp lag is best\n",
    "def pos_neg(x):\n",
    "    if x < 0:\n",
    "        return -1\n",
    "    elif x == 0:\n",
    "        return 0\n",
    "    elif x > 0:\n",
    "        return 1\n",
    "\n",
    "choice = diff.loc[:,1].apply(pos_neg)\n",
    "choice"
   ]
  },
  {
   "cell_type": "code",
   "execution_count": null,
   "metadata": {},
   "outputs": [],
   "source": [
    "df_best = df\n",
    "\n",
    "for col in w_lag[2].columns:\n",
    "    c = choice[col]\n",
    "    if c == -1:\n",
    "        lag = ewm_df.loc[col][0]\n",
    "        best_col = w_exp[lag][col].reset_index()\n",
    "        df_best = df_best.merge(best_col, on='Date')\n",
    "        cols = list(df_best.columns)\n",
    "        cols[-1] = col + ' ' + str(lag) + ' ewm'\n",
    "        df_best.columns = cols\n",
    "        \n",
    "    elif c == 1:\n",
    "        lag = lag_df.loc[col][0]\n",
    "        best_col = w_lag[lag][col].reset_index()\n",
    "        df_best = df_best.merge(best_col, on='Date')\n",
    "        cols = list(df_best.columns)\n",
    "        cols[-1]= col + ' ' + str(lag) + ' lag'\n",
    "        df_best.columns = cols"
   ]
  },
  {
   "cell_type": "code",
   "execution_count": null,
   "metadata": {},
   "outputs": [],
   "source": [
    "df_best.corr()['WnvPresent']"
   ]
  },
  {
   "cell_type": "code",
   "execution_count": null,
   "metadata": {},
   "outputs": [],
   "source": [
    "sns.violinplot(data=df_best,x='WnvPresent',y='HZ 10.0 lag')"
   ]
  },
  {
   "cell_type": "code",
   "execution_count": null,
   "metadata": {
    "scrolled": true
   },
   "outputs": [],
   "source": [
    "sns.violinplot(data=df_best,x='WnvPresent',y='longer_days 58.0 lag')"
   ]
  },
  {
   "cell_type": "code",
   "execution_count": null,
   "metadata": {},
   "outputs": [],
   "source": [
    "sns.violinplot(data=df_best,x='WnvPresent',y='spray_month')"
   ]
  },
  {
   "cell_type": "code",
   "execution_count": null,
   "metadata": {},
   "outputs": [],
   "source": [
    "sns.violinplot(data=df_best,x='WnvPresent',y='PrecipTotal 59.0 lag')"
   ]
  },
  {
   "cell_type": "code",
   "execution_count": null,
   "metadata": {},
   "outputs": [],
   "source": [
    "sns.violinplot(data=df_best,x='WnvPresent',y='DewPoint 59.0 ewm')"
   ]
  },
  {
   "cell_type": "code",
   "execution_count": null,
   "metadata": {},
   "outputs": [],
   "source": [
    "sns.violinplot(data=df_best,x='WnvPresent',y='Heat 59.0 ewm')"
   ]
  },
  {
   "cell_type": "code",
   "execution_count": null,
   "metadata": {},
   "outputs": [],
   "source": [
    "sns.violinplot(data=df_best,x='WnvPresent',y='Tmax 59.0 lag')"
   ]
  },
  {
   "cell_type": "code",
   "execution_count": null,
   "metadata": {},
   "outputs": [],
   "source": [
    "sns.histplot(data=df_best,x='Tmax 59.0 lag')"
   ]
  },
  {
   "cell_type": "code",
   "execution_count": null,
   "metadata": {},
   "outputs": [],
   "source": [
    "sns.violinplot(data=df_best,x='WnvPresent',y='Sunrise 2.0 ewm')"
   ]
  },
  {
   "cell_type": "code",
   "execution_count": null,
   "metadata": {},
   "outputs": [],
   "source": [
    "sns.violinplot(data=df_best,x='WnvPresent',y='ResultSpeed 32.0 lag')"
   ]
  },
  {
   "cell_type": "code",
   "execution_count": null,
   "metadata": {},
   "outputs": [],
   "source": [
    "ax = plt.figure(figsize=(20,20))\n",
    "\n",
    "sns.heatmap(df_best.corr())"
   ]
  },
  {
   "cell_type": "code",
   "execution_count": null,
   "metadata": {},
   "outputs": [],
   "source": [
    "df_best.info()"
   ]
  },
  {
   "cell_type": "code",
   "execution_count": null,
   "metadata": {},
   "outputs": [],
   "source": [
    "max_bin = 20\n",
    "force_bin = 3\n",
    "\n",
    "def mono_bin(Y, X, n = max_bin):\n",
    "    \n",
    "    np.seterr(divide='ignore')\n",
    "    \n",
    "    df1 = pd.DataFrame({\"X\": X, \"Y\": Y})\n",
    "    justmiss = df1[['X','Y']][df1.X.isnull()]\n",
    "    notmiss = df1[['X','Y']][df1.X.notnull()]\n",
    "    r = 0\n",
    "    while np.abs(r) < 1:\n",
    "        try:\n",
    "            d1 = pd.DataFrame({\"X\": notmiss.X, \"Y\": notmiss.Y, \"Bucket\": pd.qcut(notmiss.X, n)})\n",
    "            d2 = d1.groupby('Bucket', as_index=True)\n",
    "            r, p = stats.spearmanr(d2.mean().X, d2.mean().Y)\n",
    "            n = n - 1 \n",
    "        except Exception as e:\n",
    "            n = n - 1\n",
    "\n",
    "    if len(d2) == 1:\n",
    "        n = force_bin         \n",
    "        bins = algos.quantile(notmiss.X, np.linspace(0, 1, n))\n",
    "        if len(np.unique(bins)) == 2:\n",
    "            bins = np.insert(bins, 0, 1)\n",
    "            bins[1] = bins[1]-(bins[1]/2)\n",
    "        d1 = pd.DataFrame({\"X\": notmiss.X, \"Y\": notmiss.Y, \"Bucket\": pd.cut(notmiss.X, np.unique(bins),include_lowest=True)}) \n",
    "        d2 = d1.groupby('Bucket', as_index=True)\n",
    "    \n",
    "    d3 = pd.DataFrame({},index=[])\n",
    "    d3[\"MIN_VALUE\"] = d2.min().X\n",
    "    d3[\"MAX_VALUE\"] = d2.max().X\n",
    "    d3[\"COUNT\"] = d2.count().Y\n",
    "    d3[\"EVENT\"] = d2.sum().Y\n",
    "    d3[\"NONEVENT\"] = d2.count().Y - d2.sum().Y\n",
    "    d3=d3.reset_index(drop=True)\n",
    "    \n",
    "    if len(justmiss.index) > 0:\n",
    "        d4 = pd.DataFrame({'MIN_VALUE':np.nan},index=[0])\n",
    "        d4[\"MAX_VALUE\"] = np.nan\n",
    "        d4[\"COUNT\"] = justmiss.count().Y\n",
    "        d4[\"EVENT\"] = justmiss.sum().Y\n",
    "        d4[\"NONEVENT\"] = justmiss.count().Y - justmiss.sum().Y\n",
    "        d3 = d3.append(d4,ignore_index=True)\n",
    "    \n",
    "    d3[\"EVENT_RATE\"] = np.divide(d3.EVENT,d3.COUNT)\n",
    "    d3[\"NON_EVENT_RATE\"] = np.divide(d3.NONEVENT,d3.COUNT)\n",
    "    d3[\"DIST_EVENT\"] = np.divide(d3.EVENT,d3.sum().EVENT)\n",
    "    d3[\"DIST_NON_EVENT\"] = np.divide(d3.NONEVENT,d3.sum().NONEVENT)\n",
    "    d3[\"WOE\"] = np.log(np.divide(d3.DIST_EVENT,d3.DIST_NON_EVENT))\n",
    "    d3[\"IV\"] = (d3.DIST_EVENT-d3.DIST_NON_EVENT)*d3.WOE\n",
    "    d3[\"VAR_NAME\"] = \"VAR\"\n",
    "    d3 = d3[['VAR_NAME','MIN_VALUE', 'MAX_VALUE', 'COUNT', 'EVENT', 'EVENT_RATE', 'NONEVENT', 'NON_EVENT_RATE', 'DIST_EVENT','DIST_NON_EVENT','WOE', 'IV']]       \n",
    "    d3 = d3.replace([np.inf, -np.inf], 0)\n",
    "    d3.IV = d3.IV.sum()\n",
    "    \n",
    "    return(d3)\n",
    "\n",
    "def char_bin(Y, X):\n",
    "        \n",
    "    df1 = pd.DataFrame({\"X\": X, \"Y\": Y})\n",
    "    justmiss = df1[['X','Y']][df1.X.isnull()]\n",
    "    notmiss = df1[['X','Y']][df1.X.notnull()]    \n",
    "    df2 = notmiss.groupby('X',as_index=True)\n",
    "    \n",
    "    d3 = pd.DataFrame({},index=[])\n",
    "    d3[\"COUNT\"] = df2.count().Y\n",
    "    d3[\"MIN_VALUE\"] = df2.sum().Y.index\n",
    "    d3[\"MAX_VALUE\"] = d3[\"MIN_VALUE\"]\n",
    "    d3[\"EVENT\"] = df2.sum().Y\n",
    "    d3[\"NONEVENT\"] = df2.count().Y - df2.sum().Y\n",
    "    \n",
    "    if len(justmiss.index) > 0:\n",
    "        d4 = pd.DataFrame({'MIN_VALUE':np.nan},index=[0])\n",
    "        d4[\"MAX_VALUE\"] = np.nan\n",
    "        d4[\"COUNT\"] = justmiss.count().Y\n",
    "        d4[\"EVENT\"] = justmiss.sum().Y\n",
    "        d4[\"NONEVENT\"] = justmiss.count().Y - justmiss.sum().Y\n",
    "        d3 = d3.append(d4,ignore_index=True)\n",
    "    \n",
    "    \n",
    "    d3[\"EVENT_RATE\"] = np.divide(d3.EVENT,d3.COUNT)\n",
    "    d3[\"NON_EVENT_RATE\"] = np.divide(d3.NONEVENT,d3.COUNT)\n",
    "    d3[\"DIST_EVENT\"] = np.divide(d3.EVENT,d3.sum().EVENT)\n",
    "    d3[\"DIST_NON_EVENT\"] = np.divide(d3.NONEVENT,d3.sum().NONEVENT)\n",
    "    d3[\"WOE\"] = np.log(np.divide(d3.DIST_EVENT,d3.DIST_NON_EVENT))\n",
    "    \n",
    "    d3[\"IV\"] = (d3.DIST_EVENT-d3.DIST_NON_EVENT)*np.log(d3.DIST_EVENT/d3.DIST_NON_EVENT)\n",
    "    d3[\"VAR_NAME\"] = \"VAR\"\n",
    "    d3 = d3[['VAR_NAME','MIN_VALUE', 'MAX_VALUE', 'COUNT', 'EVENT', 'EVENT_RATE', 'NONEVENT', 'NON_EVENT_RATE', 'DIST_EVENT','DIST_NON_EVENT','WOE', 'IV']]      \n",
    "    d3 = d3.replace([np.inf, -np.inf], 0)\n",
    "    d3.IV = d3.IV.sum()\n",
    "    d3 = d3.reset_index(drop=True)\n",
    "    \n",
    "    return(d3)\n",
    "\n",
    "def data_vars(df1, target):\n",
    "    \n",
    "    stack = traceback.extract_stack()\n",
    "    filename, lineno, function_name, code = stack[-2]\n",
    "    vars_name = re.compile(r'\\((.*?)\\).*$').search(code).groups()[0]\n",
    "    final = (re.findall(r\"[\\w']+\", vars_name))[-1]\n",
    "    \n",
    "    x = df1.dtypes.index\n",
    "    count = -1\n",
    "    \n",
    "    for i in x:\n",
    "        if i.upper() not in (final.upper()):\n",
    "            if np.issubdtype(df1[i], np.number) and len(pd.Series.unique(df1[i])) > 2:\n",
    "                conv = mono_bin(target, df1[i])\n",
    "                conv[\"VAR_NAME\"] = i\n",
    "                count = count + 1\n",
    "            else:\n",
    "                conv = char_bin(target, df1[i])\n",
    "                conv[\"VAR_NAME\"] = i            \n",
    "                count = count + 1\n",
    "                \n",
    "            if count == 0:\n",
    "                iv_df = conv\n",
    "            else:\n",
    "                iv_df = iv_df.append(conv,ignore_index=True)\n",
    "    \n",
    "    iv = pd.DataFrame({'IV':iv_df.groupby('VAR_NAME').IV.max()})\n",
    "    iv = iv.reset_index()\n",
    "    return(iv_df,iv)"
   ]
  },
  {
   "cell_type": "code",
   "execution_count": null,
   "metadata": {
    "scrolled": true
   },
   "outputs": [],
   "source": [
    "df_ivs, IV = data_vars(df_best.drop('WnvPresent',axis=1),df_best['WnvPresent'])\n",
    "to_drop = IV[(IV.IV > 0.8) | (IV.IV < 0.02)].drop(29)\n",
    "df_iv = df_best.drop(to_drop.VAR_NAME, axis=1)\n",
    "df_iv = df_iv.drop(['spray_year','spray_day','Trap','Species'],axis=1)"
   ]
  },
  {
   "cell_type": "code",
   "execution_count": null,
   "metadata": {},
   "outputs": [],
   "source": [
    "IV"
   ]
  },
  {
   "cell_type": "code",
   "execution_count": null,
   "metadata": {},
   "outputs": [],
   "source": [
    "features = ['spray_month','Tavg 59.0 ewm','Depart 3.0 lag','PrecipTotal 59.0 lag','longer_days 58.0 lag',\n",
    "           'ResultSpeed 32.0 lag','HZ 10.0 lag','BR 48.0 lag','T_spread 56.0 lag']\n",
    "df_X = df_iv[features]"
   ]
  },
  {
   "cell_type": "markdown",
   "metadata": {},
   "source": [
    "<h2>Conclusions / Notes</h2>\n",
    "\n",
    "1. Mosquitos are only present in CULEX PIPIENS/RESTUANS. I should combine the mosquito species data into a yes or no columns on species\n",
    "\n",
    "2. Lagging variables is incredbily important. For each variable, I was able to select the lag that correlated the variable most strongly with WnvPresent. I use a mixed approach of exponentially weighted moving averages and uniformly wieghted. "
   ]
  },
  {
   "cell_type": "code",
   "execution_count": null,
   "metadata": {},
   "outputs": [],
   "source": [
    "from statsmodels.stats.outliers_influence import variance_inflation_factor\n",
    "def iterate_vif(df, vif_threshold=10, max_vif=11):\n",
    "  count = 0\n",
    "  while max_vif > vif_threshold:\n",
    "    count += 1\n",
    "    print(\"Iteration # \"+str(count))\n",
    "    vif = pd.DataFrame()\n",
    "    vif[\"VIFactor\"] = [variance_inflation_factor(df.values, i) for i in range(df.shape[1])]\n",
    "    vif[\"features\"] = df.columns\n",
    "    \n",
    "    if np.round(vif['VIFactor'].max(),1) > vif_threshold:\n",
    "      print('Removing %s with VIF of %f' % (vif[vif['VIFactor'] == vif['VIFactor'].max()]['features'].values[0], np.round(vif['VIFactor'].max(),1)))\n",
    "      df = df.drop(vif[vif['VIFactor'] == vif['VIFactor'].max()]['features'].values[0], axis=1)\n",
    "      max_vif = np.round(vif['VIFactor'].max(),1)\n",
    "    else:\n",
    "        print('Complete')\n",
    "        return df, np.round(vif.sort_values('VIFactor'),1)"
   ]
  },
  {
   "cell_type": "code",
   "execution_count": null,
   "metadata": {},
   "outputs": [],
   "source": [
    "X = df_X\n",
    "y = df_iv.WnvPresent"
   ]
  },
  {
   "cell_type": "code",
   "execution_count": null,
   "metadata": {},
   "outputs": [],
   "source": [
    "X2, vif = iterate_vif(X._get_numeric_data())"
   ]
  },
  {
   "cell_type": "code",
   "execution_count": null,
   "metadata": {},
   "outputs": [],
   "source": [
    "X2.info()"
   ]
  },
  {
   "cell_type": "code",
   "execution_count": null,
   "metadata": {},
   "outputs": [],
   "source": [
    "vif"
   ]
  },
  {
   "cell_type": "code",
   "execution_count": null,
   "metadata": {},
   "outputs": [],
   "source": [
    "from sklearn.model_selection import train_test_split\n",
    "from sklearn.ensemble import RandomForestClassifier\n",
    "from sklearn.model_selection import RandomizedSearchCV\n",
    "\n",
    "X2.to_pickle('./data/X2.pkl')\n",
    "y.to_pickle('./data/y.pkl')"
   ]
  },
  {
   "cell_type": "code",
   "execution_count": null,
   "metadata": {},
   "outputs": [],
   "source": [
    "X_train, X_test, y_train, y_test = train_test_split(X2,y, test_size = 0.2, random_state = 42)"
   ]
  },
  {
   "cell_type": "code",
   "execution_count": null,
   "metadata": {},
   "outputs": [],
   "source": [
    "rf = RandomForestClassifier()\n",
    "\n",
    "params = {'n_estimators': np.arange(750,2000,50),'max_depth': np.arange(3,8)}\n",
    "\n",
    "rf_rand = RandomizedSearchCV(rf,param_distributions=params,cv=5, n_jobs=-1, scoring = 'roc_auc',n_iter=10,\n",
    "                            random_state = 42, verbose=10)"
   ]
  },
  {
   "cell_type": "code",
   "execution_count": null,
   "metadata": {},
   "outputs": [],
   "source": [
    "rf_rand.fit(X_train,y_train)"
   ]
  },
  {
   "cell_type": "code",
   "execution_count": null,
   "metadata": {},
   "outputs": [],
   "source": [
    "rf_rand.best_score_"
   ]
  },
  {
   "cell_type": "code",
   "execution_count": null,
   "metadata": {},
   "outputs": [],
   "source": [
    "from sklearn.metrics import roc_auc_score\n",
    "\n",
    "y_pred = rf_rand.best_estimator_.predict_proba(X_test)\n",
    "\n",
    "roc_auc_score(y_test,y_pred[:,1])\n"
   ]
  },
  {
   "cell_type": "code",
   "execution_count": null,
   "metadata": {},
   "outputs": [],
   "source": [
    "r = rf_rand.best_estimator_\n",
    "imp = r.feature_importances_\n",
    "\n",
    "ax = plt.figure(figsize=(10,5))\n",
    "\n",
    "i = pd.DataFrame({'feature':X_test.columns,'importance':imp}).sort_values('importance',ascending=False)\n",
    "\n",
    "sns.barplot(data=i,y='feature',x='importance',orient='h',color='gray')"
   ]
  },
  {
   "cell_type": "code",
   "execution_count": null,
   "metadata": {},
   "outputs": [],
   "source": [
    "from sklearn.metrics import roc_curve\n",
    "\n",
    "def roc_plot(e,x,y):\n",
    "    \"\"\"e is estimator, x is data and y is true value\"\"\"\n",
    "\n",
    "    #predicting from model\n",
    "    y_pred = e.predict_proba(x)[:,1]\n",
    "\n",
    "    #finding curve\n",
    "    fpr, tpr, t = roc_curve(y, y_pred)\n",
    "    sns.lineplot(x=fpr,y=tpr)\n",
    "    plt.xlabel('false positive rate')\n",
    "    plt.ylabel('true positive rate')\n",
    "    plt.title('Compute Receiver Operating Characteristic Curve')\n",
    "    return pd.DataFrame({'fpr':fpr,'tpr':tpr,'threshold':t})\n",
    "\n",
    "from sklearn.metrics import roc_auc_score\n",
    "\n",
    "\n",
    "def test_comp(e):\n",
    "    #predicting probability from test set\n",
    "    y_pred = e.predict_proba(X_test)[:,1]\n",
    "    \n",
    "    \n",
    "    r = np.round(roc_auc_score(y_test,y_pred),3)\n",
    "    \n",
    "    print('Evaluating the classifier on the test set, area under the roc curve is: ' +  \n",
    "           '{}'.format(r))\n",
    "\n",
    "test_comp(rf_rand.best_estimator_)\n",
    "\n"
   ]
  },
  {
   "cell_type": "code",
   "execution_count": null,
   "metadata": {
    "scrolled": true
   },
   "outputs": [],
   "source": [
    "test_comp(rf_rand.best_estimator_)"
   ]
  },
  {
   "cell_type": "code",
   "execution_count": null,
   "metadata": {},
   "outputs": [],
   "source": [
    "est = rf_rand.best_estimator_\n",
    "c = roc_plot(est, X_train, y_train)"
   ]
  },
  {
   "cell_type": "code",
   "execution_count": null,
   "metadata": {},
   "outputs": [],
   "source": []
  }
 ],
 "metadata": {
  "kernelspec": {
   "display_name": "Python 3",
   "language": "python",
   "name": "python3"
  },
  "language_info": {
   "codemirror_mode": {
    "name": "ipython",
    "version": 3
   },
   "file_extension": ".py",
   "mimetype": "text/x-python",
   "name": "python",
   "nbconvert_exporter": "python",
   "pygments_lexer": "ipython3",
   "version": "3.8.3"
  }
 },
 "nbformat": 4,
 "nbformat_minor": 4
}
