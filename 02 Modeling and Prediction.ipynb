{
 "cells": [
  {
   "cell_type": "markdown",
   "metadata": {},
   "source": [
    "<h1>Modeling and Prediction</h1>\n",
    "On the West Nile Virus data set"
   ]
  },
  {
   "cell_type": "code",
   "execution_count": 1,
   "metadata": {},
   "outputs": [],
   "source": [
    "import pandas as pd\n",
    "import numpy as np\n",
    "from scipy import stats\n",
    "import seaborn as sns\n",
    "import matplotlib.pyplot as plt\n",
    "from sklearn.model_selection import train_test_split, cross_val_score, GridSearchCV\n",
    "from sklearn.pipeline import Pipeline\n",
    "from sklearn.metrics import classification_report\n",
    "from sklearn.linear_model import LogisticRegression\n",
    "import pandas.core.algorithms as algos\n",
    "from pandas import Series\n",
    "import scipy.stats.stats as stats\n",
    "\n",
    "sns.set_style('whitegrid')"
   ]
  },
  {
   "cell_type": "code",
   "execution_count": 2,
   "metadata": {},
   "outputs": [],
   "source": [
    "#loading cleaned data\n",
    "X = pd.read_pickle('./data/X2.pkl')\n",
    "y = pd.read_pickle('./data/y.pkl')\n",
    "\n"
   ]
  },
  {
   "cell_type": "code",
   "execution_count": 3,
   "metadata": {},
   "outputs": [],
   "source": [
    "# mistakenly, thought that the train_test_split was done for me. It was not, the test set is for the kaggle competition\n",
    "X_train, X_test, y_train, y_test = train_test_split(X,y,test_size=0.2,random_state=123)"
   ]
  },
  {
   "cell_type": "markdown",
   "metadata": {},
   "source": [
    "<h2>Random Forest Classifier</h2>\n",
    "Random Forest Classifier is a great ensemble method which I will look into first with a Random Search CV. The driving metric for analysis is roc_auc. This data set is heavily class biased -- there are few west nile virus sightings compared to the observations as a whole. The area under the roc curve is relatively good at handling this sort of imbalance."
   ]
  },
  {
   "cell_type": "markdown",
   "metadata": {},
   "source": [
    "***Building Pipeline***"
   ]
  },
  {
   "cell_type": "code",
   "execution_count": 4,
   "metadata": {},
   "outputs": [],
   "source": [
    "from sklearn.pipeline import make_pipeline\n",
    "from sklearn.ensemble import RandomForestClassifier\n",
    "from sklearn.model_selection import RandomizedSearchCV\n",
    "from sklearn.preprocessing import StandardScaler\n",
    "from sklearn.metrics import recall_score\n",
    "from scipy.stats import truncnorm, uniform\n"
   ]
  },
  {
   "cell_type": "code",
   "execution_count": 5,
   "metadata": {},
   "outputs": [],
   "source": [
    "pipe = make_pipeline( \n",
    "    StandardScaler(), \n",
    "    RandomForestClassifier()\n",
    ")"
   ]
  },
  {
   "cell_type": "code",
   "execution_count": 6,
   "metadata": {},
   "outputs": [
    {
     "data": {
      "text/plain": [
       "dict_keys(['memory', 'steps', 'verbose', 'standardscaler', 'randomforestclassifier', 'standardscaler__copy', 'standardscaler__with_mean', 'standardscaler__with_std', 'randomforestclassifier__bootstrap', 'randomforestclassifier__ccp_alpha', 'randomforestclassifier__class_weight', 'randomforestclassifier__criterion', 'randomforestclassifier__max_depth', 'randomforestclassifier__max_features', 'randomforestclassifier__max_leaf_nodes', 'randomforestclassifier__max_samples', 'randomforestclassifier__min_impurity_decrease', 'randomforestclassifier__min_impurity_split', 'randomforestclassifier__min_samples_leaf', 'randomforestclassifier__min_samples_split', 'randomforestclassifier__min_weight_fraction_leaf', 'randomforestclassifier__n_estimators', 'randomforestclassifier__n_jobs', 'randomforestclassifier__oob_score', 'randomforestclassifier__random_state', 'randomforestclassifier__verbose', 'randomforestclassifier__warm_start'])"
      ]
     },
     "execution_count": 6,
     "metadata": {},
     "output_type": "execute_result"
    }
   ],
   "source": [
    "pipe.get_params().keys()\n"
   ]
  },
  {
   "cell_type": "code",
   "execution_count": 7,
   "metadata": {},
   "outputs": [],
   "source": [
    "params = {'randomforestclassifier__n_estimators': np.arange(50,2000),\n",
    "         'randomforestclassifier__max_depth' :  np.arange(2,20)}\n",
    "\n",
    "rf_rand = RandomizedSearchCV(pipe,param_distributions=params,cv=5, n_jobs=-1, scoring = 'roc_auc',n_iter=10,\n",
    "                            random_state = 42, verbose= 10)"
   ]
  },
  {
   "cell_type": "code",
   "execution_count": 8,
   "metadata": {},
   "outputs": [
    {
     "name": "stdout",
     "output_type": "stream",
     "text": [
      "Fitting 5 folds for each of 10 candidates, totalling 50 fits\n"
     ]
    },
    {
     "name": "stderr",
     "output_type": "stream",
     "text": [
      "[Parallel(n_jobs=-1)]: Using backend LokyBackend with 8 concurrent workers.\n",
      "[Parallel(n_jobs=-1)]: Done   2 tasks      | elapsed:    3.8s\n",
      "[Parallel(n_jobs=-1)]: Done   9 tasks      | elapsed:    8.4s\n",
      "[Parallel(n_jobs=-1)]: Done  16 tasks      | elapsed:   13.5s\n",
      "[Parallel(n_jobs=-1)]: Done  25 tasks      | elapsed:   19.6s\n",
      "[Parallel(n_jobs=-1)]: Done  34 tasks      | elapsed:   23.0s\n",
      "[Parallel(n_jobs=-1)]: Done  41 out of  50 | elapsed:   30.6s remaining:    6.7s\n",
      "[Parallel(n_jobs=-1)]: Done  47 out of  50 | elapsed:   32.1s remaining:    2.1s\n",
      "[Parallel(n_jobs=-1)]: Done  50 out of  50 | elapsed:   32.8s finished\n"
     ]
    },
    {
     "data": {
      "text/plain": [
       "RandomizedSearchCV(cv=5,\n",
       "                   estimator=Pipeline(steps=[('standardscaler',\n",
       "                                              StandardScaler()),\n",
       "                                             ('randomforestclassifier',\n",
       "                                              RandomForestClassifier())]),\n",
       "                   n_jobs=-1,\n",
       "                   param_distributions={'randomforestclassifier__max_depth': array([ 2,  3,  4,  5,  6,  7,  8,  9, 10, 11, 12, 13, 14, 15, 16, 17, 18,\n",
       "       19]),\n",
       "                                        'randomforestclassifier__n_estimators': array([  50,   51,   52, ..., 1997, 1998, 1999])},\n",
       "                   random_state=42, scoring='roc_auc', verbose=10)"
      ]
     },
     "execution_count": 8,
     "metadata": {},
     "output_type": "execute_result"
    }
   ],
   "source": [
    "rf_rand.fit(X_train,y_train)"
   ]
  },
  {
   "cell_type": "markdown",
   "metadata": {},
   "source": [
    "***Looking at results from the random search***"
   ]
  },
  {
   "cell_type": "code",
   "execution_count": 9,
   "metadata": {},
   "outputs": [
    {
     "data": {
      "text/plain": [
       "{'randomforestclassifier__n_estimators': 245,\n",
       " 'randomforestclassifier__max_depth': 10}"
      ]
     },
     "execution_count": 9,
     "metadata": {},
     "output_type": "execute_result"
    }
   ],
   "source": [
    "rf_rand.best_params_"
   ]
  },
  {
   "cell_type": "code",
   "execution_count": 10,
   "metadata": {},
   "outputs": [],
   "source": [
    "rf_res = pd.DataFrame(rf_rand.cv_results_)\n"
   ]
  },
  {
   "cell_type": "code",
   "execution_count": 11,
   "metadata": {},
   "outputs": [
    {
     "data": {
      "text/html": [
       "<div>\n",
       "<style scoped>\n",
       "    .dataframe tbody tr th:only-of-type {\n",
       "        vertical-align: middle;\n",
       "    }\n",
       "\n",
       "    .dataframe tbody tr th {\n",
       "        vertical-align: top;\n",
       "    }\n",
       "\n",
       "    .dataframe thead th {\n",
       "        text-align: right;\n",
       "    }\n",
       "</style>\n",
       "<table border=\"1\" class=\"dataframe\">\n",
       "  <thead>\n",
       "    <tr style=\"text-align: right;\">\n",
       "      <th></th>\n",
       "      <th>mean_fit_time</th>\n",
       "      <th>std_fit_time</th>\n",
       "      <th>mean_score_time</th>\n",
       "      <th>std_score_time</th>\n",
       "      <th>param_randomforestclassifier__n_estimators</th>\n",
       "      <th>param_randomforestclassifier__max_depth</th>\n",
       "      <th>params</th>\n",
       "      <th>split0_test_score</th>\n",
       "      <th>split1_test_score</th>\n",
       "      <th>split2_test_score</th>\n",
       "      <th>split3_test_score</th>\n",
       "      <th>split4_test_score</th>\n",
       "      <th>mean_test_score</th>\n",
       "      <th>std_test_score</th>\n",
       "      <th>rank_test_score</th>\n",
       "    </tr>\n",
       "  </thead>\n",
       "  <tbody>\n",
       "    <tr>\n",
       "      <th>0</th>\n",
       "      <td>1.427189</td>\n",
       "      <td>0.010308</td>\n",
       "      <td>0.140312</td>\n",
       "      <td>0.007000</td>\n",
       "      <td>245</td>\n",
       "      <td>10</td>\n",
       "      <td>{'randomforestclassifier__n_estimators': 245, ...</td>\n",
       "      <td>0.813642</td>\n",
       "      <td>0.818959</td>\n",
       "      <td>0.828152</td>\n",
       "      <td>0.830517</td>\n",
       "      <td>0.773691</td>\n",
       "      <td>0.812992</td>\n",
       "      <td>0.020579</td>\n",
       "      <td>1</td>\n",
       "    </tr>\n",
       "    <tr>\n",
       "      <th>6</th>\n",
       "      <td>2.567467</td>\n",
       "      <td>0.136147</td>\n",
       "      <td>0.211270</td>\n",
       "      <td>0.031048</td>\n",
       "      <td>473</td>\n",
       "      <td>10</td>\n",
       "      <td>{'randomforestclassifier__n_estimators': 473, ...</td>\n",
       "      <td>0.812918</td>\n",
       "      <td>0.818285</td>\n",
       "      <td>0.829901</td>\n",
       "      <td>0.829715</td>\n",
       "      <td>0.772353</td>\n",
       "      <td>0.812635</td>\n",
       "      <td>0.021187</td>\n",
       "      <td>2</td>\n",
       "    </tr>\n",
       "    <tr>\n",
       "      <th>4</th>\n",
       "      <td>7.004304</td>\n",
       "      <td>0.149389</td>\n",
       "      <td>0.480154</td>\n",
       "      <td>0.032123</td>\n",
       "      <td>1300</td>\n",
       "      <td>10</td>\n",
       "      <td>{'randomforestclassifier__n_estimators': 1300,...</td>\n",
       "      <td>0.811126</td>\n",
       "      <td>0.817948</td>\n",
       "      <td>0.830374</td>\n",
       "      <td>0.830070</td>\n",
       "      <td>0.773219</td>\n",
       "      <td>0.812547</td>\n",
       "      <td>0.020989</td>\n",
       "      <td>3</td>\n",
       "    </tr>\n",
       "    <tr>\n",
       "      <th>5</th>\n",
       "      <td>2.958313</td>\n",
       "      <td>0.137655</td>\n",
       "      <td>0.213471</td>\n",
       "      <td>0.007574</td>\n",
       "      <td>562</td>\n",
       "      <td>13</td>\n",
       "      <td>{'randomforestclassifier__n_estimators': 562, ...</td>\n",
       "      <td>0.813958</td>\n",
       "      <td>0.817672</td>\n",
       "      <td>0.827148</td>\n",
       "      <td>0.826096</td>\n",
       "      <td>0.770317</td>\n",
       "      <td>0.811038</td>\n",
       "      <td>0.020962</td>\n",
       "      <td>4</td>\n",
       "    </tr>\n",
       "    <tr>\n",
       "      <th>2</th>\n",
       "      <td>8.852294</td>\n",
       "      <td>0.053428</td>\n",
       "      <td>0.644758</td>\n",
       "      <td>0.064908</td>\n",
       "      <td>1584</td>\n",
       "      <td>7</td>\n",
       "      <td>{'randomforestclassifier__n_estimators': 1584,...</td>\n",
       "      <td>0.801546</td>\n",
       "      <td>0.802618</td>\n",
       "      <td>0.819784</td>\n",
       "      <td>0.835831</td>\n",
       "      <td>0.769820</td>\n",
       "      <td>0.805920</td>\n",
       "      <td>0.022000</td>\n",
       "      <td>5</td>\n",
       "    </tr>\n",
       "    <tr>\n",
       "      <th>3</th>\n",
       "      <td>2.435930</td>\n",
       "      <td>0.061434</td>\n",
       "      <td>0.173491</td>\n",
       "      <td>0.024605</td>\n",
       "      <td>465</td>\n",
       "      <td>5</td>\n",
       "      <td>{'randomforestclassifier__n_estimators': 465, ...</td>\n",
       "      <td>0.798004</td>\n",
       "      <td>0.775471</td>\n",
       "      <td>0.807200</td>\n",
       "      <td>0.834781</td>\n",
       "      <td>0.763087</td>\n",
       "      <td>0.795708</td>\n",
       "      <td>0.025051</td>\n",
       "      <td>6</td>\n",
       "    </tr>\n",
       "    <tr>\n",
       "      <th>9</th>\n",
       "      <td>2.374702</td>\n",
       "      <td>0.281822</td>\n",
       "      <td>0.139487</td>\n",
       "      <td>0.046397</td>\n",
       "      <td>533</td>\n",
       "      <td>3</td>\n",
       "      <td>{'randomforestclassifier__n_estimators': 533, ...</td>\n",
       "      <td>0.803572</td>\n",
       "      <td>0.745707</td>\n",
       "      <td>0.784197</td>\n",
       "      <td>0.822939</td>\n",
       "      <td>0.742681</td>\n",
       "      <td>0.779819</td>\n",
       "      <td>0.031577</td>\n",
       "      <td>7</td>\n",
       "    </tr>\n",
       "    <tr>\n",
       "      <th>7</th>\n",
       "      <td>8.156337</td>\n",
       "      <td>0.112012</td>\n",
       "      <td>0.573491</td>\n",
       "      <td>0.015309</td>\n",
       "      <td>1735</td>\n",
       "      <td>2</td>\n",
       "      <td>{'randomforestclassifier__n_estimators': 1735,...</td>\n",
       "      <td>0.807078</td>\n",
       "      <td>0.720023</td>\n",
       "      <td>0.766494</td>\n",
       "      <td>0.804278</td>\n",
       "      <td>0.724918</td>\n",
       "      <td>0.764558</td>\n",
       "      <td>0.037267</td>\n",
       "      <td>8</td>\n",
       "    </tr>\n",
       "    <tr>\n",
       "      <th>1</th>\n",
       "      <td>4.184060</td>\n",
       "      <td>0.064729</td>\n",
       "      <td>0.320568</td>\n",
       "      <td>0.050895</td>\n",
       "      <td>910</td>\n",
       "      <td>2</td>\n",
       "      <td>{'randomforestclassifier__n_estimators': 910, ...</td>\n",
       "      <td>0.804704</td>\n",
       "      <td>0.721109</td>\n",
       "      <td>0.766024</td>\n",
       "      <td>0.804378</td>\n",
       "      <td>0.725805</td>\n",
       "      <td>0.764404</td>\n",
       "      <td>0.036301</td>\n",
       "      <td>9</td>\n",
       "    </tr>\n",
       "    <tr>\n",
       "      <th>8</th>\n",
       "      <td>3.861902</td>\n",
       "      <td>0.176956</td>\n",
       "      <td>0.235598</td>\n",
       "      <td>0.017696</td>\n",
       "      <td>819</td>\n",
       "      <td>2</td>\n",
       "      <td>{'randomforestclassifier__n_estimators': 819, ...</td>\n",
       "      <td>0.803278</td>\n",
       "      <td>0.718721</td>\n",
       "      <td>0.765296</td>\n",
       "      <td>0.800532</td>\n",
       "      <td>0.718948</td>\n",
       "      <td>0.761355</td>\n",
       "      <td>0.037213</td>\n",
       "      <td>10</td>\n",
       "    </tr>\n",
       "  </tbody>\n",
       "</table>\n",
       "</div>"
      ],
      "text/plain": [
       "   mean_fit_time  std_fit_time  mean_score_time  std_score_time  \\\n",
       "0       1.427189      0.010308         0.140312        0.007000   \n",
       "6       2.567467      0.136147         0.211270        0.031048   \n",
       "4       7.004304      0.149389         0.480154        0.032123   \n",
       "5       2.958313      0.137655         0.213471        0.007574   \n",
       "2       8.852294      0.053428         0.644758        0.064908   \n",
       "3       2.435930      0.061434         0.173491        0.024605   \n",
       "9       2.374702      0.281822         0.139487        0.046397   \n",
       "7       8.156337      0.112012         0.573491        0.015309   \n",
       "1       4.184060      0.064729         0.320568        0.050895   \n",
       "8       3.861902      0.176956         0.235598        0.017696   \n",
       "\n",
       "  param_randomforestclassifier__n_estimators  \\\n",
       "0                                        245   \n",
       "6                                        473   \n",
       "4                                       1300   \n",
       "5                                        562   \n",
       "2                                       1584   \n",
       "3                                        465   \n",
       "9                                        533   \n",
       "7                                       1735   \n",
       "1                                        910   \n",
       "8                                        819   \n",
       "\n",
       "  param_randomforestclassifier__max_depth  \\\n",
       "0                                      10   \n",
       "6                                      10   \n",
       "4                                      10   \n",
       "5                                      13   \n",
       "2                                       7   \n",
       "3                                       5   \n",
       "9                                       3   \n",
       "7                                       2   \n",
       "1                                       2   \n",
       "8                                       2   \n",
       "\n",
       "                                              params  split0_test_score  \\\n",
       "0  {'randomforestclassifier__n_estimators': 245, ...           0.813642   \n",
       "6  {'randomforestclassifier__n_estimators': 473, ...           0.812918   \n",
       "4  {'randomforestclassifier__n_estimators': 1300,...           0.811126   \n",
       "5  {'randomforestclassifier__n_estimators': 562, ...           0.813958   \n",
       "2  {'randomforestclassifier__n_estimators': 1584,...           0.801546   \n",
       "3  {'randomforestclassifier__n_estimators': 465, ...           0.798004   \n",
       "9  {'randomforestclassifier__n_estimators': 533, ...           0.803572   \n",
       "7  {'randomforestclassifier__n_estimators': 1735,...           0.807078   \n",
       "1  {'randomforestclassifier__n_estimators': 910, ...           0.804704   \n",
       "8  {'randomforestclassifier__n_estimators': 819, ...           0.803278   \n",
       "\n",
       "   split1_test_score  split2_test_score  split3_test_score  split4_test_score  \\\n",
       "0           0.818959           0.828152           0.830517           0.773691   \n",
       "6           0.818285           0.829901           0.829715           0.772353   \n",
       "4           0.817948           0.830374           0.830070           0.773219   \n",
       "5           0.817672           0.827148           0.826096           0.770317   \n",
       "2           0.802618           0.819784           0.835831           0.769820   \n",
       "3           0.775471           0.807200           0.834781           0.763087   \n",
       "9           0.745707           0.784197           0.822939           0.742681   \n",
       "7           0.720023           0.766494           0.804278           0.724918   \n",
       "1           0.721109           0.766024           0.804378           0.725805   \n",
       "8           0.718721           0.765296           0.800532           0.718948   \n",
       "\n",
       "   mean_test_score  std_test_score  rank_test_score  \n",
       "0         0.812992        0.020579                1  \n",
       "6         0.812635        0.021187                2  \n",
       "4         0.812547        0.020989                3  \n",
       "5         0.811038        0.020962                4  \n",
       "2         0.805920        0.022000                5  \n",
       "3         0.795708        0.025051                6  \n",
       "9         0.779819        0.031577                7  \n",
       "7         0.764558        0.037267                8  \n",
       "1         0.764404        0.036301                9  \n",
       "8         0.761355        0.037213               10  "
      ]
     },
     "execution_count": 11,
     "metadata": {},
     "output_type": "execute_result"
    }
   ],
   "source": [
    "rf_res.sort_values('mean_test_score',axis=0, ascending=False)"
   ]
  },
  {
   "cell_type": "code",
   "execution_count": 12,
   "metadata": {},
   "outputs": [
    {
     "data": {
      "text/plain": [
       "0.8129920990878186"
      ]
     },
     "execution_count": 12,
     "metadata": {},
     "output_type": "execute_result"
    }
   ],
   "source": [
    "rf_rand.best_score_"
   ]
  },
  {
   "cell_type": "code",
   "execution_count": 13,
   "metadata": {},
   "outputs": [],
   "source": [
    "from sklearn.metrics import roc_curve\n",
    "\n",
    "def roc_plot(e,x,y):\n",
    "    \"\"\"e is estimator, x is data and y is true value\"\"\"\n",
    "\n",
    "    #predicting from model\n",
    "    y_pred = e.predict_proba(x)[:,1]\n",
    "\n",
    "    #finding curve\n",
    "    fpr, tpr, t = roc_curve(y, y_pred)\n",
    "    sns.lineplot(x=fpr,y=tpr)\n",
    "    plt.xlabel('false positive rate')\n",
    "    plt.ylabel('true positive rate')\n",
    "    plt.title('Compute Receiver Operating Characteristic Curve')\n",
    "    return pd.DataFrame({'fpr':fpr,'tpr':tpr,'threshold':t})\n",
    "\n",
    "    \n"
   ]
  },
  {
   "cell_type": "code",
   "execution_count": 14,
   "metadata": {},
   "outputs": [
    {
     "data": {
      "image/png": "[encoded data removed]",
      "text/plain": [
       "<Figure size 432x288 with 1 Axes>"
      ]
     },
     "metadata": {},
     "output_type": "display_data"
    }
   ],
   "source": [
    "est = rf_rand.best_estimator_\n",
    "c = roc_plot(est, X_train, y_train)"
   ]
  },
  {
   "cell_type": "markdown",
   "metadata": {},
   "source": [
    "***Comparing to test set***"
   ]
  },
  {
   "cell_type": "code",
   "execution_count": 15,
   "metadata": {},
   "outputs": [
    {
     "name": "stdout",
     "output_type": "stream",
     "text": [
      "Evaluating the classifier on the test set, area under the roc curve is: 0.817\n"
     ]
    }
   ],
   "source": [
    "from sklearn.metrics import roc_auc_score\n",
    "\n",
    "\n",
    "def test_comp(e):\n",
    "    #predicting probability from test set\n",
    "    y_pred = e.predict_proba(X_test)[:,1]\n",
    "    \n",
    "    \n",
    "    r = np.round(roc_auc_score(y_test,y_pred),3)\n",
    "    \n",
    "    print('Evaluating the classifier on the test set, area under the roc curve is: ' +  \n",
    "           '{}'.format(r))\n",
    "\n",
    "test_comp(rf_rand.best_estimator_)"
   ]
  },
  {
   "cell_type": "markdown",
   "metadata": {},
   "source": [
    "<h3>Random Forest first results</h3>\n",
    "\n",
    "The classifier has decent performance. Let's see if with more parameters and a larger search I can improve the results even further."
   ]
  },
  {
   "cell_type": "code",
   "execution_count": 16,
   "metadata": {
    "scrolled": true
   },
   "outputs": [
    {
     "name": "stdout",
     "output_type": "stream",
     "text": [
      "Fitting 4 folds for each of 50 candidates, totalling 200 fits\n"
     ]
    },
    {
     "name": "stderr",
     "output_type": "stream",
     "text": [
      "[Parallel(n_jobs=-1)]: Using backend LokyBackend with 8 concurrent workers.\n",
      "[Parallel(n_jobs=-1)]: Done   2 tasks      | elapsed:    1.2s\n",
      "[Parallel(n_jobs=-1)]: Done   9 tasks      | elapsed:    4.7s\n",
      "[Parallel(n_jobs=-1)]: Done  16 tasks      | elapsed:    5.7s\n",
      "[Parallel(n_jobs=-1)]: Done  25 tasks      | elapsed:   12.1s\n",
      "[Parallel(n_jobs=-1)]: Done  34 tasks      | elapsed:   14.9s\n",
      "[Parallel(n_jobs=-1)]: Done  45 tasks      | elapsed:   20.8s\n",
      "[Parallel(n_jobs=-1)]: Done  56 tasks      | elapsed:   26.7s\n",
      "[Parallel(n_jobs=-1)]: Done  69 tasks      | elapsed:   34.7s\n",
      "[Parallel(n_jobs=-1)]: Done  82 tasks      | elapsed:   42.8s\n",
      "[Parallel(n_jobs=-1)]: Done  97 tasks      | elapsed:   48.5s\n",
      "[Parallel(n_jobs=-1)]: Done 112 tasks      | elapsed:   55.7s\n",
      "[Parallel(n_jobs=-1)]: Done 129 tasks      | elapsed:  1.1min\n",
      "[Parallel(n_jobs=-1)]: Done 146 tasks      | elapsed:  1.3min\n",
      "[Parallel(n_jobs=-1)]: Done 165 tasks      | elapsed:  1.5min\n",
      "[Parallel(n_jobs=-1)]: Done 184 tasks      | elapsed:  1.7min\n",
      "[Parallel(n_jobs=-1)]: Done 200 out of 200 | elapsed:  1.8min finished\n"
     ]
    },
    {
     "data": {
      "text/plain": [
       "RandomizedSearchCV(cv=4,\n",
       "                   estimator=Pipeline(steps=[('standardscaler',\n",
       "                                              StandardScaler()),\n",
       "                                             ('randomforestclassifier',\n",
       "                                              RandomForestClassifier())]),\n",
       "                   n_iter=50, n_jobs=-1,\n",
       "                   param_distributions={'randomforestclassifier__max_depth': array([ 1,  2,  3,  4,  5,  6,  7,  8,  9, 10, 11, 12, 13]),\n",
       "                                        'randomforestclassifier__n_estimators': array([  50,   51,   52, ..., 1997, 1998, 1999])},\n",
       "                   random_state=42, scoring='roc_auc', verbose=10)"
      ]
     },
     "execution_count": 16,
     "metadata": {},
     "output_type": "execute_result"
    }
   ],
   "source": [
    "params = {'randomforestclassifier__n_estimators': np.arange(50,2000),\n",
    "         'randomforestclassifier__max_depth' :  np.arange(1,14)}\n",
    "\n",
    "rf_rand_two = RandomizedSearchCV(pipe,param_distributions=params,cv=4, n_jobs=-1, scoring = 'roc_auc',n_iter=50,\n",
    "                            random_state = 42, verbose = 10)\n",
    "rf_rand_two.fit(X_train,y_train)"
   ]
  },
  {
   "cell_type": "code",
   "execution_count": 17,
   "metadata": {},
   "outputs": [
    {
     "data": {
      "image/png": "[encoded data removed]",
      "text/plain": [
       "<Figure size 432x288 with 1 Axes>"
      ]
     },
     "metadata": {},
     "output_type": "display_data"
    }
   ],
   "source": [
    "c = roc_plot(rf_rand_two.best_estimator_,X_train,y_train)\n"
   ]
  },
  {
   "cell_type": "code",
   "execution_count": 18,
   "metadata": {},
   "outputs": [
    {
     "data": {
      "text/plain": [
       "{'randomforestclassifier__n_estimators': 68,\n",
       " 'randomforestclassifier__max_depth': 10}"
      ]
     },
     "execution_count": 18,
     "metadata": {},
     "output_type": "execute_result"
    }
   ],
   "source": [
    "rf_rand_two.best_params_"
   ]
  },
  {
   "cell_type": "code",
   "execution_count": 19,
   "metadata": {},
   "outputs": [
    {
     "data": {
      "text/plain": [
       "0.8118581854543632"
      ]
     },
     "execution_count": 19,
     "metadata": {},
     "output_type": "execute_result"
    }
   ],
   "source": [
    "rf_rand_two.best_score_"
   ]
  },
  {
   "cell_type": "code",
   "execution_count": 20,
   "metadata": {},
   "outputs": [
    {
     "name": "stdout",
     "output_type": "stream",
     "text": [
      "Evaluating the classifier on the test set, area under the roc curve is: 0.815\n"
     ]
    }
   ],
   "source": [
    "test_comp(rf_rand_two.best_estimator_)"
   ]
  },
  {
   "cell_type": "code",
   "execution_count": 21,
   "metadata": {},
   "outputs": [
    {
     "data": {
      "text/html": [
       "<div>\n",
       "<style scoped>\n",
       "    .dataframe tbody tr th:only-of-type {\n",
       "        vertical-align: middle;\n",
       "    }\n",
       "\n",
       "    .dataframe tbody tr th {\n",
       "        vertical-align: top;\n",
       "    }\n",
       "\n",
       "    .dataframe thead th {\n",
       "        text-align: right;\n",
       "    }\n",
       "</style>\n",
       "<table border=\"1\" class=\"dataframe\">\n",
       "  <thead>\n",
       "    <tr style=\"text-align: right;\">\n",
       "      <th></th>\n",
       "      <th>mean_fit_time</th>\n",
       "      <th>std_fit_time</th>\n",
       "      <th>mean_score_time</th>\n",
       "      <th>std_score_time</th>\n",
       "      <th>param_randomforestclassifier__n_estimators</th>\n",
       "      <th>param_randomforestclassifier__max_depth</th>\n",
       "      <th>params</th>\n",
       "      <th>split0_test_score</th>\n",
       "      <th>split1_test_score</th>\n",
       "      <th>split2_test_score</th>\n",
       "      <th>split3_test_score</th>\n",
       "      <th>mean_test_score</th>\n",
       "      <th>std_test_score</th>\n",
       "      <th>rank_test_score</th>\n",
       "    </tr>\n",
       "  </thead>\n",
       "  <tbody>\n",
       "    <tr>\n",
       "      <th>23</th>\n",
       "      <td>0.321013</td>\n",
       "      <td>0.002885</td>\n",
       "      <td>0.031744</td>\n",
       "      <td>0.001635</td>\n",
       "      <td>68</td>\n",
       "      <td>10</td>\n",
       "      <td>{'randomforestclassifier__n_estimators': 68, '...</td>\n",
       "      <td>0.815382</td>\n",
       "      <td>0.823761</td>\n",
       "      <td>0.832512</td>\n",
       "      <td>0.775778</td>\n",
       "      <td>0.811858</td>\n",
       "      <td>0.021694</td>\n",
       "      <td>1</td>\n",
       "    </tr>\n",
       "    <tr>\n",
       "      <th>9</th>\n",
       "      <td>6.130182</td>\n",
       "      <td>0.056914</td>\n",
       "      <td>0.532840</td>\n",
       "      <td>0.005050</td>\n",
       "      <td>1300</td>\n",
       "      <td>9</td>\n",
       "      <td>{'randomforestclassifier__n_estimators': 1300,...</td>\n",
       "      <td>0.813455</td>\n",
       "      <td>0.824313</td>\n",
       "      <td>0.833565</td>\n",
       "      <td>0.773628</td>\n",
       "      <td>0.811240</td>\n",
       "      <td>0.022852</td>\n",
       "      <td>2</td>\n",
       "    </tr>\n",
       "    <tr>\n",
       "      <th>1</th>\n",
       "      <td>1.078943</td>\n",
       "      <td>0.002009</td>\n",
       "      <td>0.112999</td>\n",
       "      <td>0.007062</td>\n",
       "      <td>245</td>\n",
       "      <td>9</td>\n",
       "      <td>{'randomforestclassifier__n_estimators': 245, ...</td>\n",
       "      <td>0.814743</td>\n",
       "      <td>0.824194</td>\n",
       "      <td>0.831636</td>\n",
       "      <td>0.773347</td>\n",
       "      <td>0.810980</td>\n",
       "      <td>0.022537</td>\n",
       "      <td>3</td>\n",
       "    </tr>\n",
       "    <tr>\n",
       "      <th>24</th>\n",
       "      <td>7.164024</td>\n",
       "      <td>0.036490</td>\n",
       "      <td>0.653135</td>\n",
       "      <td>0.007812</td>\n",
       "      <td>1489</td>\n",
       "      <td>11</td>\n",
       "      <td>{'randomforestclassifier__n_estimators': 1489,...</td>\n",
       "      <td>0.816320</td>\n",
       "      <td>0.825289</td>\n",
       "      <td>0.829429</td>\n",
       "      <td>0.772609</td>\n",
       "      <td>0.810912</td>\n",
       "      <td>0.022616</td>\n",
       "      <td>4</td>\n",
       "    </tr>\n",
       "    <tr>\n",
       "      <th>14</th>\n",
       "      <td>2.184461</td>\n",
       "      <td>0.012942</td>\n",
       "      <td>0.214456</td>\n",
       "      <td>0.008240</td>\n",
       "      <td>473</td>\n",
       "      <td>9</td>\n",
       "      <td>{'randomforestclassifier__n_estimators': 473, ...</td>\n",
       "      <td>0.814246</td>\n",
       "      <td>0.823547</td>\n",
       "      <td>0.833260</td>\n",
       "      <td>0.772511</td>\n",
       "      <td>0.810891</td>\n",
       "      <td>0.023156</td>\n",
       "      <td>5</td>\n",
       "    </tr>\n",
       "    <tr>\n",
       "      <th>28</th>\n",
       "      <td>7.087151</td>\n",
       "      <td>0.069070</td>\n",
       "      <td>0.559611</td>\n",
       "      <td>0.000239</td>\n",
       "      <td>1442</td>\n",
       "      <td>10</td>\n",
       "      <td>{'randomforestclassifier__n_estimators': 1442,...</td>\n",
       "      <td>0.815534</td>\n",
       "      <td>0.824053</td>\n",
       "      <td>0.829853</td>\n",
       "      <td>0.773468</td>\n",
       "      <td>0.810727</td>\n",
       "      <td>0.022106</td>\n",
       "      <td>6</td>\n",
       "    </tr>\n",
       "    <tr>\n",
       "      <th>35</th>\n",
       "      <td>7.487753</td>\n",
       "      <td>0.075862</td>\n",
       "      <td>0.640815</td>\n",
       "      <td>0.004529</td>\n",
       "      <td>1592</td>\n",
       "      <td>11</td>\n",
       "      <td>{'randomforestclassifier__n_estimators': 1592,...</td>\n",
       "      <td>0.815892</td>\n",
       "      <td>0.823934</td>\n",
       "      <td>0.829001</td>\n",
       "      <td>0.773911</td>\n",
       "      <td>0.810684</td>\n",
       "      <td>0.021740</td>\n",
       "      <td>7</td>\n",
       "    </tr>\n",
       "    <tr>\n",
       "      <th>39</th>\n",
       "      <td>1.837028</td>\n",
       "      <td>0.017608</td>\n",
       "      <td>0.164271</td>\n",
       "      <td>0.003726</td>\n",
       "      <td>412</td>\n",
       "      <td>10</td>\n",
       "      <td>{'randomforestclassifier__n_estimators': 412, ...</td>\n",
       "      <td>0.816725</td>\n",
       "      <td>0.824226</td>\n",
       "      <td>0.829187</td>\n",
       "      <td>0.772461</td>\n",
       "      <td>0.810650</td>\n",
       "      <td>0.022491</td>\n",
       "      <td>8</td>\n",
       "    </tr>\n",
       "    <tr>\n",
       "      <th>33</th>\n",
       "      <td>7.876951</td>\n",
       "      <td>0.016498</td>\n",
       "      <td>0.650303</td>\n",
       "      <td>0.006175</td>\n",
       "      <td>1618</td>\n",
       "      <td>10</td>\n",
       "      <td>{'randomforestclassifier__n_estimators': 1618,...</td>\n",
       "      <td>0.814821</td>\n",
       "      <td>0.823652</td>\n",
       "      <td>0.830081</td>\n",
       "      <td>0.773642</td>\n",
       "      <td>0.810549</td>\n",
       "      <td>0.021986</td>\n",
       "      <td>9</td>\n",
       "    </tr>\n",
       "    <tr>\n",
       "      <th>30</th>\n",
       "      <td>4.495960</td>\n",
       "      <td>0.029491</td>\n",
       "      <td>0.379944</td>\n",
       "      <td>0.008607</td>\n",
       "      <td>931</td>\n",
       "      <td>10</td>\n",
       "      <td>{'randomforestclassifier__n_estimators': 931, ...</td>\n",
       "      <td>0.815722</td>\n",
       "      <td>0.823255</td>\n",
       "      <td>0.829324</td>\n",
       "      <td>0.773874</td>\n",
       "      <td>0.810544</td>\n",
       "      <td>0.021713</td>\n",
       "      <td>10</td>\n",
       "    </tr>\n",
       "    <tr>\n",
       "      <th>11</th>\n",
       "      <td>2.795572</td>\n",
       "      <td>0.033470</td>\n",
       "      <td>0.239904</td>\n",
       "      <td>0.009223</td>\n",
       "      <td>562</td>\n",
       "      <td>12</td>\n",
       "      <td>{'randomforestclassifier__n_estimators': 562, ...</td>\n",
       "      <td>0.815750</td>\n",
       "      <td>0.824317</td>\n",
       "      <td>0.829324</td>\n",
       "      <td>0.772686</td>\n",
       "      <td>0.810519</td>\n",
       "      <td>0.022376</td>\n",
       "      <td>11</td>\n",
       "    </tr>\n",
       "    <tr>\n",
       "      <th>45</th>\n",
       "      <td>1.753086</td>\n",
       "      <td>0.018397</td>\n",
       "      <td>0.156679</td>\n",
       "      <td>0.003475</td>\n",
       "      <td>377</td>\n",
       "      <td>12</td>\n",
       "      <td>{'randomforestclassifier__n_estimators': 377, ...</td>\n",
       "      <td>0.816787</td>\n",
       "      <td>0.823357</td>\n",
       "      <td>0.826871</td>\n",
       "      <td>0.773373</td>\n",
       "      <td>0.810097</td>\n",
       "      <td>0.021510</td>\n",
       "      <td>12</td>\n",
       "    </tr>\n",
       "    <tr>\n",
       "      <th>25</th>\n",
       "      <td>1.503843</td>\n",
       "      <td>0.016186</td>\n",
       "      <td>0.128900</td>\n",
       "      <td>0.001888</td>\n",
       "      <td>319</td>\n",
       "      <td>11</td>\n",
       "      <td>{'randomforestclassifier__n_estimators': 319, ...</td>\n",
       "      <td>0.814577</td>\n",
       "      <td>0.825225</td>\n",
       "      <td>0.828472</td>\n",
       "      <td>0.772050</td>\n",
       "      <td>0.810081</td>\n",
       "      <td>0.022551</td>\n",
       "      <td>13</td>\n",
       "    </tr>\n",
       "    <tr>\n",
       "      <th>29</th>\n",
       "      <td>4.539401</td>\n",
       "      <td>0.016476</td>\n",
       "      <td>0.360783</td>\n",
       "      <td>0.003562</td>\n",
       "      <td>883</td>\n",
       "      <td>13</td>\n",
       "      <td>{'randomforestclassifier__n_estimators': 883, ...</td>\n",
       "      <td>0.817297</td>\n",
       "      <td>0.825334</td>\n",
       "      <td>0.826570</td>\n",
       "      <td>0.770509</td>\n",
       "      <td>0.809928</td>\n",
       "      <td>0.023035</td>\n",
       "      <td>14</td>\n",
       "    </tr>\n",
       "    <tr>\n",
       "      <th>18</th>\n",
       "      <td>8.984977</td>\n",
       "      <td>0.034959</td>\n",
       "      <td>0.748728</td>\n",
       "      <td>0.007076</td>\n",
       "      <td>1933</td>\n",
       "      <td>12</td>\n",
       "      <td>{'randomforestclassifier__n_estimators': 1933,...</td>\n",
       "      <td>0.816693</td>\n",
       "      <td>0.824719</td>\n",
       "      <td>0.826584</td>\n",
       "      <td>0.771412</td>\n",
       "      <td>0.809852</td>\n",
       "      <td>0.022502</td>\n",
       "      <td>15</td>\n",
       "    </tr>\n",
       "    <tr>\n",
       "      <th>7</th>\n",
       "      <td>3.319948</td>\n",
       "      <td>0.013761</td>\n",
       "      <td>0.284799</td>\n",
       "      <td>0.004424</td>\n",
       "      <td>718</td>\n",
       "      <td>12</td>\n",
       "      <td>{'randomforestclassifier__n_estimators': 718, ...</td>\n",
       "      <td>0.816941</td>\n",
       "      <td>0.823150</td>\n",
       "      <td>0.827040</td>\n",
       "      <td>0.771710</td>\n",
       "      <td>0.809710</td>\n",
       "      <td>0.022233</td>\n",
       "      <td>16</td>\n",
       "    </tr>\n",
       "    <tr>\n",
       "      <th>37</th>\n",
       "      <td>3.715496</td>\n",
       "      <td>0.012395</td>\n",
       "      <td>0.306623</td>\n",
       "      <td>0.002925</td>\n",
       "      <td>768</td>\n",
       "      <td>13</td>\n",
       "      <td>{'randomforestclassifier__n_estimators': 768, ...</td>\n",
       "      <td>0.816247</td>\n",
       "      <td>0.824833</td>\n",
       "      <td>0.825042</td>\n",
       "      <td>0.772711</td>\n",
       "      <td>0.809708</td>\n",
       "      <td>0.021653</td>\n",
       "      <td>17</td>\n",
       "    </tr>\n",
       "    <tr>\n",
       "      <th>44</th>\n",
       "      <td>4.210672</td>\n",
       "      <td>0.019272</td>\n",
       "      <td>0.346916</td>\n",
       "      <td>0.003004</td>\n",
       "      <td>902</td>\n",
       "      <td>8</td>\n",
       "      <td>{'randomforestclassifier__n_estimators': 902, ...</td>\n",
       "      <td>0.806171</td>\n",
       "      <td>0.820838</td>\n",
       "      <td>0.836771</td>\n",
       "      <td>0.774481</td>\n",
       "      <td>0.809565</td>\n",
       "      <td>0.022966</td>\n",
       "      <td>18</td>\n",
       "    </tr>\n",
       "    <tr>\n",
       "      <th>4</th>\n",
       "      <td>0.819872</td>\n",
       "      <td>0.002058</td>\n",
       "      <td>0.077352</td>\n",
       "      <td>0.002876</td>\n",
       "      <td>175</td>\n",
       "      <td>12</td>\n",
       "      <td>{'randomforestclassifier__n_estimators': 175, ...</td>\n",
       "      <td>0.815902</td>\n",
       "      <td>0.820234</td>\n",
       "      <td>0.828745</td>\n",
       "      <td>0.771510</td>\n",
       "      <td>0.809098</td>\n",
       "      <td>0.022188</td>\n",
       "      <td>19</td>\n",
       "    </tr>\n",
       "    <tr>\n",
       "      <th>0</th>\n",
       "      <td>1.383350</td>\n",
       "      <td>0.013064</td>\n",
       "      <td>0.136815</td>\n",
       "      <td>0.000856</td>\n",
       "      <td>304</td>\n",
       "      <td>13</td>\n",
       "      <td>{'randomforestclassifier__n_estimators': 304, ...</td>\n",
       "      <td>0.812671</td>\n",
       "      <td>0.822131</td>\n",
       "      <td>0.829402</td>\n",
       "      <td>0.770787</td>\n",
       "      <td>0.808748</td>\n",
       "      <td>0.022705</td>\n",
       "      <td>20</td>\n",
       "    </tr>\n",
       "    <tr>\n",
       "      <th>12</th>\n",
       "      <td>3.627443</td>\n",
       "      <td>0.002958</td>\n",
       "      <td>0.318038</td>\n",
       "      <td>0.006770</td>\n",
       "      <td>823</td>\n",
       "      <td>8</td>\n",
       "      <td>{'randomforestclassifier__n_estimators': 823, ...</td>\n",
       "      <td>0.808424</td>\n",
       "      <td>0.819766</td>\n",
       "      <td>0.834263</td>\n",
       "      <td>0.772520</td>\n",
       "      <td>0.808743</td>\n",
       "      <td>0.022831</td>\n",
       "      <td>21</td>\n",
       "    </tr>\n",
       "    <tr>\n",
       "      <th>5</th>\n",
       "      <td>1.716423</td>\n",
       "      <td>0.009336</td>\n",
       "      <td>0.116568</td>\n",
       "      <td>0.000684</td>\n",
       "      <td>314</td>\n",
       "      <td>7</td>\n",
       "      <td>{'randomforestclassifier__n_estimators': 314, ...</td>\n",
       "      <td>0.805941</td>\n",
       "      <td>0.813077</td>\n",
       "      <td>0.833059</td>\n",
       "      <td>0.770194</td>\n",
       "      <td>0.805568</td>\n",
       "      <td>0.022713</td>\n",
       "      <td>22</td>\n",
       "    </tr>\n",
       "    <tr>\n",
       "      <th>40</th>\n",
       "      <td>7.424365</td>\n",
       "      <td>0.043878</td>\n",
       "      <td>0.607342</td>\n",
       "      <td>0.014269</td>\n",
       "      <td>1694</td>\n",
       "      <td>6</td>\n",
       "      <td>{'randomforestclassifier__n_estimators': 1694,...</td>\n",
       "      <td>0.801061</td>\n",
       "      <td>0.808170</td>\n",
       "      <td>0.836315</td>\n",
       "      <td>0.769104</td>\n",
       "      <td>0.803663</td>\n",
       "      <td>0.023914</td>\n",
       "      <td>23</td>\n",
       "    </tr>\n",
       "    <tr>\n",
       "      <th>6</th>\n",
       "      <td>6.805900</td>\n",
       "      <td>0.014072</td>\n",
       "      <td>0.572734</td>\n",
       "      <td>0.006829</td>\n",
       "      <td>1584</td>\n",
       "      <td>6</td>\n",
       "      <td>{'randomforestclassifier__n_estimators': 1584,...</td>\n",
       "      <td>0.802165</td>\n",
       "      <td>0.805234</td>\n",
       "      <td>0.837578</td>\n",
       "      <td>0.768803</td>\n",
       "      <td>0.803445</td>\n",
       "      <td>0.024341</td>\n",
       "      <td>24</td>\n",
       "    </tr>\n",
       "    <tr>\n",
       "      <th>13</th>\n",
       "      <td>7.230897</td>\n",
       "      <td>0.033580</td>\n",
       "      <td>0.583340</td>\n",
       "      <td>0.006567</td>\n",
       "      <td>1663</td>\n",
       "      <td>6</td>\n",
       "      <td>{'randomforestclassifier__n_estimators': 1663,...</td>\n",
       "      <td>0.801434</td>\n",
       "      <td>0.806000</td>\n",
       "      <td>0.836935</td>\n",
       "      <td>0.769013</td>\n",
       "      <td>0.803345</td>\n",
       "      <td>0.024071</td>\n",
       "      <td>25</td>\n",
       "    </tr>\n",
       "    <tr>\n",
       "      <th>49</th>\n",
       "      <td>2.573438</td>\n",
       "      <td>0.013802</td>\n",
       "      <td>0.223625</td>\n",
       "      <td>0.007595</td>\n",
       "      <td>553</td>\n",
       "      <td>6</td>\n",
       "      <td>{'randomforestclassifier__n_estimators': 553, ...</td>\n",
       "      <td>0.802505</td>\n",
       "      <td>0.806114</td>\n",
       "      <td>0.835403</td>\n",
       "      <td>0.768452</td>\n",
       "      <td>0.803119</td>\n",
       "      <td>0.023735</td>\n",
       "      <td>26</td>\n",
       "    </tr>\n",
       "    <tr>\n",
       "      <th>46</th>\n",
       "      <td>4.060934</td>\n",
       "      <td>0.010518</td>\n",
       "      <td>0.338551</td>\n",
       "      <td>0.007664</td>\n",
       "      <td>927</td>\n",
       "      <td>6</td>\n",
       "      <td>{'randomforestclassifier__n_estimators': 927, ...</td>\n",
       "      <td>0.801627</td>\n",
       "      <td>0.805001</td>\n",
       "      <td>0.837925</td>\n",
       "      <td>0.767818</td>\n",
       "      <td>0.803093</td>\n",
       "      <td>0.024816</td>\n",
       "      <td>27</td>\n",
       "    </tr>\n",
       "    <tr>\n",
       "      <th>48</th>\n",
       "      <td>3.754926</td>\n",
       "      <td>0.047950</td>\n",
       "      <td>0.213361</td>\n",
       "      <td>0.002201</td>\n",
       "      <td>855</td>\n",
       "      <td>6</td>\n",
       "      <td>{'randomforestclassifier__n_estimators': 855, ...</td>\n",
       "      <td>0.802906</td>\n",
       "      <td>0.803072</td>\n",
       "      <td>0.835941</td>\n",
       "      <td>0.767864</td>\n",
       "      <td>0.802446</td>\n",
       "      <td>0.024075</td>\n",
       "      <td>28</td>\n",
       "    </tr>\n",
       "    <tr>\n",
       "      <th>43</th>\n",
       "      <td>4.855732</td>\n",
       "      <td>0.018104</td>\n",
       "      <td>0.403390</td>\n",
       "      <td>0.011402</td>\n",
       "      <td>1088</td>\n",
       "      <td>5</td>\n",
       "      <td>{'randomforestclassifier__n_estimators': 1088,...</td>\n",
       "      <td>0.800270</td>\n",
       "      <td>0.788562</td>\n",
       "      <td>0.834992</td>\n",
       "      <td>0.766906</td>\n",
       "      <td>0.797683</td>\n",
       "      <td>0.024643</td>\n",
       "      <td>29</td>\n",
       "    </tr>\n",
       "    <tr>\n",
       "      <th>47</th>\n",
       "      <td>4.413936</td>\n",
       "      <td>0.021860</td>\n",
       "      <td>0.395628</td>\n",
       "      <td>0.008933</td>\n",
       "      <td>1042</td>\n",
       "      <td>5</td>\n",
       "      <td>{'randomforestclassifier__n_estimators': 1042,...</td>\n",
       "      <td>0.799489</td>\n",
       "      <td>0.785872</td>\n",
       "      <td>0.834190</td>\n",
       "      <td>0.766017</td>\n",
       "      <td>0.796392</td>\n",
       "      <td>0.024857</td>\n",
       "      <td>30</td>\n",
       "    </tr>\n",
       "    <tr>\n",
       "      <th>15</th>\n",
       "      <td>2.454876</td>\n",
       "      <td>0.009745</td>\n",
       "      <td>0.224994</td>\n",
       "      <td>0.004604</td>\n",
       "      <td>572</td>\n",
       "      <td>5</td>\n",
       "      <td>{'randomforestclassifier__n_estimators': 572, ...</td>\n",
       "      <td>0.797736</td>\n",
       "      <td>0.785694</td>\n",
       "      <td>0.832849</td>\n",
       "      <td>0.766268</td>\n",
       "      <td>0.795637</td>\n",
       "      <td>0.024241</td>\n",
       "      <td>31</td>\n",
       "    </tr>\n",
       "    <tr>\n",
       "      <th>27</th>\n",
       "      <td>4.029680</td>\n",
       "      <td>0.034818</td>\n",
       "      <td>0.330857</td>\n",
       "      <td>0.005971</td>\n",
       "      <td>916</td>\n",
       "      <td>5</td>\n",
       "      <td>{'randomforestclassifier__n_estimators': 916, ...</td>\n",
       "      <td>0.797874</td>\n",
       "      <td>0.784467</td>\n",
       "      <td>0.834628</td>\n",
       "      <td>0.764987</td>\n",
       "      <td>0.795489</td>\n",
       "      <td>0.025443</td>\n",
       "      <td>32</td>\n",
       "    </tr>\n",
       "    <tr>\n",
       "      <th>8</th>\n",
       "      <td>1.832702</td>\n",
       "      <td>0.004297</td>\n",
       "      <td>0.152326</td>\n",
       "      <td>0.001390</td>\n",
       "      <td>465</td>\n",
       "      <td>4</td>\n",
       "      <td>{'randomforestclassifier__n_estimators': 465, ...</td>\n",
       "      <td>0.794784</td>\n",
       "      <td>0.772561</td>\n",
       "      <td>0.826930</td>\n",
       "      <td>0.765429</td>\n",
       "      <td>0.789926</td>\n",
       "      <td>0.023951</td>\n",
       "      <td>33</td>\n",
       "    </tr>\n",
       "    <tr>\n",
       "      <th>22</th>\n",
       "      <td>2.545475</td>\n",
       "      <td>0.011783</td>\n",
       "      <td>0.227122</td>\n",
       "      <td>0.001528</td>\n",
       "      <td>620</td>\n",
       "      <td>4</td>\n",
       "      <td>{'randomforestclassifier__n_estimators': 620, ...</td>\n",
       "      <td>0.792310</td>\n",
       "      <td>0.771270</td>\n",
       "      <td>0.827892</td>\n",
       "      <td>0.762438</td>\n",
       "      <td>0.788478</td>\n",
       "      <td>0.025211</td>\n",
       "      <td>34</td>\n",
       "    </tr>\n",
       "    <tr>\n",
       "      <th>26</th>\n",
       "      <td>2.404105</td>\n",
       "      <td>0.021917</td>\n",
       "      <td>0.224002</td>\n",
       "      <td>0.015030</td>\n",
       "      <td>596</td>\n",
       "      <td>4</td>\n",
       "      <td>{'randomforestclassifier__n_estimators': 596, ...</td>\n",
       "      <td>0.792287</td>\n",
       "      <td>0.769775</td>\n",
       "      <td>0.825950</td>\n",
       "      <td>0.763933</td>\n",
       "      <td>0.787986</td>\n",
       "      <td>0.024341</td>\n",
       "      <td>35</td>\n",
       "    </tr>\n",
       "    <tr>\n",
       "      <th>10</th>\n",
       "      <td>2.156478</td>\n",
       "      <td>0.010316</td>\n",
       "      <td>0.179309</td>\n",
       "      <td>0.004458</td>\n",
       "      <td>576</td>\n",
       "      <td>3</td>\n",
       "      <td>{'randomforestclassifier__n_estimators': 576, ...</td>\n",
       "      <td>0.794789</td>\n",
       "      <td>0.752638</td>\n",
       "      <td>0.822197</td>\n",
       "      <td>0.755429</td>\n",
       "      <td>0.781263</td>\n",
       "      <td>0.028919</td>\n",
       "      <td>36</td>\n",
       "    </tr>\n",
       "    <tr>\n",
       "      <th>3</th>\n",
       "      <td>6.423984</td>\n",
       "      <td>0.031754</td>\n",
       "      <td>0.543412</td>\n",
       "      <td>0.011592</td>\n",
       "      <td>1540</td>\n",
       "      <td>3</td>\n",
       "      <td>{'randomforestclassifier__n_estimators': 1540,...</td>\n",
       "      <td>0.796619</td>\n",
       "      <td>0.756920</td>\n",
       "      <td>0.814682</td>\n",
       "      <td>0.752902</td>\n",
       "      <td>0.780281</td>\n",
       "      <td>0.026200</td>\n",
       "      <td>37</td>\n",
       "    </tr>\n",
       "    <tr>\n",
       "      <th>21</th>\n",
       "      <td>4.649240</td>\n",
       "      <td>0.035814</td>\n",
       "      <td>0.382474</td>\n",
       "      <td>0.004809</td>\n",
       "      <td>1201</td>\n",
       "      <td>3</td>\n",
       "      <td>{'randomforestclassifier__n_estimators': 1201,...</td>\n",
       "      <td>0.794747</td>\n",
       "      <td>0.754736</td>\n",
       "      <td>0.817906</td>\n",
       "      <td>0.752857</td>\n",
       "      <td>0.780061</td>\n",
       "      <td>0.027520</td>\n",
       "      <td>38</td>\n",
       "    </tr>\n",
       "    <tr>\n",
       "      <th>20</th>\n",
       "      <td>5.488245</td>\n",
       "      <td>0.008532</td>\n",
       "      <td>0.446045</td>\n",
       "      <td>0.002447</td>\n",
       "      <td>1461</td>\n",
       "      <td>3</td>\n",
       "      <td>{'randomforestclassifier__n_estimators': 1461,...</td>\n",
       "      <td>0.796228</td>\n",
       "      <td>0.749688</td>\n",
       "      <td>0.816169</td>\n",
       "      <td>0.752433</td>\n",
       "      <td>0.778629</td>\n",
       "      <td>0.028473</td>\n",
       "      <td>39</td>\n",
       "    </tr>\n",
       "    <tr>\n",
       "      <th>41</th>\n",
       "      <td>6.068096</td>\n",
       "      <td>0.014429</td>\n",
       "      <td>0.498199</td>\n",
       "      <td>0.014593</td>\n",
       "      <td>1656</td>\n",
       "      <td>2</td>\n",
       "      <td>{'randomforestclassifier__n_estimators': 1656,...</td>\n",
       "      <td>0.784308</td>\n",
       "      <td>0.735419</td>\n",
       "      <td>0.802456</td>\n",
       "      <td>0.734398</td>\n",
       "      <td>0.764145</td>\n",
       "      <td>0.029935</td>\n",
       "      <td>40</td>\n",
       "    </tr>\n",
       "    <tr>\n",
       "      <th>31</th>\n",
       "      <td>3.231577</td>\n",
       "      <td>0.022868</td>\n",
       "      <td>0.257396</td>\n",
       "      <td>0.011606</td>\n",
       "      <td>847</td>\n",
       "      <td>2</td>\n",
       "      <td>{'randomforestclassifier__n_estimators': 847, ...</td>\n",
       "      <td>0.784883</td>\n",
       "      <td>0.733983</td>\n",
       "      <td>0.800393</td>\n",
       "      <td>0.736536</td>\n",
       "      <td>0.763949</td>\n",
       "      <td>0.029222</td>\n",
       "      <td>41</td>\n",
       "    </tr>\n",
       "    <tr>\n",
       "      <th>42</th>\n",
       "      <td>7.567533</td>\n",
       "      <td>0.045136</td>\n",
       "      <td>0.618146</td>\n",
       "      <td>0.013390</td>\n",
       "      <td>1990</td>\n",
       "      <td>2</td>\n",
       "      <td>{'randomforestclassifier__n_estimators': 1990,...</td>\n",
       "      <td>0.782804</td>\n",
       "      <td>0.733821</td>\n",
       "      <td>0.802887</td>\n",
       "      <td>0.734981</td>\n",
       "      <td>0.763624</td>\n",
       "      <td>0.030075</td>\n",
       "      <td>42</td>\n",
       "    </tr>\n",
       "    <tr>\n",
       "      <th>34</th>\n",
       "      <td>4.239265</td>\n",
       "      <td>0.019062</td>\n",
       "      <td>0.325608</td>\n",
       "      <td>0.006639</td>\n",
       "      <td>1105</td>\n",
       "      <td>2</td>\n",
       "      <td>{'randomforestclassifier__n_estimators': 1105,...</td>\n",
       "      <td>0.784945</td>\n",
       "      <td>0.735180</td>\n",
       "      <td>0.801807</td>\n",
       "      <td>0.732407</td>\n",
       "      <td>0.763585</td>\n",
       "      <td>0.030398</td>\n",
       "      <td>43</td>\n",
       "    </tr>\n",
       "    <tr>\n",
       "      <th>19</th>\n",
       "      <td>1.870677</td>\n",
       "      <td>0.059836</td>\n",
       "      <td>0.154228</td>\n",
       "      <td>0.003863</td>\n",
       "      <td>533</td>\n",
       "      <td>2</td>\n",
       "      <td>{'randomforestclassifier__n_estimators': 533, ...</td>\n",
       "      <td>0.790498</td>\n",
       "      <td>0.733723</td>\n",
       "      <td>0.797151</td>\n",
       "      <td>0.732617</td>\n",
       "      <td>0.763497</td>\n",
       "      <td>0.030421</td>\n",
       "      <td>44</td>\n",
       "    </tr>\n",
       "    <tr>\n",
       "      <th>17</th>\n",
       "      <td>2.658361</td>\n",
       "      <td>0.021398</td>\n",
       "      <td>0.222960</td>\n",
       "      <td>0.005691</td>\n",
       "      <td>819</td>\n",
       "      <td>1</td>\n",
       "      <td>{'randomforestclassifier__n_estimators': 819, ...</td>\n",
       "      <td>0.765366</td>\n",
       "      <td>0.722154</td>\n",
       "      <td>0.783557</td>\n",
       "      <td>0.702259</td>\n",
       "      <td>0.743334</td>\n",
       "      <td>0.032554</td>\n",
       "      <td>45</td>\n",
       "    </tr>\n",
       "    <tr>\n",
       "      <th>16</th>\n",
       "      <td>5.721054</td>\n",
       "      <td>0.046862</td>\n",
       "      <td>0.468405</td>\n",
       "      <td>0.017114</td>\n",
       "      <td>1735</td>\n",
       "      <td>1</td>\n",
       "      <td>{'randomforestclassifier__n_estimators': 1735,...</td>\n",
       "      <td>0.764860</td>\n",
       "      <td>0.722726</td>\n",
       "      <td>0.783076</td>\n",
       "      <td>0.702101</td>\n",
       "      <td>0.743191</td>\n",
       "      <td>0.032278</td>\n",
       "      <td>46</td>\n",
       "    </tr>\n",
       "    <tr>\n",
       "      <th>36</th>\n",
       "      <td>6.364625</td>\n",
       "      <td>0.045048</td>\n",
       "      <td>0.584044</td>\n",
       "      <td>0.013853</td>\n",
       "      <td>1949</td>\n",
       "      <td>1</td>\n",
       "      <td>{'randomforestclassifier__n_estimators': 1949,...</td>\n",
       "      <td>0.763305</td>\n",
       "      <td>0.723912</td>\n",
       "      <td>0.782896</td>\n",
       "      <td>0.701668</td>\n",
       "      <td>0.742945</td>\n",
       "      <td>0.031924</td>\n",
       "      <td>47</td>\n",
       "    </tr>\n",
       "    <tr>\n",
       "      <th>2</th>\n",
       "      <td>3.261129</td>\n",
       "      <td>0.021694</td>\n",
       "      <td>0.253614</td>\n",
       "      <td>0.005346</td>\n",
       "      <td>910</td>\n",
       "      <td>1</td>\n",
       "      <td>{'randomforestclassifier__n_estimators': 910, ...</td>\n",
       "      <td>0.770282</td>\n",
       "      <td>0.719596</td>\n",
       "      <td>0.781485</td>\n",
       "      <td>0.698298</td>\n",
       "      <td>0.742415</td>\n",
       "      <td>0.034533</td>\n",
       "      <td>48</td>\n",
       "    </tr>\n",
       "    <tr>\n",
       "      <th>38</th>\n",
       "      <td>4.290830</td>\n",
       "      <td>0.006964</td>\n",
       "      <td>0.349442</td>\n",
       "      <td>0.001434</td>\n",
       "      <td>1317</td>\n",
       "      <td>1</td>\n",
       "      <td>{'randomforestclassifier__n_estimators': 1317,...</td>\n",
       "      <td>0.765506</td>\n",
       "      <td>0.717779</td>\n",
       "      <td>0.783001</td>\n",
       "      <td>0.699028</td>\n",
       "      <td>0.741328</td>\n",
       "      <td>0.034151</td>\n",
       "      <td>49</td>\n",
       "    </tr>\n",
       "    <tr>\n",
       "      <th>32</th>\n",
       "      <td>0.807578</td>\n",
       "      <td>0.012918</td>\n",
       "      <td>0.072258</td>\n",
       "      <td>0.007304</td>\n",
       "      <td>239</td>\n",
       "      <td>1</td>\n",
       "      <td>{'randomforestclassifier__n_estimators': 239, ...</td>\n",
       "      <td>0.755851</td>\n",
       "      <td>0.718486</td>\n",
       "      <td>0.785878</td>\n",
       "      <td>0.701078</td>\n",
       "      <td>0.740323</td>\n",
       "      <td>0.032915</td>\n",
       "      <td>50</td>\n",
       "    </tr>\n",
       "  </tbody>\n",
       "</table>\n",
       "</div>"
      ],
      "text/plain": [
       "    mean_fit_time  std_fit_time  mean_score_time  std_score_time  \\\n",
       "23       0.321013      0.002885         0.031744        0.001635   \n",
       "9        6.130182      0.056914         0.532840        0.005050   \n",
       "1        1.078943      0.002009         0.112999        0.007062   \n",
       "24       7.164024      0.036490         0.653135        0.007812   \n",
       "14       2.184461      0.012942         0.214456        0.008240   \n",
       "28       7.087151      0.069070         0.559611        0.000239   \n",
       "35       7.487753      0.075862         0.640815        0.004529   \n",
       "39       1.837028      0.017608         0.164271        0.003726   \n",
       "33       7.876951      0.016498         0.650303        0.006175   \n",
       "30       4.495960      0.029491         0.379944        0.008607   \n",
       "11       2.795572      0.033470         0.239904        0.009223   \n",
       "45       1.753086      0.018397         0.156679        0.003475   \n",
       "25       1.503843      0.016186         0.128900        0.001888   \n",
       "29       4.539401      0.016476         0.360783        0.003562   \n",
       "18       8.984977      0.034959         0.748728        0.007076   \n",
       "7        3.319948      0.013761         0.284799        0.004424   \n",
       "37       3.715496      0.012395         0.306623        0.002925   \n",
       "44       4.210672      0.019272         0.346916        0.003004   \n",
       "4        0.819872      0.002058         0.077352        0.002876   \n",
       "0        1.383350      0.013064         0.136815        0.000856   \n",
       "12       3.627443      0.002958         0.318038        0.006770   \n",
       "5        1.716423      0.009336         0.116568        0.000684   \n",
       "40       7.424365      0.043878         0.607342        0.014269   \n",
       "6        6.805900      0.014072         0.572734        0.006829   \n",
       "13       7.230897      0.033580         0.583340        0.006567   \n",
       "49       2.573438      0.013802         0.223625        0.007595   \n",
       "46       4.060934      0.010518         0.338551        0.007664   \n",
       "48       3.754926      0.047950         0.213361        0.002201   \n",
       "43       4.855732      0.018104         0.403390        0.011402   \n",
       "47       4.413936      0.021860         0.395628        0.008933   \n",
       "15       2.454876      0.009745         0.224994        0.004604   \n",
       "27       4.029680      0.034818         0.330857        0.005971   \n",
       "8        1.832702      0.004297         0.152326        0.001390   \n",
       "22       2.545475      0.011783         0.227122        0.001528   \n",
       "26       2.404105      0.021917         0.224002        0.015030   \n",
       "10       2.156478      0.010316         0.179309        0.004458   \n",
       "3        6.423984      0.031754         0.543412        0.011592   \n",
       "21       4.649240      0.035814         0.382474        0.004809   \n",
       "20       5.488245      0.008532         0.446045        0.002447   \n",
       "41       6.068096      0.014429         0.498199        0.014593   \n",
       "31       3.231577      0.022868         0.257396        0.011606   \n",
       "42       7.567533      0.045136         0.618146        0.013390   \n",
       "34       4.239265      0.019062         0.325608        0.006639   \n",
       "19       1.870677      0.059836         0.154228        0.003863   \n",
       "17       2.658361      0.021398         0.222960        0.005691   \n",
       "16       5.721054      0.046862         0.468405        0.017114   \n",
       "36       6.364625      0.045048         0.584044        0.013853   \n",
       "2        3.261129      0.021694         0.253614        0.005346   \n",
       "38       4.290830      0.006964         0.349442        0.001434   \n",
       "32       0.807578      0.012918         0.072258        0.007304   \n",
       "\n",
       "   param_randomforestclassifier__n_estimators  \\\n",
       "23                                         68   \n",
       "9                                        1300   \n",
       "1                                         245   \n",
       "24                                       1489   \n",
       "14                                        473   \n",
       "28                                       1442   \n",
       "35                                       1592   \n",
       "39                                        412   \n",
       "33                                       1618   \n",
       "30                                        931   \n",
       "11                                        562   \n",
       "45                                        377   \n",
       "25                                        319   \n",
       "29                                        883   \n",
       "18                                       1933   \n",
       "7                                         718   \n",
       "37                                        768   \n",
       "44                                        902   \n",
       "4                                         175   \n",
       "0                                         304   \n",
       "12                                        823   \n",
       "5                                         314   \n",
       "40                                       1694   \n",
       "6                                        1584   \n",
       "13                                       1663   \n",
       "49                                        553   \n",
       "46                                        927   \n",
       "48                                        855   \n",
       "43                                       1088   \n",
       "47                                       1042   \n",
       "15                                        572   \n",
       "27                                        916   \n",
       "8                                         465   \n",
       "22                                        620   \n",
       "26                                        596   \n",
       "10                                        576   \n",
       "3                                        1540   \n",
       "21                                       1201   \n",
       "20                                       1461   \n",
       "41                                       1656   \n",
       "31                                        847   \n",
       "42                                       1990   \n",
       "34                                       1105   \n",
       "19                                        533   \n",
       "17                                        819   \n",
       "16                                       1735   \n",
       "36                                       1949   \n",
       "2                                         910   \n",
       "38                                       1317   \n",
       "32                                        239   \n",
       "\n",
       "   param_randomforestclassifier__max_depth  \\\n",
       "23                                      10   \n",
       "9                                        9   \n",
       "1                                        9   \n",
       "24                                      11   \n",
       "14                                       9   \n",
       "28                                      10   \n",
       "35                                      11   \n",
       "39                                      10   \n",
       "33                                      10   \n",
       "30                                      10   \n",
       "11                                      12   \n",
       "45                                      12   \n",
       "25                                      11   \n",
       "29                                      13   \n",
       "18                                      12   \n",
       "7                                       12   \n",
       "37                                      13   \n",
       "44                                       8   \n",
       "4                                       12   \n",
       "0                                       13   \n",
       "12                                       8   \n",
       "5                                        7   \n",
       "40                                       6   \n",
       "6                                        6   \n",
       "13                                       6   \n",
       "49                                       6   \n",
       "46                                       6   \n",
       "48                                       6   \n",
       "43                                       5   \n",
       "47                                       5   \n",
       "15                                       5   \n",
       "27                                       5   \n",
       "8                                        4   \n",
       "22                                       4   \n",
       "26                                       4   \n",
       "10                                       3   \n",
       "3                                        3   \n",
       "21                                       3   \n",
       "20                                       3   \n",
       "41                                       2   \n",
       "31                                       2   \n",
       "42                                       2   \n",
       "34                                       2   \n",
       "19                                       2   \n",
       "17                                       1   \n",
       "16                                       1   \n",
       "36                                       1   \n",
       "2                                        1   \n",
       "38                                       1   \n",
       "32                                       1   \n",
       "\n",
       "                                               params  split0_test_score  \\\n",
       "23  {'randomforestclassifier__n_estimators': 68, '...           0.815382   \n",
       "9   {'randomforestclassifier__n_estimators': 1300,...           0.813455   \n",
       "1   {'randomforestclassifier__n_estimators': 245, ...           0.814743   \n",
       "24  {'randomforestclassifier__n_estimators': 1489,...           0.816320   \n",
       "14  {'randomforestclassifier__n_estimators': 473, ...           0.814246   \n",
       "28  {'randomforestclassifier__n_estimators': 1442,...           0.815534   \n",
       "35  {'randomforestclassifier__n_estimators': 1592,...           0.815892   \n",
       "39  {'randomforestclassifier__n_estimators': 412, ...           0.816725   \n",
       "33  {'randomforestclassifier__n_estimators': 1618,...           0.814821   \n",
       "30  {'randomforestclassifier__n_estimators': 931, ...           0.815722   \n",
       "11  {'randomforestclassifier__n_estimators': 562, ...           0.815750   \n",
       "45  {'randomforestclassifier__n_estimators': 377, ...           0.816787   \n",
       "25  {'randomforestclassifier__n_estimators': 319, ...           0.814577   \n",
       "29  {'randomforestclassifier__n_estimators': 883, ...           0.817297   \n",
       "18  {'randomforestclassifier__n_estimators': 1933,...           0.816693   \n",
       "7   {'randomforestclassifier__n_estimators': 718, ...           0.816941   \n",
       "37  {'randomforestclassifier__n_estimators': 768, ...           0.816247   \n",
       "44  {'randomforestclassifier__n_estimators': 902, ...           0.806171   \n",
       "4   {'randomforestclassifier__n_estimators': 175, ...           0.815902   \n",
       "0   {'randomforestclassifier__n_estimators': 304, ...           0.812671   \n",
       "12  {'randomforestclassifier__n_estimators': 823, ...           0.808424   \n",
       "5   {'randomforestclassifier__n_estimators': 314, ...           0.805941   \n",
       "40  {'randomforestclassifier__n_estimators': 1694,...           0.801061   \n",
       "6   {'randomforestclassifier__n_estimators': 1584,...           0.802165   \n",
       "13  {'randomforestclassifier__n_estimators': 1663,...           0.801434   \n",
       "49  {'randomforestclassifier__n_estimators': 553, ...           0.802505   \n",
       "46  {'randomforestclassifier__n_estimators': 927, ...           0.801627   \n",
       "48  {'randomforestclassifier__n_estimators': 855, ...           0.802906   \n",
       "43  {'randomforestclassifier__n_estimators': 1088,...           0.800270   \n",
       "47  {'randomforestclassifier__n_estimators': 1042,...           0.799489   \n",
       "15  {'randomforestclassifier__n_estimators': 572, ...           0.797736   \n",
       "27  {'randomforestclassifier__n_estimators': 916, ...           0.797874   \n",
       "8   {'randomforestclassifier__n_estimators': 465, ...           0.794784   \n",
       "22  {'randomforestclassifier__n_estimators': 620, ...           0.792310   \n",
       "26  {'randomforestclassifier__n_estimators': 596, ...           0.792287   \n",
       "10  {'randomforestclassifier__n_estimators': 576, ...           0.794789   \n",
       "3   {'randomforestclassifier__n_estimators': 1540,...           0.796619   \n",
       "21  {'randomforestclassifier__n_estimators': 1201,...           0.794747   \n",
       "20  {'randomforestclassifier__n_estimators': 1461,...           0.796228   \n",
       "41  {'randomforestclassifier__n_estimators': 1656,...           0.784308   \n",
       "31  {'randomforestclassifier__n_estimators': 847, ...           0.784883   \n",
       "42  {'randomforestclassifier__n_estimators': 1990,...           0.782804   \n",
       "34  {'randomforestclassifier__n_estimators': 1105,...           0.784945   \n",
       "19  {'randomforestclassifier__n_estimators': 533, ...           0.790498   \n",
       "17  {'randomforestclassifier__n_estimators': 819, ...           0.765366   \n",
       "16  {'randomforestclassifier__n_estimators': 1735,...           0.764860   \n",
       "36  {'randomforestclassifier__n_estimators': 1949,...           0.763305   \n",
       "2   {'randomforestclassifier__n_estimators': 910, ...           0.770282   \n",
       "38  {'randomforestclassifier__n_estimators': 1317,...           0.765506   \n",
       "32  {'randomforestclassifier__n_estimators': 239, ...           0.755851   \n",
       "\n",
       "    split1_test_score  split2_test_score  split3_test_score  mean_test_score  \\\n",
       "23           0.823761           0.832512           0.775778         0.811858   \n",
       "9            0.824313           0.833565           0.773628         0.811240   \n",
       "1            0.824194           0.831636           0.773347         0.810980   \n",
       "24           0.825289           0.829429           0.772609         0.810912   \n",
       "14           0.823547           0.833260           0.772511         0.810891   \n",
       "28           0.824053           0.829853           0.773468         0.810727   \n",
       "35           0.823934           0.829001           0.773911         0.810684   \n",
       "39           0.824226           0.829187           0.772461         0.810650   \n",
       "33           0.823652           0.830081           0.773642         0.810549   \n",
       "30           0.823255           0.829324           0.773874         0.810544   \n",
       "11           0.824317           0.829324           0.772686         0.810519   \n",
       "45           0.823357           0.826871           0.773373         0.810097   \n",
       "25           0.825225           0.828472           0.772050         0.810081   \n",
       "29           0.825334           0.826570           0.770509         0.809928   \n",
       "18           0.824719           0.826584           0.771412         0.809852   \n",
       "7            0.823150           0.827040           0.771710         0.809710   \n",
       "37           0.824833           0.825042           0.772711         0.809708   \n",
       "44           0.820838           0.836771           0.774481         0.809565   \n",
       "4            0.820234           0.828745           0.771510         0.809098   \n",
       "0            0.822131           0.829402           0.770787         0.808748   \n",
       "12           0.819766           0.834263           0.772520         0.808743   \n",
       "5            0.813077           0.833059           0.770194         0.805568   \n",
       "40           0.808170           0.836315           0.769104         0.803663   \n",
       "6            0.805234           0.837578           0.768803         0.803445   \n",
       "13           0.806000           0.836935           0.769013         0.803345   \n",
       "49           0.806114           0.835403           0.768452         0.803119   \n",
       "46           0.805001           0.837925           0.767818         0.803093   \n",
       "48           0.803072           0.835941           0.767864         0.802446   \n",
       "43           0.788562           0.834992           0.766906         0.797683   \n",
       "47           0.785872           0.834190           0.766017         0.796392   \n",
       "15           0.785694           0.832849           0.766268         0.795637   \n",
       "27           0.784467           0.834628           0.764987         0.795489   \n",
       "8            0.772561           0.826930           0.765429         0.789926   \n",
       "22           0.771270           0.827892           0.762438         0.788478   \n",
       "26           0.769775           0.825950           0.763933         0.787986   \n",
       "10           0.752638           0.822197           0.755429         0.781263   \n",
       "3            0.756920           0.814682           0.752902         0.780281   \n",
       "21           0.754736           0.817906           0.752857         0.780061   \n",
       "20           0.749688           0.816169           0.752433         0.778629   \n",
       "41           0.735419           0.802456           0.734398         0.764145   \n",
       "31           0.733983           0.800393           0.736536         0.763949   \n",
       "42           0.733821           0.802887           0.734981         0.763624   \n",
       "34           0.735180           0.801807           0.732407         0.763585   \n",
       "19           0.733723           0.797151           0.732617         0.763497   \n",
       "17           0.722154           0.783557           0.702259         0.743334   \n",
       "16           0.722726           0.783076           0.702101         0.743191   \n",
       "36           0.723912           0.782896           0.701668         0.742945   \n",
       "2            0.719596           0.781485           0.698298         0.742415   \n",
       "38           0.717779           0.783001           0.699028         0.741328   \n",
       "32           0.718486           0.785878           0.701078         0.740323   \n",
       "\n",
       "    std_test_score  rank_test_score  \n",
       "23        0.021694                1  \n",
       "9         0.022852                2  \n",
       "1         0.022537                3  \n",
       "24        0.022616                4  \n",
       "14        0.023156                5  \n",
       "28        0.022106                6  \n",
       "35        0.021740                7  \n",
       "39        0.022491                8  \n",
       "33        0.021986                9  \n",
       "30        0.021713               10  \n",
       "11        0.022376               11  \n",
       "45        0.021510               12  \n",
       "25        0.022551               13  \n",
       "29        0.023035               14  \n",
       "18        0.022502               15  \n",
       "7         0.022233               16  \n",
       "37        0.021653               17  \n",
       "44        0.022966               18  \n",
       "4         0.022188               19  \n",
       "0         0.022705               20  \n",
       "12        0.022831               21  \n",
       "5         0.022713               22  \n",
       "40        0.023914               23  \n",
       "6         0.024341               24  \n",
       "13        0.024071               25  \n",
       "49        0.023735               26  \n",
       "46        0.024816               27  \n",
       "48        0.024075               28  \n",
       "43        0.024643               29  \n",
       "47        0.024857               30  \n",
       "15        0.024241               31  \n",
       "27        0.025443               32  \n",
       "8         0.023951               33  \n",
       "22        0.025211               34  \n",
       "26        0.024341               35  \n",
       "10        0.028919               36  \n",
       "3         0.026200               37  \n",
       "21        0.027520               38  \n",
       "20        0.028473               39  \n",
       "41        0.029935               40  \n",
       "31        0.029222               41  \n",
       "42        0.030075               42  \n",
       "34        0.030398               43  \n",
       "19        0.030421               44  \n",
       "17        0.032554               45  \n",
       "16        0.032278               46  \n",
       "36        0.031924               47  \n",
       "2         0.034533               48  \n",
       "38        0.034151               49  \n",
       "32        0.032915               50  "
      ]
     },
     "execution_count": 21,
     "metadata": {},
     "output_type": "execute_result"
    }
   ],
   "source": [
    "rf_res = pd.DataFrame(rf_rand_two.cv_results_)\n",
    "rf_res.sort_values('mean_test_score',axis=0, ascending=False)"
   ]
  },
  {
   "cell_type": "markdown",
   "metadata": {},
   "source": [
    "<h3>Random Forest second results</h3>\n",
    "\n",
    "More iterations in the random search yeilded an almost non-existent improvement. I will explore other classifiers before doing a thorough grid search within a more confined range, which will take a good amount of time. "
   ]
  },
  {
   "cell_type": "markdown",
   "metadata": {},
   "source": [
    "<h3>Random Forest Conclusions</h3>\n",
    "\n",
    "The Random Forest Classifier performs well out of the gate with an auc of 0.863 on the training set and 0.894 on the test set. The optimal max depth appears to be either 5 or 6 and the optimal number of estimators is likely between 750 - 1750"
   ]
  },
  {
   "cell_type": "markdown",
   "metadata": {},
   "source": [
    "<h2>Logistic Regression</h2>\n"
   ]
  },
  {
   "cell_type": "code",
   "execution_count": 22,
   "metadata": {},
   "outputs": [],
   "source": [
    "from sklearn.linear_model import LogisticRegression"
   ]
  },
  {
   "cell_type": "code",
   "execution_count": 23,
   "metadata": {},
   "outputs": [],
   "source": [
    "pipe_lr = make_pipeline( \n",
    "    StandardScaler(),\n",
    "    LogisticRegression(max_iter=1000)\n",
    ")\n",
    "\n",
    "params = {'logisticregression__C': np.logspace(-2,6)}\n",
    "\n",
    "#starting with few iterations, and narrowing the ranges afterwards\n",
    "lr = RandomizedSearchCV(pipe_lr,param_distributions=params,cv=5, n_jobs=-1, verbose =10, \n",
    "                                 scoring = 'roc_auc',n_iter=20,random_state = 42)\n"
   ]
  },
  {
   "cell_type": "code",
   "execution_count": 24,
   "metadata": {
    "scrolled": true
   },
   "outputs": [
    {
     "name": "stdout",
     "output_type": "stream",
     "text": [
      "Fitting 5 folds for each of 20 candidates, totalling 100 fits\n"
     ]
    },
    {
     "name": "stderr",
     "output_type": "stream",
     "text": [
      "[Parallel(n_jobs=-1)]: Using backend LokyBackend with 8 concurrent workers.\n",
      "[Parallel(n_jobs=-1)]: Batch computation too fast (0.0371s.) Setting batch_size=2.\n",
      "[Parallel(n_jobs=-1)]: Done   2 tasks      | elapsed:    0.1s\n",
      "[Parallel(n_jobs=-1)]: Done   9 tasks      | elapsed:    0.1s\n",
      "[Parallel(n_jobs=-1)]: Done  16 tasks      | elapsed:    0.2s\n",
      "[Parallel(n_jobs=-1)]: Batch computation too fast (0.1681s.) Setting batch_size=4.\n",
      "[Parallel(n_jobs=-1)]: Done  34 tasks      | elapsed:    0.3s\n",
      "[Parallel(n_jobs=-1)]: Done  56 tasks      | elapsed:    0.5s\n",
      "[Parallel(n_jobs=-1)]: Done  85 tasks      | elapsed:    0.6s\n",
      "[Parallel(n_jobs=-1)]: Done  96 out of 100 | elapsed:    0.6s remaining:    0.0s\n",
      "[Parallel(n_jobs=-1)]: Done 100 out of 100 | elapsed:    0.7s finished\n"
     ]
    },
    {
     "data": {
      "text/plain": [
       "RandomizedSearchCV(cv=5,\n",
       "                   estimator=Pipeline(steps=[('standardscaler',\n",
       "                                              StandardScaler()),\n",
       "                                             ('logisticregression',\n",
       "                                              LogisticRegression(max_iter=1000))]),\n",
       "                   n_iter=20, n_jobs=-1,\n",
       "                   param_distributions={'logisticregression__C': array([1.00000000e-02, 1.45634848e-02, 2.12095089e-02, 3.08884360e-02,\n",
       "       4.49843267e-02, 6.55128557e-02, 9.54095476e-02, 1.38949549e-01,\n",
       "       2.02358965e-0...\n",
       "       3.72759372e+02, 5.42867544e+02, 7.90604321e+02, 1.15139540e+03,\n",
       "       1.67683294e+03, 2.44205309e+03, 3.55648031e+03, 5.17947468e+03,\n",
       "       7.54312006e+03, 1.09854114e+04, 1.59985872e+04, 2.32995181e+04,\n",
       "       3.39322177e+04, 4.94171336e+04, 7.19685673e+04, 1.04811313e+05,\n",
       "       1.52641797e+05, 2.22299648e+05, 3.23745754e+05, 4.71486636e+05,\n",
       "       6.86648845e+05, 1.00000000e+06])},\n",
       "                   random_state=42, scoring='roc_auc', verbose=10)"
      ]
     },
     "execution_count": 24,
     "metadata": {},
     "output_type": "execute_result"
    }
   ],
   "source": [
    "lr.fit(X,y)"
   ]
  },
  {
   "cell_type": "code",
   "execution_count": 25,
   "metadata": {},
   "outputs": [
    {
     "data": {
      "text/plain": [
       "{'logisticregression__C': 0.04498432668969444}"
      ]
     },
     "execution_count": 25,
     "metadata": {},
     "output_type": "execute_result"
    }
   ],
   "source": [
    "lr.best_params_"
   ]
  },
  {
   "cell_type": "code",
   "execution_count": 26,
   "metadata": {},
   "outputs": [
    {
     "data": {
      "text/plain": [
       "0.6487733039161612"
      ]
     },
     "execution_count": 26,
     "metadata": {},
     "output_type": "execute_result"
    }
   ],
   "source": [
    "lr.best_score_"
   ]
  },
  {
   "cell_type": "markdown",
   "metadata": {},
   "source": [
    "<h3>ROC auc - Logistic Regression</h3>\n"
   ]
  },
  {
   "cell_type": "code",
   "execution_count": 27,
   "metadata": {},
   "outputs": [
    {
     "data": {
      "image/png": "[encoded data removed]",
      "text/plain": [
       "<Figure size 432x288 with 1 Axes>"
      ]
     },
     "metadata": {},
     "output_type": "display_data"
    }
   ],
   "source": [
    "c = roc_plot(lr.best_estimator_,X_train,y_train)"
   ]
  },
  {
   "cell_type": "markdown",
   "metadata": {},
   "source": [
    "<h3>Evaluating with test set</h3>"
   ]
  },
  {
   "cell_type": "code",
   "execution_count": 28,
   "metadata": {},
   "outputs": [
    {
     "name": "stdout",
     "output_type": "stream",
     "text": [
      "Evaluating the classifier on the test set, area under the roc curve is: 0.727\n"
     ]
    }
   ],
   "source": [
    "test_comp(lr.best_estimator_)"
   ]
  },
  {
   "cell_type": "markdown",
   "metadata": {},
   "source": [
    "<h3>Logistic Regression Conclusions</h3>\n",
    "\n",
    "The logistic regression results were considerably worse on the training set than random forest. But surprisingly close for the test set. I prefer the random forest classifier, and I expect that on a different test set, I would see different results. "
   ]
  },
  {
   "cell_type": "markdown",
   "metadata": {},
   "source": [
    "<h2>KNN </h2>\n",
    "\n",
    "I don't expect KNN to give better results due to the high-dimensionality of the feature space. I expect PCA to be necessary, though I will try it without first. "
   ]
  },
  {
   "cell_type": "code",
   "execution_count": 29,
   "metadata": {
    "scrolled": true
   },
   "outputs": [
    {
     "name": "stdout",
     "output_type": "stream",
     "text": [
      "Fitting 5 folds for each of 199 candidates, totalling 995 fits\n"
     ]
    },
    {
     "name": "stderr",
     "output_type": "stream",
     "text": [
      "/Users/jon/opt/anaconda3/lib/python3.8/site-packages/sklearn/model_selection/_search.py:278: UserWarning: The total space of parameters 199 is smaller than n_iter=200. Running 199 iterations. For exhaustive searches, use GridSearchCV.\n",
      "  warnings.warn(\n",
      "[Parallel(n_jobs=-1)]: Using backend LokyBackend with 8 concurrent workers.\n",
      "[Parallel(n_jobs=-1)]: Batch computation too fast (0.0655s.) Setting batch_size=2.\n",
      "[Parallel(n_jobs=-1)]: Done   2 tasks      | elapsed:    0.1s\n",
      "[Parallel(n_jobs=-1)]: Done   9 tasks      | elapsed:    0.1s\n",
      "[Parallel(n_jobs=-1)]: Done  16 tasks      | elapsed:    0.2s\n",
      "[Parallel(n_jobs=-1)]: Done  34 tasks      | elapsed:    0.5s\n",
      "[Parallel(n_jobs=-1)]: Done  52 tasks      | elapsed:    0.7s\n",
      "[Parallel(n_jobs=-1)]: Done  74 tasks      | elapsed:    0.9s\n",
      "[Parallel(n_jobs=-1)]: Done  96 tasks      | elapsed:    1.1s\n",
      "[Parallel(n_jobs=-1)]: Done 122 tasks      | elapsed:    1.5s\n",
      "[Parallel(n_jobs=-1)]: Done 148 tasks      | elapsed:    1.9s\n",
      "[Parallel(n_jobs=-1)]: Done 178 tasks      | elapsed:    2.2s\n",
      "[Parallel(n_jobs=-1)]: Done 208 tasks      | elapsed:    2.6s\n",
      "[Parallel(n_jobs=-1)]: Done 242 tasks      | elapsed:    3.1s\n",
      "[Parallel(n_jobs=-1)]: Done 276 tasks      | elapsed:    3.7s\n",
      "[Parallel(n_jobs=-1)]: Done 314 tasks      | elapsed:    4.2s\n",
      "[Parallel(n_jobs=-1)]: Done 352 tasks      | elapsed:    4.8s\n",
      "[Parallel(n_jobs=-1)]: Done 394 tasks      | elapsed:    5.5s\n",
      "[Parallel(n_jobs=-1)]: Done 436 tasks      | elapsed:    6.2s\n",
      "[Parallel(n_jobs=-1)]: Done 482 tasks      | elapsed:    7.0s\n",
      "[Parallel(n_jobs=-1)]: Done 528 tasks      | elapsed:    7.9s\n",
      "[Parallel(n_jobs=-1)]: Done 578 tasks      | elapsed:    8.8s\n",
      "[Parallel(n_jobs=-1)]: Done 628 tasks      | elapsed:    9.9s\n",
      "[Parallel(n_jobs=-1)]: Done 682 tasks      | elapsed:   11.3s\n",
      "[Parallel(n_jobs=-1)]: Done 736 tasks      | elapsed:   12.8s\n",
      "[Parallel(n_jobs=-1)]: Done 794 tasks      | elapsed:   14.2s\n",
      "[Parallel(n_jobs=-1)]: Done 852 tasks      | elapsed:   15.8s\n",
      "[Parallel(n_jobs=-1)]: Done 914 tasks      | elapsed:   17.5s\n",
      "[Parallel(n_jobs=-1)]: Done 980 out of 995 | elapsed:   19.4s remaining:    0.3s\n",
      "[Parallel(n_jobs=-1)]: Done 995 out of 995 | elapsed:   19.8s finished\n"
     ]
    },
    {
     "data": {
      "text/plain": [
       "RandomizedSearchCV(cv=5,\n",
       "                   estimator=Pipeline(steps=[('standardscaler',\n",
       "                                              StandardScaler()),\n",
       "                                             ('kneighborsclassifier',\n",
       "                                              KNeighborsClassifier(weights='distance'))]),\n",
       "                   n_iter=200, n_jobs=-1,\n",
       "                   param_distributions={'kneighborsclassifier__n_neighbors': array([  1,   2,   3,   4,   5,   6,   7,   8,   9,  10,  11,  12,  13,\n",
       "        14,  15,  16,  17,  18,  19,  20,  21,  22,  23,  24,  25,  26,\n",
       "        27,  28,  29,  30,  31,  32,  33,  34,  35,  36,  37,  38,  39,\n",
       "        40,...\n",
       "       118, 119, 120, 121, 122, 123, 124, 125, 126, 127, 128, 129, 130,\n",
       "       131, 132, 133, 134, 135, 136, 137, 138, 139, 140, 141, 142, 143,\n",
       "       144, 145, 146, 147, 148, 149, 150, 151, 152, 153, 154, 155, 156,\n",
       "       157, 158, 159, 160, 161, 162, 163, 164, 165, 166, 167, 168, 169,\n",
       "       170, 171, 172, 173, 174, 175, 176, 177, 178, 179, 180, 181, 182,\n",
       "       183, 184, 185, 186, 187, 188, 189, 190, 191, 192, 193, 194, 195,\n",
       "       196, 197, 198, 199])},\n",
       "                   random_state=42, scoring='roc_auc', verbose=10)"
      ]
     },
     "execution_count": 29,
     "metadata": {},
     "output_type": "execute_result"
    }
   ],
   "source": [
    "from sklearn.neighbors import KNeighborsClassifier\n",
    "\n",
    "pipe_knn = make_pipeline( \n",
    "    StandardScaler(),\n",
    "    KNeighborsClassifier(weights='distance')\n",
    ")\n",
    "\n",
    "params = {'kneighborsclassifier__n_neighbors': np.arange(1,200)}\n",
    "    \n",
    "\n",
    "#starting with few iterations, and narrowing the ranges afterwards\n",
    "knn = RandomizedSearchCV(pipe_knn,param_distributions=params,cv=5, n_jobs=-1, verbose =10, \n",
    "                                 scoring = 'roc_auc',n_iter=200,random_state = 42)\n",
    "\n",
    "knn.fit(X_train,y_train)"
   ]
  },
  {
   "cell_type": "code",
   "execution_count": 30,
   "metadata": {},
   "outputs": [
    {
     "data": {
      "text/plain": [
       "{'kneighborsclassifier__n_neighbors': 164}"
      ]
     },
     "execution_count": 30,
     "metadata": {},
     "output_type": "execute_result"
    }
   ],
   "source": [
    "knn.best_params_"
   ]
  },
  {
   "cell_type": "code",
   "execution_count": 31,
   "metadata": {},
   "outputs": [
    {
     "data": {
      "text/plain": [
       "0.8091892545413615"
      ]
     },
     "execution_count": 31,
     "metadata": {},
     "output_type": "execute_result"
    }
   ],
   "source": [
    "knn.best_score_"
   ]
  },
  {
   "cell_type": "code",
   "execution_count": 32,
   "metadata": {},
   "outputs": [
    {
     "data": {
      "image/png": "[encoded data removed]",
      "text/plain": [
       "<Figure size 432x288 with 1 Axes>"
      ]
     },
     "metadata": {},
     "output_type": "display_data"
    }
   ],
   "source": [
    "c = roc_plot(knn.best_estimator_,X_train,y_train)"
   ]
  },
  {
   "cell_type": "code",
   "execution_count": 33,
   "metadata": {},
   "outputs": [
    {
     "name": "stdout",
     "output_type": "stream",
     "text": [
      "Evaluating the classifier on the test set, area under the roc curve is: 0.811\n"
     ]
    }
   ],
   "source": [
    "test_comp(knn.best_estimator_)"
   ]
  },
  {
   "cell_type": "markdown",
   "metadata": {},
   "source": [
    "Knn performed better than expected, with a max aoc of 0.827 for train and similar for test. Let's see if PCA improves"
   ]
  },
  {
   "cell_type": "code",
   "execution_count": 34,
   "metadata": {
    "scrolled": true
   },
   "outputs": [
    {
     "name": "stdout",
     "output_type": "stream",
     "text": [
      "Fitting 5 folds for each of 200 candidates, totalling 1000 fits\n"
     ]
    },
    {
     "name": "stderr",
     "output_type": "stream",
     "text": [
      "[Parallel(n_jobs=-1)]: Using backend LokyBackend with 8 concurrent workers.\n",
      "[Parallel(n_jobs=-1)]: Batch computation too fast (0.0546s.) Setting batch_size=2.\n",
      "[Parallel(n_jobs=-1)]: Done   2 tasks      | elapsed:    0.1s\n",
      "[Parallel(n_jobs=-1)]: Done   9 tasks      | elapsed:    0.2s\n",
      "[Parallel(n_jobs=-1)]: Done  17 tasks      | elapsed:    0.3s\n",
      "[Parallel(n_jobs=-1)]: Done  34 tasks      | elapsed:    0.5s\n",
      "[Parallel(n_jobs=-1)]: Done  52 tasks      | elapsed:    0.7s\n",
      "[Parallel(n_jobs=-1)]: Done  74 tasks      | elapsed:    1.0s\n",
      "[Parallel(n_jobs=-1)]: Done  96 tasks      | elapsed:    1.2s\n",
      "[Parallel(n_jobs=-1)]: Done 122 tasks      | elapsed:    1.5s\n",
      "[Parallel(n_jobs=-1)]: Done 148 tasks      | elapsed:    1.9s\n",
      "[Parallel(n_jobs=-1)]: Done 178 tasks      | elapsed:    2.2s\n",
      "[Parallel(n_jobs=-1)]: Done 208 tasks      | elapsed:    2.6s\n",
      "[Parallel(n_jobs=-1)]: Done 242 tasks      | elapsed:    3.0s\n",
      "[Parallel(n_jobs=-1)]: Done 276 tasks      | elapsed:    3.5s\n",
      "[Parallel(n_jobs=-1)]: Done 314 tasks      | elapsed:    3.9s\n",
      "[Parallel(n_jobs=-1)]: Done 352 tasks      | elapsed:    4.4s\n",
      "[Parallel(n_jobs=-1)]: Done 394 tasks      | elapsed:    5.0s\n",
      "[Parallel(n_jobs=-1)]: Done 436 tasks      | elapsed:    5.5s\n",
      "[Parallel(n_jobs=-1)]: Done 482 tasks      | elapsed:    6.0s\n",
      "[Parallel(n_jobs=-1)]: Done 528 tasks      | elapsed:    6.6s\n",
      "[Parallel(n_jobs=-1)]: Done 578 tasks      | elapsed:    7.3s\n",
      "[Parallel(n_jobs=-1)]: Done 628 tasks      | elapsed:    7.9s\n",
      "[Parallel(n_jobs=-1)]: Done 682 tasks      | elapsed:    8.6s\n",
      "[Parallel(n_jobs=-1)]: Done 736 tasks      | elapsed:    9.2s\n",
      "[Parallel(n_jobs=-1)]: Done 794 tasks      | elapsed:    9.9s\n",
      "[Parallel(n_jobs=-1)]: Done 852 tasks      | elapsed:   10.7s\n",
      "[Parallel(n_jobs=-1)]: Done 914 tasks      | elapsed:   11.5s\n",
      "[Parallel(n_jobs=-1)]: Done 976 tasks      | elapsed:   12.5s\n",
      "[Parallel(n_jobs=-1)]: Done 1000 out of 1000 | elapsed:   12.8s finished\n"
     ]
    },
    {
     "data": {
      "text/plain": [
       "RandomizedSearchCV(cv=5,\n",
       "                   estimator=Pipeline(steps=[('standardscaler',\n",
       "                                              StandardScaler()),\n",
       "                                             ('pca', PCA()),\n",
       "                                             ('kneighborsclassifier',\n",
       "                                              KNeighborsClassifier(weights='distance'))]),\n",
       "                   n_iter=200, n_jobs=-1,\n",
       "                   param_distributions={'kneighborsclassifier__n_neighbors': array([ 50,  51,  52,  53,  54,  55,  56,  57,  58,  59,  60,  61,  62,\n",
       "        63,  64,  65,  66,  67,  68,  69,  70,  71,  72,  73,  74,  75,\n",
       "        76,  77,  78,  79,  80,  81,  8...\n",
       "       180, 181, 182, 183, 184, 185, 186, 187, 188, 189, 190, 191, 192,\n",
       "       193, 194, 195, 196, 197, 198, 199, 200, 201, 202, 203, 204, 205,\n",
       "       206, 207, 208, 209, 210, 211, 212, 213, 214, 215, 216, 217, 218,\n",
       "       219, 220, 221, 222, 223, 224, 225, 226, 227, 228, 229, 230, 231,\n",
       "       232, 233, 234, 235, 236, 237, 238, 239, 240, 241, 242, 243, 244,\n",
       "       245, 246, 247, 248, 249]),\n",
       "                                        'pca__n_components': array([2, 3, 4])},\n",
       "                   random_state=42, scoring='roc_auc', verbose=10)"
      ]
     },
     "execution_count": 34,
     "metadata": {},
     "output_type": "execute_result"
    }
   ],
   "source": [
    "from sklearn.decomposition import PCA\n",
    "\n",
    "pipe_knn = make_pipeline( \n",
    "    StandardScaler(),\n",
    "    PCA(),\n",
    "    KNeighborsClassifier(weights='distance')\n",
    ")\n",
    "\n",
    "params = {'pca__n_components' : np.arange(2,X.shape[1]),\n",
    "          'kneighborsclassifier__n_neighbors': np.arange(50,250)}\n",
    "    \n",
    "\n",
    "#starting with few iterations, and narrowing the ranges afterwards\n",
    "knn = RandomizedSearchCV(pipe_knn,param_distributions=params,cv=5, n_jobs=-1, verbose =10, \n",
    "                                 scoring = 'roc_auc',n_iter=200,random_state = 42)\n",
    "\n",
    "knn.fit(X_train,y_train)"
   ]
  },
  {
   "cell_type": "code",
   "execution_count": 35,
   "metadata": {},
   "outputs": [
    {
     "data": {
      "text/plain": [
       "{'pca__n_components': 3, 'kneighborsclassifier__n_neighbors': 238}"
      ]
     },
     "execution_count": 35,
     "metadata": {},
     "output_type": "execute_result"
    }
   ],
   "source": [
    "knn.best_params_"
   ]
  },
  {
   "cell_type": "code",
   "execution_count": 36,
   "metadata": {},
   "outputs": [
    {
     "data": {
      "text/plain": [
       "0.8130001211564037"
      ]
     },
     "execution_count": 36,
     "metadata": {},
     "output_type": "execute_result"
    }
   ],
   "source": [
    "knn.best_score_"
   ]
  },
  {
   "cell_type": "code",
   "execution_count": 37,
   "metadata": {},
   "outputs": [
    {
     "data": {
      "image/png": "[encoded data removed]",
      "text/plain": [
       "<Figure size 432x288 with 1 Axes>"
      ]
     },
     "metadata": {},
     "output_type": "display_data"
    }
   ],
   "source": [
    "c = roc_plot(knn.best_estimator_,X_train,y_train)"
   ]
  },
  {
   "cell_type": "markdown",
   "metadata": {},
   "source": [
    "<h3>Evaluating with test set</h3>"
   ]
  },
  {
   "cell_type": "code",
   "execution_count": 38,
   "metadata": {},
   "outputs": [
    {
     "name": "stdout",
     "output_type": "stream",
     "text": [
      "Evaluating the classifier on the test set, area under the roc curve is: 0.814\n"
     ]
    }
   ],
   "source": [
    "test_comp(knn.best_estimator_)"
   ]
  },
  {
   "cell_type": "markdown",
   "metadata": {},
   "source": [
    "<h3>KNN Conclusions</h3>\n",
    "\n",
    "PCA did not improve things by much, if at all. It's certainly not worth it to lose feature importances. "
   ]
  },
  {
   "cell_type": "markdown",
   "metadata": {},
   "source": [
    "<h2>SVC</h2>\n",
    "\n",
    "SVC is supposedly good in high dimension data, and the set I have is relatively high dimension. "
   ]
  },
  {
   "cell_type": "code",
   "execution_count": 39,
   "metadata": {
    "scrolled": true
   },
   "outputs": [
    {
     "name": "stdout",
     "output_type": "stream",
     "text": [
      "Fitting 5 folds for each of 10 candidates, totalling 50 fits\n"
     ]
    },
    {
     "name": "stderr",
     "output_type": "stream",
     "text": [
      "[Parallel(n_jobs=-1)]: Using backend LokyBackend with 8 concurrent workers.\n",
      "[Parallel(n_jobs=-1)]: Done   2 tasks      | elapsed:    1.1s\n",
      "[Parallel(n_jobs=-1)]: Done   9 tasks      | elapsed:    2.5s\n",
      "[Parallel(n_jobs=-1)]: Done  16 tasks      | elapsed:    3.9s\n",
      "[Parallel(n_jobs=-1)]: Done  25 tasks      | elapsed:    5.1s\n",
      "[Parallel(n_jobs=-1)]: Done  34 tasks      | elapsed:    7.1s\n",
      "[Parallel(n_jobs=-1)]: Done  41 out of  50 | elapsed:    8.6s remaining:    1.9s\n",
      "[Parallel(n_jobs=-1)]: Done  47 out of  50 | elapsed:    9.2s remaining:    0.6s\n",
      "[Parallel(n_jobs=-1)]: Done  50 out of  50 | elapsed:    9.5s finished\n"
     ]
    },
    {
     "data": {
      "text/plain": [
       "RandomizedSearchCV(cv=5,\n",
       "                   estimator=Pipeline(steps=[('standardscaler',\n",
       "                                              StandardScaler()),\n",
       "                                             ('svc', SVC(probability=True))]),\n",
       "                   n_jobs=-1,\n",
       "                   param_distributions={'svc__C': array([1.00000000e-05, 1.59985872e-05, 2.55954792e-05, 4.09491506e-05,\n",
       "       6.55128557e-05, 1.04811313e-04, 1.67683294e-04, 2.68269580e-04,\n",
       "       4.29193426e-04, 6.86648845e-04, 1.09854114e-03, 1.75751062e-03,\n",
       "       2.811...\n",
       "       5.17947468e+00, 8.28642773e+00, 1.32571137e+01, 2.12095089e+01,\n",
       "       3.39322177e+01, 5.42867544e+01, 8.68511374e+01, 1.38949549e+02,\n",
       "       2.22299648e+02, 3.55648031e+02, 5.68986603e+02, 9.10298178e+02,\n",
       "       1.45634848e+03, 2.32995181e+03, 3.72759372e+03, 5.96362332e+03,\n",
       "       9.54095476e+03, 1.52641797e+04, 2.44205309e+04, 3.90693994e+04,\n",
       "       6.25055193e+04, 1.00000000e+05])},\n",
       "                   random_state=42, scoring='roc_auc', verbose=10)"
      ]
     },
     "execution_count": 39,
     "metadata": {},
     "output_type": "execute_result"
    }
   ],
   "source": [
    "from sklearn.svm import SVC\n",
    "\n",
    "pipe_svc = make_pipeline( \n",
    "    StandardScaler(),\n",
    "    SVC(probability=True)\n",
    ")\n",
    "\n",
    "params = {'svc__C': np.logspace(-5,5)}\n",
    "    \n",
    "\n",
    "#starting with few iterations, and narrowing the ranges afterwards\n",
    "svc = RandomizedSearchCV(pipe_svc,param_distributions=params,cv=5, n_jobs=-1, verbose =10, \n",
    "                                 scoring = 'roc_auc',n_iter=10,random_state = 42)\n",
    "\n",
    "svc.fit(X_train,y_train)"
   ]
  },
  {
   "cell_type": "code",
   "execution_count": 40,
   "metadata": {},
   "outputs": [
    {
     "data": {
      "text/plain": [
       "{'svc__C': 13.257113655901108}"
      ]
     },
     "execution_count": 40,
     "metadata": {},
     "output_type": "execute_result"
    }
   ],
   "source": [
    "svc.best_params_"
   ]
  },
  {
   "cell_type": "code",
   "execution_count": 41,
   "metadata": {},
   "outputs": [
    {
     "data": {
      "text/plain": [
       "0.628167241855859"
      ]
     },
     "execution_count": 41,
     "metadata": {},
     "output_type": "execute_result"
    }
   ],
   "source": [
    "svc.best_score_"
   ]
  },
  {
   "cell_type": "code",
   "execution_count": 42,
   "metadata": {},
   "outputs": [
    {
     "data": {
      "image/png": "[encoded data removed]",
      "text/plain": [
       "<Figure size 432x288 with 1 Axes>"
      ]
     },
     "metadata": {},
     "output_type": "display_data"
    }
   ],
   "source": [
    "c = roc_plot(svc.best_estimator_,X_train,y_train)"
   ]
  },
  {
   "cell_type": "markdown",
   "metadata": {},
   "source": [
    "<h3>Evaluating with test set</h3>"
   ]
  },
  {
   "cell_type": "code",
   "execution_count": 43,
   "metadata": {},
   "outputs": [
    {
     "name": "stdout",
     "output_type": "stream",
     "text": [
      "Evaluating the classifier on the test set, area under the roc curve is: 0.556\n"
     ]
    }
   ],
   "source": [
    "test_comp(svc.best_estimator_)"
   ]
  },
  {
   "cell_type": "markdown",
   "metadata": {},
   "source": [
    "<h3>SVC Conclusions</h3>\n",
    "\n",
    "SVC clearly performs worse"
   ]
  },
  {
   "cell_type": "markdown",
   "metadata": {},
   "source": [
    "<h1>Choosing a classifier</h1>\n",
    "\n",
    "Two models stand out as options to ultimately choose -- Random Forest and KNN. The random forest model has a feature importance attribute, which is a great piece of data, so I will choose it. "
   ]
  },
  {
   "cell_type": "code",
   "execution_count": 44,
   "metadata": {
    "scrolled": true
   },
   "outputs": [
    {
     "name": "stdout",
     "output_type": "stream",
     "text": [
      "Fitting 5 folds for each of 150 candidates, totalling 750 fits\n"
     ]
    },
    {
     "name": "stderr",
     "output_type": "stream",
     "text": [
      "[Parallel(n_jobs=-1)]: Using backend LokyBackend with 8 concurrent workers.\n",
      "[Parallel(n_jobs=-1)]: Done   2 tasks      | elapsed:    3.8s\n",
      "[Parallel(n_jobs=-1)]: Done   9 tasks      | elapsed:    7.4s\n",
      "[Parallel(n_jobs=-1)]: Done  16 tasks      | elapsed:    8.1s\n",
      "[Parallel(n_jobs=-1)]: Done  25 tasks      | elapsed:   15.9s\n",
      "[Parallel(n_jobs=-1)]: Done  34 tasks      | elapsed:   21.3s\n",
      "[Parallel(n_jobs=-1)]: Done  45 tasks      | elapsed:   27.2s\n",
      "[Parallel(n_jobs=-1)]: Done  56 tasks      | elapsed:   34.1s\n",
      "[Parallel(n_jobs=-1)]: Done  69 tasks      | elapsed:   45.5s\n",
      "[Parallel(n_jobs=-1)]: Done  82 tasks      | elapsed:   57.6s\n",
      "[Parallel(n_jobs=-1)]: Done  97 tasks      | elapsed:  1.2min\n",
      "[Parallel(n_jobs=-1)]: Done 112 tasks      | elapsed:  1.4min\n",
      "[Parallel(n_jobs=-1)]: Done 129 tasks      | elapsed:  1.7min\n",
      "[Parallel(n_jobs=-1)]: Done 146 tasks      | elapsed:  1.8min\n",
      "[Parallel(n_jobs=-1)]: Done 165 tasks      | elapsed:  2.0min\n",
      "[Parallel(n_jobs=-1)]: Done 184 tasks      | elapsed:  2.3min\n",
      "[Parallel(n_jobs=-1)]: Done 205 tasks      | elapsed:  2.6min\n",
      "[Parallel(n_jobs=-1)]: Done 226 tasks      | elapsed:  2.9min\n",
      "[Parallel(n_jobs=-1)]: Done 249 tasks      | elapsed:  3.3min\n",
      "[Parallel(n_jobs=-1)]: Done 272 tasks      | elapsed:  3.5min\n",
      "[Parallel(n_jobs=-1)]: Done 297 tasks      | elapsed:  3.9min\n",
      "[Parallel(n_jobs=-1)]: Done 322 tasks      | elapsed:  4.3min\n",
      "[Parallel(n_jobs=-1)]: Done 349 tasks      | elapsed:  4.8min\n",
      "[Parallel(n_jobs=-1)]: Done 376 tasks      | elapsed:  5.3min\n",
      "[Parallel(n_jobs=-1)]: Done 405 tasks      | elapsed:  5.6min\n",
      "[Parallel(n_jobs=-1)]: Done 434 tasks      | elapsed:  6.0min\n",
      "[Parallel(n_jobs=-1)]: Done 465 tasks      | elapsed:  6.5min\n",
      "[Parallel(n_jobs=-1)]: Done 496 tasks      | elapsed:  7.2min\n",
      "[Parallel(n_jobs=-1)]: Done 529 tasks      | elapsed:  7.5min\n",
      "[Parallel(n_jobs=-1)]: Done 562 tasks      | elapsed:  7.9min\n",
      "[Parallel(n_jobs=-1)]: Done 597 tasks      | elapsed:  8.5min\n",
      "[Parallel(n_jobs=-1)]: Done 632 tasks      | elapsed:  9.2min\n",
      "[Parallel(n_jobs=-1)]: Done 669 tasks      | elapsed:  9.6min\n",
      "[Parallel(n_jobs=-1)]: Done 706 tasks      | elapsed: 10.1min\n",
      "[Parallel(n_jobs=-1)]: Done 750 out of 750 | elapsed: 11.0min finished\n"
     ]
    },
    {
     "data": {
      "text/plain": [
       "GridSearchCV(cv=5,\n",
       "             estimator=Pipeline(steps=[('standardscaler', StandardScaler()),\n",
       "                                       ('randomforestclassifier',\n",
       "                                        RandomForestClassifier())]),\n",
       "             n_jobs=-1,\n",
       "             param_grid={'randomforestclassifier__max_depth': array([4, 5, 6, 7, 8, 9]),\n",
       "                         'randomforestclassifier__n_estimators': array([ 750,  800,  850,  900,  950, 1000, 1050, 1100, 1150, 1200, 1250,\n",
       "       1300, 1350, 1400, 1450, 1500, 1550, 1600, 1650, 1700, 1750, 1800,\n",
       "       1850, 1900, 1950])},\n",
       "             scoring='roc_auc', verbose=10)"
      ]
     },
     "execution_count": 44,
     "metadata": {},
     "output_type": "execute_result"
    }
   ],
   "source": [
    "from sklearn.model_selection import GridSearchCV\n",
    "\n",
    "pipe_rf = make_pipeline( \n",
    "    StandardScaler(), \n",
    "    RandomForestClassifier()\n",
    ")\n",
    "\n",
    "params = {'randomforestclassifier__n_estimators': np.arange(750,2000,50),\n",
    "          'randomforestclassifier__max_depth' :  np.arange(4,10)}\n",
    "\n",
    "rf = GridSearchCV(pipe,param_grid=params,cv=5, n_jobs=-1, scoring = 'roc_auc',verbose=10)\n",
    "\n",
    "rf.fit(X_train,y_train)"
   ]
  },
  {
   "cell_type": "code",
   "execution_count": 45,
   "metadata": {
    "scrolled": false
   },
   "outputs": [
    {
     "data": {
      "text/plain": [
       "{'randomforestclassifier__max_depth': 9,\n",
       " 'randomforestclassifier__n_estimators': 1150}"
      ]
     },
     "execution_count": 45,
     "metadata": {},
     "output_type": "execute_result"
    }
   ],
   "source": [
    "rf.best_params_"
   ]
  },
  {
   "cell_type": "markdown",
   "metadata": {},
   "source": [
    "***Evaluating Performance***"
   ]
  },
  {
   "cell_type": "code",
   "execution_count": 46,
   "metadata": {},
   "outputs": [
    {
     "data": {
      "image/png": "[encoded data removed]",
      "text/plain": [
       "<Figure size 432x288 with 1 Axes>"
      ]
     },
     "metadata": {},
     "output_type": "display_data"
    }
   ],
   "source": [
    "c = roc_plot(rf.best_estimator_,X_train,y_train)"
   ]
  },
  {
   "cell_type": "code",
   "execution_count": 47,
   "metadata": {},
   "outputs": [
    {
     "name": "stdout",
     "output_type": "stream",
     "text": [
      "Evaluating the classifier on the test set, area under the roc curve is: 0.815\n"
     ]
    }
   ],
   "source": [
    "test_comp(rf.best_estimator_)"
   ]
  },
  {
   "cell_type": "code",
   "execution_count": 48,
   "metadata": {},
   "outputs": [],
   "source": [
    "df_t = c[c.tpr > 0.9].sort_values('threshold',ascending=False)\n",
    "\n",
    "thresh = df_t.iloc[0,2]"
   ]
  },
  {
   "cell_type": "markdown",
   "metadata": {},
   "source": [
    "***Looking at feature importance***"
   ]
  },
  {
   "cell_type": "code",
   "execution_count": 49,
   "metadata": {},
   "outputs": [],
   "source": [
    "r = rf.best_estimator_\n",
    "imp = r.steps[1][1].feature_importances_"
   ]
  },
  {
   "cell_type": "code",
   "execution_count": 50,
   "metadata": {},
   "outputs": [
    {
     "data": {
      "text/plain": [
       "<AxesSubplot:xlabel='importance', ylabel='feature'>"
      ]
     },
     "execution_count": 50,
     "metadata": {},
     "output_type": "execute_result"
    },
    {
     "data": {
      "image/png": "[encoded data removed]",
      "text/plain": [
       "<Figure size 720x432 with 1 Axes>"
      ]
     },
     "metadata": {},
     "output_type": "display_data"
    }
   ],
   "source": [
    "ax = plt.figure(figsize=(10,6))\n",
    "\n",
    "i = pd.DataFrame({'feature':X_test.columns,'importance':imp}).sort_values('importance',ascending=False)\n",
    "\n",
    "sns.barplot(data=i,y='feature',x='importance',orient='h',color='gray')"
   ]
  },
  {
   "cell_type": "markdown",
   "metadata": {},
   "source": [
    "***Recall***"
   ]
  },
  {
   "cell_type": "code",
   "execution_count": 51,
   "metadata": {},
   "outputs": [],
   "source": [
    "from sklearn.metrics import recall_score\n",
    "from sklearn.metrics import precision_score\n",
    "\n",
    "def test_comp_recall(e):\n",
    "    #predicting probability from test set\n",
    "    y_pred = e.predict(X_test)\n",
    "    #deciding membership\n",
    "\n",
    "    r = np.round(recall_score(y_test,y_pred),3)\n",
    "    p = np.round(precision_score(y_test,y_pred),3)\n",
    "    print('Evaluating the classifier on the test set, the recall is: ' +  \n",
    "          '{}, and the precision is: {}'.format(r,p))\n",
    "\n",
    "\n",
    "from sklearn.metrics import precision_recall_curve\n",
    "\n",
    "def pr_curve(e,x,y):\n",
    "    \"\"\"e is estimator, x is data and y is true value\"\"\"\n",
    "\n",
    "    #predicting from model\n",
    "    y_pred_rf = e.predict_proba(x)\n",
    "\n",
    "    #finding curve\n",
    "    p, r, t = precision_recall_curve(y.to_numpy(),y_pred_rf[:,1])\n",
    "    sns.lineplot(x=p,y=r)\n",
    "    plt.xlabel('Precision')\n",
    "    plt.ylabel('Recall')\n",
    "    return pd.DataFrame({'precision':p[:-1],'recall':r[:-1],'threshold':t})\n",
    "\n",
    "    \n"
   ]
  },
  {
   "cell_type": "code",
   "execution_count": 52,
   "metadata": {},
   "outputs": [
    {
     "data": {
      "image/png": "[encoded data removed]",
      "text/plain": [
       "<Figure size 432x288 with 1 Axes>"
      ]
     },
     "metadata": {},
     "output_type": "display_data"
    }
   ],
   "source": [
    "c = pr_curve(rf.best_estimator_,X_train,y_train)"
   ]
  },
  {
   "cell_type": "code",
   "execution_count": 53,
   "metadata": {},
   "outputs": [
    {
     "data": {
      "text/plain": [
       "Text(34.0, 0.5, 'True')"
      ]
     },
     "execution_count": 53,
     "metadata": {},
     "output_type": "execute_result"
    },
    {
     "data": {
      "image/png": "[encoded data removed]",
      "text/plain": [
       "<Figure size 432x288 with 2 Axes>"
      ]
     },
     "metadata": {},
     "output_type": "display_data"
    }
   ],
   "source": [
    "from sklearn.metrics import confusion_matrix\n",
    "\n",
    "clf = rf_rand.best_estimator_\n",
    "y_pred = clf.predict_proba(X_test)[:,1]\n",
    "y_pred = (y_pred >= thresh).astype('int')\n",
    "\n",
    "sns.heatmap(confusion_matrix(y_test,y_pred),annot=True,fmt='d')\n",
    "plt.xlabel('Predicted')\n",
    "plt.ylabel('True')"
   ]
  },
  {
   "cell_type": "code",
   "execution_count": 60,
   "metadata": {},
   "outputs": [
    {
     "data": {
      "image/png": "[encoded data removed]",
      "text/plain": [
       "<Figure size 576x252 with 1 Axes>"
      ]
     },
     "metadata": {},
     "output_type": "display_data"
    }
   ],
   "source": [
    "import shap\n",
    "\n",
    "model = rf.best_estimator_[1]\n",
    "\n",
    "shap_values = shap.TreeExplainer(model).shap_values(X_train)\n",
    "shap.summary_plot(shap_values, X_train, plot_type=\"bar\")"
   ]
  },
  {
   "cell_type": "code",
   "execution_count": 66,
   "metadata": {},
   "outputs": [
    {
     "data": {
      "image/png": "[encoded data removed]",
      "text/plain": [
       "<Figure size 540x360 with 2 Axes>"
      ]
     },
     "metadata": {},
     "output_type": "display_data"
    }
   ],
   "source": [
    "shap.dependence_plot('longer_days 58.0 lag', shap_values[0], X_train)"
   ]
  },
  {
   "cell_type": "code",
   "execution_count": 67,
   "metadata": {},
   "outputs": [
    {
     "data": {
      "image/png": "[encoded data removed]",
      "text/plain": [
       "<Figure size 540x360 with 2 Axes>"
      ]
     },
     "metadata": {},
     "output_type": "display_data"
    }
   ],
   "source": [
    "shap.dependence_plot('PrecipTotal 59.0 lag', shap_values[0], X_train)"
   ]
  },
  {
   "cell_type": "code",
   "execution_count": 68,
   "metadata": {},
   "outputs": [
    {
     "data": {
      "image/png": "[encoded data removed]",
      "text/plain": [
       "<Figure size 540x360 with 2 Axes>"
      ]
     },
     "metadata": {},
     "output_type": "display_data"
    }
   ],
   "source": [
    "shap.dependence_plot('spray_month', shap_values[0], X_train)"
   ]
  },
  {
   "cell_type": "code",
   "execution_count": 69,
   "metadata": {},
   "outputs": [
    {
     "data": {
      "image/png": "[encoded data removed]",
      "text/plain": [
       "<Figure size 540x360 with 2 Axes>"
      ]
     },
     "metadata": {},
     "output_type": "display_data"
    }
   ],
   "source": [
    "shap.dependence_plot('Depart 3.0 lag', shap_values[0], X_train)"
   ]
  },
  {
   "cell_type": "code",
   "execution_count": 70,
   "metadata": {},
   "outputs": [
    {
     "data": {
      "image/png": "[encoded data removed]",
      "text/plain": [
       "<Figure size 540x360 with 2 Axes>"
      ]
     },
     "metadata": {},
     "output_type": "display_data"
    }
   ],
   "source": [
    "shap.dependence_plot('HZ 10.0 lag', shap_values[0], X_train)"
   ]
  },
  {
   "cell_type": "code",
   "execution_count": null,
   "metadata": {},
   "outputs": [],
   "source": []
  }
 ],
 "metadata": {
  "kernelspec": {
   "display_name": "Python 3",
   "language": "python",
   "name": "python3"
  },
  "language_info": {
   "codemirror_mode": {
    "name": "ipython",
    "version": 3
   },
   "file_extension": ".py",
   "mimetype": "text/x-python",
   "name": "python",
   "nbconvert_exporter": "python",
   "pygments_lexer": "ipython3",
   "version": "3.8.3"
  }
 },
 "nbformat": 4,
 "nbformat_minor": 4
}
