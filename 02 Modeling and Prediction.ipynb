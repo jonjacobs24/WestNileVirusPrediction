{
 "cells": [
  {
   "cell_type": "markdown",
   "metadata": {},
   "source": [
    "<h1>Modeling and Prediction</h1>\n",
    "On the West Nile Virus data set"
   ]
  },
  {
   "cell_type": "code",
   "execution_count": 80,
   "metadata": {},
   "outputs": [],
   "source": [
    "import pandas as pd\n",
    "import numpy as np\n",
    "from scipy import stats\n",
    "import seaborn as sns\n",
    "import matplotlib.pyplot as plt\n",
    "from sklearn.model_selection import train_test_split, cross_val_score, GridSearchCV\n",
    "from sklearn.pipeline import Pipeline\n",
    "from sklearn.metrics import classification_report\n",
    "from sklearn.linear_model import LogisticRegression\n",
    "import pandas.core.algorithms as algos\n",
    "from pandas import Series\n",
    "import scipy.stats.stats as stats\n",
    "import re\n",
    "import traceback\n",
    "import string\n",
    "import statsmodels.api as sm\n",
    "from statsmodels.stats.outliers_influence import variance_inflation_factor\n",
    "\n",
    "sns.set_style('whitegrid')"
   ]
  },
  {
   "cell_type": "code",
   "execution_count": 98,
   "metadata": {},
   "outputs": [],
   "source": [
    "#loading cleaned data\n",
    "df = pd.read_pickle('./data/df_best.pkl')\n",
    "X = df.drop('WnvPresent',axis=1)\n",
    "y = df.WnvPresent\n",
    "\n",
    "df_avg = pd.read_pickle('./data/df_avg.pkl')\n",
    "X_avg = df_avg.drop('WnvPresent',axis=1)\n",
    "y_avg = df_avg.WnvPresent"
   ]
  },
  {
   "cell_type": "code",
   "execution_count": 82,
   "metadata": {},
   "outputs": [],
   "source": [
    "# mistakenly, thought that the train_test_split was done for me. It was not, the test set is for the kaggle competition\n",
    "X_train, X_test, y_train, y_test = train_test_split(X,y,test_size=0.2,random_state=123)"
   ]
  },
  {
   "cell_type": "code",
   "execution_count": null,
   "metadata": {},
   "outputs": [],
   "source": []
  },
  {
   "cell_type": "code",
   "execution_count": 83,
   "metadata": {},
   "outputs": [],
   "source": [
    "max_bin = 20\n",
    "force_bin = 3\n",
    "\n",
    "def mono_bin(Y, X, n = max_bin):\n",
    "    \n",
    "    np.seterr(divide='ignore')\n",
    "    \n",
    "    df1 = pd.DataFrame({\"X\": X, \"Y\": Y})\n",
    "    justmiss = df1[['X','Y']][df1.X.isnull()]\n",
    "    notmiss = df1[['X','Y']][df1.X.notnull()]\n",
    "    r = 0\n",
    "    while np.abs(r) < 1:\n",
    "        try:\n",
    "            d1 = pd.DataFrame({\"X\": notmiss.X, \"Y\": notmiss.Y, \"Bucket\": pd.qcut(notmiss.X, n)})\n",
    "            d2 = d1.groupby('Bucket', as_index=True)\n",
    "            r, p = stats.spearmanr(d2.mean().X, d2.mean().Y)\n",
    "            n = n - 1 \n",
    "        except Exception as e:\n",
    "            n = n - 1\n",
    "\n",
    "    if len(d2) == 1:\n",
    "        n = force_bin         \n",
    "        bins = algos.quantile(notmiss.X, np.linspace(0, 1, n))\n",
    "        if len(np.unique(bins)) == 2:\n",
    "            bins = np.insert(bins, 0, 1)\n",
    "            bins[1] = bins[1]-(bins[1]/2)\n",
    "        d1 = pd.DataFrame({\"X\": notmiss.X, \"Y\": notmiss.Y, \"Bucket\": pd.cut(notmiss.X, np.unique(bins),include_lowest=True)}) \n",
    "        d2 = d1.groupby('Bucket', as_index=True)\n",
    "    \n",
    "    d3 = pd.DataFrame({},index=[])\n",
    "    d3[\"MIN_VALUE\"] = d2.min().X\n",
    "    d3[\"MAX_VALUE\"] = d2.max().X\n",
    "    d3[\"COUNT\"] = d2.count().Y\n",
    "    d3[\"EVENT\"] = d2.sum().Y\n",
    "    d3[\"NONEVENT\"] = d2.count().Y - d2.sum().Y\n",
    "    d3=d3.reset_index(drop=True)\n",
    "    \n",
    "    if len(justmiss.index) > 0:\n",
    "        d4 = pd.DataFrame({'MIN_VALUE':np.nan},index=[0])\n",
    "        d4[\"MAX_VALUE\"] = np.nan\n",
    "        d4[\"COUNT\"] = justmiss.count().Y\n",
    "        d4[\"EVENT\"] = justmiss.sum().Y\n",
    "        d4[\"NONEVENT\"] = justmiss.count().Y - justmiss.sum().Y\n",
    "        d3 = d3.append(d4,ignore_index=True)\n",
    "    \n",
    "    d3[\"EVENT_RATE\"] = np.divide(d3.EVENT,d3.COUNT)\n",
    "    d3[\"NON_EVENT_RATE\"] = np.divide(d3.NONEVENT,d3.COUNT)\n",
    "    d3[\"DIST_EVENT\"] = np.divide(d3.EVENT,d3.sum().EVENT)\n",
    "    d3[\"DIST_NON_EVENT\"] = np.divide(d3.NONEVENT,d3.sum().NONEVENT)\n",
    "    d3[\"WOE\"] = np.log(np.divide(d3.DIST_EVENT,d3.DIST_NON_EVENT))\n",
    "    d3[\"IV\"] = (d3.DIST_EVENT-d3.DIST_NON_EVENT)*d3.WOE\n",
    "    d3[\"VAR_NAME\"] = \"VAR\"\n",
    "    d3 = d3[['VAR_NAME','MIN_VALUE', 'MAX_VALUE', 'COUNT', 'EVENT', 'EVENT_RATE', 'NONEVENT', 'NON_EVENT_RATE', 'DIST_EVENT','DIST_NON_EVENT','WOE', 'IV']]       \n",
    "    d3 = d3.replace([np.inf, -np.inf], 0)\n",
    "    d3.IV = d3.IV.sum()\n",
    "    \n",
    "    return(d3)\n",
    "\n",
    "def char_bin(Y, X):\n",
    "        \n",
    "    df1 = pd.DataFrame({\"X\": X, \"Y\": Y})\n",
    "    justmiss = df1[['X','Y']][df1.X.isnull()]\n",
    "    notmiss = df1[['X','Y']][df1.X.notnull()]    \n",
    "    df2 = notmiss.groupby('X',as_index=True)\n",
    "    \n",
    "    d3 = pd.DataFrame({},index=[])\n",
    "    d3[\"COUNT\"] = df2.count().Y\n",
    "    d3[\"MIN_VALUE\"] = df2.sum().Y.index\n",
    "    d3[\"MAX_VALUE\"] = d3[\"MIN_VALUE\"]\n",
    "    d3[\"EVENT\"] = df2.sum().Y\n",
    "    d3[\"NONEVENT\"] = df2.count().Y - df2.sum().Y\n",
    "    \n",
    "    if len(justmiss.index) > 0:\n",
    "        d4 = pd.DataFrame({'MIN_VALUE':np.nan},index=[0])\n",
    "        d4[\"MAX_VALUE\"] = np.nan\n",
    "        d4[\"COUNT\"] = justmiss.count().Y\n",
    "        d4[\"EVENT\"] = justmiss.sum().Y\n",
    "        d4[\"NONEVENT\"] = justmiss.count().Y - justmiss.sum().Y\n",
    "        d3 = d3.append(d4,ignore_index=True)\n",
    "    \n",
    "    d3[\"EVENT_RATE\"] = d3.EVENT/d3.COUNT\n",
    "    d3[\"NON_EVENT_RATE\"] = d3.NONEVENT/d3.COUNT\n",
    "    d3[\"DIST_EVENT\"] = d3.EVENT/d3.sum().EVENT\n",
    "    d3[\"DIST_NON_EVENT\"] = d3.NONEVENT/d3.sum().NONEVENT\n",
    "    d3[\"WOE\"] = np.log(d3.DIST_EVENT/d3.DIST_NON_EVENT)\n",
    "    d3[\"IV\"] = (d3.DIST_EVENT-d3.DIST_NON_EVENT)*np.log(d3.DIST_EVENT/d3.DIST_NON_EVENT)\n",
    "    d3[\"VAR_NAME\"] = \"VAR\"\n",
    "    d3 = d3[['VAR_NAME','MIN_VALUE', 'MAX_VALUE', 'COUNT', 'EVENT', 'EVENT_RATE', 'NONEVENT', 'NON_EVENT_RATE', 'DIST_EVENT','DIST_NON_EVENT','WOE', 'IV']]      \n",
    "    d3 = d3.replace([np.inf, -np.inf], 0)\n",
    "    d3.IV = d3.IV.sum()\n",
    "    d3 = d3.reset_index(drop=True)\n",
    "    \n",
    "    return(d3)\n",
    "\n",
    "def data_vars(df1, target):\n",
    "    \n",
    "    stack = traceback.extract_stack()\n",
    "    filename, lineno, function_name, code = stack[-2]\n",
    "    vars_name = re.compile(r'\\((.*?)\\).*$').search(code).groups()[0]\n",
    "    final = (re.findall(r\"[\\w']+\", vars_name))[-1]\n",
    "    \n",
    "    x = df1.dtypes.index\n",
    "    count = -1\n",
    "    \n",
    "    for i in x:\n",
    "        if i.upper() not in (final.upper()):\n",
    "            if np.issubdtype(df1[i], np.number) and len(pd.Series.unique(df1[i])) > 2:\n",
    "                conv = mono_bin(target, df1[i])\n",
    "                conv[\"VAR_NAME\"] = i\n",
    "                count = count + 1\n",
    "            else:\n",
    "                conv = char_bin(target, df1[i])\n",
    "                conv[\"VAR_NAME\"] = i            \n",
    "                count = count + 1\n",
    "                \n",
    "            if count == 0:\n",
    "                iv_df = conv\n",
    "            else:\n",
    "                iv_df = iv_df.append(conv,ignore_index=True)\n",
    "    \n",
    "    iv = pd.DataFrame({'IV':iv_df.groupby('VAR_NAME').IV.max()})\n",
    "    iv = iv.reset_index()\n",
    "    return(iv_df,iv)"
   ]
  },
  {
   "cell_type": "code",
   "execution_count": 84,
   "metadata": {},
   "outputs": [],
   "source": [
    "final_iv, IV = data_vars(X, y)\n",
    "\n"
   ]
  },
  {
   "cell_type": "code",
   "execution_count": 99,
   "metadata": {},
   "outputs": [],
   "source": [
    "final_iv_avg, IV_avg = data_vars(X_avg,y_avg)"
   ]
  },
  {
   "cell_type": "code",
   "execution_count": 102,
   "metadata": {},
   "outputs": [],
   "source": [
    "features_avg = list(IV_avg[(IV_avg['IV'] >= 0.01) & (IV['IV'] <= 0.8)]['VAR_NAME'])\n",
    "X_avg = df_avg[features_avg]"
   ]
  },
  {
   "cell_type": "code",
   "execution_count": 104,
   "metadata": {},
   "outputs": [
    {
     "name": "stdout",
     "output_type": "stream",
     "text": [
      "<class 'pandas.core.frame.DataFrame'>\n",
      "Int64Index: 10506 entries, 0 to 10505\n",
      "Data columns (total 11 columns):\n",
      " #   Column        Non-Null Count  Dtype  \n",
      "---  ------        --------------  -----  \n",
      " 0   AvgSpeed      10506 non-null  float64\n",
      " 1   Depart        10506 non-null  float64\n",
      " 2   FG            10506 non-null  float64\n",
      " 3   Latitude      10506 non-null  float64\n",
      " 4   Longitude     10506 non-null  float64\n",
      " 5   PrecipTotal   10506 non-null  float64\n",
      " 6   ResultSpeed   10506 non-null  float64\n",
      " 7   Sunrise       10506 non-null  float64\n",
      " 8   Sunset        10506 non-null  float64\n",
      " 9   Tavg          10506 non-null  float64\n",
      " 10  sunrise_diff  10506 non-null  float64\n",
      "dtypes: float64(11)\n",
      "memory usage: 984.9 KB\n"
     ]
    }
   ],
   "source": [
    "X_avg.info()"
   ]
  },
  {
   "cell_type": "code",
   "execution_count": 85,
   "metadata": {},
   "outputs": [],
   "source": [
    "features = list(IV[(IV['IV'] >= 0.01) & (IV['IV'] <= 0.8)]['VAR_NAME'])\n",
    "X2 = X[features]"
   ]
  },
  {
   "cell_type": "code",
   "execution_count": 97,
   "metadata": {},
   "outputs": [
    {
     "name": "stdout",
     "output_type": "stream",
     "text": [
      "<class 'pandas.core.frame.DataFrame'>\n",
      "Int64Index: 10351 entries, 0 to 10350\n",
      "Data columns (total 17 columns):\n",
      " #   Column                Non-Null Count  Dtype  \n",
      "---  ------                --------------  -----  \n",
      " 0   AvgSpeed 32.0 lag     10351 non-null  float64\n",
      " 1   BR 48.0 lag           10351 non-null  float64\n",
      " 2   DZ 59.0 lag           10351 non-null  float64\n",
      " 3   Depart 3.0 lag        10351 non-null  float64\n",
      " 4   HZ 10.0 lag           10351 non-null  float64\n",
      " 5   Latitude              10351 non-null  float64\n",
      " 6   Longitude             10351 non-null  float64\n",
      " 7   PrecipTotal 59.0 lag  10351 non-null  float64\n",
      " 8   RA 48.0 lag           10351 non-null  float64\n",
      " 9   ResultSpeed 32.0 lag  10351 non-null  float64\n",
      " 10  SeaLevel 32.0 lag     10351 non-null  float64\n",
      " 11  StnPressure 32.0 lag  10351 non-null  float64\n",
      " 12  Sunrise 2.0 ewm       10351 non-null  float64\n",
      " 13  Sunset 5.0 lag        10351 non-null  float64\n",
      " 14  Tavg 59.0 ewm         10351 non-null  float64\n",
      " 15  spray_month           10351 non-null  int64  \n",
      " 16  sunset_diff 28.0 lag  10351 non-null  float64\n",
      "dtypes: float64(16), int64(1)\n",
      "memory usage: 1.4 MB\n"
     ]
    }
   ],
   "source": [
    "X2.info()"
   ]
  },
  {
   "cell_type": "code",
   "execution_count": 94,
   "metadata": {},
   "outputs": [],
   "source": [
    "def iterate_vif(df, vif_threshold=10, max_vif=11):\n",
    "  count = 0\n",
    "  while max_vif > vif_threshold:\n",
    "    count += 1\n",
    "    print(\"Iteration # \"+str(count))\n",
    "    vif = pd.DataFrame()\n",
    "    vif[\"VIFactor\"] = [variance_inflation_factor(df.values, i) for i in range(df.shape[1])]\n",
    "    vif[\"features\"] = df.columns\n",
    "    \n",
    "    if np.round(vif['VIFactor'].max(),1) > vif_threshold:\n",
    "      print('Removing %s with VIF of %f' % (vif[vif['VIFactor'] == vif['VIFactor'].max()]['features'].values[0], np.round(vif['VIFactor'].max(),1)))\n",
    "      df = df.drop(vif[vif['VIFactor'] == vif['VIFactor'].max()]['features'].values[0], axis=1)\n",
    "      max_vif = np.round(vif['VIFactor'].max(),1)\n",
    "    else:\n",
    "        print('Complete')\n",
    "        return df, np.round(vif.sort_values('VIFactor'),1)\n"
   ]
  },
  {
   "cell_type": "code",
   "execution_count": 95,
   "metadata": {},
   "outputs": [
    {
     "name": "stdout",
     "output_type": "stream",
     "text": [
      "Iteration # 1\n",
      "Removing SeaLevel 32.0 lag with VIF of 632560331.900000\n",
      "Iteration # 2\n",
      "Removing Longitude with VIF of 1014909.400000\n",
      "Iteration # 3\n",
      "Removing StnPressure 32.0 lag with VIF of 167531.000000\n",
      "Iteration # 4\n",
      "Removing Latitude with VIF of 44379.100000\n",
      "Iteration # 5\n",
      "Removing Sunset 5.0 lag with VIF of 4346.700000\n",
      "Iteration # 6\n",
      "Removing AvgSpeed 32.0 lag with VIF of 1367.200000\n",
      "Iteration # 7\n",
      "Removing Sunrise 2.0 ewm with VIF of 511.200000\n",
      "Iteration # 8\n",
      "Removing Tavg 59.0 ewm with VIF of 115.600000\n",
      "Iteration # 9\n",
      "Removing RA 48.0 lag with VIF of 100.800000\n",
      "Iteration # 10\n",
      "Removing BR 48.0 lag with VIF of 27.400000\n",
      "Iteration # 11\n",
      "Removing ResultSpeed 32.0 lag with VIF of 14.100000\n",
      "Iteration # 12\n",
      "Complete\n"
     ]
    }
   ],
   "source": [
    "X1 = X2._get_numeric_data()\n",
    "final_df, final_vif = iterate_vif(X1)"
   ]
  },
  {
   "cell_type": "code",
   "execution_count": 96,
   "metadata": {},
   "outputs": [
    {
     "data": {
      "text/html": [
       "<div>\n",
       "<style scoped>\n",
       "    .dataframe tbody tr th:only-of-type {\n",
       "        vertical-align: middle;\n",
       "    }\n",
       "\n",
       "    .dataframe tbody tr th {\n",
       "        vertical-align: top;\n",
       "    }\n",
       "\n",
       "    .dataframe thead th {\n",
       "        text-align: right;\n",
       "    }\n",
       "</style>\n",
       "<table border=\"1\" class=\"dataframe\">\n",
       "  <thead>\n",
       "    <tr style=\"text-align: right;\">\n",
       "      <th></th>\n",
       "      <th>VIFactor</th>\n",
       "      <th>features</th>\n",
       "    </tr>\n",
       "  </thead>\n",
       "  <tbody>\n",
       "    <tr>\n",
       "      <th>4</th>\n",
       "      <td>1.1</td>\n",
       "      <td>spray_month</td>\n",
       "    </tr>\n",
       "    <tr>\n",
       "      <th>1</th>\n",
       "      <td>1.4</td>\n",
       "      <td>Depart 3.0 lag</td>\n",
       "    </tr>\n",
       "    <tr>\n",
       "      <th>5</th>\n",
       "      <td>1.9</td>\n",
       "      <td>sunset_diff 28.0 lag</td>\n",
       "    </tr>\n",
       "    <tr>\n",
       "      <th>2</th>\n",
       "      <td>2.0</td>\n",
       "      <td>HZ 10.0 lag</td>\n",
       "    </tr>\n",
       "    <tr>\n",
       "      <th>0</th>\n",
       "      <td>2.9</td>\n",
       "      <td>DZ 59.0 lag</td>\n",
       "    </tr>\n",
       "    <tr>\n",
       "      <th>3</th>\n",
       "      <td>4.9</td>\n",
       "      <td>PrecipTotal 59.0 lag</td>\n",
       "    </tr>\n",
       "  </tbody>\n",
       "</table>\n",
       "</div>"
      ],
      "text/plain": [
       "   VIFactor              features\n",
       "4       1.1           spray_month\n",
       "1       1.4        Depart 3.0 lag\n",
       "5       1.9  sunset_diff 28.0 lag\n",
       "2       2.0           HZ 10.0 lag\n",
       "0       2.9           DZ 59.0 lag\n",
       "3       4.9  PrecipTotal 59.0 lag"
      ]
     },
     "execution_count": 96,
     "metadata": {},
     "output_type": "execute_result"
    }
   ],
   "source": [
    "final_vif"
   ]
  },
  {
   "cell_type": "markdown",
   "metadata": {},
   "source": [
    "<h2>Random Forest Classifier</h2>\n",
    "Random Forest Classifier is a great ensemble method which I will look into first with a Random Search CV. The driving metric for analysis is roc_auc. This data set is heavily class biased -- there are few west nile virus sightings compared to the observations as a whole. The area under the roc curve is relatively good at handling this sort of imbalance."
   ]
  },
  {
   "cell_type": "markdown",
   "metadata": {},
   "source": [
    "***Building Pipeline***"
   ]
  },
  {
   "cell_type": "code",
   "execution_count": 4,
   "metadata": {},
   "outputs": [],
   "source": [
    "from sklearn.pipeline import make_pipeline\n",
    "from sklearn.ensemble import RandomForestClassifier\n",
    "from sklearn.model_selection import RandomizedSearchCV\n",
    "from sklearn.preprocessing import StandardScaler\n",
    "from sklearn.metrics import recall_score\n",
    "from scipy.stats import truncnorm, uniform\n"
   ]
  },
  {
   "cell_type": "code",
   "execution_count": 5,
   "metadata": {},
   "outputs": [],
   "source": [
    "pipe = make_pipeline( \n",
    "    StandardScaler(), \n",
    "    RandomForestClassifier()\n",
    ")"
   ]
  },
  {
   "cell_type": "code",
   "execution_count": 6,
   "metadata": {},
   "outputs": [
    {
     "data": {
      "text/plain": [
       "dict_keys(['memory', 'steps', 'verbose', 'standardscaler', 'randomforestclassifier', 'standardscaler__copy', 'standardscaler__with_mean', 'standardscaler__with_std', 'randomforestclassifier__bootstrap', 'randomforestclassifier__ccp_alpha', 'randomforestclassifier__class_weight', 'randomforestclassifier__criterion', 'randomforestclassifier__max_depth', 'randomforestclassifier__max_features', 'randomforestclassifier__max_leaf_nodes', 'randomforestclassifier__max_samples', 'randomforestclassifier__min_impurity_decrease', 'randomforestclassifier__min_impurity_split', 'randomforestclassifier__min_samples_leaf', 'randomforestclassifier__min_samples_split', 'randomforestclassifier__min_weight_fraction_leaf', 'randomforestclassifier__n_estimators', 'randomforestclassifier__n_jobs', 'randomforestclassifier__oob_score', 'randomforestclassifier__random_state', 'randomforestclassifier__verbose', 'randomforestclassifier__warm_start'])"
      ]
     },
     "execution_count": 6,
     "metadata": {},
     "output_type": "execute_result"
    }
   ],
   "source": [
    "pipe.get_params().keys()\n"
   ]
  },
  {
   "cell_type": "code",
   "execution_count": 7,
   "metadata": {},
   "outputs": [],
   "source": [
    "params = {'randomforestclassifier__n_estimators': np.arange(50,2000),\n",
    "         'randomforestclassifier__max_depth' :  np.arange(2,20)}\n",
    "\n",
    "rf_rand = RandomizedSearchCV(pipe,param_distributions=params,cv=5, n_jobs=-1, scoring = 'roc_auc',n_iter=10,\n",
    "                            random_state = 42, verbose= 10)"
   ]
  },
  {
   "cell_type": "code",
   "execution_count": 8,
   "metadata": {},
   "outputs": [
    {
     "name": "stdout",
     "output_type": "stream",
     "text": [
      "Fitting 5 folds for each of 10 candidates, totalling 50 fits\n"
     ]
    },
    {
     "name": "stderr",
     "output_type": "stream",
     "text": [
      "[Parallel(n_jobs=-1)]: Using backend LokyBackend with 8 concurrent workers.\n",
      "[Parallel(n_jobs=-1)]: Done   2 tasks      | elapsed:    5.0s\n",
      "[Parallel(n_jobs=-1)]: Done   9 tasks      | elapsed:   10.8s\n",
      "[Parallel(n_jobs=-1)]: Done  16 tasks      | elapsed:   20.9s\n",
      "[Parallel(n_jobs=-1)]: Done  25 tasks      | elapsed:   32.2s\n",
      "[Parallel(n_jobs=-1)]: Done  34 tasks      | elapsed:   40.5s\n",
      "[Parallel(n_jobs=-1)]: Done  41 out of  50 | elapsed:   48.5s remaining:   10.7s\n",
      "[Parallel(n_jobs=-1)]: Done  47 out of  50 | elapsed:   51.3s remaining:    3.3s\n",
      "[Parallel(n_jobs=-1)]: Done  50 out of  50 | elapsed:   51.4s finished\n"
     ]
    },
    {
     "data": {
      "text/plain": [
       "RandomizedSearchCV(cv=5,\n",
       "                   estimator=Pipeline(steps=[('standardscaler',\n",
       "                                              StandardScaler()),\n",
       "                                             ('randomforestclassifier',\n",
       "                                              RandomForestClassifier())]),\n",
       "                   n_jobs=-1,\n",
       "                   param_distributions={'randomforestclassifier__max_depth': array([ 2,  3,  4,  5,  6,  7,  8,  9, 10, 11, 12, 13, 14, 15, 16, 17, 18,\n",
       "       19]),\n",
       "                                        'randomforestclassifier__n_estimators': array([  50,   51,   52, ..., 1997, 1998, 1999])},\n",
       "                   random_state=42, scoring='roc_auc', verbose=10)"
      ]
     },
     "execution_count": 8,
     "metadata": {},
     "output_type": "execute_result"
    }
   ],
   "source": [
    "rf_rand.fit(X_train,y_train)"
   ]
  },
  {
   "cell_type": "markdown",
   "metadata": {},
   "source": [
    "***Looking at results from the random search***"
   ]
  },
  {
   "cell_type": "code",
   "execution_count": 9,
   "metadata": {},
   "outputs": [
    {
     "data": {
      "text/plain": [
       "{'randomforestclassifier__n_estimators': 465,\n",
       " 'randomforestclassifier__max_depth': 5}"
      ]
     },
     "execution_count": 9,
     "metadata": {},
     "output_type": "execute_result"
    }
   ],
   "source": [
    "rf_rand.best_params_"
   ]
  },
  {
   "cell_type": "code",
   "execution_count": 10,
   "metadata": {},
   "outputs": [],
   "source": [
    "rf_res = pd.DataFrame(rf_rand.cv_results_)\n"
   ]
  },
  {
   "cell_type": "code",
   "execution_count": 11,
   "metadata": {},
   "outputs": [
    {
     "data": {
      "text/html": [
       "<div>\n",
       "<style scoped>\n",
       "    .dataframe tbody tr th:only-of-type {\n",
       "        vertical-align: middle;\n",
       "    }\n",
       "\n",
       "    .dataframe tbody tr th {\n",
       "        vertical-align: top;\n",
       "    }\n",
       "\n",
       "    .dataframe thead th {\n",
       "        text-align: right;\n",
       "    }\n",
       "</style>\n",
       "<table border=\"1\" class=\"dataframe\">\n",
       "  <thead>\n",
       "    <tr style=\"text-align: right;\">\n",
       "      <th></th>\n",
       "      <th>mean_fit_time</th>\n",
       "      <th>std_fit_time</th>\n",
       "      <th>mean_score_time</th>\n",
       "      <th>std_score_time</th>\n",
       "      <th>param_randomforestclassifier__n_estimators</th>\n",
       "      <th>param_randomforestclassifier__max_depth</th>\n",
       "      <th>params</th>\n",
       "      <th>split0_test_score</th>\n",
       "      <th>split1_test_score</th>\n",
       "      <th>split2_test_score</th>\n",
       "      <th>split3_test_score</th>\n",
       "      <th>split4_test_score</th>\n",
       "      <th>mean_test_score</th>\n",
       "      <th>std_test_score</th>\n",
       "      <th>rank_test_score</th>\n",
       "    </tr>\n",
       "  </thead>\n",
       "  <tbody>\n",
       "    <tr>\n",
       "      <th>3</th>\n",
       "      <td>3.903984</td>\n",
       "      <td>0.141170</td>\n",
       "      <td>0.178097</td>\n",
       "      <td>0.008327</td>\n",
       "      <td>465</td>\n",
       "      <td>5</td>\n",
       "      <td>{'randomforestclassifier__n_estimators': 465, ...</td>\n",
       "      <td>0.873748</td>\n",
       "      <td>0.872081</td>\n",
       "      <td>0.881227</td>\n",
       "      <td>0.902998</td>\n",
       "      <td>0.843252</td>\n",
       "      <td>0.874661</td>\n",
       "      <td>0.019184</td>\n",
       "      <td>1</td>\n",
       "    </tr>\n",
       "    <tr>\n",
       "      <th>2</th>\n",
       "      <td>15.560370</td>\n",
       "      <td>0.294438</td>\n",
       "      <td>0.734438</td>\n",
       "      <td>0.078143</td>\n",
       "      <td>1584</td>\n",
       "      <td>7</td>\n",
       "      <td>{'randomforestclassifier__n_estimators': 1584,...</td>\n",
       "      <td>0.870313</td>\n",
       "      <td>0.871995</td>\n",
       "      <td>0.884310</td>\n",
       "      <td>0.895392</td>\n",
       "      <td>0.844828</td>\n",
       "      <td>0.873367</td>\n",
       "      <td>0.016915</td>\n",
       "      <td>2</td>\n",
       "    </tr>\n",
       "    <tr>\n",
       "      <th>4</th>\n",
       "      <td>15.497140</td>\n",
       "      <td>0.237734</td>\n",
       "      <td>0.657902</td>\n",
       "      <td>0.034508</td>\n",
       "      <td>1300</td>\n",
       "      <td>10</td>\n",
       "      <td>{'randomforestclassifier__n_estimators': 1300,...</td>\n",
       "      <td>0.859938</td>\n",
       "      <td>0.868130</td>\n",
       "      <td>0.878193</td>\n",
       "      <td>0.886494</td>\n",
       "      <td>0.842837</td>\n",
       "      <td>0.867119</td>\n",
       "      <td>0.015101</td>\n",
       "      <td>3</td>\n",
       "    </tr>\n",
       "    <tr>\n",
       "      <th>6</th>\n",
       "      <td>5.329918</td>\n",
       "      <td>0.107820</td>\n",
       "      <td>0.258977</td>\n",
       "      <td>0.014633</td>\n",
       "      <td>473</td>\n",
       "      <td>10</td>\n",
       "      <td>{'randomforestclassifier__n_estimators': 473, ...</td>\n",
       "      <td>0.859429</td>\n",
       "      <td>0.866187</td>\n",
       "      <td>0.876526</td>\n",
       "      <td>0.887140</td>\n",
       "      <td>0.845867</td>\n",
       "      <td>0.867030</td>\n",
       "      <td>0.014149</td>\n",
       "      <td>4</td>\n",
       "    </tr>\n",
       "    <tr>\n",
       "      <th>0</th>\n",
       "      <td>2.685724</td>\n",
       "      <td>0.032817</td>\n",
       "      <td>0.118585</td>\n",
       "      <td>0.005838</td>\n",
       "      <td>245</td>\n",
       "      <td>10</td>\n",
       "      <td>{'randomforestclassifier__n_estimators': 245, ...</td>\n",
       "      <td>0.860038</td>\n",
       "      <td>0.863068</td>\n",
       "      <td>0.877681</td>\n",
       "      <td>0.884713</td>\n",
       "      <td>0.843352</td>\n",
       "      <td>0.865770</td>\n",
       "      <td>0.014446</td>\n",
       "      <td>5</td>\n",
       "    </tr>\n",
       "    <tr>\n",
       "      <th>9</th>\n",
       "      <td>2.886940</td>\n",
       "      <td>0.152260</td>\n",
       "      <td>0.123136</td>\n",
       "      <td>0.013986</td>\n",
       "      <td>533</td>\n",
       "      <td>3</td>\n",
       "      <td>{'randomforestclassifier__n_estimators': 533, ...</td>\n",
       "      <td>0.872787</td>\n",
       "      <td>0.855119</td>\n",
       "      <td>0.869342</td>\n",
       "      <td>0.899674</td>\n",
       "      <td>0.825922</td>\n",
       "      <td>0.864569</td>\n",
       "      <td>0.024106</td>\n",
       "      <td>6</td>\n",
       "    </tr>\n",
       "    <tr>\n",
       "      <th>5</th>\n",
       "      <td>7.076944</td>\n",
       "      <td>0.516579</td>\n",
       "      <td>0.291820</td>\n",
       "      <td>0.019430</td>\n",
       "      <td>562</td>\n",
       "      <td>13</td>\n",
       "      <td>{'randomforestclassifier__n_estimators': 562, ...</td>\n",
       "      <td>0.849426</td>\n",
       "      <td>0.854761</td>\n",
       "      <td>0.868069</td>\n",
       "      <td>0.876937</td>\n",
       "      <td>0.834217</td>\n",
       "      <td>0.856682</td>\n",
       "      <td>0.014839</td>\n",
       "      <td>7</td>\n",
       "    </tr>\n",
       "    <tr>\n",
       "      <th>8</th>\n",
       "      <td>4.830910</td>\n",
       "      <td>0.185772</td>\n",
       "      <td>0.282621</td>\n",
       "      <td>0.037478</td>\n",
       "      <td>819</td>\n",
       "      <td>2</td>\n",
       "      <td>{'randomforestclassifier__n_estimators': 819, ...</td>\n",
       "      <td>0.864649</td>\n",
       "      <td>0.841657</td>\n",
       "      <td>0.857808</td>\n",
       "      <td>0.893519</td>\n",
       "      <td>0.818089</td>\n",
       "      <td>0.855144</td>\n",
       "      <td>0.025000</td>\n",
       "      <td>8</td>\n",
       "    </tr>\n",
       "    <tr>\n",
       "      <th>1</th>\n",
       "      <td>5.254648</td>\n",
       "      <td>0.111899</td>\n",
       "      <td>0.310587</td>\n",
       "      <td>0.027266</td>\n",
       "      <td>910</td>\n",
       "      <td>2</td>\n",
       "      <td>{'randomforestclassifier__n_estimators': 910, ...</td>\n",
       "      <td>0.863297</td>\n",
       "      <td>0.840743</td>\n",
       "      <td>0.856919</td>\n",
       "      <td>0.894327</td>\n",
       "      <td>0.817962</td>\n",
       "      <td>0.854650</td>\n",
       "      <td>0.025273</td>\n",
       "      <td>9</td>\n",
       "    </tr>\n",
       "    <tr>\n",
       "      <th>7</th>\n",
       "      <td>10.431660</td>\n",
       "      <td>0.122306</td>\n",
       "      <td>0.625291</td>\n",
       "      <td>0.021673</td>\n",
       "      <td>1735</td>\n",
       "      <td>2</td>\n",
       "      <td>{'randomforestclassifier__n_estimators': 1735,...</td>\n",
       "      <td>0.863914</td>\n",
       "      <td>0.842241</td>\n",
       "      <td>0.858669</td>\n",
       "      <td>0.891734</td>\n",
       "      <td>0.815116</td>\n",
       "      <td>0.854335</td>\n",
       "      <td>0.025273</td>\n",
       "      <td>10</td>\n",
       "    </tr>\n",
       "  </tbody>\n",
       "</table>\n",
       "</div>"
      ],
      "text/plain": [
       "   mean_fit_time  std_fit_time  mean_score_time  std_score_time  \\\n",
       "3       3.903984      0.141170         0.178097        0.008327   \n",
       "2      15.560370      0.294438         0.734438        0.078143   \n",
       "4      15.497140      0.237734         0.657902        0.034508   \n",
       "6       5.329918      0.107820         0.258977        0.014633   \n",
       "0       2.685724      0.032817         0.118585        0.005838   \n",
       "9       2.886940      0.152260         0.123136        0.013986   \n",
       "5       7.076944      0.516579         0.291820        0.019430   \n",
       "8       4.830910      0.185772         0.282621        0.037478   \n",
       "1       5.254648      0.111899         0.310587        0.027266   \n",
       "7      10.431660      0.122306         0.625291        0.021673   \n",
       "\n",
       "  param_randomforestclassifier__n_estimators  \\\n",
       "3                                        465   \n",
       "2                                       1584   \n",
       "4                                       1300   \n",
       "6                                        473   \n",
       "0                                        245   \n",
       "9                                        533   \n",
       "5                                        562   \n",
       "8                                        819   \n",
       "1                                        910   \n",
       "7                                       1735   \n",
       "\n",
       "  param_randomforestclassifier__max_depth  \\\n",
       "3                                       5   \n",
       "2                                       7   \n",
       "4                                      10   \n",
       "6                                      10   \n",
       "0                                      10   \n",
       "9                                       3   \n",
       "5                                      13   \n",
       "8                                       2   \n",
       "1                                       2   \n",
       "7                                       2   \n",
       "\n",
       "                                              params  split0_test_score  \\\n",
       "3  {'randomforestclassifier__n_estimators': 465, ...           0.873748   \n",
       "2  {'randomforestclassifier__n_estimators': 1584,...           0.870313   \n",
       "4  {'randomforestclassifier__n_estimators': 1300,...           0.859938   \n",
       "6  {'randomforestclassifier__n_estimators': 473, ...           0.859429   \n",
       "0  {'randomforestclassifier__n_estimators': 245, ...           0.860038   \n",
       "9  {'randomforestclassifier__n_estimators': 533, ...           0.872787   \n",
       "5  {'randomforestclassifier__n_estimators': 562, ...           0.849426   \n",
       "8  {'randomforestclassifier__n_estimators': 819, ...           0.864649   \n",
       "1  {'randomforestclassifier__n_estimators': 910, ...           0.863297   \n",
       "7  {'randomforestclassifier__n_estimators': 1735,...           0.863914   \n",
       "\n",
       "   split1_test_score  split2_test_score  split3_test_score  split4_test_score  \\\n",
       "3           0.872081           0.881227           0.902998           0.843252   \n",
       "2           0.871995           0.884310           0.895392           0.844828   \n",
       "4           0.868130           0.878193           0.886494           0.842837   \n",
       "6           0.866187           0.876526           0.887140           0.845867   \n",
       "0           0.863068           0.877681           0.884713           0.843352   \n",
       "9           0.855119           0.869342           0.899674           0.825922   \n",
       "5           0.854761           0.868069           0.876937           0.834217   \n",
       "8           0.841657           0.857808           0.893519           0.818089   \n",
       "1           0.840743           0.856919           0.894327           0.817962   \n",
       "7           0.842241           0.858669           0.891734           0.815116   \n",
       "\n",
       "   mean_test_score  std_test_score  rank_test_score  \n",
       "3         0.874661        0.019184                1  \n",
       "2         0.873367        0.016915                2  \n",
       "4         0.867119        0.015101                3  \n",
       "6         0.867030        0.014149                4  \n",
       "0         0.865770        0.014446                5  \n",
       "9         0.864569        0.024106                6  \n",
       "5         0.856682        0.014839                7  \n",
       "8         0.855144        0.025000                8  \n",
       "1         0.854650        0.025273                9  \n",
       "7         0.854335        0.025273               10  "
      ]
     },
     "execution_count": 11,
     "metadata": {},
     "output_type": "execute_result"
    }
   ],
   "source": [
    "rf_res.sort_values('mean_test_score',axis=0, ascending=False)"
   ]
  },
  {
   "cell_type": "code",
   "execution_count": 12,
   "metadata": {},
   "outputs": [
    {
     "data": {
      "text/plain": [
       "0.874661076397337"
      ]
     },
     "execution_count": 12,
     "metadata": {},
     "output_type": "execute_result"
    }
   ],
   "source": [
    "rf_rand.best_score_"
   ]
  },
  {
   "cell_type": "code",
   "execution_count": 13,
   "metadata": {},
   "outputs": [],
   "source": [
    "from sklearn.metrics import roc_curve\n",
    "\n",
    "def roc_plot(e,x,y):\n",
    "    \"\"\"e is estimator, x is data and y is true value\"\"\"\n",
    "\n",
    "    #predicting from model\n",
    "    y_pred = e.predict_proba(x)[:,1]\n",
    "\n",
    "    #finding curve\n",
    "    fpr, tpr, t = roc_curve(y, y_pred)\n",
    "    sns.lineplot(x=fpr,y=tpr)\n",
    "    plt.xlabel('false positive rate')\n",
    "    plt.ylabel('true positive rate')\n",
    "    plt.title('Compute Receiver Operating Characteristic Curve')\n",
    "    return pd.DataFrame({'fpr':fpr,'tpr':tpr,'threshold':t})\n",
    "\n",
    "    \n"
   ]
  },
  {
   "cell_type": "code",
   "execution_count": 14,
   "metadata": {},
   "outputs": [
    {
     "data": {
      "image/png": "[encoded data removed]",
      "text/plain": [
       "<Figure size 432x288 with 1 Axes>"
      ]
     },
     "metadata": {},
     "output_type": "display_data"
    }
   ],
   "source": [
    "est = rf_rand.best_estimator_\n",
    "c = roc_plot(est, X_train, y_train)"
   ]
  },
  {
   "cell_type": "markdown",
   "metadata": {},
   "source": [
    "***Comparing to test set***"
   ]
  },
  {
   "cell_type": "code",
   "execution_count": 15,
   "metadata": {},
   "outputs": [
    {
     "name": "stdout",
     "output_type": "stream",
     "text": [
      "Evaluating the classifier on the test set, area under the roc curve is: 0.841\n"
     ]
    }
   ],
   "source": [
    "from sklearn.metrics import roc_auc_score\n",
    "\n",
    "\n",
    "def test_comp(e):\n",
    "    #predicting probability from test set\n",
    "    y_pred = e.predict_proba(X_test)[:,1]\n",
    "    \n",
    "    \n",
    "    r = np.round(roc_auc_score(y_test,y_pred),3)\n",
    "    \n",
    "    print('Evaluating the classifier on the test set, area under the roc curve is: ' +  \n",
    "           '{}'.format(r))\n",
    "\n",
    "test_comp(rf_rand.best_estimator_)"
   ]
  },
  {
   "cell_type": "markdown",
   "metadata": {},
   "source": [
    "<h3>Random Forest first results</h3>\n",
    "\n",
    "The classifier has decent performance. Let's see if with more parameters and a larger search I can improve the results even further."
   ]
  },
  {
   "cell_type": "code",
   "execution_count": 16,
   "metadata": {
    "scrolled": true
   },
   "outputs": [
    {
     "name": "stdout",
     "output_type": "stream",
     "text": [
      "Fitting 4 folds for each of 50 candidates, totalling 200 fits\n"
     ]
    },
    {
     "name": "stderr",
     "output_type": "stream",
     "text": [
      "[Parallel(n_jobs=-1)]: Using backend LokyBackend with 8 concurrent workers.\n",
      "[Parallel(n_jobs=-1)]: Done   2 tasks      | elapsed:    2.8s\n",
      "[Parallel(n_jobs=-1)]: Done   9 tasks      | elapsed:    7.6s\n",
      "[Parallel(n_jobs=-1)]: Done  16 tasks      | elapsed:    9.8s\n",
      "[Parallel(n_jobs=-1)]: Done  25 tasks      | elapsed:   23.0s\n",
      "[Parallel(n_jobs=-1)]: Done  34 tasks      | elapsed:   27.7s\n",
      "[Parallel(n_jobs=-1)]: Done  45 tasks      | elapsed:   40.5s\n",
      "[Parallel(n_jobs=-1)]: Done  56 tasks      | elapsed:   53.1s\n",
      "[Parallel(n_jobs=-1)]: Done  69 tasks      | elapsed:  1.1min\n",
      "[Parallel(n_jobs=-1)]: Done  82 tasks      | elapsed:  1.4min\n",
      "[Parallel(n_jobs=-1)]: Done  97 tasks      | elapsed:  1.6min\n",
      "[Parallel(n_jobs=-1)]: Done 112 tasks      | elapsed:  1.8min\n",
      "[Parallel(n_jobs=-1)]: Done 129 tasks      | elapsed:  2.1min\n",
      "[Parallel(n_jobs=-1)]: Done 146 tasks      | elapsed:  2.7min\n",
      "[Parallel(n_jobs=-1)]: Done 165 tasks      | elapsed:  3.2min\n",
      "[Parallel(n_jobs=-1)]: Done 184 tasks      | elapsed:  3.5min\n",
      "[Parallel(n_jobs=-1)]: Done 200 out of 200 | elapsed:  3.7min finished\n"
     ]
    },
    {
     "data": {
      "text/plain": [
       "RandomizedSearchCV(cv=4,\n",
       "                   estimator=Pipeline(steps=[('standardscaler',\n",
       "                                              StandardScaler()),\n",
       "                                             ('randomforestclassifier',\n",
       "                                              RandomForestClassifier())]),\n",
       "                   n_iter=50, n_jobs=-1,\n",
       "                   param_distributions={'randomforestclassifier__max_depth': array([ 1,  2,  3,  4,  5,  6,  7,  8,  9, 10, 11, 12, 13]),\n",
       "                                        'randomforestclassifier__n_estimators': array([  50,   51,   52, ..., 1997, 1998, 1999])},\n",
       "                   random_state=42, scoring='roc_auc', verbose=10)"
      ]
     },
     "execution_count": 16,
     "metadata": {},
     "output_type": "execute_result"
    }
   ],
   "source": [
    "params = {'randomforestclassifier__n_estimators': np.arange(50,2000),\n",
    "         'randomforestclassifier__max_depth' :  np.arange(1,14)}\n",
    "\n",
    "rf_rand_two = RandomizedSearchCV(pipe,param_distributions=params,cv=4, n_jobs=-1, scoring = 'roc_auc',n_iter=50,\n",
    "                            random_state = 42, verbose = 10)\n",
    "rf_rand_two.fit(X_train,y_train)"
   ]
  },
  {
   "cell_type": "code",
   "execution_count": 17,
   "metadata": {},
   "outputs": [
    {
     "data": {
      "image/png": "[encoded data removed]",
      "text/plain": [
       "<Figure size 432x288 with 1 Axes>"
      ]
     },
     "metadata": {},
     "output_type": "display_data"
    }
   ],
   "source": [
    "c = roc_plot(rf_rand_two.best_estimator_,X_train,y_train)\n"
   ]
  },
  {
   "cell_type": "code",
   "execution_count": 18,
   "metadata": {},
   "outputs": [
    {
     "data": {
      "text/plain": [
       "{'randomforestclassifier__n_estimators': 927,\n",
       " 'randomforestclassifier__max_depth': 6}"
      ]
     },
     "execution_count": 18,
     "metadata": {},
     "output_type": "execute_result"
    }
   ],
   "source": [
    "rf_rand_two.best_params_"
   ]
  },
  {
   "cell_type": "code",
   "execution_count": 19,
   "metadata": {},
   "outputs": [
    {
     "data": {
      "text/plain": [
       "0.8755481740777702"
      ]
     },
     "execution_count": 19,
     "metadata": {},
     "output_type": "execute_result"
    }
   ],
   "source": [
    "rf_rand_two.best_score_"
   ]
  },
  {
   "cell_type": "code",
   "execution_count": 20,
   "metadata": {},
   "outputs": [
    {
     "name": "stdout",
     "output_type": "stream",
     "text": [
      "Evaluating the classifier on the test set, area under the roc curve is: 0.845\n"
     ]
    }
   ],
   "source": [
    "test_comp(rf_rand_two.best_estimator_)"
   ]
  },
  {
   "cell_type": "code",
   "execution_count": 21,
   "metadata": {},
   "outputs": [
    {
     "data": {
      "text/html": [
       "<div>\n",
       "<style scoped>\n",
       "    .dataframe tbody tr th:only-of-type {\n",
       "        vertical-align: middle;\n",
       "    }\n",
       "\n",
       "    .dataframe tbody tr th {\n",
       "        vertical-align: top;\n",
       "    }\n",
       "\n",
       "    .dataframe thead th {\n",
       "        text-align: right;\n",
       "    }\n",
       "</style>\n",
       "<table border=\"1\" class=\"dataframe\">\n",
       "  <thead>\n",
       "    <tr style=\"text-align: right;\">\n",
       "      <th></th>\n",
       "      <th>mean_fit_time</th>\n",
       "      <th>std_fit_time</th>\n",
       "      <th>mean_score_time</th>\n",
       "      <th>std_score_time</th>\n",
       "      <th>param_randomforestclassifier__n_estimators</th>\n",
       "      <th>param_randomforestclassifier__max_depth</th>\n",
       "      <th>params</th>\n",
       "      <th>split0_test_score</th>\n",
       "      <th>split1_test_score</th>\n",
       "      <th>split2_test_score</th>\n",
       "      <th>split3_test_score</th>\n",
       "      <th>mean_test_score</th>\n",
       "      <th>std_test_score</th>\n",
       "      <th>rank_test_score</th>\n",
       "    </tr>\n",
       "  </thead>\n",
       "  <tbody>\n",
       "    <tr>\n",
       "      <th>46</th>\n",
       "      <td>8.211403</td>\n",
       "      <td>0.108180</td>\n",
       "      <td>0.485250</td>\n",
       "      <td>0.008161</td>\n",
       "      <td>927</td>\n",
       "      <td>6</td>\n",
       "      <td>{'randomforestclassifier__n_estimators': 927, ...</td>\n",
       "      <td>0.869707</td>\n",
       "      <td>0.883493</td>\n",
       "      <td>0.898190</td>\n",
       "      <td>0.850802</td>\n",
       "      <td>0.875548</td>\n",
       "      <td>0.017480</td>\n",
       "      <td>1</td>\n",
       "    </tr>\n",
       "    <tr>\n",
       "      <th>6</th>\n",
       "      <td>13.957325</td>\n",
       "      <td>0.123932</td>\n",
       "      <td>0.864142</td>\n",
       "      <td>0.008131</td>\n",
       "      <td>1584</td>\n",
       "      <td>6</td>\n",
       "      <td>{'randomforestclassifier__n_estimators': 1584,...</td>\n",
       "      <td>0.868567</td>\n",
       "      <td>0.883543</td>\n",
       "      <td>0.897830</td>\n",
       "      <td>0.851475</td>\n",
       "      <td>0.875354</td>\n",
       "      <td>0.017237</td>\n",
       "      <td>2</td>\n",
       "    </tr>\n",
       "    <tr>\n",
       "      <th>27</th>\n",
       "      <td>7.584947</td>\n",
       "      <td>0.057096</td>\n",
       "      <td>0.465669</td>\n",
       "      <td>0.009473</td>\n",
       "      <td>916</td>\n",
       "      <td>5</td>\n",
       "      <td>{'randomforestclassifier__n_estimators': 916, ...</td>\n",
       "      <td>0.871356</td>\n",
       "      <td>0.881366</td>\n",
       "      <td>0.897693</td>\n",
       "      <td>0.850449</td>\n",
       "      <td>0.875216</td>\n",
       "      <td>0.017113</td>\n",
       "      <td>3</td>\n",
       "    </tr>\n",
       "    <tr>\n",
       "      <th>40</th>\n",
       "      <td>17.358102</td>\n",
       "      <td>0.103123</td>\n",
       "      <td>0.942488</td>\n",
       "      <td>0.006860</td>\n",
       "      <td>1694</td>\n",
       "      <td>6</td>\n",
       "      <td>{'randomforestclassifier__n_estimators': 1694,...</td>\n",
       "      <td>0.869054</td>\n",
       "      <td>0.883183</td>\n",
       "      <td>0.896913</td>\n",
       "      <td>0.851087</td>\n",
       "      <td>0.875059</td>\n",
       "      <td>0.016988</td>\n",
       "      <td>4</td>\n",
       "    </tr>\n",
       "    <tr>\n",
       "      <th>49</th>\n",
       "      <td>4.937378</td>\n",
       "      <td>0.062450</td>\n",
       "      <td>0.177464</td>\n",
       "      <td>0.005023</td>\n",
       "      <td>553</td>\n",
       "      <td>6</td>\n",
       "      <td>{'randomforestclassifier__n_estimators': 553, ...</td>\n",
       "      <td>0.868213</td>\n",
       "      <td>0.883486</td>\n",
       "      <td>0.897627</td>\n",
       "      <td>0.850711</td>\n",
       "      <td>0.875009</td>\n",
       "      <td>0.017464</td>\n",
       "      <td>5</td>\n",
       "    </tr>\n",
       "    <tr>\n",
       "      <th>13</th>\n",
       "      <td>16.109111</td>\n",
       "      <td>0.155420</td>\n",
       "      <td>0.837374</td>\n",
       "      <td>0.022944</td>\n",
       "      <td>1663</td>\n",
       "      <td>6</td>\n",
       "      <td>{'randomforestclassifier__n_estimators': 1663,...</td>\n",
       "      <td>0.868204</td>\n",
       "      <td>0.882969</td>\n",
       "      <td>0.896836</td>\n",
       "      <td>0.851443</td>\n",
       "      <td>0.874863</td>\n",
       "      <td>0.016892</td>\n",
       "      <td>6</td>\n",
       "    </tr>\n",
       "    <tr>\n",
       "      <th>47</th>\n",
       "      <td>8.527889</td>\n",
       "      <td>0.089610</td>\n",
       "      <td>0.515632</td>\n",
       "      <td>0.010360</td>\n",
       "      <td>1042</td>\n",
       "      <td>5</td>\n",
       "      <td>{'randomforestclassifier__n_estimators': 1042,...</td>\n",
       "      <td>0.869282</td>\n",
       "      <td>0.881446</td>\n",
       "      <td>0.897948</td>\n",
       "      <td>0.850604</td>\n",
       "      <td>0.874820</td>\n",
       "      <td>0.017291</td>\n",
       "      <td>7</td>\n",
       "    </tr>\n",
       "    <tr>\n",
       "      <th>43</th>\n",
       "      <td>9.367031</td>\n",
       "      <td>0.114106</td>\n",
       "      <td>0.577715</td>\n",
       "      <td>0.012166</td>\n",
       "      <td>1088</td>\n",
       "      <td>5</td>\n",
       "      <td>{'randomforestclassifier__n_estimators': 1088,...</td>\n",
       "      <td>0.869749</td>\n",
       "      <td>0.881377</td>\n",
       "      <td>0.897401</td>\n",
       "      <td>0.850107</td>\n",
       "      <td>0.874658</td>\n",
       "      <td>0.017243</td>\n",
       "      <td>8</td>\n",
       "    </tr>\n",
       "    <tr>\n",
       "      <th>5</th>\n",
       "      <td>2.974204</td>\n",
       "      <td>0.085998</td>\n",
       "      <td>0.179309</td>\n",
       "      <td>0.005086</td>\n",
       "      <td>314</td>\n",
       "      <td>7</td>\n",
       "      <td>{'randomforestclassifier__n_estimators': 314, ...</td>\n",
       "      <td>0.867367</td>\n",
       "      <td>0.882244</td>\n",
       "      <td>0.896523</td>\n",
       "      <td>0.852355</td>\n",
       "      <td>0.874622</td>\n",
       "      <td>0.016479</td>\n",
       "      <td>9</td>\n",
       "    </tr>\n",
       "    <tr>\n",
       "      <th>48</th>\n",
       "      <td>7.852758</td>\n",
       "      <td>0.038200</td>\n",
       "      <td>0.453042</td>\n",
       "      <td>0.045422</td>\n",
       "      <td>855</td>\n",
       "      <td>6</td>\n",
       "      <td>{'randomforestclassifier__n_estimators': 855, ...</td>\n",
       "      <td>0.868769</td>\n",
       "      <td>0.882882</td>\n",
       "      <td>0.896074</td>\n",
       "      <td>0.849614</td>\n",
       "      <td>0.874335</td>\n",
       "      <td>0.017232</td>\n",
       "      <td>10</td>\n",
       "    </tr>\n",
       "    <tr>\n",
       "      <th>15</th>\n",
       "      <td>4.993949</td>\n",
       "      <td>0.025659</td>\n",
       "      <td>0.285038</td>\n",
       "      <td>0.007331</td>\n",
       "      <td>572</td>\n",
       "      <td>5</td>\n",
       "      <td>{'randomforestclassifier__n_estimators': 572, ...</td>\n",
       "      <td>0.869015</td>\n",
       "      <td>0.882264</td>\n",
       "      <td>0.895673</td>\n",
       "      <td>0.849817</td>\n",
       "      <td>0.874192</td>\n",
       "      <td>0.016938</td>\n",
       "      <td>11</td>\n",
       "    </tr>\n",
       "    <tr>\n",
       "      <th>44</th>\n",
       "      <td>9.138026</td>\n",
       "      <td>0.139058</td>\n",
       "      <td>0.528570</td>\n",
       "      <td>0.011745</td>\n",
       "      <td>902</td>\n",
       "      <td>8</td>\n",
       "      <td>{'randomforestclassifier__n_estimators': 902, ...</td>\n",
       "      <td>0.864318</td>\n",
       "      <td>0.881136</td>\n",
       "      <td>0.894893</td>\n",
       "      <td>0.851589</td>\n",
       "      <td>0.872984</td>\n",
       "      <td>0.016427</td>\n",
       "      <td>12</td>\n",
       "    </tr>\n",
       "    <tr>\n",
       "      <th>12</th>\n",
       "      <td>8.080686</td>\n",
       "      <td>0.075314</td>\n",
       "      <td>0.520651</td>\n",
       "      <td>0.005721</td>\n",
       "      <td>823</td>\n",
       "      <td>8</td>\n",
       "      <td>{'randomforestclassifier__n_estimators': 823, ...</td>\n",
       "      <td>0.862267</td>\n",
       "      <td>0.881085</td>\n",
       "      <td>0.893671</td>\n",
       "      <td>0.852503</td>\n",
       "      <td>0.872382</td>\n",
       "      <td>0.016019</td>\n",
       "      <td>13</td>\n",
       "    </tr>\n",
       "    <tr>\n",
       "      <th>8</th>\n",
       "      <td>3.458604</td>\n",
       "      <td>0.030433</td>\n",
       "      <td>0.227646</td>\n",
       "      <td>0.007280</td>\n",
       "      <td>465</td>\n",
       "      <td>4</td>\n",
       "      <td>{'randomforestclassifier__n_estimators': 465, ...</td>\n",
       "      <td>0.870901</td>\n",
       "      <td>0.874056</td>\n",
       "      <td>0.896720</td>\n",
       "      <td>0.847140</td>\n",
       "      <td>0.872204</td>\n",
       "      <td>0.017566</td>\n",
       "      <td>14</td>\n",
       "    </tr>\n",
       "    <tr>\n",
       "      <th>22</th>\n",
       "      <td>4.513454</td>\n",
       "      <td>0.042873</td>\n",
       "      <td>0.290444</td>\n",
       "      <td>0.004412</td>\n",
       "      <td>620</td>\n",
       "      <td>4</td>\n",
       "      <td>{'randomforestclassifier__n_estimators': 620, ...</td>\n",
       "      <td>0.867643</td>\n",
       "      <td>0.874970</td>\n",
       "      <td>0.894458</td>\n",
       "      <td>0.847514</td>\n",
       "      <td>0.871146</td>\n",
       "      <td>0.016799</td>\n",
       "      <td>15</td>\n",
       "    </tr>\n",
       "    <tr>\n",
       "      <th>26</th>\n",
       "      <td>4.396973</td>\n",
       "      <td>0.061188</td>\n",
       "      <td>0.285622</td>\n",
       "      <td>0.014422</td>\n",
       "      <td>596</td>\n",
       "      <td>4</td>\n",
       "      <td>{'randomforestclassifier__n_estimators': 596, ...</td>\n",
       "      <td>0.869983</td>\n",
       "      <td>0.873201</td>\n",
       "      <td>0.893942</td>\n",
       "      <td>0.847036</td>\n",
       "      <td>0.871041</td>\n",
       "      <td>0.016632</td>\n",
       "      <td>16</td>\n",
       "    </tr>\n",
       "    <tr>\n",
       "      <th>9</th>\n",
       "      <td>13.159751</td>\n",
       "      <td>0.187185</td>\n",
       "      <td>0.760220</td>\n",
       "      <td>0.028367</td>\n",
       "      <td>1300</td>\n",
       "      <td>9</td>\n",
       "      <td>{'randomforestclassifier__n_estimators': 1300,...</td>\n",
       "      <td>0.862216</td>\n",
       "      <td>0.878550</td>\n",
       "      <td>0.891516</td>\n",
       "      <td>0.850376</td>\n",
       "      <td>0.870665</td>\n",
       "      <td>0.015652</td>\n",
       "      <td>17</td>\n",
       "    </tr>\n",
       "    <tr>\n",
       "      <th>14</th>\n",
       "      <td>5.814383</td>\n",
       "      <td>0.060911</td>\n",
       "      <td>0.306387</td>\n",
       "      <td>0.023081</td>\n",
       "      <td>473</td>\n",
       "      <td>9</td>\n",
       "      <td>{'randomforestclassifier__n_estimators': 473, ...</td>\n",
       "      <td>0.861384</td>\n",
       "      <td>0.877950</td>\n",
       "      <td>0.891603</td>\n",
       "      <td>0.850029</td>\n",
       "      <td>0.870242</td>\n",
       "      <td>0.015833</td>\n",
       "      <td>18</td>\n",
       "    </tr>\n",
       "    <tr>\n",
       "      <th>1</th>\n",
       "      <td>2.625456</td>\n",
       "      <td>0.046850</td>\n",
       "      <td>0.164309</td>\n",
       "      <td>0.006291</td>\n",
       "      <td>245</td>\n",
       "      <td>9</td>\n",
       "      <td>{'randomforestclassifier__n_estimators': 245, ...</td>\n",
       "      <td>0.861466</td>\n",
       "      <td>0.876512</td>\n",
       "      <td>0.890864</td>\n",
       "      <td>0.846705</td>\n",
       "      <td>0.868887</td>\n",
       "      <td>0.016494</td>\n",
       "      <td>19</td>\n",
       "    </tr>\n",
       "    <tr>\n",
       "      <th>39</th>\n",
       "      <td>6.026087</td>\n",
       "      <td>0.072828</td>\n",
       "      <td>0.337742</td>\n",
       "      <td>0.034434</td>\n",
       "      <td>412</td>\n",
       "      <td>10</td>\n",
       "      <td>{'randomforestclassifier__n_estimators': 412, ...</td>\n",
       "      <td>0.856762</td>\n",
       "      <td>0.875654</td>\n",
       "      <td>0.891300</td>\n",
       "      <td>0.849176</td>\n",
       "      <td>0.868223</td>\n",
       "      <td>0.016446</td>\n",
       "      <td>20</td>\n",
       "    </tr>\n",
       "    <tr>\n",
       "      <th>30</th>\n",
       "      <td>9.724086</td>\n",
       "      <td>0.094507</td>\n",
       "      <td>0.567815</td>\n",
       "      <td>0.011705</td>\n",
       "      <td>931</td>\n",
       "      <td>10</td>\n",
       "      <td>{'randomforestclassifier__n_estimators': 931, ...</td>\n",
       "      <td>0.858730</td>\n",
       "      <td>0.874606</td>\n",
       "      <td>0.889553</td>\n",
       "      <td>0.849003</td>\n",
       "      <td>0.867973</td>\n",
       "      <td>0.015451</td>\n",
       "      <td>21</td>\n",
       "    </tr>\n",
       "    <tr>\n",
       "      <th>28</th>\n",
       "      <td>15.188486</td>\n",
       "      <td>0.157219</td>\n",
       "      <td>0.874175</td>\n",
       "      <td>0.003410</td>\n",
       "      <td>1442</td>\n",
       "      <td>10</td>\n",
       "      <td>{'randomforestclassifier__n_estimators': 1442,...</td>\n",
       "      <td>0.857387</td>\n",
       "      <td>0.875372</td>\n",
       "      <td>0.889097</td>\n",
       "      <td>0.849215</td>\n",
       "      <td>0.867768</td>\n",
       "      <td>0.015530</td>\n",
       "      <td>22</td>\n",
       "    </tr>\n",
       "    <tr>\n",
       "      <th>33</th>\n",
       "      <td>20.567194</td>\n",
       "      <td>0.149178</td>\n",
       "      <td>1.504790</td>\n",
       "      <td>0.080789</td>\n",
       "      <td>1618</td>\n",
       "      <td>10</td>\n",
       "      <td>{'randomforestclassifier__n_estimators': 1618,...</td>\n",
       "      <td>0.855888</td>\n",
       "      <td>0.875937</td>\n",
       "      <td>0.888970</td>\n",
       "      <td>0.848686</td>\n",
       "      <td>0.867370</td>\n",
       "      <td>0.015975</td>\n",
       "      <td>23</td>\n",
       "    </tr>\n",
       "    <tr>\n",
       "      <th>21</th>\n",
       "      <td>7.821087</td>\n",
       "      <td>0.074292</td>\n",
       "      <td>0.516432</td>\n",
       "      <td>0.006561</td>\n",
       "      <td>1201</td>\n",
       "      <td>3</td>\n",
       "      <td>{'randomforestclassifier__n_estimators': 1201,...</td>\n",
       "      <td>0.867564</td>\n",
       "      <td>0.860148</td>\n",
       "      <td>0.890691</td>\n",
       "      <td>0.842982</td>\n",
       "      <td>0.865346</td>\n",
       "      <td>0.017135</td>\n",
       "      <td>24</td>\n",
       "    </tr>\n",
       "    <tr>\n",
       "      <th>20</th>\n",
       "      <td>9.403315</td>\n",
       "      <td>0.125154</td>\n",
       "      <td>0.658468</td>\n",
       "      <td>0.004503</td>\n",
       "      <td>1461</td>\n",
       "      <td>3</td>\n",
       "      <td>{'randomforestclassifier__n_estimators': 1461,...</td>\n",
       "      <td>0.866960</td>\n",
       "      <td>0.861245</td>\n",
       "      <td>0.890525</td>\n",
       "      <td>0.842291</td>\n",
       "      <td>0.865255</td>\n",
       "      <td>0.017211</td>\n",
       "      <td>25</td>\n",
       "    </tr>\n",
       "    <tr>\n",
       "      <th>23</th>\n",
       "      <td>0.751144</td>\n",
       "      <td>0.022509</td>\n",
       "      <td>0.048617</td>\n",
       "      <td>0.004103</td>\n",
       "      <td>68</td>\n",
       "      <td>10</td>\n",
       "      <td>{'randomforestclassifier__n_estimators': 68, '...</td>\n",
       "      <td>0.855897</td>\n",
       "      <td>0.873958</td>\n",
       "      <td>0.883514</td>\n",
       "      <td>0.847300</td>\n",
       "      <td>0.865167</td>\n",
       "      <td>0.014309</td>\n",
       "      <td>26</td>\n",
       "    </tr>\n",
       "    <tr>\n",
       "      <th>24</th>\n",
       "      <td>16.324470</td>\n",
       "      <td>0.219673</td>\n",
       "      <td>0.965617</td>\n",
       "      <td>0.020767</td>\n",
       "      <td>1489</td>\n",
       "      <td>11</td>\n",
       "      <td>{'randomforestclassifier__n_estimators': 1489,...</td>\n",
       "      <td>0.855764</td>\n",
       "      <td>0.872471</td>\n",
       "      <td>0.886667</td>\n",
       "      <td>0.844457</td>\n",
       "      <td>0.864840</td>\n",
       "      <td>0.016066</td>\n",
       "      <td>27</td>\n",
       "    </tr>\n",
       "    <tr>\n",
       "      <th>10</th>\n",
       "      <td>3.759622</td>\n",
       "      <td>0.027151</td>\n",
       "      <td>0.254193</td>\n",
       "      <td>0.005362</td>\n",
       "      <td>576</td>\n",
       "      <td>3</td>\n",
       "      <td>{'randomforestclassifier__n_estimators': 576, ...</td>\n",
       "      <td>0.868164</td>\n",
       "      <td>0.859523</td>\n",
       "      <td>0.890449</td>\n",
       "      <td>0.840982</td>\n",
       "      <td>0.864780</td>\n",
       "      <td>0.017779</td>\n",
       "      <td>28</td>\n",
       "    </tr>\n",
       "    <tr>\n",
       "      <th>3</th>\n",
       "      <td>10.035337</td>\n",
       "      <td>0.083924</td>\n",
       "      <td>0.710686</td>\n",
       "      <td>0.008458</td>\n",
       "      <td>1540</td>\n",
       "      <td>3</td>\n",
       "      <td>{'randomforestclassifier__n_estimators': 1540,...</td>\n",
       "      <td>0.866755</td>\n",
       "      <td>0.860410</td>\n",
       "      <td>0.890164</td>\n",
       "      <td>0.841381</td>\n",
       "      <td>0.864678</td>\n",
       "      <td>0.017427</td>\n",
       "      <td>29</td>\n",
       "    </tr>\n",
       "    <tr>\n",
       "      <th>25</th>\n",
       "      <td>3.420547</td>\n",
       "      <td>0.027773</td>\n",
       "      <td>0.198832</td>\n",
       "      <td>0.016413</td>\n",
       "      <td>319</td>\n",
       "      <td>11</td>\n",
       "      <td>{'randomforestclassifier__n_estimators': 319, ...</td>\n",
       "      <td>0.855079</td>\n",
       "      <td>0.871534</td>\n",
       "      <td>0.885062</td>\n",
       "      <td>0.846773</td>\n",
       "      <td>0.864612</td>\n",
       "      <td>0.014792</td>\n",
       "      <td>30</td>\n",
       "    </tr>\n",
       "    <tr>\n",
       "      <th>35</th>\n",
       "      <td>19.523390</td>\n",
       "      <td>0.161198</td>\n",
       "      <td>1.248614</td>\n",
       "      <td>0.046541</td>\n",
       "      <td>1592</td>\n",
       "      <td>11</td>\n",
       "      <td>{'randomforestclassifier__n_estimators': 1592,...</td>\n",
       "      <td>0.852926</td>\n",
       "      <td>0.871363</td>\n",
       "      <td>0.885944</td>\n",
       "      <td>0.845991</td>\n",
       "      <td>0.864056</td>\n",
       "      <td>0.015674</td>\n",
       "      <td>31</td>\n",
       "    </tr>\n",
       "    <tr>\n",
       "      <th>45</th>\n",
       "      <td>4.329150</td>\n",
       "      <td>0.084347</td>\n",
       "      <td>0.246118</td>\n",
       "      <td>0.008289</td>\n",
       "      <td>377</td>\n",
       "      <td>12</td>\n",
       "      <td>{'randomforestclassifier__n_estimators': 377, ...</td>\n",
       "      <td>0.855854</td>\n",
       "      <td>0.869503</td>\n",
       "      <td>0.882029</td>\n",
       "      <td>0.844635</td>\n",
       "      <td>0.863005</td>\n",
       "      <td>0.014078</td>\n",
       "      <td>32</td>\n",
       "    </tr>\n",
       "    <tr>\n",
       "      <th>18</th>\n",
       "      <td>21.288787</td>\n",
       "      <td>0.343785</td>\n",
       "      <td>1.284630</td>\n",
       "      <td>0.029895</td>\n",
       "      <td>1933</td>\n",
       "      <td>12</td>\n",
       "      <td>{'randomforestclassifier__n_estimators': 1933,...</td>\n",
       "      <td>0.851032</td>\n",
       "      <td>0.868924</td>\n",
       "      <td>0.885413</td>\n",
       "      <td>0.845446</td>\n",
       "      <td>0.862704</td>\n",
       "      <td>0.015720</td>\n",
       "      <td>33</td>\n",
       "    </tr>\n",
       "    <tr>\n",
       "      <th>11</th>\n",
       "      <td>6.073753</td>\n",
       "      <td>0.067669</td>\n",
       "      <td>0.353046</td>\n",
       "      <td>0.013218</td>\n",
       "      <td>562</td>\n",
       "      <td>12</td>\n",
       "      <td>{'randomforestclassifier__n_estimators': 562, ...</td>\n",
       "      <td>0.849206</td>\n",
       "      <td>0.869430</td>\n",
       "      <td>0.883840</td>\n",
       "      <td>0.845581</td>\n",
       "      <td>0.862014</td>\n",
       "      <td>0.015536</td>\n",
       "      <td>34</td>\n",
       "    </tr>\n",
       "    <tr>\n",
       "      <th>7</th>\n",
       "      <td>7.995734</td>\n",
       "      <td>0.074008</td>\n",
       "      <td>0.463441</td>\n",
       "      <td>0.001912</td>\n",
       "      <td>718</td>\n",
       "      <td>12</td>\n",
       "      <td>{'randomforestclassifier__n_estimators': 718, ...</td>\n",
       "      <td>0.851094</td>\n",
       "      <td>0.867656</td>\n",
       "      <td>0.880981</td>\n",
       "      <td>0.845294</td>\n",
       "      <td>0.861256</td>\n",
       "      <td>0.014036</td>\n",
       "      <td>35</td>\n",
       "    </tr>\n",
       "    <tr>\n",
       "      <th>37</th>\n",
       "      <td>11.562294</td>\n",
       "      <td>0.164421</td>\n",
       "      <td>1.004898</td>\n",
       "      <td>0.079074</td>\n",
       "      <td>768</td>\n",
       "      <td>13</td>\n",
       "      <td>{'randomforestclassifier__n_estimators': 768, ...</td>\n",
       "      <td>0.852416</td>\n",
       "      <td>0.865887</td>\n",
       "      <td>0.880652</td>\n",
       "      <td>0.843166</td>\n",
       "      <td>0.860530</td>\n",
       "      <td>0.014150</td>\n",
       "      <td>36</td>\n",
       "    </tr>\n",
       "    <tr>\n",
       "      <th>0</th>\n",
       "      <td>3.542624</td>\n",
       "      <td>0.024956</td>\n",
       "      <td>0.217801</td>\n",
       "      <td>0.002870</td>\n",
       "      <td>304</td>\n",
       "      <td>13</td>\n",
       "      <td>{'randomforestclassifier__n_estimators': 304, ...</td>\n",
       "      <td>0.846693</td>\n",
       "      <td>0.862604</td>\n",
       "      <td>0.882586</td>\n",
       "      <td>0.845547</td>\n",
       "      <td>0.859357</td>\n",
       "      <td>0.015010</td>\n",
       "      <td>37</td>\n",
       "    </tr>\n",
       "    <tr>\n",
       "      <th>29</th>\n",
       "      <td>9.822172</td>\n",
       "      <td>0.066802</td>\n",
       "      <td>0.578694</td>\n",
       "      <td>0.006610</td>\n",
       "      <td>883</td>\n",
       "      <td>13</td>\n",
       "      <td>{'randomforestclassifier__n_estimators': 883, ...</td>\n",
       "      <td>0.847231</td>\n",
       "      <td>0.865720</td>\n",
       "      <td>0.879175</td>\n",
       "      <td>0.841910</td>\n",
       "      <td>0.858509</td>\n",
       "      <td>0.014848</td>\n",
       "      <td>38</td>\n",
       "    </tr>\n",
       "    <tr>\n",
       "      <th>4</th>\n",
       "      <td>1.865195</td>\n",
       "      <td>0.035701</td>\n",
       "      <td>0.112833</td>\n",
       "      <td>0.002890</td>\n",
       "      <td>175</td>\n",
       "      <td>12</td>\n",
       "      <td>{'randomforestclassifier__n_estimators': 175, ...</td>\n",
       "      <td>0.840277</td>\n",
       "      <td>0.868180</td>\n",
       "      <td>0.882216</td>\n",
       "      <td>0.842375</td>\n",
       "      <td>0.858262</td>\n",
       "      <td>0.017664</td>\n",
       "      <td>39</td>\n",
       "    </tr>\n",
       "    <tr>\n",
       "      <th>34</th>\n",
       "      <td>8.366302</td>\n",
       "      <td>0.067396</td>\n",
       "      <td>0.495463</td>\n",
       "      <td>0.027031</td>\n",
       "      <td>1105</td>\n",
       "      <td>2</td>\n",
       "      <td>{'randomforestclassifier__n_estimators': 1105,...</td>\n",
       "      <td>0.858394</td>\n",
       "      <td>0.847941</td>\n",
       "      <td>0.879305</td>\n",
       "      <td>0.834165</td>\n",
       "      <td>0.854951</td>\n",
       "      <td>0.016479</td>\n",
       "      <td>40</td>\n",
       "    </tr>\n",
       "    <tr>\n",
       "      <th>42</th>\n",
       "      <td>12.040848</td>\n",
       "      <td>0.041246</td>\n",
       "      <td>0.795076</td>\n",
       "      <td>0.018009</td>\n",
       "      <td>1990</td>\n",
       "      <td>2</td>\n",
       "      <td>{'randomforestclassifier__n_estimators': 1990,...</td>\n",
       "      <td>0.859652</td>\n",
       "      <td>0.846541</td>\n",
       "      <td>0.879701</td>\n",
       "      <td>0.833444</td>\n",
       "      <td>0.854835</td>\n",
       "      <td>0.017087</td>\n",
       "      <td>41</td>\n",
       "    </tr>\n",
       "    <tr>\n",
       "      <th>41</th>\n",
       "      <td>10.673223</td>\n",
       "      <td>0.086394</td>\n",
       "      <td>0.729431</td>\n",
       "      <td>0.054584</td>\n",
       "      <td>1656</td>\n",
       "      <td>2</td>\n",
       "      <td>{'randomforestclassifier__n_estimators': 1656,...</td>\n",
       "      <td>0.858544</td>\n",
       "      <td>0.841894</td>\n",
       "      <td>0.879758</td>\n",
       "      <td>0.835104</td>\n",
       "      <td>0.853825</td>\n",
       "      <td>0.017231</td>\n",
       "      <td>42</td>\n",
       "    </tr>\n",
       "    <tr>\n",
       "      <th>19</th>\n",
       "      <td>3.125275</td>\n",
       "      <td>0.006976</td>\n",
       "      <td>0.226626</td>\n",
       "      <td>0.005420</td>\n",
       "      <td>533</td>\n",
       "      <td>2</td>\n",
       "      <td>{'randomforestclassifier__n_estimators': 533, ...</td>\n",
       "      <td>0.859912</td>\n",
       "      <td>0.843556</td>\n",
       "      <td>0.879400</td>\n",
       "      <td>0.830159</td>\n",
       "      <td>0.853257</td>\n",
       "      <td>0.018408</td>\n",
       "      <td>43</td>\n",
       "    </tr>\n",
       "    <tr>\n",
       "      <th>31</th>\n",
       "      <td>4.755442</td>\n",
       "      <td>0.029606</td>\n",
       "      <td>0.348247</td>\n",
       "      <td>0.013315</td>\n",
       "      <td>847</td>\n",
       "      <td>2</td>\n",
       "      <td>{'randomforestclassifier__n_estimators': 847, ...</td>\n",
       "      <td>0.856502</td>\n",
       "      <td>0.842460</td>\n",
       "      <td>0.880048</td>\n",
       "      <td>0.833385</td>\n",
       "      <td>0.853099</td>\n",
       "      <td>0.017604</td>\n",
       "      <td>44</td>\n",
       "    </tr>\n",
       "    <tr>\n",
       "      <th>32</th>\n",
       "      <td>1.524508</td>\n",
       "      <td>0.063404</td>\n",
       "      <td>0.112089</td>\n",
       "      <td>0.010615</td>\n",
       "      <td>239</td>\n",
       "      <td>1</td>\n",
       "      <td>{'randomforestclassifier__n_estimators': 239, ...</td>\n",
       "      <td>0.844837</td>\n",
       "      <td>0.829616</td>\n",
       "      <td>0.861181</td>\n",
       "      <td>0.824584</td>\n",
       "      <td>0.840055</td>\n",
       "      <td>0.014296</td>\n",
       "      <td>45</td>\n",
       "    </tr>\n",
       "    <tr>\n",
       "      <th>38</th>\n",
       "      <td>8.792231</td>\n",
       "      <td>0.028463</td>\n",
       "      <td>1.175744</td>\n",
       "      <td>0.161894</td>\n",
       "      <td>1317</td>\n",
       "      <td>1</td>\n",
       "      <td>{'randomforestclassifier__n_estimators': 1317,...</td>\n",
       "      <td>0.839884</td>\n",
       "      <td>0.832370</td>\n",
       "      <td>0.864405</td>\n",
       "      <td>0.819762</td>\n",
       "      <td>0.839105</td>\n",
       "      <td>0.016280</td>\n",
       "      <td>46</td>\n",
       "    </tr>\n",
       "    <tr>\n",
       "      <th>2</th>\n",
       "      <td>4.508364</td>\n",
       "      <td>0.045211</td>\n",
       "      <td>0.338875</td>\n",
       "      <td>0.004000</td>\n",
       "      <td>910</td>\n",
       "      <td>1</td>\n",
       "      <td>{'randomforestclassifier__n_estimators': 910, ...</td>\n",
       "      <td>0.839661</td>\n",
       "      <td>0.829012</td>\n",
       "      <td>0.859585</td>\n",
       "      <td>0.826011</td>\n",
       "      <td>0.838567</td>\n",
       "      <td>0.013152</td>\n",
       "      <td>47</td>\n",
       "    </tr>\n",
       "    <tr>\n",
       "      <th>36</th>\n",
       "      <td>10.899254</td>\n",
       "      <td>0.073872</td>\n",
       "      <td>0.970083</td>\n",
       "      <td>0.035583</td>\n",
       "      <td>1949</td>\n",
       "      <td>1</td>\n",
       "      <td>{'randomforestclassifier__n_estimators': 1949,...</td>\n",
       "      <td>0.841142</td>\n",
       "      <td>0.829124</td>\n",
       "      <td>0.859247</td>\n",
       "      <td>0.821321</td>\n",
       "      <td>0.837709</td>\n",
       "      <td>0.014300</td>\n",
       "      <td>48</td>\n",
       "    </tr>\n",
       "    <tr>\n",
       "      <th>16</th>\n",
       "      <td>8.436758</td>\n",
       "      <td>0.072983</td>\n",
       "      <td>0.657652</td>\n",
       "      <td>0.031946</td>\n",
       "      <td>1735</td>\n",
       "      <td>1</td>\n",
       "      <td>{'randomforestclassifier__n_estimators': 1735,...</td>\n",
       "      <td>0.839790</td>\n",
       "      <td>0.831582</td>\n",
       "      <td>0.860923</td>\n",
       "      <td>0.818034</td>\n",
       "      <td>0.837582</td>\n",
       "      <td>0.015555</td>\n",
       "      <td>49</td>\n",
       "    </tr>\n",
       "    <tr>\n",
       "      <th>17</th>\n",
       "      <td>4.072709</td>\n",
       "      <td>0.025490</td>\n",
       "      <td>0.311766</td>\n",
       "      <td>0.010348</td>\n",
       "      <td>819</td>\n",
       "      <td>1</td>\n",
       "      <td>{'randomforestclassifier__n_estimators': 819, ...</td>\n",
       "      <td>0.841347</td>\n",
       "      <td>0.832042</td>\n",
       "      <td>0.857857</td>\n",
       "      <td>0.817594</td>\n",
       "      <td>0.837210</td>\n",
       "      <td>0.014619</td>\n",
       "      <td>50</td>\n",
       "    </tr>\n",
       "  </tbody>\n",
       "</table>\n",
       "</div>"
      ],
      "text/plain": [
       "    mean_fit_time  std_fit_time  mean_score_time  std_score_time  \\\n",
       "46       8.211403      0.108180         0.485250        0.008161   \n",
       "6       13.957325      0.123932         0.864142        0.008131   \n",
       "27       7.584947      0.057096         0.465669        0.009473   \n",
       "40      17.358102      0.103123         0.942488        0.006860   \n",
       "49       4.937378      0.062450         0.177464        0.005023   \n",
       "13      16.109111      0.155420         0.837374        0.022944   \n",
       "47       8.527889      0.089610         0.515632        0.010360   \n",
       "43       9.367031      0.114106         0.577715        0.012166   \n",
       "5        2.974204      0.085998         0.179309        0.005086   \n",
       "48       7.852758      0.038200         0.453042        0.045422   \n",
       "15       4.993949      0.025659         0.285038        0.007331   \n",
       "44       9.138026      0.139058         0.528570        0.011745   \n",
       "12       8.080686      0.075314         0.520651        0.005721   \n",
       "8        3.458604      0.030433         0.227646        0.007280   \n",
       "22       4.513454      0.042873         0.290444        0.004412   \n",
       "26       4.396973      0.061188         0.285622        0.014422   \n",
       "9       13.159751      0.187185         0.760220        0.028367   \n",
       "14       5.814383      0.060911         0.306387        0.023081   \n",
       "1        2.625456      0.046850         0.164309        0.006291   \n",
       "39       6.026087      0.072828         0.337742        0.034434   \n",
       "30       9.724086      0.094507         0.567815        0.011705   \n",
       "28      15.188486      0.157219         0.874175        0.003410   \n",
       "33      20.567194      0.149178         1.504790        0.080789   \n",
       "21       7.821087      0.074292         0.516432        0.006561   \n",
       "20       9.403315      0.125154         0.658468        0.004503   \n",
       "23       0.751144      0.022509         0.048617        0.004103   \n",
       "24      16.324470      0.219673         0.965617        0.020767   \n",
       "10       3.759622      0.027151         0.254193        0.005362   \n",
       "3       10.035337      0.083924         0.710686        0.008458   \n",
       "25       3.420547      0.027773         0.198832        0.016413   \n",
       "35      19.523390      0.161198         1.248614        0.046541   \n",
       "45       4.329150      0.084347         0.246118        0.008289   \n",
       "18      21.288787      0.343785         1.284630        0.029895   \n",
       "11       6.073753      0.067669         0.353046        0.013218   \n",
       "7        7.995734      0.074008         0.463441        0.001912   \n",
       "37      11.562294      0.164421         1.004898        0.079074   \n",
       "0        3.542624      0.024956         0.217801        0.002870   \n",
       "29       9.822172      0.066802         0.578694        0.006610   \n",
       "4        1.865195      0.035701         0.112833        0.002890   \n",
       "34       8.366302      0.067396         0.495463        0.027031   \n",
       "42      12.040848      0.041246         0.795076        0.018009   \n",
       "41      10.673223      0.086394         0.729431        0.054584   \n",
       "19       3.125275      0.006976         0.226626        0.005420   \n",
       "31       4.755442      0.029606         0.348247        0.013315   \n",
       "32       1.524508      0.063404         0.112089        0.010615   \n",
       "38       8.792231      0.028463         1.175744        0.161894   \n",
       "2        4.508364      0.045211         0.338875        0.004000   \n",
       "36      10.899254      0.073872         0.970083        0.035583   \n",
       "16       8.436758      0.072983         0.657652        0.031946   \n",
       "17       4.072709      0.025490         0.311766        0.010348   \n",
       "\n",
       "   param_randomforestclassifier__n_estimators  \\\n",
       "46                                        927   \n",
       "6                                        1584   \n",
       "27                                        916   \n",
       "40                                       1694   \n",
       "49                                        553   \n",
       "13                                       1663   \n",
       "47                                       1042   \n",
       "43                                       1088   \n",
       "5                                         314   \n",
       "48                                        855   \n",
       "15                                        572   \n",
       "44                                        902   \n",
       "12                                        823   \n",
       "8                                         465   \n",
       "22                                        620   \n",
       "26                                        596   \n",
       "9                                        1300   \n",
       "14                                        473   \n",
       "1                                         245   \n",
       "39                                        412   \n",
       "30                                        931   \n",
       "28                                       1442   \n",
       "33                                       1618   \n",
       "21                                       1201   \n",
       "20                                       1461   \n",
       "23                                         68   \n",
       "24                                       1489   \n",
       "10                                        576   \n",
       "3                                        1540   \n",
       "25                                        319   \n",
       "35                                       1592   \n",
       "45                                        377   \n",
       "18                                       1933   \n",
       "11                                        562   \n",
       "7                                         718   \n",
       "37                                        768   \n",
       "0                                         304   \n",
       "29                                        883   \n",
       "4                                         175   \n",
       "34                                       1105   \n",
       "42                                       1990   \n",
       "41                                       1656   \n",
       "19                                        533   \n",
       "31                                        847   \n",
       "32                                        239   \n",
       "38                                       1317   \n",
       "2                                         910   \n",
       "36                                       1949   \n",
       "16                                       1735   \n",
       "17                                        819   \n",
       "\n",
       "   param_randomforestclassifier__max_depth  \\\n",
       "46                                       6   \n",
       "6                                        6   \n",
       "27                                       5   \n",
       "40                                       6   \n",
       "49                                       6   \n",
       "13                                       6   \n",
       "47                                       5   \n",
       "43                                       5   \n",
       "5                                        7   \n",
       "48                                       6   \n",
       "15                                       5   \n",
       "44                                       8   \n",
       "12                                       8   \n",
       "8                                        4   \n",
       "22                                       4   \n",
       "26                                       4   \n",
       "9                                        9   \n",
       "14                                       9   \n",
       "1                                        9   \n",
       "39                                      10   \n",
       "30                                      10   \n",
       "28                                      10   \n",
       "33                                      10   \n",
       "21                                       3   \n",
       "20                                       3   \n",
       "23                                      10   \n",
       "24                                      11   \n",
       "10                                       3   \n",
       "3                                        3   \n",
       "25                                      11   \n",
       "35                                      11   \n",
       "45                                      12   \n",
       "18                                      12   \n",
       "11                                      12   \n",
       "7                                       12   \n",
       "37                                      13   \n",
       "0                                       13   \n",
       "29                                      13   \n",
       "4                                       12   \n",
       "34                                       2   \n",
       "42                                       2   \n",
       "41                                       2   \n",
       "19                                       2   \n",
       "31                                       2   \n",
       "32                                       1   \n",
       "38                                       1   \n",
       "2                                        1   \n",
       "36                                       1   \n",
       "16                                       1   \n",
       "17                                       1   \n",
       "\n",
       "                                               params  split0_test_score  \\\n",
       "46  {'randomforestclassifier__n_estimators': 927, ...           0.869707   \n",
       "6   {'randomforestclassifier__n_estimators': 1584,...           0.868567   \n",
       "27  {'randomforestclassifier__n_estimators': 916, ...           0.871356   \n",
       "40  {'randomforestclassifier__n_estimators': 1694,...           0.869054   \n",
       "49  {'randomforestclassifier__n_estimators': 553, ...           0.868213   \n",
       "13  {'randomforestclassifier__n_estimators': 1663,...           0.868204   \n",
       "47  {'randomforestclassifier__n_estimators': 1042,...           0.869282   \n",
       "43  {'randomforestclassifier__n_estimators': 1088,...           0.869749   \n",
       "5   {'randomforestclassifier__n_estimators': 314, ...           0.867367   \n",
       "48  {'randomforestclassifier__n_estimators': 855, ...           0.868769   \n",
       "15  {'randomforestclassifier__n_estimators': 572, ...           0.869015   \n",
       "44  {'randomforestclassifier__n_estimators': 902, ...           0.864318   \n",
       "12  {'randomforestclassifier__n_estimators': 823, ...           0.862267   \n",
       "8   {'randomforestclassifier__n_estimators': 465, ...           0.870901   \n",
       "22  {'randomforestclassifier__n_estimators': 620, ...           0.867643   \n",
       "26  {'randomforestclassifier__n_estimators': 596, ...           0.869983   \n",
       "9   {'randomforestclassifier__n_estimators': 1300,...           0.862216   \n",
       "14  {'randomforestclassifier__n_estimators': 473, ...           0.861384   \n",
       "1   {'randomforestclassifier__n_estimators': 245, ...           0.861466   \n",
       "39  {'randomforestclassifier__n_estimators': 412, ...           0.856762   \n",
       "30  {'randomforestclassifier__n_estimators': 931, ...           0.858730   \n",
       "28  {'randomforestclassifier__n_estimators': 1442,...           0.857387   \n",
       "33  {'randomforestclassifier__n_estimators': 1618,...           0.855888   \n",
       "21  {'randomforestclassifier__n_estimators': 1201,...           0.867564   \n",
       "20  {'randomforestclassifier__n_estimators': 1461,...           0.866960   \n",
       "23  {'randomforestclassifier__n_estimators': 68, '...           0.855897   \n",
       "24  {'randomforestclassifier__n_estimators': 1489,...           0.855764   \n",
       "10  {'randomforestclassifier__n_estimators': 576, ...           0.868164   \n",
       "3   {'randomforestclassifier__n_estimators': 1540,...           0.866755   \n",
       "25  {'randomforestclassifier__n_estimators': 319, ...           0.855079   \n",
       "35  {'randomforestclassifier__n_estimators': 1592,...           0.852926   \n",
       "45  {'randomforestclassifier__n_estimators': 377, ...           0.855854   \n",
       "18  {'randomforestclassifier__n_estimators': 1933,...           0.851032   \n",
       "11  {'randomforestclassifier__n_estimators': 562, ...           0.849206   \n",
       "7   {'randomforestclassifier__n_estimators': 718, ...           0.851094   \n",
       "37  {'randomforestclassifier__n_estimators': 768, ...           0.852416   \n",
       "0   {'randomforestclassifier__n_estimators': 304, ...           0.846693   \n",
       "29  {'randomforestclassifier__n_estimators': 883, ...           0.847231   \n",
       "4   {'randomforestclassifier__n_estimators': 175, ...           0.840277   \n",
       "34  {'randomforestclassifier__n_estimators': 1105,...           0.858394   \n",
       "42  {'randomforestclassifier__n_estimators': 1990,...           0.859652   \n",
       "41  {'randomforestclassifier__n_estimators': 1656,...           0.858544   \n",
       "19  {'randomforestclassifier__n_estimators': 533, ...           0.859912   \n",
       "31  {'randomforestclassifier__n_estimators': 847, ...           0.856502   \n",
       "32  {'randomforestclassifier__n_estimators': 239, ...           0.844837   \n",
       "38  {'randomforestclassifier__n_estimators': 1317,...           0.839884   \n",
       "2   {'randomforestclassifier__n_estimators': 910, ...           0.839661   \n",
       "36  {'randomforestclassifier__n_estimators': 1949,...           0.841142   \n",
       "16  {'randomforestclassifier__n_estimators': 1735,...           0.839790   \n",
       "17  {'randomforestclassifier__n_estimators': 819, ...           0.841347   \n",
       "\n",
       "    split1_test_score  split2_test_score  split3_test_score  mean_test_score  \\\n",
       "46           0.883493           0.898190           0.850802         0.875548   \n",
       "6            0.883543           0.897830           0.851475         0.875354   \n",
       "27           0.881366           0.897693           0.850449         0.875216   \n",
       "40           0.883183           0.896913           0.851087         0.875059   \n",
       "49           0.883486           0.897627           0.850711         0.875009   \n",
       "13           0.882969           0.896836           0.851443         0.874863   \n",
       "47           0.881446           0.897948           0.850604         0.874820   \n",
       "43           0.881377           0.897401           0.850107         0.874658   \n",
       "5            0.882244           0.896523           0.852355         0.874622   \n",
       "48           0.882882           0.896074           0.849614         0.874335   \n",
       "15           0.882264           0.895673           0.849817         0.874192   \n",
       "44           0.881136           0.894893           0.851589         0.872984   \n",
       "12           0.881085           0.893671           0.852503         0.872382   \n",
       "8            0.874056           0.896720           0.847140         0.872204   \n",
       "22           0.874970           0.894458           0.847514         0.871146   \n",
       "26           0.873201           0.893942           0.847036         0.871041   \n",
       "9            0.878550           0.891516           0.850376         0.870665   \n",
       "14           0.877950           0.891603           0.850029         0.870242   \n",
       "1            0.876512           0.890864           0.846705         0.868887   \n",
       "39           0.875654           0.891300           0.849176         0.868223   \n",
       "30           0.874606           0.889553           0.849003         0.867973   \n",
       "28           0.875372           0.889097           0.849215         0.867768   \n",
       "33           0.875937           0.888970           0.848686         0.867370   \n",
       "21           0.860148           0.890691           0.842982         0.865346   \n",
       "20           0.861245           0.890525           0.842291         0.865255   \n",
       "23           0.873958           0.883514           0.847300         0.865167   \n",
       "24           0.872471           0.886667           0.844457         0.864840   \n",
       "10           0.859523           0.890449           0.840982         0.864780   \n",
       "3            0.860410           0.890164           0.841381         0.864678   \n",
       "25           0.871534           0.885062           0.846773         0.864612   \n",
       "35           0.871363           0.885944           0.845991         0.864056   \n",
       "45           0.869503           0.882029           0.844635         0.863005   \n",
       "18           0.868924           0.885413           0.845446         0.862704   \n",
       "11           0.869430           0.883840           0.845581         0.862014   \n",
       "7            0.867656           0.880981           0.845294         0.861256   \n",
       "37           0.865887           0.880652           0.843166         0.860530   \n",
       "0            0.862604           0.882586           0.845547         0.859357   \n",
       "29           0.865720           0.879175           0.841910         0.858509   \n",
       "4            0.868180           0.882216           0.842375         0.858262   \n",
       "34           0.847941           0.879305           0.834165         0.854951   \n",
       "42           0.846541           0.879701           0.833444         0.854835   \n",
       "41           0.841894           0.879758           0.835104         0.853825   \n",
       "19           0.843556           0.879400           0.830159         0.853257   \n",
       "31           0.842460           0.880048           0.833385         0.853099   \n",
       "32           0.829616           0.861181           0.824584         0.840055   \n",
       "38           0.832370           0.864405           0.819762         0.839105   \n",
       "2            0.829012           0.859585           0.826011         0.838567   \n",
       "36           0.829124           0.859247           0.821321         0.837709   \n",
       "16           0.831582           0.860923           0.818034         0.837582   \n",
       "17           0.832042           0.857857           0.817594         0.837210   \n",
       "\n",
       "    std_test_score  rank_test_score  \n",
       "46        0.017480                1  \n",
       "6         0.017237                2  \n",
       "27        0.017113                3  \n",
       "40        0.016988                4  \n",
       "49        0.017464                5  \n",
       "13        0.016892                6  \n",
       "47        0.017291                7  \n",
       "43        0.017243                8  \n",
       "5         0.016479                9  \n",
       "48        0.017232               10  \n",
       "15        0.016938               11  \n",
       "44        0.016427               12  \n",
       "12        0.016019               13  \n",
       "8         0.017566               14  \n",
       "22        0.016799               15  \n",
       "26        0.016632               16  \n",
       "9         0.015652               17  \n",
       "14        0.015833               18  \n",
       "1         0.016494               19  \n",
       "39        0.016446               20  \n",
       "30        0.015451               21  \n",
       "28        0.015530               22  \n",
       "33        0.015975               23  \n",
       "21        0.017135               24  \n",
       "20        0.017211               25  \n",
       "23        0.014309               26  \n",
       "24        0.016066               27  \n",
       "10        0.017779               28  \n",
       "3         0.017427               29  \n",
       "25        0.014792               30  \n",
       "35        0.015674               31  \n",
       "45        0.014078               32  \n",
       "18        0.015720               33  \n",
       "11        0.015536               34  \n",
       "7         0.014036               35  \n",
       "37        0.014150               36  \n",
       "0         0.015010               37  \n",
       "29        0.014848               38  \n",
       "4         0.017664               39  \n",
       "34        0.016479               40  \n",
       "42        0.017087               41  \n",
       "41        0.017231               42  \n",
       "19        0.018408               43  \n",
       "31        0.017604               44  \n",
       "32        0.014296               45  \n",
       "38        0.016280               46  \n",
       "2         0.013152               47  \n",
       "36        0.014300               48  \n",
       "16        0.015555               49  \n",
       "17        0.014619               50  "
      ]
     },
     "execution_count": 21,
     "metadata": {},
     "output_type": "execute_result"
    }
   ],
   "source": [
    "rf_res = pd.DataFrame(rf_rand_two.cv_results_)\n",
    "rf_res.sort_values('mean_test_score',axis=0, ascending=False)"
   ]
  },
  {
   "cell_type": "markdown",
   "metadata": {},
   "source": [
    "<h3>Random Forest second results</h3>\n",
    "\n",
    "More iterations in the random search yeilded an almost non-existent improvement. I will explore other classifiers before doing a thorough grid search within a more confined range, which will take a good amount of time. "
   ]
  },
  {
   "cell_type": "markdown",
   "metadata": {},
   "source": [
    "<h3>Random Forest Conclusions</h3>\n",
    "\n",
    "The Random Forest Classifier performs well out of the gate with an auc of 0.863 on the training set and 0.894 on the test set. The optimal max depth appears to be either 5 or 6 and the optimal number of estimators is likely between 750 - 1750"
   ]
  },
  {
   "cell_type": "markdown",
   "metadata": {},
   "source": [
    "<h2>Logistic Regression</h2>\n"
   ]
  },
  {
   "cell_type": "code",
   "execution_count": 22,
   "metadata": {},
   "outputs": [],
   "source": [
    "from sklearn.linear_model import LogisticRegression"
   ]
  },
  {
   "cell_type": "code",
   "execution_count": 23,
   "metadata": {},
   "outputs": [],
   "source": [
    "pipe_lr = make_pipeline( \n",
    "    StandardScaler(),\n",
    "    LogisticRegression(max_iter=1000)\n",
    ")\n",
    "\n",
    "params = {'logisticregression__C': np.logspace(-2,6)}\n",
    "\n",
    "#starting with few iterations, and narrowing the ranges afterwards\n",
    "lr = RandomizedSearchCV(pipe_lr,param_distributions=params,cv=5, n_jobs=-1, verbose =10, \n",
    "                                 scoring = 'roc_auc',n_iter=20,random_state = 42)\n"
   ]
  },
  {
   "cell_type": "code",
   "execution_count": 24,
   "metadata": {
    "scrolled": true
   },
   "outputs": [
    {
     "name": "stdout",
     "output_type": "stream",
     "text": [
      "Fitting 5 folds for each of 20 candidates, totalling 100 fits\n"
     ]
    },
    {
     "name": "stderr",
     "output_type": "stream",
     "text": [
      "[Parallel(n_jobs=-1)]: Using backend LokyBackend with 8 concurrent workers.\n",
      "[Parallel(n_jobs=-1)]: Done   2 tasks      | elapsed:    0.7s\n",
      "[Parallel(n_jobs=-1)]: Done   9 tasks      | elapsed:    3.8s\n",
      "[Parallel(n_jobs=-1)]: Done  16 tasks      | elapsed:    6.7s\n",
      "[Parallel(n_jobs=-1)]: Done  25 tasks      | elapsed:   10.4s\n",
      "[Parallel(n_jobs=-1)]: Done  34 tasks      | elapsed:   14.0s\n",
      "[Parallel(n_jobs=-1)]: Done  45 tasks      | elapsed:   16.7s\n",
      "[Parallel(n_jobs=-1)]: Done  56 tasks      | elapsed:   17.6s\n",
      "[Parallel(n_jobs=-1)]: Done  69 tasks      | elapsed:   18.9s\n",
      "[Parallel(n_jobs=-1)]: Done  82 tasks      | elapsed:   23.3s\n",
      "[Parallel(n_jobs=-1)]: Done  96 out of 100 | elapsed:   28.0s remaining:    1.2s\n",
      "[Parallel(n_jobs=-1)]: Done 100 out of 100 | elapsed:   28.7s finished\n"
     ]
    },
    {
     "data": {
      "text/plain": [
       "RandomizedSearchCV(cv=5,\n",
       "                   estimator=Pipeline(steps=[('standardscaler',\n",
       "                                              StandardScaler()),\n",
       "                                             ('logisticregression',\n",
       "                                              LogisticRegression(max_iter=1000))]),\n",
       "                   n_iter=20, n_jobs=-1,\n",
       "                   param_distributions={'logisticregression__C': array([1.00000000e-02, 1.45634848e-02, 2.12095089e-02, 3.08884360e-02,\n",
       "       4.49843267e-02, 6.55128557e-02, 9.54095476e-02, 1.38949549e-01,\n",
       "       2.02358965e-0...\n",
       "       3.72759372e+02, 5.42867544e+02, 7.90604321e+02, 1.15139540e+03,\n",
       "       1.67683294e+03, 2.44205309e+03, 3.55648031e+03, 5.17947468e+03,\n",
       "       7.54312006e+03, 1.09854114e+04, 1.59985872e+04, 2.32995181e+04,\n",
       "       3.39322177e+04, 4.94171336e+04, 7.19685673e+04, 1.04811313e+05,\n",
       "       1.52641797e+05, 2.22299648e+05, 3.23745754e+05, 4.71486636e+05,\n",
       "       6.86648845e+05, 1.00000000e+06])},\n",
       "                   random_state=42, scoring='roc_auc', verbose=10)"
      ]
     },
     "execution_count": 24,
     "metadata": {},
     "output_type": "execute_result"
    }
   ],
   "source": [
    "lr.fit(X,y)"
   ]
  },
  {
   "cell_type": "code",
   "execution_count": 25,
   "metadata": {},
   "outputs": [
    {
     "data": {
      "text/plain": [
       "{'logisticregression__C': 0.030888435964774818}"
      ]
     },
     "execution_count": 25,
     "metadata": {},
     "output_type": "execute_result"
    }
   ],
   "source": [
    "lr.best_params_"
   ]
  },
  {
   "cell_type": "code",
   "execution_count": 26,
   "metadata": {},
   "outputs": [
    {
     "data": {
      "text/plain": [
       "0.6718474443831586"
      ]
     },
     "execution_count": 26,
     "metadata": {},
     "output_type": "execute_result"
    }
   ],
   "source": [
    "lr.best_score_"
   ]
  },
  {
   "cell_type": "markdown",
   "metadata": {},
   "source": [
    "<h3>ROC auc - Logistic Regression</h3>\n"
   ]
  },
  {
   "cell_type": "code",
   "execution_count": 27,
   "metadata": {},
   "outputs": [
    {
     "data": {
      "image/png": "[encoded data removed]",
      "text/plain": [
       "<Figure size 432x288 with 1 Axes>"
      ]
     },
     "metadata": {},
     "output_type": "display_data"
    }
   ],
   "source": [
    "c = roc_plot(lr.best_estimator_,X_train,y_train)"
   ]
  },
  {
   "cell_type": "markdown",
   "metadata": {},
   "source": [
    "<h3>Evaluating with test set</h3>"
   ]
  },
  {
   "cell_type": "code",
   "execution_count": 28,
   "metadata": {},
   "outputs": [
    {
     "name": "stdout",
     "output_type": "stream",
     "text": [
      "Evaluating the classifier on the test set, area under the roc curve is: 0.841\n"
     ]
    }
   ],
   "source": [
    "test_comp(lr.best_estimator_)"
   ]
  },
  {
   "cell_type": "markdown",
   "metadata": {},
   "source": [
    "<h3>Logistic Regression Conclusions</h3>\n",
    "\n",
    "The logistic regression results were considerably worse on the training set than random forest. But surprisingly close for the test set. I prefer the random forest classifier, and I expect that on a different test set, I would see different results. "
   ]
  },
  {
   "cell_type": "markdown",
   "metadata": {},
   "source": [
    "<h2>KNN </h2>\n",
    "\n",
    "I don't expect KNN to give better results due to the high-dimensionality of the feature space. I expect PCA to be necessary, though I will try it without first. "
   ]
  },
  {
   "cell_type": "code",
   "execution_count": 29,
   "metadata": {
    "scrolled": true
   },
   "outputs": [
    {
     "name": "stdout",
     "output_type": "stream",
     "text": [
      "Fitting 5 folds for each of 199 candidates, totalling 995 fits\n"
     ]
    },
    {
     "name": "stderr",
     "output_type": "stream",
     "text": [
      "/Users/jon/opt/anaconda3/lib/python3.8/site-packages/sklearn/model_selection/_search.py:278: UserWarning: The total space of parameters 199 is smaller than n_iter=200. Running 199 iterations. For exhaustive searches, use GridSearchCV.\n",
      "  warnings.warn(\n",
      "[Parallel(n_jobs=-1)]: Using backend LokyBackend with 8 concurrent workers.\n",
      "[Parallel(n_jobs=-1)]: Done   2 tasks      | elapsed:    0.9s\n",
      "[Parallel(n_jobs=-1)]: Done   9 tasks      | elapsed:    1.7s\n",
      "[Parallel(n_jobs=-1)]: Done  16 tasks      | elapsed:    2.5s\n",
      "[Parallel(n_jobs=-1)]: Done  25 tasks      | elapsed:    3.8s\n",
      "[Parallel(n_jobs=-1)]: Done  34 tasks      | elapsed:    4.8s\n",
      "[Parallel(n_jobs=-1)]: Done  45 tasks      | elapsed:    6.1s\n",
      "[Parallel(n_jobs=-1)]: Done  56 tasks      | elapsed:    7.5s\n",
      "[Parallel(n_jobs=-1)]: Done  69 tasks      | elapsed:    9.3s\n",
      "[Parallel(n_jobs=-1)]: Done  82 tasks      | elapsed:   11.2s\n",
      "[Parallel(n_jobs=-1)]: Done  97 tasks      | elapsed:   13.7s\n",
      "[Parallel(n_jobs=-1)]: Done 112 tasks      | elapsed:   16.0s\n",
      "[Parallel(n_jobs=-1)]: Done 129 tasks      | elapsed:   18.9s\n",
      "[Parallel(n_jobs=-1)]: Done 146 tasks      | elapsed:   21.7s\n",
      "[Parallel(n_jobs=-1)]: Done 165 tasks      | elapsed:   24.9s\n",
      "[Parallel(n_jobs=-1)]: Done 184 tasks      | elapsed:   28.2s\n",
      "[Parallel(n_jobs=-1)]: Done 205 tasks      | elapsed:   31.8s\n",
      "[Parallel(n_jobs=-1)]: Done 226 tasks      | elapsed:   35.5s\n",
      "[Parallel(n_jobs=-1)]: Done 249 tasks      | elapsed:   39.8s\n",
      "[Parallel(n_jobs=-1)]: Done 272 tasks      | elapsed:   44.1s\n",
      "[Parallel(n_jobs=-1)]: Done 297 tasks      | elapsed:   49.2s\n",
      "[Parallel(n_jobs=-1)]: Done 322 tasks      | elapsed:   54.2s\n",
      "[Parallel(n_jobs=-1)]: Done 349 tasks      | elapsed:   59.6s\n",
      "[Parallel(n_jobs=-1)]: Done 376 tasks      | elapsed:  1.1min\n",
      "[Parallel(n_jobs=-1)]: Done 405 tasks      | elapsed:  1.2min\n",
      "[Parallel(n_jobs=-1)]: Done 434 tasks      | elapsed:  1.3min\n",
      "[Parallel(n_jobs=-1)]: Done 465 tasks      | elapsed:  1.5min\n",
      "[Parallel(n_jobs=-1)]: Done 496 tasks      | elapsed:  1.6min\n",
      "[Parallel(n_jobs=-1)]: Done 529 tasks      | elapsed:  1.8min\n",
      "[Parallel(n_jobs=-1)]: Done 562 tasks      | elapsed:  2.0min\n",
      "[Parallel(n_jobs=-1)]: Done 597 tasks      | elapsed:  2.1min\n",
      "[Parallel(n_jobs=-1)]: Done 632 tasks      | elapsed:  2.3min\n",
      "[Parallel(n_jobs=-1)]: Done 669 tasks      | elapsed:  2.4min\n",
      "[Parallel(n_jobs=-1)]: Done 706 tasks      | elapsed:  2.6min\n",
      "[Parallel(n_jobs=-1)]: Done 745 tasks      | elapsed:  2.8min\n",
      "[Parallel(n_jobs=-1)]: Done 784 tasks      | elapsed:  2.9min\n",
      "[Parallel(n_jobs=-1)]: Done 825 tasks      | elapsed:  3.1min\n",
      "[Parallel(n_jobs=-1)]: Done 866 tasks      | elapsed:  3.3min\n",
      "[Parallel(n_jobs=-1)]: Done 909 tasks      | elapsed:  3.5min\n",
      "[Parallel(n_jobs=-1)]: Done 952 tasks      | elapsed:  3.7min\n",
      "[Parallel(n_jobs=-1)]: Done 995 out of 995 | elapsed:  3.8min finished\n"
     ]
    },
    {
     "data": {
      "text/plain": [
       "RandomizedSearchCV(cv=5,\n",
       "                   estimator=Pipeline(steps=[('standardscaler',\n",
       "                                              StandardScaler()),\n",
       "                                             ('kneighborsclassifier',\n",
       "                                              KNeighborsClassifier(weights='distance'))]),\n",
       "                   n_iter=200, n_jobs=-1,\n",
       "                   param_distributions={'kneighborsclassifier__n_neighbors': array([  1,   2,   3,   4,   5,   6,   7,   8,   9,  10,  11,  12,  13,\n",
       "        14,  15,  16,  17,  18,  19,  20,  21,  22,  23,  24,  25,  26,\n",
       "        27,  28,  29,  30,  31,  32,  33,  34,  35,  36,  37,  38,  39,\n",
       "        40,...\n",
       "       118, 119, 120, 121, 122, 123, 124, 125, 126, 127, 128, 129, 130,\n",
       "       131, 132, 133, 134, 135, 136, 137, 138, 139, 140, 141, 142, 143,\n",
       "       144, 145, 146, 147, 148, 149, 150, 151, 152, 153, 154, 155, 156,\n",
       "       157, 158, 159, 160, 161, 162, 163, 164, 165, 166, 167, 168, 169,\n",
       "       170, 171, 172, 173, 174, 175, 176, 177, 178, 179, 180, 181, 182,\n",
       "       183, 184, 185, 186, 187, 188, 189, 190, 191, 192, 193, 194, 195,\n",
       "       196, 197, 198, 199])},\n",
       "                   random_state=42, scoring='roc_auc', verbose=10)"
      ]
     },
     "execution_count": 29,
     "metadata": {},
     "output_type": "execute_result"
    }
   ],
   "source": [
    "from sklearn.neighbors import KNeighborsClassifier\n",
    "\n",
    "pipe_knn = make_pipeline( \n",
    "    StandardScaler(),\n",
    "    KNeighborsClassifier(weights='distance')\n",
    ")\n",
    "\n",
    "params = {'kneighborsclassifier__n_neighbors': np.arange(1,200)}\n",
    "    \n",
    "\n",
    "#starting with few iterations, and narrowing the ranges afterwards\n",
    "knn = RandomizedSearchCV(pipe_knn,param_distributions=params,cv=5, n_jobs=-1, verbose =10, \n",
    "                                 scoring = 'roc_auc',n_iter=200,random_state = 42)\n",
    "\n",
    "knn.fit(X_train,y_train)"
   ]
  },
  {
   "cell_type": "code",
   "execution_count": 30,
   "metadata": {},
   "outputs": [
    {
     "data": {
      "text/plain": [
       "{'kneighborsclassifier__n_neighbors': 154}"
      ]
     },
     "execution_count": 30,
     "metadata": {},
     "output_type": "execute_result"
    }
   ],
   "source": [
    "knn.best_params_"
   ]
  },
  {
   "cell_type": "code",
   "execution_count": 31,
   "metadata": {},
   "outputs": [
    {
     "data": {
      "text/plain": [
       "0.8349048760854393"
      ]
     },
     "execution_count": 31,
     "metadata": {},
     "output_type": "execute_result"
    }
   ],
   "source": [
    "knn.best_score_"
   ]
  },
  {
   "cell_type": "code",
   "execution_count": 32,
   "metadata": {},
   "outputs": [
    {
     "data": {
      "image/png": "[encoded data removed]",
      "text/plain": [
       "<Figure size 432x288 with 1 Axes>"
      ]
     },
     "metadata": {},
     "output_type": "display_data"
    }
   ],
   "source": [
    "c = roc_plot(knn.best_estimator_,X_train,y_train)"
   ]
  },
  {
   "cell_type": "code",
   "execution_count": 33,
   "metadata": {},
   "outputs": [
    {
     "name": "stdout",
     "output_type": "stream",
     "text": [
      "Evaluating the classifier on the test set, area under the roc curve is: 0.798\n"
     ]
    }
   ],
   "source": [
    "test_comp(knn.best_estimator_)"
   ]
  },
  {
   "cell_type": "markdown",
   "metadata": {},
   "source": [
    "Knn performed better than expected, with a max aoc of 0.827 for train and similar for test. Let's see if PCA improves"
   ]
  },
  {
   "cell_type": "code",
   "execution_count": 34,
   "metadata": {
    "scrolled": true
   },
   "outputs": [
    {
     "name": "stdout",
     "output_type": "stream",
     "text": [
      "Fitting 5 folds for each of 200 candidates, totalling 1000 fits\n"
     ]
    },
    {
     "name": "stderr",
     "output_type": "stream",
     "text": [
      "[Parallel(n_jobs=-1)]: Using backend LokyBackend with 8 concurrent workers.\n",
      "[Parallel(n_jobs=-1)]: Done   2 tasks      | elapsed:    0.5s\n",
      "[Parallel(n_jobs=-1)]: Done   9 tasks      | elapsed:    1.2s\n",
      "[Parallel(n_jobs=-1)]: Done  16 tasks      | elapsed:    1.9s\n",
      "[Parallel(n_jobs=-1)]: Done  25 tasks      | elapsed:    3.3s\n",
      "[Parallel(n_jobs=-1)]: Done  34 tasks      | elapsed:    3.8s\n",
      "[Parallel(n_jobs=-1)]: Done  45 tasks      | elapsed:    5.0s\n",
      "[Parallel(n_jobs=-1)]: Done  56 tasks      | elapsed:    6.0s\n",
      "[Parallel(n_jobs=-1)]: Done  69 tasks      | elapsed:    7.3s\n",
      "[Parallel(n_jobs=-1)]: Done  82 tasks      | elapsed:    8.1s\n",
      "[Parallel(n_jobs=-1)]: Done  97 tasks      | elapsed:    9.5s\n",
      "[Parallel(n_jobs=-1)]: Done 112 tasks      | elapsed:   10.8s\n",
      "[Parallel(n_jobs=-1)]: Done 129 tasks      | elapsed:   12.3s\n",
      "[Parallel(n_jobs=-1)]: Done 146 tasks      | elapsed:   13.7s\n",
      "[Parallel(n_jobs=-1)]: Done 165 tasks      | elapsed:   15.7s\n",
      "[Parallel(n_jobs=-1)]: Done 184 tasks      | elapsed:   18.4s\n",
      "[Parallel(n_jobs=-1)]: Done 205 tasks      | elapsed:   20.4s\n",
      "[Parallel(n_jobs=-1)]: Done 226 tasks      | elapsed:   22.9s\n",
      "[Parallel(n_jobs=-1)]: Done 249 tasks      | elapsed:   25.4s\n",
      "[Parallel(n_jobs=-1)]: Done 272 tasks      | elapsed:   27.1s\n",
      "[Parallel(n_jobs=-1)]: Done 297 tasks      | elapsed:   29.7s\n",
      "[Parallel(n_jobs=-1)]: Done 322 tasks      | elapsed:   32.0s\n",
      "[Parallel(n_jobs=-1)]: Done 349 tasks      | elapsed:   34.2s\n",
      "[Parallel(n_jobs=-1)]: Done 376 tasks      | elapsed:   35.7s\n",
      "[Parallel(n_jobs=-1)]: Done 405 tasks      | elapsed:   37.7s\n",
      "[Parallel(n_jobs=-1)]: Done 434 tasks      | elapsed:   40.0s\n",
      "[Parallel(n_jobs=-1)]: Done 465 tasks      | elapsed:   42.6s\n",
      "[Parallel(n_jobs=-1)]: Done 496 tasks      | elapsed:   44.7s\n",
      "[Parallel(n_jobs=-1)]: Done 529 tasks      | elapsed:   47.1s\n",
      "[Parallel(n_jobs=-1)]: Done 562 tasks      | elapsed:   49.6s\n",
      "[Parallel(n_jobs=-1)]: Done 597 tasks      | elapsed:   51.4s\n",
      "[Parallel(n_jobs=-1)]: Done 632 tasks      | elapsed:   54.3s\n",
      "[Parallel(n_jobs=-1)]: Done 669 tasks      | elapsed:   57.2s\n",
      "[Parallel(n_jobs=-1)]: Done 706 tasks      | elapsed:   59.5s\n",
      "[Parallel(n_jobs=-1)]: Done 745 tasks      | elapsed:  1.1min\n",
      "[Parallel(n_jobs=-1)]: Done 784 tasks      | elapsed:  1.1min\n",
      "[Parallel(n_jobs=-1)]: Done 825 tasks      | elapsed:  1.2min\n",
      "[Parallel(n_jobs=-1)]: Done 866 tasks      | elapsed:  1.2min\n",
      "[Parallel(n_jobs=-1)]: Done 909 tasks      | elapsed:  1.3min\n",
      "[Parallel(n_jobs=-1)]: Done 952 tasks      | elapsed:  1.4min\n",
      "[Parallel(n_jobs=-1)]: Done 1000 out of 1000 | elapsed:  1.4min finished\n"
     ]
    },
    {
     "data": {
      "text/plain": [
       "RandomizedSearchCV(cv=5,\n",
       "                   estimator=Pipeline(steps=[('standardscaler',\n",
       "                                              StandardScaler()),\n",
       "                                             ('pca', PCA()),\n",
       "                                             ('kneighborsclassifier',\n",
       "                                              KNeighborsClassifier(weights='distance'))]),\n",
       "                   n_iter=200, n_jobs=-1,\n",
       "                   param_distributions={'kneighborsclassifier__n_neighbors': array([ 50,  51,  52,  53,  54,  55,  56,  57,  58,  59,  60,  61,  62,\n",
       "        63,  64,  65,  66,  67,  68,  69,  70,  71,  72,  73,  74,  75,\n",
       "        76,  77,  78,  79,  80,  81,  8...\n",
       "       193, 194, 195, 196, 197, 198, 199, 200, 201, 202, 203, 204, 205,\n",
       "       206, 207, 208, 209, 210, 211, 212, 213, 214, 215, 216, 217, 218,\n",
       "       219, 220, 221, 222, 223, 224, 225, 226, 227, 228, 229, 230, 231,\n",
       "       232, 233, 234, 235, 236, 237, 238, 239, 240, 241, 242, 243, 244,\n",
       "       245, 246, 247, 248, 249]),\n",
       "                                        'pca__n_components': array([ 2,  3,  4,  5,  6,  7,  8,  9, 10, 11, 12, 13, 14, 15, 16, 17, 18,\n",
       "       19, 20, 21, 22, 23, 24, 25, 26, 27, 28, 29])},\n",
       "                   random_state=42, scoring='roc_auc', verbose=10)"
      ]
     },
     "execution_count": 34,
     "metadata": {},
     "output_type": "execute_result"
    }
   ],
   "source": [
    "from sklearn.decomposition import PCA\n",
    "\n",
    "pipe_knn = make_pipeline( \n",
    "    StandardScaler(),\n",
    "    PCA(),\n",
    "    KNeighborsClassifier(weights='distance')\n",
    ")\n",
    "\n",
    "params = {'pca__n_components' : np.arange(2,X.shape[1]),\n",
    "          'kneighborsclassifier__n_neighbors': np.arange(50,250)}\n",
    "    \n",
    "\n",
    "#starting with few iterations, and narrowing the ranges afterwards\n",
    "knn = RandomizedSearchCV(pipe_knn,param_distributions=params,cv=5, n_jobs=-1, verbose =10, \n",
    "                                 scoring = 'roc_auc',n_iter=200,random_state = 42)\n",
    "\n",
    "knn.fit(X_train,y_train)"
   ]
  },
  {
   "cell_type": "code",
   "execution_count": 35,
   "metadata": {},
   "outputs": [
    {
     "data": {
      "text/plain": [
       "{'pca__n_components': 12, 'kneighborsclassifier__n_neighbors': 60}"
      ]
     },
     "execution_count": 35,
     "metadata": {},
     "output_type": "execute_result"
    }
   ],
   "source": [
    "knn.best_params_"
   ]
  },
  {
   "cell_type": "code",
   "execution_count": 36,
   "metadata": {},
   "outputs": [
    {
     "data": {
      "text/plain": [
       "0.8460860786211715"
      ]
     },
     "execution_count": 36,
     "metadata": {},
     "output_type": "execute_result"
    }
   ],
   "source": [
    "knn.best_score_"
   ]
  },
  {
   "cell_type": "code",
   "execution_count": 37,
   "metadata": {},
   "outputs": [
    {
     "data": {
      "image/png": "[encoded data removed]",
      "text/plain": [
       "<Figure size 432x288 with 1 Axes>"
      ]
     },
     "metadata": {},
     "output_type": "display_data"
    }
   ],
   "source": [
    "c = roc_plot(knn.best_estimator_,X_train,y_train)"
   ]
  },
  {
   "cell_type": "markdown",
   "metadata": {},
   "source": [
    "<h3>Evaluating with test set</h3>"
   ]
  },
  {
   "cell_type": "code",
   "execution_count": 38,
   "metadata": {},
   "outputs": [
    {
     "name": "stdout",
     "output_type": "stream",
     "text": [
      "Evaluating the classifier on the test set, area under the roc curve is: 0.828\n"
     ]
    }
   ],
   "source": [
    "test_comp(knn.best_estimator_)"
   ]
  },
  {
   "cell_type": "markdown",
   "metadata": {},
   "source": [
    "<h3>KNN Conclusions</h3>\n",
    "\n",
    "PCA did not improve things by much, if at all. It's certainly not worth it to lose feature importances. "
   ]
  },
  {
   "cell_type": "markdown",
   "metadata": {},
   "source": [
    "<h2>SVC</h2>\n",
    "\n",
    "SVC is supposedly good in high dimension data, and the set I have is relatively high dimension. "
   ]
  },
  {
   "cell_type": "code",
   "execution_count": 39,
   "metadata": {
    "scrolled": true
   },
   "outputs": [
    {
     "name": "stdout",
     "output_type": "stream",
     "text": [
      "Fitting 5 folds for each of 10 candidates, totalling 50 fits\n"
     ]
    },
    {
     "name": "stderr",
     "output_type": "stream",
     "text": [
      "[Parallel(n_jobs=-1)]: Using backend LokyBackend with 8 concurrent workers.\n",
      "[Parallel(n_jobs=-1)]: Done   2 tasks      | elapsed:    4.9s\n",
      "[Parallel(n_jobs=-1)]: Done   9 tasks      | elapsed:   24.5s\n",
      "[Parallel(n_jobs=-1)]: Done  16 tasks      | elapsed:   31.1s\n",
      "[Parallel(n_jobs=-1)]: Done  25 tasks      | elapsed:  2.4min\n",
      "[Parallel(n_jobs=-1)]: Done  34 tasks      | elapsed:  2.8min\n",
      "[Parallel(n_jobs=-1)]: Done  41 out of  50 | elapsed:  3.1min remaining:   41.0s\n",
      "[Parallel(n_jobs=-1)]: Done  47 out of  50 | elapsed:  4.9min remaining:   18.9s\n",
      "[Parallel(n_jobs=-1)]: Done  50 out of  50 | elapsed:  5.6min finished\n"
     ]
    },
    {
     "data": {
      "text/plain": [
       "RandomizedSearchCV(cv=5,\n",
       "                   estimator=Pipeline(steps=[('standardscaler',\n",
       "                                              StandardScaler()),\n",
       "                                             ('svc', SVC(probability=True))]),\n",
       "                   n_jobs=-1,\n",
       "                   param_distributions={'svc__C': array([1.00000000e-05, 1.59985872e-05, 2.55954792e-05, 4.09491506e-05,\n",
       "       6.55128557e-05, 1.04811313e-04, 1.67683294e-04, 2.68269580e-04,\n",
       "       4.29193426e-04, 6.86648845e-04, 1.09854114e-03, 1.75751062e-03,\n",
       "       2.811...\n",
       "       5.17947468e+00, 8.28642773e+00, 1.32571137e+01, 2.12095089e+01,\n",
       "       3.39322177e+01, 5.42867544e+01, 8.68511374e+01, 1.38949549e+02,\n",
       "       2.22299648e+02, 3.55648031e+02, 5.68986603e+02, 9.10298178e+02,\n",
       "       1.45634848e+03, 2.32995181e+03, 3.72759372e+03, 5.96362332e+03,\n",
       "       9.54095476e+03, 1.52641797e+04, 2.44205309e+04, 3.90693994e+04,\n",
       "       6.25055193e+04, 1.00000000e+05])},\n",
       "                   random_state=42, scoring='roc_auc', verbose=10)"
      ]
     },
     "execution_count": 39,
     "metadata": {},
     "output_type": "execute_result"
    }
   ],
   "source": [
    "from sklearn.svm import SVC\n",
    "\n",
    "pipe_svc = make_pipeline( \n",
    "    StandardScaler(),\n",
    "    SVC(probability=True)\n",
    ")\n",
    "\n",
    "params = {'svc__C': np.logspace(-5,5)}\n",
    "    \n",
    "\n",
    "#starting with few iterations, and narrowing the ranges afterwards\n",
    "svc = RandomizedSearchCV(pipe_svc,param_distributions=params,cv=5, n_jobs=-1, verbose =10, \n",
    "                                 scoring = 'roc_auc',n_iter=10,random_state = 42)\n",
    "\n",
    "svc.fit(X_train,y_train)"
   ]
  },
  {
   "cell_type": "code",
   "execution_count": 40,
   "metadata": {},
   "outputs": [
    {
     "data": {
      "text/plain": [
       "{'svc__C': 62505.51925273976}"
      ]
     },
     "execution_count": 40,
     "metadata": {},
     "output_type": "execute_result"
    }
   ],
   "source": [
    "svc.best_params_"
   ]
  },
  {
   "cell_type": "code",
   "execution_count": 41,
   "metadata": {},
   "outputs": [
    {
     "data": {
      "text/plain": [
       "0.8060485701413194"
      ]
     },
     "execution_count": 41,
     "metadata": {},
     "output_type": "execute_result"
    }
   ],
   "source": [
    "svc.best_score_"
   ]
  },
  {
   "cell_type": "code",
   "execution_count": 42,
   "metadata": {},
   "outputs": [
    {
     "data": {
      "image/png": "[encoded data removed]",
      "text/plain": [
       "<Figure size 432x288 with 1 Axes>"
      ]
     },
     "metadata": {},
     "output_type": "display_data"
    }
   ],
   "source": [
    "c = roc_plot(svc.best_estimator_,X_train,y_train)"
   ]
  },
  {
   "cell_type": "markdown",
   "metadata": {},
   "source": [
    "<h3>Evaluating with test set</h3>"
   ]
  },
  {
   "cell_type": "code",
   "execution_count": 43,
   "metadata": {},
   "outputs": [
    {
     "name": "stdout",
     "output_type": "stream",
     "text": [
      "Evaluating the classifier on the test set, area under the roc curve is: 0.786\n"
     ]
    }
   ],
   "source": [
    "test_comp(svc.best_estimator_)"
   ]
  },
  {
   "cell_type": "markdown",
   "metadata": {},
   "source": [
    "<h3>SVC Conclusions</h3>\n",
    "\n",
    "SVC clearly performs worse"
   ]
  },
  {
   "cell_type": "markdown",
   "metadata": {},
   "source": [
    "<h1>Choosing a classifier</h1>\n",
    "\n",
    "Two models stand out as options to ultimately choose -- Random Forest and KNN. The random forest model has a feature importance attribute, which is a great piece of data, so I will choose it. "
   ]
  },
  {
   "cell_type": "code",
   "execution_count": 46,
   "metadata": {
    "scrolled": true
   },
   "outputs": [
    {
     "name": "stdout",
     "output_type": "stream",
     "text": [
      "Fitting 5 folds for each of 150 candidates, totalling 750 fits\n"
     ]
    },
    {
     "name": "stderr",
     "output_type": "stream",
     "text": [
      "[Parallel(n_jobs=-1)]: Using backend LokyBackend with 8 concurrent workers.\n",
      "[Parallel(n_jobs=-1)]: Done   2 tasks      | elapsed:   10.2s\n",
      "[Parallel(n_jobs=-1)]: Done   9 tasks      | elapsed:   17.2s\n",
      "[Parallel(n_jobs=-1)]: Done  16 tasks      | elapsed:   18.6s\n",
      "[Parallel(n_jobs=-1)]: Done  25 tasks      | elapsed:   32.6s\n",
      "[Parallel(n_jobs=-1)]: Done  34 tasks      | elapsed:   41.9s\n",
      "[Parallel(n_jobs=-1)]: Done  45 tasks      | elapsed:   52.8s\n",
      "[Parallel(n_jobs=-1)]: Done  56 tasks      | elapsed:  1.1min\n",
      "[Parallel(n_jobs=-1)]: Done  69 tasks      | elapsed:  1.4min\n",
      "[Parallel(n_jobs=-1)]: Done  82 tasks      | elapsed:  1.8min\n",
      "[Parallel(n_jobs=-1)]: Done  97 tasks      | elapsed:  2.2min\n",
      "[Parallel(n_jobs=-1)]: Done 112 tasks      | elapsed:  2.6min\n",
      "[Parallel(n_jobs=-1)]: Done 129 tasks      | elapsed:  3.1min\n",
      "[Parallel(n_jobs=-1)]: Done 146 tasks      | elapsed:  3.4min\n",
      "[Parallel(n_jobs=-1)]: Done 165 tasks      | elapsed:  3.8min\n",
      "[Parallel(n_jobs=-1)]: Done 184 tasks      | elapsed:  4.4min\n",
      "[Parallel(n_jobs=-1)]: Done 205 tasks      | elapsed:  5.0min\n",
      "[Parallel(n_jobs=-1)]: Done 226 tasks      | elapsed:  5.7min\n",
      "[Parallel(n_jobs=-1)]: Done 249 tasks      | elapsed:  6.5min\n",
      "[Parallel(n_jobs=-1)]: Done 272 tasks      | elapsed:  6.9min\n",
      "[Parallel(n_jobs=-1)]: Done 297 tasks      | elapsed:  7.5min\n",
      "[Parallel(n_jobs=-1)]: Done 322 tasks      | elapsed:  8.3min\n",
      "[Parallel(n_jobs=-1)]: Done 349 tasks      | elapsed:  9.1min\n",
      "[Parallel(n_jobs=-1)]: Done 376 tasks      | elapsed: 10.2min\n",
      "[Parallel(n_jobs=-1)]: Done 405 tasks      | elapsed: 10.9min\n",
      "[Parallel(n_jobs=-1)]: Done 434 tasks      | elapsed: 11.7min\n",
      "[Parallel(n_jobs=-1)]: Done 465 tasks      | elapsed: 12.9min\n",
      "[Parallel(n_jobs=-1)]: Done 496 tasks      | elapsed: 14.5min\n",
      "[Parallel(n_jobs=-1)]: Done 529 tasks      | elapsed: 15.3min\n",
      "[Parallel(n_jobs=-1)]: Done 562 tasks      | elapsed: 17.0min\n",
      "[Parallel(n_jobs=-1)]: Done 597 tasks      | elapsed: 18.9min\n",
      "[Parallel(n_jobs=-1)]: Done 632 tasks      | elapsed: 20.8min\n",
      "[Parallel(n_jobs=-1)]: Done 669 tasks      | elapsed: 21.7min\n",
      "[Parallel(n_jobs=-1)]: Done 706 tasks      | elapsed: 23.0min\n",
      "[Parallel(n_jobs=-1)]: Done 750 out of 750 | elapsed: 24.5min finished\n"
     ]
    },
    {
     "data": {
      "text/plain": [
       "GridSearchCV(cv=5,\n",
       "             estimator=Pipeline(steps=[('standardscaler', StandardScaler()),\n",
       "                                       ('randomforestclassifier',\n",
       "                                        RandomForestClassifier())]),\n",
       "             n_jobs=-1,\n",
       "             param_grid={'randomforestclassifier__max_depth': array([4, 5, 6, 7, 8, 9]),\n",
       "                         'randomforestclassifier__n_estimators': array([ 750,  800,  850,  900,  950, 1000, 1050, 1100, 1150, 1200, 1250,\n",
       "       1300, 1350, 1400, 1450, 1500, 1550, 1600, 1650, 1700, 1750, 1800,\n",
       "       1850, 1900, 1950])},\n",
       "             scoring='roc_auc', verbose=10)"
      ]
     },
     "execution_count": 46,
     "metadata": {},
     "output_type": "execute_result"
    }
   ],
   "source": [
    "from sklearn.model_selection import GridSearchCV\n",
    "\n",
    "pipe_rf = make_pipeline( \n",
    "    StandardScaler(), \n",
    "    RandomForestClassifier()\n",
    ")\n",
    "\n",
    "params = {'randomforestclassifier__n_estimators': np.arange(750,2000,50),\n",
    "          'randomforestclassifier__max_depth' :  np.arange(4,10)}\n",
    "\n",
    "rf = GridSearchCV(pipe,param_grid=params,cv=5, n_jobs=-1, scoring = 'roc_auc',verbose=10)\n",
    "\n",
    "rf.fit(X_train,y_train)"
   ]
  },
  {
   "cell_type": "code",
   "execution_count": 47,
   "metadata": {
    "scrolled": false
   },
   "outputs": [
    {
     "data": {
      "text/plain": [
       "{'randomforestclassifier__max_depth': 5,\n",
       " 'randomforestclassifier__n_estimators': 800}"
      ]
     },
     "execution_count": 47,
     "metadata": {},
     "output_type": "execute_result"
    }
   ],
   "source": [
    "rf.best_params_"
   ]
  },
  {
   "cell_type": "markdown",
   "metadata": {},
   "source": [
    "***Evaluating Performance***"
   ]
  },
  {
   "cell_type": "code",
   "execution_count": 48,
   "metadata": {},
   "outputs": [
    {
     "data": {
      "image/png": "[encoded data removed]",
      "text/plain": [
       "<Figure size 432x288 with 1 Axes>"
      ]
     },
     "metadata": {},
     "output_type": "display_data"
    }
   ],
   "source": [
    "c = roc_plot(rf.best_estimator_,X_train,y_train)"
   ]
  },
  {
   "cell_type": "code",
   "execution_count": 49,
   "metadata": {},
   "outputs": [
    {
     "name": "stdout",
     "output_type": "stream",
     "text": [
      "Evaluating the classifier on the test set, area under the roc curve is: 0.841\n"
     ]
    }
   ],
   "source": [
    "test_comp(rf.best_estimator_)"
   ]
  },
  {
   "cell_type": "markdown",
   "metadata": {},
   "source": [
    "***Looking at feature importance***"
   ]
  },
  {
   "cell_type": "code",
   "execution_count": 51,
   "metadata": {},
   "outputs": [],
   "source": [
    "r = rf.best_estimator_\n",
    "imp = r.steps[1][1].feature_importances_"
   ]
  },
  {
   "cell_type": "code",
   "execution_count": 52,
   "metadata": {},
   "outputs": [
    {
     "data": {
      "text/plain": [
       "<AxesSubplot:xlabel='importance', ylabel='feature'>"
      ]
     },
     "execution_count": 52,
     "metadata": {},
     "output_type": "execute_result"
    },
    {
     "data": {
      "image/png": "[encoded data removed]",
      "text/plain": [
       "<Figure size 1080x1440 with 1 Axes>"
      ]
     },
     "metadata": {},
     "output_type": "display_data"
    }
   ],
   "source": [
    "ax = plt.figure(figsize=(15,20))\n",
    "\n",
    "i = pd.DataFrame({'feature':X_test.columns,'importance':imp}).sort_values('importance',ascending=False)\n",
    "\n",
    "sns.barplot(data=i,y='feature',x='importance',orient='h',color='gray')"
   ]
  },
  {
   "cell_type": "markdown",
   "metadata": {},
   "source": [
    "<h1>Conclusions</h1>\n"
   ]
  },
  {
   "cell_type": "code",
   "execution_count": null,
   "metadata": {},
   "outputs": [],
   "source": []
  }
 ],
 "metadata": {
  "kernelspec": {
   "display_name": "Python 3",
   "language": "python",
   "name": "python3"
  },
  "language_info": {
   "codemirror_mode": {
    "name": "ipython",
    "version": 3
   },
   "file_extension": ".py",
   "mimetype": "text/x-python",
   "name": "python",
   "nbconvert_exporter": "python",
   "pygments_lexer": "ipython3",
   "version": "3.8.3"
  }
 },
 "nbformat": 4,
 "nbformat_minor": 4
}
