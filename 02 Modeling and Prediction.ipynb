{
 "cells": [
  {
   "cell_type": "markdown",
   "metadata": {},
   "source": [
    "<h1>Modeling and Prediction</h1>\n",
    "On the West Nile Virus data set"
   ]
  },
  {
   "cell_type": "code",
   "execution_count": 1,
   "metadata": {},
   "outputs": [],
   "source": [
    "import pandas as pd\n",
    "import numpy as np\n",
    "from scipy import stats\n",
    "import seaborn as sns\n",
    "import matplotlib.pyplot as plt\n",
    "from sklearn.model_selection import train_test_split, cross_val_score, GridSearchCV\n",
    "from sklearn.pipeline import Pipeline\n",
    "from sklearn.metrics import classification_report\n",
    "from sklearn.linear_model import LogisticRegression\n",
    "import pandas.core.algorithms as algos\n",
    "from pandas import Series\n",
    "import scipy.stats.stats as stats\n",
    "\n",
    "sns.set_style('whitegrid')"
   ]
  },
  {
   "cell_type": "code",
   "execution_count": 2,
   "metadata": {},
   "outputs": [],
   "source": [
    "#loading cleaned data\n",
    "X = pd.read_pickle('./data/X2.pkl')\n",
    "y = pd.read_pickle('./data/y.pkl')\n",
    "\n"
   ]
  },
  {
   "cell_type": "code",
   "execution_count": 3,
   "metadata": {},
   "outputs": [],
   "source": [
    "# mistakenly, thought that the train_test_split was done for me. It was not, the test set is for the kaggle competition\n",
    "X_train, X_test, y_train, y_test = train_test_split(X,y,test_size=0.2,random_state=123)"
   ]
  },
  {
   "cell_type": "markdown",
   "metadata": {},
   "source": [
    "<h2>Random Forest Classifier</h2>\n",
    "Random Forest Classifier is a great ensemble method which I will look into first with a Random Search CV. The driving metric for analysis is roc_auc. This data set is heavily class biased -- there are few west nile virus sightings compared to the observations as a whole. The area under the roc curve is relatively good at handling this sort of imbalance."
   ]
  },
  {
   "cell_type": "markdown",
   "metadata": {},
   "source": [
    "***Building Pipeline***"
   ]
  },
  {
   "cell_type": "code",
   "execution_count": 4,
   "metadata": {},
   "outputs": [],
   "source": [
    "from sklearn.pipeline import make_pipeline\n",
    "from sklearn.ensemble import RandomForestClassifier\n",
    "from sklearn.model_selection import RandomizedSearchCV\n",
    "from sklearn.preprocessing import StandardScaler\n",
    "from sklearn.metrics import recall_score\n",
    "from scipy.stats import truncnorm, uniform\n"
   ]
  },
  {
   "cell_type": "code",
   "execution_count": 5,
   "metadata": {},
   "outputs": [],
   "source": [
    "pipe = make_pipeline( \n",
    "    StandardScaler(), \n",
    "    RandomForestClassifier()\n",
    ")"
   ]
  },
  {
   "cell_type": "code",
   "execution_count": 6,
   "metadata": {},
   "outputs": [
    {
     "data": {
      "text/plain": [
       "dict_keys(['memory', 'steps', 'verbose', 'standardscaler', 'randomforestclassifier', 'standardscaler__copy', 'standardscaler__with_mean', 'standardscaler__with_std', 'randomforestclassifier__bootstrap', 'randomforestclassifier__ccp_alpha', 'randomforestclassifier__class_weight', 'randomforestclassifier__criterion', 'randomforestclassifier__max_depth', 'randomforestclassifier__max_features', 'randomforestclassifier__max_leaf_nodes', 'randomforestclassifier__max_samples', 'randomforestclassifier__min_impurity_decrease', 'randomforestclassifier__min_impurity_split', 'randomforestclassifier__min_samples_leaf', 'randomforestclassifier__min_samples_split', 'randomforestclassifier__min_weight_fraction_leaf', 'randomforestclassifier__n_estimators', 'randomforestclassifier__n_jobs', 'randomforestclassifier__oob_score', 'randomforestclassifier__random_state', 'randomforestclassifier__verbose', 'randomforestclassifier__warm_start'])"
      ]
     },
     "execution_count": 6,
     "metadata": {},
     "output_type": "execute_result"
    }
   ],
   "source": [
    "pipe.get_params().keys()\n"
   ]
  },
  {
   "cell_type": "code",
   "execution_count": 7,
   "metadata": {},
   "outputs": [],
   "source": [
    "params = {'randomforestclassifier__n_estimators': np.arange(50,2000),\n",
    "         'randomforestclassifier__max_depth' :  np.arange(2,20)}\n",
    "\n",
    "rf_rand = RandomizedSearchCV(pipe,param_distributions=params,cv=5, n_jobs=-1, scoring = 'roc_auc',n_iter=10,\n",
    "                            random_state = 42, verbose= 10)"
   ]
  },
  {
   "cell_type": "code",
   "execution_count": 8,
   "metadata": {},
   "outputs": [
    {
     "name": "stdout",
     "output_type": "stream",
     "text": [
      "Fitting 5 folds for each of 10 candidates, totalling 50 fits\n"
     ]
    },
    {
     "name": "stderr",
     "output_type": "stream",
     "text": [
      "[Parallel(n_jobs=-1)]: Using backend LokyBackend with 8 concurrent workers.\n",
      "[Parallel(n_jobs=-1)]: Done   2 tasks      | elapsed:    5.0s\n",
      "[Parallel(n_jobs=-1)]: Done   9 tasks      | elapsed:   11.8s\n",
      "[Parallel(n_jobs=-1)]: Done  16 tasks      | elapsed:   18.9s\n",
      "[Parallel(n_jobs=-1)]: Done  25 tasks      | elapsed:   28.0s\n",
      "[Parallel(n_jobs=-1)]: Done  34 tasks      | elapsed:   32.1s\n",
      "[Parallel(n_jobs=-1)]: Done  41 out of  50 | elapsed:   40.0s remaining:    8.8s\n",
      "[Parallel(n_jobs=-1)]: Done  47 out of  50 | elapsed:   41.4s remaining:    2.6s\n",
      "[Parallel(n_jobs=-1)]: Done  50 out of  50 | elapsed:   42.0s finished\n"
     ]
    },
    {
     "data": {
      "text/plain": [
       "RandomizedSearchCV(cv=5,\n",
       "                   estimator=Pipeline(steps=[('standardscaler',\n",
       "                                              StandardScaler()),\n",
       "                                             ('randomforestclassifier',\n",
       "                                              RandomForestClassifier())]),\n",
       "                   n_jobs=-1,\n",
       "                   param_distributions={'randomforestclassifier__max_depth': array([ 2,  3,  4,  5,  6,  7,  8,  9, 10, 11, 12, 13, 14, 15, 16, 17, 18,\n",
       "       19]),\n",
       "                                        'randomforestclassifier__n_estimators': array([  50,   51,   52, ..., 1997, 1998, 1999])},\n",
       "                   random_state=42, scoring='roc_auc', verbose=10)"
      ]
     },
     "execution_count": 8,
     "metadata": {},
     "output_type": "execute_result"
    }
   ],
   "source": [
    "rf_rand.fit(X_train,y_train)"
   ]
  },
  {
   "cell_type": "markdown",
   "metadata": {},
   "source": [
    "***Looking at results from the random search***"
   ]
  },
  {
   "cell_type": "code",
   "execution_count": 9,
   "metadata": {},
   "outputs": [
    {
     "data": {
      "text/plain": [
       "{'randomforestclassifier__n_estimators': 1300,\n",
       " 'randomforestclassifier__max_depth': 10}"
      ]
     },
     "execution_count": 9,
     "metadata": {},
     "output_type": "execute_result"
    }
   ],
   "source": [
    "rf_rand.best_params_"
   ]
  },
  {
   "cell_type": "code",
   "execution_count": 10,
   "metadata": {},
   "outputs": [],
   "source": [
    "rf_res = pd.DataFrame(rf_rand.cv_results_)\n"
   ]
  },
  {
   "cell_type": "code",
   "execution_count": 11,
   "metadata": {},
   "outputs": [
    {
     "data": {
      "text/html": [
       "<div>\n",
       "<style scoped>\n",
       "    .dataframe tbody tr th:only-of-type {\n",
       "        vertical-align: middle;\n",
       "    }\n",
       "\n",
       "    .dataframe tbody tr th {\n",
       "        vertical-align: top;\n",
       "    }\n",
       "\n",
       "    .dataframe thead th {\n",
       "        text-align: right;\n",
       "    }\n",
       "</style>\n",
       "<table border=\"1\" class=\"dataframe\">\n",
       "  <thead>\n",
       "    <tr style=\"text-align: right;\">\n",
       "      <th></th>\n",
       "      <th>mean_fit_time</th>\n",
       "      <th>std_fit_time</th>\n",
       "      <th>mean_score_time</th>\n",
       "      <th>std_score_time</th>\n",
       "      <th>param_randomforestclassifier__n_estimators</th>\n",
       "      <th>param_randomforestclassifier__max_depth</th>\n",
       "      <th>params</th>\n",
       "      <th>split0_test_score</th>\n",
       "      <th>split1_test_score</th>\n",
       "      <th>split2_test_score</th>\n",
       "      <th>split3_test_score</th>\n",
       "      <th>split4_test_score</th>\n",
       "      <th>mean_test_score</th>\n",
       "      <th>std_test_score</th>\n",
       "      <th>rank_test_score</th>\n",
       "    </tr>\n",
       "  </thead>\n",
       "  <tbody>\n",
       "    <tr>\n",
       "      <th>4</th>\n",
       "      <td>9.898842</td>\n",
       "      <td>0.068317</td>\n",
       "      <td>0.707286</td>\n",
       "      <td>0.101503</td>\n",
       "      <td>1300</td>\n",
       "      <td>10</td>\n",
       "      <td>{'randomforestclassifier__n_estimators': 1300,...</td>\n",
       "      <td>0.812258</td>\n",
       "      <td>0.819232</td>\n",
       "      <td>0.829471</td>\n",
       "      <td>0.829112</td>\n",
       "      <td>0.773815</td>\n",
       "      <td>0.812778</td>\n",
       "      <td>0.020521</td>\n",
       "      <td>1</td>\n",
       "    </tr>\n",
       "    <tr>\n",
       "      <th>0</th>\n",
       "      <td>2.511614</td>\n",
       "      <td>0.032196</td>\n",
       "      <td>0.197249</td>\n",
       "      <td>0.006649</td>\n",
       "      <td>245</td>\n",
       "      <td>10</td>\n",
       "      <td>{'randomforestclassifier__n_estimators': 245, ...</td>\n",
       "      <td>0.811757</td>\n",
       "      <td>0.816220</td>\n",
       "      <td>0.828316</td>\n",
       "      <td>0.830070</td>\n",
       "      <td>0.773379</td>\n",
       "      <td>0.811948</td>\n",
       "      <td>0.020505</td>\n",
       "      <td>2</td>\n",
       "    </tr>\n",
       "    <tr>\n",
       "      <th>6</th>\n",
       "      <td>3.335936</td>\n",
       "      <td>0.175659</td>\n",
       "      <td>0.246179</td>\n",
       "      <td>0.050726</td>\n",
       "      <td>473</td>\n",
       "      <td>10</td>\n",
       "      <td>{'randomforestclassifier__n_estimators': 473, ...</td>\n",
       "      <td>0.810136</td>\n",
       "      <td>0.817231</td>\n",
       "      <td>0.826911</td>\n",
       "      <td>0.831460</td>\n",
       "      <td>0.772957</td>\n",
       "      <td>0.811739</td>\n",
       "      <td>0.020765</td>\n",
       "      <td>3</td>\n",
       "    </tr>\n",
       "    <tr>\n",
       "      <th>5</th>\n",
       "      <td>4.286522</td>\n",
       "      <td>0.155373</td>\n",
       "      <td>0.347968</td>\n",
       "      <td>0.067023</td>\n",
       "      <td>562</td>\n",
       "      <td>13</td>\n",
       "      <td>{'randomforestclassifier__n_estimators': 562, ...</td>\n",
       "      <td>0.811606</td>\n",
       "      <td>0.816876</td>\n",
       "      <td>0.826631</td>\n",
       "      <td>0.827239</td>\n",
       "      <td>0.767603</td>\n",
       "      <td>0.809991</td>\n",
       "      <td>0.022005</td>\n",
       "      <td>4</td>\n",
       "    </tr>\n",
       "    <tr>\n",
       "      <th>2</th>\n",
       "      <td>12.887732</td>\n",
       "      <td>0.172624</td>\n",
       "      <td>0.800347</td>\n",
       "      <td>0.053615</td>\n",
       "      <td>1584</td>\n",
       "      <td>7</td>\n",
       "      <td>{'randomforestclassifier__n_estimators': 1584,...</td>\n",
       "      <td>0.800506</td>\n",
       "      <td>0.803529</td>\n",
       "      <td>0.819762</td>\n",
       "      <td>0.836207</td>\n",
       "      <td>0.772155</td>\n",
       "      <td>0.806432</td>\n",
       "      <td>0.021367</td>\n",
       "      <td>5</td>\n",
       "    </tr>\n",
       "    <tr>\n",
       "      <th>3</th>\n",
       "      <td>3.509324</td>\n",
       "      <td>0.214340</td>\n",
       "      <td>0.272909</td>\n",
       "      <td>0.038146</td>\n",
       "      <td>465</td>\n",
       "      <td>5</td>\n",
       "      <td>{'randomforestclassifier__n_estimators': 465, ...</td>\n",
       "      <td>0.794591</td>\n",
       "      <td>0.777378</td>\n",
       "      <td>0.806260</td>\n",
       "      <td>0.832198</td>\n",
       "      <td>0.761647</td>\n",
       "      <td>0.794415</td>\n",
       "      <td>0.024215</td>\n",
       "      <td>6</td>\n",
       "    </tr>\n",
       "    <tr>\n",
       "      <th>9</th>\n",
       "      <td>2.341675</td>\n",
       "      <td>0.618864</td>\n",
       "      <td>0.114068</td>\n",
       "      <td>0.043611</td>\n",
       "      <td>533</td>\n",
       "      <td>3</td>\n",
       "      <td>{'randomforestclassifier__n_estimators': 533, ...</td>\n",
       "      <td>0.803339</td>\n",
       "      <td>0.742114</td>\n",
       "      <td>0.783616</td>\n",
       "      <td>0.818980</td>\n",
       "      <td>0.742561</td>\n",
       "      <td>0.778122</td>\n",
       "      <td>0.031294</td>\n",
       "      <td>7</td>\n",
       "    </tr>\n",
       "    <tr>\n",
       "      <th>1</th>\n",
       "      <td>6.376066</td>\n",
       "      <td>0.049483</td>\n",
       "      <td>0.407873</td>\n",
       "      <td>0.025757</td>\n",
       "      <td>910</td>\n",
       "      <td>2</td>\n",
       "      <td>{'randomforestclassifier__n_estimators': 910, ...</td>\n",
       "      <td>0.804328</td>\n",
       "      <td>0.726712</td>\n",
       "      <td>0.765189</td>\n",
       "      <td>0.800035</td>\n",
       "      <td>0.722297</td>\n",
       "      <td>0.763712</td>\n",
       "      <td>0.034801</td>\n",
       "      <td>8</td>\n",
       "    </tr>\n",
       "    <tr>\n",
       "      <th>8</th>\n",
       "      <td>4.071468</td>\n",
       "      <td>0.311629</td>\n",
       "      <td>0.300236</td>\n",
       "      <td>0.053394</td>\n",
       "      <td>819</td>\n",
       "      <td>2</td>\n",
       "      <td>{'randomforestclassifier__n_estimators': 819, ...</td>\n",
       "      <td>0.803256</td>\n",
       "      <td>0.721804</td>\n",
       "      <td>0.766192</td>\n",
       "      <td>0.799220</td>\n",
       "      <td>0.724333</td>\n",
       "      <td>0.762961</td>\n",
       "      <td>0.035028</td>\n",
       "      <td>9</td>\n",
       "    </tr>\n",
       "    <tr>\n",
       "      <th>7</th>\n",
       "      <td>8.481484</td>\n",
       "      <td>0.072459</td>\n",
       "      <td>0.709436</td>\n",
       "      <td>0.067668</td>\n",
       "      <td>1735</td>\n",
       "      <td>2</td>\n",
       "      <td>{'randomforestclassifier__n_estimators': 1735,...</td>\n",
       "      <td>0.805665</td>\n",
       "      <td>0.720872</td>\n",
       "      <td>0.765515</td>\n",
       "      <td>0.801724</td>\n",
       "      <td>0.716269</td>\n",
       "      <td>0.762009</td>\n",
       "      <td>0.038157</td>\n",
       "      <td>10</td>\n",
       "    </tr>\n",
       "  </tbody>\n",
       "</table>\n",
       "</div>"
      ],
      "text/plain": [
       "   mean_fit_time  std_fit_time  mean_score_time  std_score_time  \\\n",
       "4       9.898842      0.068317         0.707286        0.101503   \n",
       "0       2.511614      0.032196         0.197249        0.006649   \n",
       "6       3.335936      0.175659         0.246179        0.050726   \n",
       "5       4.286522      0.155373         0.347968        0.067023   \n",
       "2      12.887732      0.172624         0.800347        0.053615   \n",
       "3       3.509324      0.214340         0.272909        0.038146   \n",
       "9       2.341675      0.618864         0.114068        0.043611   \n",
       "1       6.376066      0.049483         0.407873        0.025757   \n",
       "8       4.071468      0.311629         0.300236        0.053394   \n",
       "7       8.481484      0.072459         0.709436        0.067668   \n",
       "\n",
       "  param_randomforestclassifier__n_estimators  \\\n",
       "4                                       1300   \n",
       "0                                        245   \n",
       "6                                        473   \n",
       "5                                        562   \n",
       "2                                       1584   \n",
       "3                                        465   \n",
       "9                                        533   \n",
       "1                                        910   \n",
       "8                                        819   \n",
       "7                                       1735   \n",
       "\n",
       "  param_randomforestclassifier__max_depth  \\\n",
       "4                                      10   \n",
       "0                                      10   \n",
       "6                                      10   \n",
       "5                                      13   \n",
       "2                                       7   \n",
       "3                                       5   \n",
       "9                                       3   \n",
       "1                                       2   \n",
       "8                                       2   \n",
       "7                                       2   \n",
       "\n",
       "                                              params  split0_test_score  \\\n",
       "4  {'randomforestclassifier__n_estimators': 1300,...           0.812258   \n",
       "0  {'randomforestclassifier__n_estimators': 245, ...           0.811757   \n",
       "6  {'randomforestclassifier__n_estimators': 473, ...           0.810136   \n",
       "5  {'randomforestclassifier__n_estimators': 562, ...           0.811606   \n",
       "2  {'randomforestclassifier__n_estimators': 1584,...           0.800506   \n",
       "3  {'randomforestclassifier__n_estimators': 465, ...           0.794591   \n",
       "9  {'randomforestclassifier__n_estimators': 533, ...           0.803339   \n",
       "1  {'randomforestclassifier__n_estimators': 910, ...           0.804328   \n",
       "8  {'randomforestclassifier__n_estimators': 819, ...           0.803256   \n",
       "7  {'randomforestclassifier__n_estimators': 1735,...           0.805665   \n",
       "\n",
       "   split1_test_score  split2_test_score  split3_test_score  split4_test_score  \\\n",
       "4           0.819232           0.829471           0.829112           0.773815   \n",
       "0           0.816220           0.828316           0.830070           0.773379   \n",
       "6           0.817231           0.826911           0.831460           0.772957   \n",
       "5           0.816876           0.826631           0.827239           0.767603   \n",
       "2           0.803529           0.819762           0.836207           0.772155   \n",
       "3           0.777378           0.806260           0.832198           0.761647   \n",
       "9           0.742114           0.783616           0.818980           0.742561   \n",
       "1           0.726712           0.765189           0.800035           0.722297   \n",
       "8           0.721804           0.766192           0.799220           0.724333   \n",
       "7           0.720872           0.765515           0.801724           0.716269   \n",
       "\n",
       "   mean_test_score  std_test_score  rank_test_score  \n",
       "4         0.812778        0.020521                1  \n",
       "0         0.811948        0.020505                2  \n",
       "6         0.811739        0.020765                3  \n",
       "5         0.809991        0.022005                4  \n",
       "2         0.806432        0.021367                5  \n",
       "3         0.794415        0.024215                6  \n",
       "9         0.778122        0.031294                7  \n",
       "1         0.763712        0.034801                8  \n",
       "8         0.762961        0.035028                9  \n",
       "7         0.762009        0.038157               10  "
      ]
     },
     "execution_count": 11,
     "metadata": {},
     "output_type": "execute_result"
    }
   ],
   "source": [
    "rf_res.sort_values('mean_test_score',axis=0, ascending=False)"
   ]
  },
  {
   "cell_type": "code",
   "execution_count": 12,
   "metadata": {},
   "outputs": [
    {
     "data": {
      "text/plain": [
       "0.8127775498158666"
      ]
     },
     "execution_count": 12,
     "metadata": {},
     "output_type": "execute_result"
    }
   ],
   "source": [
    "rf_rand.best_score_"
   ]
  },
  {
   "cell_type": "code",
   "execution_count": 13,
   "metadata": {},
   "outputs": [],
   "source": [
    "from sklearn.metrics import roc_curve\n",
    "\n",
    "def roc_plot(e,x,y):\n",
    "    \"\"\"e is estimator, x is data and y is true value\"\"\"\n",
    "\n",
    "    #predicting from model\n",
    "    y_pred = e.predict_proba(x)[:,1]\n",
    "\n",
    "    #finding curve\n",
    "    fpr, tpr, t = roc_curve(y, y_pred)\n",
    "    sns.lineplot(x=fpr,y=tpr)\n",
    "    plt.xlabel('false positive rate')\n",
    "    plt.ylabel('true positive rate')\n",
    "    plt.title('Compute Receiver Operating Characteristic Curve')\n",
    "    return pd.DataFrame({'fpr':fpr,'tpr':tpr,'threshold':t})\n",
    "\n",
    "    \n"
   ]
  },
  {
   "cell_type": "code",
   "execution_count": 14,
   "metadata": {},
   "outputs": [
    {
     "data": {
      "image/png": "[encoded data removed]",
      "text/plain": [
       "<Figure size 432x288 with 1 Axes>"
      ]
     },
     "metadata": {},
     "output_type": "display_data"
    }
   ],
   "source": [
    "est = rf_rand.best_estimator_\n",
    "c = roc_plot(est, X_train, y_train)"
   ]
  },
  {
   "cell_type": "markdown",
   "metadata": {},
   "source": [
    "***Comparing to test set***"
   ]
  },
  {
   "cell_type": "code",
   "execution_count": 15,
   "metadata": {},
   "outputs": [
    {
     "name": "stdout",
     "output_type": "stream",
     "text": [
      "Evaluating the classifier on the test set, area under the roc curve is: 0.818\n"
     ]
    }
   ],
   "source": [
    "from sklearn.metrics import roc_auc_score\n",
    "\n",
    "\n",
    "def test_comp(e):\n",
    "    #predicting probability from test set\n",
    "    y_pred = e.predict_proba(X_test)[:,1]\n",
    "    \n",
    "    \n",
    "    r = np.round(roc_auc_score(y_test,y_pred),3)\n",
    "    \n",
    "    print('Evaluating the classifier on the test set, area under the roc curve is: ' +  \n",
    "           '{}'.format(r))\n",
    "\n",
    "test_comp(rf_rand.best_estimator_)"
   ]
  },
  {
   "cell_type": "markdown",
   "metadata": {},
   "source": [
    "<h3>Random Forest first results</h3>\n",
    "\n",
    "The classifier has decent performance. Let's see if with more parameters and a larger search I can improve the results even further."
   ]
  },
  {
   "cell_type": "code",
   "execution_count": 16,
   "metadata": {
    "scrolled": true
   },
   "outputs": [
    {
     "name": "stdout",
     "output_type": "stream",
     "text": [
      "Fitting 4 folds for each of 50 candidates, totalling 200 fits\n"
     ]
    },
    {
     "name": "stderr",
     "output_type": "stream",
     "text": [
      "[Parallel(n_jobs=-1)]: Using backend LokyBackend with 8 concurrent workers.\n",
      "[Parallel(n_jobs=-1)]: Done   2 tasks      | elapsed:    2.1s\n",
      "[Parallel(n_jobs=-1)]: Done   9 tasks      | elapsed:    7.1s\n",
      "[Parallel(n_jobs=-1)]: Done  16 tasks      | elapsed:    8.6s\n",
      "[Parallel(n_jobs=-1)]: Done  25 tasks      | elapsed:   16.9s\n",
      "[Parallel(n_jobs=-1)]: Done  34 tasks      | elapsed:   20.4s\n",
      "[Parallel(n_jobs=-1)]: Done  45 tasks      | elapsed:   28.5s\n",
      "[Parallel(n_jobs=-1)]: Done  56 tasks      | elapsed:   36.6s\n",
      "[Parallel(n_jobs=-1)]: Done  69 tasks      | elapsed:   50.1s\n",
      "[Parallel(n_jobs=-1)]: Done  82 tasks      | elapsed:  1.1min\n",
      "[Parallel(n_jobs=-1)]: Done  97 tasks      | elapsed:  1.2min\n",
      "[Parallel(n_jobs=-1)]: Done 112 tasks      | elapsed:  1.3min\n",
      "[Parallel(n_jobs=-1)]: Done 129 tasks      | elapsed:  1.5min\n",
      "[Parallel(n_jobs=-1)]: Done 146 tasks      | elapsed:  1.8min\n",
      "[Parallel(n_jobs=-1)]: Done 165 tasks      | elapsed:  2.0min\n",
      "[Parallel(n_jobs=-1)]: Done 184 tasks      | elapsed:  2.2min\n",
      "[Parallel(n_jobs=-1)]: Done 200 out of 200 | elapsed:  2.4min finished\n"
     ]
    },
    {
     "data": {
      "text/plain": [
       "RandomizedSearchCV(cv=4,\n",
       "                   estimator=Pipeline(steps=[('standardscaler',\n",
       "                                              StandardScaler()),\n",
       "                                             ('randomforestclassifier',\n",
       "                                              RandomForestClassifier())]),\n",
       "                   n_iter=50, n_jobs=-1,\n",
       "                   param_distributions={'randomforestclassifier__max_depth': array([ 1,  2,  3,  4,  5,  6,  7,  8,  9, 10, 11, 12, 13]),\n",
       "                                        'randomforestclassifier__n_estimators': array([  50,   51,   52, ..., 1997, 1998, 1999])},\n",
       "                   random_state=42, scoring='roc_auc', verbose=10)"
      ]
     },
     "execution_count": 16,
     "metadata": {},
     "output_type": "execute_result"
    }
   ],
   "source": [
    "params = {'randomforestclassifier__n_estimators': np.arange(50,2000),\n",
    "         'randomforestclassifier__max_depth' :  np.arange(1,14)}\n",
    "\n",
    "rf_rand_two = RandomizedSearchCV(pipe,param_distributions=params,cv=4, n_jobs=-1, scoring = 'roc_auc',n_iter=50,\n",
    "                            random_state = 42, verbose = 10)\n",
    "rf_rand_two.fit(X_train,y_train)"
   ]
  },
  {
   "cell_type": "code",
   "execution_count": 17,
   "metadata": {},
   "outputs": [
    {
     "data": {
      "image/png": "[encoded data removed]",
      "text/plain": [
       "<Figure size 432x288 with 1 Axes>"
      ]
     },
     "metadata": {},
     "output_type": "display_data"
    }
   ],
   "source": [
    "c = roc_plot(rf_rand_two.best_estimator_,X_train,y_train)\n"
   ]
  },
  {
   "cell_type": "code",
   "execution_count": 18,
   "metadata": {},
   "outputs": [
    {
     "data": {
      "text/plain": [
       "{'randomforestclassifier__n_estimators': 473,\n",
       " 'randomforestclassifier__max_depth': 9}"
      ]
     },
     "execution_count": 18,
     "metadata": {},
     "output_type": "execute_result"
    }
   ],
   "source": [
    "rf_rand_two.best_params_"
   ]
  },
  {
   "cell_type": "code",
   "execution_count": 19,
   "metadata": {},
   "outputs": [
    {
     "data": {
      "text/plain": [
       "0.8113187984875299"
      ]
     },
     "execution_count": 19,
     "metadata": {},
     "output_type": "execute_result"
    }
   ],
   "source": [
    "rf_rand_two.best_score_"
   ]
  },
  {
   "cell_type": "code",
   "execution_count": 20,
   "metadata": {},
   "outputs": [
    {
     "name": "stdout",
     "output_type": "stream",
     "text": [
      "Evaluating the classifier on the test set, area under the roc curve is: 0.816\n"
     ]
    }
   ],
   "source": [
    "test_comp(rf_rand_two.best_estimator_)"
   ]
  },
  {
   "cell_type": "code",
   "execution_count": 21,
   "metadata": {},
   "outputs": [
    {
     "data": {
      "text/html": [
       "<div>\n",
       "<style scoped>\n",
       "    .dataframe tbody tr th:only-of-type {\n",
       "        vertical-align: middle;\n",
       "    }\n",
       "\n",
       "    .dataframe tbody tr th {\n",
       "        vertical-align: top;\n",
       "    }\n",
       "\n",
       "    .dataframe thead th {\n",
       "        text-align: right;\n",
       "    }\n",
       "</style>\n",
       "<table border=\"1\" class=\"dataframe\">\n",
       "  <thead>\n",
       "    <tr style=\"text-align: right;\">\n",
       "      <th></th>\n",
       "      <th>mean_fit_time</th>\n",
       "      <th>std_fit_time</th>\n",
       "      <th>mean_score_time</th>\n",
       "      <th>std_score_time</th>\n",
       "      <th>param_randomforestclassifier__n_estimators</th>\n",
       "      <th>param_randomforestclassifier__max_depth</th>\n",
       "      <th>params</th>\n",
       "      <th>split0_test_score</th>\n",
       "      <th>split1_test_score</th>\n",
       "      <th>split2_test_score</th>\n",
       "      <th>split3_test_score</th>\n",
       "      <th>mean_test_score</th>\n",
       "      <th>std_test_score</th>\n",
       "      <th>rank_test_score</th>\n",
       "    </tr>\n",
       "  </thead>\n",
       "  <tbody>\n",
       "    <tr>\n",
       "      <th>14</th>\n",
       "      <td>2.489000</td>\n",
       "      <td>0.011167</td>\n",
       "      <td>0.212594</td>\n",
       "      <td>0.003051</td>\n",
       "      <td>473</td>\n",
       "      <td>9</td>\n",
       "      <td>{'randomforestclassifier__n_estimators': 473, ...</td>\n",
       "      <td>0.813952</td>\n",
       "      <td>0.824299</td>\n",
       "      <td>0.833241</td>\n",
       "      <td>0.773783</td>\n",
       "      <td>0.811319</td>\n",
       "      <td>0.022721</td>\n",
       "      <td>1</td>\n",
       "    </tr>\n",
       "    <tr>\n",
       "      <th>33</th>\n",
       "      <td>9.980579</td>\n",
       "      <td>0.016702</td>\n",
       "      <td>0.677492</td>\n",
       "      <td>0.010670</td>\n",
       "      <td>1618</td>\n",
       "      <td>10</td>\n",
       "      <td>{'randomforestclassifier__n_estimators': 1618,...</td>\n",
       "      <td>0.815488</td>\n",
       "      <td>0.823451</td>\n",
       "      <td>0.830391</td>\n",
       "      <td>0.773810</td>\n",
       "      <td>0.810785</td>\n",
       "      <td>0.021989</td>\n",
       "      <td>2</td>\n",
       "    </tr>\n",
       "    <tr>\n",
       "      <th>24</th>\n",
       "      <td>8.345735</td>\n",
       "      <td>0.078640</td>\n",
       "      <td>0.673350</td>\n",
       "      <td>0.003953</td>\n",
       "      <td>1489</td>\n",
       "      <td>11</td>\n",
       "      <td>{'randomforestclassifier__n_estimators': 1489,...</td>\n",
       "      <td>0.816366</td>\n",
       "      <td>0.823209</td>\n",
       "      <td>0.829324</td>\n",
       "      <td>0.773582</td>\n",
       "      <td>0.810620</td>\n",
       "      <td>0.021870</td>\n",
       "      <td>3</td>\n",
       "    </tr>\n",
       "    <tr>\n",
       "      <th>35</th>\n",
       "      <td>7.878765</td>\n",
       "      <td>0.015090</td>\n",
       "      <td>0.704688</td>\n",
       "      <td>0.009098</td>\n",
       "      <td>1592</td>\n",
       "      <td>11</td>\n",
       "      <td>{'randomforestclassifier__n_estimators': 1592,...</td>\n",
       "      <td>0.816012</td>\n",
       "      <td>0.824646</td>\n",
       "      <td>0.828234</td>\n",
       "      <td>0.773496</td>\n",
       "      <td>0.810597</td>\n",
       "      <td>0.021876</td>\n",
       "      <td>4</td>\n",
       "    </tr>\n",
       "    <tr>\n",
       "      <th>4</th>\n",
       "      <td>1.190135</td>\n",
       "      <td>0.009315</td>\n",
       "      <td>0.092595</td>\n",
       "      <td>0.004594</td>\n",
       "      <td>175</td>\n",
       "      <td>12</td>\n",
       "      <td>{'randomforestclassifier__n_estimators': 175, ...</td>\n",
       "      <td>0.815803</td>\n",
       "      <td>0.824422</td>\n",
       "      <td>0.830952</td>\n",
       "      <td>0.770864</td>\n",
       "      <td>0.810510</td>\n",
       "      <td>0.023512</td>\n",
       "      <td>5</td>\n",
       "    </tr>\n",
       "    <tr>\n",
       "      <th>30</th>\n",
       "      <td>6.744145</td>\n",
       "      <td>0.047837</td>\n",
       "      <td>0.427197</td>\n",
       "      <td>0.008342</td>\n",
       "      <td>931</td>\n",
       "      <td>10</td>\n",
       "      <td>{'randomforestclassifier__n_estimators': 931, ...</td>\n",
       "      <td>0.814421</td>\n",
       "      <td>0.823857</td>\n",
       "      <td>0.829899</td>\n",
       "      <td>0.773578</td>\n",
       "      <td>0.810439</td>\n",
       "      <td>0.021985</td>\n",
       "      <td>6</td>\n",
       "    </tr>\n",
       "    <tr>\n",
       "      <th>23</th>\n",
       "      <td>0.404872</td>\n",
       "      <td>0.015366</td>\n",
       "      <td>0.043468</td>\n",
       "      <td>0.004860</td>\n",
       "      <td>68</td>\n",
       "      <td>10</td>\n",
       "      <td>{'randomforestclassifier__n_estimators': 68, '...</td>\n",
       "      <td>0.814623</td>\n",
       "      <td>0.823615</td>\n",
       "      <td>0.831130</td>\n",
       "      <td>0.772182</td>\n",
       "      <td>0.810388</td>\n",
       "      <td>0.022819</td>\n",
       "      <td>7</td>\n",
       "    </tr>\n",
       "    <tr>\n",
       "      <th>39</th>\n",
       "      <td>2.043129</td>\n",
       "      <td>0.009358</td>\n",
       "      <td>0.181073</td>\n",
       "      <td>0.002316</td>\n",
       "      <td>412</td>\n",
       "      <td>10</td>\n",
       "      <td>{'randomforestclassifier__n_estimators': 412, ...</td>\n",
       "      <td>0.813966</td>\n",
       "      <td>0.823474</td>\n",
       "      <td>0.829675</td>\n",
       "      <td>0.774271</td>\n",
       "      <td>0.810346</td>\n",
       "      <td>0.021567</td>\n",
       "      <td>8</td>\n",
       "    </tr>\n",
       "    <tr>\n",
       "      <th>1</th>\n",
       "      <td>1.893156</td>\n",
       "      <td>0.015951</td>\n",
       "      <td>0.175556</td>\n",
       "      <td>0.024485</td>\n",
       "      <td>245</td>\n",
       "      <td>9</td>\n",
       "      <td>{'randomforestclassifier__n_estimators': 245, ...</td>\n",
       "      <td>0.811652</td>\n",
       "      <td>0.821226</td>\n",
       "      <td>0.834067</td>\n",
       "      <td>0.774152</td>\n",
       "      <td>0.810274</td>\n",
       "      <td>0.022320</td>\n",
       "      <td>9</td>\n",
       "    </tr>\n",
       "    <tr>\n",
       "      <th>9</th>\n",
       "      <td>8.114312</td>\n",
       "      <td>0.057778</td>\n",
       "      <td>0.854939</td>\n",
       "      <td>0.004415</td>\n",
       "      <td>1300</td>\n",
       "      <td>9</td>\n",
       "      <td>{'randomforestclassifier__n_estimators': 1300,...</td>\n",
       "      <td>0.814140</td>\n",
       "      <td>0.822302</td>\n",
       "      <td>0.831686</td>\n",
       "      <td>0.772857</td>\n",
       "      <td>0.810246</td>\n",
       "      <td>0.022462</td>\n",
       "      <td>10</td>\n",
       "    </tr>\n",
       "    <tr>\n",
       "      <th>28</th>\n",
       "      <td>8.418411</td>\n",
       "      <td>0.172912</td>\n",
       "      <td>1.129297</td>\n",
       "      <td>0.086062</td>\n",
       "      <td>1442</td>\n",
       "      <td>10</td>\n",
       "      <td>{'randomforestclassifier__n_estimators': 1442,...</td>\n",
       "      <td>0.815382</td>\n",
       "      <td>0.823310</td>\n",
       "      <td>0.830218</td>\n",
       "      <td>0.771963</td>\n",
       "      <td>0.810218</td>\n",
       "      <td>0.022702</td>\n",
       "      <td>11</td>\n",
       "    </tr>\n",
       "    <tr>\n",
       "      <th>44</th>\n",
       "      <td>4.507118</td>\n",
       "      <td>0.009008</td>\n",
       "      <td>0.383162</td>\n",
       "      <td>0.001800</td>\n",
       "      <td>902</td>\n",
       "      <td>8</td>\n",
       "      <td>{'randomforestclassifier__n_estimators': 902, ...</td>\n",
       "      <td>0.806359</td>\n",
       "      <td>0.822580</td>\n",
       "      <td>0.836260</td>\n",
       "      <td>0.775388</td>\n",
       "      <td>0.810147</td>\n",
       "      <td>0.022688</td>\n",
       "      <td>12</td>\n",
       "    </tr>\n",
       "    <tr>\n",
       "      <th>18</th>\n",
       "      <td>16.381842</td>\n",
       "      <td>0.043845</td>\n",
       "      <td>1.144802</td>\n",
       "      <td>0.026906</td>\n",
       "      <td>1933</td>\n",
       "      <td>12</td>\n",
       "      <td>{'randomforestclassifier__n_estimators': 1933,...</td>\n",
       "      <td>0.816265</td>\n",
       "      <td>0.823953</td>\n",
       "      <td>0.826597</td>\n",
       "      <td>0.773327</td>\n",
       "      <td>0.810035</td>\n",
       "      <td>0.021531</td>\n",
       "      <td>13</td>\n",
       "    </tr>\n",
       "    <tr>\n",
       "      <th>7</th>\n",
       "      <td>4.954454</td>\n",
       "      <td>0.052749</td>\n",
       "      <td>0.457459</td>\n",
       "      <td>0.022998</td>\n",
       "      <td>718</td>\n",
       "      <td>12</td>\n",
       "      <td>{'randomforestclassifier__n_estimators': 718, ...</td>\n",
       "      <td>0.816504</td>\n",
       "      <td>0.822730</td>\n",
       "      <td>0.826666</td>\n",
       "      <td>0.772606</td>\n",
       "      <td>0.809627</td>\n",
       "      <td>0.021679</td>\n",
       "      <td>14</td>\n",
       "    </tr>\n",
       "    <tr>\n",
       "      <th>45</th>\n",
       "      <td>1.906427</td>\n",
       "      <td>0.012261</td>\n",
       "      <td>0.171564</td>\n",
       "      <td>0.006050</td>\n",
       "      <td>377</td>\n",
       "      <td>12</td>\n",
       "      <td>{'randomforestclassifier__n_estimators': 377, ...</td>\n",
       "      <td>0.813961</td>\n",
       "      <td>0.824912</td>\n",
       "      <td>0.825421</td>\n",
       "      <td>0.774111</td>\n",
       "      <td>0.809601</td>\n",
       "      <td>0.020995</td>\n",
       "      <td>15</td>\n",
       "    </tr>\n",
       "    <tr>\n",
       "      <th>37</th>\n",
       "      <td>3.915263</td>\n",
       "      <td>0.022713</td>\n",
       "      <td>0.350269</td>\n",
       "      <td>0.012878</td>\n",
       "      <td>768</td>\n",
       "      <td>13</td>\n",
       "      <td>{'randomforestclassifier__n_estimators': 768, ...</td>\n",
       "      <td>0.816191</td>\n",
       "      <td>0.824085</td>\n",
       "      <td>0.826274</td>\n",
       "      <td>0.771320</td>\n",
       "      <td>0.809468</td>\n",
       "      <td>0.022341</td>\n",
       "      <td>16</td>\n",
       "    </tr>\n",
       "    <tr>\n",
       "      <th>11</th>\n",
       "      <td>3.804386</td>\n",
       "      <td>0.014405</td>\n",
       "      <td>0.548734</td>\n",
       "      <td>0.008873</td>\n",
       "      <td>562</td>\n",
       "      <td>12</td>\n",
       "      <td>{'randomforestclassifier__n_estimators': 562, ...</td>\n",
       "      <td>0.815237</td>\n",
       "      <td>0.824867</td>\n",
       "      <td>0.826602</td>\n",
       "      <td>0.770937</td>\n",
       "      <td>0.809411</td>\n",
       "      <td>0.022631</td>\n",
       "      <td>17</td>\n",
       "    </tr>\n",
       "    <tr>\n",
       "      <th>12</th>\n",
       "      <td>5.663994</td>\n",
       "      <td>0.013201</td>\n",
       "      <td>0.374863</td>\n",
       "      <td>0.019323</td>\n",
       "      <td>823</td>\n",
       "      <td>8</td>\n",
       "      <td>{'randomforestclassifier__n_estimators': 823, ...</td>\n",
       "      <td>0.807265</td>\n",
       "      <td>0.820437</td>\n",
       "      <td>0.834687</td>\n",
       "      <td>0.774604</td>\n",
       "      <td>0.809248</td>\n",
       "      <td>0.022229</td>\n",
       "      <td>18</td>\n",
       "    </tr>\n",
       "    <tr>\n",
       "      <th>29</th>\n",
       "      <td>4.908944</td>\n",
       "      <td>0.080705</td>\n",
       "      <td>0.542352</td>\n",
       "      <td>0.033287</td>\n",
       "      <td>883</td>\n",
       "      <td>13</td>\n",
       "      <td>{'randomforestclassifier__n_estimators': 883, ...</td>\n",
       "      <td>0.816378</td>\n",
       "      <td>0.823567</td>\n",
       "      <td>0.825977</td>\n",
       "      <td>0.770217</td>\n",
       "      <td>0.809035</td>\n",
       "      <td>0.022688</td>\n",
       "      <td>19</td>\n",
       "    </tr>\n",
       "    <tr>\n",
       "      <th>25</th>\n",
       "      <td>1.810558</td>\n",
       "      <td>0.016773</td>\n",
       "      <td>0.158324</td>\n",
       "      <td>0.005166</td>\n",
       "      <td>319</td>\n",
       "      <td>11</td>\n",
       "      <td>{'randomforestclassifier__n_estimators': 319, ...</td>\n",
       "      <td>0.813713</td>\n",
       "      <td>0.824372</td>\n",
       "      <td>0.827190</td>\n",
       "      <td>0.768512</td>\n",
       "      <td>0.808447</td>\n",
       "      <td>0.023598</td>\n",
       "      <td>20</td>\n",
       "    </tr>\n",
       "    <tr>\n",
       "      <th>0</th>\n",
       "      <td>2.338026</td>\n",
       "      <td>0.005160</td>\n",
       "      <td>0.219033</td>\n",
       "      <td>0.013030</td>\n",
       "      <td>304</td>\n",
       "      <td>13</td>\n",
       "      <td>{'randomforestclassifier__n_estimators': 304, ...</td>\n",
       "      <td>0.814890</td>\n",
       "      <td>0.823627</td>\n",
       "      <td>0.825480</td>\n",
       "      <td>0.767627</td>\n",
       "      <td>0.807906</td>\n",
       "      <td>0.023596</td>\n",
       "      <td>21</td>\n",
       "    </tr>\n",
       "    <tr>\n",
       "      <th>5</th>\n",
       "      <td>1.691863</td>\n",
       "      <td>0.029023</td>\n",
       "      <td>0.159174</td>\n",
       "      <td>0.012636</td>\n",
       "      <td>314</td>\n",
       "      <td>7</td>\n",
       "      <td>{'randomforestclassifier__n_estimators': 314, ...</td>\n",
       "      <td>0.805941</td>\n",
       "      <td>0.812999</td>\n",
       "      <td>0.835371</td>\n",
       "      <td>0.770741</td>\n",
       "      <td>0.806263</td>\n",
       "      <td>0.023209</td>\n",
       "      <td>22</td>\n",
       "    </tr>\n",
       "    <tr>\n",
       "      <th>48</th>\n",
       "      <td>3.799805</td>\n",
       "      <td>0.054828</td>\n",
       "      <td>0.212819</td>\n",
       "      <td>0.003020</td>\n",
       "      <td>855</td>\n",
       "      <td>6</td>\n",
       "      <td>{'randomforestclassifier__n_estimators': 855, ...</td>\n",
       "      <td>0.801963</td>\n",
       "      <td>0.808220</td>\n",
       "      <td>0.836397</td>\n",
       "      <td>0.768922</td>\n",
       "      <td>0.803875</td>\n",
       "      <td>0.023989</td>\n",
       "      <td>23</td>\n",
       "    </tr>\n",
       "    <tr>\n",
       "      <th>13</th>\n",
       "      <td>9.661640</td>\n",
       "      <td>0.079153</td>\n",
       "      <td>0.952410</td>\n",
       "      <td>0.016925</td>\n",
       "      <td>1663</td>\n",
       "      <td>6</td>\n",
       "      <td>{'randomforestclassifier__n_estimators': 1663,...</td>\n",
       "      <td>0.801268</td>\n",
       "      <td>0.807290</td>\n",
       "      <td>0.837131</td>\n",
       "      <td>0.768252</td>\n",
       "      <td>0.803485</td>\n",
       "      <td>0.024458</td>\n",
       "      <td>24</td>\n",
       "    </tr>\n",
       "    <tr>\n",
       "      <th>49</th>\n",
       "      <td>2.601123</td>\n",
       "      <td>0.015311</td>\n",
       "      <td>0.197766</td>\n",
       "      <td>0.014685</td>\n",
       "      <td>553</td>\n",
       "      <td>6</td>\n",
       "      <td>{'randomforestclassifier__n_estimators': 553, ...</td>\n",
       "      <td>0.802625</td>\n",
       "      <td>0.805607</td>\n",
       "      <td>0.835658</td>\n",
       "      <td>0.768630</td>\n",
       "      <td>0.803130</td>\n",
       "      <td>0.023742</td>\n",
       "      <td>25</td>\n",
       "    </tr>\n",
       "    <tr>\n",
       "      <th>6</th>\n",
       "      <td>9.418054</td>\n",
       "      <td>0.022652</td>\n",
       "      <td>0.660215</td>\n",
       "      <td>0.006639</td>\n",
       "      <td>1584</td>\n",
       "      <td>6</td>\n",
       "      <td>{'randomforestclassifier__n_estimators': 1584,...</td>\n",
       "      <td>0.801590</td>\n",
       "      <td>0.804641</td>\n",
       "      <td>0.837391</td>\n",
       "      <td>0.768735</td>\n",
       "      <td>0.803089</td>\n",
       "      <td>0.024298</td>\n",
       "      <td>26</td>\n",
       "    </tr>\n",
       "    <tr>\n",
       "      <th>40</th>\n",
       "      <td>7.699308</td>\n",
       "      <td>0.015737</td>\n",
       "      <td>0.654080</td>\n",
       "      <td>0.004054</td>\n",
       "      <td>1694</td>\n",
       "      <td>6</td>\n",
       "      <td>{'randomforestclassifier__n_estimators': 1694,...</td>\n",
       "      <td>0.801443</td>\n",
       "      <td>0.805749</td>\n",
       "      <td>0.836037</td>\n",
       "      <td>0.768069</td>\n",
       "      <td>0.802824</td>\n",
       "      <td>0.024091</td>\n",
       "      <td>27</td>\n",
       "    </tr>\n",
       "    <tr>\n",
       "      <th>46</th>\n",
       "      <td>4.254685</td>\n",
       "      <td>0.018931</td>\n",
       "      <td>0.372566</td>\n",
       "      <td>0.001246</td>\n",
       "      <td>927</td>\n",
       "      <td>6</td>\n",
       "      <td>{'randomforestclassifier__n_estimators': 927, ...</td>\n",
       "      <td>0.800744</td>\n",
       "      <td>0.802808</td>\n",
       "      <td>0.837122</td>\n",
       "      <td>0.769487</td>\n",
       "      <td>0.802540</td>\n",
       "      <td>0.023936</td>\n",
       "      <td>28</td>\n",
       "    </tr>\n",
       "    <tr>\n",
       "      <th>47</th>\n",
       "      <td>4.612009</td>\n",
       "      <td>0.020140</td>\n",
       "      <td>0.406669</td>\n",
       "      <td>0.005686</td>\n",
       "      <td>1042</td>\n",
       "      <td>5</td>\n",
       "      <td>{'randomforestclassifier__n_estimators': 1042,...</td>\n",
       "      <td>0.797626</td>\n",
       "      <td>0.786163</td>\n",
       "      <td>0.834733</td>\n",
       "      <td>0.767946</td>\n",
       "      <td>0.796617</td>\n",
       "      <td>0.024419</td>\n",
       "      <td>29</td>\n",
       "    </tr>\n",
       "    <tr>\n",
       "      <th>15</th>\n",
       "      <td>3.496918</td>\n",
       "      <td>0.053222</td>\n",
       "      <td>0.332442</td>\n",
       "      <td>0.028849</td>\n",
       "      <td>572</td>\n",
       "      <td>5</td>\n",
       "      <td>{'randomforestclassifier__n_estimators': 572, ...</td>\n",
       "      <td>0.798040</td>\n",
       "      <td>0.789501</td>\n",
       "      <td>0.832708</td>\n",
       "      <td>0.764941</td>\n",
       "      <td>0.796298</td>\n",
       "      <td>0.024280</td>\n",
       "      <td>30</td>\n",
       "    </tr>\n",
       "    <tr>\n",
       "      <th>27</th>\n",
       "      <td>4.398072</td>\n",
       "      <td>0.017611</td>\n",
       "      <td>0.399760</td>\n",
       "      <td>0.008452</td>\n",
       "      <td>916</td>\n",
       "      <td>5</td>\n",
       "      <td>{'randomforestclassifier__n_estimators': 916, ...</td>\n",
       "      <td>0.797571</td>\n",
       "      <td>0.786729</td>\n",
       "      <td>0.831832</td>\n",
       "      <td>0.768033</td>\n",
       "      <td>0.796041</td>\n",
       "      <td>0.023209</td>\n",
       "      <td>31</td>\n",
       "    </tr>\n",
       "    <tr>\n",
       "      <th>43</th>\n",
       "      <td>4.851665</td>\n",
       "      <td>0.016842</td>\n",
       "      <td>0.415337</td>\n",
       "      <td>0.001196</td>\n",
       "      <td>1088</td>\n",
       "      <td>5</td>\n",
       "      <td>{'randomforestclassifier__n_estimators': 1088,...</td>\n",
       "      <td>0.798040</td>\n",
       "      <td>0.786474</td>\n",
       "      <td>0.833675</td>\n",
       "      <td>0.765397</td>\n",
       "      <td>0.795896</td>\n",
       "      <td>0.024753</td>\n",
       "      <td>32</td>\n",
       "    </tr>\n",
       "    <tr>\n",
       "      <th>22</th>\n",
       "      <td>2.947493</td>\n",
       "      <td>0.015776</td>\n",
       "      <td>0.273775</td>\n",
       "      <td>0.025035</td>\n",
       "      <td>620</td>\n",
       "      <td>4</td>\n",
       "      <td>{'randomforestclassifier__n_estimators': 620, ...</td>\n",
       "      <td>0.795607</td>\n",
       "      <td>0.773204</td>\n",
       "      <td>0.825900</td>\n",
       "      <td>0.764284</td>\n",
       "      <td>0.789749</td>\n",
       "      <td>0.023788</td>\n",
       "      <td>33</td>\n",
       "    </tr>\n",
       "    <tr>\n",
       "      <th>26</th>\n",
       "      <td>2.990431</td>\n",
       "      <td>0.064381</td>\n",
       "      <td>0.244127</td>\n",
       "      <td>0.007805</td>\n",
       "      <td>596</td>\n",
       "      <td>4</td>\n",
       "      <td>{'randomforestclassifier__n_estimators': 596, ...</td>\n",
       "      <td>0.794301</td>\n",
       "      <td>0.773473</td>\n",
       "      <td>0.825457</td>\n",
       "      <td>0.763678</td>\n",
       "      <td>0.789227</td>\n",
       "      <td>0.023661</td>\n",
       "      <td>34</td>\n",
       "    </tr>\n",
       "    <tr>\n",
       "      <th>8</th>\n",
       "      <td>2.433893</td>\n",
       "      <td>0.013184</td>\n",
       "      <td>0.181344</td>\n",
       "      <td>0.003424</td>\n",
       "      <td>465</td>\n",
       "      <td>4</td>\n",
       "      <td>{'randomforestclassifier__n_estimators': 465, ...</td>\n",
       "      <td>0.792991</td>\n",
       "      <td>0.767362</td>\n",
       "      <td>0.827190</td>\n",
       "      <td>0.762752</td>\n",
       "      <td>0.787574</td>\n",
       "      <td>0.025610</td>\n",
       "      <td>35</td>\n",
       "    </tr>\n",
       "    <tr>\n",
       "      <th>21</th>\n",
       "      <td>5.668642</td>\n",
       "      <td>0.062564</td>\n",
       "      <td>0.475981</td>\n",
       "      <td>0.006446</td>\n",
       "      <td>1201</td>\n",
       "      <td>3</td>\n",
       "      <td>{'randomforestclassifier__n_estimators': 1201,...</td>\n",
       "      <td>0.796904</td>\n",
       "      <td>0.754011</td>\n",
       "      <td>0.816301</td>\n",
       "      <td>0.753755</td>\n",
       "      <td>0.780243</td>\n",
       "      <td>0.027237</td>\n",
       "      <td>36</td>\n",
       "    </tr>\n",
       "    <tr>\n",
       "      <th>20</th>\n",
       "      <td>8.746665</td>\n",
       "      <td>0.034751</td>\n",
       "      <td>0.629853</td>\n",
       "      <td>0.004283</td>\n",
       "      <td>1461</td>\n",
       "      <td>3</td>\n",
       "      <td>{'randomforestclassifier__n_estimators': 1461,...</td>\n",
       "      <td>0.795658</td>\n",
       "      <td>0.750144</td>\n",
       "      <td>0.817030</td>\n",
       "      <td>0.755182</td>\n",
       "      <td>0.779504</td>\n",
       "      <td>0.027941</td>\n",
       "      <td>37</td>\n",
       "    </tr>\n",
       "    <tr>\n",
       "      <th>3</th>\n",
       "      <td>8.249586</td>\n",
       "      <td>0.027737</td>\n",
       "      <td>0.687322</td>\n",
       "      <td>0.011365</td>\n",
       "      <td>1540</td>\n",
       "      <td>3</td>\n",
       "      <td>{'randomforestclassifier__n_estimators': 1540,...</td>\n",
       "      <td>0.795639</td>\n",
       "      <td>0.750732</td>\n",
       "      <td>0.817573</td>\n",
       "      <td>0.750782</td>\n",
       "      <td>0.778682</td>\n",
       "      <td>0.028981</td>\n",
       "      <td>38</td>\n",
       "    </tr>\n",
       "    <tr>\n",
       "      <th>10</th>\n",
       "      <td>2.670197</td>\n",
       "      <td>0.014229</td>\n",
       "      <td>0.274514</td>\n",
       "      <td>0.014854</td>\n",
       "      <td>576</td>\n",
       "      <td>3</td>\n",
       "      <td>{'randomforestclassifier__n_estimators': 576, ...</td>\n",
       "      <td>0.795258</td>\n",
       "      <td>0.755246</td>\n",
       "      <td>0.811586</td>\n",
       "      <td>0.751357</td>\n",
       "      <td>0.778362</td>\n",
       "      <td>0.025753</td>\n",
       "      <td>39</td>\n",
       "    </tr>\n",
       "    <tr>\n",
       "      <th>34</th>\n",
       "      <td>6.163949</td>\n",
       "      <td>0.056509</td>\n",
       "      <td>0.360827</td>\n",
       "      <td>0.005232</td>\n",
       "      <td>1105</td>\n",
       "      <td>2</td>\n",
       "      <td>{'randomforestclassifier__n_estimators': 1105,...</td>\n",
       "      <td>0.785030</td>\n",
       "      <td>0.733522</td>\n",
       "      <td>0.803193</td>\n",
       "      <td>0.736185</td>\n",
       "      <td>0.764483</td>\n",
       "      <td>0.030331</td>\n",
       "      <td>40</td>\n",
       "    </tr>\n",
       "    <tr>\n",
       "      <th>41</th>\n",
       "      <td>6.263944</td>\n",
       "      <td>0.024299</td>\n",
       "      <td>0.520216</td>\n",
       "      <td>0.020335</td>\n",
       "      <td>1656</td>\n",
       "      <td>2</td>\n",
       "      <td>{'randomforestclassifier__n_estimators': 1656,...</td>\n",
       "      <td>0.786686</td>\n",
       "      <td>0.734311</td>\n",
       "      <td>0.802210</td>\n",
       "      <td>0.730066</td>\n",
       "      <td>0.763318</td>\n",
       "      <td>0.031646</td>\n",
       "      <td>41</td>\n",
       "    </tr>\n",
       "    <tr>\n",
       "      <th>42</th>\n",
       "      <td>7.717534</td>\n",
       "      <td>0.041620</td>\n",
       "      <td>0.627488</td>\n",
       "      <td>0.002502</td>\n",
       "      <td>1990</td>\n",
       "      <td>2</td>\n",
       "      <td>{'randomforestclassifier__n_estimators': 1990,...</td>\n",
       "      <td>0.785113</td>\n",
       "      <td>0.734681</td>\n",
       "      <td>0.797500</td>\n",
       "      <td>0.735319</td>\n",
       "      <td>0.763153</td>\n",
       "      <td>0.028493</td>\n",
       "      <td>42</td>\n",
       "    </tr>\n",
       "    <tr>\n",
       "      <th>31</th>\n",
       "      <td>4.533411</td>\n",
       "      <td>0.080735</td>\n",
       "      <td>0.291613</td>\n",
       "      <td>0.013994</td>\n",
       "      <td>847</td>\n",
       "      <td>2</td>\n",
       "      <td>{'randomforestclassifier__n_estimators': 847, ...</td>\n",
       "      <td>0.782574</td>\n",
       "      <td>0.733965</td>\n",
       "      <td>0.800325</td>\n",
       "      <td>0.733618</td>\n",
       "      <td>0.762620</td>\n",
       "      <td>0.029505</td>\n",
       "      <td>43</td>\n",
       "    </tr>\n",
       "    <tr>\n",
       "      <th>19</th>\n",
       "      <td>4.288090</td>\n",
       "      <td>0.104223</td>\n",
       "      <td>0.227317</td>\n",
       "      <td>0.010839</td>\n",
       "      <td>533</td>\n",
       "      <td>2</td>\n",
       "      <td>{'randomforestclassifier__n_estimators': 533, ...</td>\n",
       "      <td>0.783793</td>\n",
       "      <td>0.736188</td>\n",
       "      <td>0.796077</td>\n",
       "      <td>0.731557</td>\n",
       "      <td>0.761904</td>\n",
       "      <td>0.028413</td>\n",
       "      <td>44</td>\n",
       "    </tr>\n",
       "    <tr>\n",
       "      <th>38</th>\n",
       "      <td>4.683733</td>\n",
       "      <td>0.030297</td>\n",
       "      <td>0.394169</td>\n",
       "      <td>0.005480</td>\n",
       "      <td>1317</td>\n",
       "      <td>1</td>\n",
       "      <td>{'randomforestclassifier__n_estimators': 1317,...</td>\n",
       "      <td>0.769058</td>\n",
       "      <td>0.720341</td>\n",
       "      <td>0.781234</td>\n",
       "      <td>0.701312</td>\n",
       "      <td>0.742987</td>\n",
       "      <td>0.033137</td>\n",
       "      <td>45</td>\n",
       "    </tr>\n",
       "    <tr>\n",
       "      <th>36</th>\n",
       "      <td>6.894754</td>\n",
       "      <td>0.006447</td>\n",
       "      <td>0.566241</td>\n",
       "      <td>0.002379</td>\n",
       "      <td>1949</td>\n",
       "      <td>1</td>\n",
       "      <td>{'randomforestclassifier__n_estimators': 1949,...</td>\n",
       "      <td>0.764881</td>\n",
       "      <td>0.722015</td>\n",
       "      <td>0.783142</td>\n",
       "      <td>0.700834</td>\n",
       "      <td>0.742718</td>\n",
       "      <td>0.032819</td>\n",
       "      <td>46</td>\n",
       "    </tr>\n",
       "    <tr>\n",
       "      <th>32</th>\n",
       "      <td>0.912492</td>\n",
       "      <td>0.008333</td>\n",
       "      <td>0.089132</td>\n",
       "      <td>0.015473</td>\n",
       "      <td>239</td>\n",
       "      <td>1</td>\n",
       "      <td>{'randomforestclassifier__n_estimators': 239, ...</td>\n",
       "      <td>0.760447</td>\n",
       "      <td>0.720036</td>\n",
       "      <td>0.784663</td>\n",
       "      <td>0.704055</td>\n",
       "      <td>0.742300</td>\n",
       "      <td>0.031946</td>\n",
       "      <td>47</td>\n",
       "    </tr>\n",
       "    <tr>\n",
       "      <th>2</th>\n",
       "      <td>4.710202</td>\n",
       "      <td>0.023088</td>\n",
       "      <td>0.333611</td>\n",
       "      <td>0.007426</td>\n",
       "      <td>910</td>\n",
       "      <td>1</td>\n",
       "      <td>{'randomforestclassifier__n_estimators': 910, ...</td>\n",
       "      <td>0.765688</td>\n",
       "      <td>0.718980</td>\n",
       "      <td>0.782192</td>\n",
       "      <td>0.702302</td>\n",
       "      <td>0.742290</td>\n",
       "      <td>0.032718</td>\n",
       "      <td>48</td>\n",
       "    </tr>\n",
       "    <tr>\n",
       "      <th>16</th>\n",
       "      <td>10.106917</td>\n",
       "      <td>0.011353</td>\n",
       "      <td>0.953641</td>\n",
       "      <td>0.010085</td>\n",
       "      <td>1735</td>\n",
       "      <td>1</td>\n",
       "      <td>{'randomforestclassifier__n_estimators': 1735,...</td>\n",
       "      <td>0.761751</td>\n",
       "      <td>0.723157</td>\n",
       "      <td>0.781275</td>\n",
       "      <td>0.700225</td>\n",
       "      <td>0.741602</td>\n",
       "      <td>0.031750</td>\n",
       "      <td>49</td>\n",
       "    </tr>\n",
       "    <tr>\n",
       "      <th>17</th>\n",
       "      <td>4.727472</td>\n",
       "      <td>0.123814</td>\n",
       "      <td>0.480468</td>\n",
       "      <td>0.114083</td>\n",
       "      <td>819</td>\n",
       "      <td>1</td>\n",
       "      <td>{'randomforestclassifier__n_estimators': 819, ...</td>\n",
       "      <td>0.762055</td>\n",
       "      <td>0.719974</td>\n",
       "      <td>0.783209</td>\n",
       "      <td>0.699782</td>\n",
       "      <td>0.741255</td>\n",
       "      <td>0.033036</td>\n",
       "      <td>50</td>\n",
       "    </tr>\n",
       "  </tbody>\n",
       "</table>\n",
       "</div>"
      ],
      "text/plain": [
       "    mean_fit_time  std_fit_time  mean_score_time  std_score_time  \\\n",
       "14       2.489000      0.011167         0.212594        0.003051   \n",
       "33       9.980579      0.016702         0.677492        0.010670   \n",
       "24       8.345735      0.078640         0.673350        0.003953   \n",
       "35       7.878765      0.015090         0.704688        0.009098   \n",
       "4        1.190135      0.009315         0.092595        0.004594   \n",
       "30       6.744145      0.047837         0.427197        0.008342   \n",
       "23       0.404872      0.015366         0.043468        0.004860   \n",
       "39       2.043129      0.009358         0.181073        0.002316   \n",
       "1        1.893156      0.015951         0.175556        0.024485   \n",
       "9        8.114312      0.057778         0.854939        0.004415   \n",
       "28       8.418411      0.172912         1.129297        0.086062   \n",
       "44       4.507118      0.009008         0.383162        0.001800   \n",
       "18      16.381842      0.043845         1.144802        0.026906   \n",
       "7        4.954454      0.052749         0.457459        0.022998   \n",
       "45       1.906427      0.012261         0.171564        0.006050   \n",
       "37       3.915263      0.022713         0.350269        0.012878   \n",
       "11       3.804386      0.014405         0.548734        0.008873   \n",
       "12       5.663994      0.013201         0.374863        0.019323   \n",
       "29       4.908944      0.080705         0.542352        0.033287   \n",
       "25       1.810558      0.016773         0.158324        0.005166   \n",
       "0        2.338026      0.005160         0.219033        0.013030   \n",
       "5        1.691863      0.029023         0.159174        0.012636   \n",
       "48       3.799805      0.054828         0.212819        0.003020   \n",
       "13       9.661640      0.079153         0.952410        0.016925   \n",
       "49       2.601123      0.015311         0.197766        0.014685   \n",
       "6        9.418054      0.022652         0.660215        0.006639   \n",
       "40       7.699308      0.015737         0.654080        0.004054   \n",
       "46       4.254685      0.018931         0.372566        0.001246   \n",
       "47       4.612009      0.020140         0.406669        0.005686   \n",
       "15       3.496918      0.053222         0.332442        0.028849   \n",
       "27       4.398072      0.017611         0.399760        0.008452   \n",
       "43       4.851665      0.016842         0.415337        0.001196   \n",
       "22       2.947493      0.015776         0.273775        0.025035   \n",
       "26       2.990431      0.064381         0.244127        0.007805   \n",
       "8        2.433893      0.013184         0.181344        0.003424   \n",
       "21       5.668642      0.062564         0.475981        0.006446   \n",
       "20       8.746665      0.034751         0.629853        0.004283   \n",
       "3        8.249586      0.027737         0.687322        0.011365   \n",
       "10       2.670197      0.014229         0.274514        0.014854   \n",
       "34       6.163949      0.056509         0.360827        0.005232   \n",
       "41       6.263944      0.024299         0.520216        0.020335   \n",
       "42       7.717534      0.041620         0.627488        0.002502   \n",
       "31       4.533411      0.080735         0.291613        0.013994   \n",
       "19       4.288090      0.104223         0.227317        0.010839   \n",
       "38       4.683733      0.030297         0.394169        0.005480   \n",
       "36       6.894754      0.006447         0.566241        0.002379   \n",
       "32       0.912492      0.008333         0.089132        0.015473   \n",
       "2        4.710202      0.023088         0.333611        0.007426   \n",
       "16      10.106917      0.011353         0.953641        0.010085   \n",
       "17       4.727472      0.123814         0.480468        0.114083   \n",
       "\n",
       "   param_randomforestclassifier__n_estimators  \\\n",
       "14                                        473   \n",
       "33                                       1618   \n",
       "24                                       1489   \n",
       "35                                       1592   \n",
       "4                                         175   \n",
       "30                                        931   \n",
       "23                                         68   \n",
       "39                                        412   \n",
       "1                                         245   \n",
       "9                                        1300   \n",
       "28                                       1442   \n",
       "44                                        902   \n",
       "18                                       1933   \n",
       "7                                         718   \n",
       "45                                        377   \n",
       "37                                        768   \n",
       "11                                        562   \n",
       "12                                        823   \n",
       "29                                        883   \n",
       "25                                        319   \n",
       "0                                         304   \n",
       "5                                         314   \n",
       "48                                        855   \n",
       "13                                       1663   \n",
       "49                                        553   \n",
       "6                                        1584   \n",
       "40                                       1694   \n",
       "46                                        927   \n",
       "47                                       1042   \n",
       "15                                        572   \n",
       "27                                        916   \n",
       "43                                       1088   \n",
       "22                                        620   \n",
       "26                                        596   \n",
       "8                                         465   \n",
       "21                                       1201   \n",
       "20                                       1461   \n",
       "3                                        1540   \n",
       "10                                        576   \n",
       "34                                       1105   \n",
       "41                                       1656   \n",
       "42                                       1990   \n",
       "31                                        847   \n",
       "19                                        533   \n",
       "38                                       1317   \n",
       "36                                       1949   \n",
       "32                                        239   \n",
       "2                                         910   \n",
       "16                                       1735   \n",
       "17                                        819   \n",
       "\n",
       "   param_randomforestclassifier__max_depth  \\\n",
       "14                                       9   \n",
       "33                                      10   \n",
       "24                                      11   \n",
       "35                                      11   \n",
       "4                                       12   \n",
       "30                                      10   \n",
       "23                                      10   \n",
       "39                                      10   \n",
       "1                                        9   \n",
       "9                                        9   \n",
       "28                                      10   \n",
       "44                                       8   \n",
       "18                                      12   \n",
       "7                                       12   \n",
       "45                                      12   \n",
       "37                                      13   \n",
       "11                                      12   \n",
       "12                                       8   \n",
       "29                                      13   \n",
       "25                                      11   \n",
       "0                                       13   \n",
       "5                                        7   \n",
       "48                                       6   \n",
       "13                                       6   \n",
       "49                                       6   \n",
       "6                                        6   \n",
       "40                                       6   \n",
       "46                                       6   \n",
       "47                                       5   \n",
       "15                                       5   \n",
       "27                                       5   \n",
       "43                                       5   \n",
       "22                                       4   \n",
       "26                                       4   \n",
       "8                                        4   \n",
       "21                                       3   \n",
       "20                                       3   \n",
       "3                                        3   \n",
       "10                                       3   \n",
       "34                                       2   \n",
       "41                                       2   \n",
       "42                                       2   \n",
       "31                                       2   \n",
       "19                                       2   \n",
       "38                                       1   \n",
       "36                                       1   \n",
       "32                                       1   \n",
       "2                                        1   \n",
       "16                                       1   \n",
       "17                                       1   \n",
       "\n",
       "                                               params  split0_test_score  \\\n",
       "14  {'randomforestclassifier__n_estimators': 473, ...           0.813952   \n",
       "33  {'randomforestclassifier__n_estimators': 1618,...           0.815488   \n",
       "24  {'randomforestclassifier__n_estimators': 1489,...           0.816366   \n",
       "35  {'randomforestclassifier__n_estimators': 1592,...           0.816012   \n",
       "4   {'randomforestclassifier__n_estimators': 175, ...           0.815803   \n",
       "30  {'randomforestclassifier__n_estimators': 931, ...           0.814421   \n",
       "23  {'randomforestclassifier__n_estimators': 68, '...           0.814623   \n",
       "39  {'randomforestclassifier__n_estimators': 412, ...           0.813966   \n",
       "1   {'randomforestclassifier__n_estimators': 245, ...           0.811652   \n",
       "9   {'randomforestclassifier__n_estimators': 1300,...           0.814140   \n",
       "28  {'randomforestclassifier__n_estimators': 1442,...           0.815382   \n",
       "44  {'randomforestclassifier__n_estimators': 902, ...           0.806359   \n",
       "18  {'randomforestclassifier__n_estimators': 1933,...           0.816265   \n",
       "7   {'randomforestclassifier__n_estimators': 718, ...           0.816504   \n",
       "45  {'randomforestclassifier__n_estimators': 377, ...           0.813961   \n",
       "37  {'randomforestclassifier__n_estimators': 768, ...           0.816191   \n",
       "11  {'randomforestclassifier__n_estimators': 562, ...           0.815237   \n",
       "12  {'randomforestclassifier__n_estimators': 823, ...           0.807265   \n",
       "29  {'randomforestclassifier__n_estimators': 883, ...           0.816378   \n",
       "25  {'randomforestclassifier__n_estimators': 319, ...           0.813713   \n",
       "0   {'randomforestclassifier__n_estimators': 304, ...           0.814890   \n",
       "5   {'randomforestclassifier__n_estimators': 314, ...           0.805941   \n",
       "48  {'randomforestclassifier__n_estimators': 855, ...           0.801963   \n",
       "13  {'randomforestclassifier__n_estimators': 1663,...           0.801268   \n",
       "49  {'randomforestclassifier__n_estimators': 553, ...           0.802625   \n",
       "6   {'randomforestclassifier__n_estimators': 1584,...           0.801590   \n",
       "40  {'randomforestclassifier__n_estimators': 1694,...           0.801443   \n",
       "46  {'randomforestclassifier__n_estimators': 927, ...           0.800744   \n",
       "47  {'randomforestclassifier__n_estimators': 1042,...           0.797626   \n",
       "15  {'randomforestclassifier__n_estimators': 572, ...           0.798040   \n",
       "27  {'randomforestclassifier__n_estimators': 916, ...           0.797571   \n",
       "43  {'randomforestclassifier__n_estimators': 1088,...           0.798040   \n",
       "22  {'randomforestclassifier__n_estimators': 620, ...           0.795607   \n",
       "26  {'randomforestclassifier__n_estimators': 596, ...           0.794301   \n",
       "8   {'randomforestclassifier__n_estimators': 465, ...           0.792991   \n",
       "21  {'randomforestclassifier__n_estimators': 1201,...           0.796904   \n",
       "20  {'randomforestclassifier__n_estimators': 1461,...           0.795658   \n",
       "3   {'randomforestclassifier__n_estimators': 1540,...           0.795639   \n",
       "10  {'randomforestclassifier__n_estimators': 576, ...           0.795258   \n",
       "34  {'randomforestclassifier__n_estimators': 1105,...           0.785030   \n",
       "41  {'randomforestclassifier__n_estimators': 1656,...           0.786686   \n",
       "42  {'randomforestclassifier__n_estimators': 1990,...           0.785113   \n",
       "31  {'randomforestclassifier__n_estimators': 847, ...           0.782574   \n",
       "19  {'randomforestclassifier__n_estimators': 533, ...           0.783793   \n",
       "38  {'randomforestclassifier__n_estimators': 1317,...           0.769058   \n",
       "36  {'randomforestclassifier__n_estimators': 1949,...           0.764881   \n",
       "32  {'randomforestclassifier__n_estimators': 239, ...           0.760447   \n",
       "2   {'randomforestclassifier__n_estimators': 910, ...           0.765688   \n",
       "16  {'randomforestclassifier__n_estimators': 1735,...           0.761751   \n",
       "17  {'randomforestclassifier__n_estimators': 819, ...           0.762055   \n",
       "\n",
       "    split1_test_score  split2_test_score  split3_test_score  mean_test_score  \\\n",
       "14           0.824299           0.833241           0.773783         0.811319   \n",
       "33           0.823451           0.830391           0.773810         0.810785   \n",
       "24           0.823209           0.829324           0.773582         0.810620   \n",
       "35           0.824646           0.828234           0.773496         0.810597   \n",
       "4            0.824422           0.830952           0.770864         0.810510   \n",
       "30           0.823857           0.829899           0.773578         0.810439   \n",
       "23           0.823615           0.831130           0.772182         0.810388   \n",
       "39           0.823474           0.829675           0.774271         0.810346   \n",
       "1            0.821226           0.834067           0.774152         0.810274   \n",
       "9            0.822302           0.831686           0.772857         0.810246   \n",
       "28           0.823310           0.830218           0.771963         0.810218   \n",
       "44           0.822580           0.836260           0.775388         0.810147   \n",
       "18           0.823953           0.826597           0.773327         0.810035   \n",
       "7            0.822730           0.826666           0.772606         0.809627   \n",
       "45           0.824912           0.825421           0.774111         0.809601   \n",
       "37           0.824085           0.826274           0.771320         0.809468   \n",
       "11           0.824867           0.826602           0.770937         0.809411   \n",
       "12           0.820437           0.834687           0.774604         0.809248   \n",
       "29           0.823567           0.825977           0.770217         0.809035   \n",
       "25           0.824372           0.827190           0.768512         0.808447   \n",
       "0            0.823627           0.825480           0.767627         0.807906   \n",
       "5            0.812999           0.835371           0.770741         0.806263   \n",
       "48           0.808220           0.836397           0.768922         0.803875   \n",
       "13           0.807290           0.837131           0.768252         0.803485   \n",
       "49           0.805607           0.835658           0.768630         0.803130   \n",
       "6            0.804641           0.837391           0.768735         0.803089   \n",
       "40           0.805749           0.836037           0.768069         0.802824   \n",
       "46           0.802808           0.837122           0.769487         0.802540   \n",
       "47           0.786163           0.834733           0.767946         0.796617   \n",
       "15           0.789501           0.832708           0.764941         0.796298   \n",
       "27           0.786729           0.831832           0.768033         0.796041   \n",
       "43           0.786474           0.833675           0.765397         0.795896   \n",
       "22           0.773204           0.825900           0.764284         0.789749   \n",
       "26           0.773473           0.825457           0.763678         0.789227   \n",
       "8            0.767362           0.827190           0.762752         0.787574   \n",
       "21           0.754011           0.816301           0.753755         0.780243   \n",
       "20           0.750144           0.817030           0.755182         0.779504   \n",
       "3            0.750732           0.817573           0.750782         0.778682   \n",
       "10           0.755246           0.811586           0.751357         0.778362   \n",
       "34           0.733522           0.803193           0.736185         0.764483   \n",
       "41           0.734311           0.802210           0.730066         0.763318   \n",
       "42           0.734681           0.797500           0.735319         0.763153   \n",
       "31           0.733965           0.800325           0.733618         0.762620   \n",
       "19           0.736188           0.796077           0.731557         0.761904   \n",
       "38           0.720341           0.781234           0.701312         0.742987   \n",
       "36           0.722015           0.783142           0.700834         0.742718   \n",
       "32           0.720036           0.784663           0.704055         0.742300   \n",
       "2            0.718980           0.782192           0.702302         0.742290   \n",
       "16           0.723157           0.781275           0.700225         0.741602   \n",
       "17           0.719974           0.783209           0.699782         0.741255   \n",
       "\n",
       "    std_test_score  rank_test_score  \n",
       "14        0.022721                1  \n",
       "33        0.021989                2  \n",
       "24        0.021870                3  \n",
       "35        0.021876                4  \n",
       "4         0.023512                5  \n",
       "30        0.021985                6  \n",
       "23        0.022819                7  \n",
       "39        0.021567                8  \n",
       "1         0.022320                9  \n",
       "9         0.022462               10  \n",
       "28        0.022702               11  \n",
       "44        0.022688               12  \n",
       "18        0.021531               13  \n",
       "7         0.021679               14  \n",
       "45        0.020995               15  \n",
       "37        0.022341               16  \n",
       "11        0.022631               17  \n",
       "12        0.022229               18  \n",
       "29        0.022688               19  \n",
       "25        0.023598               20  \n",
       "0         0.023596               21  \n",
       "5         0.023209               22  \n",
       "48        0.023989               23  \n",
       "13        0.024458               24  \n",
       "49        0.023742               25  \n",
       "6         0.024298               26  \n",
       "40        0.024091               27  \n",
       "46        0.023936               28  \n",
       "47        0.024419               29  \n",
       "15        0.024280               30  \n",
       "27        0.023209               31  \n",
       "43        0.024753               32  \n",
       "22        0.023788               33  \n",
       "26        0.023661               34  \n",
       "8         0.025610               35  \n",
       "21        0.027237               36  \n",
       "20        0.027941               37  \n",
       "3         0.028981               38  \n",
       "10        0.025753               39  \n",
       "34        0.030331               40  \n",
       "41        0.031646               41  \n",
       "42        0.028493               42  \n",
       "31        0.029505               43  \n",
       "19        0.028413               44  \n",
       "38        0.033137               45  \n",
       "36        0.032819               46  \n",
       "32        0.031946               47  \n",
       "2         0.032718               48  \n",
       "16        0.031750               49  \n",
       "17        0.033036               50  "
      ]
     },
     "execution_count": 21,
     "metadata": {},
     "output_type": "execute_result"
    }
   ],
   "source": [
    "rf_res = pd.DataFrame(rf_rand_two.cv_results_)\n",
    "rf_res.sort_values('mean_test_score',axis=0, ascending=False)"
   ]
  },
  {
   "cell_type": "markdown",
   "metadata": {},
   "source": [
    "<h3>Random Forest second results</h3>\n",
    "\n",
    "More iterations in the random search yeilded an almost non-existent improvement. I will explore other classifiers before doing a thorough grid search within a more confined range, which will take a good amount of time. "
   ]
  },
  {
   "cell_type": "markdown",
   "metadata": {},
   "source": [
    "<h3>Random Forest Conclusions</h3>\n",
    "\n",
    "The Random Forest Classifier performs well out of the gate with an auc of 0.863 on the training set and 0.894 on the test set. The optimal max depth appears to be either 5 or 6 and the optimal number of estimators is likely between 750 - 1750"
   ]
  },
  {
   "cell_type": "markdown",
   "metadata": {},
   "source": [
    "<h2>Logistic Regression</h2>\n"
   ]
  },
  {
   "cell_type": "code",
   "execution_count": 22,
   "metadata": {},
   "outputs": [],
   "source": [
    "from sklearn.linear_model import LogisticRegression"
   ]
  },
  {
   "cell_type": "code",
   "execution_count": 23,
   "metadata": {},
   "outputs": [],
   "source": [
    "pipe_lr = make_pipeline( \n",
    "    StandardScaler(),\n",
    "    LogisticRegression(max_iter=1000)\n",
    ")\n",
    "\n",
    "params = {'logisticregression__C': np.logspace(-2,6)}\n",
    "\n",
    "#starting with few iterations, and narrowing the ranges afterwards\n",
    "lr = RandomizedSearchCV(pipe_lr,param_distributions=params,cv=5, n_jobs=-1, verbose =10, \n",
    "                                 scoring = 'roc_auc',n_iter=20,random_state = 42)\n"
   ]
  },
  {
   "cell_type": "code",
   "execution_count": 24,
   "metadata": {
    "scrolled": true
   },
   "outputs": [
    {
     "name": "stdout",
     "output_type": "stream",
     "text": [
      "Fitting 5 folds for each of 20 candidates, totalling 100 fits\n"
     ]
    },
    {
     "name": "stderr",
     "output_type": "stream",
     "text": [
      "[Parallel(n_jobs=-1)]: Using backend LokyBackend with 8 concurrent workers.\n",
      "[Parallel(n_jobs=-1)]: Batch computation too fast (0.0261s.) Setting batch_size=2.\n",
      "[Parallel(n_jobs=-1)]: Done   2 tasks      | elapsed:    0.0s\n",
      "[Parallel(n_jobs=-1)]: Done   9 tasks      | elapsed:    0.1s\n",
      "[Parallel(n_jobs=-1)]: Done  16 tasks      | elapsed:    0.2s\n",
      "[Parallel(n_jobs=-1)]: Batch computation too fast (0.1555s.) Setting batch_size=4.\n",
      "[Parallel(n_jobs=-1)]: Done  34 tasks      | elapsed:    0.3s\n",
      "[Parallel(n_jobs=-1)]: Done  56 tasks      | elapsed:    0.4s\n",
      "[Parallel(n_jobs=-1)]: Done  85 tasks      | elapsed:    0.5s\n",
      "[Parallel(n_jobs=-1)]: Done  96 out of 100 | elapsed:    0.6s remaining:    0.0s\n",
      "[Parallel(n_jobs=-1)]: Done 100 out of 100 | elapsed:    0.6s finished\n"
     ]
    },
    {
     "data": {
      "text/plain": [
       "RandomizedSearchCV(cv=5,\n",
       "                   estimator=Pipeline(steps=[('standardscaler',\n",
       "                                              StandardScaler()),\n",
       "                                             ('logisticregression',\n",
       "                                              LogisticRegression(max_iter=1000))]),\n",
       "                   n_iter=20, n_jobs=-1,\n",
       "                   param_distributions={'logisticregression__C': array([1.00000000e-02, 1.45634848e-02, 2.12095089e-02, 3.08884360e-02,\n",
       "       4.49843267e-02, 6.55128557e-02, 9.54095476e-02, 1.38949549e-01,\n",
       "       2.02358965e-0...\n",
       "       3.72759372e+02, 5.42867544e+02, 7.90604321e+02, 1.15139540e+03,\n",
       "       1.67683294e+03, 2.44205309e+03, 3.55648031e+03, 5.17947468e+03,\n",
       "       7.54312006e+03, 1.09854114e+04, 1.59985872e+04, 2.32995181e+04,\n",
       "       3.39322177e+04, 4.94171336e+04, 7.19685673e+04, 1.04811313e+05,\n",
       "       1.52641797e+05, 2.22299648e+05, 3.23745754e+05, 4.71486636e+05,\n",
       "       6.86648845e+05, 1.00000000e+06])},\n",
       "                   random_state=42, scoring='roc_auc', verbose=10)"
      ]
     },
     "execution_count": 24,
     "metadata": {},
     "output_type": "execute_result"
    }
   ],
   "source": [
    "lr.fit(X,y)"
   ]
  },
  {
   "cell_type": "code",
   "execution_count": 25,
   "metadata": {},
   "outputs": [
    {
     "data": {
      "text/plain": [
       "{'logisticregression__C': 0.04498432668969444}"
      ]
     },
     "execution_count": 25,
     "metadata": {},
     "output_type": "execute_result"
    }
   ],
   "source": [
    "lr.best_params_"
   ]
  },
  {
   "cell_type": "code",
   "execution_count": 26,
   "metadata": {},
   "outputs": [
    {
     "data": {
      "text/plain": [
       "0.6487733039161612"
      ]
     },
     "execution_count": 26,
     "metadata": {},
     "output_type": "execute_result"
    }
   ],
   "source": [
    "lr.best_score_"
   ]
  },
  {
   "cell_type": "markdown",
   "metadata": {},
   "source": [
    "<h3>ROC auc - Logistic Regression</h3>\n"
   ]
  },
  {
   "cell_type": "code",
   "execution_count": 27,
   "metadata": {},
   "outputs": [
    {
     "data": {
      "image/png": "[encoded data removed]",
      "text/plain": [
       "<Figure size 432x288 with 1 Axes>"
      ]
     },
     "metadata": {},
     "output_type": "display_data"
    }
   ],
   "source": [
    "c = roc_plot(lr.best_estimator_,X_train,y_train)"
   ]
  },
  {
   "cell_type": "markdown",
   "metadata": {},
   "source": [
    "<h3>Evaluating with test set</h3>"
   ]
  },
  {
   "cell_type": "code",
   "execution_count": 28,
   "metadata": {},
   "outputs": [
    {
     "name": "stdout",
     "output_type": "stream",
     "text": [
      "Evaluating the classifier on the test set, area under the roc curve is: 0.727\n"
     ]
    }
   ],
   "source": [
    "test_comp(lr.best_estimator_)"
   ]
  },
  {
   "cell_type": "markdown",
   "metadata": {},
   "source": [
    "<h3>Logistic Regression Conclusions</h3>\n",
    "\n",
    "The logistic regression results were considerably worse on the training set than random forest. But surprisingly close for the test set. I prefer the random forest classifier, and I expect that on a different test set, I would see different results. "
   ]
  },
  {
   "cell_type": "markdown",
   "metadata": {},
   "source": [
    "<h2>KNN </h2>\n",
    "\n",
    "I don't expect KNN to give better results due to the high-dimensionality of the feature space. I expect PCA to be necessary, though I will try it without first. "
   ]
  },
  {
   "cell_type": "code",
   "execution_count": 29,
   "metadata": {
    "scrolled": true
   },
   "outputs": [
    {
     "name": "stdout",
     "output_type": "stream",
     "text": [
      "Fitting 5 folds for each of 199 candidates, totalling 995 fits\n"
     ]
    },
    {
     "name": "stderr",
     "output_type": "stream",
     "text": [
      "/Users/jon/opt/anaconda3/lib/python3.8/site-packages/sklearn/model_selection/_search.py:278: UserWarning: The total space of parameters 199 is smaller than n_iter=200. Running 199 iterations. For exhaustive searches, use GridSearchCV.\n",
      "  warnings.warn(\n",
      "[Parallel(n_jobs=-1)]: Using backend LokyBackend with 8 concurrent workers.\n",
      "[Parallel(n_jobs=-1)]: Batch computation too fast (0.1381s.) Setting batch_size=2.\n",
      "[Parallel(n_jobs=-1)]: Done   2 tasks      | elapsed:    0.2s\n",
      "[Parallel(n_jobs=-1)]: Done   9 tasks      | elapsed:    0.2s\n",
      "[Parallel(n_jobs=-1)]: Done  16 tasks      | elapsed:    0.3s\n",
      "[Parallel(n_jobs=-1)]: Done  34 tasks      | elapsed:    0.6s\n",
      "[Parallel(n_jobs=-1)]: Done  52 tasks      | elapsed:    0.8s\n",
      "[Parallel(n_jobs=-1)]: Done  74 tasks      | elapsed:    1.0s\n",
      "[Parallel(n_jobs=-1)]: Done  96 tasks      | elapsed:    1.3s\n",
      "[Parallel(n_jobs=-1)]: Done 122 tasks      | elapsed:    1.6s\n",
      "[Parallel(n_jobs=-1)]: Done 148 tasks      | elapsed:    2.0s\n",
      "[Parallel(n_jobs=-1)]: Done 178 tasks      | elapsed:    2.4s\n",
      "[Parallel(n_jobs=-1)]: Done 208 tasks      | elapsed:    2.8s\n",
      "[Parallel(n_jobs=-1)]: Done 242 tasks      | elapsed:    3.3s\n",
      "[Parallel(n_jobs=-1)]: Done 276 tasks      | elapsed:    3.8s\n",
      "[Parallel(n_jobs=-1)]: Done 314 tasks      | elapsed:    4.4s\n",
      "[Parallel(n_jobs=-1)]: Done 352 tasks      | elapsed:    5.0s\n",
      "[Parallel(n_jobs=-1)]: Done 394 tasks      | elapsed:    5.8s\n",
      "[Parallel(n_jobs=-1)]: Done 436 tasks      | elapsed:    6.5s\n",
      "[Parallel(n_jobs=-1)]: Done 482 tasks      | elapsed:    7.4s\n",
      "[Parallel(n_jobs=-1)]: Done 528 tasks      | elapsed:    8.3s\n",
      "[Parallel(n_jobs=-1)]: Done 578 tasks      | elapsed:    9.4s\n",
      "[Parallel(n_jobs=-1)]: Done 628 tasks      | elapsed:   10.6s\n",
      "[Parallel(n_jobs=-1)]: Done 682 tasks      | elapsed:   11.8s\n",
      "[Parallel(n_jobs=-1)]: Done 736 tasks      | elapsed:   13.2s\n",
      "[Parallel(n_jobs=-1)]: Done 794 tasks      | elapsed:   14.7s\n",
      "[Parallel(n_jobs=-1)]: Done 852 tasks      | elapsed:   16.4s\n",
      "[Parallel(n_jobs=-1)]: Done 914 tasks      | elapsed:   18.1s\n",
      "[Parallel(n_jobs=-1)]: Done 980 out of 995 | elapsed:   20.1s remaining:    0.3s\n",
      "[Parallel(n_jobs=-1)]: Done 995 out of 995 | elapsed:   20.4s finished\n"
     ]
    },
    {
     "data": {
      "text/plain": [
       "RandomizedSearchCV(cv=5,\n",
       "                   estimator=Pipeline(steps=[('standardscaler',\n",
       "                                              StandardScaler()),\n",
       "                                             ('kneighborsclassifier',\n",
       "                                              KNeighborsClassifier(weights='distance'))]),\n",
       "                   n_iter=200, n_jobs=-1,\n",
       "                   param_distributions={'kneighborsclassifier__n_neighbors': array([  1,   2,   3,   4,   5,   6,   7,   8,   9,  10,  11,  12,  13,\n",
       "        14,  15,  16,  17,  18,  19,  20,  21,  22,  23,  24,  25,  26,\n",
       "        27,  28,  29,  30,  31,  32,  33,  34,  35,  36,  37,  38,  39,\n",
       "        40,...\n",
       "       118, 119, 120, 121, 122, 123, 124, 125, 126, 127, 128, 129, 130,\n",
       "       131, 132, 133, 134, 135, 136, 137, 138, 139, 140, 141, 142, 143,\n",
       "       144, 145, 146, 147, 148, 149, 150, 151, 152, 153, 154, 155, 156,\n",
       "       157, 158, 159, 160, 161, 162, 163, 164, 165, 166, 167, 168, 169,\n",
       "       170, 171, 172, 173, 174, 175, 176, 177, 178, 179, 180, 181, 182,\n",
       "       183, 184, 185, 186, 187, 188, 189, 190, 191, 192, 193, 194, 195,\n",
       "       196, 197, 198, 199])},\n",
       "                   random_state=42, scoring='roc_auc', verbose=10)"
      ]
     },
     "execution_count": 29,
     "metadata": {},
     "output_type": "execute_result"
    }
   ],
   "source": [
    "from sklearn.neighbors import KNeighborsClassifier\n",
    "\n",
    "pipe_knn = make_pipeline( \n",
    "    StandardScaler(),\n",
    "    KNeighborsClassifier(weights='distance')\n",
    ")\n",
    "\n",
    "params = {'kneighborsclassifier__n_neighbors': np.arange(1,200)}\n",
    "    \n",
    "\n",
    "#starting with few iterations, and narrowing the ranges afterwards\n",
    "knn = RandomizedSearchCV(pipe_knn,param_distributions=params,cv=5, n_jobs=-1, verbose =10, \n",
    "                                 scoring = 'roc_auc',n_iter=200,random_state = 42)\n",
    "\n",
    "knn.fit(X_train,y_train)"
   ]
  },
  {
   "cell_type": "code",
   "execution_count": 30,
   "metadata": {},
   "outputs": [
    {
     "data": {
      "text/plain": [
       "{'kneighborsclassifier__n_neighbors': 164}"
      ]
     },
     "execution_count": 30,
     "metadata": {},
     "output_type": "execute_result"
    }
   ],
   "source": [
    "knn.best_params_"
   ]
  },
  {
   "cell_type": "code",
   "execution_count": 31,
   "metadata": {},
   "outputs": [
    {
     "data": {
      "text/plain": [
       "0.8091892545413615"
      ]
     },
     "execution_count": 31,
     "metadata": {},
     "output_type": "execute_result"
    }
   ],
   "source": [
    "knn.best_score_"
   ]
  },
  {
   "cell_type": "code",
   "execution_count": 32,
   "metadata": {},
   "outputs": [
    {
     "data": {
      "image/png": "[encoded data removed]",
      "text/plain": [
       "<Figure size 432x288 with 1 Axes>"
      ]
     },
     "metadata": {},
     "output_type": "display_data"
    }
   ],
   "source": [
    "c = roc_plot(knn.best_estimator_,X_train,y_train)"
   ]
  },
  {
   "cell_type": "code",
   "execution_count": 33,
   "metadata": {},
   "outputs": [
    {
     "name": "stdout",
     "output_type": "stream",
     "text": [
      "Evaluating the classifier on the test set, area under the roc curve is: 0.811\n"
     ]
    }
   ],
   "source": [
    "test_comp(knn.best_estimator_)"
   ]
  },
  {
   "cell_type": "markdown",
   "metadata": {},
   "source": [
    "Knn performed better than expected, with a max aoc of 0.827 for train and similar for test. Let's see if PCA improves"
   ]
  },
  {
   "cell_type": "code",
   "execution_count": 34,
   "metadata": {
    "scrolled": true
   },
   "outputs": [
    {
     "name": "stdout",
     "output_type": "stream",
     "text": [
      "Fitting 5 folds for each of 200 candidates, totalling 1000 fits\n"
     ]
    },
    {
     "name": "stderr",
     "output_type": "stream",
     "text": [
      "[Parallel(n_jobs=-1)]: Using backend LokyBackend with 8 concurrent workers.\n",
      "[Parallel(n_jobs=-1)]: Batch computation too fast (0.0458s.) Setting batch_size=2.\n",
      "[Parallel(n_jobs=-1)]: Done   2 tasks      | elapsed:    0.1s\n",
      "[Parallel(n_jobs=-1)]: Done   9 tasks      | elapsed:    0.2s\n",
      "[Parallel(n_jobs=-1)]: Done  16 tasks      | elapsed:    0.3s\n",
      "[Parallel(n_jobs=-1)]: Done  34 tasks      | elapsed:    0.5s\n",
      "[Parallel(n_jobs=-1)]: Done  52 tasks      | elapsed:    0.7s\n",
      "[Parallel(n_jobs=-1)]: Done  74 tasks      | elapsed:    1.0s\n",
      "[Parallel(n_jobs=-1)]: Done  96 tasks      | elapsed:    1.2s\n",
      "[Parallel(n_jobs=-1)]: Done 122 tasks      | elapsed:    1.6s\n",
      "[Parallel(n_jobs=-1)]: Done 148 tasks      | elapsed:    2.0s\n",
      "[Parallel(n_jobs=-1)]: Done 178 tasks      | elapsed:    2.4s\n",
      "[Parallel(n_jobs=-1)]: Done 208 tasks      | elapsed:    2.8s\n",
      "[Parallel(n_jobs=-1)]: Done 242 tasks      | elapsed:    3.2s\n",
      "[Parallel(n_jobs=-1)]: Done 276 tasks      | elapsed:    3.7s\n",
      "[Parallel(n_jobs=-1)]: Done 314 tasks      | elapsed:    4.1s\n",
      "[Parallel(n_jobs=-1)]: Done 352 tasks      | elapsed:    4.7s\n",
      "[Parallel(n_jobs=-1)]: Done 394 tasks      | elapsed:    5.3s\n",
      "[Parallel(n_jobs=-1)]: Done 436 tasks      | elapsed:    5.8s\n",
      "[Parallel(n_jobs=-1)]: Done 482 tasks      | elapsed:    6.4s\n",
      "[Parallel(n_jobs=-1)]: Done 528 tasks      | elapsed:    7.0s\n",
      "[Parallel(n_jobs=-1)]: Done 578 tasks      | elapsed:    7.7s\n",
      "[Parallel(n_jobs=-1)]: Done 628 tasks      | elapsed:    8.3s\n",
      "[Parallel(n_jobs=-1)]: Done 682 tasks      | elapsed:    9.1s\n",
      "[Parallel(n_jobs=-1)]: Done 736 tasks      | elapsed:    9.7s\n",
      "[Parallel(n_jobs=-1)]: Done 794 tasks      | elapsed:   10.5s\n",
      "[Parallel(n_jobs=-1)]: Done 852 tasks      | elapsed:   11.3s\n",
      "[Parallel(n_jobs=-1)]: Done 914 tasks      | elapsed:   12.2s\n",
      "[Parallel(n_jobs=-1)]: Done 976 tasks      | elapsed:   13.2s\n",
      "[Parallel(n_jobs=-1)]: Done 1000 out of 1000 | elapsed:   13.4s finished\n"
     ]
    },
    {
     "data": {
      "text/plain": [
       "RandomizedSearchCV(cv=5,\n",
       "                   estimator=Pipeline(steps=[('standardscaler',\n",
       "                                              StandardScaler()),\n",
       "                                             ('pca', PCA()),\n",
       "                                             ('kneighborsclassifier',\n",
       "                                              KNeighborsClassifier(weights='distance'))]),\n",
       "                   n_iter=200, n_jobs=-1,\n",
       "                   param_distributions={'kneighborsclassifier__n_neighbors': array([ 50,  51,  52,  53,  54,  55,  56,  57,  58,  59,  60,  61,  62,\n",
       "        63,  64,  65,  66,  67,  68,  69,  70,  71,  72,  73,  74,  75,\n",
       "        76,  77,  78,  79,  80,  81,  8...\n",
       "       180, 181, 182, 183, 184, 185, 186, 187, 188, 189, 190, 191, 192,\n",
       "       193, 194, 195, 196, 197, 198, 199, 200, 201, 202, 203, 204, 205,\n",
       "       206, 207, 208, 209, 210, 211, 212, 213, 214, 215, 216, 217, 218,\n",
       "       219, 220, 221, 222, 223, 224, 225, 226, 227, 228, 229, 230, 231,\n",
       "       232, 233, 234, 235, 236, 237, 238, 239, 240, 241, 242, 243, 244,\n",
       "       245, 246, 247, 248, 249]),\n",
       "                                        'pca__n_components': array([2, 3, 4])},\n",
       "                   random_state=42, scoring='roc_auc', verbose=10)"
      ]
     },
     "execution_count": 34,
     "metadata": {},
     "output_type": "execute_result"
    }
   ],
   "source": [
    "from sklearn.decomposition import PCA\n",
    "\n",
    "pipe_knn = make_pipeline( \n",
    "    StandardScaler(),\n",
    "    PCA(),\n",
    "    KNeighborsClassifier(weights='distance')\n",
    ")\n",
    "\n",
    "params = {'pca__n_components' : np.arange(2,X.shape[1]),\n",
    "          'kneighborsclassifier__n_neighbors': np.arange(50,250)}\n",
    "    \n",
    "\n",
    "#starting with few iterations, and narrowing the ranges afterwards\n",
    "knn = RandomizedSearchCV(pipe_knn,param_distributions=params,cv=5, n_jobs=-1, verbose =10, \n",
    "                                 scoring = 'roc_auc',n_iter=200,random_state = 42)\n",
    "\n",
    "knn.fit(X_train,y_train)"
   ]
  },
  {
   "cell_type": "code",
   "execution_count": 35,
   "metadata": {},
   "outputs": [
    {
     "data": {
      "text/plain": [
       "{'pca__n_components': 3, 'kneighborsclassifier__n_neighbors': 238}"
      ]
     },
     "execution_count": 35,
     "metadata": {},
     "output_type": "execute_result"
    }
   ],
   "source": [
    "knn.best_params_"
   ]
  },
  {
   "cell_type": "code",
   "execution_count": 36,
   "metadata": {},
   "outputs": [
    {
     "data": {
      "text/plain": [
       "0.8132308304746545"
      ]
     },
     "execution_count": 36,
     "metadata": {},
     "output_type": "execute_result"
    }
   ],
   "source": [
    "knn.best_score_"
   ]
  },
  {
   "cell_type": "code",
   "execution_count": 37,
   "metadata": {},
   "outputs": [
    {
     "data": {
      "image/png": "[encoded data removed]",
      "text/plain": [
       "<Figure size 432x288 with 1 Axes>"
      ]
     },
     "metadata": {},
     "output_type": "display_data"
    }
   ],
   "source": [
    "c = roc_plot(knn.best_estimator_,X_train,y_train)"
   ]
  },
  {
   "cell_type": "markdown",
   "metadata": {},
   "source": [
    "<h3>Evaluating with test set</h3>"
   ]
  },
  {
   "cell_type": "code",
   "execution_count": 38,
   "metadata": {},
   "outputs": [
    {
     "name": "stdout",
     "output_type": "stream",
     "text": [
      "Evaluating the classifier on the test set, area under the roc curve is: 0.812\n"
     ]
    }
   ],
   "source": [
    "test_comp(knn.best_estimator_)"
   ]
  },
  {
   "cell_type": "markdown",
   "metadata": {},
   "source": [
    "<h3>KNN Conclusions</h3>\n",
    "\n",
    "PCA did not improve things by much, if at all. It's certainly not worth it to lose feature importances. "
   ]
  },
  {
   "cell_type": "markdown",
   "metadata": {},
   "source": [
    "<h2>SVC</h2>\n",
    "\n",
    "SVC is supposedly good in high dimension data, and the set I have is relatively high dimension. "
   ]
  },
  {
   "cell_type": "code",
   "execution_count": 39,
   "metadata": {
    "scrolled": true
   },
   "outputs": [
    {
     "name": "stdout",
     "output_type": "stream",
     "text": [
      "Fitting 5 folds for each of 10 candidates, totalling 50 fits\n"
     ]
    },
    {
     "name": "stderr",
     "output_type": "stream",
     "text": [
      "[Parallel(n_jobs=-1)]: Using backend LokyBackend with 8 concurrent workers.\n",
      "[Parallel(n_jobs=-1)]: Done   2 tasks      | elapsed:    1.0s\n",
      "[Parallel(n_jobs=-1)]: Done   9 tasks      | elapsed:    2.5s\n",
      "[Parallel(n_jobs=-1)]: Done  16 tasks      | elapsed:    3.8s\n",
      "[Parallel(n_jobs=-1)]: Done  25 tasks      | elapsed:    5.3s\n",
      "[Parallel(n_jobs=-1)]: Done  34 tasks      | elapsed:    7.3s\n",
      "[Parallel(n_jobs=-1)]: Done  41 out of  50 | elapsed:    8.6s remaining:    1.9s\n",
      "[Parallel(n_jobs=-1)]: Done  47 out of  50 | elapsed:    9.4s remaining:    0.6s\n",
      "[Parallel(n_jobs=-1)]: Done  50 out of  50 | elapsed:    9.8s finished\n"
     ]
    },
    {
     "data": {
      "text/plain": [
       "RandomizedSearchCV(cv=5,\n",
       "                   estimator=Pipeline(steps=[('standardscaler',\n",
       "                                              StandardScaler()),\n",
       "                                             ('svc', SVC(probability=True))]),\n",
       "                   n_jobs=-1,\n",
       "                   param_distributions={'svc__C': array([1.00000000e-05, 1.59985872e-05, 2.55954792e-05, 4.09491506e-05,\n",
       "       6.55128557e-05, 1.04811313e-04, 1.67683294e-04, 2.68269580e-04,\n",
       "       4.29193426e-04, 6.86648845e-04, 1.09854114e-03, 1.75751062e-03,\n",
       "       2.811...\n",
       "       5.17947468e+00, 8.28642773e+00, 1.32571137e+01, 2.12095089e+01,\n",
       "       3.39322177e+01, 5.42867544e+01, 8.68511374e+01, 1.38949549e+02,\n",
       "       2.22299648e+02, 3.55648031e+02, 5.68986603e+02, 9.10298178e+02,\n",
       "       1.45634848e+03, 2.32995181e+03, 3.72759372e+03, 5.96362332e+03,\n",
       "       9.54095476e+03, 1.52641797e+04, 2.44205309e+04, 3.90693994e+04,\n",
       "       6.25055193e+04, 1.00000000e+05])},\n",
       "                   random_state=42, scoring='roc_auc', verbose=10)"
      ]
     },
     "execution_count": 39,
     "metadata": {},
     "output_type": "execute_result"
    }
   ],
   "source": [
    "from sklearn.svm import SVC\n",
    "\n",
    "pipe_svc = make_pipeline( \n",
    "    StandardScaler(),\n",
    "    SVC(probability=True)\n",
    ")\n",
    "\n",
    "params = {'svc__C': np.logspace(-5,5)}\n",
    "    \n",
    "\n",
    "#starting with few iterations, and narrowing the ranges afterwards\n",
    "svc = RandomizedSearchCV(pipe_svc,param_distributions=params,cv=5, n_jobs=-1, verbose =10, \n",
    "                                 scoring = 'roc_auc',n_iter=10,random_state = 42)\n",
    "\n",
    "svc.fit(X_train,y_train)"
   ]
  },
  {
   "cell_type": "code",
   "execution_count": 40,
   "metadata": {},
   "outputs": [
    {
     "data": {
      "text/plain": [
       "{'svc__C': 13.257113655901108}"
      ]
     },
     "execution_count": 40,
     "metadata": {},
     "output_type": "execute_result"
    }
   ],
   "source": [
    "svc.best_params_"
   ]
  },
  {
   "cell_type": "code",
   "execution_count": 41,
   "metadata": {},
   "outputs": [
    {
     "data": {
      "text/plain": [
       "0.628167241855859"
      ]
     },
     "execution_count": 41,
     "metadata": {},
     "output_type": "execute_result"
    }
   ],
   "source": [
    "svc.best_score_"
   ]
  },
  {
   "cell_type": "code",
   "execution_count": 42,
   "metadata": {},
   "outputs": [
    {
     "data": {
      "image/png": "[encoded data removed]",
      "text/plain": [
       "<Figure size 432x288 with 1 Axes>"
      ]
     },
     "metadata": {},
     "output_type": "display_data"
    }
   ],
   "source": [
    "c = roc_plot(svc.best_estimator_,X_train,y_train)"
   ]
  },
  {
   "cell_type": "markdown",
   "metadata": {},
   "source": [
    "<h3>Evaluating with test set</h3>"
   ]
  },
  {
   "cell_type": "code",
   "execution_count": 43,
   "metadata": {},
   "outputs": [
    {
     "name": "stdout",
     "output_type": "stream",
     "text": [
      "Evaluating the classifier on the test set, area under the roc curve is: 0.444\n"
     ]
    }
   ],
   "source": [
    "test_comp(svc.best_estimator_)"
   ]
  },
  {
   "cell_type": "markdown",
   "metadata": {},
   "source": [
    "<h3>SVC Conclusions</h3>\n",
    "\n",
    "SVC clearly performs worse"
   ]
  },
  {
   "cell_type": "markdown",
   "metadata": {},
   "source": [
    "<h1>Choosing a classifier</h1>\n",
    "\n",
    "Two models stand out as options to ultimately choose -- Random Forest and KNN. The random forest model has a feature importance attribute, which is a great piece of data, so I will choose it. "
   ]
  },
  {
   "cell_type": "code",
   "execution_count": 44,
   "metadata": {
    "scrolled": true
   },
   "outputs": [
    {
     "name": "stdout",
     "output_type": "stream",
     "text": [
      "Fitting 5 folds for each of 150 candidates, totalling 750 fits\n"
     ]
    },
    {
     "name": "stderr",
     "output_type": "stream",
     "text": [
      "[Parallel(n_jobs=-1)]: Using backend LokyBackend with 8 concurrent workers.\n",
      "[Parallel(n_jobs=-1)]: Done   2 tasks      | elapsed:    3.4s\n",
      "[Parallel(n_jobs=-1)]: Done   9 tasks      | elapsed:    8.0s\n",
      "[Parallel(n_jobs=-1)]: Done  16 tasks      | elapsed:    9.6s\n",
      "[Parallel(n_jobs=-1)]: Done  25 tasks      | elapsed:   19.3s\n",
      "[Parallel(n_jobs=-1)]: Done  34 tasks      | elapsed:   24.6s\n",
      "[Parallel(n_jobs=-1)]: Done  45 tasks      | elapsed:   31.0s\n",
      "[Parallel(n_jobs=-1)]: Done  56 tasks      | elapsed:   38.7s\n",
      "[Parallel(n_jobs=-1)]: Done  69 tasks      | elapsed:   52.1s\n",
      "[Parallel(n_jobs=-1)]: Done  82 tasks      | elapsed:  1.1min\n",
      "[Parallel(n_jobs=-1)]: Done  97 tasks      | elapsed:  1.4min\n",
      "[Parallel(n_jobs=-1)]: Done 112 tasks      | elapsed:  1.6min\n",
      "[Parallel(n_jobs=-1)]: Done 129 tasks      | elapsed:  1.9min\n",
      "[Parallel(n_jobs=-1)]: Done 146 tasks      | elapsed:  2.1min\n",
      "[Parallel(n_jobs=-1)]: Done 165 tasks      | elapsed:  2.3min\n",
      "[Parallel(n_jobs=-1)]: Done 184 tasks      | elapsed:  2.6min\n",
      "[Parallel(n_jobs=-1)]: Done 205 tasks      | elapsed:  2.9min\n",
      "[Parallel(n_jobs=-1)]: Done 226 tasks      | elapsed:  3.5min\n",
      "[Parallel(n_jobs=-1)]: Done 249 tasks      | elapsed:  4.1min\n",
      "[Parallel(n_jobs=-1)]: Done 272 tasks      | elapsed:  4.4min\n",
      "[Parallel(n_jobs=-1)]: Done 297 tasks      | elapsed:  4.9min\n",
      "[Parallel(n_jobs=-1)]: Done 322 tasks      | elapsed:  5.5min\n",
      "[Parallel(n_jobs=-1)]: Done 349 tasks      | elapsed:  6.2min\n",
      "[Parallel(n_jobs=-1)]: Done 376 tasks      | elapsed:  6.9min\n",
      "[Parallel(n_jobs=-1)]: Done 405 tasks      | elapsed:  7.3min\n",
      "[Parallel(n_jobs=-1)]: Done 434 tasks      | elapsed:  7.8min\n",
      "[Parallel(n_jobs=-1)]: Done 465 tasks      | elapsed:  8.4min\n",
      "[Parallel(n_jobs=-1)]: Done 496 tasks      | elapsed:  9.1min\n",
      "[Parallel(n_jobs=-1)]: Done 529 tasks      | elapsed:  9.5min\n",
      "[Parallel(n_jobs=-1)]: Done 562 tasks      | elapsed: 10.2min\n",
      "[Parallel(n_jobs=-1)]: Done 597 tasks      | elapsed: 11.0min\n",
      "[Parallel(n_jobs=-1)]: Done 632 tasks      | elapsed: 11.8min\n",
      "[Parallel(n_jobs=-1)]: Done 669 tasks      | elapsed: 12.3min\n",
      "[Parallel(n_jobs=-1)]: Done 706 tasks      | elapsed: 13.1min\n",
      "[Parallel(n_jobs=-1)]: Done 750 out of 750 | elapsed: 14.2min finished\n"
     ]
    },
    {
     "data": {
      "text/plain": [
       "GridSearchCV(cv=5,\n",
       "             estimator=Pipeline(steps=[('standardscaler', StandardScaler()),\n",
       "                                       ('randomforestclassifier',\n",
       "                                        RandomForestClassifier())]),\n",
       "             n_jobs=-1,\n",
       "             param_grid={'randomforestclassifier__max_depth': array([4, 5, 6, 7, 8, 9]),\n",
       "                         'randomforestclassifier__n_estimators': array([ 750,  800,  850,  900,  950, 1000, 1050, 1100, 1150, 1200, 1250,\n",
       "       1300, 1350, 1400, 1450, 1500, 1550, 1600, 1650, 1700, 1750, 1800,\n",
       "       1850, 1900, 1950])},\n",
       "             scoring='roc_auc', verbose=10)"
      ]
     },
     "execution_count": 44,
     "metadata": {},
     "output_type": "execute_result"
    }
   ],
   "source": [
    "from sklearn.model_selection import GridSearchCV\n",
    "\n",
    "pipe_rf = make_pipeline( \n",
    "    StandardScaler(), \n",
    "    RandomForestClassifier()\n",
    ")\n",
    "\n",
    "params = {'randomforestclassifier__n_estimators': np.arange(750,2000,50),\n",
    "          'randomforestclassifier__max_depth' :  np.arange(4,10)}\n",
    "\n",
    "rf = GridSearchCV(pipe,param_grid=params,cv=5, n_jobs=-1, scoring = 'roc_auc',verbose=10)\n",
    "\n",
    "rf.fit(X_train,y_train)"
   ]
  },
  {
   "cell_type": "code",
   "execution_count": 45,
   "metadata": {
    "scrolled": false
   },
   "outputs": [
    {
     "data": {
      "text/plain": [
       "{'randomforestclassifier__max_depth': 9,\n",
       " 'randomforestclassifier__n_estimators': 750}"
      ]
     },
     "execution_count": 45,
     "metadata": {},
     "output_type": "execute_result"
    }
   ],
   "source": [
    "rf.best_params_"
   ]
  },
  {
   "cell_type": "markdown",
   "metadata": {},
   "source": [
    "***Evaluating Performance***"
   ]
  },
  {
   "cell_type": "code",
   "execution_count": 73,
   "metadata": {},
   "outputs": [
    {
     "data": {
      "image/png": "[encoded data removed]",
      "text/plain": [
       "<Figure size 432x288 with 1 Axes>"
      ]
     },
     "metadata": {},
     "output_type": "display_data"
    }
   ],
   "source": [
    "c = roc_plot(rf.best_estimator_,X_train,y_train)"
   ]
  },
  {
   "cell_type": "code",
   "execution_count": 47,
   "metadata": {},
   "outputs": [
    {
     "name": "stdout",
     "output_type": "stream",
     "text": [
      "Evaluating the classifier on the test set, area under the roc curve is: 0.815\n"
     ]
    }
   ],
   "source": [
    "test_comp(rf.best_estimator_)"
   ]
  },
  {
   "cell_type": "code",
   "execution_count": 78,
   "metadata": {},
   "outputs": [],
   "source": [
    "df_t = c[c.tpr > 0.9].sort_values('threshold',ascending=False)\n",
    "\n",
    "thresh = df_t.iloc[0,2]"
   ]
  },
  {
   "cell_type": "markdown",
   "metadata": {},
   "source": [
    "***Looking at feature importance***"
   ]
  },
  {
   "cell_type": "code",
   "execution_count": 48,
   "metadata": {},
   "outputs": [],
   "source": [
    "r = rf.best_estimator_\n",
    "imp = r.steps[1][1].feature_importances_"
   ]
  },
  {
   "cell_type": "code",
   "execution_count": 49,
   "metadata": {},
   "outputs": [
    {
     "data": {
      "text/plain": [
       "<AxesSubplot:xlabel='importance', ylabel='feature'>"
      ]
     },
     "execution_count": 49,
     "metadata": {},
     "output_type": "execute_result"
    },
    {
     "data": {
      "image/png": "[encoded data removed]",
      "text/plain": [
       "<Figure size 720x432 with 1 Axes>"
      ]
     },
     "metadata": {},
     "output_type": "display_data"
    }
   ],
   "source": [
    "ax = plt.figure(figsize=(10,6))\n",
    "\n",
    "i = pd.DataFrame({'feature':X_test.columns,'importance':imp}).sort_values('importance',ascending=False)\n",
    "\n",
    "sns.barplot(data=i,y='feature',x='importance',orient='h',color='gray')"
   ]
  },
  {
   "cell_type": "markdown",
   "metadata": {},
   "source": [
    "***Recall***"
   ]
  },
  {
   "cell_type": "code",
   "execution_count": 63,
   "metadata": {},
   "outputs": [],
   "source": [
    "from sklearn.metrics import recall_score\n",
    "from sklearn.metrics import precision_score\n",
    "\n",
    "def test_comp_recall(e):\n",
    "    #predicting probability from test set\n",
    "    y_pred = e.predict(X_test)\n",
    "    #deciding membership\n",
    "\n",
    "    r = np.round(recall_score(y_test,y_pred),3)\n",
    "    p = np.round(precision_score(y_test,y_pred),3)\n",
    "    print('Evaluating the classifier on the test set, the recall is: ' +  \n",
    "          '{}, and the precision is: {}'.format(r,p))\n",
    "\n",
    "\n",
    "from sklearn.metrics import precision_recall_curve\n",
    "\n",
    "def pr_curve(e,x,y):\n",
    "    \"\"\"e is estimator, x is data and y is true value\"\"\"\n",
    "\n",
    "    #predicting from model\n",
    "    y_pred_rf = e.predict_proba(x)\n",
    "\n",
    "    #finding curve\n",
    "    p, r, t = precision_recall_curve(y.to_numpy(),y_pred_rf[:,1])\n",
    "    sns.lineplot(x=p,y=r)\n",
    "    plt.xlabel('Precision')\n",
    "    plt.ylabel('Recall')\n",
    "    return pd.DataFrame({'precision':p[:-1],'recall':r[:-1],'threshold':t})\n",
    "\n",
    "    \n"
   ]
  },
  {
   "cell_type": "code",
   "execution_count": 64,
   "metadata": {},
   "outputs": [
    {
     "data": {
      "image/png": "[encoded data removed]",
      "text/plain": [
       "<Figure size 432x288 with 1 Axes>"
      ]
     },
     "metadata": {},
     "output_type": "display_data"
    }
   ],
   "source": [
    "c = pr_curve(rf.best_estimator_,X_train,y_train)"
   ]
  },
  {
   "cell_type": "code",
   "execution_count": 85,
   "metadata": {},
   "outputs": [
    {
     "data": {
      "text/plain": [
       "Text(34.0, 0.5, 'True')"
      ]
     },
     "execution_count": 85,
     "metadata": {},
     "output_type": "execute_result"
    },
    {
     "data": {
      "image/png": "[encoded data removed]",
      "text/plain": [
       "<Figure size 432x288 with 2 Axes>"
      ]
     },
     "metadata": {},
     "output_type": "display_data"
    }
   ],
   "source": [
    "from sklearn.metrics import confusion_matrix\n",
    "\n",
    "clf = rf_rand.best_estimator_\n",
    "y_pred = clf.predict_proba(X_test)[:,1]\n",
    "y_pred = (y_pred >= thresh).astype('int')\n",
    "\n",
    "sns.heatmap(confusion_matrix(y_test,y_pred),annot=True,fmt='d')\n",
    "plt.xlabel('Predicted')\n",
    "plt.ylabel('True')"
   ]
  },
  {
   "cell_type": "markdown",
   "metadata": {},
   "source": [
    "<h1>Conclusions</h1>\n"
   ]
  }
 ],
 "metadata": {
  "kernelspec": {
   "display_name": "Python 3",
   "language": "python",
   "name": "python3"
  },
  "language_info": {
   "codemirror_mode": {
    "name": "ipython",
    "version": 3
   },
   "file_extension": ".py",
   "mimetype": "text/x-python",
   "name": "python",
   "nbconvert_exporter": "python",
   "pygments_lexer": "ipython3",
   "version": "3.8.3"
  }
 },
 "nbformat": 4,
 "nbformat_minor": 4
}
