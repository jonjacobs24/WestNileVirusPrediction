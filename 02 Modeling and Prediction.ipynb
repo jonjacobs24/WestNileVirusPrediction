{
 "cells": [
  {
   "cell_type": "markdown",
   "metadata": {},
   "source": [
    "<h1>Modeling and Prediction</h1>\n",
    "On the West Nile Virus data set"
   ]
  },
  {
   "cell_type": "code",
   "execution_count": 1,
   "metadata": {},
   "outputs": [],
   "source": [
    "import pandas as pd\n",
    "import numpy as np\n",
    "from scipy import stats\n",
    "import seaborn as sns\n",
    "import matplotlib.pyplot as plt\n",
    "from sklearn.model_selection import train_test_split, cross_val_score, GridSearchCV\n",
    "from sklearn.pipeline import Pipeline\n",
    "from sklearn.metrics import classification_report\n",
    "from sklearn.linear_model import LogisticRegression\n",
    "import pandas.core.algorithms as algos\n",
    "from pandas import Series\n",
    "import scipy.stats.stats as stats\n",
    "\n",
    "sns.set_style('whitegrid')"
   ]
  },
  {
   "cell_type": "code",
   "execution_count": 2,
   "metadata": {},
   "outputs": [],
   "source": [
    "#loading cleaned data\n",
    "X = pd.read_pickle('./data/X2.pkl')\n",
    "y = pd.read_pickle('./data/y.pkl')\n",
    "\n"
   ]
  },
  {
   "cell_type": "code",
   "execution_count": 3,
   "metadata": {},
   "outputs": [],
   "source": [
    "# mistakenly, thought that the train_test_split was done for me. It was not, the test set is for the kaggle competition\n",
    "X_train, X_test, y_train, y_test = train_test_split(X,y,test_size=0.2,random_state=123)"
   ]
  },
  {
   "cell_type": "markdown",
   "metadata": {},
   "source": [
    "<h2>Random Forest Classifier</h2>\n",
    "Random Forest Classifier is a great ensemble method which I will look into first with a Random Search CV. The driving metric for analysis is roc_auc. This data set is heavily class biased -- there are few west nile virus sightings compared to the observations as a whole. The area under the roc curve is relatively good at handling this sort of imbalance."
   ]
  },
  {
   "cell_type": "markdown",
   "metadata": {},
   "source": [
    "***Building Pipeline***"
   ]
  },
  {
   "cell_type": "code",
   "execution_count": 4,
   "metadata": {},
   "outputs": [],
   "source": [
    "from sklearn.pipeline import make_pipeline\n",
    "from sklearn.ensemble import RandomForestClassifier\n",
    "from sklearn.model_selection import RandomizedSearchCV\n",
    "from sklearn.preprocessing import StandardScaler\n",
    "from sklearn.metrics import recall_score\n",
    "from scipy.stats import truncnorm, uniform\n"
   ]
  },
  {
   "cell_type": "code",
   "execution_count": 5,
   "metadata": {},
   "outputs": [],
   "source": [
    "pipe = make_pipeline( \n",
    "    StandardScaler(), \n",
    "    RandomForestClassifier()\n",
    ")"
   ]
  },
  {
   "cell_type": "code",
   "execution_count": 6,
   "metadata": {},
   "outputs": [
    {
     "data": {
      "text/plain": [
       "dict_keys(['memory', 'steps', 'verbose', 'standardscaler', 'randomforestclassifier', 'standardscaler__copy', 'standardscaler__with_mean', 'standardscaler__with_std', 'randomforestclassifier__bootstrap', 'randomforestclassifier__ccp_alpha', 'randomforestclassifier__class_weight', 'randomforestclassifier__criterion', 'randomforestclassifier__max_depth', 'randomforestclassifier__max_features', 'randomforestclassifier__max_leaf_nodes', 'randomforestclassifier__max_samples', 'randomforestclassifier__min_impurity_decrease', 'randomforestclassifier__min_impurity_split', 'randomforestclassifier__min_samples_leaf', 'randomforestclassifier__min_samples_split', 'randomforestclassifier__min_weight_fraction_leaf', 'randomforestclassifier__n_estimators', 'randomforestclassifier__n_jobs', 'randomforestclassifier__oob_score', 'randomforestclassifier__random_state', 'randomforestclassifier__verbose', 'randomforestclassifier__warm_start'])"
      ]
     },
     "execution_count": 6,
     "metadata": {},
     "output_type": "execute_result"
    }
   ],
   "source": [
    "pipe.get_params().keys()\n"
   ]
  },
  {
   "cell_type": "code",
   "execution_count": 7,
   "metadata": {},
   "outputs": [],
   "source": [
    "params = {'randomforestclassifier__n_estimators': np.arange(50,2000),\n",
    "         'randomforestclassifier__max_depth' :  np.arange(2,20)}\n",
    "\n",
    "rf_rand = RandomizedSearchCV(pipe,param_distributions=params,cv=5, n_jobs=-1, scoring = 'roc_auc',n_iter=10,\n",
    "                            random_state = 42, verbose= 10)"
   ]
  },
  {
   "cell_type": "code",
   "execution_count": 8,
   "metadata": {},
   "outputs": [
    {
     "name": "stdout",
     "output_type": "stream",
     "text": [
      "Fitting 5 folds for each of 10 candidates, totalling 50 fits\n"
     ]
    },
    {
     "name": "stderr",
     "output_type": "stream",
     "text": [
      "[Parallel(n_jobs=-1)]: Using backend LokyBackend with 8 concurrent workers.\n",
      "[Parallel(n_jobs=-1)]: Done   2 tasks      | elapsed:    7.1s\n",
      "[Parallel(n_jobs=-1)]: Done   9 tasks      | elapsed:   14.8s\n",
      "[Parallel(n_jobs=-1)]: Done  16 tasks      | elapsed:   23.7s\n",
      "[Parallel(n_jobs=-1)]: Done  25 tasks      | elapsed:   35.3s\n",
      "[Parallel(n_jobs=-1)]: Done  34 tasks      | elapsed:   41.2s\n",
      "[Parallel(n_jobs=-1)]: Done  41 out of  50 | elapsed:   50.4s remaining:   11.1s\n",
      "[Parallel(n_jobs=-1)]: Done  47 out of  50 | elapsed:   51.7s remaining:    3.3s\n",
      "[Parallel(n_jobs=-1)]: Done  50 out of  50 | elapsed:   52.2s finished\n"
     ]
    },
    {
     "data": {
      "text/plain": [
       "RandomizedSearchCV(cv=5,\n",
       "                   estimator=Pipeline(steps=[('standardscaler',\n",
       "                                              StandardScaler()),\n",
       "                                             ('randomforestclassifier',\n",
       "                                              RandomForestClassifier())]),\n",
       "                   n_jobs=-1,\n",
       "                   param_distributions={'randomforestclassifier__max_depth': array([ 2,  3,  4,  5,  6,  7,  8,  9, 10, 11, 12, 13, 14, 15, 16, 17, 18,\n",
       "       19]),\n",
       "                                        'randomforestclassifier__n_estimators': array([  50,   51,   52, ..., 1997, 1998, 1999])},\n",
       "                   random_state=42, scoring='roc_auc', verbose=10)"
      ]
     },
     "execution_count": 8,
     "metadata": {},
     "output_type": "execute_result"
    }
   ],
   "source": [
    "rf_rand.fit(X_train,y_train)"
   ]
  },
  {
   "cell_type": "markdown",
   "metadata": {},
   "source": [
    "***Looking at results from the random search***"
   ]
  },
  {
   "cell_type": "code",
   "execution_count": 9,
   "metadata": {},
   "outputs": [
    {
     "data": {
      "text/plain": [
       "{'randomforestclassifier__n_estimators': 1584,\n",
       " 'randomforestclassifier__max_depth': 7}"
      ]
     },
     "execution_count": 9,
     "metadata": {},
     "output_type": "execute_result"
    }
   ],
   "source": [
    "rf_rand.best_params_"
   ]
  },
  {
   "cell_type": "code",
   "execution_count": 10,
   "metadata": {},
   "outputs": [],
   "source": [
    "rf_res = pd.DataFrame(rf_rand.cv_results_)\n"
   ]
  },
  {
   "cell_type": "code",
   "execution_count": 11,
   "metadata": {},
   "outputs": [
    {
     "data": {
      "text/html": [
       "<div>\n",
       "<style scoped>\n",
       "    .dataframe tbody tr th:only-of-type {\n",
       "        vertical-align: middle;\n",
       "    }\n",
       "\n",
       "    .dataframe tbody tr th {\n",
       "        vertical-align: top;\n",
       "    }\n",
       "\n",
       "    .dataframe thead th {\n",
       "        text-align: right;\n",
       "    }\n",
       "</style>\n",
       "<table border=\"1\" class=\"dataframe\">\n",
       "  <thead>\n",
       "    <tr style=\"text-align: right;\">\n",
       "      <th></th>\n",
       "      <th>mean_fit_time</th>\n",
       "      <th>std_fit_time</th>\n",
       "      <th>mean_score_time</th>\n",
       "      <th>std_score_time</th>\n",
       "      <th>param_randomforestclassifier__n_estimators</th>\n",
       "      <th>param_randomforestclassifier__max_depth</th>\n",
       "      <th>params</th>\n",
       "      <th>split0_test_score</th>\n",
       "      <th>split1_test_score</th>\n",
       "      <th>split2_test_score</th>\n",
       "      <th>split3_test_score</th>\n",
       "      <th>split4_test_score</th>\n",
       "      <th>mean_test_score</th>\n",
       "      <th>std_test_score</th>\n",
       "      <th>rank_test_score</th>\n",
       "    </tr>\n",
       "  </thead>\n",
       "  <tbody>\n",
       "    <tr>\n",
       "      <th>2</th>\n",
       "      <td>15.293458</td>\n",
       "      <td>0.140004</td>\n",
       "      <td>1.093964</td>\n",
       "      <td>0.011043</td>\n",
       "      <td>1584</td>\n",
       "      <td>7</td>\n",
       "      <td>{'randomforestclassifier__n_estimators': 1584,...</td>\n",
       "      <td>0.810932</td>\n",
       "      <td>0.812621</td>\n",
       "      <td>0.827227</td>\n",
       "      <td>0.837945</td>\n",
       "      <td>0.781875</td>\n",
       "      <td>0.814120</td>\n",
       "      <td>0.018929</td>\n",
       "      <td>1</td>\n",
       "    </tr>\n",
       "    <tr>\n",
       "      <th>4</th>\n",
       "      <td>13.019104</td>\n",
       "      <td>0.086651</td>\n",
       "      <td>0.939145</td>\n",
       "      <td>0.017861</td>\n",
       "      <td>1300</td>\n",
       "      <td>10</td>\n",
       "      <td>{'randomforestclassifier__n_estimators': 1300,...</td>\n",
       "      <td>0.812689</td>\n",
       "      <td>0.818787</td>\n",
       "      <td>0.830919</td>\n",
       "      <td>0.829970</td>\n",
       "      <td>0.775376</td>\n",
       "      <td>0.813548</td>\n",
       "      <td>0.020282</td>\n",
       "      <td>2</td>\n",
       "    </tr>\n",
       "    <tr>\n",
       "      <th>6</th>\n",
       "      <td>4.761379</td>\n",
       "      <td>0.071549</td>\n",
       "      <td>0.338778</td>\n",
       "      <td>0.010936</td>\n",
       "      <td>473</td>\n",
       "      <td>10</td>\n",
       "      <td>{'randomforestclassifier__n_estimators': 473, ...</td>\n",
       "      <td>0.812294</td>\n",
       "      <td>0.819691</td>\n",
       "      <td>0.831213</td>\n",
       "      <td>0.828218</td>\n",
       "      <td>0.772843</td>\n",
       "      <td>0.812852</td>\n",
       "      <td>0.021076</td>\n",
       "      <td>3</td>\n",
       "    </tr>\n",
       "    <tr>\n",
       "      <th>0</th>\n",
       "      <td>2.595763</td>\n",
       "      <td>0.023970</td>\n",
       "      <td>0.196084</td>\n",
       "      <td>0.007725</td>\n",
       "      <td>245</td>\n",
       "      <td>10</td>\n",
       "      <td>{'randomforestclassifier__n_estimators': 245, ...</td>\n",
       "      <td>0.811850</td>\n",
       "      <td>0.822279</td>\n",
       "      <td>0.824860</td>\n",
       "      <td>0.825848</td>\n",
       "      <td>0.772793</td>\n",
       "      <td>0.811526</td>\n",
       "      <td>0.019994</td>\n",
       "      <td>4</td>\n",
       "    </tr>\n",
       "    <tr>\n",
       "      <th>5</th>\n",
       "      <td>5.668438</td>\n",
       "      <td>0.017323</td>\n",
       "      <td>0.418205</td>\n",
       "      <td>0.008677</td>\n",
       "      <td>562</td>\n",
       "      <td>13</td>\n",
       "      <td>{'randomforestclassifier__n_estimators': 562, ...</td>\n",
       "      <td>0.807673</td>\n",
       "      <td>0.820035</td>\n",
       "      <td>0.825886</td>\n",
       "      <td>0.825848</td>\n",
       "      <td>0.766936</td>\n",
       "      <td>0.809276</td>\n",
       "      <td>0.022188</td>\n",
       "      <td>5</td>\n",
       "    </tr>\n",
       "    <tr>\n",
       "      <th>3</th>\n",
       "      <td>4.201454</td>\n",
       "      <td>0.023902</td>\n",
       "      <td>0.300083</td>\n",
       "      <td>0.011694</td>\n",
       "      <td>465</td>\n",
       "      <td>5</td>\n",
       "      <td>{'randomforestclassifier__n_estimators': 465, ...</td>\n",
       "      <td>0.806522</td>\n",
       "      <td>0.794996</td>\n",
       "      <td>0.821906</td>\n",
       "      <td>0.842181</td>\n",
       "      <td>0.774503</td>\n",
       "      <td>0.808022</td>\n",
       "      <td>0.023044</td>\n",
       "      <td>6</td>\n",
       "    </tr>\n",
       "    <tr>\n",
       "      <th>9</th>\n",
       "      <td>2.022308</td>\n",
       "      <td>0.393701</td>\n",
       "      <td>0.107397</td>\n",
       "      <td>0.034557</td>\n",
       "      <td>533</td>\n",
       "      <td>3</td>\n",
       "      <td>{'randomforestclassifier__n_estimators': 533, ...</td>\n",
       "      <td>0.815901</td>\n",
       "      <td>0.775069</td>\n",
       "      <td>0.810857</td>\n",
       "      <td>0.837761</td>\n",
       "      <td>0.758106</td>\n",
       "      <td>0.799539</td>\n",
       "      <td>0.028886</td>\n",
       "      <td>7</td>\n",
       "    </tr>\n",
       "    <tr>\n",
       "      <th>1</th>\n",
       "      <td>7.203597</td>\n",
       "      <td>0.047047</td>\n",
       "      <td>0.490255</td>\n",
       "      <td>0.008834</td>\n",
       "      <td>910</td>\n",
       "      <td>2</td>\n",
       "      <td>{'randomforestclassifier__n_estimators': 910, ...</td>\n",
       "      <td>0.815112</td>\n",
       "      <td>0.764013</td>\n",
       "      <td>0.800793</td>\n",
       "      <td>0.826469</td>\n",
       "      <td>0.750245</td>\n",
       "      <td>0.791326</td>\n",
       "      <td>0.029408</td>\n",
       "      <td>8</td>\n",
       "    </tr>\n",
       "    <tr>\n",
       "      <th>7</th>\n",
       "      <td>10.727578</td>\n",
       "      <td>0.348161</td>\n",
       "      <td>0.555001</td>\n",
       "      <td>0.010232</td>\n",
       "      <td>1735</td>\n",
       "      <td>2</td>\n",
       "      <td>{'randomforestclassifier__n_estimators': 1735,...</td>\n",
       "      <td>0.812828</td>\n",
       "      <td>0.764723</td>\n",
       "      <td>0.802371</td>\n",
       "      <td>0.828296</td>\n",
       "      <td>0.746080</td>\n",
       "      <td>0.790859</td>\n",
       "      <td>0.030676</td>\n",
       "      <td>9</td>\n",
       "    </tr>\n",
       "    <tr>\n",
       "      <th>8</th>\n",
       "      <td>4.742686</td>\n",
       "      <td>0.679546</td>\n",
       "      <td>0.277706</td>\n",
       "      <td>0.047913</td>\n",
       "      <td>819</td>\n",
       "      <td>2</td>\n",
       "      <td>{'randomforestclassifier__n_estimators': 819, ...</td>\n",
       "      <td>0.813237</td>\n",
       "      <td>0.758513</td>\n",
       "      <td>0.802715</td>\n",
       "      <td>0.826671</td>\n",
       "      <td>0.749386</td>\n",
       "      <td>0.790104</td>\n",
       "      <td>0.030618</td>\n",
       "      <td>10</td>\n",
       "    </tr>\n",
       "  </tbody>\n",
       "</table>\n",
       "</div>"
      ],
      "text/plain": [
       "   mean_fit_time  std_fit_time  mean_score_time  std_score_time  \\\n",
       "2      15.293458      0.140004         1.093964        0.011043   \n",
       "4      13.019104      0.086651         0.939145        0.017861   \n",
       "6       4.761379      0.071549         0.338778        0.010936   \n",
       "0       2.595763      0.023970         0.196084        0.007725   \n",
       "5       5.668438      0.017323         0.418205        0.008677   \n",
       "3       4.201454      0.023902         0.300083        0.011694   \n",
       "9       2.022308      0.393701         0.107397        0.034557   \n",
       "1       7.203597      0.047047         0.490255        0.008834   \n",
       "7      10.727578      0.348161         0.555001        0.010232   \n",
       "8       4.742686      0.679546         0.277706        0.047913   \n",
       "\n",
       "  param_randomforestclassifier__n_estimators  \\\n",
       "2                                       1584   \n",
       "4                                       1300   \n",
       "6                                        473   \n",
       "0                                        245   \n",
       "5                                        562   \n",
       "3                                        465   \n",
       "9                                        533   \n",
       "1                                        910   \n",
       "7                                       1735   \n",
       "8                                        819   \n",
       "\n",
       "  param_randomforestclassifier__max_depth  \\\n",
       "2                                       7   \n",
       "4                                      10   \n",
       "6                                      10   \n",
       "0                                      10   \n",
       "5                                      13   \n",
       "3                                       5   \n",
       "9                                       3   \n",
       "1                                       2   \n",
       "7                                       2   \n",
       "8                                       2   \n",
       "\n",
       "                                              params  split0_test_score  \\\n",
       "2  {'randomforestclassifier__n_estimators': 1584,...           0.810932   \n",
       "4  {'randomforestclassifier__n_estimators': 1300,...           0.812689   \n",
       "6  {'randomforestclassifier__n_estimators': 473, ...           0.812294   \n",
       "0  {'randomforestclassifier__n_estimators': 245, ...           0.811850   \n",
       "5  {'randomforestclassifier__n_estimators': 562, ...           0.807673   \n",
       "3  {'randomforestclassifier__n_estimators': 465, ...           0.806522   \n",
       "9  {'randomforestclassifier__n_estimators': 533, ...           0.815901   \n",
       "1  {'randomforestclassifier__n_estimators': 910, ...           0.815112   \n",
       "7  {'randomforestclassifier__n_estimators': 1735,...           0.812828   \n",
       "8  {'randomforestclassifier__n_estimators': 819, ...           0.813237   \n",
       "\n",
       "   split1_test_score  split2_test_score  split3_test_score  split4_test_score  \\\n",
       "2           0.812621           0.827227           0.837945           0.781875   \n",
       "4           0.818787           0.830919           0.829970           0.775376   \n",
       "6           0.819691           0.831213           0.828218           0.772843   \n",
       "0           0.822279           0.824860           0.825848           0.772793   \n",
       "5           0.820035           0.825886           0.825848           0.766936   \n",
       "3           0.794996           0.821906           0.842181           0.774503   \n",
       "9           0.775069           0.810857           0.837761           0.758106   \n",
       "1           0.764013           0.800793           0.826469           0.750245   \n",
       "7           0.764723           0.802371           0.828296           0.746080   \n",
       "8           0.758513           0.802715           0.826671           0.749386   \n",
       "\n",
       "   mean_test_score  std_test_score  rank_test_score  \n",
       "2         0.814120        0.018929                1  \n",
       "4         0.813548        0.020282                2  \n",
       "6         0.812852        0.021076                3  \n",
       "0         0.811526        0.019994                4  \n",
       "5         0.809276        0.022188                5  \n",
       "3         0.808022        0.023044                6  \n",
       "9         0.799539        0.028886                7  \n",
       "1         0.791326        0.029408                8  \n",
       "7         0.790859        0.030676                9  \n",
       "8         0.790104        0.030618               10  "
      ]
     },
     "execution_count": 11,
     "metadata": {},
     "output_type": "execute_result"
    }
   ],
   "source": [
    "rf_res.sort_values('mean_test_score',axis=0, ascending=False)"
   ]
  },
  {
   "cell_type": "code",
   "execution_count": 12,
   "metadata": {},
   "outputs": [
    {
     "data": {
      "text/plain": [
       "0.814119910133597"
      ]
     },
     "execution_count": 12,
     "metadata": {},
     "output_type": "execute_result"
    }
   ],
   "source": [
    "rf_rand.best_score_"
   ]
  },
  {
   "cell_type": "code",
   "execution_count": 13,
   "metadata": {},
   "outputs": [],
   "source": [
    "from sklearn.metrics import roc_curve\n",
    "\n",
    "def roc_plot(e,x,y):\n",
    "    \"\"\"e is estimator, x is data and y is true value\"\"\"\n",
    "\n",
    "    #predicting from model\n",
    "    y_pred = e.predict_proba(x)[:,1]\n",
    "\n",
    "    #finding curve\n",
    "    fpr, tpr, t = roc_curve(y, y_pred)\n",
    "    sns.lineplot(x=fpr,y=tpr)\n",
    "    plt.xlabel('false positive rate')\n",
    "    plt.ylabel('true positive rate')\n",
    "    plt.title('Compute Receiver Operating Characteristic Curve')\n",
    "    return pd.DataFrame({'fpr':fpr,'tpr':tpr,'threshold':t})\n",
    "\n",
    "    \n"
   ]
  },
  {
   "cell_type": "code",
   "execution_count": 14,
   "metadata": {},
   "outputs": [
    {
     "data": {
      "image/png": "[encoded data removed]",
      "text/plain": [
       "<Figure size 432x288 with 1 Axes>"
      ]
     },
     "metadata": {},
     "output_type": "display_data"
    }
   ],
   "source": [
    "est = rf_rand.best_estimator_\n",
    "c = roc_plot(est, X_train, y_train)"
   ]
  },
  {
   "cell_type": "markdown",
   "metadata": {},
   "source": [
    "***Comparing to test set***"
   ]
  },
  {
   "cell_type": "code",
   "execution_count": 15,
   "metadata": {},
   "outputs": [
    {
     "name": "stdout",
     "output_type": "stream",
     "text": [
      "Evaluating the classifier on the test set, area under the roc curve is: 0.815\n"
     ]
    }
   ],
   "source": [
    "from sklearn.metrics import roc_auc_score\n",
    "\n",
    "\n",
    "def test_comp(e):\n",
    "    #predicting probability from test set\n",
    "    y_pred = e.predict_proba(X_test)[:,1]\n",
    "    \n",
    "    \n",
    "    r = np.round(roc_auc_score(y_test,y_pred),3)\n",
    "    \n",
    "    print('Evaluating the classifier on the test set, area under the roc curve is: ' +  \n",
    "           '{}'.format(r))\n",
    "\n",
    "test_comp(rf_rand.best_estimator_)"
   ]
  },
  {
   "cell_type": "markdown",
   "metadata": {},
   "source": [
    "<h3>Random Forest first results</h3>\n",
    "\n",
    "The classifier has decent performance. Let's see if with more parameters and a larger search I can improve the results even further."
   ]
  },
  {
   "cell_type": "code",
   "execution_count": 16,
   "metadata": {
    "scrolled": true
   },
   "outputs": [
    {
     "name": "stdout",
     "output_type": "stream",
     "text": [
      "Fitting 4 folds for each of 50 candidates, totalling 200 fits\n"
     ]
    },
    {
     "name": "stderr",
     "output_type": "stream",
     "text": [
      "[Parallel(n_jobs=-1)]: Using backend LokyBackend with 8 concurrent workers.\n",
      "[Parallel(n_jobs=-1)]: Done   2 tasks      | elapsed:    1.5s\n",
      "[Parallel(n_jobs=-1)]: Done   9 tasks      | elapsed:    4.9s\n",
      "[Parallel(n_jobs=-1)]: Done  16 tasks      | elapsed:    5.9s\n",
      "[Parallel(n_jobs=-1)]: Done  25 tasks      | elapsed:   12.1s\n",
      "[Parallel(n_jobs=-1)]: Done  34 tasks      | elapsed:   15.1s\n",
      "[Parallel(n_jobs=-1)]: Done  45 tasks      | elapsed:   20.8s\n",
      "[Parallel(n_jobs=-1)]: Done  56 tasks      | elapsed:   27.2s\n",
      "[Parallel(n_jobs=-1)]: Done  69 tasks      | elapsed:   35.3s\n",
      "[Parallel(n_jobs=-1)]: Done  82 tasks      | elapsed:   43.8s\n",
      "[Parallel(n_jobs=-1)]: Done  97 tasks      | elapsed:   50.0s\n",
      "[Parallel(n_jobs=-1)]: Done 112 tasks      | elapsed:   57.2s\n",
      "[Parallel(n_jobs=-1)]: Done 129 tasks      | elapsed:  1.1min\n",
      "[Parallel(n_jobs=-1)]: Done 146 tasks      | elapsed:  1.4min\n",
      "[Parallel(n_jobs=-1)]: Done 165 tasks      | elapsed:  1.6min\n",
      "[Parallel(n_jobs=-1)]: Done 184 tasks      | elapsed:  1.7min\n",
      "[Parallel(n_jobs=-1)]: Done 200 out of 200 | elapsed:  1.9min finished\n"
     ]
    },
    {
     "data": {
      "text/plain": [
       "RandomizedSearchCV(cv=4,\n",
       "                   estimator=Pipeline(steps=[('standardscaler',\n",
       "                                              StandardScaler()),\n",
       "                                             ('randomforestclassifier',\n",
       "                                              RandomForestClassifier())]),\n",
       "                   n_iter=50, n_jobs=-1,\n",
       "                   param_distributions={'randomforestclassifier__max_depth': array([ 1,  2,  3,  4,  5,  6,  7,  8,  9, 10, 11, 12, 13]),\n",
       "                                        'randomforestclassifier__n_estimators': array([  50,   51,   52, ..., 1997, 1998, 1999])},\n",
       "                   random_state=42, scoring='roc_auc', verbose=10)"
      ]
     },
     "execution_count": 16,
     "metadata": {},
     "output_type": "execute_result"
    }
   ],
   "source": [
    "params = {'randomforestclassifier__n_estimators': np.arange(50,2000),\n",
    "         'randomforestclassifier__max_depth' :  np.arange(1,14)}\n",
    "\n",
    "rf_rand_two = RandomizedSearchCV(pipe,param_distributions=params,cv=4, n_jobs=-1, scoring = 'roc_auc',n_iter=50,\n",
    "                            random_state = 42, verbose = 10)\n",
    "rf_rand_two.fit(X_train,y_train)"
   ]
  },
  {
   "cell_type": "code",
   "execution_count": 17,
   "metadata": {},
   "outputs": [
    {
     "data": {
      "image/png": "[encoded data removed]",
      "text/plain": [
       "<Figure size 432x288 with 1 Axes>"
      ]
     },
     "metadata": {},
     "output_type": "display_data"
    }
   ],
   "source": [
    "c = roc_plot(rf_rand_two.best_estimator_,X_train,y_train)\n"
   ]
  },
  {
   "cell_type": "code",
   "execution_count": 18,
   "metadata": {},
   "outputs": [
    {
     "data": {
      "text/plain": [
       "{'randomforestclassifier__n_estimators': 902,\n",
       " 'randomforestclassifier__max_depth': 8}"
      ]
     },
     "execution_count": 18,
     "metadata": {},
     "output_type": "execute_result"
    }
   ],
   "source": [
    "rf_rand_two.best_params_"
   ]
  },
  {
   "cell_type": "code",
   "execution_count": 19,
   "metadata": {},
   "outputs": [
    {
     "data": {
      "text/plain": [
       "0.8145114341377778"
      ]
     },
     "execution_count": 19,
     "metadata": {},
     "output_type": "execute_result"
    }
   ],
   "source": [
    "rf_rand_two.best_score_"
   ]
  },
  {
   "cell_type": "code",
   "execution_count": 20,
   "metadata": {},
   "outputs": [
    {
     "name": "stdout",
     "output_type": "stream",
     "text": [
      "Evaluating the classifier on the test set, area under the roc curve is: 0.817\n"
     ]
    }
   ],
   "source": [
    "test_comp(rf_rand_two.best_estimator_)"
   ]
  },
  {
   "cell_type": "code",
   "execution_count": 21,
   "metadata": {},
   "outputs": [
    {
     "data": {
      "text/html": [
       "<div>\n",
       "<style scoped>\n",
       "    .dataframe tbody tr th:only-of-type {\n",
       "        vertical-align: middle;\n",
       "    }\n",
       "\n",
       "    .dataframe tbody tr th {\n",
       "        vertical-align: top;\n",
       "    }\n",
       "\n",
       "    .dataframe thead th {\n",
       "        text-align: right;\n",
       "    }\n",
       "</style>\n",
       "<table border=\"1\" class=\"dataframe\">\n",
       "  <thead>\n",
       "    <tr style=\"text-align: right;\">\n",
       "      <th></th>\n",
       "      <th>mean_fit_time</th>\n",
       "      <th>std_fit_time</th>\n",
       "      <th>mean_score_time</th>\n",
       "      <th>std_score_time</th>\n",
       "      <th>param_randomforestclassifier__n_estimators</th>\n",
       "      <th>param_randomforestclassifier__max_depth</th>\n",
       "      <th>params</th>\n",
       "      <th>split0_test_score</th>\n",
       "      <th>split1_test_score</th>\n",
       "      <th>split2_test_score</th>\n",
       "      <th>split3_test_score</th>\n",
       "      <th>mean_test_score</th>\n",
       "      <th>std_test_score</th>\n",
       "      <th>rank_test_score</th>\n",
       "    </tr>\n",
       "  </thead>\n",
       "  <tbody>\n",
       "    <tr>\n",
       "      <th>44</th>\n",
       "      <td>4.210884</td>\n",
       "      <td>0.024762</td>\n",
       "      <td>0.370521</td>\n",
       "      <td>0.003917</td>\n",
       "      <td>902</td>\n",
       "      <td>8</td>\n",
       "      <td>{'randomforestclassifier__n_estimators': 902, ...</td>\n",
       "      <td>0.814780</td>\n",
       "      <td>0.823528</td>\n",
       "      <td>0.836940</td>\n",
       "      <td>0.782798</td>\n",
       "      <td>0.814511</td>\n",
       "      <td>0.019938</td>\n",
       "      <td>1</td>\n",
       "    </tr>\n",
       "    <tr>\n",
       "      <th>5</th>\n",
       "      <td>1.438637</td>\n",
       "      <td>0.003048</td>\n",
       "      <td>0.128640</td>\n",
       "      <td>0.005513</td>\n",
       "      <td>314</td>\n",
       "      <td>7</td>\n",
       "      <td>{'randomforestclassifier__n_estimators': 314, ...</td>\n",
       "      <td>0.815065</td>\n",
       "      <td>0.819247</td>\n",
       "      <td>0.839334</td>\n",
       "      <td>0.780792</td>\n",
       "      <td>0.813609</td>\n",
       "      <td>0.021051</td>\n",
       "      <td>2</td>\n",
       "    </tr>\n",
       "    <tr>\n",
       "      <th>12</th>\n",
       "      <td>3.860753</td>\n",
       "      <td>0.022747</td>\n",
       "      <td>0.330505</td>\n",
       "      <td>0.001822</td>\n",
       "      <td>823</td>\n",
       "      <td>8</td>\n",
       "      <td>{'randomforestclassifier__n_estimators': 823, ...</td>\n",
       "      <td>0.814803</td>\n",
       "      <td>0.822735</td>\n",
       "      <td>0.834737</td>\n",
       "      <td>0.781430</td>\n",
       "      <td>0.813426</td>\n",
       "      <td>0.019789</td>\n",
       "      <td>3</td>\n",
       "    </tr>\n",
       "    <tr>\n",
       "      <th>49</th>\n",
       "      <td>2.700105</td>\n",
       "      <td>0.047907</td>\n",
       "      <td>0.221904</td>\n",
       "      <td>0.013256</td>\n",
       "      <td>553</td>\n",
       "      <td>6</td>\n",
       "      <td>{'randomforestclassifier__n_estimators': 553, ...</td>\n",
       "      <td>0.812503</td>\n",
       "      <td>0.815977</td>\n",
       "      <td>0.842361</td>\n",
       "      <td>0.781973</td>\n",
       "      <td>0.813204</td>\n",
       "      <td>0.021411</td>\n",
       "      <td>4</td>\n",
       "    </tr>\n",
       "    <tr>\n",
       "      <th>13</th>\n",
       "      <td>7.451525</td>\n",
       "      <td>0.030031</td>\n",
       "      <td>0.610019</td>\n",
       "      <td>0.004540</td>\n",
       "      <td>1663</td>\n",
       "      <td>6</td>\n",
       "      <td>{'randomforestclassifier__n_estimators': 1663,...</td>\n",
       "      <td>0.813469</td>\n",
       "      <td>0.815174</td>\n",
       "      <td>0.841477</td>\n",
       "      <td>0.781512</td>\n",
       "      <td>0.812908</td>\n",
       "      <td>0.021256</td>\n",
       "      <td>5</td>\n",
       "    </tr>\n",
       "    <tr>\n",
       "      <th>14</th>\n",
       "      <td>2.283521</td>\n",
       "      <td>0.020713</td>\n",
       "      <td>0.193880</td>\n",
       "      <td>0.007863</td>\n",
       "      <td>473</td>\n",
       "      <td>9</td>\n",
       "      <td>{'randomforestclassifier__n_estimators': 473, ...</td>\n",
       "      <td>0.816674</td>\n",
       "      <td>0.823738</td>\n",
       "      <td>0.830742</td>\n",
       "      <td>0.779957</td>\n",
       "      <td>0.812778</td>\n",
       "      <td>0.019591</td>\n",
       "      <td>6</td>\n",
       "    </tr>\n",
       "    <tr>\n",
       "      <th>9</th>\n",
       "      <td>6.079500</td>\n",
       "      <td>0.034417</td>\n",
       "      <td>0.524795</td>\n",
       "      <td>0.007748</td>\n",
       "      <td>1300</td>\n",
       "      <td>9</td>\n",
       "      <td>{'randomforestclassifier__n_estimators': 1300,...</td>\n",
       "      <td>0.816214</td>\n",
       "      <td>0.824217</td>\n",
       "      <td>0.831062</td>\n",
       "      <td>0.779602</td>\n",
       "      <td>0.812774</td>\n",
       "      <td>0.019860</td>\n",
       "      <td>7</td>\n",
       "    </tr>\n",
       "    <tr>\n",
       "      <th>40</th>\n",
       "      <td>7.575484</td>\n",
       "      <td>0.035779</td>\n",
       "      <td>0.626586</td>\n",
       "      <td>0.000669</td>\n",
       "      <td>1694</td>\n",
       "      <td>6</td>\n",
       "      <td>{'randomforestclassifier__n_estimators': 1694,...</td>\n",
       "      <td>0.812085</td>\n",
       "      <td>0.814463</td>\n",
       "      <td>0.841992</td>\n",
       "      <td>0.782429</td>\n",
       "      <td>0.812742</td>\n",
       "      <td>0.021082</td>\n",
       "      <td>8</td>\n",
       "    </tr>\n",
       "    <tr>\n",
       "      <th>1</th>\n",
       "      <td>1.347629</td>\n",
       "      <td>0.006897</td>\n",
       "      <td>0.121524</td>\n",
       "      <td>0.005512</td>\n",
       "      <td>245</td>\n",
       "      <td>9</td>\n",
       "      <td>{'randomforestclassifier__n_estimators': 245, ...</td>\n",
       "      <td>0.816486</td>\n",
       "      <td>0.823123</td>\n",
       "      <td>0.831851</td>\n",
       "      <td>0.779237</td>\n",
       "      <td>0.812674</td>\n",
       "      <td>0.020059</td>\n",
       "      <td>9</td>\n",
       "    </tr>\n",
       "    <tr>\n",
       "      <th>6</th>\n",
       "      <td>7.010121</td>\n",
       "      <td>0.011544</td>\n",
       "      <td>0.590419</td>\n",
       "      <td>0.003008</td>\n",
       "      <td>1584</td>\n",
       "      <td>6</td>\n",
       "      <td>{'randomforestclassifier__n_estimators': 1584,...</td>\n",
       "      <td>0.812223</td>\n",
       "      <td>0.814536</td>\n",
       "      <td>0.841577</td>\n",
       "      <td>0.781850</td>\n",
       "      <td>0.812546</td>\n",
       "      <td>0.021149</td>\n",
       "      <td>10</td>\n",
       "    </tr>\n",
       "    <tr>\n",
       "      <th>48</th>\n",
       "      <td>3.822574</td>\n",
       "      <td>0.044996</td>\n",
       "      <td>0.219321</td>\n",
       "      <td>0.004102</td>\n",
       "      <td>855</td>\n",
       "      <td>6</td>\n",
       "      <td>{'randomforestclassifier__n_estimators': 855, ...</td>\n",
       "      <td>0.810838</td>\n",
       "      <td>0.815457</td>\n",
       "      <td>0.842526</td>\n",
       "      <td>0.781115</td>\n",
       "      <td>0.812484</td>\n",
       "      <td>0.021783</td>\n",
       "      <td>11</td>\n",
       "    </tr>\n",
       "    <tr>\n",
       "      <th>46</th>\n",
       "      <td>4.354502</td>\n",
       "      <td>0.018062</td>\n",
       "      <td>0.381860</td>\n",
       "      <td>0.034950</td>\n",
       "      <td>927</td>\n",
       "      <td>6</td>\n",
       "      <td>{'randomforestclassifier__n_estimators': 927, ...</td>\n",
       "      <td>0.813069</td>\n",
       "      <td>0.814066</td>\n",
       "      <td>0.841563</td>\n",
       "      <td>0.781161</td>\n",
       "      <td>0.812465</td>\n",
       "      <td>0.021387</td>\n",
       "      <td>12</td>\n",
       "    </tr>\n",
       "    <tr>\n",
       "      <th>28</th>\n",
       "      <td>6.943471</td>\n",
       "      <td>0.039863</td>\n",
       "      <td>0.581131</td>\n",
       "      <td>0.003093</td>\n",
       "      <td>1442</td>\n",
       "      <td>10</td>\n",
       "      <td>{'randomforestclassifier__n_estimators': 1442,...</td>\n",
       "      <td>0.816987</td>\n",
       "      <td>0.823579</td>\n",
       "      <td>0.831385</td>\n",
       "      <td>0.775963</td>\n",
       "      <td>0.811978</td>\n",
       "      <td>0.021409</td>\n",
       "      <td>13</td>\n",
       "    </tr>\n",
       "    <tr>\n",
       "      <th>33</th>\n",
       "      <td>7.783734</td>\n",
       "      <td>0.033724</td>\n",
       "      <td>0.669621</td>\n",
       "      <td>0.004076</td>\n",
       "      <td>1618</td>\n",
       "      <td>10</td>\n",
       "      <td>{'randomforestclassifier__n_estimators': 1618,...</td>\n",
       "      <td>0.815060</td>\n",
       "      <td>0.824682</td>\n",
       "      <td>0.830027</td>\n",
       "      <td>0.775812</td>\n",
       "      <td>0.811395</td>\n",
       "      <td>0.021232</td>\n",
       "      <td>14</td>\n",
       "    </tr>\n",
       "    <tr>\n",
       "      <th>30</th>\n",
       "      <td>4.469817</td>\n",
       "      <td>0.012569</td>\n",
       "      <td>0.389713</td>\n",
       "      <td>0.005689</td>\n",
       "      <td>931</td>\n",
       "      <td>10</td>\n",
       "      <td>{'randomforestclassifier__n_estimators': 931, ...</td>\n",
       "      <td>0.814743</td>\n",
       "      <td>0.824409</td>\n",
       "      <td>0.830118</td>\n",
       "      <td>0.775712</td>\n",
       "      <td>0.811245</td>\n",
       "      <td>0.021239</td>\n",
       "      <td>15</td>\n",
       "    </tr>\n",
       "    <tr>\n",
       "      <th>39</th>\n",
       "      <td>1.945793</td>\n",
       "      <td>0.006759</td>\n",
       "      <td>0.173504</td>\n",
       "      <td>0.003384</td>\n",
       "      <td>412</td>\n",
       "      <td>10</td>\n",
       "      <td>{'randomforestclassifier__n_estimators': 412, ...</td>\n",
       "      <td>0.814356</td>\n",
       "      <td>0.824381</td>\n",
       "      <td>0.829461</td>\n",
       "      <td>0.775525</td>\n",
       "      <td>0.810931</td>\n",
       "      <td>0.021152</td>\n",
       "      <td>16</td>\n",
       "    </tr>\n",
       "    <tr>\n",
       "      <th>43</th>\n",
       "      <td>4.741348</td>\n",
       "      <td>0.015551</td>\n",
       "      <td>0.391818</td>\n",
       "      <td>0.004816</td>\n",
       "      <td>1088</td>\n",
       "      <td>5</td>\n",
       "      <td>{'randomforestclassifier__n_estimators': 1088,...</td>\n",
       "      <td>0.810512</td>\n",
       "      <td>0.807409</td>\n",
       "      <td>0.842444</td>\n",
       "      <td>0.780869</td>\n",
       "      <td>0.810308</td>\n",
       "      <td>0.021839</td>\n",
       "      <td>17</td>\n",
       "    </tr>\n",
       "    <tr>\n",
       "      <th>27</th>\n",
       "      <td>3.909595</td>\n",
       "      <td>0.018654</td>\n",
       "      <td>0.343964</td>\n",
       "      <td>0.005130</td>\n",
       "      <td>916</td>\n",
       "      <td>5</td>\n",
       "      <td>{'randomforestclassifier__n_estimators': 916, ...</td>\n",
       "      <td>0.810489</td>\n",
       "      <td>0.807272</td>\n",
       "      <td>0.843009</td>\n",
       "      <td>0.780276</td>\n",
       "      <td>0.810262</td>\n",
       "      <td>0.022251</td>\n",
       "      <td>18</td>\n",
       "    </tr>\n",
       "    <tr>\n",
       "      <th>15</th>\n",
       "      <td>2.448059</td>\n",
       "      <td>0.018319</td>\n",
       "      <td>0.212635</td>\n",
       "      <td>0.004456</td>\n",
       "      <td>572</td>\n",
       "      <td>5</td>\n",
       "      <td>{'randomforestclassifier__n_estimators': 572, ...</td>\n",
       "      <td>0.810871</td>\n",
       "      <td>0.805439</td>\n",
       "      <td>0.843488</td>\n",
       "      <td>0.779501</td>\n",
       "      <td>0.809825</td>\n",
       "      <td>0.022765</td>\n",
       "      <td>19</td>\n",
       "    </tr>\n",
       "    <tr>\n",
       "      <th>23</th>\n",
       "      <td>0.378691</td>\n",
       "      <td>0.007415</td>\n",
       "      <td>0.035451</td>\n",
       "      <td>0.001346</td>\n",
       "      <td>68</td>\n",
       "      <td>10</td>\n",
       "      <td>{'randomforestclassifier__n_estimators': 68, '...</td>\n",
       "      <td>0.816311</td>\n",
       "      <td>0.823300</td>\n",
       "      <td>0.824682</td>\n",
       "      <td>0.774615</td>\n",
       "      <td>0.809727</td>\n",
       "      <td>0.020519</td>\n",
       "      <td>20</td>\n",
       "    </tr>\n",
       "    <tr>\n",
       "      <th>47</th>\n",
       "      <td>4.746970</td>\n",
       "      <td>0.042569</td>\n",
       "      <td>0.408212</td>\n",
       "      <td>0.013127</td>\n",
       "      <td>1042</td>\n",
       "      <td>5</td>\n",
       "      <td>{'randomforestclassifier__n_estimators': 1042,...</td>\n",
       "      <td>0.809891</td>\n",
       "      <td>0.806054</td>\n",
       "      <td>0.843232</td>\n",
       "      <td>0.779123</td>\n",
       "      <td>0.809575</td>\n",
       "      <td>0.022763</td>\n",
       "      <td>21</td>\n",
       "    </tr>\n",
       "    <tr>\n",
       "      <th>35</th>\n",
       "      <td>7.685335</td>\n",
       "      <td>0.038921</td>\n",
       "      <td>0.654543</td>\n",
       "      <td>0.009700</td>\n",
       "      <td>1592</td>\n",
       "      <td>11</td>\n",
       "      <td>{'randomforestclassifier__n_estimators': 1592,...</td>\n",
       "      <td>0.813478</td>\n",
       "      <td>0.823807</td>\n",
       "      <td>0.826821</td>\n",
       "      <td>0.773318</td>\n",
       "      <td>0.809356</td>\n",
       "      <td>0.021387</td>\n",
       "      <td>22</td>\n",
       "    </tr>\n",
       "    <tr>\n",
       "      <th>24</th>\n",
       "      <td>7.273981</td>\n",
       "      <td>0.025752</td>\n",
       "      <td>0.605980</td>\n",
       "      <td>0.005547</td>\n",
       "      <td>1489</td>\n",
       "      <td>11</td>\n",
       "      <td>{'randomforestclassifier__n_estimators': 1489,...</td>\n",
       "      <td>0.814867</td>\n",
       "      <td>0.824158</td>\n",
       "      <td>0.826921</td>\n",
       "      <td>0.770844</td>\n",
       "      <td>0.809197</td>\n",
       "      <td>0.022589</td>\n",
       "      <td>23</td>\n",
       "    </tr>\n",
       "    <tr>\n",
       "      <th>18</th>\n",
       "      <td>9.413679</td>\n",
       "      <td>0.043320</td>\n",
       "      <td>0.853998</td>\n",
       "      <td>0.003503</td>\n",
       "      <td>1933</td>\n",
       "      <td>12</td>\n",
       "      <td>{'randomforestclassifier__n_estimators': 1933,...</td>\n",
       "      <td>0.815460</td>\n",
       "      <td>0.823636</td>\n",
       "      <td>0.826283</td>\n",
       "      <td>0.769663</td>\n",
       "      <td>0.808760</td>\n",
       "      <td>0.022923</td>\n",
       "      <td>24</td>\n",
       "    </tr>\n",
       "    <tr>\n",
       "      <th>11</th>\n",
       "      <td>2.670276</td>\n",
       "      <td>0.007304</td>\n",
       "      <td>0.234225</td>\n",
       "      <td>0.003897</td>\n",
       "      <td>562</td>\n",
       "      <td>12</td>\n",
       "      <td>{'randomforestclassifier__n_estimators': 562, ...</td>\n",
       "      <td>0.813655</td>\n",
       "      <td>0.824235</td>\n",
       "      <td>0.825799</td>\n",
       "      <td>0.771108</td>\n",
       "      <td>0.808700</td>\n",
       "      <td>0.022200</td>\n",
       "      <td>25</td>\n",
       "    </tr>\n",
       "    <tr>\n",
       "      <th>25</th>\n",
       "      <td>1.597481</td>\n",
       "      <td>0.003450</td>\n",
       "      <td>0.143005</td>\n",
       "      <td>0.011708</td>\n",
       "      <td>319</td>\n",
       "      <td>11</td>\n",
       "      <td>{'randomforestclassifier__n_estimators': 319, ...</td>\n",
       "      <td>0.812234</td>\n",
       "      <td>0.824719</td>\n",
       "      <td>0.824368</td>\n",
       "      <td>0.772832</td>\n",
       "      <td>0.808538</td>\n",
       "      <td>0.021219</td>\n",
       "      <td>26</td>\n",
       "    </tr>\n",
       "    <tr>\n",
       "      <th>7</th>\n",
       "      <td>3.475778</td>\n",
       "      <td>0.026856</td>\n",
       "      <td>0.292417</td>\n",
       "      <td>0.004039</td>\n",
       "      <td>718</td>\n",
       "      <td>12</td>\n",
       "      <td>{'randomforestclassifier__n_estimators': 718, ...</td>\n",
       "      <td>0.813593</td>\n",
       "      <td>0.823786</td>\n",
       "      <td>0.824837</td>\n",
       "      <td>0.771371</td>\n",
       "      <td>0.808397</td>\n",
       "      <td>0.021823</td>\n",
       "      <td>27</td>\n",
       "    </tr>\n",
       "    <tr>\n",
       "      <th>4</th>\n",
       "      <td>0.846246</td>\n",
       "      <td>0.007189</td>\n",
       "      <td>0.078529</td>\n",
       "      <td>0.003459</td>\n",
       "      <td>175</td>\n",
       "      <td>12</td>\n",
       "      <td>{'randomforestclassifier__n_estimators': 175, ...</td>\n",
       "      <td>0.814053</td>\n",
       "      <td>0.824281</td>\n",
       "      <td>0.825694</td>\n",
       "      <td>0.768799</td>\n",
       "      <td>0.808207</td>\n",
       "      <td>0.023191</td>\n",
       "      <td>28</td>\n",
       "    </tr>\n",
       "    <tr>\n",
       "      <th>29</th>\n",
       "      <td>4.328353</td>\n",
       "      <td>0.019863</td>\n",
       "      <td>0.368253</td>\n",
       "      <td>0.001788</td>\n",
       "      <td>883</td>\n",
       "      <td>13</td>\n",
       "      <td>{'randomforestclassifier__n_estimators': 883, ...</td>\n",
       "      <td>0.811988</td>\n",
       "      <td>0.823702</td>\n",
       "      <td>0.826515</td>\n",
       "      <td>0.769706</td>\n",
       "      <td>0.807978</td>\n",
       "      <td>0.022758</td>\n",
       "      <td>29</td>\n",
       "    </tr>\n",
       "    <tr>\n",
       "      <th>45</th>\n",
       "      <td>1.851153</td>\n",
       "      <td>0.020349</td>\n",
       "      <td>0.165942</td>\n",
       "      <td>0.003731</td>\n",
       "      <td>377</td>\n",
       "      <td>12</td>\n",
       "      <td>{'randomforestclassifier__n_estimators': 377, ...</td>\n",
       "      <td>0.812758</td>\n",
       "      <td>0.824894</td>\n",
       "      <td>0.825398</td>\n",
       "      <td>0.768119</td>\n",
       "      <td>0.807793</td>\n",
       "      <td>0.023458</td>\n",
       "      <td>30</td>\n",
       "    </tr>\n",
       "    <tr>\n",
       "      <th>0</th>\n",
       "      <td>1.706264</td>\n",
       "      <td>0.016346</td>\n",
       "      <td>0.139461</td>\n",
       "      <td>0.003405</td>\n",
       "      <td>304</td>\n",
       "      <td>13</td>\n",
       "      <td>{'randomforestclassifier__n_estimators': 304, ...</td>\n",
       "      <td>0.812931</td>\n",
       "      <td>0.824431</td>\n",
       "      <td>0.823186</td>\n",
       "      <td>0.770126</td>\n",
       "      <td>0.807669</td>\n",
       "      <td>0.022130</td>\n",
       "      <td>31</td>\n",
       "    </tr>\n",
       "    <tr>\n",
       "      <th>37</th>\n",
       "      <td>3.803520</td>\n",
       "      <td>0.025151</td>\n",
       "      <td>0.323962</td>\n",
       "      <td>0.004484</td>\n",
       "      <td>768</td>\n",
       "      <td>13</td>\n",
       "      <td>{'randomforestclassifier__n_estimators': 768, ...</td>\n",
       "      <td>0.812687</td>\n",
       "      <td>0.822824</td>\n",
       "      <td>0.824212</td>\n",
       "      <td>0.769300</td>\n",
       "      <td>0.807256</td>\n",
       "      <td>0.022361</td>\n",
       "      <td>32</td>\n",
       "    </tr>\n",
       "    <tr>\n",
       "      <th>8</th>\n",
       "      <td>1.901235</td>\n",
       "      <td>0.009313</td>\n",
       "      <td>0.162367</td>\n",
       "      <td>0.004105</td>\n",
       "      <td>465</td>\n",
       "      <td>4</td>\n",
       "      <td>{'randomforestclassifier__n_estimators': 465, ...</td>\n",
       "      <td>0.808571</td>\n",
       "      <td>0.796770</td>\n",
       "      <td>0.842088</td>\n",
       "      <td>0.778726</td>\n",
       "      <td>0.806539</td>\n",
       "      <td>0.023113</td>\n",
       "      <td>33</td>\n",
       "    </tr>\n",
       "    <tr>\n",
       "      <th>26</th>\n",
       "      <td>2.450507</td>\n",
       "      <td>0.018737</td>\n",
       "      <td>0.208355</td>\n",
       "      <td>0.005784</td>\n",
       "      <td>596</td>\n",
       "      <td>4</td>\n",
       "      <td>{'randomforestclassifier__n_estimators': 596, ...</td>\n",
       "      <td>0.808373</td>\n",
       "      <td>0.795644</td>\n",
       "      <td>0.841801</td>\n",
       "      <td>0.777823</td>\n",
       "      <td>0.805910</td>\n",
       "      <td>0.023391</td>\n",
       "      <td>34</td>\n",
       "    </tr>\n",
       "    <tr>\n",
       "      <th>22</th>\n",
       "      <td>2.624133</td>\n",
       "      <td>0.021999</td>\n",
       "      <td>0.228544</td>\n",
       "      <td>0.001609</td>\n",
       "      <td>620</td>\n",
       "      <td>4</td>\n",
       "      <td>{'randomforestclassifier__n_estimators': 620, ...</td>\n",
       "      <td>0.806405</td>\n",
       "      <td>0.796601</td>\n",
       "      <td>0.842247</td>\n",
       "      <td>0.776419</td>\n",
       "      <td>0.805418</td>\n",
       "      <td>0.023854</td>\n",
       "      <td>35</td>\n",
       "    </tr>\n",
       "    <tr>\n",
       "      <th>10</th>\n",
       "      <td>2.254661</td>\n",
       "      <td>0.006014</td>\n",
       "      <td>0.186975</td>\n",
       "      <td>0.002099</td>\n",
       "      <td>576</td>\n",
       "      <td>3</td>\n",
       "      <td>{'randomforestclassifier__n_estimators': 576, ...</td>\n",
       "      <td>0.808856</td>\n",
       "      <td>0.781717</td>\n",
       "      <td>0.836743</td>\n",
       "      <td>0.771594</td>\n",
       "      <td>0.799728</td>\n",
       "      <td>0.025344</td>\n",
       "      <td>36</td>\n",
       "    </tr>\n",
       "    <tr>\n",
       "      <th>20</th>\n",
       "      <td>5.839343</td>\n",
       "      <td>0.022868</td>\n",
       "      <td>0.487152</td>\n",
       "      <td>0.003989</td>\n",
       "      <td>1461</td>\n",
       "      <td>3</td>\n",
       "      <td>{'randomforestclassifier__n_estimators': 1461,...</td>\n",
       "      <td>0.806957</td>\n",
       "      <td>0.782953</td>\n",
       "      <td>0.837455</td>\n",
       "      <td>0.770823</td>\n",
       "      <td>0.799547</td>\n",
       "      <td>0.025457</td>\n",
       "      <td>37</td>\n",
       "    </tr>\n",
       "    <tr>\n",
       "      <th>21</th>\n",
       "      <td>4.914446</td>\n",
       "      <td>0.024242</td>\n",
       "      <td>0.433024</td>\n",
       "      <td>0.003622</td>\n",
       "      <td>1201</td>\n",
       "      <td>3</td>\n",
       "      <td>{'randomforestclassifier__n_estimators': 1201,...</td>\n",
       "      <td>0.806902</td>\n",
       "      <td>0.781827</td>\n",
       "      <td>0.835626</td>\n",
       "      <td>0.771745</td>\n",
       "      <td>0.799025</td>\n",
       "      <td>0.024707</td>\n",
       "      <td>38</td>\n",
       "    </tr>\n",
       "    <tr>\n",
       "      <th>3</th>\n",
       "      <td>6.007523</td>\n",
       "      <td>0.024825</td>\n",
       "      <td>0.494295</td>\n",
       "      <td>0.003819</td>\n",
       "      <td>1540</td>\n",
       "      <td>3</td>\n",
       "      <td>{'randomforestclassifier__n_estimators': 1540,...</td>\n",
       "      <td>0.806888</td>\n",
       "      <td>0.779921</td>\n",
       "      <td>0.834819</td>\n",
       "      <td>0.770632</td>\n",
       "      <td>0.798065</td>\n",
       "      <td>0.025052</td>\n",
       "      <td>39</td>\n",
       "    </tr>\n",
       "    <tr>\n",
       "      <th>41</th>\n",
       "      <td>6.134435</td>\n",
       "      <td>0.019256</td>\n",
       "      <td>0.510769</td>\n",
       "      <td>0.015004</td>\n",
       "      <td>1656</td>\n",
       "      <td>2</td>\n",
       "      <td>{'randomforestclassifier__n_estimators': 1656,...</td>\n",
       "      <td>0.800261</td>\n",
       "      <td>0.774832</td>\n",
       "      <td>0.827482</td>\n",
       "      <td>0.758671</td>\n",
       "      <td>0.790311</td>\n",
       "      <td>0.026083</td>\n",
       "      <td>40</td>\n",
       "    </tr>\n",
       "    <tr>\n",
       "      <th>42</th>\n",
       "      <td>7.380032</td>\n",
       "      <td>0.032043</td>\n",
       "      <td>0.598096</td>\n",
       "      <td>0.003873</td>\n",
       "      <td>1990</td>\n",
       "      <td>2</td>\n",
       "      <td>{'randomforestclassifier__n_estimators': 1990,...</td>\n",
       "      <td>0.801777</td>\n",
       "      <td>0.771631</td>\n",
       "      <td>0.828344</td>\n",
       "      <td>0.757075</td>\n",
       "      <td>0.789706</td>\n",
       "      <td>0.027523</td>\n",
       "      <td>41</td>\n",
       "    </tr>\n",
       "    <tr>\n",
       "      <th>34</th>\n",
       "      <td>4.116429</td>\n",
       "      <td>0.011367</td>\n",
       "      <td>0.334144</td>\n",
       "      <td>0.001373</td>\n",
       "      <td>1105</td>\n",
       "      <td>2</td>\n",
       "      <td>{'randomforestclassifier__n_estimators': 1105,...</td>\n",
       "      <td>0.799866</td>\n",
       "      <td>0.772196</td>\n",
       "      <td>0.827970</td>\n",
       "      <td>0.758347</td>\n",
       "      <td>0.789595</td>\n",
       "      <td>0.026727</td>\n",
       "      <td>42</td>\n",
       "    </tr>\n",
       "    <tr>\n",
       "      <th>19</th>\n",
       "      <td>1.965283</td>\n",
       "      <td>0.017617</td>\n",
       "      <td>0.162073</td>\n",
       "      <td>0.003134</td>\n",
       "      <td>533</td>\n",
       "      <td>2</td>\n",
       "      <td>{'randomforestclassifier__n_estimators': 533, ...</td>\n",
       "      <td>0.801186</td>\n",
       "      <td>0.769248</td>\n",
       "      <td>0.827218</td>\n",
       "      <td>0.757608</td>\n",
       "      <td>0.788815</td>\n",
       "      <td>0.027315</td>\n",
       "      <td>43</td>\n",
       "    </tr>\n",
       "    <tr>\n",
       "      <th>31</th>\n",
       "      <td>3.132881</td>\n",
       "      <td>0.011692</td>\n",
       "      <td>0.262186</td>\n",
       "      <td>0.004417</td>\n",
       "      <td>847</td>\n",
       "      <td>2</td>\n",
       "      <td>{'randomforestclassifier__n_estimators': 847, ...</td>\n",
       "      <td>0.797024</td>\n",
       "      <td>0.770340</td>\n",
       "      <td>0.826470</td>\n",
       "      <td>0.759127</td>\n",
       "      <td>0.788240</td>\n",
       "      <td>0.026013</td>\n",
       "      <td>44</td>\n",
       "    </tr>\n",
       "    <tr>\n",
       "      <th>36</th>\n",
       "      <td>6.621075</td>\n",
       "      <td>0.006907</td>\n",
       "      <td>0.547523</td>\n",
       "      <td>0.006172</td>\n",
       "      <td>1949</td>\n",
       "      <td>1</td>\n",
       "      <td>{'randomforestclassifier__n_estimators': 1949,...</td>\n",
       "      <td>0.769534</td>\n",
       "      <td>0.735707</td>\n",
       "      <td>0.789182</td>\n",
       "      <td>0.716041</td>\n",
       "      <td>0.752616</td>\n",
       "      <td>0.028491</td>\n",
       "      <td>45</td>\n",
       "    </tr>\n",
       "    <tr>\n",
       "      <th>2</th>\n",
       "      <td>3.151421</td>\n",
       "      <td>0.010871</td>\n",
       "      <td>0.259905</td>\n",
       "      <td>0.004271</td>\n",
       "      <td>910</td>\n",
       "      <td>1</td>\n",
       "      <td>{'randomforestclassifier__n_estimators': 910, ...</td>\n",
       "      <td>0.769610</td>\n",
       "      <td>0.730763</td>\n",
       "      <td>0.792128</td>\n",
       "      <td>0.716123</td>\n",
       "      <td>0.752156</td>\n",
       "      <td>0.030242</td>\n",
       "      <td>46</td>\n",
       "    </tr>\n",
       "    <tr>\n",
       "      <th>32</th>\n",
       "      <td>0.834542</td>\n",
       "      <td>0.005520</td>\n",
       "      <td>0.074513</td>\n",
       "      <td>0.001573</td>\n",
       "      <td>239</td>\n",
       "      <td>1</td>\n",
       "      <td>{'randomforestclassifier__n_estimators': 239, ...</td>\n",
       "      <td>0.766663</td>\n",
       "      <td>0.731217</td>\n",
       "      <td>0.792924</td>\n",
       "      <td>0.715072</td>\n",
       "      <td>0.751469</td>\n",
       "      <td>0.030349</td>\n",
       "      <td>47</td>\n",
       "    </tr>\n",
       "    <tr>\n",
       "      <th>38</th>\n",
       "      <td>4.477373</td>\n",
       "      <td>0.022508</td>\n",
       "      <td>0.378423</td>\n",
       "      <td>0.005007</td>\n",
       "      <td>1317</td>\n",
       "      <td>1</td>\n",
       "      <td>{'randomforestclassifier__n_estimators': 1317,...</td>\n",
       "      <td>0.768766</td>\n",
       "      <td>0.729521</td>\n",
       "      <td>0.790826</td>\n",
       "      <td>0.716062</td>\n",
       "      <td>0.751294</td>\n",
       "      <td>0.029931</td>\n",
       "      <td>48</td>\n",
       "    </tr>\n",
       "    <tr>\n",
       "      <th>17</th>\n",
       "      <td>2.793656</td>\n",
       "      <td>0.009151</td>\n",
       "      <td>0.235586</td>\n",
       "      <td>0.002242</td>\n",
       "      <td>819</td>\n",
       "      <td>1</td>\n",
       "      <td>{'randomforestclassifier__n_estimators': 819, ...</td>\n",
       "      <td>0.767389</td>\n",
       "      <td>0.726028</td>\n",
       "      <td>0.791893</td>\n",
       "      <td>0.715850</td>\n",
       "      <td>0.750290</td>\n",
       "      <td>0.030814</td>\n",
       "      <td>49</td>\n",
       "    </tr>\n",
       "    <tr>\n",
       "      <th>16</th>\n",
       "      <td>5.903091</td>\n",
       "      <td>0.034038</td>\n",
       "      <td>0.498263</td>\n",
       "      <td>0.019072</td>\n",
       "      <td>1735</td>\n",
       "      <td>1</td>\n",
       "      <td>{'randomforestclassifier__n_estimators': 1735,...</td>\n",
       "      <td>0.762395</td>\n",
       "      <td>0.730089</td>\n",
       "      <td>0.790564</td>\n",
       "      <td>0.716399</td>\n",
       "      <td>0.749862</td>\n",
       "      <td>0.028829</td>\n",
       "      <td>50</td>\n",
       "    </tr>\n",
       "  </tbody>\n",
       "</table>\n",
       "</div>"
      ],
      "text/plain": [
       "    mean_fit_time  std_fit_time  mean_score_time  std_score_time  \\\n",
       "44       4.210884      0.024762         0.370521        0.003917   \n",
       "5        1.438637      0.003048         0.128640        0.005513   \n",
       "12       3.860753      0.022747         0.330505        0.001822   \n",
       "49       2.700105      0.047907         0.221904        0.013256   \n",
       "13       7.451525      0.030031         0.610019        0.004540   \n",
       "14       2.283521      0.020713         0.193880        0.007863   \n",
       "9        6.079500      0.034417         0.524795        0.007748   \n",
       "40       7.575484      0.035779         0.626586        0.000669   \n",
       "1        1.347629      0.006897         0.121524        0.005512   \n",
       "6        7.010121      0.011544         0.590419        0.003008   \n",
       "48       3.822574      0.044996         0.219321        0.004102   \n",
       "46       4.354502      0.018062         0.381860        0.034950   \n",
       "28       6.943471      0.039863         0.581131        0.003093   \n",
       "33       7.783734      0.033724         0.669621        0.004076   \n",
       "30       4.469817      0.012569         0.389713        0.005689   \n",
       "39       1.945793      0.006759         0.173504        0.003384   \n",
       "43       4.741348      0.015551         0.391818        0.004816   \n",
       "27       3.909595      0.018654         0.343964        0.005130   \n",
       "15       2.448059      0.018319         0.212635        0.004456   \n",
       "23       0.378691      0.007415         0.035451        0.001346   \n",
       "47       4.746970      0.042569         0.408212        0.013127   \n",
       "35       7.685335      0.038921         0.654543        0.009700   \n",
       "24       7.273981      0.025752         0.605980        0.005547   \n",
       "18       9.413679      0.043320         0.853998        0.003503   \n",
       "11       2.670276      0.007304         0.234225        0.003897   \n",
       "25       1.597481      0.003450         0.143005        0.011708   \n",
       "7        3.475778      0.026856         0.292417        0.004039   \n",
       "4        0.846246      0.007189         0.078529        0.003459   \n",
       "29       4.328353      0.019863         0.368253        0.001788   \n",
       "45       1.851153      0.020349         0.165942        0.003731   \n",
       "0        1.706264      0.016346         0.139461        0.003405   \n",
       "37       3.803520      0.025151         0.323962        0.004484   \n",
       "8        1.901235      0.009313         0.162367        0.004105   \n",
       "26       2.450507      0.018737         0.208355        0.005784   \n",
       "22       2.624133      0.021999         0.228544        0.001609   \n",
       "10       2.254661      0.006014         0.186975        0.002099   \n",
       "20       5.839343      0.022868         0.487152        0.003989   \n",
       "21       4.914446      0.024242         0.433024        0.003622   \n",
       "3        6.007523      0.024825         0.494295        0.003819   \n",
       "41       6.134435      0.019256         0.510769        0.015004   \n",
       "42       7.380032      0.032043         0.598096        0.003873   \n",
       "34       4.116429      0.011367         0.334144        0.001373   \n",
       "19       1.965283      0.017617         0.162073        0.003134   \n",
       "31       3.132881      0.011692         0.262186        0.004417   \n",
       "36       6.621075      0.006907         0.547523        0.006172   \n",
       "2        3.151421      0.010871         0.259905        0.004271   \n",
       "32       0.834542      0.005520         0.074513        0.001573   \n",
       "38       4.477373      0.022508         0.378423        0.005007   \n",
       "17       2.793656      0.009151         0.235586        0.002242   \n",
       "16       5.903091      0.034038         0.498263        0.019072   \n",
       "\n",
       "   param_randomforestclassifier__n_estimators  \\\n",
       "44                                        902   \n",
       "5                                         314   \n",
       "12                                        823   \n",
       "49                                        553   \n",
       "13                                       1663   \n",
       "14                                        473   \n",
       "9                                        1300   \n",
       "40                                       1694   \n",
       "1                                         245   \n",
       "6                                        1584   \n",
       "48                                        855   \n",
       "46                                        927   \n",
       "28                                       1442   \n",
       "33                                       1618   \n",
       "30                                        931   \n",
       "39                                        412   \n",
       "43                                       1088   \n",
       "27                                        916   \n",
       "15                                        572   \n",
       "23                                         68   \n",
       "47                                       1042   \n",
       "35                                       1592   \n",
       "24                                       1489   \n",
       "18                                       1933   \n",
       "11                                        562   \n",
       "25                                        319   \n",
       "7                                         718   \n",
       "4                                         175   \n",
       "29                                        883   \n",
       "45                                        377   \n",
       "0                                         304   \n",
       "37                                        768   \n",
       "8                                         465   \n",
       "26                                        596   \n",
       "22                                        620   \n",
       "10                                        576   \n",
       "20                                       1461   \n",
       "21                                       1201   \n",
       "3                                        1540   \n",
       "41                                       1656   \n",
       "42                                       1990   \n",
       "34                                       1105   \n",
       "19                                        533   \n",
       "31                                        847   \n",
       "36                                       1949   \n",
       "2                                         910   \n",
       "32                                        239   \n",
       "38                                       1317   \n",
       "17                                        819   \n",
       "16                                       1735   \n",
       "\n",
       "   param_randomforestclassifier__max_depth  \\\n",
       "44                                       8   \n",
       "5                                        7   \n",
       "12                                       8   \n",
       "49                                       6   \n",
       "13                                       6   \n",
       "14                                       9   \n",
       "9                                        9   \n",
       "40                                       6   \n",
       "1                                        9   \n",
       "6                                        6   \n",
       "48                                       6   \n",
       "46                                       6   \n",
       "28                                      10   \n",
       "33                                      10   \n",
       "30                                      10   \n",
       "39                                      10   \n",
       "43                                       5   \n",
       "27                                       5   \n",
       "15                                       5   \n",
       "23                                      10   \n",
       "47                                       5   \n",
       "35                                      11   \n",
       "24                                      11   \n",
       "18                                      12   \n",
       "11                                      12   \n",
       "25                                      11   \n",
       "7                                       12   \n",
       "4                                       12   \n",
       "29                                      13   \n",
       "45                                      12   \n",
       "0                                       13   \n",
       "37                                      13   \n",
       "8                                        4   \n",
       "26                                       4   \n",
       "22                                       4   \n",
       "10                                       3   \n",
       "20                                       3   \n",
       "21                                       3   \n",
       "3                                        3   \n",
       "41                                       2   \n",
       "42                                       2   \n",
       "34                                       2   \n",
       "19                                       2   \n",
       "31                                       2   \n",
       "36                                       1   \n",
       "2                                        1   \n",
       "32                                       1   \n",
       "38                                       1   \n",
       "17                                       1   \n",
       "16                                       1   \n",
       "\n",
       "                                               params  split0_test_score  \\\n",
       "44  {'randomforestclassifier__n_estimators': 902, ...           0.814780   \n",
       "5   {'randomforestclassifier__n_estimators': 314, ...           0.815065   \n",
       "12  {'randomforestclassifier__n_estimators': 823, ...           0.814803   \n",
       "49  {'randomforestclassifier__n_estimators': 553, ...           0.812503   \n",
       "13  {'randomforestclassifier__n_estimators': 1663,...           0.813469   \n",
       "14  {'randomforestclassifier__n_estimators': 473, ...           0.816674   \n",
       "9   {'randomforestclassifier__n_estimators': 1300,...           0.816214   \n",
       "40  {'randomforestclassifier__n_estimators': 1694,...           0.812085   \n",
       "1   {'randomforestclassifier__n_estimators': 245, ...           0.816486   \n",
       "6   {'randomforestclassifier__n_estimators': 1584,...           0.812223   \n",
       "48  {'randomforestclassifier__n_estimators': 855, ...           0.810838   \n",
       "46  {'randomforestclassifier__n_estimators': 927, ...           0.813069   \n",
       "28  {'randomforestclassifier__n_estimators': 1442,...           0.816987   \n",
       "33  {'randomforestclassifier__n_estimators': 1618,...           0.815060   \n",
       "30  {'randomforestclassifier__n_estimators': 931, ...           0.814743   \n",
       "39  {'randomforestclassifier__n_estimators': 412, ...           0.814356   \n",
       "43  {'randomforestclassifier__n_estimators': 1088,...           0.810512   \n",
       "27  {'randomforestclassifier__n_estimators': 916, ...           0.810489   \n",
       "15  {'randomforestclassifier__n_estimators': 572, ...           0.810871   \n",
       "23  {'randomforestclassifier__n_estimators': 68, '...           0.816311   \n",
       "47  {'randomforestclassifier__n_estimators': 1042,...           0.809891   \n",
       "35  {'randomforestclassifier__n_estimators': 1592,...           0.813478   \n",
       "24  {'randomforestclassifier__n_estimators': 1489,...           0.814867   \n",
       "18  {'randomforestclassifier__n_estimators': 1933,...           0.815460   \n",
       "11  {'randomforestclassifier__n_estimators': 562, ...           0.813655   \n",
       "25  {'randomforestclassifier__n_estimators': 319, ...           0.812234   \n",
       "7   {'randomforestclassifier__n_estimators': 718, ...           0.813593   \n",
       "4   {'randomforestclassifier__n_estimators': 175, ...           0.814053   \n",
       "29  {'randomforestclassifier__n_estimators': 883, ...           0.811988   \n",
       "45  {'randomforestclassifier__n_estimators': 377, ...           0.812758   \n",
       "0   {'randomforestclassifier__n_estimators': 304, ...           0.812931   \n",
       "37  {'randomforestclassifier__n_estimators': 768, ...           0.812687   \n",
       "8   {'randomforestclassifier__n_estimators': 465, ...           0.808571   \n",
       "26  {'randomforestclassifier__n_estimators': 596, ...           0.808373   \n",
       "22  {'randomforestclassifier__n_estimators': 620, ...           0.806405   \n",
       "10  {'randomforestclassifier__n_estimators': 576, ...           0.808856   \n",
       "20  {'randomforestclassifier__n_estimators': 1461,...           0.806957   \n",
       "21  {'randomforestclassifier__n_estimators': 1201,...           0.806902   \n",
       "3   {'randomforestclassifier__n_estimators': 1540,...           0.806888   \n",
       "41  {'randomforestclassifier__n_estimators': 1656,...           0.800261   \n",
       "42  {'randomforestclassifier__n_estimators': 1990,...           0.801777   \n",
       "34  {'randomforestclassifier__n_estimators': 1105,...           0.799866   \n",
       "19  {'randomforestclassifier__n_estimators': 533, ...           0.801186   \n",
       "31  {'randomforestclassifier__n_estimators': 847, ...           0.797024   \n",
       "36  {'randomforestclassifier__n_estimators': 1949,...           0.769534   \n",
       "2   {'randomforestclassifier__n_estimators': 910, ...           0.769610   \n",
       "32  {'randomforestclassifier__n_estimators': 239, ...           0.766663   \n",
       "38  {'randomforestclassifier__n_estimators': 1317,...           0.768766   \n",
       "17  {'randomforestclassifier__n_estimators': 819, ...           0.767389   \n",
       "16  {'randomforestclassifier__n_estimators': 1735,...           0.762395   \n",
       "\n",
       "    split1_test_score  split2_test_score  split3_test_score  mean_test_score  \\\n",
       "44           0.823528           0.836940           0.782798         0.814511   \n",
       "5            0.819247           0.839334           0.780792         0.813609   \n",
       "12           0.822735           0.834737           0.781430         0.813426   \n",
       "49           0.815977           0.842361           0.781973         0.813204   \n",
       "13           0.815174           0.841477           0.781512         0.812908   \n",
       "14           0.823738           0.830742           0.779957         0.812778   \n",
       "9            0.824217           0.831062           0.779602         0.812774   \n",
       "40           0.814463           0.841992           0.782429         0.812742   \n",
       "1            0.823123           0.831851           0.779237         0.812674   \n",
       "6            0.814536           0.841577           0.781850         0.812546   \n",
       "48           0.815457           0.842526           0.781115         0.812484   \n",
       "46           0.814066           0.841563           0.781161         0.812465   \n",
       "28           0.823579           0.831385           0.775963         0.811978   \n",
       "33           0.824682           0.830027           0.775812         0.811395   \n",
       "30           0.824409           0.830118           0.775712         0.811245   \n",
       "39           0.824381           0.829461           0.775525         0.810931   \n",
       "43           0.807409           0.842444           0.780869         0.810308   \n",
       "27           0.807272           0.843009           0.780276         0.810262   \n",
       "15           0.805439           0.843488           0.779501         0.809825   \n",
       "23           0.823300           0.824682           0.774615         0.809727   \n",
       "47           0.806054           0.843232           0.779123         0.809575   \n",
       "35           0.823807           0.826821           0.773318         0.809356   \n",
       "24           0.824158           0.826921           0.770844         0.809197   \n",
       "18           0.823636           0.826283           0.769663         0.808760   \n",
       "11           0.824235           0.825799           0.771108         0.808700   \n",
       "25           0.824719           0.824368           0.772832         0.808538   \n",
       "7            0.823786           0.824837           0.771371         0.808397   \n",
       "4            0.824281           0.825694           0.768799         0.808207   \n",
       "29           0.823702           0.826515           0.769706         0.807978   \n",
       "45           0.824894           0.825398           0.768119         0.807793   \n",
       "0            0.824431           0.823186           0.770126         0.807669   \n",
       "37           0.822824           0.824212           0.769300         0.807256   \n",
       "8            0.796770           0.842088           0.778726         0.806539   \n",
       "26           0.795644           0.841801           0.777823         0.805910   \n",
       "22           0.796601           0.842247           0.776419         0.805418   \n",
       "10           0.781717           0.836743           0.771594         0.799728   \n",
       "20           0.782953           0.837455           0.770823         0.799547   \n",
       "21           0.781827           0.835626           0.771745         0.799025   \n",
       "3            0.779921           0.834819           0.770632         0.798065   \n",
       "41           0.774832           0.827482           0.758671         0.790311   \n",
       "42           0.771631           0.828344           0.757075         0.789706   \n",
       "34           0.772196           0.827970           0.758347         0.789595   \n",
       "19           0.769248           0.827218           0.757608         0.788815   \n",
       "31           0.770340           0.826470           0.759127         0.788240   \n",
       "36           0.735707           0.789182           0.716041         0.752616   \n",
       "2            0.730763           0.792128           0.716123         0.752156   \n",
       "32           0.731217           0.792924           0.715072         0.751469   \n",
       "38           0.729521           0.790826           0.716062         0.751294   \n",
       "17           0.726028           0.791893           0.715850         0.750290   \n",
       "16           0.730089           0.790564           0.716399         0.749862   \n",
       "\n",
       "    std_test_score  rank_test_score  \n",
       "44        0.019938                1  \n",
       "5         0.021051                2  \n",
       "12        0.019789                3  \n",
       "49        0.021411                4  \n",
       "13        0.021256                5  \n",
       "14        0.019591                6  \n",
       "9         0.019860                7  \n",
       "40        0.021082                8  \n",
       "1         0.020059                9  \n",
       "6         0.021149               10  \n",
       "48        0.021783               11  \n",
       "46        0.021387               12  \n",
       "28        0.021409               13  \n",
       "33        0.021232               14  \n",
       "30        0.021239               15  \n",
       "39        0.021152               16  \n",
       "43        0.021839               17  \n",
       "27        0.022251               18  \n",
       "15        0.022765               19  \n",
       "23        0.020519               20  \n",
       "47        0.022763               21  \n",
       "35        0.021387               22  \n",
       "24        0.022589               23  \n",
       "18        0.022923               24  \n",
       "11        0.022200               25  \n",
       "25        0.021219               26  \n",
       "7         0.021823               27  \n",
       "4         0.023191               28  \n",
       "29        0.022758               29  \n",
       "45        0.023458               30  \n",
       "0         0.022130               31  \n",
       "37        0.022361               32  \n",
       "8         0.023113               33  \n",
       "26        0.023391               34  \n",
       "22        0.023854               35  \n",
       "10        0.025344               36  \n",
       "20        0.025457               37  \n",
       "21        0.024707               38  \n",
       "3         0.025052               39  \n",
       "41        0.026083               40  \n",
       "42        0.027523               41  \n",
       "34        0.026727               42  \n",
       "19        0.027315               43  \n",
       "31        0.026013               44  \n",
       "36        0.028491               45  \n",
       "2         0.030242               46  \n",
       "32        0.030349               47  \n",
       "38        0.029931               48  \n",
       "17        0.030814               49  \n",
       "16        0.028829               50  "
      ]
     },
     "execution_count": 21,
     "metadata": {},
     "output_type": "execute_result"
    }
   ],
   "source": [
    "rf_res = pd.DataFrame(rf_rand_two.cv_results_)\n",
    "rf_res.sort_values('mean_test_score',axis=0, ascending=False)"
   ]
  },
  {
   "cell_type": "markdown",
   "metadata": {},
   "source": [
    "<h3>Random Forest second results</h3>\n",
    "\n",
    "More iterations in the random search yeilded an almost non-existent improvement. I will explore other classifiers before doing a thorough grid search within a more confined range, which will take a good amount of time. "
   ]
  },
  {
   "cell_type": "markdown",
   "metadata": {},
   "source": [
    "<h3>Random Forest Conclusions</h3>\n",
    "\n",
    "The Random Forest Classifier performs well out of the gate with an auc of 0.863 on the training set and 0.894 on the test set. The optimal max depth appears to be either 5 or 6 and the optimal number of estimators is likely between 750 - 1750"
   ]
  },
  {
   "cell_type": "markdown",
   "metadata": {},
   "source": [
    "<h2>Logistic Regression</h2>\n"
   ]
  },
  {
   "cell_type": "code",
   "execution_count": 22,
   "metadata": {},
   "outputs": [],
   "source": [
    "from sklearn.linear_model import LogisticRegression"
   ]
  },
  {
   "cell_type": "code",
   "execution_count": 23,
   "metadata": {},
   "outputs": [],
   "source": [
    "pipe_lr = make_pipeline( \n",
    "    StandardScaler(),\n",
    "    LogisticRegression(max_iter=1000)\n",
    ")\n",
    "\n",
    "params = {'logisticregression__C': np.logspace(-2,6)}\n",
    "\n",
    "#starting with few iterations, and narrowing the ranges afterwards\n",
    "lr = RandomizedSearchCV(pipe_lr,param_distributions=params,cv=5, n_jobs=-1, verbose =10, \n",
    "                                 scoring = 'roc_auc',n_iter=20,random_state = 42)\n"
   ]
  },
  {
   "cell_type": "code",
   "execution_count": 24,
   "metadata": {
    "scrolled": true
   },
   "outputs": [
    {
     "name": "stdout",
     "output_type": "stream",
     "text": [
      "Fitting 5 folds for each of 20 candidates, totalling 100 fits\n"
     ]
    },
    {
     "name": "stderr",
     "output_type": "stream",
     "text": [
      "[Parallel(n_jobs=-1)]: Using backend LokyBackend with 8 concurrent workers.\n",
      "[Parallel(n_jobs=-1)]: Batch computation too fast (0.0331s.) Setting batch_size=2.\n",
      "[Parallel(n_jobs=-1)]: Done   2 tasks      | elapsed:    0.1s\n",
      "[Parallel(n_jobs=-1)]: Done   9 tasks      | elapsed:    0.1s\n",
      "[Parallel(n_jobs=-1)]: Done  16 tasks      | elapsed:    0.2s\n",
      "[Parallel(n_jobs=-1)]: Done  34 tasks      | elapsed:    0.3s\n",
      "[Parallel(n_jobs=-1)]: Done  52 tasks      | elapsed:    0.5s\n",
      "[Parallel(n_jobs=-1)]: Batch computation too fast (0.1982s.) Setting batch_size=4.\n",
      "[Parallel(n_jobs=-1)]: Done  74 tasks      | elapsed:    0.6s\n",
      "[Parallel(n_jobs=-1)]: Done  96 out of 100 | elapsed:    0.7s remaining:    0.0s\n",
      "[Parallel(n_jobs=-1)]: Done 100 out of 100 | elapsed:    0.7s finished\n"
     ]
    },
    {
     "data": {
      "text/plain": [
       "RandomizedSearchCV(cv=5,\n",
       "                   estimator=Pipeline(steps=[('standardscaler',\n",
       "                                              StandardScaler()),\n",
       "                                             ('logisticregression',\n",
       "                                              LogisticRegression(max_iter=1000))]),\n",
       "                   n_iter=20, n_jobs=-1,\n",
       "                   param_distributions={'logisticregression__C': array([1.00000000e-02, 1.45634848e-02, 2.12095089e-02, 3.08884360e-02,\n",
       "       4.49843267e-02, 6.55128557e-02, 9.54095476e-02, 1.38949549e-01,\n",
       "       2.02358965e-0...\n",
       "       3.72759372e+02, 5.42867544e+02, 7.90604321e+02, 1.15139540e+03,\n",
       "       1.67683294e+03, 2.44205309e+03, 3.55648031e+03, 5.17947468e+03,\n",
       "       7.54312006e+03, 1.09854114e+04, 1.59985872e+04, 2.32995181e+04,\n",
       "       3.39322177e+04, 4.94171336e+04, 7.19685673e+04, 1.04811313e+05,\n",
       "       1.52641797e+05, 2.22299648e+05, 3.23745754e+05, 4.71486636e+05,\n",
       "       6.86648845e+05, 1.00000000e+06])},\n",
       "                   random_state=42, scoring='roc_auc', verbose=10)"
      ]
     },
     "execution_count": 24,
     "metadata": {},
     "output_type": "execute_result"
    }
   ],
   "source": [
    "lr.fit(X,y)"
   ]
  },
  {
   "cell_type": "code",
   "execution_count": 25,
   "metadata": {},
   "outputs": [
    {
     "data": {
      "text/plain": [
       "{'logisticregression__C': 0.030888435964774818}"
      ]
     },
     "execution_count": 25,
     "metadata": {},
     "output_type": "execute_result"
    }
   ],
   "source": [
    "lr.best_params_"
   ]
  },
  {
   "cell_type": "code",
   "execution_count": 26,
   "metadata": {},
   "outputs": [
    {
     "data": {
      "text/plain": [
       "0.5493667368667368"
      ]
     },
     "execution_count": 26,
     "metadata": {},
     "output_type": "execute_result"
    }
   ],
   "source": [
    "lr.best_score_"
   ]
  },
  {
   "cell_type": "markdown",
   "metadata": {},
   "source": [
    "<h3>ROC auc - Logistic Regression</h3>\n"
   ]
  },
  {
   "cell_type": "code",
   "execution_count": 27,
   "metadata": {},
   "outputs": [
    {
     "data": {
      "image/png": "[encoded data removed]",
      "text/plain": [
       "<Figure size 432x288 with 1 Axes>"
      ]
     },
     "metadata": {},
     "output_type": "display_data"
    }
   ],
   "source": [
    "c = roc_plot(lr.best_estimator_,X_train,y_train)"
   ]
  },
  {
   "cell_type": "markdown",
   "metadata": {},
   "source": [
    "<h3>Evaluating with test set</h3>"
   ]
  },
  {
   "cell_type": "code",
   "execution_count": 28,
   "metadata": {},
   "outputs": [
    {
     "name": "stdout",
     "output_type": "stream",
     "text": [
      "Evaluating the classifier on the test set, area under the roc curve is: 0.728\n"
     ]
    }
   ],
   "source": [
    "test_comp(lr.best_estimator_)"
   ]
  },
  {
   "cell_type": "markdown",
   "metadata": {},
   "source": [
    "<h3>Logistic Regression Conclusions</h3>\n",
    "\n",
    "The logistic regression results were considerably worse on the training set than random forest. But surprisingly close for the test set. I prefer the random forest classifier, and I expect that on a different test set, I would see different results. "
   ]
  },
  {
   "cell_type": "markdown",
   "metadata": {},
   "source": [
    "<h2>KNN </h2>\n",
    "\n",
    "I don't expect KNN to give better results due to the high-dimensionality of the feature space. I expect PCA to be necessary, though I will try it without first. "
   ]
  },
  {
   "cell_type": "code",
   "execution_count": 29,
   "metadata": {
    "scrolled": true
   },
   "outputs": [
    {
     "name": "stdout",
     "output_type": "stream",
     "text": [
      "Fitting 5 folds for each of 199 candidates, totalling 995 fits\n"
     ]
    },
    {
     "name": "stderr",
     "output_type": "stream",
     "text": [
      "/Users/jon/opt/anaconda3/lib/python3.8/site-packages/sklearn/model_selection/_search.py:278: UserWarning: The total space of parameters 199 is smaller than n_iter=200. Running 199 iterations. For exhaustive searches, use GridSearchCV.\n",
      "  warnings.warn(\n",
      "[Parallel(n_jobs=-1)]: Using backend LokyBackend with 8 concurrent workers.\n",
      "[Parallel(n_jobs=-1)]: Batch computation too fast (0.0900s.) Setting batch_size=2.\n",
      "[Parallel(n_jobs=-1)]: Done   2 tasks      | elapsed:    0.1s\n",
      "[Parallel(n_jobs=-1)]: Done   9 tasks      | elapsed:    0.2s\n",
      "[Parallel(n_jobs=-1)]: Done  16 tasks      | elapsed:    0.3s\n",
      "[Parallel(n_jobs=-1)]: Done  34 tasks      | elapsed:    0.6s\n",
      "[Parallel(n_jobs=-1)]: Done  52 tasks      | elapsed:    0.8s\n",
      "[Parallel(n_jobs=-1)]: Done  74 tasks      | elapsed:    1.0s\n",
      "[Parallel(n_jobs=-1)]: Done  96 tasks      | elapsed:    1.4s\n",
      "[Parallel(n_jobs=-1)]: Done 122 tasks      | elapsed:    1.7s\n",
      "[Parallel(n_jobs=-1)]: Done 148 tasks      | elapsed:    2.1s\n",
      "[Parallel(n_jobs=-1)]: Done 178 tasks      | elapsed:    2.5s\n",
      "[Parallel(n_jobs=-1)]: Done 208 tasks      | elapsed:    3.0s\n",
      "[Parallel(n_jobs=-1)]: Done 242 tasks      | elapsed:    3.5s\n",
      "[Parallel(n_jobs=-1)]: Done 276 tasks      | elapsed:    4.1s\n",
      "[Parallel(n_jobs=-1)]: Done 314 tasks      | elapsed:    4.7s\n",
      "[Parallel(n_jobs=-1)]: Done 352 tasks      | elapsed:    5.4s\n",
      "[Parallel(n_jobs=-1)]: Done 394 tasks      | elapsed:    6.2s\n",
      "[Parallel(n_jobs=-1)]: Done 436 tasks      | elapsed:    7.1s\n",
      "[Parallel(n_jobs=-1)]: Done 482 tasks      | elapsed:    8.0s\n",
      "[Parallel(n_jobs=-1)]: Done 528 tasks      | elapsed:    9.0s\n",
      "[Parallel(n_jobs=-1)]: Done 578 tasks      | elapsed:   10.2s\n",
      "[Parallel(n_jobs=-1)]: Done 628 tasks      | elapsed:   11.5s\n",
      "[Parallel(n_jobs=-1)]: Done 682 tasks      | elapsed:   12.9s\n",
      "[Parallel(n_jobs=-1)]: Done 736 tasks      | elapsed:   14.4s\n",
      "[Parallel(n_jobs=-1)]: Done 794 tasks      | elapsed:   16.0s\n",
      "[Parallel(n_jobs=-1)]: Done 852 tasks      | elapsed:   17.7s\n",
      "[Parallel(n_jobs=-1)]: Done 914 tasks      | elapsed:   19.5s\n",
      "[Parallel(n_jobs=-1)]: Done 980 out of 995 | elapsed:   21.5s remaining:    0.3s\n",
      "[Parallel(n_jobs=-1)]: Done 995 out of 995 | elapsed:   21.9s finished\n"
     ]
    },
    {
     "data": {
      "text/plain": [
       "RandomizedSearchCV(cv=5,\n",
       "                   estimator=Pipeline(steps=[('standardscaler',\n",
       "                                              StandardScaler()),\n",
       "                                             ('kneighborsclassifier',\n",
       "                                              KNeighborsClassifier(weights='distance'))]),\n",
       "                   n_iter=200, n_jobs=-1,\n",
       "                   param_distributions={'kneighborsclassifier__n_neighbors': array([  1,   2,   3,   4,   5,   6,   7,   8,   9,  10,  11,  12,  13,\n",
       "        14,  15,  16,  17,  18,  19,  20,  21,  22,  23,  24,  25,  26,\n",
       "        27,  28,  29,  30,  31,  32,  33,  34,  35,  36,  37,  38,  39,\n",
       "        40,...\n",
       "       118, 119, 120, 121, 122, 123, 124, 125, 126, 127, 128, 129, 130,\n",
       "       131, 132, 133, 134, 135, 136, 137, 138, 139, 140, 141, 142, 143,\n",
       "       144, 145, 146, 147, 148, 149, 150, 151, 152, 153, 154, 155, 156,\n",
       "       157, 158, 159, 160, 161, 162, 163, 164, 165, 166, 167, 168, 169,\n",
       "       170, 171, 172, 173, 174, 175, 176, 177, 178, 179, 180, 181, 182,\n",
       "       183, 184, 185, 186, 187, 188, 189, 190, 191, 192, 193, 194, 195,\n",
       "       196, 197, 198, 199])},\n",
       "                   random_state=42, scoring='roc_auc', verbose=10)"
      ]
     },
     "execution_count": 29,
     "metadata": {},
     "output_type": "execute_result"
    }
   ],
   "source": [
    "from sklearn.neighbors import KNeighborsClassifier\n",
    "\n",
    "pipe_knn = make_pipeline( \n",
    "    StandardScaler(),\n",
    "    KNeighborsClassifier(weights='distance')\n",
    ")\n",
    "\n",
    "params = {'kneighborsclassifier__n_neighbors': np.arange(1,200)}\n",
    "    \n",
    "\n",
    "#starting with few iterations, and narrowing the ranges afterwards\n",
    "knn = RandomizedSearchCV(pipe_knn,param_distributions=params,cv=5, n_jobs=-1, verbose =10, \n",
    "                                 scoring = 'roc_auc',n_iter=200,random_state = 42)\n",
    "\n",
    "knn.fit(X_train,y_train)"
   ]
  },
  {
   "cell_type": "code",
   "execution_count": 30,
   "metadata": {},
   "outputs": [
    {
     "data": {
      "text/plain": [
       "{'kneighborsclassifier__n_neighbors': 162}"
      ]
     },
     "execution_count": 30,
     "metadata": {},
     "output_type": "execute_result"
    }
   ],
   "source": [
    "knn.best_params_"
   ]
  },
  {
   "cell_type": "code",
   "execution_count": 31,
   "metadata": {},
   "outputs": [
    {
     "data": {
      "text/plain": [
       "0.8090926286565455"
      ]
     },
     "execution_count": 31,
     "metadata": {},
     "output_type": "execute_result"
    }
   ],
   "source": [
    "knn.best_score_"
   ]
  },
  {
   "cell_type": "code",
   "execution_count": 32,
   "metadata": {},
   "outputs": [
    {
     "data": {
      "image/png": "[encoded data removed]",
      "text/plain": [
       "<Figure size 432x288 with 1 Axes>"
      ]
     },
     "metadata": {},
     "output_type": "display_data"
    }
   ],
   "source": [
    "c = roc_plot(knn.best_estimator_,X_train,y_train)"
   ]
  },
  {
   "cell_type": "code",
   "execution_count": 33,
   "metadata": {},
   "outputs": [
    {
     "name": "stdout",
     "output_type": "stream",
     "text": [
      "Evaluating the classifier on the test set, area under the roc curve is: 0.811\n"
     ]
    }
   ],
   "source": [
    "test_comp(knn.best_estimator_)"
   ]
  },
  {
   "cell_type": "markdown",
   "metadata": {},
   "source": [
    "Knn performed better than expected, with a max aoc of 0.827 for train and similar for test. Let's see if PCA improves"
   ]
  },
  {
   "cell_type": "code",
   "execution_count": 34,
   "metadata": {
    "scrolled": true
   },
   "outputs": [
    {
     "name": "stdout",
     "output_type": "stream",
     "text": [
      "Fitting 5 folds for each of 200 candidates, totalling 1000 fits\n"
     ]
    },
    {
     "name": "stderr",
     "output_type": "stream",
     "text": [
      "[Parallel(n_jobs=-1)]: Using backend LokyBackend with 8 concurrent workers.\n",
      "[Parallel(n_jobs=-1)]: Batch computation too fast (0.0974s.) Setting batch_size=2.\n",
      "[Parallel(n_jobs=-1)]: Done   2 tasks      | elapsed:    0.1s\n",
      "[Parallel(n_jobs=-1)]: Done   9 tasks      | elapsed:    0.2s\n",
      "[Parallel(n_jobs=-1)]: Done  16 tasks      | elapsed:    0.4s\n",
      "[Parallel(n_jobs=-1)]: Done  34 tasks      | elapsed:    0.6s\n",
      "[Parallel(n_jobs=-1)]: Done  52 tasks      | elapsed:    0.8s\n",
      "[Parallel(n_jobs=-1)]: Done  74 tasks      | elapsed:    1.2s\n",
      "[Parallel(n_jobs=-1)]: Done  96 tasks      | elapsed:    1.5s\n",
      "[Parallel(n_jobs=-1)]: Done 122 tasks      | elapsed:    1.9s\n",
      "[Parallel(n_jobs=-1)]: Done 148 tasks      | elapsed:    2.3s\n",
      "[Parallel(n_jobs=-1)]: Done 178 tasks      | elapsed:    2.6s\n",
      "[Parallel(n_jobs=-1)]: Done 208 tasks      | elapsed:    3.1s\n",
      "[Parallel(n_jobs=-1)]: Done 242 tasks      | elapsed:    3.7s\n",
      "[Parallel(n_jobs=-1)]: Done 276 tasks      | elapsed:    4.0s\n",
      "[Parallel(n_jobs=-1)]: Done 314 tasks      | elapsed:    4.7s\n",
      "[Parallel(n_jobs=-1)]: Done 352 tasks      | elapsed:    5.1s\n",
      "[Parallel(n_jobs=-1)]: Done 394 tasks      | elapsed:    5.8s\n",
      "[Parallel(n_jobs=-1)]: Done 436 tasks      | elapsed:    6.3s\n",
      "[Parallel(n_jobs=-1)]: Done 482 tasks      | elapsed:    7.1s\n",
      "[Parallel(n_jobs=-1)]: Done 528 tasks      | elapsed:    7.6s\n",
      "[Parallel(n_jobs=-1)]: Done 578 tasks      | elapsed:    8.2s\n",
      "[Parallel(n_jobs=-1)]: Done 628 tasks      | elapsed:    8.9s\n",
      "[Parallel(n_jobs=-1)]: Done 682 tasks      | elapsed:    9.7s\n",
      "[Parallel(n_jobs=-1)]: Done 736 tasks      | elapsed:   10.4s\n",
      "[Parallel(n_jobs=-1)]: Done 794 tasks      | elapsed:   11.4s\n",
      "[Parallel(n_jobs=-1)]: Done 852 tasks      | elapsed:   12.1s\n",
      "[Parallel(n_jobs=-1)]: Done 914 tasks      | elapsed:   13.0s\n",
      "[Parallel(n_jobs=-1)]: Done 976 tasks      | elapsed:   14.0s\n",
      "[Parallel(n_jobs=-1)]: Done 985 out of 1000 | elapsed:   14.2s remaining:    0.2s\n",
      "[Parallel(n_jobs=-1)]: Done 1000 out of 1000 | elapsed:   14.3s finished\n"
     ]
    },
    {
     "data": {
      "text/plain": [
       "RandomizedSearchCV(cv=5,\n",
       "                   estimator=Pipeline(steps=[('standardscaler',\n",
       "                                              StandardScaler()),\n",
       "                                             ('pca', PCA()),\n",
       "                                             ('kneighborsclassifier',\n",
       "                                              KNeighborsClassifier(weights='distance'))]),\n",
       "                   n_iter=200, n_jobs=-1,\n",
       "                   param_distributions={'kneighborsclassifier__n_neighbors': array([ 50,  51,  52,  53,  54,  55,  56,  57,  58,  59,  60,  61,  62,\n",
       "        63,  64,  65,  66,  67,  68,  69,  70,  71,  72,  73,  74,  75,\n",
       "        76,  77,  78,  79,  80,  81,  8...\n",
       "       180, 181, 182, 183, 184, 185, 186, 187, 188, 189, 190, 191, 192,\n",
       "       193, 194, 195, 196, 197, 198, 199, 200, 201, 202, 203, 204, 205,\n",
       "       206, 207, 208, 209, 210, 211, 212, 213, 214, 215, 216, 217, 218,\n",
       "       219, 220, 221, 222, 223, 224, 225, 226, 227, 228, 229, 230, 231,\n",
       "       232, 233, 234, 235, 236, 237, 238, 239, 240, 241, 242, 243, 244,\n",
       "       245, 246, 247, 248, 249]),\n",
       "                                        'pca__n_components': array([2, 3, 4, 5])},\n",
       "                   random_state=42, scoring='roc_auc', verbose=10)"
      ]
     },
     "execution_count": 34,
     "metadata": {},
     "output_type": "execute_result"
    }
   ],
   "source": [
    "from sklearn.decomposition import PCA\n",
    "\n",
    "pipe_knn = make_pipeline( \n",
    "    StandardScaler(),\n",
    "    PCA(),\n",
    "    KNeighborsClassifier(weights='distance')\n",
    ")\n",
    "\n",
    "params = {'pca__n_components' : np.arange(2,X.shape[1]),\n",
    "          'kneighborsclassifier__n_neighbors': np.arange(50,250)}\n",
    "    \n",
    "\n",
    "#starting with few iterations, and narrowing the ranges afterwards\n",
    "knn = RandomizedSearchCV(pipe_knn,param_distributions=params,cv=5, n_jobs=-1, verbose =10, \n",
    "                                 scoring = 'roc_auc',n_iter=200,random_state = 42)\n",
    "\n",
    "knn.fit(X_train,y_train)"
   ]
  },
  {
   "cell_type": "code",
   "execution_count": 35,
   "metadata": {},
   "outputs": [
    {
     "data": {
      "text/plain": [
       "{'pca__n_components': 3, 'kneighborsclassifier__n_neighbors': 140}"
      ]
     },
     "execution_count": 35,
     "metadata": {},
     "output_type": "execute_result"
    }
   ],
   "source": [
    "knn.best_params_"
   ]
  },
  {
   "cell_type": "code",
   "execution_count": 36,
   "metadata": {},
   "outputs": [
    {
     "data": {
      "text/plain": [
       "0.8133296106473539"
      ]
     },
     "execution_count": 36,
     "metadata": {},
     "output_type": "execute_result"
    }
   ],
   "source": [
    "knn.best_score_"
   ]
  },
  {
   "cell_type": "code",
   "execution_count": 37,
   "metadata": {},
   "outputs": [
    {
     "data": {
      "image/png": "[encoded data removed]",
      "text/plain": [
       "<Figure size 432x288 with 1 Axes>"
      ]
     },
     "metadata": {},
     "output_type": "display_data"
    }
   ],
   "source": [
    "c = roc_plot(knn.best_estimator_,X_train,y_train)"
   ]
  },
  {
   "cell_type": "markdown",
   "metadata": {},
   "source": [
    "<h3>Evaluating with test set</h3>"
   ]
  },
  {
   "cell_type": "code",
   "execution_count": 38,
   "metadata": {},
   "outputs": [
    {
     "name": "stdout",
     "output_type": "stream",
     "text": [
      "Evaluating the classifier on the test set, area under the roc curve is: 0.816\n"
     ]
    }
   ],
   "source": [
    "test_comp(knn.best_estimator_)"
   ]
  },
  {
   "cell_type": "markdown",
   "metadata": {},
   "source": [
    "<h3>KNN Conclusions</h3>\n",
    "\n",
    "PCA did not improve things by much, if at all. It's certainly not worth it to lose feature importances. "
   ]
  },
  {
   "cell_type": "markdown",
   "metadata": {},
   "source": [
    "<h2>SVC</h2>\n",
    "\n",
    "SVC is supposedly good in high dimension data, and the set I have is relatively high dimension. "
   ]
  },
  {
   "cell_type": "code",
   "execution_count": 40,
   "metadata": {
    "scrolled": true
   },
   "outputs": [
    {
     "name": "stdout",
     "output_type": "stream",
     "text": [
      "Fitting 5 folds for each of 10 candidates, totalling 50 fits\n"
     ]
    },
    {
     "name": "stderr",
     "output_type": "stream",
     "text": [
      "[Parallel(n_jobs=-1)]: Using backend LokyBackend with 8 concurrent workers.\n",
      "[Parallel(n_jobs=-1)]: Done   2 tasks      | elapsed:    1.3s\n",
      "[Parallel(n_jobs=-1)]: Done   9 tasks      | elapsed:    3.6s\n",
      "[Parallel(n_jobs=-1)]: Done  16 tasks      | elapsed:    5.1s\n",
      "[Parallel(n_jobs=-1)]: Done  25 tasks      | elapsed:    6.2s\n",
      "[Parallel(n_jobs=-1)]: Done  34 tasks      | elapsed:    7.8s\n",
      "[Parallel(n_jobs=-1)]: Done  41 out of  50 | elapsed:    9.2s remaining:    2.0s\n",
      "[Parallel(n_jobs=-1)]: Done  47 out of  50 | elapsed:   10.2s remaining:    0.6s\n",
      "[Parallel(n_jobs=-1)]: Done  50 out of  50 | elapsed:   10.5s finished\n"
     ]
    },
    {
     "data": {
      "text/plain": [
       "RandomizedSearchCV(cv=5,\n",
       "                   estimator=Pipeline(steps=[('standardscaler',\n",
       "                                              StandardScaler()),\n",
       "                                             ('svc', SVC(probability=True))]),\n",
       "                   n_jobs=-1,\n",
       "                   param_distributions={'svc__C': array([1.00000000e-05, 1.59985872e-05, 2.55954792e-05, 4.09491506e-05,\n",
       "       6.55128557e-05, 1.04811313e-04, 1.67683294e-04, 2.68269580e-04,\n",
       "       4.29193426e-04, 6.86648845e-04, 1.09854114e-03, 1.75751062e-03,\n",
       "       2.811...\n",
       "       5.17947468e+00, 8.28642773e+00, 1.32571137e+01, 2.12095089e+01,\n",
       "       3.39322177e+01, 5.42867544e+01, 8.68511374e+01, 1.38949549e+02,\n",
       "       2.22299648e+02, 3.55648031e+02, 5.68986603e+02, 9.10298178e+02,\n",
       "       1.45634848e+03, 2.32995181e+03, 3.72759372e+03, 5.96362332e+03,\n",
       "       9.54095476e+03, 1.52641797e+04, 2.44205309e+04, 3.90693994e+04,\n",
       "       6.25055193e+04, 1.00000000e+05])},\n",
       "                   random_state=42, scoring='roc_auc', verbose=10)"
      ]
     },
     "execution_count": 40,
     "metadata": {},
     "output_type": "execute_result"
    }
   ],
   "source": [
    "from sklearn.svm import SVC\n",
    "\n",
    "pipe_svc = make_pipeline( \n",
    "    StandardScaler(),\n",
    "    SVC(probability=True)\n",
    ")\n",
    "\n",
    "params = {'svc__C': np.logspace(-5,5)}\n",
    "    \n",
    "\n",
    "#starting with few iterations, and narrowing the ranges afterwards\n",
    "svc = RandomizedSearchCV(pipe_svc,param_distributions=params,cv=5, n_jobs=-1, verbose =10, \n",
    "                                 scoring = 'roc_auc',n_iter=10,random_state = 42)\n",
    "\n",
    "svc.fit(X_train,y_train)"
   ]
  },
  {
   "cell_type": "code",
   "execution_count": 41,
   "metadata": {},
   "outputs": [
    {
     "data": {
      "text/plain": [
       "{'svc__C': 62505.51925273976}"
      ]
     },
     "execution_count": 41,
     "metadata": {},
     "output_type": "execute_result"
    }
   ],
   "source": [
    "svc.best_params_"
   ]
  },
  {
   "cell_type": "code",
   "execution_count": 42,
   "metadata": {},
   "outputs": [
    {
     "data": {
      "text/plain": [
       "0.6239667844731374"
      ]
     },
     "execution_count": 42,
     "metadata": {},
     "output_type": "execute_result"
    }
   ],
   "source": [
    "svc.best_score_"
   ]
  },
  {
   "cell_type": "code",
   "execution_count": 43,
   "metadata": {},
   "outputs": [
    {
     "data": {
      "image/png": "[encoded data removed]",
      "text/plain": [
       "<Figure size 432x288 with 1 Axes>"
      ]
     },
     "metadata": {},
     "output_type": "display_data"
    }
   ],
   "source": [
    "c = roc_plot(svc.best_estimator_,X_train,y_train)"
   ]
  },
  {
   "cell_type": "markdown",
   "metadata": {},
   "source": [
    "<h3>Evaluating with test set</h3>"
   ]
  },
  {
   "cell_type": "code",
   "execution_count": 44,
   "metadata": {},
   "outputs": [
    {
     "name": "stdout",
     "output_type": "stream",
     "text": [
      "Evaluating the classifier on the test set, area under the roc curve is: 0.404\n"
     ]
    }
   ],
   "source": [
    "test_comp(svc.best_estimator_)"
   ]
  },
  {
   "cell_type": "markdown",
   "metadata": {},
   "source": [
    "<h3>SVC Conclusions</h3>\n",
    "\n",
    "SVC clearly performs worse"
   ]
  },
  {
   "cell_type": "markdown",
   "metadata": {},
   "source": [
    "<h1>Choosing a classifier</h1>\n",
    "\n",
    "Two models stand out as options to ultimately choose -- Random Forest and KNN. The random forest model has a feature importance attribute, which is a great piece of data, so I will choose it. "
   ]
  },
  {
   "cell_type": "code",
   "execution_count": 45,
   "metadata": {
    "scrolled": true
   },
   "outputs": [
    {
     "name": "stdout",
     "output_type": "stream",
     "text": [
      "Fitting 5 folds for each of 150 candidates, totalling 750 fits\n"
     ]
    },
    {
     "name": "stderr",
     "output_type": "stream",
     "text": [
      "[Parallel(n_jobs=-1)]: Using backend LokyBackend with 8 concurrent workers.\n",
      "[Parallel(n_jobs=-1)]: Done   2 tasks      | elapsed:    4.3s\n",
      "[Parallel(n_jobs=-1)]: Done   9 tasks      | elapsed:    8.5s\n",
      "[Parallel(n_jobs=-1)]: Done  16 tasks      | elapsed:    9.4s\n",
      "[Parallel(n_jobs=-1)]: Done  25 tasks      | elapsed:   17.8s\n",
      "[Parallel(n_jobs=-1)]: Done  34 tasks      | elapsed:   23.6s\n",
      "[Parallel(n_jobs=-1)]: Done  45 tasks      | elapsed:   30.3s\n",
      "[Parallel(n_jobs=-1)]: Done  56 tasks      | elapsed:   37.1s\n",
      "[Parallel(n_jobs=-1)]: Done  69 tasks      | elapsed:   48.2s\n",
      "[Parallel(n_jobs=-1)]: Done  82 tasks      | elapsed:  1.0min\n",
      "[Parallel(n_jobs=-1)]: Done  97 tasks      | elapsed:  1.3min\n",
      "[Parallel(n_jobs=-1)]: Done 112 tasks      | elapsed:  1.5min\n",
      "[Parallel(n_jobs=-1)]: Done 129 tasks      | elapsed:  1.7min\n",
      "[Parallel(n_jobs=-1)]: Done 146 tasks      | elapsed:  1.9min\n",
      "[Parallel(n_jobs=-1)]: Done 165 tasks      | elapsed:  2.1min\n",
      "[Parallel(n_jobs=-1)]: Done 184 tasks      | elapsed:  2.3min\n",
      "[Parallel(n_jobs=-1)]: Done 205 tasks      | elapsed:  2.6min\n",
      "[Parallel(n_jobs=-1)]: Done 226 tasks      | elapsed:  2.9min\n",
      "[Parallel(n_jobs=-1)]: Done 249 tasks      | elapsed:  3.4min\n",
      "[Parallel(n_jobs=-1)]: Done 272 tasks      | elapsed:  3.6min\n",
      "[Parallel(n_jobs=-1)]: Done 297 tasks      | elapsed:  4.0min\n",
      "[Parallel(n_jobs=-1)]: Done 322 tasks      | elapsed:  4.4min\n",
      "[Parallel(n_jobs=-1)]: Done 349 tasks      | elapsed:  5.0min\n",
      "[Parallel(n_jobs=-1)]: Done 376 tasks      | elapsed:  5.4min\n",
      "[Parallel(n_jobs=-1)]: Done 405 tasks      | elapsed:  5.7min\n",
      "[Parallel(n_jobs=-1)]: Done 434 tasks      | elapsed:  6.2min\n",
      "[Parallel(n_jobs=-1)]: Done 465 tasks      | elapsed:  6.7min\n",
      "[Parallel(n_jobs=-1)]: Done 496 tasks      | elapsed:  7.4min\n",
      "[Parallel(n_jobs=-1)]: Done 529 tasks      | elapsed:  7.8min\n",
      "[Parallel(n_jobs=-1)]: Done 562 tasks      | elapsed:  8.3min\n",
      "[Parallel(n_jobs=-1)]: Done 597 tasks      | elapsed:  8.9min\n",
      "[Parallel(n_jobs=-1)]: Done 632 tasks      | elapsed:  9.5min\n",
      "[Parallel(n_jobs=-1)]: Done 669 tasks      | elapsed: 10.0min\n",
      "[Parallel(n_jobs=-1)]: Done 706 tasks      | elapsed: 10.7min\n",
      "[Parallel(n_jobs=-1)]: Done 750 out of 750 | elapsed: 11.8min finished\n"
     ]
    },
    {
     "data": {
      "text/plain": [
       "GridSearchCV(cv=5,\n",
       "             estimator=Pipeline(steps=[('standardscaler', StandardScaler()),\n",
       "                                       ('randomforestclassifier',\n",
       "                                        RandomForestClassifier())]),\n",
       "             n_jobs=-1,\n",
       "             param_grid={'randomforestclassifier__max_depth': array([4, 5, 6, 7, 8, 9]),\n",
       "                         'randomforestclassifier__n_estimators': array([ 750,  800,  850,  900,  950, 1000, 1050, 1100, 1150, 1200, 1250,\n",
       "       1300, 1350, 1400, 1450, 1500, 1550, 1600, 1650, 1700, 1750, 1800,\n",
       "       1850, 1900, 1950])},\n",
       "             scoring='roc_auc', verbose=10)"
      ]
     },
     "execution_count": 45,
     "metadata": {},
     "output_type": "execute_result"
    }
   ],
   "source": [
    "from sklearn.model_selection import GridSearchCV\n",
    "\n",
    "pipe_rf = make_pipeline( \n",
    "    StandardScaler(), \n",
    "    RandomForestClassifier()\n",
    ")\n",
    "\n",
    "params = {'randomforestclassifier__n_estimators': np.arange(750,2000,50),\n",
    "          'randomforestclassifier__max_depth' :  np.arange(4,10)}\n",
    "\n",
    "rf = GridSearchCV(pipe,param_grid=params,cv=5, n_jobs=-1, scoring = 'roc_auc',verbose=10)\n",
    "\n",
    "rf.fit(X_train,y_train)"
   ]
  },
  {
   "cell_type": "code",
   "execution_count": 46,
   "metadata": {
    "scrolled": false
   },
   "outputs": [
    {
     "data": {
      "text/plain": [
       "{'randomforestclassifier__max_depth': 8,\n",
       " 'randomforestclassifier__n_estimators': 950}"
      ]
     },
     "execution_count": 46,
     "metadata": {},
     "output_type": "execute_result"
    }
   ],
   "source": [
    "rf.best_params_"
   ]
  },
  {
   "cell_type": "markdown",
   "metadata": {},
   "source": [
    "***Evaluating Performance***"
   ]
  },
  {
   "cell_type": "code",
   "execution_count": 47,
   "metadata": {},
   "outputs": [
    {
     "data": {
      "image/png": "[encoded data removed]",
      "text/plain": [
       "<Figure size 432x288 with 1 Axes>"
      ]
     },
     "metadata": {},
     "output_type": "display_data"
    }
   ],
   "source": [
    "c = roc_plot(rf.best_estimator_,X_train,y_train)"
   ]
  },
  {
   "cell_type": "code",
   "execution_count": 48,
   "metadata": {},
   "outputs": [
    {
     "name": "stdout",
     "output_type": "stream",
     "text": [
      "Evaluating the classifier on the test set, area under the roc curve is: 0.817\n"
     ]
    }
   ],
   "source": [
    "test_comp(rf.best_estimator_)"
   ]
  },
  {
   "cell_type": "markdown",
   "metadata": {},
   "source": [
    "***Looking at feature importance***"
   ]
  },
  {
   "cell_type": "code",
   "execution_count": 49,
   "metadata": {},
   "outputs": [],
   "source": [
    "r = rf.best_estimator_\n",
    "imp = r.steps[1][1].feature_importances_"
   ]
  },
  {
   "cell_type": "code",
   "execution_count": 50,
   "metadata": {},
   "outputs": [
    {
     "data": {
      "text/plain": [
       "<AxesSubplot:xlabel='importance', ylabel='feature'>"
      ]
     },
     "execution_count": 50,
     "metadata": {},
     "output_type": "execute_result"
    },
    {
     "data": {
      "image/png": "[encoded data removed]",
      "text/plain": [
       "<Figure size 1080x1440 with 1 Axes>"
      ]
     },
     "metadata": {},
     "output_type": "display_data"
    }
   ],
   "source": [
    "ax = plt.figure(figsize=(15,20))\n",
    "\n",
    "i = pd.DataFrame({'feature':X_test.columns,'importance':imp}).sort_values('importance',ascending=False)\n",
    "\n",
    "sns.barplot(data=i,y='feature',x='importance',orient='h',color='gray')"
   ]
  },
  {
   "cell_type": "markdown",
   "metadata": {},
   "source": [
    "<h1>Conclusions</h1>\n"
   ]
  },
  {
   "cell_type": "code",
   "execution_count": null,
   "metadata": {},
   "outputs": [],
   "source": []
  },
  {
   "cell_type": "code",
   "execution_count": null,
   "metadata": {},
   "outputs": [],
   "source": []
  }
 ],
 "metadata": {
  "kernelspec": {
   "display_name": "Python 3",
   "language": "python",
   "name": "python3"
  },
  "language_info": {
   "codemirror_mode": {
    "name": "ipython",
    "version": 3
   },
   "file_extension": ".py",
   "mimetype": "text/x-python",
   "name": "python",
   "nbconvert_exporter": "python",
   "pygments_lexer": "ipython3",
   "version": "3.8.3"
  }
 },
 "nbformat": 4,
 "nbformat_minor": 4
}
