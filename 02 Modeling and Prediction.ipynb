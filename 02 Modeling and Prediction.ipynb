{
 "cells": [
  {
   "cell_type": "markdown",
   "metadata": {},
   "source": [
    "<h1>Modeling and Prediction</h1>\n",
    "On the West Nile Virus data set"
   ]
  },
  {
   "cell_type": "code",
   "execution_count": 1,
   "metadata": {},
   "outputs": [],
   "source": [
    "import pandas as pd\n",
    "import numpy as np\n",
    "from scipy import stats\n",
    "import seaborn as sns\n",
    "import matplotlib.pyplot as plt\n",
    "from sklearn.model_selection import train_test_split, cross_val_score, GridSearchCV\n",
    "from sklearn.pipeline import Pipeline\n",
    "from sklearn.metrics import classification_report\n",
    "from sklearn.linear_model import LogisticRegression\n",
    "import pandas.core.algorithms as algos\n",
    "from pandas import Series\n",
    "import scipy.stats.stats as stats\n",
    "\n",
    "sns.set_style('whitegrid')"
   ]
  },
  {
   "cell_type": "code",
   "execution_count": 2,
   "metadata": {},
   "outputs": [],
   "source": [
    "#loading cleaned data\n",
    "X = pd.read_pickle('./data/X2.pkl')\n",
    "y = pd.read_pickle('./data/y.pkl')\n",
    "\n"
   ]
  },
  {
   "cell_type": "code",
   "execution_count": 3,
   "metadata": {},
   "outputs": [],
   "source": [
    "# mistakenly, thought that the train_test_split was done for me. It was not, the test set is for the kaggle competition\n",
    "X_train, X_test, y_train, y_test = train_test_split(X,y,test_size=0.2,random_state=123)"
   ]
  },
  {
   "cell_type": "markdown",
   "metadata": {},
   "source": [
    "<h2>Random Forest Classifier</h2>\n",
    "Random Forest Classifier is a great ensemble method which I will look into first with a Random Search CV. The driving metric for analysis is roc_auc. This data set is heavily class biased -- there are few west nile virus sightings compared to the observations as a whole. The area under the roc curve is relatively good at handling this sort of imbalance."
   ]
  },
  {
   "cell_type": "markdown",
   "metadata": {},
   "source": [
    "***Building Pipeline***"
   ]
  },
  {
   "cell_type": "code",
   "execution_count": 4,
   "metadata": {},
   "outputs": [],
   "source": [
    "from sklearn.pipeline import make_pipeline\n",
    "from sklearn.ensemble import RandomForestClassifier\n",
    "from sklearn.model_selection import RandomizedSearchCV\n",
    "from sklearn.preprocessing import StandardScaler\n",
    "from sklearn.metrics import recall_score\n",
    "from scipy.stats import truncnorm, uniform\n"
   ]
  },
  {
   "cell_type": "code",
   "execution_count": 5,
   "metadata": {},
   "outputs": [],
   "source": [
    "pipe = make_pipeline( \n",
    "    StandardScaler(), \n",
    "    RandomForestClassifier()\n",
    ")"
   ]
  },
  {
   "cell_type": "code",
   "execution_count": 6,
   "metadata": {},
   "outputs": [
    {
     "data": {
      "text/plain": [
       "dict_keys(['memory', 'steps', 'verbose', 'standardscaler', 'randomforestclassifier', 'standardscaler__copy', 'standardscaler__with_mean', 'standardscaler__with_std', 'randomforestclassifier__bootstrap', 'randomforestclassifier__ccp_alpha', 'randomforestclassifier__class_weight', 'randomforestclassifier__criterion', 'randomforestclassifier__max_depth', 'randomforestclassifier__max_features', 'randomforestclassifier__max_leaf_nodes', 'randomforestclassifier__max_samples', 'randomforestclassifier__min_impurity_decrease', 'randomforestclassifier__min_impurity_split', 'randomforestclassifier__min_samples_leaf', 'randomforestclassifier__min_samples_split', 'randomforestclassifier__min_weight_fraction_leaf', 'randomforestclassifier__n_estimators', 'randomforestclassifier__n_jobs', 'randomforestclassifier__oob_score', 'randomforestclassifier__random_state', 'randomforestclassifier__verbose', 'randomforestclassifier__warm_start'])"
      ]
     },
     "execution_count": 6,
     "metadata": {},
     "output_type": "execute_result"
    }
   ],
   "source": [
    "pipe.get_params().keys()\n"
   ]
  },
  {
   "cell_type": "code",
   "execution_count": 7,
   "metadata": {},
   "outputs": [],
   "source": [
    "params = {'randomforestclassifier__n_estimators': np.arange(50,2000),\n",
    "         'randomforestclassifier__max_depth' :  np.arange(2,20)}\n",
    "\n",
    "rf_rand = RandomizedSearchCV(pipe,param_distributions=params,cv=5, n_jobs=-1, scoring = 'roc_auc',n_iter=10,\n",
    "                            random_state = 42, verbose= 10)"
   ]
  },
  {
   "cell_type": "code",
   "execution_count": 8,
   "metadata": {},
   "outputs": [
    {
     "name": "stdout",
     "output_type": "stream",
     "text": [
      "Fitting 5 folds for each of 10 candidates, totalling 50 fits\n"
     ]
    },
    {
     "name": "stderr",
     "output_type": "stream",
     "text": [
      "[Parallel(n_jobs=-1)]: Using backend LokyBackend with 8 concurrent workers.\n",
      "[Parallel(n_jobs=-1)]: Done   2 tasks      | elapsed:    3.3s\n",
      "[Parallel(n_jobs=-1)]: Done   9 tasks      | elapsed:    7.1s\n",
      "[Parallel(n_jobs=-1)]: Done  16 tasks      | elapsed:   11.2s\n",
      "[Parallel(n_jobs=-1)]: Done  25 tasks      | elapsed:   17.4s\n",
      "[Parallel(n_jobs=-1)]: Done  34 tasks      | elapsed:   20.7s\n",
      "[Parallel(n_jobs=-1)]: Done  41 out of  50 | elapsed:   27.3s remaining:    6.0s\n",
      "[Parallel(n_jobs=-1)]: Done  47 out of  50 | elapsed:   28.4s remaining:    1.8s\n",
      "[Parallel(n_jobs=-1)]: Done  50 out of  50 | elapsed:   29.0s finished\n"
     ]
    },
    {
     "data": {
      "text/plain": [
       "RandomizedSearchCV(cv=5,\n",
       "                   estimator=Pipeline(steps=[('standardscaler',\n",
       "                                              StandardScaler()),\n",
       "                                             ('randomforestclassifier',\n",
       "                                              RandomForestClassifier())]),\n",
       "                   n_jobs=-1,\n",
       "                   param_distributions={'randomforestclassifier__max_depth': array([ 2,  3,  4,  5,  6,  7,  8,  9, 10, 11, 12, 13, 14, 15, 16, 17, 18,\n",
       "       19]),\n",
       "                                        'randomforestclassifier__n_estimators': array([  50,   51,   52, ..., 1997, 1998, 1999])},\n",
       "                   random_state=42, scoring='roc_auc', verbose=10)"
      ]
     },
     "execution_count": 8,
     "metadata": {},
     "output_type": "execute_result"
    }
   ],
   "source": [
    "rf_rand.fit(X_train,y_train)"
   ]
  },
  {
   "cell_type": "markdown",
   "metadata": {},
   "source": [
    "***Looking at results from the random search***"
   ]
  },
  {
   "cell_type": "code",
   "execution_count": 9,
   "metadata": {},
   "outputs": [
    {
     "data": {
      "text/plain": [
       "{'randomforestclassifier__n_estimators': 473,\n",
       " 'randomforestclassifier__max_depth': 10}"
      ]
     },
     "execution_count": 9,
     "metadata": {},
     "output_type": "execute_result"
    }
   ],
   "source": [
    "rf_rand.best_params_"
   ]
  },
  {
   "cell_type": "code",
   "execution_count": 10,
   "metadata": {},
   "outputs": [],
   "source": [
    "rf_res = pd.DataFrame(rf_rand.cv_results_)\n"
   ]
  },
  {
   "cell_type": "code",
   "execution_count": 11,
   "metadata": {},
   "outputs": [
    {
     "data": {
      "text/html": [
       "<div>\n",
       "<style scoped>\n",
       "    .dataframe tbody tr th:only-of-type {\n",
       "        vertical-align: middle;\n",
       "    }\n",
       "\n",
       "    .dataframe tbody tr th {\n",
       "        vertical-align: top;\n",
       "    }\n",
       "\n",
       "    .dataframe thead th {\n",
       "        text-align: right;\n",
       "    }\n",
       "</style>\n",
       "<table border=\"1\" class=\"dataframe\">\n",
       "  <thead>\n",
       "    <tr style=\"text-align: right;\">\n",
       "      <th></th>\n",
       "      <th>mean_fit_time</th>\n",
       "      <th>std_fit_time</th>\n",
       "      <th>mean_score_time</th>\n",
       "      <th>std_score_time</th>\n",
       "      <th>param_randomforestclassifier__n_estimators</th>\n",
       "      <th>param_randomforestclassifier__max_depth</th>\n",
       "      <th>params</th>\n",
       "      <th>split0_test_score</th>\n",
       "      <th>split1_test_score</th>\n",
       "      <th>split2_test_score</th>\n",
       "      <th>split3_test_score</th>\n",
       "      <th>split4_test_score</th>\n",
       "      <th>mean_test_score</th>\n",
       "      <th>std_test_score</th>\n",
       "      <th>rank_test_score</th>\n",
       "    </tr>\n",
       "  </thead>\n",
       "  <tbody>\n",
       "    <tr>\n",
       "      <th>6</th>\n",
       "      <td>2.679308</td>\n",
       "      <td>0.189162</td>\n",
       "      <td>0.170169</td>\n",
       "      <td>0.004682</td>\n",
       "      <td>473</td>\n",
       "      <td>10</td>\n",
       "      <td>{'randomforestclassifier__n_estimators': 473, ...</td>\n",
       "      <td>0.813212</td>\n",
       "      <td>0.819425</td>\n",
       "      <td>0.830267</td>\n",
       "      <td>0.831680</td>\n",
       "      <td>0.772346</td>\n",
       "      <td>0.813386</td>\n",
       "      <td>0.021635</td>\n",
       "      <td>1</td>\n",
       "    </tr>\n",
       "    <tr>\n",
       "      <th>4</th>\n",
       "      <td>6.820366</td>\n",
       "      <td>0.252204</td>\n",
       "      <td>0.579699</td>\n",
       "      <td>0.054800</td>\n",
       "      <td>1300</td>\n",
       "      <td>10</td>\n",
       "      <td>{'randomforestclassifier__n_estimators': 1300,...</td>\n",
       "      <td>0.812638</td>\n",
       "      <td>0.818299</td>\n",
       "      <td>0.827262</td>\n",
       "      <td>0.832056</td>\n",
       "      <td>0.773496</td>\n",
       "      <td>0.812750</td>\n",
       "      <td>0.020761</td>\n",
       "      <td>2</td>\n",
       "    </tr>\n",
       "    <tr>\n",
       "      <th>0</th>\n",
       "      <td>1.307992</td>\n",
       "      <td>0.006874</td>\n",
       "      <td>0.085250</td>\n",
       "      <td>0.002238</td>\n",
       "      <td>245</td>\n",
       "      <td>10</td>\n",
       "      <td>{'randomforestclassifier__n_estimators': 245, ...</td>\n",
       "      <td>0.810867</td>\n",
       "      <td>0.819009</td>\n",
       "      <td>0.826854</td>\n",
       "      <td>0.832354</td>\n",
       "      <td>0.773553</td>\n",
       "      <td>0.812527</td>\n",
       "      <td>0.020795</td>\n",
       "      <td>3</td>\n",
       "    </tr>\n",
       "    <tr>\n",
       "      <th>5</th>\n",
       "      <td>3.095127</td>\n",
       "      <td>0.206692</td>\n",
       "      <td>0.224372</td>\n",
       "      <td>0.021232</td>\n",
       "      <td>562</td>\n",
       "      <td>13</td>\n",
       "      <td>{'randomforestclassifier__n_estimators': 562, ...</td>\n",
       "      <td>0.814037</td>\n",
       "      <td>0.816482</td>\n",
       "      <td>0.828266</td>\n",
       "      <td>0.826955</td>\n",
       "      <td>0.770757</td>\n",
       "      <td>0.811299</td>\n",
       "      <td>0.021029</td>\n",
       "      <td>4</td>\n",
       "    </tr>\n",
       "    <tr>\n",
       "      <th>2</th>\n",
       "      <td>7.296745</td>\n",
       "      <td>0.043333</td>\n",
       "      <td>0.495208</td>\n",
       "      <td>0.007708</td>\n",
       "      <td>1584</td>\n",
       "      <td>7</td>\n",
       "      <td>{'randomforestclassifier__n_estimators': 1584,...</td>\n",
       "      <td>0.801740</td>\n",
       "      <td>0.802317</td>\n",
       "      <td>0.819189</td>\n",
       "      <td>0.834894</td>\n",
       "      <td>0.771161</td>\n",
       "      <td>0.805860</td>\n",
       "      <td>0.021233</td>\n",
       "      <td>5</td>\n",
       "    </tr>\n",
       "    <tr>\n",
       "      <th>3</th>\n",
       "      <td>1.972616</td>\n",
       "      <td>0.030803</td>\n",
       "      <td>0.143547</td>\n",
       "      <td>0.004151</td>\n",
       "      <td>465</td>\n",
       "      <td>5</td>\n",
       "      <td>{'randomforestclassifier__n_estimators': 465, ...</td>\n",
       "      <td>0.799839</td>\n",
       "      <td>0.776819</td>\n",
       "      <td>0.806325</td>\n",
       "      <td>0.832631</td>\n",
       "      <td>0.761916</td>\n",
       "      <td>0.795506</td>\n",
       "      <td>0.024460</td>\n",
       "      <td>6</td>\n",
       "    </tr>\n",
       "    <tr>\n",
       "      <th>9</th>\n",
       "      <td>1.861565</td>\n",
       "      <td>0.334637</td>\n",
       "      <td>0.118297</td>\n",
       "      <td>0.044747</td>\n",
       "      <td>533</td>\n",
       "      <td>3</td>\n",
       "      <td>{'randomforestclassifier__n_estimators': 533, ...</td>\n",
       "      <td>0.804981</td>\n",
       "      <td>0.741512</td>\n",
       "      <td>0.784871</td>\n",
       "      <td>0.822563</td>\n",
       "      <td>0.741135</td>\n",
       "      <td>0.779012</td>\n",
       "      <td>0.033004</td>\n",
       "      <td>7</td>\n",
       "    </tr>\n",
       "    <tr>\n",
       "      <th>7</th>\n",
       "      <td>7.010507</td>\n",
       "      <td>0.054287</td>\n",
       "      <td>0.518973</td>\n",
       "      <td>0.017894</td>\n",
       "      <td>1735</td>\n",
       "      <td>2</td>\n",
       "      <td>{'randomforestclassifier__n_estimators': 1735,...</td>\n",
       "      <td>0.805364</td>\n",
       "      <td>0.723145</td>\n",
       "      <td>0.768967</td>\n",
       "      <td>0.799170</td>\n",
       "      <td>0.727657</td>\n",
       "      <td>0.764861</td>\n",
       "      <td>0.034522</td>\n",
       "      <td>8</td>\n",
       "    </tr>\n",
       "    <tr>\n",
       "      <th>1</th>\n",
       "      <td>3.570946</td>\n",
       "      <td>0.056227</td>\n",
       "      <td>0.227721</td>\n",
       "      <td>0.010128</td>\n",
       "      <td>910</td>\n",
       "      <td>2</td>\n",
       "      <td>{'randomforestclassifier__n_estimators': 910, ...</td>\n",
       "      <td>0.805683</td>\n",
       "      <td>0.717724</td>\n",
       "      <td>0.766053</td>\n",
       "      <td>0.799241</td>\n",
       "      <td>0.721864</td>\n",
       "      <td>0.762113</td>\n",
       "      <td>0.037102</td>\n",
       "      <td>9</td>\n",
       "    </tr>\n",
       "    <tr>\n",
       "      <th>8</th>\n",
       "      <td>3.391399</td>\n",
       "      <td>0.057395</td>\n",
       "      <td>0.230409</td>\n",
       "      <td>0.041423</td>\n",
       "      <td>819</td>\n",
       "      <td>2</td>\n",
       "      <td>{'randomforestclassifier__n_estimators': 819, ...</td>\n",
       "      <td>0.803023</td>\n",
       "      <td>0.720428</td>\n",
       "      <td>0.767752</td>\n",
       "      <td>0.800561</td>\n",
       "      <td>0.716220</td>\n",
       "      <td>0.761597</td>\n",
       "      <td>0.037486</td>\n",
       "      <td>10</td>\n",
       "    </tr>\n",
       "  </tbody>\n",
       "</table>\n",
       "</div>"
      ],
      "text/plain": [
       "   mean_fit_time  std_fit_time  mean_score_time  std_score_time  \\\n",
       "6       2.679308      0.189162         0.170169        0.004682   \n",
       "4       6.820366      0.252204         0.579699        0.054800   \n",
       "0       1.307992      0.006874         0.085250        0.002238   \n",
       "5       3.095127      0.206692         0.224372        0.021232   \n",
       "2       7.296745      0.043333         0.495208        0.007708   \n",
       "3       1.972616      0.030803         0.143547        0.004151   \n",
       "9       1.861565      0.334637         0.118297        0.044747   \n",
       "7       7.010507      0.054287         0.518973        0.017894   \n",
       "1       3.570946      0.056227         0.227721        0.010128   \n",
       "8       3.391399      0.057395         0.230409        0.041423   \n",
       "\n",
       "  param_randomforestclassifier__n_estimators  \\\n",
       "6                                        473   \n",
       "4                                       1300   \n",
       "0                                        245   \n",
       "5                                        562   \n",
       "2                                       1584   \n",
       "3                                        465   \n",
       "9                                        533   \n",
       "7                                       1735   \n",
       "1                                        910   \n",
       "8                                        819   \n",
       "\n",
       "  param_randomforestclassifier__max_depth  \\\n",
       "6                                      10   \n",
       "4                                      10   \n",
       "0                                      10   \n",
       "5                                      13   \n",
       "2                                       7   \n",
       "3                                       5   \n",
       "9                                       3   \n",
       "7                                       2   \n",
       "1                                       2   \n",
       "8                                       2   \n",
       "\n",
       "                                              params  split0_test_score  \\\n",
       "6  {'randomforestclassifier__n_estimators': 473, ...           0.813212   \n",
       "4  {'randomforestclassifier__n_estimators': 1300,...           0.812638   \n",
       "0  {'randomforestclassifier__n_estimators': 245, ...           0.810867   \n",
       "5  {'randomforestclassifier__n_estimators': 562, ...           0.814037   \n",
       "2  {'randomforestclassifier__n_estimators': 1584,...           0.801740   \n",
       "3  {'randomforestclassifier__n_estimators': 465, ...           0.799839   \n",
       "9  {'randomforestclassifier__n_estimators': 533, ...           0.804981   \n",
       "7  {'randomforestclassifier__n_estimators': 1735,...           0.805364   \n",
       "1  {'randomforestclassifier__n_estimators': 910, ...           0.805683   \n",
       "8  {'randomforestclassifier__n_estimators': 819, ...           0.803023   \n",
       "\n",
       "   split1_test_score  split2_test_score  split3_test_score  split4_test_score  \\\n",
       "6           0.819425           0.830267           0.831680           0.772346   \n",
       "4           0.818299           0.827262           0.832056           0.773496   \n",
       "0           0.819009           0.826854           0.832354           0.773553   \n",
       "5           0.816482           0.828266           0.826955           0.770757   \n",
       "2           0.802317           0.819189           0.834894           0.771161   \n",
       "3           0.776819           0.806325           0.832631           0.761916   \n",
       "9           0.741512           0.784871           0.822563           0.741135   \n",
       "7           0.723145           0.768967           0.799170           0.727657   \n",
       "1           0.717724           0.766053           0.799241           0.721864   \n",
       "8           0.720428           0.767752           0.800561           0.716220   \n",
       "\n",
       "   mean_test_score  std_test_score  rank_test_score  \n",
       "6         0.813386        0.021635                1  \n",
       "4         0.812750        0.020761                2  \n",
       "0         0.812527        0.020795                3  \n",
       "5         0.811299        0.021029                4  \n",
       "2         0.805860        0.021233                5  \n",
       "3         0.795506        0.024460                6  \n",
       "9         0.779012        0.033004                7  \n",
       "7         0.764861        0.034522                8  \n",
       "1         0.762113        0.037102                9  \n",
       "8         0.761597        0.037486               10  "
      ]
     },
     "execution_count": 11,
     "metadata": {},
     "output_type": "execute_result"
    }
   ],
   "source": [
    "rf_res.sort_values('mean_test_score',axis=0, ascending=False)"
   ]
  },
  {
   "cell_type": "code",
   "execution_count": 12,
   "metadata": {},
   "outputs": [
    {
     "data": {
      "text/plain": [
       "0.8133861351127664"
      ]
     },
     "execution_count": 12,
     "metadata": {},
     "output_type": "execute_result"
    }
   ],
   "source": [
    "rf_rand.best_score_"
   ]
  },
  {
   "cell_type": "code",
   "execution_count": 13,
   "metadata": {},
   "outputs": [],
   "source": [
    "from sklearn.metrics import roc_curve\n",
    "\n",
    "def roc_plot(e,x,y):\n",
    "    \"\"\"e is estimator, x is data and y is true value\"\"\"\n",
    "\n",
    "    #predicting from model\n",
    "    y_pred = e.predict_proba(x)[:,1]\n",
    "\n",
    "    #finding curve\n",
    "    fpr, tpr, t = roc_curve(y, y_pred)\n",
    "    sns.lineplot(x=fpr,y=tpr)\n",
    "    plt.xlabel('false positive rate')\n",
    "    plt.ylabel('true positive rate')\n",
    "    plt.title('Compute Receiver Operating Characteristic Curve')\n",
    "    return pd.DataFrame({'fpr':fpr,'tpr':tpr,'threshold':t})\n",
    "\n",
    "    \n"
   ]
  },
  {
   "cell_type": "code",
   "execution_count": 14,
   "metadata": {},
   "outputs": [
    {
     "data": {
      "image/png": "[encoded data removed]",
      "text/plain": [
       "<Figure size 432x288 with 1 Axes>"
      ]
     },
     "metadata": {},
     "output_type": "display_data"
    }
   ],
   "source": [
    "est = rf_rand.best_estimator_\n",
    "c = roc_plot(est, X_train, y_train)"
   ]
  },
  {
   "cell_type": "markdown",
   "metadata": {},
   "source": [
    "***Comparing to test set***"
   ]
  },
  {
   "cell_type": "code",
   "execution_count": 15,
   "metadata": {},
   "outputs": [
    {
     "name": "stdout",
     "output_type": "stream",
     "text": [
      "Evaluating the classifier on the test set, area under the roc curve is: 0.817\n"
     ]
    }
   ],
   "source": [
    "from sklearn.metrics import roc_auc_score\n",
    "\n",
    "\n",
    "def test_comp(e):\n",
    "    #predicting probability from test set\n",
    "    y_pred = e.predict_proba(X_test)[:,1]\n",
    "    \n",
    "    \n",
    "    r = np.round(roc_auc_score(y_test,y_pred),3)\n",
    "    \n",
    "    print('Evaluating the classifier on the test set, area under the roc curve is: ' +  \n",
    "           '{}'.format(r))\n",
    "\n",
    "test_comp(rf_rand.best_estimator_)"
   ]
  },
  {
   "cell_type": "markdown",
   "metadata": {},
   "source": [
    "<h3>Random Forest first results</h3>\n",
    "\n",
    "The classifier has decent performance. Let's see if with more parameters and a larger search I can improve the results even further."
   ]
  },
  {
   "cell_type": "code",
   "execution_count": 16,
   "metadata": {
    "scrolled": true
   },
   "outputs": [
    {
     "name": "stdout",
     "output_type": "stream",
     "text": [
      "Fitting 4 folds for each of 50 candidates, totalling 200 fits\n"
     ]
    },
    {
     "name": "stderr",
     "output_type": "stream",
     "text": [
      "[Parallel(n_jobs=-1)]: Using backend LokyBackend with 8 concurrent workers.\n",
      "[Parallel(n_jobs=-1)]: Done   2 tasks      | elapsed:    1.5s\n",
      "[Parallel(n_jobs=-1)]: Done   9 tasks      | elapsed:    5.7s\n",
      "[Parallel(n_jobs=-1)]: Done  16 tasks      | elapsed:    7.1s\n",
      "[Parallel(n_jobs=-1)]: Done  25 tasks      | elapsed:   14.9s\n",
      "[Parallel(n_jobs=-1)]: Done  34 tasks      | elapsed:   18.9s\n",
      "[Parallel(n_jobs=-1)]: Done  45 tasks      | elapsed:   25.7s\n",
      "[Parallel(n_jobs=-1)]: Done  56 tasks      | elapsed:   32.6s\n",
      "[Parallel(n_jobs=-1)]: Done  69 tasks      | elapsed:   42.3s\n",
      "[Parallel(n_jobs=-1)]: Done  82 tasks      | elapsed:   52.1s\n",
      "[Parallel(n_jobs=-1)]: Done  97 tasks      | elapsed:   58.9s\n",
      "[Parallel(n_jobs=-1)]: Done 112 tasks      | elapsed:  1.1min\n",
      "[Parallel(n_jobs=-1)]: Done 129 tasks      | elapsed:  1.3min\n",
      "[Parallel(n_jobs=-1)]: Done 146 tasks      | elapsed:  1.6min\n",
      "[Parallel(n_jobs=-1)]: Done 165 tasks      | elapsed:  1.8min\n",
      "[Parallel(n_jobs=-1)]: Done 184 tasks      | elapsed:  2.0min\n",
      "[Parallel(n_jobs=-1)]: Done 200 out of 200 | elapsed:  2.1min finished\n"
     ]
    },
    {
     "data": {
      "text/plain": [
       "RandomizedSearchCV(cv=4,\n",
       "                   estimator=Pipeline(steps=[('standardscaler',\n",
       "                                              StandardScaler()),\n",
       "                                             ('randomforestclassifier',\n",
       "                                              RandomForestClassifier())]),\n",
       "                   n_iter=50, n_jobs=-1,\n",
       "                   param_distributions={'randomforestclassifier__max_depth': array([ 1,  2,  3,  4,  5,  6,  7,  8,  9, 10, 11, 12, 13]),\n",
       "                                        'randomforestclassifier__n_estimators': array([  50,   51,   52, ..., 1997, 1998, 1999])},\n",
       "                   random_state=42, scoring='roc_auc', verbose=10)"
      ]
     },
     "execution_count": 16,
     "metadata": {},
     "output_type": "execute_result"
    }
   ],
   "source": [
    "params = {'randomforestclassifier__n_estimators': np.arange(50,2000),\n",
    "         'randomforestclassifier__max_depth' :  np.arange(1,14)}\n",
    "\n",
    "rf_rand_two = RandomizedSearchCV(pipe,param_distributions=params,cv=4, n_jobs=-1, scoring = 'roc_auc',n_iter=50,\n",
    "                            random_state = 42, verbose = 10)\n",
    "rf_rand_two.fit(X_train,y_train)"
   ]
  },
  {
   "cell_type": "code",
   "execution_count": 17,
   "metadata": {},
   "outputs": [
    {
     "data": {
      "image/png": "[encoded data removed]",
      "text/plain": [
       "<Figure size 432x288 with 1 Axes>"
      ]
     },
     "metadata": {},
     "output_type": "display_data"
    }
   ],
   "source": [
    "c = roc_plot(rf_rand_two.best_estimator_,X_train,y_train)\n"
   ]
  },
  {
   "cell_type": "code",
   "execution_count": 18,
   "metadata": {},
   "outputs": [
    {
     "data": {
      "text/plain": [
       "{'randomforestclassifier__n_estimators': 1300,\n",
       " 'randomforestclassifier__max_depth': 9}"
      ]
     },
     "execution_count": 18,
     "metadata": {},
     "output_type": "execute_result"
    }
   ],
   "source": [
    "rf_rand_two.best_params_"
   ]
  },
  {
   "cell_type": "code",
   "execution_count": 19,
   "metadata": {},
   "outputs": [
    {
     "data": {
      "text/plain": [
       "0.8113192051818148"
      ]
     },
     "execution_count": 19,
     "metadata": {},
     "output_type": "execute_result"
    }
   ],
   "source": [
    "rf_rand_two.best_score_"
   ]
  },
  {
   "cell_type": "code",
   "execution_count": 20,
   "metadata": {},
   "outputs": [
    {
     "name": "stdout",
     "output_type": "stream",
     "text": [
      "Evaluating the classifier on the test set, area under the roc curve is: 0.816\n"
     ]
    }
   ],
   "source": [
    "test_comp(rf_rand_two.best_estimator_)"
   ]
  },
  {
   "cell_type": "code",
   "execution_count": 21,
   "metadata": {},
   "outputs": [
    {
     "data": {
      "text/html": [
       "<div>\n",
       "<style scoped>\n",
       "    .dataframe tbody tr th:only-of-type {\n",
       "        vertical-align: middle;\n",
       "    }\n",
       "\n",
       "    .dataframe tbody tr th {\n",
       "        vertical-align: top;\n",
       "    }\n",
       "\n",
       "    .dataframe thead th {\n",
       "        text-align: right;\n",
       "    }\n",
       "</style>\n",
       "<table border=\"1\" class=\"dataframe\">\n",
       "  <thead>\n",
       "    <tr style=\"text-align: right;\">\n",
       "      <th></th>\n",
       "      <th>mean_fit_time</th>\n",
       "      <th>std_fit_time</th>\n",
       "      <th>mean_score_time</th>\n",
       "      <th>std_score_time</th>\n",
       "      <th>param_randomforestclassifier__n_estimators</th>\n",
       "      <th>param_randomforestclassifier__max_depth</th>\n",
       "      <th>params</th>\n",
       "      <th>split0_test_score</th>\n",
       "      <th>split1_test_score</th>\n",
       "      <th>split2_test_score</th>\n",
       "      <th>split3_test_score</th>\n",
       "      <th>mean_test_score</th>\n",
       "      <th>std_test_score</th>\n",
       "      <th>rank_test_score</th>\n",
       "    </tr>\n",
       "  </thead>\n",
       "  <tbody>\n",
       "    <tr>\n",
       "      <th>9</th>\n",
       "      <td>7.110714</td>\n",
       "      <td>0.046524</td>\n",
       "      <td>0.673371</td>\n",
       "      <td>0.016951</td>\n",
       "      <td>1300</td>\n",
       "      <td>9</td>\n",
       "      <td>{'randomforestclassifier__n_estimators': 1300,...</td>\n",
       "      <td>0.814145</td>\n",
       "      <td>0.824003</td>\n",
       "      <td>0.833424</td>\n",
       "      <td>0.773705</td>\n",
       "      <td>0.811319</td>\n",
       "      <td>0.022761</td>\n",
       "      <td>1</td>\n",
       "    </tr>\n",
       "    <tr>\n",
       "      <th>39</th>\n",
       "      <td>1.960512</td>\n",
       "      <td>0.013772</td>\n",
       "      <td>0.173847</td>\n",
       "      <td>0.002793</td>\n",
       "      <td>412</td>\n",
       "      <td>10</td>\n",
       "      <td>{'randomforestclassifier__n_estimators': 412, ...</td>\n",
       "      <td>0.815377</td>\n",
       "      <td>0.824089</td>\n",
       "      <td>0.832161</td>\n",
       "      <td>0.773414</td>\n",
       "      <td>0.811260</td>\n",
       "      <td>0.022643</td>\n",
       "      <td>2</td>\n",
       "    </tr>\n",
       "    <tr>\n",
       "      <th>24</th>\n",
       "      <td>7.981496</td>\n",
       "      <td>0.071768</td>\n",
       "      <td>0.635039</td>\n",
       "      <td>0.019411</td>\n",
       "      <td>1489</td>\n",
       "      <td>11</td>\n",
       "      <td>{'randomforestclassifier__n_estimators': 1489,...</td>\n",
       "      <td>0.815787</td>\n",
       "      <td>0.825275</td>\n",
       "      <td>0.828950</td>\n",
       "      <td>0.773528</td>\n",
       "      <td>0.810885</td>\n",
       "      <td>0.022097</td>\n",
       "      <td>3</td>\n",
       "    </tr>\n",
       "    <tr>\n",
       "      <th>14</th>\n",
       "      <td>2.625832</td>\n",
       "      <td>0.019496</td>\n",
       "      <td>0.235958</td>\n",
       "      <td>0.010279</td>\n",
       "      <td>473</td>\n",
       "      <td>9</td>\n",
       "      <td>{'randomforestclassifier__n_estimators': 473, ...</td>\n",
       "      <td>0.813014</td>\n",
       "      <td>0.822598</td>\n",
       "      <td>0.833629</td>\n",
       "      <td>0.773642</td>\n",
       "      <td>0.810721</td>\n",
       "      <td>0.022616</td>\n",
       "      <td>4</td>\n",
       "    </tr>\n",
       "    <tr>\n",
       "      <th>30</th>\n",
       "      <td>4.525086</td>\n",
       "      <td>0.030474</td>\n",
       "      <td>0.400958</td>\n",
       "      <td>0.003495</td>\n",
       "      <td>931</td>\n",
       "      <td>10</td>\n",
       "      <td>{'randomforestclassifier__n_estimators': 931, ...</td>\n",
       "      <td>0.815548</td>\n",
       "      <td>0.824381</td>\n",
       "      <td>0.829051</td>\n",
       "      <td>0.773669</td>\n",
       "      <td>0.810662</td>\n",
       "      <td>0.021902</td>\n",
       "      <td>5</td>\n",
       "    </tr>\n",
       "    <tr>\n",
       "      <th>33</th>\n",
       "      <td>8.194282</td>\n",
       "      <td>0.065093</td>\n",
       "      <td>0.712285</td>\n",
       "      <td>0.030628</td>\n",
       "      <td>1618</td>\n",
       "      <td>10</td>\n",
       "      <td>{'randomforestclassifier__n_estimators': 1618,...</td>\n",
       "      <td>0.815106</td>\n",
       "      <td>0.822899</td>\n",
       "      <td>0.830565</td>\n",
       "      <td>0.773331</td>\n",
       "      <td>0.810475</td>\n",
       "      <td>0.022131</td>\n",
       "      <td>6</td>\n",
       "    </tr>\n",
       "    <tr>\n",
       "      <th>28</th>\n",
       "      <td>7.052030</td>\n",
       "      <td>0.037020</td>\n",
       "      <td>0.612095</td>\n",
       "      <td>0.004819</td>\n",
       "      <td>1442</td>\n",
       "      <td>10</td>\n",
       "      <td>{'randomforestclassifier__n_estimators': 1442,...</td>\n",
       "      <td>0.815557</td>\n",
       "      <td>0.823820</td>\n",
       "      <td>0.829242</td>\n",
       "      <td>0.772958</td>\n",
       "      <td>0.810394</td>\n",
       "      <td>0.022157</td>\n",
       "      <td>7</td>\n",
       "    </tr>\n",
       "    <tr>\n",
       "      <th>18</th>\n",
       "      <td>10.872045</td>\n",
       "      <td>0.015377</td>\n",
       "      <td>0.923719</td>\n",
       "      <td>0.012476</td>\n",
       "      <td>1933</td>\n",
       "      <td>12</td>\n",
       "      <td>{'randomforestclassifier__n_estimators': 1933,...</td>\n",
       "      <td>0.816095</td>\n",
       "      <td>0.825042</td>\n",
       "      <td>0.826379</td>\n",
       "      <td>0.773915</td>\n",
       "      <td>0.810358</td>\n",
       "      <td>0.021408</td>\n",
       "      <td>8</td>\n",
       "    </tr>\n",
       "    <tr>\n",
       "      <th>1</th>\n",
       "      <td>1.353409</td>\n",
       "      <td>0.010127</td>\n",
       "      <td>0.119484</td>\n",
       "      <td>0.007319</td>\n",
       "      <td>245</td>\n",
       "      <td>9</td>\n",
       "      <td>{'randomforestclassifier__n_estimators': 245, ...</td>\n",
       "      <td>0.810126</td>\n",
       "      <td>0.824541</td>\n",
       "      <td>0.831659</td>\n",
       "      <td>0.775028</td>\n",
       "      <td>0.810338</td>\n",
       "      <td>0.021813</td>\n",
       "      <td>9</td>\n",
       "    </tr>\n",
       "    <tr>\n",
       "      <th>23</th>\n",
       "      <td>0.404653</td>\n",
       "      <td>0.009134</td>\n",
       "      <td>0.039767</td>\n",
       "      <td>0.005158</td>\n",
       "      <td>68</td>\n",
       "      <td>10</td>\n",
       "      <td>{'randomforestclassifier__n_estimators': 68, '...</td>\n",
       "      <td>0.815097</td>\n",
       "      <td>0.822822</td>\n",
       "      <td>0.829694</td>\n",
       "      <td>0.773616</td>\n",
       "      <td>0.810307</td>\n",
       "      <td>0.021804</td>\n",
       "      <td>10</td>\n",
       "    </tr>\n",
       "    <tr>\n",
       "      <th>35</th>\n",
       "      <td>9.053559</td>\n",
       "      <td>0.038760</td>\n",
       "      <td>0.777042</td>\n",
       "      <td>0.004608</td>\n",
       "      <td>1592</td>\n",
       "      <td>11</td>\n",
       "      <td>{'randomforestclassifier__n_estimators': 1592,...</td>\n",
       "      <td>0.816380</td>\n",
       "      <td>0.823451</td>\n",
       "      <td>0.828303</td>\n",
       "      <td>0.772524</td>\n",
       "      <td>0.810165</td>\n",
       "      <td>0.022141</td>\n",
       "      <td>11</td>\n",
       "    </tr>\n",
       "    <tr>\n",
       "      <th>7</th>\n",
       "      <td>4.580414</td>\n",
       "      <td>0.065023</td>\n",
       "      <td>0.436840</td>\n",
       "      <td>0.008481</td>\n",
       "      <td>718</td>\n",
       "      <td>12</td>\n",
       "      <td>{'randomforestclassifier__n_estimators': 718, ...</td>\n",
       "      <td>0.815012</td>\n",
       "      <td>0.824828</td>\n",
       "      <td>0.827113</td>\n",
       "      <td>0.772698</td>\n",
       "      <td>0.809913</td>\n",
       "      <td>0.021962</td>\n",
       "      <td>12</td>\n",
       "    </tr>\n",
       "    <tr>\n",
       "      <th>12</th>\n",
       "      <td>4.163120</td>\n",
       "      <td>0.032053</td>\n",
       "      <td>0.369025</td>\n",
       "      <td>0.005437</td>\n",
       "      <td>823</td>\n",
       "      <td>8</td>\n",
       "      <td>{'randomforestclassifier__n_estimators': 823, ...</td>\n",
       "      <td>0.807518</td>\n",
       "      <td>0.821103</td>\n",
       "      <td>0.836329</td>\n",
       "      <td>0.773414</td>\n",
       "      <td>0.809591</td>\n",
       "      <td>0.023241</td>\n",
       "      <td>13</td>\n",
       "    </tr>\n",
       "    <tr>\n",
       "      <th>37</th>\n",
       "      <td>3.778809</td>\n",
       "      <td>0.044499</td>\n",
       "      <td>0.326499</td>\n",
       "      <td>0.007900</td>\n",
       "      <td>768</td>\n",
       "      <td>13</td>\n",
       "      <td>{'randomforestclassifier__n_estimators': 768, ...</td>\n",
       "      <td>0.815308</td>\n",
       "      <td>0.825587</td>\n",
       "      <td>0.826014</td>\n",
       "      <td>0.771188</td>\n",
       "      <td>0.809524</td>\n",
       "      <td>0.022545</td>\n",
       "      <td>14</td>\n",
       "    </tr>\n",
       "    <tr>\n",
       "      <th>4</th>\n",
       "      <td>1.189030</td>\n",
       "      <td>0.025935</td>\n",
       "      <td>0.109518</td>\n",
       "      <td>0.002842</td>\n",
       "      <td>175</td>\n",
       "      <td>12</td>\n",
       "      <td>{'randomforestclassifier__n_estimators': 175, ...</td>\n",
       "      <td>0.813720</td>\n",
       "      <td>0.824851</td>\n",
       "      <td>0.825968</td>\n",
       "      <td>0.772479</td>\n",
       "      <td>0.809254</td>\n",
       "      <td>0.021766</td>\n",
       "      <td>15</td>\n",
       "    </tr>\n",
       "    <tr>\n",
       "      <th>25</th>\n",
       "      <td>1.691831</td>\n",
       "      <td>0.025277</td>\n",
       "      <td>0.156722</td>\n",
       "      <td>0.011823</td>\n",
       "      <td>319</td>\n",
       "      <td>11</td>\n",
       "      <td>{'randomforestclassifier__n_estimators': 319, ...</td>\n",
       "      <td>0.814407</td>\n",
       "      <td>0.823816</td>\n",
       "      <td>0.824919</td>\n",
       "      <td>0.773840</td>\n",
       "      <td>0.809246</td>\n",
       "      <td>0.020846</td>\n",
       "      <td>16</td>\n",
       "    </tr>\n",
       "    <tr>\n",
       "      <th>29</th>\n",
       "      <td>4.331954</td>\n",
       "      <td>0.016264</td>\n",
       "      <td>0.375987</td>\n",
       "      <td>0.007812</td>\n",
       "      <td>883</td>\n",
       "      <td>13</td>\n",
       "      <td>{'randomforestclassifier__n_estimators': 883, ...</td>\n",
       "      <td>0.817263</td>\n",
       "      <td>0.823857</td>\n",
       "      <td>0.825631</td>\n",
       "      <td>0.770094</td>\n",
       "      <td>0.809211</td>\n",
       "      <td>0.022799</td>\n",
       "      <td>17</td>\n",
       "    </tr>\n",
       "    <tr>\n",
       "      <th>45</th>\n",
       "      <td>2.070599</td>\n",
       "      <td>0.010748</td>\n",
       "      <td>0.193657</td>\n",
       "      <td>0.017565</td>\n",
       "      <td>377</td>\n",
       "      <td>12</td>\n",
       "      <td>{'randomforestclassifier__n_estimators': 377, ...</td>\n",
       "      <td>0.816033</td>\n",
       "      <td>0.822311</td>\n",
       "      <td>0.826128</td>\n",
       "      <td>0.772331</td>\n",
       "      <td>0.809200</td>\n",
       "      <td>0.021590</td>\n",
       "      <td>18</td>\n",
       "    </tr>\n",
       "    <tr>\n",
       "      <th>11</th>\n",
       "      <td>3.226610</td>\n",
       "      <td>0.058771</td>\n",
       "      <td>0.323044</td>\n",
       "      <td>0.003376</td>\n",
       "      <td>562</td>\n",
       "      <td>12</td>\n",
       "      <td>{'randomforestclassifier__n_estimators': 562, ...</td>\n",
       "      <td>0.815292</td>\n",
       "      <td>0.823114</td>\n",
       "      <td>0.826082</td>\n",
       "      <td>0.770705</td>\n",
       "      <td>0.808798</td>\n",
       "      <td>0.022344</td>\n",
       "      <td>19</td>\n",
       "    </tr>\n",
       "    <tr>\n",
       "      <th>44</th>\n",
       "      <td>4.652564</td>\n",
       "      <td>0.022455</td>\n",
       "      <td>0.464036</td>\n",
       "      <td>0.010291</td>\n",
       "      <td>902</td>\n",
       "      <td>8</td>\n",
       "      <td>{'randomforestclassifier__n_estimators': 902, ...</td>\n",
       "      <td>0.807247</td>\n",
       "      <td>0.819853</td>\n",
       "      <td>0.835394</td>\n",
       "      <td>0.772634</td>\n",
       "      <td>0.808782</td>\n",
       "      <td>0.023129</td>\n",
       "      <td>20</td>\n",
       "    </tr>\n",
       "    <tr>\n",
       "      <th>0</th>\n",
       "      <td>1.704358</td>\n",
       "      <td>0.004313</td>\n",
       "      <td>0.133460</td>\n",
       "      <td>0.001600</td>\n",
       "      <td>304</td>\n",
       "      <td>13</td>\n",
       "      <td>{'randomforestclassifier__n_estimators': 304, ...</td>\n",
       "      <td>0.813529</td>\n",
       "      <td>0.824493</td>\n",
       "      <td>0.826534</td>\n",
       "      <td>0.770491</td>\n",
       "      <td>0.808761</td>\n",
       "      <td>0.022642</td>\n",
       "      <td>21</td>\n",
       "    </tr>\n",
       "    <tr>\n",
       "      <th>5</th>\n",
       "      <td>1.609182</td>\n",
       "      <td>0.009516</td>\n",
       "      <td>0.151388</td>\n",
       "      <td>0.005474</td>\n",
       "      <td>314</td>\n",
       "      <td>7</td>\n",
       "      <td>{'randomforestclassifier__n_estimators': 314, ...</td>\n",
       "      <td>0.805495</td>\n",
       "      <td>0.815124</td>\n",
       "      <td>0.835179</td>\n",
       "      <td>0.772087</td>\n",
       "      <td>0.806971</td>\n",
       "      <td>0.022811</td>\n",
       "      <td>22</td>\n",
       "    </tr>\n",
       "    <tr>\n",
       "      <th>13</th>\n",
       "      <td>8.310472</td>\n",
       "      <td>0.053849</td>\n",
       "      <td>0.699017</td>\n",
       "      <td>0.008920</td>\n",
       "      <td>1663</td>\n",
       "      <td>6</td>\n",
       "      <td>{'randomforestclassifier__n_estimators': 1663,...</td>\n",
       "      <td>0.801747</td>\n",
       "      <td>0.807003</td>\n",
       "      <td>0.837427</td>\n",
       "      <td>0.768293</td>\n",
       "      <td>0.803617</td>\n",
       "      <td>0.024525</td>\n",
       "      <td>23</td>\n",
       "    </tr>\n",
       "    <tr>\n",
       "      <th>6</th>\n",
       "      <td>9.295547</td>\n",
       "      <td>0.017287</td>\n",
       "      <td>0.765261</td>\n",
       "      <td>0.003537</td>\n",
       "      <td>1584</td>\n",
       "      <td>6</td>\n",
       "      <td>{'randomforestclassifier__n_estimators': 1584,...</td>\n",
       "      <td>0.801912</td>\n",
       "      <td>0.806346</td>\n",
       "      <td>0.837008</td>\n",
       "      <td>0.768233</td>\n",
       "      <td>0.803375</td>\n",
       "      <td>0.024378</td>\n",
       "      <td>24</td>\n",
       "    </tr>\n",
       "    <tr>\n",
       "      <th>49</th>\n",
       "      <td>2.468088</td>\n",
       "      <td>0.016488</td>\n",
       "      <td>0.204641</td>\n",
       "      <td>0.003337</td>\n",
       "      <td>553</td>\n",
       "      <td>6</td>\n",
       "      <td>{'randomforestclassifier__n_estimators': 553, ...</td>\n",
       "      <td>0.801333</td>\n",
       "      <td>0.806095</td>\n",
       "      <td>0.837181</td>\n",
       "      <td>0.768429</td>\n",
       "      <td>0.803260</td>\n",
       "      <td>0.024370</td>\n",
       "      <td>25</td>\n",
       "    </tr>\n",
       "    <tr>\n",
       "      <th>40</th>\n",
       "      <td>8.848740</td>\n",
       "      <td>0.051063</td>\n",
       "      <td>0.868944</td>\n",
       "      <td>0.126753</td>\n",
       "      <td>1694</td>\n",
       "      <td>6</td>\n",
       "      <td>{'randomforestclassifier__n_estimators': 1694,...</td>\n",
       "      <td>0.801360</td>\n",
       "      <td>0.806250</td>\n",
       "      <td>0.837423</td>\n",
       "      <td>0.767951</td>\n",
       "      <td>0.803246</td>\n",
       "      <td>0.024629</td>\n",
       "      <td>26</td>\n",
       "    </tr>\n",
       "    <tr>\n",
       "      <th>48</th>\n",
       "      <td>3.627262</td>\n",
       "      <td>0.061298</td>\n",
       "      <td>0.209951</td>\n",
       "      <td>0.004272</td>\n",
       "      <td>855</td>\n",
       "      <td>6</td>\n",
       "      <td>{'randomforestclassifier__n_estimators': 855, ...</td>\n",
       "      <td>0.800638</td>\n",
       "      <td>0.806173</td>\n",
       "      <td>0.837469</td>\n",
       "      <td>0.768420</td>\n",
       "      <td>0.803175</td>\n",
       "      <td>0.024492</td>\n",
       "      <td>27</td>\n",
       "    </tr>\n",
       "    <tr>\n",
       "      <th>46</th>\n",
       "      <td>4.923695</td>\n",
       "      <td>0.051065</td>\n",
       "      <td>0.348165</td>\n",
       "      <td>0.007033</td>\n",
       "      <td>927</td>\n",
       "      <td>6</td>\n",
       "      <td>{'randomforestclassifier__n_estimators': 927, ...</td>\n",
       "      <td>0.801986</td>\n",
       "      <td>0.805389</td>\n",
       "      <td>0.836041</td>\n",
       "      <td>0.767107</td>\n",
       "      <td>0.802631</td>\n",
       "      <td>0.024424</td>\n",
       "      <td>28</td>\n",
       "    </tr>\n",
       "    <tr>\n",
       "      <th>27</th>\n",
       "      <td>4.060658</td>\n",
       "      <td>0.020017</td>\n",
       "      <td>0.346526</td>\n",
       "      <td>0.006420</td>\n",
       "      <td>916</td>\n",
       "      <td>5</td>\n",
       "      <td>{'randomforestclassifier__n_estimators': 916, ...</td>\n",
       "      <td>0.800436</td>\n",
       "      <td>0.789178</td>\n",
       "      <td>0.834254</td>\n",
       "      <td>0.767134</td>\n",
       "      <td>0.797750</td>\n",
       "      <td>0.024241</td>\n",
       "      <td>29</td>\n",
       "    </tr>\n",
       "    <tr>\n",
       "      <th>15</th>\n",
       "      <td>2.857249</td>\n",
       "      <td>0.011467</td>\n",
       "      <td>0.223744</td>\n",
       "      <td>0.002399</td>\n",
       "      <td>572</td>\n",
       "      <td>5</td>\n",
       "      <td>{'randomforestclassifier__n_estimators': 572, ...</td>\n",
       "      <td>0.797902</td>\n",
       "      <td>0.789378</td>\n",
       "      <td>0.833638</td>\n",
       "      <td>0.768224</td>\n",
       "      <td>0.797286</td>\n",
       "      <td>0.023606</td>\n",
       "      <td>30</td>\n",
       "    </tr>\n",
       "    <tr>\n",
       "      <th>47</th>\n",
       "      <td>5.245623</td>\n",
       "      <td>0.020898</td>\n",
       "      <td>0.388265</td>\n",
       "      <td>0.009171</td>\n",
       "      <td>1042</td>\n",
       "      <td>5</td>\n",
       "      <td>{'randomforestclassifier__n_estimators': 1042,...</td>\n",
       "      <td>0.797985</td>\n",
       "      <td>0.785279</td>\n",
       "      <td>0.832421</td>\n",
       "      <td>0.765848</td>\n",
       "      <td>0.795383</td>\n",
       "      <td>0.024254</td>\n",
       "      <td>31</td>\n",
       "    </tr>\n",
       "    <tr>\n",
       "      <th>43</th>\n",
       "      <td>7.190121</td>\n",
       "      <td>0.096257</td>\n",
       "      <td>0.473677</td>\n",
       "      <td>0.022385</td>\n",
       "      <td>1088</td>\n",
       "      <td>5</td>\n",
       "      <td>{'randomforestclassifier__n_estimators': 1088,...</td>\n",
       "      <td>0.796900</td>\n",
       "      <td>0.786820</td>\n",
       "      <td>0.832329</td>\n",
       "      <td>0.765215</td>\n",
       "      <td>0.795316</td>\n",
       "      <td>0.024242</td>\n",
       "      <td>32</td>\n",
       "    </tr>\n",
       "    <tr>\n",
       "      <th>22</th>\n",
       "      <td>2.830908</td>\n",
       "      <td>0.016351</td>\n",
       "      <td>0.280784</td>\n",
       "      <td>0.010551</td>\n",
       "      <td>620</td>\n",
       "      <td>4</td>\n",
       "      <td>{'randomforestclassifier__n_estimators': 620, ...</td>\n",
       "      <td>0.793418</td>\n",
       "      <td>0.773108</td>\n",
       "      <td>0.824363</td>\n",
       "      <td>0.762821</td>\n",
       "      <td>0.788427</td>\n",
       "      <td>0.023488</td>\n",
       "      <td>33</td>\n",
       "    </tr>\n",
       "    <tr>\n",
       "      <th>8</th>\n",
       "      <td>2.755150</td>\n",
       "      <td>0.016060</td>\n",
       "      <td>0.231702</td>\n",
       "      <td>0.005192</td>\n",
       "      <td>465</td>\n",
       "      <td>4</td>\n",
       "      <td>{'randomforestclassifier__n_estimators': 465, ...</td>\n",
       "      <td>0.792020</td>\n",
       "      <td>0.768817</td>\n",
       "      <td>0.826684</td>\n",
       "      <td>0.760568</td>\n",
       "      <td>0.787022</td>\n",
       "      <td>0.025638</td>\n",
       "      <td>34</td>\n",
       "    </tr>\n",
       "    <tr>\n",
       "      <th>26</th>\n",
       "      <td>2.790696</td>\n",
       "      <td>0.030374</td>\n",
       "      <td>0.211540</td>\n",
       "      <td>0.007087</td>\n",
       "      <td>596</td>\n",
       "      <td>4</td>\n",
       "      <td>{'randomforestclassifier__n_estimators': 596, ...</td>\n",
       "      <td>0.791611</td>\n",
       "      <td>0.769652</td>\n",
       "      <td>0.826930</td>\n",
       "      <td>0.759282</td>\n",
       "      <td>0.786869</td>\n",
       "      <td>0.025908</td>\n",
       "      <td>35</td>\n",
       "    </tr>\n",
       "    <tr>\n",
       "      <th>20</th>\n",
       "      <td>6.650047</td>\n",
       "      <td>0.031387</td>\n",
       "      <td>0.594998</td>\n",
       "      <td>0.023533</td>\n",
       "      <td>1461</td>\n",
       "      <td>3</td>\n",
       "      <td>{'randomforestclassifier__n_estimators': 1461,...</td>\n",
       "      <td>0.794885</td>\n",
       "      <td>0.756350</td>\n",
       "      <td>0.821773</td>\n",
       "      <td>0.753705</td>\n",
       "      <td>0.781678</td>\n",
       "      <td>0.028311</td>\n",
       "      <td>36</td>\n",
       "    </tr>\n",
       "    <tr>\n",
       "      <th>21</th>\n",
       "      <td>5.509124</td>\n",
       "      <td>0.021818</td>\n",
       "      <td>0.462270</td>\n",
       "      <td>0.013693</td>\n",
       "      <td>1201</td>\n",
       "      <td>3</td>\n",
       "      <td>{'randomforestclassifier__n_estimators': 1201,...</td>\n",
       "      <td>0.794642</td>\n",
       "      <td>0.755643</td>\n",
       "      <td>0.817281</td>\n",
       "      <td>0.755383</td>\n",
       "      <td>0.780737</td>\n",
       "      <td>0.026464</td>\n",
       "      <td>37</td>\n",
       "    </tr>\n",
       "    <tr>\n",
       "      <th>10</th>\n",
       "      <td>2.380615</td>\n",
       "      <td>0.019834</td>\n",
       "      <td>0.220584</td>\n",
       "      <td>0.015902</td>\n",
       "      <td>576</td>\n",
       "      <td>3</td>\n",
       "      <td>{'randomforestclassifier__n_estimators': 576, ...</td>\n",
       "      <td>0.794412</td>\n",
       "      <td>0.752262</td>\n",
       "      <td>0.817564</td>\n",
       "      <td>0.753222</td>\n",
       "      <td>0.779365</td>\n",
       "      <td>0.027855</td>\n",
       "      <td>38</td>\n",
       "    </tr>\n",
       "    <tr>\n",
       "      <th>3</th>\n",
       "      <td>7.524404</td>\n",
       "      <td>0.037214</td>\n",
       "      <td>0.567692</td>\n",
       "      <td>0.017337</td>\n",
       "      <td>1540</td>\n",
       "      <td>3</td>\n",
       "      <td>{'randomforestclassifier__n_estimators': 1540,...</td>\n",
       "      <td>0.795092</td>\n",
       "      <td>0.753691</td>\n",
       "      <td>0.812999</td>\n",
       "      <td>0.752643</td>\n",
       "      <td>0.778606</td>\n",
       "      <td>0.026218</td>\n",
       "      <td>39</td>\n",
       "    </tr>\n",
       "    <tr>\n",
       "      <th>42</th>\n",
       "      <td>10.295183</td>\n",
       "      <td>0.080714</td>\n",
       "      <td>0.707043</td>\n",
       "      <td>0.045345</td>\n",
       "      <td>1990</td>\n",
       "      <td>2</td>\n",
       "      <td>{'randomforestclassifier__n_estimators': 1990,...</td>\n",
       "      <td>0.784382</td>\n",
       "      <td>0.732635</td>\n",
       "      <td>0.803619</td>\n",
       "      <td>0.736231</td>\n",
       "      <td>0.764217</td>\n",
       "      <td>0.030577</td>\n",
       "      <td>40</td>\n",
       "    </tr>\n",
       "    <tr>\n",
       "      <th>31</th>\n",
       "      <td>3.166595</td>\n",
       "      <td>0.019340</td>\n",
       "      <td>0.263644</td>\n",
       "      <td>0.005848</td>\n",
       "      <td>847</td>\n",
       "      <td>2</td>\n",
       "      <td>{'randomforestclassifier__n_estimators': 847, ...</td>\n",
       "      <td>0.787757</td>\n",
       "      <td>0.735634</td>\n",
       "      <td>0.799157</td>\n",
       "      <td>0.733116</td>\n",
       "      <td>0.763916</td>\n",
       "      <td>0.029828</td>\n",
       "      <td>41</td>\n",
       "    </tr>\n",
       "    <tr>\n",
       "      <th>34</th>\n",
       "      <td>4.278848</td>\n",
       "      <td>0.061892</td>\n",
       "      <td>0.346807</td>\n",
       "      <td>0.020028</td>\n",
       "      <td>1105</td>\n",
       "      <td>2</td>\n",
       "      <td>{'randomforestclassifier__n_estimators': 1105,...</td>\n",
       "      <td>0.785200</td>\n",
       "      <td>0.734644</td>\n",
       "      <td>0.799424</td>\n",
       "      <td>0.734279</td>\n",
       "      <td>0.763387</td>\n",
       "      <td>0.029359</td>\n",
       "      <td>42</td>\n",
       "    </tr>\n",
       "    <tr>\n",
       "      <th>19</th>\n",
       "      <td>2.340860</td>\n",
       "      <td>0.047948</td>\n",
       "      <td>0.227191</td>\n",
       "      <td>0.028072</td>\n",
       "      <td>533</td>\n",
       "      <td>2</td>\n",
       "      <td>{'randomforestclassifier__n_estimators': 533, ...</td>\n",
       "      <td>0.783685</td>\n",
       "      <td>0.734881</td>\n",
       "      <td>0.796098</td>\n",
       "      <td>0.736258</td>\n",
       "      <td>0.762730</td>\n",
       "      <td>0.027517</td>\n",
       "      <td>43</td>\n",
       "    </tr>\n",
       "    <tr>\n",
       "      <th>41</th>\n",
       "      <td>7.428469</td>\n",
       "      <td>0.027473</td>\n",
       "      <td>0.559117</td>\n",
       "      <td>0.020871</td>\n",
       "      <td>1656</td>\n",
       "      <td>2</td>\n",
       "      <td>{'randomforestclassifier__n_estimators': 1656,...</td>\n",
       "      <td>0.784993</td>\n",
       "      <td>0.734218</td>\n",
       "      <td>0.794187</td>\n",
       "      <td>0.737106</td>\n",
       "      <td>0.762626</td>\n",
       "      <td>0.027178</td>\n",
       "      <td>44</td>\n",
       "    </tr>\n",
       "    <tr>\n",
       "      <th>2</th>\n",
       "      <td>3.947073</td>\n",
       "      <td>0.012331</td>\n",
       "      <td>0.295110</td>\n",
       "      <td>0.025093</td>\n",
       "      <td>910</td>\n",
       "      <td>1</td>\n",
       "      <td>{'randomforestclassifier__n_estimators': 910, ...</td>\n",
       "      <td>0.766488</td>\n",
       "      <td>0.721810</td>\n",
       "      <td>0.783097</td>\n",
       "      <td>0.703515</td>\n",
       "      <td>0.743727</td>\n",
       "      <td>0.032270</td>\n",
       "      <td>45</td>\n",
       "    </tr>\n",
       "    <tr>\n",
       "      <th>38</th>\n",
       "      <td>4.500183</td>\n",
       "      <td>0.017332</td>\n",
       "      <td>0.380381</td>\n",
       "      <td>0.012424</td>\n",
       "      <td>1317</td>\n",
       "      <td>1</td>\n",
       "      <td>{'randomforestclassifier__n_estimators': 1317,...</td>\n",
       "      <td>0.764657</td>\n",
       "      <td>0.722640</td>\n",
       "      <td>0.783411</td>\n",
       "      <td>0.702505</td>\n",
       "      <td>0.743303</td>\n",
       "      <td>0.032234</td>\n",
       "      <td>46</td>\n",
       "    </tr>\n",
       "    <tr>\n",
       "      <th>36</th>\n",
       "      <td>7.970835</td>\n",
       "      <td>0.035195</td>\n",
       "      <td>0.547933</td>\n",
       "      <td>0.007320</td>\n",
       "      <td>1949</td>\n",
       "      <td>1</td>\n",
       "      <td>{'randomforestclassifier__n_estimators': 1949,...</td>\n",
       "      <td>0.764386</td>\n",
       "      <td>0.722375</td>\n",
       "      <td>0.782835</td>\n",
       "      <td>0.702712</td>\n",
       "      <td>0.743077</td>\n",
       "      <td>0.031987</td>\n",
       "      <td>47</td>\n",
       "    </tr>\n",
       "    <tr>\n",
       "      <th>16</th>\n",
       "      <td>6.929177</td>\n",
       "      <td>0.037213</td>\n",
       "      <td>0.637907</td>\n",
       "      <td>0.003795</td>\n",
       "      <td>1735</td>\n",
       "      <td>1</td>\n",
       "      <td>{'randomforestclassifier__n_estimators': 1735,...</td>\n",
       "      <td>0.765807</td>\n",
       "      <td>0.719172</td>\n",
       "      <td>0.783411</td>\n",
       "      <td>0.699477</td>\n",
       "      <td>0.741967</td>\n",
       "      <td>0.033952</td>\n",
       "      <td>48</td>\n",
       "    </tr>\n",
       "    <tr>\n",
       "      <th>32</th>\n",
       "      <td>0.867608</td>\n",
       "      <td>0.008696</td>\n",
       "      <td>0.082521</td>\n",
       "      <td>0.007388</td>\n",
       "      <td>239</td>\n",
       "      <td>1</td>\n",
       "      <td>{'randomforestclassifier__n_estimators': 239, ...</td>\n",
       "      <td>0.763462</td>\n",
       "      <td>0.725766</td>\n",
       "      <td>0.781913</td>\n",
       "      <td>0.696440</td>\n",
       "      <td>0.741895</td>\n",
       "      <td>0.033140</td>\n",
       "      <td>49</td>\n",
       "    </tr>\n",
       "    <tr>\n",
       "      <th>17</th>\n",
       "      <td>3.405761</td>\n",
       "      <td>0.004512</td>\n",
       "      <td>0.253419</td>\n",
       "      <td>0.008034</td>\n",
       "      <td>819</td>\n",
       "      <td>1</td>\n",
       "      <td>{'randomforestclassifier__n_estimators': 819, ...</td>\n",
       "      <td>0.764855</td>\n",
       "      <td>0.720312</td>\n",
       "      <td>0.782050</td>\n",
       "      <td>0.698636</td>\n",
       "      <td>0.741463</td>\n",
       "      <td>0.033452</td>\n",
       "      <td>50</td>\n",
       "    </tr>\n",
       "  </tbody>\n",
       "</table>\n",
       "</div>"
      ],
      "text/plain": [
       "    mean_fit_time  std_fit_time  mean_score_time  std_score_time  \\\n",
       "9        7.110714      0.046524         0.673371        0.016951   \n",
       "39       1.960512      0.013772         0.173847        0.002793   \n",
       "24       7.981496      0.071768         0.635039        0.019411   \n",
       "14       2.625832      0.019496         0.235958        0.010279   \n",
       "30       4.525086      0.030474         0.400958        0.003495   \n",
       "33       8.194282      0.065093         0.712285        0.030628   \n",
       "28       7.052030      0.037020         0.612095        0.004819   \n",
       "18      10.872045      0.015377         0.923719        0.012476   \n",
       "1        1.353409      0.010127         0.119484        0.007319   \n",
       "23       0.404653      0.009134         0.039767        0.005158   \n",
       "35       9.053559      0.038760         0.777042        0.004608   \n",
       "7        4.580414      0.065023         0.436840        0.008481   \n",
       "12       4.163120      0.032053         0.369025        0.005437   \n",
       "37       3.778809      0.044499         0.326499        0.007900   \n",
       "4        1.189030      0.025935         0.109518        0.002842   \n",
       "25       1.691831      0.025277         0.156722        0.011823   \n",
       "29       4.331954      0.016264         0.375987        0.007812   \n",
       "45       2.070599      0.010748         0.193657        0.017565   \n",
       "11       3.226610      0.058771         0.323044        0.003376   \n",
       "44       4.652564      0.022455         0.464036        0.010291   \n",
       "0        1.704358      0.004313         0.133460        0.001600   \n",
       "5        1.609182      0.009516         0.151388        0.005474   \n",
       "13       8.310472      0.053849         0.699017        0.008920   \n",
       "6        9.295547      0.017287         0.765261        0.003537   \n",
       "49       2.468088      0.016488         0.204641        0.003337   \n",
       "40       8.848740      0.051063         0.868944        0.126753   \n",
       "48       3.627262      0.061298         0.209951        0.004272   \n",
       "46       4.923695      0.051065         0.348165        0.007033   \n",
       "27       4.060658      0.020017         0.346526        0.006420   \n",
       "15       2.857249      0.011467         0.223744        0.002399   \n",
       "47       5.245623      0.020898         0.388265        0.009171   \n",
       "43       7.190121      0.096257         0.473677        0.022385   \n",
       "22       2.830908      0.016351         0.280784        0.010551   \n",
       "8        2.755150      0.016060         0.231702        0.005192   \n",
       "26       2.790696      0.030374         0.211540        0.007087   \n",
       "20       6.650047      0.031387         0.594998        0.023533   \n",
       "21       5.509124      0.021818         0.462270        0.013693   \n",
       "10       2.380615      0.019834         0.220584        0.015902   \n",
       "3        7.524404      0.037214         0.567692        0.017337   \n",
       "42      10.295183      0.080714         0.707043        0.045345   \n",
       "31       3.166595      0.019340         0.263644        0.005848   \n",
       "34       4.278848      0.061892         0.346807        0.020028   \n",
       "19       2.340860      0.047948         0.227191        0.028072   \n",
       "41       7.428469      0.027473         0.559117        0.020871   \n",
       "2        3.947073      0.012331         0.295110        0.025093   \n",
       "38       4.500183      0.017332         0.380381        0.012424   \n",
       "36       7.970835      0.035195         0.547933        0.007320   \n",
       "16       6.929177      0.037213         0.637907        0.003795   \n",
       "32       0.867608      0.008696         0.082521        0.007388   \n",
       "17       3.405761      0.004512         0.253419        0.008034   \n",
       "\n",
       "   param_randomforestclassifier__n_estimators  \\\n",
       "9                                        1300   \n",
       "39                                        412   \n",
       "24                                       1489   \n",
       "14                                        473   \n",
       "30                                        931   \n",
       "33                                       1618   \n",
       "28                                       1442   \n",
       "18                                       1933   \n",
       "1                                         245   \n",
       "23                                         68   \n",
       "35                                       1592   \n",
       "7                                         718   \n",
       "12                                        823   \n",
       "37                                        768   \n",
       "4                                         175   \n",
       "25                                        319   \n",
       "29                                        883   \n",
       "45                                        377   \n",
       "11                                        562   \n",
       "44                                        902   \n",
       "0                                         304   \n",
       "5                                         314   \n",
       "13                                       1663   \n",
       "6                                        1584   \n",
       "49                                        553   \n",
       "40                                       1694   \n",
       "48                                        855   \n",
       "46                                        927   \n",
       "27                                        916   \n",
       "15                                        572   \n",
       "47                                       1042   \n",
       "43                                       1088   \n",
       "22                                        620   \n",
       "8                                         465   \n",
       "26                                        596   \n",
       "20                                       1461   \n",
       "21                                       1201   \n",
       "10                                        576   \n",
       "3                                        1540   \n",
       "42                                       1990   \n",
       "31                                        847   \n",
       "34                                       1105   \n",
       "19                                        533   \n",
       "41                                       1656   \n",
       "2                                         910   \n",
       "38                                       1317   \n",
       "36                                       1949   \n",
       "16                                       1735   \n",
       "32                                        239   \n",
       "17                                        819   \n",
       "\n",
       "   param_randomforestclassifier__max_depth  \\\n",
       "9                                        9   \n",
       "39                                      10   \n",
       "24                                      11   \n",
       "14                                       9   \n",
       "30                                      10   \n",
       "33                                      10   \n",
       "28                                      10   \n",
       "18                                      12   \n",
       "1                                        9   \n",
       "23                                      10   \n",
       "35                                      11   \n",
       "7                                       12   \n",
       "12                                       8   \n",
       "37                                      13   \n",
       "4                                       12   \n",
       "25                                      11   \n",
       "29                                      13   \n",
       "45                                      12   \n",
       "11                                      12   \n",
       "44                                       8   \n",
       "0                                       13   \n",
       "5                                        7   \n",
       "13                                       6   \n",
       "6                                        6   \n",
       "49                                       6   \n",
       "40                                       6   \n",
       "48                                       6   \n",
       "46                                       6   \n",
       "27                                       5   \n",
       "15                                       5   \n",
       "47                                       5   \n",
       "43                                       5   \n",
       "22                                       4   \n",
       "8                                        4   \n",
       "26                                       4   \n",
       "20                                       3   \n",
       "21                                       3   \n",
       "10                                       3   \n",
       "3                                        3   \n",
       "42                                       2   \n",
       "31                                       2   \n",
       "34                                       2   \n",
       "19                                       2   \n",
       "41                                       2   \n",
       "2                                        1   \n",
       "38                                       1   \n",
       "36                                       1   \n",
       "16                                       1   \n",
       "32                                       1   \n",
       "17                                       1   \n",
       "\n",
       "                                               params  split0_test_score  \\\n",
       "9   {'randomforestclassifier__n_estimators': 1300,...           0.814145   \n",
       "39  {'randomforestclassifier__n_estimators': 412, ...           0.815377   \n",
       "24  {'randomforestclassifier__n_estimators': 1489,...           0.815787   \n",
       "14  {'randomforestclassifier__n_estimators': 473, ...           0.813014   \n",
       "30  {'randomforestclassifier__n_estimators': 931, ...           0.815548   \n",
       "33  {'randomforestclassifier__n_estimators': 1618,...           0.815106   \n",
       "28  {'randomforestclassifier__n_estimators': 1442,...           0.815557   \n",
       "18  {'randomforestclassifier__n_estimators': 1933,...           0.816095   \n",
       "1   {'randomforestclassifier__n_estimators': 245, ...           0.810126   \n",
       "23  {'randomforestclassifier__n_estimators': 68, '...           0.815097   \n",
       "35  {'randomforestclassifier__n_estimators': 1592,...           0.816380   \n",
       "7   {'randomforestclassifier__n_estimators': 718, ...           0.815012   \n",
       "12  {'randomforestclassifier__n_estimators': 823, ...           0.807518   \n",
       "37  {'randomforestclassifier__n_estimators': 768, ...           0.815308   \n",
       "4   {'randomforestclassifier__n_estimators': 175, ...           0.813720   \n",
       "25  {'randomforestclassifier__n_estimators': 319, ...           0.814407   \n",
       "29  {'randomforestclassifier__n_estimators': 883, ...           0.817263   \n",
       "45  {'randomforestclassifier__n_estimators': 377, ...           0.816033   \n",
       "11  {'randomforestclassifier__n_estimators': 562, ...           0.815292   \n",
       "44  {'randomforestclassifier__n_estimators': 902, ...           0.807247   \n",
       "0   {'randomforestclassifier__n_estimators': 304, ...           0.813529   \n",
       "5   {'randomforestclassifier__n_estimators': 314, ...           0.805495   \n",
       "13  {'randomforestclassifier__n_estimators': 1663,...           0.801747   \n",
       "6   {'randomforestclassifier__n_estimators': 1584,...           0.801912   \n",
       "49  {'randomforestclassifier__n_estimators': 553, ...           0.801333   \n",
       "40  {'randomforestclassifier__n_estimators': 1694,...           0.801360   \n",
       "48  {'randomforestclassifier__n_estimators': 855, ...           0.800638   \n",
       "46  {'randomforestclassifier__n_estimators': 927, ...           0.801986   \n",
       "27  {'randomforestclassifier__n_estimators': 916, ...           0.800436   \n",
       "15  {'randomforestclassifier__n_estimators': 572, ...           0.797902   \n",
       "47  {'randomforestclassifier__n_estimators': 1042,...           0.797985   \n",
       "43  {'randomforestclassifier__n_estimators': 1088,...           0.796900   \n",
       "22  {'randomforestclassifier__n_estimators': 620, ...           0.793418   \n",
       "8   {'randomforestclassifier__n_estimators': 465, ...           0.792020   \n",
       "26  {'randomforestclassifier__n_estimators': 596, ...           0.791611   \n",
       "20  {'randomforestclassifier__n_estimators': 1461,...           0.794885   \n",
       "21  {'randomforestclassifier__n_estimators': 1201,...           0.794642   \n",
       "10  {'randomforestclassifier__n_estimators': 576, ...           0.794412   \n",
       "3   {'randomforestclassifier__n_estimators': 1540,...           0.795092   \n",
       "42  {'randomforestclassifier__n_estimators': 1990,...           0.784382   \n",
       "31  {'randomforestclassifier__n_estimators': 847, ...           0.787757   \n",
       "34  {'randomforestclassifier__n_estimators': 1105,...           0.785200   \n",
       "19  {'randomforestclassifier__n_estimators': 533, ...           0.783685   \n",
       "41  {'randomforestclassifier__n_estimators': 1656,...           0.784993   \n",
       "2   {'randomforestclassifier__n_estimators': 910, ...           0.766488   \n",
       "38  {'randomforestclassifier__n_estimators': 1317,...           0.764657   \n",
       "36  {'randomforestclassifier__n_estimators': 1949,...           0.764386   \n",
       "16  {'randomforestclassifier__n_estimators': 1735,...           0.765807   \n",
       "32  {'randomforestclassifier__n_estimators': 239, ...           0.763462   \n",
       "17  {'randomforestclassifier__n_estimators': 819, ...           0.764855   \n",
       "\n",
       "    split1_test_score  split2_test_score  split3_test_score  mean_test_score  \\\n",
       "9            0.824003           0.833424           0.773705         0.811319   \n",
       "39           0.824089           0.832161           0.773414         0.811260   \n",
       "24           0.825275           0.828950           0.773528         0.810885   \n",
       "14           0.822598           0.833629           0.773642         0.810721   \n",
       "30           0.824381           0.829051           0.773669         0.810662   \n",
       "33           0.822899           0.830565           0.773331         0.810475   \n",
       "28           0.823820           0.829242           0.772958         0.810394   \n",
       "18           0.825042           0.826379           0.773915         0.810358   \n",
       "1            0.824541           0.831659           0.775028         0.810338   \n",
       "23           0.822822           0.829694           0.773616         0.810307   \n",
       "35           0.823451           0.828303           0.772524         0.810165   \n",
       "7            0.824828           0.827113           0.772698         0.809913   \n",
       "12           0.821103           0.836329           0.773414         0.809591   \n",
       "37           0.825587           0.826014           0.771188         0.809524   \n",
       "4            0.824851           0.825968           0.772479         0.809254   \n",
       "25           0.823816           0.824919           0.773840         0.809246   \n",
       "29           0.823857           0.825631           0.770094         0.809211   \n",
       "45           0.822311           0.826128           0.772331         0.809200   \n",
       "11           0.823114           0.826082           0.770705         0.808798   \n",
       "44           0.819853           0.835394           0.772634         0.808782   \n",
       "0            0.824493           0.826534           0.770491         0.808761   \n",
       "5            0.815124           0.835179           0.772087         0.806971   \n",
       "13           0.807003           0.837427           0.768293         0.803617   \n",
       "6            0.806346           0.837008           0.768233         0.803375   \n",
       "49           0.806095           0.837181           0.768429         0.803260   \n",
       "40           0.806250           0.837423           0.767951         0.803246   \n",
       "48           0.806173           0.837469           0.768420         0.803175   \n",
       "46           0.805389           0.836041           0.767107         0.802631   \n",
       "27           0.789178           0.834254           0.767134         0.797750   \n",
       "15           0.789378           0.833638           0.768224         0.797286   \n",
       "47           0.785279           0.832421           0.765848         0.795383   \n",
       "43           0.786820           0.832329           0.765215         0.795316   \n",
       "22           0.773108           0.824363           0.762821         0.788427   \n",
       "8            0.768817           0.826684           0.760568         0.787022   \n",
       "26           0.769652           0.826930           0.759282         0.786869   \n",
       "20           0.756350           0.821773           0.753705         0.781678   \n",
       "21           0.755643           0.817281           0.755383         0.780737   \n",
       "10           0.752262           0.817564           0.753222         0.779365   \n",
       "3            0.753691           0.812999           0.752643         0.778606   \n",
       "42           0.732635           0.803619           0.736231         0.764217   \n",
       "31           0.735634           0.799157           0.733116         0.763916   \n",
       "34           0.734644           0.799424           0.734279         0.763387   \n",
       "19           0.734881           0.796098           0.736258         0.762730   \n",
       "41           0.734218           0.794187           0.737106         0.762626   \n",
       "2            0.721810           0.783097           0.703515         0.743727   \n",
       "38           0.722640           0.783411           0.702505         0.743303   \n",
       "36           0.722375           0.782835           0.702712         0.743077   \n",
       "16           0.719172           0.783411           0.699477         0.741967   \n",
       "32           0.725766           0.781913           0.696440         0.741895   \n",
       "17           0.720312           0.782050           0.698636         0.741463   \n",
       "\n",
       "    std_test_score  rank_test_score  \n",
       "9         0.022761                1  \n",
       "39        0.022643                2  \n",
       "24        0.022097                3  \n",
       "14        0.022616                4  \n",
       "30        0.021902                5  \n",
       "33        0.022131                6  \n",
       "28        0.022157                7  \n",
       "18        0.021408                8  \n",
       "1         0.021813                9  \n",
       "23        0.021804               10  \n",
       "35        0.022141               11  \n",
       "7         0.021962               12  \n",
       "12        0.023241               13  \n",
       "37        0.022545               14  \n",
       "4         0.021766               15  \n",
       "25        0.020846               16  \n",
       "29        0.022799               17  \n",
       "45        0.021590               18  \n",
       "11        0.022344               19  \n",
       "44        0.023129               20  \n",
       "0         0.022642               21  \n",
       "5         0.022811               22  \n",
       "13        0.024525               23  \n",
       "6         0.024378               24  \n",
       "49        0.024370               25  \n",
       "40        0.024629               26  \n",
       "48        0.024492               27  \n",
       "46        0.024424               28  \n",
       "27        0.024241               29  \n",
       "15        0.023606               30  \n",
       "47        0.024254               31  \n",
       "43        0.024242               32  \n",
       "22        0.023488               33  \n",
       "8         0.025638               34  \n",
       "26        0.025908               35  \n",
       "20        0.028311               36  \n",
       "21        0.026464               37  \n",
       "10        0.027855               38  \n",
       "3         0.026218               39  \n",
       "42        0.030577               40  \n",
       "31        0.029828               41  \n",
       "34        0.029359               42  \n",
       "19        0.027517               43  \n",
       "41        0.027178               44  \n",
       "2         0.032270               45  \n",
       "38        0.032234               46  \n",
       "36        0.031987               47  \n",
       "16        0.033952               48  \n",
       "32        0.033140               49  \n",
       "17        0.033452               50  "
      ]
     },
     "execution_count": 21,
     "metadata": {},
     "output_type": "execute_result"
    }
   ],
   "source": [
    "rf_res = pd.DataFrame(rf_rand_two.cv_results_)\n",
    "rf_res.sort_values('mean_test_score',axis=0, ascending=False)"
   ]
  },
  {
   "cell_type": "markdown",
   "metadata": {},
   "source": [
    "<h3>Random Forest second results</h3>\n",
    "\n",
    "More iterations in the random search yeilded an almost non-existent improvement. I will explore other classifiers before doing a thorough grid search within a more confined range, which will take a good amount of time. "
   ]
  },
  {
   "cell_type": "markdown",
   "metadata": {},
   "source": [
    "<h3>Random Forest Conclusions</h3>\n",
    "\n",
    "The Random Forest Classifier performs well out of the gate with an auc of 0.863 on the training set and 0.894 on the test set. The optimal max depth appears to be either 5 or 6 and the optimal number of estimators is likely between 750 - 1750"
   ]
  },
  {
   "cell_type": "markdown",
   "metadata": {},
   "source": [
    "<h2>Logistic Regression</h2>\n"
   ]
  },
  {
   "cell_type": "code",
   "execution_count": 22,
   "metadata": {},
   "outputs": [],
   "source": [
    "from sklearn.linear_model import LogisticRegression"
   ]
  },
  {
   "cell_type": "code",
   "execution_count": 23,
   "metadata": {},
   "outputs": [],
   "source": [
    "pipe_lr = make_pipeline( \n",
    "    StandardScaler(),\n",
    "    LogisticRegression(max_iter=1000)\n",
    ")\n",
    "\n",
    "params = {'logisticregression__C': np.logspace(-2,6)}\n",
    "\n",
    "#starting with few iterations, and narrowing the ranges afterwards\n",
    "lr = RandomizedSearchCV(pipe_lr,param_distributions=params,cv=5, n_jobs=-1, verbose =10, \n",
    "                                 scoring = 'roc_auc',n_iter=20,random_state = 42)\n"
   ]
  },
  {
   "cell_type": "code",
   "execution_count": 24,
   "metadata": {
    "scrolled": true
   },
   "outputs": [
    {
     "name": "stdout",
     "output_type": "stream",
     "text": [
      "Fitting 5 folds for each of 20 candidates, totalling 100 fits\n"
     ]
    },
    {
     "name": "stderr",
     "output_type": "stream",
     "text": [
      "[Parallel(n_jobs=-1)]: Using backend LokyBackend with 8 concurrent workers.\n",
      "[Parallel(n_jobs=-1)]: Batch computation too fast (0.0947s.) Setting batch_size=2.\n",
      "[Parallel(n_jobs=-1)]: Done   2 tasks      | elapsed:    0.1s\n",
      "[Parallel(n_jobs=-1)]: Done   9 tasks      | elapsed:    0.2s\n",
      "[Parallel(n_jobs=-1)]: Done  16 tasks      | elapsed:    0.3s\n",
      "[Parallel(n_jobs=-1)]: Done  34 tasks      | elapsed:    0.5s\n",
      "[Parallel(n_jobs=-1)]: Done  52 tasks      | elapsed:    0.6s\n",
      "[Parallel(n_jobs=-1)]: Done  74 tasks      | elapsed:    0.8s\n",
      "[Parallel(n_jobs=-1)]: Done  96 out of 100 | elapsed:    0.9s remaining:    0.0s\n",
      "[Parallel(n_jobs=-1)]: Done 100 out of 100 | elapsed:    0.9s finished\n"
     ]
    },
    {
     "data": {
      "text/plain": [
       "RandomizedSearchCV(cv=5,\n",
       "                   estimator=Pipeline(steps=[('standardscaler',\n",
       "                                              StandardScaler()),\n",
       "                                             ('logisticregression',\n",
       "                                              LogisticRegression(max_iter=1000))]),\n",
       "                   n_iter=20, n_jobs=-1,\n",
       "                   param_distributions={'logisticregression__C': array([1.00000000e-02, 1.45634848e-02, 2.12095089e-02, 3.08884360e-02,\n",
       "       4.49843267e-02, 6.55128557e-02, 9.54095476e-02, 1.38949549e-01,\n",
       "       2.02358965e-0...\n",
       "       3.72759372e+02, 5.42867544e+02, 7.90604321e+02, 1.15139540e+03,\n",
       "       1.67683294e+03, 2.44205309e+03, 3.55648031e+03, 5.17947468e+03,\n",
       "       7.54312006e+03, 1.09854114e+04, 1.59985872e+04, 2.32995181e+04,\n",
       "       3.39322177e+04, 4.94171336e+04, 7.19685673e+04, 1.04811313e+05,\n",
       "       1.52641797e+05, 2.22299648e+05, 3.23745754e+05, 4.71486636e+05,\n",
       "       6.86648845e+05, 1.00000000e+06])},\n",
       "                   random_state=42, scoring='roc_auc', verbose=10)"
      ]
     },
     "execution_count": 24,
     "metadata": {},
     "output_type": "execute_result"
    }
   ],
   "source": [
    "lr.fit(X,y)"
   ]
  },
  {
   "cell_type": "code",
   "execution_count": 25,
   "metadata": {},
   "outputs": [
    {
     "data": {
      "text/plain": [
       "{'logisticregression__C': 0.04498432668969444}"
      ]
     },
     "execution_count": 25,
     "metadata": {},
     "output_type": "execute_result"
    }
   ],
   "source": [
    "lr.best_params_"
   ]
  },
  {
   "cell_type": "code",
   "execution_count": 26,
   "metadata": {},
   "outputs": [
    {
     "data": {
      "text/plain": [
       "0.6487733039161612"
      ]
     },
     "execution_count": 26,
     "metadata": {},
     "output_type": "execute_result"
    }
   ],
   "source": [
    "lr.best_score_"
   ]
  },
  {
   "cell_type": "markdown",
   "metadata": {},
   "source": [
    "<h3>ROC auc - Logistic Regression</h3>\n"
   ]
  },
  {
   "cell_type": "code",
   "execution_count": 27,
   "metadata": {},
   "outputs": [
    {
     "data": {
      "image/png": "[encoded data removed]",
      "text/plain": [
       "<Figure size 432x288 with 1 Axes>"
      ]
     },
     "metadata": {},
     "output_type": "display_data"
    }
   ],
   "source": [
    "c = roc_plot(lr.best_estimator_,X_train,y_train)"
   ]
  },
  {
   "cell_type": "markdown",
   "metadata": {},
   "source": [
    "<h3>Evaluating with test set</h3>"
   ]
  },
  {
   "cell_type": "code",
   "execution_count": 28,
   "metadata": {},
   "outputs": [
    {
     "name": "stdout",
     "output_type": "stream",
     "text": [
      "Evaluating the classifier on the test set, area under the roc curve is: 0.727\n"
     ]
    }
   ],
   "source": [
    "test_comp(lr.best_estimator_)"
   ]
  },
  {
   "cell_type": "markdown",
   "metadata": {},
   "source": [
    "<h3>Logistic Regression Conclusions</h3>\n",
    "\n",
    "The logistic regression results were considerably worse on the training set than random forest. But surprisingly close for the test set. I prefer the random forest classifier, and I expect that on a different test set, I would see different results. "
   ]
  },
  {
   "cell_type": "markdown",
   "metadata": {},
   "source": [
    "<h2>KNN </h2>\n",
    "\n",
    "I don't expect KNN to give better results due to the high-dimensionality of the feature space. I expect PCA to be necessary, though I will try it without first. "
   ]
  },
  {
   "cell_type": "code",
   "execution_count": 29,
   "metadata": {
    "scrolled": true
   },
   "outputs": [
    {
     "name": "stdout",
     "output_type": "stream",
     "text": [
      "Fitting 5 folds for each of 199 candidates, totalling 995 fits\n"
     ]
    },
    {
     "name": "stderr",
     "output_type": "stream",
     "text": [
      "/Users/jon/opt/anaconda3/lib/python3.8/site-packages/sklearn/model_selection/_search.py:278: UserWarning: The total space of parameters 199 is smaller than n_iter=200. Running 199 iterations. For exhaustive searches, use GridSearchCV.\n",
      "  warnings.warn(\n",
      "[Parallel(n_jobs=-1)]: Using backend LokyBackend with 8 concurrent workers.\n",
      "[Parallel(n_jobs=-1)]: Batch computation too fast (0.0835s.) Setting batch_size=2.\n",
      "[Parallel(n_jobs=-1)]: Done   2 tasks      | elapsed:    0.2s\n",
      "[Parallel(n_jobs=-1)]: Done   9 tasks      | elapsed:    0.3s\n",
      "[Parallel(n_jobs=-1)]: Done  16 tasks      | elapsed:    0.4s\n",
      "[Parallel(n_jobs=-1)]: Done  34 tasks      | elapsed:    0.6s\n",
      "[Parallel(n_jobs=-1)]: Done  52 tasks      | elapsed:    0.9s\n",
      "[Parallel(n_jobs=-1)]: Done  74 tasks      | elapsed:    1.2s\n",
      "[Parallel(n_jobs=-1)]: Done  96 tasks      | elapsed:    1.6s\n",
      "[Parallel(n_jobs=-1)]: Done 122 tasks      | elapsed:    2.0s\n",
      "[Parallel(n_jobs=-1)]: Done 148 tasks      | elapsed:    2.3s\n",
      "[Parallel(n_jobs=-1)]: Done 178 tasks      | elapsed:    3.0s\n",
      "[Parallel(n_jobs=-1)]: Done 208 tasks      | elapsed:    3.7s\n",
      "[Parallel(n_jobs=-1)]: Done 242 tasks      | elapsed:    4.2s\n",
      "[Parallel(n_jobs=-1)]: Done 276 tasks      | elapsed:    4.8s\n",
      "[Parallel(n_jobs=-1)]: Done 314 tasks      | elapsed:    5.4s\n",
      "[Parallel(n_jobs=-1)]: Done 352 tasks      | elapsed:    6.3s\n",
      "[Parallel(n_jobs=-1)]: Done 394 tasks      | elapsed:    7.3s\n",
      "[Parallel(n_jobs=-1)]: Done 436 tasks      | elapsed:    8.6s\n",
      "[Parallel(n_jobs=-1)]: Done 482 tasks      | elapsed:    9.7s\n",
      "[Parallel(n_jobs=-1)]: Done 528 tasks      | elapsed:   10.8s\n",
      "[Parallel(n_jobs=-1)]: Done 578 tasks      | elapsed:   12.0s\n",
      "[Parallel(n_jobs=-1)]: Done 628 tasks      | elapsed:   13.4s\n",
      "[Parallel(n_jobs=-1)]: Done 682 tasks      | elapsed:   15.0s\n",
      "[Parallel(n_jobs=-1)]: Done 736 tasks      | elapsed:   16.8s\n",
      "[Parallel(n_jobs=-1)]: Done 794 tasks      | elapsed:   18.5s\n",
      "[Parallel(n_jobs=-1)]: Done 852 tasks      | elapsed:   20.2s\n",
      "[Parallel(n_jobs=-1)]: Done 914 tasks      | elapsed:   22.0s\n",
      "[Parallel(n_jobs=-1)]: Done 980 out of 995 | elapsed:   24.1s remaining:    0.4s\n",
      "[Parallel(n_jobs=-1)]: Done 995 out of 995 | elapsed:   24.6s finished\n"
     ]
    },
    {
     "data": {
      "text/plain": [
       "RandomizedSearchCV(cv=5,\n",
       "                   estimator=Pipeline(steps=[('standardscaler',\n",
       "                                              StandardScaler()),\n",
       "                                             ('kneighborsclassifier',\n",
       "                                              KNeighborsClassifier(weights='distance'))]),\n",
       "                   n_iter=200, n_jobs=-1,\n",
       "                   param_distributions={'kneighborsclassifier__n_neighbors': array([  1,   2,   3,   4,   5,   6,   7,   8,   9,  10,  11,  12,  13,\n",
       "        14,  15,  16,  17,  18,  19,  20,  21,  22,  23,  24,  25,  26,\n",
       "        27,  28,  29,  30,  31,  32,  33,  34,  35,  36,  37,  38,  39,\n",
       "        40,...\n",
       "       118, 119, 120, 121, 122, 123, 124, 125, 126, 127, 128, 129, 130,\n",
       "       131, 132, 133, 134, 135, 136, 137, 138, 139, 140, 141, 142, 143,\n",
       "       144, 145, 146, 147, 148, 149, 150, 151, 152, 153, 154, 155, 156,\n",
       "       157, 158, 159, 160, 161, 162, 163, 164, 165, 166, 167, 168, 169,\n",
       "       170, 171, 172, 173, 174, 175, 176, 177, 178, 179, 180, 181, 182,\n",
       "       183, 184, 185, 186, 187, 188, 189, 190, 191, 192, 193, 194, 195,\n",
       "       196, 197, 198, 199])},\n",
       "                   random_state=42, scoring='roc_auc', verbose=10)"
      ]
     },
     "execution_count": 29,
     "metadata": {},
     "output_type": "execute_result"
    }
   ],
   "source": [
    "from sklearn.neighbors import KNeighborsClassifier\n",
    "\n",
    "pipe_knn = make_pipeline( \n",
    "    StandardScaler(),\n",
    "    KNeighborsClassifier(weights='distance')\n",
    ")\n",
    "\n",
    "params = {'kneighborsclassifier__n_neighbors': np.arange(1,200)}\n",
    "    \n",
    "\n",
    "#starting with few iterations, and narrowing the ranges afterwards\n",
    "knn = RandomizedSearchCV(pipe_knn,param_distributions=params,cv=5, n_jobs=-1, verbose =10, \n",
    "                                 scoring = 'roc_auc',n_iter=200,random_state = 42)\n",
    "\n",
    "knn.fit(X_train,y_train)"
   ]
  },
  {
   "cell_type": "code",
   "execution_count": 30,
   "metadata": {},
   "outputs": [
    {
     "data": {
      "text/plain": [
       "{'kneighborsclassifier__n_neighbors': 164}"
      ]
     },
     "execution_count": 30,
     "metadata": {},
     "output_type": "execute_result"
    }
   ],
   "source": [
    "knn.best_params_"
   ]
  },
  {
   "cell_type": "code",
   "execution_count": 31,
   "metadata": {},
   "outputs": [
    {
     "data": {
      "text/plain": [
       "0.8091892545413615"
      ]
     },
     "execution_count": 31,
     "metadata": {},
     "output_type": "execute_result"
    }
   ],
   "source": [
    "knn.best_score_"
   ]
  },
  {
   "cell_type": "code",
   "execution_count": 32,
   "metadata": {},
   "outputs": [
    {
     "data": {
      "image/png": "[encoded data removed]",
      "text/plain": [
       "<Figure size 432x288 with 1 Axes>"
      ]
     },
     "metadata": {},
     "output_type": "display_data"
    }
   ],
   "source": [
    "c = roc_plot(knn.best_estimator_,X_train,y_train)"
   ]
  },
  {
   "cell_type": "code",
   "execution_count": 33,
   "metadata": {},
   "outputs": [
    {
     "name": "stdout",
     "output_type": "stream",
     "text": [
      "Evaluating the classifier on the test set, area under the roc curve is: 0.811\n"
     ]
    }
   ],
   "source": [
    "test_comp(knn.best_estimator_)"
   ]
  },
  {
   "cell_type": "markdown",
   "metadata": {},
   "source": [
    "Knn performed better than expected, with a max aoc of 0.827 for train and similar for test. Let's see if PCA improves"
   ]
  },
  {
   "cell_type": "code",
   "execution_count": 34,
   "metadata": {
    "scrolled": true
   },
   "outputs": [
    {
     "name": "stdout",
     "output_type": "stream",
     "text": [
      "Fitting 5 folds for each of 200 candidates, totalling 1000 fits\n"
     ]
    },
    {
     "name": "stderr",
     "output_type": "stream",
     "text": [
      "[Parallel(n_jobs=-1)]: Using backend LokyBackend with 8 concurrent workers.\n",
      "[Parallel(n_jobs=-1)]: Batch computation too fast (0.1012s.) Setting batch_size=2.\n",
      "[Parallel(n_jobs=-1)]: Done   2 tasks      | elapsed:    0.1s\n",
      "[Parallel(n_jobs=-1)]: Done   9 tasks      | elapsed:    0.2s\n",
      "[Parallel(n_jobs=-1)]: Done  16 tasks      | elapsed:    0.4s\n",
      "[Parallel(n_jobs=-1)]: Done  34 tasks      | elapsed:    0.6s\n",
      "[Parallel(n_jobs=-1)]: Done  52 tasks      | elapsed:    0.8s\n",
      "[Parallel(n_jobs=-1)]: Done  74 tasks      | elapsed:    1.2s\n",
      "[Parallel(n_jobs=-1)]: Done  96 tasks      | elapsed:    1.4s\n",
      "[Parallel(n_jobs=-1)]: Done 122 tasks      | elapsed:    1.9s\n",
      "[Parallel(n_jobs=-1)]: Done 148 tasks      | elapsed:    2.4s\n",
      "[Parallel(n_jobs=-1)]: Done 178 tasks      | elapsed:    2.8s\n",
      "[Parallel(n_jobs=-1)]: Done 208 tasks      | elapsed:    3.3s\n",
      "[Parallel(n_jobs=-1)]: Done 242 tasks      | elapsed:    3.9s\n",
      "[Parallel(n_jobs=-1)]: Done 276 tasks      | elapsed:    4.5s\n",
      "[Parallel(n_jobs=-1)]: Done 314 tasks      | elapsed:    4.9s\n",
      "[Parallel(n_jobs=-1)]: Done 352 tasks      | elapsed:    5.6s\n",
      "[Parallel(n_jobs=-1)]: Done 394 tasks      | elapsed:    6.5s\n",
      "[Parallel(n_jobs=-1)]: Done 436 tasks      | elapsed:    7.2s\n",
      "[Parallel(n_jobs=-1)]: Done 482 tasks      | elapsed:    7.8s\n",
      "[Parallel(n_jobs=-1)]: Done 528 tasks      | elapsed:    8.5s\n",
      "[Parallel(n_jobs=-1)]: Done 578 tasks      | elapsed:    9.5s\n",
      "[Parallel(n_jobs=-1)]: Done 628 tasks      | elapsed:   10.4s\n",
      "[Parallel(n_jobs=-1)]: Done 682 tasks      | elapsed:   11.4s\n",
      "[Parallel(n_jobs=-1)]: Done 736 tasks      | elapsed:   12.2s\n",
      "[Parallel(n_jobs=-1)]: Done 794 tasks      | elapsed:   13.1s\n",
      "[Parallel(n_jobs=-1)]: Done 852 tasks      | elapsed:   14.0s\n",
      "[Parallel(n_jobs=-1)]: Done 914 tasks      | elapsed:   15.1s\n",
      "[Parallel(n_jobs=-1)]: Done 976 tasks      | elapsed:   16.2s\n",
      "[Parallel(n_jobs=-1)]: Done 1000 out of 1000 | elapsed:   16.7s finished\n"
     ]
    },
    {
     "data": {
      "text/plain": [
       "RandomizedSearchCV(cv=5,\n",
       "                   estimator=Pipeline(steps=[('standardscaler',\n",
       "                                              StandardScaler()),\n",
       "                                             ('pca', PCA()),\n",
       "                                             ('kneighborsclassifier',\n",
       "                                              KNeighborsClassifier(weights='distance'))]),\n",
       "                   n_iter=200, n_jobs=-1,\n",
       "                   param_distributions={'kneighborsclassifier__n_neighbors': array([ 50,  51,  52,  53,  54,  55,  56,  57,  58,  59,  60,  61,  62,\n",
       "        63,  64,  65,  66,  67,  68,  69,  70,  71,  72,  73,  74,  75,\n",
       "        76,  77,  78,  79,  80,  81,  8...\n",
       "       180, 181, 182, 183, 184, 185, 186, 187, 188, 189, 190, 191, 192,\n",
       "       193, 194, 195, 196, 197, 198, 199, 200, 201, 202, 203, 204, 205,\n",
       "       206, 207, 208, 209, 210, 211, 212, 213, 214, 215, 216, 217, 218,\n",
       "       219, 220, 221, 222, 223, 224, 225, 226, 227, 228, 229, 230, 231,\n",
       "       232, 233, 234, 235, 236, 237, 238, 239, 240, 241, 242, 243, 244,\n",
       "       245, 246, 247, 248, 249]),\n",
       "                                        'pca__n_components': array([2, 3, 4])},\n",
       "                   random_state=42, scoring='roc_auc', verbose=10)"
      ]
     },
     "execution_count": 34,
     "metadata": {},
     "output_type": "execute_result"
    }
   ],
   "source": [
    "from sklearn.decomposition import PCA\n",
    "\n",
    "pipe_knn = make_pipeline( \n",
    "    StandardScaler(),\n",
    "    PCA(),\n",
    "    KNeighborsClassifier(weights='distance')\n",
    ")\n",
    "\n",
    "params = {'pca__n_components' : np.arange(2,X.shape[1]),\n",
    "          'kneighborsclassifier__n_neighbors': np.arange(50,250)}\n",
    "    \n",
    "\n",
    "#starting with few iterations, and narrowing the ranges afterwards\n",
    "knn = RandomizedSearchCV(pipe_knn,param_distributions=params,cv=5, n_jobs=-1, verbose =10, \n",
    "                                 scoring = 'roc_auc',n_iter=200,random_state = 42)\n",
    "\n",
    "knn.fit(X_train,y_train)"
   ]
  },
  {
   "cell_type": "code",
   "execution_count": 35,
   "metadata": {},
   "outputs": [
    {
     "data": {
      "text/plain": [
       "{'pca__n_components': 3, 'kneighborsclassifier__n_neighbors': 249}"
      ]
     },
     "execution_count": 35,
     "metadata": {},
     "output_type": "execute_result"
    }
   ],
   "source": [
    "knn.best_params_"
   ]
  },
  {
   "cell_type": "code",
   "execution_count": 36,
   "metadata": {},
   "outputs": [
    {
     "data": {
      "text/plain": [
       "0.8126656257169185"
      ]
     },
     "execution_count": 36,
     "metadata": {},
     "output_type": "execute_result"
    }
   ],
   "source": [
    "knn.best_score_"
   ]
  },
  {
   "cell_type": "code",
   "execution_count": 37,
   "metadata": {},
   "outputs": [
    {
     "data": {
      "image/png": "[encoded data removed]",
      "text/plain": [
       "<Figure size 432x288 with 1 Axes>"
      ]
     },
     "metadata": {},
     "output_type": "display_data"
    }
   ],
   "source": [
    "c = roc_plot(knn.best_estimator_,X_train,y_train)"
   ]
  },
  {
   "cell_type": "markdown",
   "metadata": {},
   "source": [
    "<h3>Evaluating with test set</h3>"
   ]
  },
  {
   "cell_type": "code",
   "execution_count": 38,
   "metadata": {},
   "outputs": [
    {
     "name": "stdout",
     "output_type": "stream",
     "text": [
      "Evaluating the classifier on the test set, area under the roc curve is: 0.817\n"
     ]
    }
   ],
   "source": [
    "test_comp(knn.best_estimator_)"
   ]
  },
  {
   "cell_type": "markdown",
   "metadata": {},
   "source": [
    "<h3>KNN Conclusions</h3>\n",
    "\n",
    "PCA did not improve things by much, if at all. It's certainly not worth it to lose feature importances. "
   ]
  },
  {
   "cell_type": "markdown",
   "metadata": {},
   "source": [
    "<h2>SVC</h2>\n",
    "\n",
    "SVC is supposedly good in high dimension data, and the set I have is relatively high dimension. "
   ]
  },
  {
   "cell_type": "code",
   "execution_count": 39,
   "metadata": {
    "scrolled": true
   },
   "outputs": [
    {
     "name": "stdout",
     "output_type": "stream",
     "text": [
      "Fitting 5 folds for each of 10 candidates, totalling 50 fits\n"
     ]
    },
    {
     "name": "stderr",
     "output_type": "stream",
     "text": [
      "[Parallel(n_jobs=-1)]: Using backend LokyBackend with 8 concurrent workers.\n",
      "[Parallel(n_jobs=-1)]: Done   2 tasks      | elapsed:    1.4s\n",
      "[Parallel(n_jobs=-1)]: Done   9 tasks      | elapsed:    3.4s\n",
      "[Parallel(n_jobs=-1)]: Done  16 tasks      | elapsed:    5.2s\n",
      "[Parallel(n_jobs=-1)]: Done  25 tasks      | elapsed:    6.5s\n",
      "[Parallel(n_jobs=-1)]: Done  34 tasks      | elapsed:    8.8s\n",
      "[Parallel(n_jobs=-1)]: Done  41 out of  50 | elapsed:   10.4s remaining:    2.3s\n",
      "[Parallel(n_jobs=-1)]: Done  47 out of  50 | elapsed:   11.3s remaining:    0.7s\n",
      "[Parallel(n_jobs=-1)]: Done  50 out of  50 | elapsed:   11.6s finished\n"
     ]
    },
    {
     "data": {
      "text/plain": [
       "RandomizedSearchCV(cv=5,\n",
       "                   estimator=Pipeline(steps=[('standardscaler',\n",
       "                                              StandardScaler()),\n",
       "                                             ('svc', SVC(probability=True))]),\n",
       "                   n_jobs=-1,\n",
       "                   param_distributions={'svc__C': array([1.00000000e-05, 1.59985872e-05, 2.55954792e-05, 4.09491506e-05,\n",
       "       6.55128557e-05, 1.04811313e-04, 1.67683294e-04, 2.68269580e-04,\n",
       "       4.29193426e-04, 6.86648845e-04, 1.09854114e-03, 1.75751062e-03,\n",
       "       2.811...\n",
       "       5.17947468e+00, 8.28642773e+00, 1.32571137e+01, 2.12095089e+01,\n",
       "       3.39322177e+01, 5.42867544e+01, 8.68511374e+01, 1.38949549e+02,\n",
       "       2.22299648e+02, 3.55648031e+02, 5.68986603e+02, 9.10298178e+02,\n",
       "       1.45634848e+03, 2.32995181e+03, 3.72759372e+03, 5.96362332e+03,\n",
       "       9.54095476e+03, 1.52641797e+04, 2.44205309e+04, 3.90693994e+04,\n",
       "       6.25055193e+04, 1.00000000e+05])},\n",
       "                   random_state=42, scoring='roc_auc', verbose=10)"
      ]
     },
     "execution_count": 39,
     "metadata": {},
     "output_type": "execute_result"
    }
   ],
   "source": [
    "from sklearn.svm import SVC\n",
    "\n",
    "pipe_svc = make_pipeline( \n",
    "    StandardScaler(),\n",
    "    SVC(probability=True)\n",
    ")\n",
    "\n",
    "params = {'svc__C': np.logspace(-5,5)}\n",
    "    \n",
    "\n",
    "#starting with few iterations, and narrowing the ranges afterwards\n",
    "svc = RandomizedSearchCV(pipe_svc,param_distributions=params,cv=5, n_jobs=-1, verbose =10, \n",
    "                                 scoring = 'roc_auc',n_iter=10,random_state = 42)\n",
    "\n",
    "svc.fit(X_train,y_train)"
   ]
  },
  {
   "cell_type": "code",
   "execution_count": 40,
   "metadata": {},
   "outputs": [
    {
     "data": {
      "text/plain": [
       "{'svc__C': 13.257113655901108}"
      ]
     },
     "execution_count": 40,
     "metadata": {},
     "output_type": "execute_result"
    }
   ],
   "source": [
    "svc.best_params_"
   ]
  },
  {
   "cell_type": "code",
   "execution_count": 41,
   "metadata": {},
   "outputs": [
    {
     "data": {
      "text/plain": [
       "0.628167241855859"
      ]
     },
     "execution_count": 41,
     "metadata": {},
     "output_type": "execute_result"
    }
   ],
   "source": [
    "svc.best_score_"
   ]
  },
  {
   "cell_type": "code",
   "execution_count": 42,
   "metadata": {},
   "outputs": [
    {
     "data": {
      "image/png": "[encoded data removed]",
      "text/plain": [
       "<Figure size 432x288 with 1 Axes>"
      ]
     },
     "metadata": {},
     "output_type": "display_data"
    }
   ],
   "source": [
    "c = roc_plot(svc.best_estimator_,X_train,y_train)"
   ]
  },
  {
   "cell_type": "markdown",
   "metadata": {},
   "source": [
    "<h3>Evaluating with test set</h3>"
   ]
  },
  {
   "cell_type": "code",
   "execution_count": 43,
   "metadata": {},
   "outputs": [
    {
     "name": "stdout",
     "output_type": "stream",
     "text": [
      "Evaluating the classifier on the test set, area under the roc curve is: 0.444\n"
     ]
    }
   ],
   "source": [
    "test_comp(svc.best_estimator_)"
   ]
  },
  {
   "cell_type": "markdown",
   "metadata": {},
   "source": [
    "<h3>SVC Conclusions</h3>\n",
    "\n",
    "SVC clearly performs worse"
   ]
  },
  {
   "cell_type": "markdown",
   "metadata": {},
   "source": [
    "<h1>Choosing a classifier</h1>\n",
    "\n",
    "Two models stand out as options to ultimately choose -- Random Forest and KNN. The random forest model has a feature importance attribute, which is a great piece of data, so I will choose it. "
   ]
  },
  {
   "cell_type": "code",
   "execution_count": 44,
   "metadata": {
    "scrolled": true
   },
   "outputs": [
    {
     "name": "stdout",
     "output_type": "stream",
     "text": [
      "Fitting 5 folds for each of 150 candidates, totalling 750 fits\n"
     ]
    },
    {
     "name": "stderr",
     "output_type": "stream",
     "text": [
      "[Parallel(n_jobs=-1)]: Using backend LokyBackend with 8 concurrent workers.\n",
      "[Parallel(n_jobs=-1)]: Done   2 tasks      | elapsed:    4.3s\n",
      "[Parallel(n_jobs=-1)]: Done   9 tasks      | elapsed:    8.5s\n",
      "[Parallel(n_jobs=-1)]: Done  16 tasks      | elapsed:    9.5s\n",
      "[Parallel(n_jobs=-1)]: Done  25 tasks      | elapsed:   18.3s\n",
      "[Parallel(n_jobs=-1)]: Done  34 tasks      | elapsed:   24.3s\n",
      "[Parallel(n_jobs=-1)]: Done  45 tasks      | elapsed:   31.8s\n",
      "[Parallel(n_jobs=-1)]: Done  56 tasks      | elapsed:   39.6s\n",
      "[Parallel(n_jobs=-1)]: Done  69 tasks      | elapsed:   52.4s\n",
      "[Parallel(n_jobs=-1)]: Done  82 tasks      | elapsed:  1.1min\n",
      "[Parallel(n_jobs=-1)]: Done  97 tasks      | elapsed:  1.4min\n",
      "[Parallel(n_jobs=-1)]: Done 112 tasks      | elapsed:  1.6min\n",
      "[Parallel(n_jobs=-1)]: Done 129 tasks      | elapsed:  1.9min\n",
      "[Parallel(n_jobs=-1)]: Done 146 tasks      | elapsed:  2.1min\n",
      "[Parallel(n_jobs=-1)]: Done 165 tasks      | elapsed:  2.3min\n",
      "[Parallel(n_jobs=-1)]: Done 184 tasks      | elapsed:  2.6min\n",
      "[Parallel(n_jobs=-1)]: Done 205 tasks      | elapsed:  3.0min\n",
      "[Parallel(n_jobs=-1)]: Done 226 tasks      | elapsed:  3.4min\n",
      "[Parallel(n_jobs=-1)]: Done 249 tasks      | elapsed:  3.8min\n",
      "[Parallel(n_jobs=-1)]: Done 272 tasks      | elapsed:  4.1min\n",
      "[Parallel(n_jobs=-1)]: Done 297 tasks      | elapsed:  4.4min\n",
      "[Parallel(n_jobs=-1)]: Done 322 tasks      | elapsed:  4.8min\n",
      "[Parallel(n_jobs=-1)]: Done 349 tasks      | elapsed:  5.3min\n",
      "[Parallel(n_jobs=-1)]: Done 376 tasks      | elapsed:  5.8min\n",
      "[Parallel(n_jobs=-1)]: Done 405 tasks      | elapsed:  6.1min\n",
      "[Parallel(n_jobs=-1)]: Done 434 tasks      | elapsed:  6.5min\n",
      "[Parallel(n_jobs=-1)]: Done 465 tasks      | elapsed:  7.0min\n",
      "[Parallel(n_jobs=-1)]: Done 496 tasks      | elapsed:  7.7min\n",
      "[Parallel(n_jobs=-1)]: Done 529 tasks      | elapsed:  8.1min\n",
      "[Parallel(n_jobs=-1)]: Done 562 tasks      | elapsed:  8.6min\n",
      "[Parallel(n_jobs=-1)]: Done 597 tasks      | elapsed:  9.3min\n",
      "[Parallel(n_jobs=-1)]: Done 632 tasks      | elapsed: 10.0min\n",
      "[Parallel(n_jobs=-1)]: Done 669 tasks      | elapsed: 10.4min\n",
      "[Parallel(n_jobs=-1)]: Done 706 tasks      | elapsed: 11.0min\n",
      "[Parallel(n_jobs=-1)]: Done 750 out of 750 | elapsed: 12.0min finished\n"
     ]
    },
    {
     "data": {
      "text/plain": [
       "GridSearchCV(cv=5,\n",
       "             estimator=Pipeline(steps=[('standardscaler', StandardScaler()),\n",
       "                                       ('randomforestclassifier',\n",
       "                                        RandomForestClassifier())]),\n",
       "             n_jobs=-1,\n",
       "             param_grid={'randomforestclassifier__max_depth': array([4, 5, 6, 7, 8, 9]),\n",
       "                         'randomforestclassifier__n_estimators': array([ 750,  800,  850,  900,  950, 1000, 1050, 1100, 1150, 1200, 1250,\n",
       "       1300, 1350, 1400, 1450, 1500, 1550, 1600, 1650, 1700, 1750, 1800,\n",
       "       1850, 1900, 1950])},\n",
       "             scoring='roc_auc', verbose=10)"
      ]
     },
     "execution_count": 44,
     "metadata": {},
     "output_type": "execute_result"
    }
   ],
   "source": [
    "from sklearn.model_selection import GridSearchCV\n",
    "\n",
    "pipe_rf = make_pipeline( \n",
    "    StandardScaler(), \n",
    "    RandomForestClassifier()\n",
    ")\n",
    "\n",
    "params = {'randomforestclassifier__n_estimators': np.arange(750,2000,50),\n",
    "          'randomforestclassifier__max_depth' :  np.arange(4,10)}\n",
    "\n",
    "rf = GridSearchCV(pipe,param_grid=params,cv=5, n_jobs=-1, scoring = 'roc_auc',verbose=10)\n",
    "\n",
    "rf.fit(X_train,y_train)"
   ]
  },
  {
   "cell_type": "code",
   "execution_count": 45,
   "metadata": {
    "scrolled": false
   },
   "outputs": [
    {
     "data": {
      "text/plain": [
       "{'randomforestclassifier__max_depth': 9,\n",
       " 'randomforestclassifier__n_estimators': 1150}"
      ]
     },
     "execution_count": 45,
     "metadata": {},
     "output_type": "execute_result"
    }
   ],
   "source": [
    "rf.best_params_"
   ]
  },
  {
   "cell_type": "markdown",
   "metadata": {},
   "source": [
    "***Evaluating Performance***"
   ]
  },
  {
   "cell_type": "code",
   "execution_count": 46,
   "metadata": {},
   "outputs": [
    {
     "data": {
      "image/png": "[encoded data removed]",
      "text/plain": [
       "<Figure size 432x288 with 1 Axes>"
      ]
     },
     "metadata": {},
     "output_type": "display_data"
    }
   ],
   "source": [
    "c = roc_plot(rf.best_estimator_,X_train,y_train)"
   ]
  },
  {
   "cell_type": "code",
   "execution_count": 47,
   "metadata": {},
   "outputs": [
    {
     "name": "stdout",
     "output_type": "stream",
     "text": [
      "Evaluating the classifier on the test set, area under the roc curve is: 0.816\n"
     ]
    }
   ],
   "source": [
    "test_comp(rf.best_estimator_)"
   ]
  },
  {
   "cell_type": "code",
   "execution_count": 48,
   "metadata": {},
   "outputs": [],
   "source": [
    "df_t = c[c.tpr > 0.9].sort_values('threshold',ascending=False)\n",
    "\n",
    "thresh = df_t.iloc[0,2]"
   ]
  },
  {
   "cell_type": "markdown",
   "metadata": {},
   "source": [
    "***Looking at feature importance***"
   ]
  },
  {
   "cell_type": "code",
   "execution_count": 49,
   "metadata": {},
   "outputs": [],
   "source": [
    "r = rf.best_estimator_\n",
    "imp = r.steps[1][1].feature_importances_"
   ]
  },
  {
   "cell_type": "code",
   "execution_count": 50,
   "metadata": {},
   "outputs": [
    {
     "data": {
      "text/plain": [
       "<AxesSubplot:xlabel='importance', ylabel='feature'>"
      ]
     },
     "execution_count": 50,
     "metadata": {},
     "output_type": "execute_result"
    },
    {
     "data": {
      "image/png": "[encoded data removed]",
      "text/plain": [
       "<Figure size 720x432 with 1 Axes>"
      ]
     },
     "metadata": {},
     "output_type": "display_data"
    }
   ],
   "source": [
    "ax = plt.figure(figsize=(10,6))\n",
    "\n",
    "i = pd.DataFrame({'feature':X_test.columns,'importance':imp}).sort_values('importance',ascending=False)\n",
    "\n",
    "sns.barplot(data=i,y='feature',x='importance',orient='h',color='gray')"
   ]
  },
  {
   "cell_type": "markdown",
   "metadata": {},
   "source": [
    "***Recall***"
   ]
  },
  {
   "cell_type": "code",
   "execution_count": 51,
   "metadata": {},
   "outputs": [],
   "source": [
    "from sklearn.metrics import recall_score\n",
    "from sklearn.metrics import precision_score\n",
    "\n",
    "def test_comp_recall(e):\n",
    "    #predicting probability from test set\n",
    "    y_pred = e.predict(X_test)\n",
    "    #deciding membership\n",
    "\n",
    "    r = np.round(recall_score(y_test,y_pred),3)\n",
    "    p = np.round(precision_score(y_test,y_pred),3)\n",
    "    print('Evaluating the classifier on the test set, the recall is: ' +  \n",
    "          '{}, and the precision is: {}'.format(r,p))\n",
    "\n",
    "\n",
    "from sklearn.metrics import precision_recall_curve\n",
    "\n",
    "def pr_curve(e,x,y):\n",
    "    \"\"\"e is estimator, x is data and y is true value\"\"\"\n",
    "\n",
    "    #predicting from model\n",
    "    y_pred_rf = e.predict_proba(x)\n",
    "\n",
    "    #finding curve\n",
    "    p, r, t = precision_recall_curve(y.to_numpy(),y_pred_rf[:,1])\n",
    "    sns.lineplot(x=p,y=r)\n",
    "    plt.xlabel('Precision')\n",
    "    plt.ylabel('Recall')\n",
    "    return pd.DataFrame({'precision':p[:-1],'recall':r[:-1],'threshold':t})\n",
    "\n",
    "    \n"
   ]
  },
  {
   "cell_type": "code",
   "execution_count": 52,
   "metadata": {},
   "outputs": [
    {
     "data": {
      "image/png": "[encoded data removed]",
      "text/plain": [
       "<Figure size 432x288 with 1 Axes>"
      ]
     },
     "metadata": {},
     "output_type": "display_data"
    }
   ],
   "source": [
    "c = pr_curve(rf.best_estimator_,X_train,y_train)"
   ]
  },
  {
   "cell_type": "code",
   "execution_count": 53,
   "metadata": {},
   "outputs": [
    {
     "data": {
      "text/plain": [
       "Text(34.0, 0.5, 'True')"
      ]
     },
     "execution_count": 53,
     "metadata": {},
     "output_type": "execute_result"
    },
    {
     "data": {
      "image/png": "[encoded data removed]",
      "text/plain": [
       "<Figure size 432x288 with 2 Axes>"
      ]
     },
     "metadata": {},
     "output_type": "display_data"
    }
   ],
   "source": [
    "from sklearn.metrics import confusion_matrix\n",
    "\n",
    "clf = rf_rand.best_estimator_\n",
    "y_pred = clf.predict_proba(X_test)[:,1]\n",
    "y_pred = (y_pred >= thresh).astype('int')\n",
    "\n",
    "sns.heatmap(confusion_matrix(y_test,y_pred),annot=True,fmt='d')\n",
    "plt.xlabel('Predicted')\n",
    "plt.ylabel('True')"
   ]
  }
 ],
 "metadata": {
  "kernelspec": {
   "display_name": "Python 3",
   "language": "python",
   "name": "python3"
  },
  "language_info": {
   "codemirror_mode": {
    "name": "ipython",
    "version": 3
   },
   "file_extension": ".py",
   "mimetype": "text/x-python",
   "name": "python",
   "nbconvert_exporter": "python",
   "pygments_lexer": "ipython3",
   "version": "3.8.3"
  }
 },
 "nbformat": 4,
 "nbformat_minor": 4
}
