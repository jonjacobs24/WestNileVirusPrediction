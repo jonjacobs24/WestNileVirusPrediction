{
 "cells": [
  {
   "cell_type": "markdown",
   "metadata": {},
   "source": [
    "<h1>Modeling and Prediction</h1>\n",
    "On the West Nile Virus data set"
   ]
  },
  {
   "cell_type": "code",
   "execution_count": 47,
   "metadata": {},
   "outputs": [],
   "source": [
    "import pandas as pd\n",
    "import matplotlib.pyplot as plt\n",
    "import seaborn as sns\n",
    "import numpy as np\n",
    "from sklearn.model_selection import train_test_split\n",
    "sns.set_style('whitegrid')"
   ]
  },
  {
   "cell_type": "code",
   "execution_count": 48,
   "metadata": {},
   "outputs": [],
   "source": [
    "#loading cleaned data\n",
    "df = pd.read_pickle('./data/df_best.pkl')\n",
    "X = df.drop('WnvPresent',axis=1)\n",
    "y = df.WnvPresent\n"
   ]
  },
  {
   "cell_type": "code",
   "execution_count": 49,
   "metadata": {},
   "outputs": [],
   "source": [
    "# mistakenly, thought that the train_test_split was done for me. It was not, the test set is for the kaggle competition\n",
    "X_train, X_test, y_train, y_test = train_test_split(X,y,test_size=0.2,random_state=42)"
   ]
  },
  {
   "cell_type": "markdown",
   "metadata": {},
   "source": [
    "<h2>Random Forest Classifier</h2>\n",
    "Random Forest Classifier is a great ensemble method which I will look into first with a Random Search CV. The driving metric for analysis is roc_auc. This data set is heavily class biased -- there are few west nile virus sightings compared to the observations as a whole. The area under the roc curve is relatively good at handling this sort of imbalance."
   ]
  },
  {
   "cell_type": "markdown",
   "metadata": {},
   "source": [
    "***Building Pipeline***"
   ]
  },
  {
   "cell_type": "code",
   "execution_count": 50,
   "metadata": {},
   "outputs": [],
   "source": [
    "from sklearn.pipeline import make_pipeline\n",
    "from sklearn.ensemble import RandomForestClassifier\n",
    "from sklearn.model_selection import RandomizedSearchCV\n",
    "from sklearn.preprocessing import StandardScaler\n",
    "from sklearn.metrics import recall_score\n",
    "from scipy.stats import truncnorm, uniform\n"
   ]
  },
  {
   "cell_type": "code",
   "execution_count": 51,
   "metadata": {},
   "outputs": [],
   "source": [
    "pipe = make_pipeline( \n",
    "    StandardScaler(), \n",
    "    RandomForestClassifier()\n",
    ")"
   ]
  },
  {
   "cell_type": "code",
   "execution_count": 52,
   "metadata": {},
   "outputs": [
    {
     "data": {
      "text/plain": [
       "dict_keys(['memory', 'steps', 'verbose', 'standardscaler', 'randomforestclassifier', 'standardscaler__copy', 'standardscaler__with_mean', 'standardscaler__with_std', 'randomforestclassifier__bootstrap', 'randomforestclassifier__ccp_alpha', 'randomforestclassifier__class_weight', 'randomforestclassifier__criterion', 'randomforestclassifier__max_depth', 'randomforestclassifier__max_features', 'randomforestclassifier__max_leaf_nodes', 'randomforestclassifier__max_samples', 'randomforestclassifier__min_impurity_decrease', 'randomforestclassifier__min_impurity_split', 'randomforestclassifier__min_samples_leaf', 'randomforestclassifier__min_samples_split', 'randomforestclassifier__min_weight_fraction_leaf', 'randomforestclassifier__n_estimators', 'randomforestclassifier__n_jobs', 'randomforestclassifier__oob_score', 'randomforestclassifier__random_state', 'randomforestclassifier__verbose', 'randomforestclassifier__warm_start'])"
      ]
     },
     "execution_count": 52,
     "metadata": {},
     "output_type": "execute_result"
    }
   ],
   "source": [
    "pipe.get_params().keys()\n"
   ]
  },
  {
   "cell_type": "code",
   "execution_count": 53,
   "metadata": {},
   "outputs": [],
   "source": [
    "params = {'randomforestclassifier__n_estimators': np.arange(50,2000),\n",
    "         'randomforestclassifier__max_depth' :  np.arange(2,20)}\n",
    "\n",
    "rf_rand = RandomizedSearchCV(pipe,param_distributions=params,cv=5, n_jobs=-1, scoring = 'roc_auc',n_iter=10,\n",
    "                            random_state = 42, verbose= 10)"
   ]
  },
  {
   "cell_type": "code",
   "execution_count": 54,
   "metadata": {},
   "outputs": [
    {
     "name": "stdout",
     "output_type": "stream",
     "text": [
      "Fitting 5 folds for each of 10 candidates, totalling 50 fits\n"
     ]
    },
    {
     "name": "stderr",
     "output_type": "stream",
     "text": [
      "[Parallel(n_jobs=-1)]: Using backend LokyBackend with 8 concurrent workers.\n",
      "[Parallel(n_jobs=-1)]: Done   2 tasks      | elapsed:    6.9s\n",
      "[Parallel(n_jobs=-1)]: Done   9 tasks      | elapsed:   13.2s\n",
      "[Parallel(n_jobs=-1)]: Done  16 tasks      | elapsed:   24.8s\n",
      "[Parallel(n_jobs=-1)]: Done  25 tasks      | elapsed:   43.3s\n",
      "[Parallel(n_jobs=-1)]: Done  34 tasks      | elapsed:   53.2s\n",
      "[Parallel(n_jobs=-1)]: Done  41 out of  50 | elapsed:  1.1min remaining:   13.8s\n",
      "[Parallel(n_jobs=-1)]: Done  47 out of  50 | elapsed:  1.1min remaining:    4.2s\n",
      "[Parallel(n_jobs=-1)]: Done  50 out of  50 | elapsed:  1.1min finished\n"
     ]
    },
    {
     "data": {
      "text/plain": [
       "RandomizedSearchCV(cv=5,\n",
       "                   estimator=Pipeline(steps=[('standardscaler',\n",
       "                                              StandardScaler()),\n",
       "                                             ('randomforestclassifier',\n",
       "                                              RandomForestClassifier())]),\n",
       "                   n_jobs=-1,\n",
       "                   param_distributions={'randomforestclassifier__max_depth': array([ 2,  3,  4,  5,  6,  7,  8,  9, 10, 11, 12, 13, 14, 15, 16, 17, 18,\n",
       "       19]),\n",
       "                                        'randomforestclassifier__n_estimators': array([  50,   51,   52, ..., 1997, 1998, 1999])},\n",
       "                   random_state=42, scoring='roc_auc', verbose=10)"
      ]
     },
     "execution_count": 54,
     "metadata": {},
     "output_type": "execute_result"
    }
   ],
   "source": [
    "rf_rand.fit(X_train,y_train)"
   ]
  },
  {
   "cell_type": "markdown",
   "metadata": {},
   "source": [
    "***Looking at results from the random search***"
   ]
  },
  {
   "cell_type": "code",
   "execution_count": 55,
   "metadata": {},
   "outputs": [
    {
     "data": {
      "text/plain": [
       "{'randomforestclassifier__n_estimators': 465,\n",
       " 'randomforestclassifier__max_depth': 5}"
      ]
     },
     "execution_count": 55,
     "metadata": {},
     "output_type": "execute_result"
    }
   ],
   "source": [
    "rf_rand.best_params_"
   ]
  },
  {
   "cell_type": "code",
   "execution_count": 56,
   "metadata": {},
   "outputs": [],
   "source": [
    "rf_res = pd.DataFrame(rf_rand.cv_results_)\n"
   ]
  },
  {
   "cell_type": "code",
   "execution_count": 57,
   "metadata": {},
   "outputs": [
    {
     "data": {
      "text/html": [
       "<div>\n",
       "<style scoped>\n",
       "    .dataframe tbody tr th:only-of-type {\n",
       "        vertical-align: middle;\n",
       "    }\n",
       "\n",
       "    .dataframe tbody tr th {\n",
       "        vertical-align: top;\n",
       "    }\n",
       "\n",
       "    .dataframe thead th {\n",
       "        text-align: right;\n",
       "    }\n",
       "</style>\n",
       "<table border=\"1\" class=\"dataframe\">\n",
       "  <thead>\n",
       "    <tr style=\"text-align: right;\">\n",
       "      <th></th>\n",
       "      <th>mean_fit_time</th>\n",
       "      <th>std_fit_time</th>\n",
       "      <th>mean_score_time</th>\n",
       "      <th>std_score_time</th>\n",
       "      <th>param_randomforestclassifier__n_estimators</th>\n",
       "      <th>param_randomforestclassifier__max_depth</th>\n",
       "      <th>params</th>\n",
       "      <th>split0_test_score</th>\n",
       "      <th>split1_test_score</th>\n",
       "      <th>split2_test_score</th>\n",
       "      <th>split3_test_score</th>\n",
       "      <th>split4_test_score</th>\n",
       "      <th>mean_test_score</th>\n",
       "      <th>std_test_score</th>\n",
       "      <th>rank_test_score</th>\n",
       "    </tr>\n",
       "  </thead>\n",
       "  <tbody>\n",
       "    <tr>\n",
       "      <th>3</th>\n",
       "      <td>4.068104</td>\n",
       "      <td>0.212678</td>\n",
       "      <td>0.222102</td>\n",
       "      <td>0.019996</td>\n",
       "      <td>465</td>\n",
       "      <td>5</td>\n",
       "      <td>{'randomforestclassifier__n_estimators': 465, ...</td>\n",
       "      <td>0.867046</td>\n",
       "      <td>0.862415</td>\n",
       "      <td>0.892398</td>\n",
       "      <td>0.841539</td>\n",
       "      <td>0.862917</td>\n",
       "      <td>0.865263</td>\n",
       "      <td>0.016223</td>\n",
       "      <td>1</td>\n",
       "    </tr>\n",
       "    <tr>\n",
       "      <th>2</th>\n",
       "      <td>17.195137</td>\n",
       "      <td>0.464864</td>\n",
       "      <td>1.380035</td>\n",
       "      <td>0.432200</td>\n",
       "      <td>1584</td>\n",
       "      <td>7</td>\n",
       "      <td>{'randomforestclassifier__n_estimators': 1584,...</td>\n",
       "      <td>0.867361</td>\n",
       "      <td>0.858364</td>\n",
       "      <td>0.889250</td>\n",
       "      <td>0.846250</td>\n",
       "      <td>0.862064</td>\n",
       "      <td>0.864658</td>\n",
       "      <td>0.014123</td>\n",
       "      <td>2</td>\n",
       "    </tr>\n",
       "    <tr>\n",
       "      <th>4</th>\n",
       "      <td>23.144430</td>\n",
       "      <td>0.497397</td>\n",
       "      <td>0.930524</td>\n",
       "      <td>0.200432</td>\n",
       "      <td>1300</td>\n",
       "      <td>10</td>\n",
       "      <td>{'randomforestclassifier__n_estimators': 1300,...</td>\n",
       "      <td>0.862875</td>\n",
       "      <td>0.848645</td>\n",
       "      <td>0.882603</td>\n",
       "      <td>0.842912</td>\n",
       "      <td>0.851803</td>\n",
       "      <td>0.857768</td>\n",
       "      <td>0.014017</td>\n",
       "      <td>3</td>\n",
       "    </tr>\n",
       "    <tr>\n",
       "      <th>6</th>\n",
       "      <td>6.034329</td>\n",
       "      <td>0.419936</td>\n",
       "      <td>0.321963</td>\n",
       "      <td>0.055998</td>\n",
       "      <td>473</td>\n",
       "      <td>10</td>\n",
       "      <td>{'randomforestclassifier__n_estimators': 473, ...</td>\n",
       "      <td>0.860966</td>\n",
       "      <td>0.850113</td>\n",
       "      <td>0.882109</td>\n",
       "      <td>0.842718</td>\n",
       "      <td>0.849448</td>\n",
       "      <td>0.857071</td>\n",
       "      <td>0.013817</td>\n",
       "      <td>4</td>\n",
       "    </tr>\n",
       "    <tr>\n",
       "      <th>0</th>\n",
       "      <td>4.060523</td>\n",
       "      <td>0.042454</td>\n",
       "      <td>0.275171</td>\n",
       "      <td>0.018959</td>\n",
       "      <td>245</td>\n",
       "      <td>10</td>\n",
       "      <td>{'randomforestclassifier__n_estimators': 245, ...</td>\n",
       "      <td>0.866003</td>\n",
       "      <td>0.849062</td>\n",
       "      <td>0.879728</td>\n",
       "      <td>0.836889</td>\n",
       "      <td>0.852972</td>\n",
       "      <td>0.856931</td>\n",
       "      <td>0.014706</td>\n",
       "      <td>5</td>\n",
       "    </tr>\n",
       "    <tr>\n",
       "      <th>9</th>\n",
       "      <td>3.052502</td>\n",
       "      <td>0.148227</td>\n",
       "      <td>0.120761</td>\n",
       "      <td>0.017322</td>\n",
       "      <td>533</td>\n",
       "      <td>3</td>\n",
       "      <td>{'randomforestclassifier__n_estimators': 533, ...</td>\n",
       "      <td>0.854432</td>\n",
       "      <td>0.852657</td>\n",
       "      <td>0.893997</td>\n",
       "      <td>0.815248</td>\n",
       "      <td>0.858740</td>\n",
       "      <td>0.855015</td>\n",
       "      <td>0.024983</td>\n",
       "      <td>6</td>\n",
       "    </tr>\n",
       "    <tr>\n",
       "      <th>5</th>\n",
       "      <td>11.169682</td>\n",
       "      <td>2.033550</td>\n",
       "      <td>0.496702</td>\n",
       "      <td>0.139643</td>\n",
       "      <td>562</td>\n",
       "      <td>13</td>\n",
       "      <td>{'randomforestclassifier__n_estimators': 562, ...</td>\n",
       "      <td>0.857288</td>\n",
       "      <td>0.837351</td>\n",
       "      <td>0.872715</td>\n",
       "      <td>0.832977</td>\n",
       "      <td>0.844163</td>\n",
       "      <td>0.848899</td>\n",
       "      <td>0.014470</td>\n",
       "      <td>7</td>\n",
       "    </tr>\n",
       "    <tr>\n",
       "      <th>8</th>\n",
       "      <td>6.088524</td>\n",
       "      <td>0.705189</td>\n",
       "      <td>0.344045</td>\n",
       "      <td>0.108101</td>\n",
       "      <td>819</td>\n",
       "      <td>2</td>\n",
       "      <td>{'randomforestclassifier__n_estimators': 819, ...</td>\n",
       "      <td>0.841648</td>\n",
       "      <td>0.839086</td>\n",
       "      <td>0.890405</td>\n",
       "      <td>0.802345</td>\n",
       "      <td>0.850799</td>\n",
       "      <td>0.844857</td>\n",
       "      <td>0.028145</td>\n",
       "      <td>8</td>\n",
       "    </tr>\n",
       "    <tr>\n",
       "      <th>7</th>\n",
       "      <td>13.360695</td>\n",
       "      <td>0.055099</td>\n",
       "      <td>0.648327</td>\n",
       "      <td>0.017139</td>\n",
       "      <td>1735</td>\n",
       "      <td>2</td>\n",
       "      <td>{'randomforestclassifier__n_estimators': 1735,...</td>\n",
       "      <td>0.841072</td>\n",
       "      <td>0.838753</td>\n",
       "      <td>0.890175</td>\n",
       "      <td>0.799850</td>\n",
       "      <td>0.853725</td>\n",
       "      <td>0.844715</td>\n",
       "      <td>0.029015</td>\n",
       "      <td>9</td>\n",
       "    </tr>\n",
       "    <tr>\n",
       "      <th>1</th>\n",
       "      <td>6.496038</td>\n",
       "      <td>0.516134</td>\n",
       "      <td>0.379480</td>\n",
       "      <td>0.028139</td>\n",
       "      <td>910</td>\n",
       "      <td>2</td>\n",
       "      <td>{'randomforestclassifier__n_estimators': 910, ...</td>\n",
       "      <td>0.842540</td>\n",
       "      <td>0.837561</td>\n",
       "      <td>0.890136</td>\n",
       "      <td>0.799269</td>\n",
       "      <td>0.852197</td>\n",
       "      <td>0.844341</td>\n",
       "      <td>0.029119</td>\n",
       "      <td>10</td>\n",
       "    </tr>\n",
       "  </tbody>\n",
       "</table>\n",
       "</div>"
      ],
      "text/plain": [
       "   mean_fit_time  std_fit_time  mean_score_time  std_score_time  \\\n",
       "3       4.068104      0.212678         0.222102        0.019996   \n",
       "2      17.195137      0.464864         1.380035        0.432200   \n",
       "4      23.144430      0.497397         0.930524        0.200432   \n",
       "6       6.034329      0.419936         0.321963        0.055998   \n",
       "0       4.060523      0.042454         0.275171        0.018959   \n",
       "9       3.052502      0.148227         0.120761        0.017322   \n",
       "5      11.169682      2.033550         0.496702        0.139643   \n",
       "8       6.088524      0.705189         0.344045        0.108101   \n",
       "7      13.360695      0.055099         0.648327        0.017139   \n",
       "1       6.496038      0.516134         0.379480        0.028139   \n",
       "\n",
       "  param_randomforestclassifier__n_estimators  \\\n",
       "3                                        465   \n",
       "2                                       1584   \n",
       "4                                       1300   \n",
       "6                                        473   \n",
       "0                                        245   \n",
       "9                                        533   \n",
       "5                                        562   \n",
       "8                                        819   \n",
       "7                                       1735   \n",
       "1                                        910   \n",
       "\n",
       "  param_randomforestclassifier__max_depth  \\\n",
       "3                                       5   \n",
       "2                                       7   \n",
       "4                                      10   \n",
       "6                                      10   \n",
       "0                                      10   \n",
       "9                                       3   \n",
       "5                                      13   \n",
       "8                                       2   \n",
       "7                                       2   \n",
       "1                                       2   \n",
       "\n",
       "                                              params  split0_test_score  \\\n",
       "3  {'randomforestclassifier__n_estimators': 465, ...           0.867046   \n",
       "2  {'randomforestclassifier__n_estimators': 1584,...           0.867361   \n",
       "4  {'randomforestclassifier__n_estimators': 1300,...           0.862875   \n",
       "6  {'randomforestclassifier__n_estimators': 473, ...           0.860966   \n",
       "0  {'randomforestclassifier__n_estimators': 245, ...           0.866003   \n",
       "9  {'randomforestclassifier__n_estimators': 533, ...           0.854432   \n",
       "5  {'randomforestclassifier__n_estimators': 562, ...           0.857288   \n",
       "8  {'randomforestclassifier__n_estimators': 819, ...           0.841648   \n",
       "7  {'randomforestclassifier__n_estimators': 1735,...           0.841072   \n",
       "1  {'randomforestclassifier__n_estimators': 910, ...           0.842540   \n",
       "\n",
       "   split1_test_score  split2_test_score  split3_test_score  split4_test_score  \\\n",
       "3           0.862415           0.892398           0.841539           0.862917   \n",
       "2           0.858364           0.889250           0.846250           0.862064   \n",
       "4           0.848645           0.882603           0.842912           0.851803   \n",
       "6           0.850113           0.882109           0.842718           0.849448   \n",
       "0           0.849062           0.879728           0.836889           0.852972   \n",
       "9           0.852657           0.893997           0.815248           0.858740   \n",
       "5           0.837351           0.872715           0.832977           0.844163   \n",
       "8           0.839086           0.890405           0.802345           0.850799   \n",
       "7           0.838753           0.890175           0.799850           0.853725   \n",
       "1           0.837561           0.890136           0.799269           0.852197   \n",
       "\n",
       "   mean_test_score  std_test_score  rank_test_score  \n",
       "3         0.865263        0.016223                1  \n",
       "2         0.864658        0.014123                2  \n",
       "4         0.857768        0.014017                3  \n",
       "6         0.857071        0.013817                4  \n",
       "0         0.856931        0.014706                5  \n",
       "9         0.855015        0.024983                6  \n",
       "5         0.848899        0.014470                7  \n",
       "8         0.844857        0.028145                8  \n",
       "7         0.844715        0.029015                9  \n",
       "1         0.844341        0.029119               10  "
      ]
     },
     "execution_count": 57,
     "metadata": {},
     "output_type": "execute_result"
    }
   ],
   "source": [
    "rf_res.sort_values('mean_test_score',axis=0, ascending=False)"
   ]
  },
  {
   "cell_type": "code",
   "execution_count": 58,
   "metadata": {},
   "outputs": [
    {
     "data": {
      "text/plain": [
       "0.8652630065194608"
      ]
     },
     "execution_count": 58,
     "metadata": {},
     "output_type": "execute_result"
    }
   ],
   "source": [
    "rf_rand.best_score_"
   ]
  },
  {
   "cell_type": "code",
   "execution_count": 59,
   "metadata": {},
   "outputs": [],
   "source": [
    "from sklearn.metrics import roc_curve\n",
    "\n",
    "def roc_plot(e,x,y):\n",
    "    \"\"\"e is estimator, x is data and y is true value\"\"\"\n",
    "\n",
    "    #predicting from model\n",
    "    y_pred = e.predict_proba(x)[:,1]\n",
    "\n",
    "    #finding curve\n",
    "    fpr, tpr, t = roc_curve(y, y_pred)\n",
    "    sns.lineplot(x=fpr,y=tpr)\n",
    "    plt.xlabel('false positive rate')\n",
    "    plt.ylabel('true positive rate')\n",
    "    plt.title('Compute Receiver Operating Characteristic Curve')\n",
    "    return pd.DataFrame({'fpr':fpr,'tpr':tpr,'threshold':t})\n",
    "\n",
    "    \n"
   ]
  },
  {
   "cell_type": "code",
   "execution_count": 60,
   "metadata": {},
   "outputs": [
    {
     "data": {
      "image/png": "[encoded data removed]",
      "text/plain": [
       "<Figure size 432x288 with 1 Axes>"
      ]
     },
     "metadata": {},
     "output_type": "display_data"
    }
   ],
   "source": [
    "est = rf_rand.best_estimator_\n",
    "c = roc_plot(est, X_train, y_train)"
   ]
  },
  {
   "cell_type": "markdown",
   "metadata": {},
   "source": [
    "***Comparing to test set***"
   ]
  },
  {
   "cell_type": "code",
   "execution_count": 61,
   "metadata": {},
   "outputs": [
    {
     "name": "stdout",
     "output_type": "stream",
     "text": [
      "Evaluating the classifier on the test set, area under the roc curve is: 0.894\n"
     ]
    }
   ],
   "source": [
    "from sklearn.metrics import roc_auc_score\n",
    "\n",
    "\n",
    "def test_comp(e):\n",
    "    #predicting probability from test set\n",
    "    y_pred = e.predict_proba(X_test)[:,1]\n",
    "    \n",
    "    \n",
    "    r = np.round(roc_auc_score(y_test,y_pred),3)\n",
    "    \n",
    "    print('Evaluating the classifier on the test set, area under the roc curve is: ' +  \n",
    "           '{}'.format(r))\n",
    "\n",
    "test_comp(rf_rand.best_estimator_)"
   ]
  },
  {
   "cell_type": "markdown",
   "metadata": {},
   "source": [
    "<h3>Random Forest first results</h3>\n",
    "\n",
    "The classifier has decent performance. Let's see if with more parameters and a larger search I can improve the results even further."
   ]
  },
  {
   "cell_type": "code",
   "execution_count": 70,
   "metadata": {
    "scrolled": true
   },
   "outputs": [
    {
     "name": "stdout",
     "output_type": "stream",
     "text": [
      "Fitting 4 folds for each of 50 candidates, totalling 200 fits\n"
     ]
    },
    {
     "name": "stderr",
     "output_type": "stream",
     "text": [
      "[Parallel(n_jobs=-1)]: Using backend LokyBackend with 8 concurrent workers.\n",
      "[Parallel(n_jobs=-1)]: Done   2 tasks      | elapsed:    2.9s\n",
      "[Parallel(n_jobs=-1)]: Done   9 tasks      | elapsed:    7.9s\n",
      "[Parallel(n_jobs=-1)]: Done  16 tasks      | elapsed:   10.5s\n",
      "[Parallel(n_jobs=-1)]: Done  25 tasks      | elapsed:   25.0s\n",
      "[Parallel(n_jobs=-1)]: Done  34 tasks      | elapsed:   29.6s\n",
      "[Parallel(n_jobs=-1)]: Done  45 tasks      | elapsed:   43.3s\n",
      "[Parallel(n_jobs=-1)]: Done  56 tasks      | elapsed:   59.5s\n",
      "[Parallel(n_jobs=-1)]: Done  69 tasks      | elapsed:  1.3min\n",
      "[Parallel(n_jobs=-1)]: Done  82 tasks      | elapsed:  1.5min\n",
      "[Parallel(n_jobs=-1)]: Done  97 tasks      | elapsed:  1.7min\n",
      "[Parallel(n_jobs=-1)]: Done 112 tasks      | elapsed:  1.9min\n",
      "[Parallel(n_jobs=-1)]: Done 129 tasks      | elapsed:  2.2min\n",
      "[Parallel(n_jobs=-1)]: Done 146 tasks      | elapsed:  2.6min\n",
      "[Parallel(n_jobs=-1)]: Done 165 tasks      | elapsed:  2.9min\n",
      "[Parallel(n_jobs=-1)]: Done 184 tasks      | elapsed:  3.2min\n",
      "[Parallel(n_jobs=-1)]: Done 200 out of 200 | elapsed:  3.4min finished\n"
     ]
    },
    {
     "data": {
      "text/plain": [
       "RandomizedSearchCV(cv=4,\n",
       "                   estimator=Pipeline(steps=[('standardscaler',\n",
       "                                              StandardScaler()),\n",
       "                                             ('randomforestclassifier',\n",
       "                                              RandomForestClassifier())]),\n",
       "                   n_iter=50, n_jobs=-1,\n",
       "                   param_distributions={'randomforestclassifier__max_depth': array([ 1,  2,  3,  4,  5,  6,  7,  8,  9, 10, 11, 12, 13]),\n",
       "                                        'randomforestclassifier__n_estimators': array([  50,   51,   52, ..., 1997, 1998, 1999])},\n",
       "                   random_state=42, scoring='roc_auc', verbose=10)"
      ]
     },
     "execution_count": 70,
     "metadata": {},
     "output_type": "execute_result"
    }
   ],
   "source": [
    "params = {'randomforestclassifier__n_estimators': np.arange(50,2000),\n",
    "         'randomforestclassifier__max_depth' :  np.arange(1,14)}\n",
    "\n",
    "rf_rand_two = RandomizedSearchCV(pipe,param_distributions=params,cv=4, n_jobs=-1, scoring = 'roc_auc',n_iter=50,\n",
    "                            random_state = 42, verbose = 10)\n",
    "rf_rand_two.fit(X_train,y_train)"
   ]
  },
  {
   "cell_type": "code",
   "execution_count": 71,
   "metadata": {},
   "outputs": [
    {
     "data": {
      "image/png": "[encoded data removed]",
      "text/plain": [
       "<Figure size 432x288 with 1 Axes>"
      ]
     },
     "metadata": {},
     "output_type": "display_data"
    }
   ],
   "source": [
    "c = roc_plot(rf_rand_two.best_estimator_,X_train,y_train)\n"
   ]
  },
  {
   "cell_type": "code",
   "execution_count": 72,
   "metadata": {},
   "outputs": [
    {
     "data": {
      "text/plain": [
       "{'randomforestclassifier__n_estimators': 1584,\n",
       " 'randomforestclassifier__max_depth': 6}"
      ]
     },
     "execution_count": 72,
     "metadata": {},
     "output_type": "execute_result"
    }
   ],
   "source": [
    "rf_rand_two.best_params_"
   ]
  },
  {
   "cell_type": "code",
   "execution_count": 73,
   "metadata": {},
   "outputs": [
    {
     "data": {
      "text/plain": [
       "0.8634544620547411"
      ]
     },
     "execution_count": 73,
     "metadata": {},
     "output_type": "execute_result"
    }
   ],
   "source": [
    "rf_rand_two.best_score_"
   ]
  },
  {
   "cell_type": "code",
   "execution_count": 74,
   "metadata": {},
   "outputs": [
    {
     "name": "stdout",
     "output_type": "stream",
     "text": [
      "Evaluating the classifier on the test set, area under the roc curve is: 0.894\n"
     ]
    }
   ],
   "source": [
    "test_comp(rf_rand_two.best_estimator_)"
   ]
  },
  {
   "cell_type": "code",
   "execution_count": 75,
   "metadata": {},
   "outputs": [
    {
     "data": {
      "text/html": [
       "<div>\n",
       "<style scoped>\n",
       "    .dataframe tbody tr th:only-of-type {\n",
       "        vertical-align: middle;\n",
       "    }\n",
       "\n",
       "    .dataframe tbody tr th {\n",
       "        vertical-align: top;\n",
       "    }\n",
       "\n",
       "    .dataframe thead th {\n",
       "        text-align: right;\n",
       "    }\n",
       "</style>\n",
       "<table border=\"1\" class=\"dataframe\">\n",
       "  <thead>\n",
       "    <tr style=\"text-align: right;\">\n",
       "      <th></th>\n",
       "      <th>mean_fit_time</th>\n",
       "      <th>std_fit_time</th>\n",
       "      <th>mean_score_time</th>\n",
       "      <th>std_score_time</th>\n",
       "      <th>param_randomforestclassifier__n_estimators</th>\n",
       "      <th>param_randomforestclassifier__max_depth</th>\n",
       "      <th>params</th>\n",
       "      <th>split0_test_score</th>\n",
       "      <th>split1_test_score</th>\n",
       "      <th>split2_test_score</th>\n",
       "      <th>split3_test_score</th>\n",
       "      <th>mean_test_score</th>\n",
       "      <th>std_test_score</th>\n",
       "      <th>rank_test_score</th>\n",
       "    </tr>\n",
       "  </thead>\n",
       "  <tbody>\n",
       "    <tr>\n",
       "      <th>6</th>\n",
       "      <td>14.884117</td>\n",
       "      <td>0.132890</td>\n",
       "      <td>0.834548</td>\n",
       "      <td>0.008023</td>\n",
       "      <td>1584</td>\n",
       "      <td>6</td>\n",
       "      <td>{'randomforestclassifier__n_estimators': 1584,...</td>\n",
       "      <td>0.868706</td>\n",
       "      <td>0.870583</td>\n",
       "      <td>0.847217</td>\n",
       "      <td>0.867311</td>\n",
       "      <td>0.863454</td>\n",
       "      <td>0.009446</td>\n",
       "      <td>1</td>\n",
       "    </tr>\n",
       "    <tr>\n",
       "      <th>40</th>\n",
       "      <td>12.500187</td>\n",
       "      <td>0.066413</td>\n",
       "      <td>0.692283</td>\n",
       "      <td>0.006845</td>\n",
       "      <td>1694</td>\n",
       "      <td>6</td>\n",
       "      <td>{'randomforestclassifier__n_estimators': 1694,...</td>\n",
       "      <td>0.868562</td>\n",
       "      <td>0.870579</td>\n",
       "      <td>0.846923</td>\n",
       "      <td>0.867390</td>\n",
       "      <td>0.863363</td>\n",
       "      <td>0.009560</td>\n",
       "      <td>2</td>\n",
       "    </tr>\n",
       "    <tr>\n",
       "      <th>47</th>\n",
       "      <td>7.170022</td>\n",
       "      <td>0.030805</td>\n",
       "      <td>0.410128</td>\n",
       "      <td>0.005000</td>\n",
       "      <td>1042</td>\n",
       "      <td>5</td>\n",
       "      <td>{'randomforestclassifier__n_estimators': 1042,...</td>\n",
       "      <td>0.865429</td>\n",
       "      <td>0.875116</td>\n",
       "      <td>0.845026</td>\n",
       "      <td>0.867238</td>\n",
       "      <td>0.863202</td>\n",
       "      <td>0.011108</td>\n",
       "      <td>3</td>\n",
       "    </tr>\n",
       "    <tr>\n",
       "      <th>13</th>\n",
       "      <td>20.313389</td>\n",
       "      <td>0.108902</td>\n",
       "      <td>0.937347</td>\n",
       "      <td>0.002648</td>\n",
       "      <td>1663</td>\n",
       "      <td>6</td>\n",
       "      <td>{'randomforestclassifier__n_estimators': 1663,...</td>\n",
       "      <td>0.868075</td>\n",
       "      <td>0.870754</td>\n",
       "      <td>0.847277</td>\n",
       "      <td>0.866532</td>\n",
       "      <td>0.863159</td>\n",
       "      <td>0.009293</td>\n",
       "      <td>4</td>\n",
       "    </tr>\n",
       "    <tr>\n",
       "      <th>27</th>\n",
       "      <td>6.366862</td>\n",
       "      <td>0.030979</td>\n",
       "      <td>0.391984</td>\n",
       "      <td>0.036880</td>\n",
       "      <td>916</td>\n",
       "      <td>5</td>\n",
       "      <td>{'randomforestclassifier__n_estimators': 916, ...</td>\n",
       "      <td>0.866735</td>\n",
       "      <td>0.875228</td>\n",
       "      <td>0.843809</td>\n",
       "      <td>0.866491</td>\n",
       "      <td>0.863066</td>\n",
       "      <td>0.011661</td>\n",
       "      <td>5</td>\n",
       "    </tr>\n",
       "    <tr>\n",
       "      <th>49</th>\n",
       "      <td>3.918313</td>\n",
       "      <td>0.033476</td>\n",
       "      <td>0.145550</td>\n",
       "      <td>0.002044</td>\n",
       "      <td>553</td>\n",
       "      <td>6</td>\n",
       "      <td>{'randomforestclassifier__n_estimators': 553, ...</td>\n",
       "      <td>0.867389</td>\n",
       "      <td>0.871034</td>\n",
       "      <td>0.847383</td>\n",
       "      <td>0.866396</td>\n",
       "      <td>0.863050</td>\n",
       "      <td>0.009209</td>\n",
       "      <td>6</td>\n",
       "    </tr>\n",
       "    <tr>\n",
       "      <th>48</th>\n",
       "      <td>6.326691</td>\n",
       "      <td>0.004595</td>\n",
       "      <td>0.338132</td>\n",
       "      <td>0.025252</td>\n",
       "      <td>855</td>\n",
       "      <td>6</td>\n",
       "      <td>{'randomforestclassifier__n_estimators': 855, ...</td>\n",
       "      <td>0.868910</td>\n",
       "      <td>0.870298</td>\n",
       "      <td>0.845897</td>\n",
       "      <td>0.867029</td>\n",
       "      <td>0.863034</td>\n",
       "      <td>0.009961</td>\n",
       "      <td>7</td>\n",
       "    </tr>\n",
       "    <tr>\n",
       "      <th>15</th>\n",
       "      <td>5.596180</td>\n",
       "      <td>0.040176</td>\n",
       "      <td>0.273712</td>\n",
       "      <td>0.009845</td>\n",
       "      <td>572</td>\n",
       "      <td>5</td>\n",
       "      <td>{'randomforestclassifier__n_estimators': 572, ...</td>\n",
       "      <td>0.866020</td>\n",
       "      <td>0.873964</td>\n",
       "      <td>0.844653</td>\n",
       "      <td>0.866799</td>\n",
       "      <td>0.862859</td>\n",
       "      <td>0.010958</td>\n",
       "      <td>8</td>\n",
       "    </tr>\n",
       "    <tr>\n",
       "      <th>46</th>\n",
       "      <td>6.831002</td>\n",
       "      <td>0.038928</td>\n",
       "      <td>0.389780</td>\n",
       "      <td>0.005466</td>\n",
       "      <td>927</td>\n",
       "      <td>6</td>\n",
       "      <td>{'randomforestclassifier__n_estimators': 927, ...</td>\n",
       "      <td>0.868667</td>\n",
       "      <td>0.870855</td>\n",
       "      <td>0.845598</td>\n",
       "      <td>0.866081</td>\n",
       "      <td>0.862800</td>\n",
       "      <td>0.010074</td>\n",
       "      <td>9</td>\n",
       "    </tr>\n",
       "    <tr>\n",
       "      <th>43</th>\n",
       "      <td>7.558013</td>\n",
       "      <td>0.047039</td>\n",
       "      <td>0.435062</td>\n",
       "      <td>0.007848</td>\n",
       "      <td>1088</td>\n",
       "      <td>5</td>\n",
       "      <td>{'randomforestclassifier__n_estimators': 1088,...</td>\n",
       "      <td>0.864585</td>\n",
       "      <td>0.875279</td>\n",
       "      <td>0.843246</td>\n",
       "      <td>0.866787</td>\n",
       "      <td>0.862474</td>\n",
       "      <td>0.011798</td>\n",
       "      <td>10</td>\n",
       "    </tr>\n",
       "    <tr>\n",
       "      <th>5</th>\n",
       "      <td>3.289678</td>\n",
       "      <td>0.024287</td>\n",
       "      <td>0.175249</td>\n",
       "      <td>0.004946</td>\n",
       "      <td>314</td>\n",
       "      <td>7</td>\n",
       "      <td>{'randomforestclassifier__n_estimators': 314, ...</td>\n",
       "      <td>0.868991</td>\n",
       "      <td>0.865536</td>\n",
       "      <td>0.844600</td>\n",
       "      <td>0.864853</td>\n",
       "      <td>0.860995</td>\n",
       "      <td>0.009595</td>\n",
       "      <td>11</td>\n",
       "    </tr>\n",
       "    <tr>\n",
       "      <th>8</th>\n",
       "      <td>3.500071</td>\n",
       "      <td>0.056836</td>\n",
       "      <td>0.233417</td>\n",
       "      <td>0.016596</td>\n",
       "      <td>465</td>\n",
       "      <td>4</td>\n",
       "      <td>{'randomforestclassifier__n_estimators': 465, ...</td>\n",
       "      <td>0.859202</td>\n",
       "      <td>0.877935</td>\n",
       "      <td>0.841321</td>\n",
       "      <td>0.865253</td>\n",
       "      <td>0.860928</td>\n",
       "      <td>0.013185</td>\n",
       "      <td>12</td>\n",
       "    </tr>\n",
       "    <tr>\n",
       "      <th>12</th>\n",
       "      <td>11.004398</td>\n",
       "      <td>0.133580</td>\n",
       "      <td>1.000832</td>\n",
       "      <td>0.073935</td>\n",
       "      <td>823</td>\n",
       "      <td>8</td>\n",
       "      <td>{'randomforestclassifier__n_estimators': 823, ...</td>\n",
       "      <td>0.868367</td>\n",
       "      <td>0.860204</td>\n",
       "      <td>0.847557</td>\n",
       "      <td>0.863471</td>\n",
       "      <td>0.859900</td>\n",
       "      <td>0.007696</td>\n",
       "      <td>13</td>\n",
       "    </tr>\n",
       "    <tr>\n",
       "      <th>44</th>\n",
       "      <td>7.429226</td>\n",
       "      <td>0.056139</td>\n",
       "      <td>0.404652</td>\n",
       "      <td>0.006244</td>\n",
       "      <td>902</td>\n",
       "      <td>8</td>\n",
       "      <td>{'randomforestclassifier__n_estimators': 902, ...</td>\n",
       "      <td>0.865673</td>\n",
       "      <td>0.861657</td>\n",
       "      <td>0.847286</td>\n",
       "      <td>0.863918</td>\n",
       "      <td>0.859633</td>\n",
       "      <td>0.007269</td>\n",
       "      <td>14</td>\n",
       "    </tr>\n",
       "    <tr>\n",
       "      <th>22</th>\n",
       "      <td>5.276956</td>\n",
       "      <td>0.045936</td>\n",
       "      <td>0.319815</td>\n",
       "      <td>0.012256</td>\n",
       "      <td>620</td>\n",
       "      <td>4</td>\n",
       "      <td>{'randomforestclassifier__n_estimators': 620, ...</td>\n",
       "      <td>0.858782</td>\n",
       "      <td>0.875520</td>\n",
       "      <td>0.837176</td>\n",
       "      <td>0.866872</td>\n",
       "      <td>0.859588</td>\n",
       "      <td>0.014229</td>\n",
       "      <td>15</td>\n",
       "    </tr>\n",
       "    <tr>\n",
       "      <th>26</th>\n",
       "      <td>4.107143</td>\n",
       "      <td>0.018346</td>\n",
       "      <td>0.229910</td>\n",
       "      <td>0.003448</td>\n",
       "      <td>596</td>\n",
       "      <td>4</td>\n",
       "      <td>{'randomforestclassifier__n_estimators': 596, ...</td>\n",
       "      <td>0.858425</td>\n",
       "      <td>0.877295</td>\n",
       "      <td>0.837934</td>\n",
       "      <td>0.864453</td>\n",
       "      <td>0.859527</td>\n",
       "      <td>0.014208</td>\n",
       "      <td>16</td>\n",
       "    </tr>\n",
       "    <tr>\n",
       "      <th>1</th>\n",
       "      <td>2.619855</td>\n",
       "      <td>0.057771</td>\n",
       "      <td>0.155332</td>\n",
       "      <td>0.009453</td>\n",
       "      <td>245</td>\n",
       "      <td>9</td>\n",
       "      <td>{'randomforestclassifier__n_estimators': 245, ...</td>\n",
       "      <td>0.865065</td>\n",
       "      <td>0.858429</td>\n",
       "      <td>0.846941</td>\n",
       "      <td>0.861952</td>\n",
       "      <td>0.858097</td>\n",
       "      <td>0.006855</td>\n",
       "      <td>17</td>\n",
       "    </tr>\n",
       "    <tr>\n",
       "      <th>14</th>\n",
       "      <td>6.456510</td>\n",
       "      <td>0.169369</td>\n",
       "      <td>0.372182</td>\n",
       "      <td>0.010799</td>\n",
       "      <td>473</td>\n",
       "      <td>9</td>\n",
       "      <td>{'randomforestclassifier__n_estimators': 473, ...</td>\n",
       "      <td>0.865747</td>\n",
       "      <td>0.856594</td>\n",
       "      <td>0.845327</td>\n",
       "      <td>0.860724</td>\n",
       "      <td>0.857098</td>\n",
       "      <td>0.007529</td>\n",
       "      <td>18</td>\n",
       "    </tr>\n",
       "    <tr>\n",
       "      <th>9</th>\n",
       "      <td>13.744233</td>\n",
       "      <td>0.180130</td>\n",
       "      <td>0.818547</td>\n",
       "      <td>0.038660</td>\n",
       "      <td>1300</td>\n",
       "      <td>9</td>\n",
       "      <td>{'randomforestclassifier__n_estimators': 1300,...</td>\n",
       "      <td>0.865285</td>\n",
       "      <td>0.856387</td>\n",
       "      <td>0.844481</td>\n",
       "      <td>0.859875</td>\n",
       "      <td>0.856507</td>\n",
       "      <td>0.007633</td>\n",
       "      <td>19</td>\n",
       "    </tr>\n",
       "    <tr>\n",
       "      <th>10</th>\n",
       "      <td>3.858506</td>\n",
       "      <td>0.014520</td>\n",
       "      <td>0.262825</td>\n",
       "      <td>0.004924</td>\n",
       "      <td>576</td>\n",
       "      <td>3</td>\n",
       "      <td>{'randomforestclassifier__n_estimators': 576, ...</td>\n",
       "      <td>0.850633</td>\n",
       "      <td>0.874812</td>\n",
       "      <td>0.830231</td>\n",
       "      <td>0.862894</td>\n",
       "      <td>0.854643</td>\n",
       "      <td>0.016484</td>\n",
       "      <td>20</td>\n",
       "    </tr>\n",
       "    <tr>\n",
       "      <th>21</th>\n",
       "      <td>8.004412</td>\n",
       "      <td>0.080755</td>\n",
       "      <td>0.621084</td>\n",
       "      <td>0.016889</td>\n",
       "      <td>1201</td>\n",
       "      <td>3</td>\n",
       "      <td>{'randomforestclassifier__n_estimators': 1201,...</td>\n",
       "      <td>0.849086</td>\n",
       "      <td>0.875076</td>\n",
       "      <td>0.830622</td>\n",
       "      <td>0.862147</td>\n",
       "      <td>0.854233</td>\n",
       "      <td>0.016440</td>\n",
       "      <td>21</td>\n",
       "    </tr>\n",
       "    <tr>\n",
       "      <th>20</th>\n",
       "      <td>8.498313</td>\n",
       "      <td>0.076978</td>\n",
       "      <td>0.525972</td>\n",
       "      <td>0.003649</td>\n",
       "      <td>1461</td>\n",
       "      <td>3</td>\n",
       "      <td>{'randomforestclassifier__n_estimators': 1461,...</td>\n",
       "      <td>0.847901</td>\n",
       "      <td>0.875470</td>\n",
       "      <td>0.829815</td>\n",
       "      <td>0.863023</td>\n",
       "      <td>0.854052</td>\n",
       "      <td>0.017062</td>\n",
       "      <td>22</td>\n",
       "    </tr>\n",
       "    <tr>\n",
       "      <th>3</th>\n",
       "      <td>11.057211</td>\n",
       "      <td>0.147879</td>\n",
       "      <td>0.781074</td>\n",
       "      <td>0.006870</td>\n",
       "      <td>1540</td>\n",
       "      <td>3</td>\n",
       "      <td>{'randomforestclassifier__n_estimators': 1540,...</td>\n",
       "      <td>0.848217</td>\n",
       "      <td>0.874727</td>\n",
       "      <td>0.830303</td>\n",
       "      <td>0.862582</td>\n",
       "      <td>0.853957</td>\n",
       "      <td>0.016570</td>\n",
       "      <td>23</td>\n",
       "    </tr>\n",
       "    <tr>\n",
       "      <th>33</th>\n",
       "      <td>14.650246</td>\n",
       "      <td>0.117101</td>\n",
       "      <td>0.782887</td>\n",
       "      <td>0.005650</td>\n",
       "      <td>1618</td>\n",
       "      <td>10</td>\n",
       "      <td>{'randomforestclassifier__n_estimators': 1618,...</td>\n",
       "      <td>0.862799</td>\n",
       "      <td>0.852699</td>\n",
       "      <td>0.841441</td>\n",
       "      <td>0.858158</td>\n",
       "      <td>0.853774</td>\n",
       "      <td>0.007968</td>\n",
       "      <td>24</td>\n",
       "    </tr>\n",
       "    <tr>\n",
       "      <th>30</th>\n",
       "      <td>8.585620</td>\n",
       "      <td>0.079500</td>\n",
       "      <td>0.445394</td>\n",
       "      <td>0.005045</td>\n",
       "      <td>931</td>\n",
       "      <td>10</td>\n",
       "      <td>{'randomforestclassifier__n_estimators': 931, ...</td>\n",
       "      <td>0.862945</td>\n",
       "      <td>0.851747</td>\n",
       "      <td>0.841133</td>\n",
       "      <td>0.858302</td>\n",
       "      <td>0.853532</td>\n",
       "      <td>0.008190</td>\n",
       "      <td>25</td>\n",
       "    </tr>\n",
       "    <tr>\n",
       "      <th>28</th>\n",
       "      <td>13.155568</td>\n",
       "      <td>0.092296</td>\n",
       "      <td>0.712749</td>\n",
       "      <td>0.002914</td>\n",
       "      <td>1442</td>\n",
       "      <td>10</td>\n",
       "      <td>{'randomforestclassifier__n_estimators': 1442,...</td>\n",
       "      <td>0.863766</td>\n",
       "      <td>0.852648</td>\n",
       "      <td>0.840719</td>\n",
       "      <td>0.856513</td>\n",
       "      <td>0.853412</td>\n",
       "      <td>0.008345</td>\n",
       "      <td>26</td>\n",
       "    </tr>\n",
       "    <tr>\n",
       "      <th>39</th>\n",
       "      <td>3.775437</td>\n",
       "      <td>0.054658</td>\n",
       "      <td>0.200355</td>\n",
       "      <td>0.004943</td>\n",
       "      <td>412</td>\n",
       "      <td>10</td>\n",
       "      <td>{'randomforestclassifier__n_estimators': 412, ...</td>\n",
       "      <td>0.860782</td>\n",
       "      <td>0.851855</td>\n",
       "      <td>0.840254</td>\n",
       "      <td>0.855058</td>\n",
       "      <td>0.851987</td>\n",
       "      <td>0.007491</td>\n",
       "      <td>27</td>\n",
       "    </tr>\n",
       "    <tr>\n",
       "      <th>23</th>\n",
       "      <td>0.675332</td>\n",
       "      <td>0.017824</td>\n",
       "      <td>0.052819</td>\n",
       "      <td>0.002313</td>\n",
       "      <td>68</td>\n",
       "      <td>10</td>\n",
       "      <td>{'randomforestclassifier__n_estimators': 68, '...</td>\n",
       "      <td>0.863128</td>\n",
       "      <td>0.853421</td>\n",
       "      <td>0.838967</td>\n",
       "      <td>0.852398</td>\n",
       "      <td>0.851978</td>\n",
       "      <td>0.008601</td>\n",
       "      <td>28</td>\n",
       "    </tr>\n",
       "    <tr>\n",
       "      <th>35</th>\n",
       "      <td>14.786754</td>\n",
       "      <td>0.159610</td>\n",
       "      <td>0.810392</td>\n",
       "      <td>0.019649</td>\n",
       "      <td>1592</td>\n",
       "      <td>11</td>\n",
       "      <td>{'randomforestclassifier__n_estimators': 1592,...</td>\n",
       "      <td>0.862741</td>\n",
       "      <td>0.846927</td>\n",
       "      <td>0.839427</td>\n",
       "      <td>0.854350</td>\n",
       "      <td>0.850861</td>\n",
       "      <td>0.008653</td>\n",
       "      <td>29</td>\n",
       "    </tr>\n",
       "    <tr>\n",
       "      <th>24</th>\n",
       "      <td>14.849604</td>\n",
       "      <td>0.139586</td>\n",
       "      <td>0.747659</td>\n",
       "      <td>0.017802</td>\n",
       "      <td>1489</td>\n",
       "      <td>11</td>\n",
       "      <td>{'randomforestclassifier__n_estimators': 1489,...</td>\n",
       "      <td>0.860612</td>\n",
       "      <td>0.848590</td>\n",
       "      <td>0.838463</td>\n",
       "      <td>0.852591</td>\n",
       "      <td>0.850064</td>\n",
       "      <td>0.007975</td>\n",
       "      <td>30</td>\n",
       "    </tr>\n",
       "    <tr>\n",
       "      <th>25</th>\n",
       "      <td>3.438729</td>\n",
       "      <td>0.082719</td>\n",
       "      <td>0.199740</td>\n",
       "      <td>0.027573</td>\n",
       "      <td>319</td>\n",
       "      <td>11</td>\n",
       "      <td>{'randomforestclassifier__n_estimators': 319, ...</td>\n",
       "      <td>0.859453</td>\n",
       "      <td>0.847622</td>\n",
       "      <td>0.835633</td>\n",
       "      <td>0.852563</td>\n",
       "      <td>0.848818</td>\n",
       "      <td>0.008695</td>\n",
       "      <td>31</td>\n",
       "    </tr>\n",
       "    <tr>\n",
       "      <th>18</th>\n",
       "      <td>19.813737</td>\n",
       "      <td>0.141720</td>\n",
       "      <td>1.293981</td>\n",
       "      <td>0.026811</td>\n",
       "      <td>1933</td>\n",
       "      <td>12</td>\n",
       "      <td>{'randomforestclassifier__n_estimators': 1933,...</td>\n",
       "      <td>0.859000</td>\n",
       "      <td>0.842517</td>\n",
       "      <td>0.835837</td>\n",
       "      <td>0.854324</td>\n",
       "      <td>0.847920</td>\n",
       "      <td>0.009206</td>\n",
       "      <td>32</td>\n",
       "    </tr>\n",
       "    <tr>\n",
       "      <th>11</th>\n",
       "      <td>6.501567</td>\n",
       "      <td>0.100857</td>\n",
       "      <td>0.374353</td>\n",
       "      <td>0.020308</td>\n",
       "      <td>562</td>\n",
       "      <td>12</td>\n",
       "      <td>{'randomforestclassifier__n_estimators': 562, ...</td>\n",
       "      <td>0.856832</td>\n",
       "      <td>0.841358</td>\n",
       "      <td>0.840282</td>\n",
       "      <td>0.851029</td>\n",
       "      <td>0.847375</td>\n",
       "      <td>0.006879</td>\n",
       "      <td>33</td>\n",
       "    </tr>\n",
       "    <tr>\n",
       "      <th>7</th>\n",
       "      <td>8.878163</td>\n",
       "      <td>0.137968</td>\n",
       "      <td>0.490598</td>\n",
       "      <td>0.018621</td>\n",
       "      <td>718</td>\n",
       "      <td>12</td>\n",
       "      <td>{'randomforestclassifier__n_estimators': 718, ...</td>\n",
       "      <td>0.856818</td>\n",
       "      <td>0.841446</td>\n",
       "      <td>0.836486</td>\n",
       "      <td>0.852432</td>\n",
       "      <td>0.846795</td>\n",
       "      <td>0.008172</td>\n",
       "      <td>34</td>\n",
       "    </tr>\n",
       "    <tr>\n",
       "      <th>45</th>\n",
       "      <td>3.520337</td>\n",
       "      <td>0.034714</td>\n",
       "      <td>0.194269</td>\n",
       "      <td>0.002487</td>\n",
       "      <td>377</td>\n",
       "      <td>12</td>\n",
       "      <td>{'randomforestclassifier__n_estimators': 377, ...</td>\n",
       "      <td>0.857792</td>\n",
       "      <td>0.842857</td>\n",
       "      <td>0.832855</td>\n",
       "      <td>0.850358</td>\n",
       "      <td>0.845966</td>\n",
       "      <td>0.009229</td>\n",
       "      <td>35</td>\n",
       "    </tr>\n",
       "    <tr>\n",
       "      <th>4</th>\n",
       "      <td>2.121206</td>\n",
       "      <td>0.048661</td>\n",
       "      <td>0.128664</td>\n",
       "      <td>0.002036</td>\n",
       "      <td>175</td>\n",
       "      <td>12</td>\n",
       "      <td>{'randomforestclassifier__n_estimators': 175, ...</td>\n",
       "      <td>0.858511</td>\n",
       "      <td>0.845580</td>\n",
       "      <td>0.825697</td>\n",
       "      <td>0.848942</td>\n",
       "      <td>0.844682</td>\n",
       "      <td>0.011944</td>\n",
       "      <td>36</td>\n",
       "    </tr>\n",
       "    <tr>\n",
       "      <th>31</th>\n",
       "      <td>4.057810</td>\n",
       "      <td>0.007353</td>\n",
       "      <td>0.288379</td>\n",
       "      <td>0.007211</td>\n",
       "      <td>847</td>\n",
       "      <td>2</td>\n",
       "      <td>{'randomforestclassifier__n_estimators': 847, ...</td>\n",
       "      <td>0.838191</td>\n",
       "      <td>0.869153</td>\n",
       "      <td>0.815904</td>\n",
       "      <td>0.855352</td>\n",
       "      <td>0.844650</td>\n",
       "      <td>0.019893</td>\n",
       "      <td>37</td>\n",
       "    </tr>\n",
       "    <tr>\n",
       "      <th>41</th>\n",
       "      <td>7.929366</td>\n",
       "      <td>0.039340</td>\n",
       "      <td>0.509293</td>\n",
       "      <td>0.004471</td>\n",
       "      <td>1656</td>\n",
       "      <td>2</td>\n",
       "      <td>{'randomforestclassifier__n_estimators': 1656,...</td>\n",
       "      <td>0.837280</td>\n",
       "      <td>0.868935</td>\n",
       "      <td>0.815019</td>\n",
       "      <td>0.856962</td>\n",
       "      <td>0.844549</td>\n",
       "      <td>0.020455</td>\n",
       "      <td>38</td>\n",
       "    </tr>\n",
       "    <tr>\n",
       "      <th>19</th>\n",
       "      <td>2.699115</td>\n",
       "      <td>0.018099</td>\n",
       "      <td>0.186965</td>\n",
       "      <td>0.002878</td>\n",
       "      <td>533</td>\n",
       "      <td>2</td>\n",
       "      <td>{'randomforestclassifier__n_estimators': 533, ...</td>\n",
       "      <td>0.833880</td>\n",
       "      <td>0.871253</td>\n",
       "      <td>0.816789</td>\n",
       "      <td>0.855525</td>\n",
       "      <td>0.844362</td>\n",
       "      <td>0.020723</td>\n",
       "      <td>39</td>\n",
       "    </tr>\n",
       "    <tr>\n",
       "      <th>34</th>\n",
       "      <td>5.451137</td>\n",
       "      <td>0.044579</td>\n",
       "      <td>0.423179</td>\n",
       "      <td>0.031045</td>\n",
       "      <td>1105</td>\n",
       "      <td>2</td>\n",
       "      <td>{'randomforestclassifier__n_estimators': 1105,...</td>\n",
       "      <td>0.836347</td>\n",
       "      <td>0.869611</td>\n",
       "      <td>0.815233</td>\n",
       "      <td>0.856031</td>\n",
       "      <td>0.844305</td>\n",
       "      <td>0.020533</td>\n",
       "      <td>40</td>\n",
       "    </tr>\n",
       "    <tr>\n",
       "      <th>42</th>\n",
       "      <td>9.727526</td>\n",
       "      <td>0.086150</td>\n",
       "      <td>0.635428</td>\n",
       "      <td>0.022010</td>\n",
       "      <td>1990</td>\n",
       "      <td>2</td>\n",
       "      <td>{'randomforestclassifier__n_estimators': 1990,...</td>\n",
       "      <td>0.836185</td>\n",
       "      <td>0.867937</td>\n",
       "      <td>0.814120</td>\n",
       "      <td>0.856847</td>\n",
       "      <td>0.843772</td>\n",
       "      <td>0.020565</td>\n",
       "      <td>41</td>\n",
       "    </tr>\n",
       "    <tr>\n",
       "      <th>29</th>\n",
       "      <td>8.463998</td>\n",
       "      <td>0.049153</td>\n",
       "      <td>0.463059</td>\n",
       "      <td>0.005295</td>\n",
       "      <td>883</td>\n",
       "      <td>13</td>\n",
       "      <td>{'randomforestclassifier__n_estimators': 883, ...</td>\n",
       "      <td>0.854193</td>\n",
       "      <td>0.838132</td>\n",
       "      <td>0.828859</td>\n",
       "      <td>0.851384</td>\n",
       "      <td>0.843142</td>\n",
       "      <td>0.010237</td>\n",
       "      <td>42</td>\n",
       "    </tr>\n",
       "    <tr>\n",
       "      <th>37</th>\n",
       "      <td>7.245352</td>\n",
       "      <td>0.070429</td>\n",
       "      <td>0.397471</td>\n",
       "      <td>0.007460</td>\n",
       "      <td>768</td>\n",
       "      <td>13</td>\n",
       "      <td>{'randomforestclassifier__n_estimators': 768, ...</td>\n",
       "      <td>0.857614</td>\n",
       "      <td>0.840303</td>\n",
       "      <td>0.826674</td>\n",
       "      <td>0.846219</td>\n",
       "      <td>0.842702</td>\n",
       "      <td>0.011151</td>\n",
       "      <td>43</td>\n",
       "    </tr>\n",
       "    <tr>\n",
       "      <th>0</th>\n",
       "      <td>3.591392</td>\n",
       "      <td>0.085844</td>\n",
       "      <td>0.271092</td>\n",
       "      <td>0.038994</td>\n",
       "      <td>304</td>\n",
       "      <td>13</td>\n",
       "      <td>{'randomforestclassifier__n_estimators': 304, ...</td>\n",
       "      <td>0.857894</td>\n",
       "      <td>0.838567</td>\n",
       "      <td>0.831970</td>\n",
       "      <td>0.841673</td>\n",
       "      <td>0.842526</td>\n",
       "      <td>0.009540</td>\n",
       "      <td>44</td>\n",
       "    </tr>\n",
       "    <tr>\n",
       "      <th>2</th>\n",
       "      <td>4.809803</td>\n",
       "      <td>0.067486</td>\n",
       "      <td>0.408817</td>\n",
       "      <td>0.058240</td>\n",
       "      <td>910</td>\n",
       "      <td>1</td>\n",
       "      <td>{'randomforestclassifier__n_estimators': 910, ...</td>\n",
       "      <td>0.825199</td>\n",
       "      <td>0.855152</td>\n",
       "      <td>0.791517</td>\n",
       "      <td>0.850386</td>\n",
       "      <td>0.830563</td>\n",
       "      <td>0.025253</td>\n",
       "      <td>45</td>\n",
       "    </tr>\n",
       "    <tr>\n",
       "      <th>38</th>\n",
       "      <td>5.380966</td>\n",
       "      <td>0.050529</td>\n",
       "      <td>0.407147</td>\n",
       "      <td>0.023586</td>\n",
       "      <td>1317</td>\n",
       "      <td>1</td>\n",
       "      <td>{'randomforestclassifier__n_estimators': 1317,...</td>\n",
       "      <td>0.823611</td>\n",
       "      <td>0.856511</td>\n",
       "      <td>0.796260</td>\n",
       "      <td>0.845322</td>\n",
       "      <td>0.830426</td>\n",
       "      <td>0.023000</td>\n",
       "      <td>46</td>\n",
       "    </tr>\n",
       "    <tr>\n",
       "      <th>16</th>\n",
       "      <td>10.229770</td>\n",
       "      <td>0.040120</td>\n",
       "      <td>0.587537</td>\n",
       "      <td>0.037479</td>\n",
       "      <td>1735</td>\n",
       "      <td>1</td>\n",
       "      <td>{'randomforestclassifier__n_estimators': 1735,...</td>\n",
       "      <td>0.823697</td>\n",
       "      <td>0.857718</td>\n",
       "      <td>0.793756</td>\n",
       "      <td>0.844580</td>\n",
       "      <td>0.829938</td>\n",
       "      <td>0.024157</td>\n",
       "      <td>47</td>\n",
       "    </tr>\n",
       "    <tr>\n",
       "      <th>36</th>\n",
       "      <td>8.175924</td>\n",
       "      <td>0.043824</td>\n",
       "      <td>0.595692</td>\n",
       "      <td>0.007501</td>\n",
       "      <td>1949</td>\n",
       "      <td>1</td>\n",
       "      <td>{'randomforestclassifier__n_estimators': 1949,...</td>\n",
       "      <td>0.824958</td>\n",
       "      <td>0.854683</td>\n",
       "      <td>0.793832</td>\n",
       "      <td>0.842805</td>\n",
       "      <td>0.829070</td>\n",
       "      <td>0.022931</td>\n",
       "      <td>48</td>\n",
       "    </tr>\n",
       "    <tr>\n",
       "      <th>17</th>\n",
       "      <td>5.156290</td>\n",
       "      <td>0.208803</td>\n",
       "      <td>0.585414</td>\n",
       "      <td>0.118485</td>\n",
       "      <td>819</td>\n",
       "      <td>1</td>\n",
       "      <td>{'randomforestclassifier__n_estimators': 819, ...</td>\n",
       "      <td>0.821262</td>\n",
       "      <td>0.858070</td>\n",
       "      <td>0.790997</td>\n",
       "      <td>0.845612</td>\n",
       "      <td>0.828985</td>\n",
       "      <td>0.025618</td>\n",
       "      <td>49</td>\n",
       "    </tr>\n",
       "    <tr>\n",
       "      <th>32</th>\n",
       "      <td>1.018823</td>\n",
       "      <td>0.010394</td>\n",
       "      <td>0.083362</td>\n",
       "      <td>0.002900</td>\n",
       "      <td>239</td>\n",
       "      <td>1</td>\n",
       "      <td>{'randomforestclassifier__n_estimators': 239, ...</td>\n",
       "      <td>0.818465</td>\n",
       "      <td>0.846139</td>\n",
       "      <td>0.784361</td>\n",
       "      <td>0.844359</td>\n",
       "      <td>0.823331</td>\n",
       "      <td>0.025024</td>\n",
       "      <td>50</td>\n",
       "    </tr>\n",
       "  </tbody>\n",
       "</table>\n",
       "</div>"
      ],
      "text/plain": [
       "    mean_fit_time  std_fit_time  mean_score_time  std_score_time  \\\n",
       "6       14.884117      0.132890         0.834548        0.008023   \n",
       "40      12.500187      0.066413         0.692283        0.006845   \n",
       "47       7.170022      0.030805         0.410128        0.005000   \n",
       "13      20.313389      0.108902         0.937347        0.002648   \n",
       "27       6.366862      0.030979         0.391984        0.036880   \n",
       "49       3.918313      0.033476         0.145550        0.002044   \n",
       "48       6.326691      0.004595         0.338132        0.025252   \n",
       "15       5.596180      0.040176         0.273712        0.009845   \n",
       "46       6.831002      0.038928         0.389780        0.005466   \n",
       "43       7.558013      0.047039         0.435062        0.007848   \n",
       "5        3.289678      0.024287         0.175249        0.004946   \n",
       "8        3.500071      0.056836         0.233417        0.016596   \n",
       "12      11.004398      0.133580         1.000832        0.073935   \n",
       "44       7.429226      0.056139         0.404652        0.006244   \n",
       "22       5.276956      0.045936         0.319815        0.012256   \n",
       "26       4.107143      0.018346         0.229910        0.003448   \n",
       "1        2.619855      0.057771         0.155332        0.009453   \n",
       "14       6.456510      0.169369         0.372182        0.010799   \n",
       "9       13.744233      0.180130         0.818547        0.038660   \n",
       "10       3.858506      0.014520         0.262825        0.004924   \n",
       "21       8.004412      0.080755         0.621084        0.016889   \n",
       "20       8.498313      0.076978         0.525972        0.003649   \n",
       "3       11.057211      0.147879         0.781074        0.006870   \n",
       "33      14.650246      0.117101         0.782887        0.005650   \n",
       "30       8.585620      0.079500         0.445394        0.005045   \n",
       "28      13.155568      0.092296         0.712749        0.002914   \n",
       "39       3.775437      0.054658         0.200355        0.004943   \n",
       "23       0.675332      0.017824         0.052819        0.002313   \n",
       "35      14.786754      0.159610         0.810392        0.019649   \n",
       "24      14.849604      0.139586         0.747659        0.017802   \n",
       "25       3.438729      0.082719         0.199740        0.027573   \n",
       "18      19.813737      0.141720         1.293981        0.026811   \n",
       "11       6.501567      0.100857         0.374353        0.020308   \n",
       "7        8.878163      0.137968         0.490598        0.018621   \n",
       "45       3.520337      0.034714         0.194269        0.002487   \n",
       "4        2.121206      0.048661         0.128664        0.002036   \n",
       "31       4.057810      0.007353         0.288379        0.007211   \n",
       "41       7.929366      0.039340         0.509293        0.004471   \n",
       "19       2.699115      0.018099         0.186965        0.002878   \n",
       "34       5.451137      0.044579         0.423179        0.031045   \n",
       "42       9.727526      0.086150         0.635428        0.022010   \n",
       "29       8.463998      0.049153         0.463059        0.005295   \n",
       "37       7.245352      0.070429         0.397471        0.007460   \n",
       "0        3.591392      0.085844         0.271092        0.038994   \n",
       "2        4.809803      0.067486         0.408817        0.058240   \n",
       "38       5.380966      0.050529         0.407147        0.023586   \n",
       "16      10.229770      0.040120         0.587537        0.037479   \n",
       "36       8.175924      0.043824         0.595692        0.007501   \n",
       "17       5.156290      0.208803         0.585414        0.118485   \n",
       "32       1.018823      0.010394         0.083362        0.002900   \n",
       "\n",
       "   param_randomforestclassifier__n_estimators  \\\n",
       "6                                        1584   \n",
       "40                                       1694   \n",
       "47                                       1042   \n",
       "13                                       1663   \n",
       "27                                        916   \n",
       "49                                        553   \n",
       "48                                        855   \n",
       "15                                        572   \n",
       "46                                        927   \n",
       "43                                       1088   \n",
       "5                                         314   \n",
       "8                                         465   \n",
       "12                                        823   \n",
       "44                                        902   \n",
       "22                                        620   \n",
       "26                                        596   \n",
       "1                                         245   \n",
       "14                                        473   \n",
       "9                                        1300   \n",
       "10                                        576   \n",
       "21                                       1201   \n",
       "20                                       1461   \n",
       "3                                        1540   \n",
       "33                                       1618   \n",
       "30                                        931   \n",
       "28                                       1442   \n",
       "39                                        412   \n",
       "23                                         68   \n",
       "35                                       1592   \n",
       "24                                       1489   \n",
       "25                                        319   \n",
       "18                                       1933   \n",
       "11                                        562   \n",
       "7                                         718   \n",
       "45                                        377   \n",
       "4                                         175   \n",
       "31                                        847   \n",
       "41                                       1656   \n",
       "19                                        533   \n",
       "34                                       1105   \n",
       "42                                       1990   \n",
       "29                                        883   \n",
       "37                                        768   \n",
       "0                                         304   \n",
       "2                                         910   \n",
       "38                                       1317   \n",
       "16                                       1735   \n",
       "36                                       1949   \n",
       "17                                        819   \n",
       "32                                        239   \n",
       "\n",
       "   param_randomforestclassifier__max_depth  \\\n",
       "6                                        6   \n",
       "40                                       6   \n",
       "47                                       5   \n",
       "13                                       6   \n",
       "27                                       5   \n",
       "49                                       6   \n",
       "48                                       6   \n",
       "15                                       5   \n",
       "46                                       6   \n",
       "43                                       5   \n",
       "5                                        7   \n",
       "8                                        4   \n",
       "12                                       8   \n",
       "44                                       8   \n",
       "22                                       4   \n",
       "26                                       4   \n",
       "1                                        9   \n",
       "14                                       9   \n",
       "9                                        9   \n",
       "10                                       3   \n",
       "21                                       3   \n",
       "20                                       3   \n",
       "3                                        3   \n",
       "33                                      10   \n",
       "30                                      10   \n",
       "28                                      10   \n",
       "39                                      10   \n",
       "23                                      10   \n",
       "35                                      11   \n",
       "24                                      11   \n",
       "25                                      11   \n",
       "18                                      12   \n",
       "11                                      12   \n",
       "7                                       12   \n",
       "45                                      12   \n",
       "4                                       12   \n",
       "31                                       2   \n",
       "41                                       2   \n",
       "19                                       2   \n",
       "34                                       2   \n",
       "42                                       2   \n",
       "29                                      13   \n",
       "37                                      13   \n",
       "0                                       13   \n",
       "2                                        1   \n",
       "38                                       1   \n",
       "16                                       1   \n",
       "36                                       1   \n",
       "17                                       1   \n",
       "32                                       1   \n",
       "\n",
       "                                               params  split0_test_score  \\\n",
       "6   {'randomforestclassifier__n_estimators': 1584,...           0.868706   \n",
       "40  {'randomforestclassifier__n_estimators': 1694,...           0.868562   \n",
       "47  {'randomforestclassifier__n_estimators': 1042,...           0.865429   \n",
       "13  {'randomforestclassifier__n_estimators': 1663,...           0.868075   \n",
       "27  {'randomforestclassifier__n_estimators': 916, ...           0.866735   \n",
       "49  {'randomforestclassifier__n_estimators': 553, ...           0.867389   \n",
       "48  {'randomforestclassifier__n_estimators': 855, ...           0.868910   \n",
       "15  {'randomforestclassifier__n_estimators': 572, ...           0.866020   \n",
       "46  {'randomforestclassifier__n_estimators': 927, ...           0.868667   \n",
       "43  {'randomforestclassifier__n_estimators': 1088,...           0.864585   \n",
       "5   {'randomforestclassifier__n_estimators': 314, ...           0.868991   \n",
       "8   {'randomforestclassifier__n_estimators': 465, ...           0.859202   \n",
       "12  {'randomforestclassifier__n_estimators': 823, ...           0.868367   \n",
       "44  {'randomforestclassifier__n_estimators': 902, ...           0.865673   \n",
       "22  {'randomforestclassifier__n_estimators': 620, ...           0.858782   \n",
       "26  {'randomforestclassifier__n_estimators': 596, ...           0.858425   \n",
       "1   {'randomforestclassifier__n_estimators': 245, ...           0.865065   \n",
       "14  {'randomforestclassifier__n_estimators': 473, ...           0.865747   \n",
       "9   {'randomforestclassifier__n_estimators': 1300,...           0.865285   \n",
       "10  {'randomforestclassifier__n_estimators': 576, ...           0.850633   \n",
       "21  {'randomforestclassifier__n_estimators': 1201,...           0.849086   \n",
       "20  {'randomforestclassifier__n_estimators': 1461,...           0.847901   \n",
       "3   {'randomforestclassifier__n_estimators': 1540,...           0.848217   \n",
       "33  {'randomforestclassifier__n_estimators': 1618,...           0.862799   \n",
       "30  {'randomforestclassifier__n_estimators': 931, ...           0.862945   \n",
       "28  {'randomforestclassifier__n_estimators': 1442,...           0.863766   \n",
       "39  {'randomforestclassifier__n_estimators': 412, ...           0.860782   \n",
       "23  {'randomforestclassifier__n_estimators': 68, '...           0.863128   \n",
       "35  {'randomforestclassifier__n_estimators': 1592,...           0.862741   \n",
       "24  {'randomforestclassifier__n_estimators': 1489,...           0.860612   \n",
       "25  {'randomforestclassifier__n_estimators': 319, ...           0.859453   \n",
       "18  {'randomforestclassifier__n_estimators': 1933,...           0.859000   \n",
       "11  {'randomforestclassifier__n_estimators': 562, ...           0.856832   \n",
       "7   {'randomforestclassifier__n_estimators': 718, ...           0.856818   \n",
       "45  {'randomforestclassifier__n_estimators': 377, ...           0.857792   \n",
       "4   {'randomforestclassifier__n_estimators': 175, ...           0.858511   \n",
       "31  {'randomforestclassifier__n_estimators': 847, ...           0.838191   \n",
       "41  {'randomforestclassifier__n_estimators': 1656,...           0.837280   \n",
       "19  {'randomforestclassifier__n_estimators': 533, ...           0.833880   \n",
       "34  {'randomforestclassifier__n_estimators': 1105,...           0.836347   \n",
       "42  {'randomforestclassifier__n_estimators': 1990,...           0.836185   \n",
       "29  {'randomforestclassifier__n_estimators': 883, ...           0.854193   \n",
       "37  {'randomforestclassifier__n_estimators': 768, ...           0.857614   \n",
       "0   {'randomforestclassifier__n_estimators': 304, ...           0.857894   \n",
       "2   {'randomforestclassifier__n_estimators': 910, ...           0.825199   \n",
       "38  {'randomforestclassifier__n_estimators': 1317,...           0.823611   \n",
       "16  {'randomforestclassifier__n_estimators': 1735,...           0.823697   \n",
       "36  {'randomforestclassifier__n_estimators': 1949,...           0.824958   \n",
       "17  {'randomforestclassifier__n_estimators': 819, ...           0.821262   \n",
       "32  {'randomforestclassifier__n_estimators': 239, ...           0.818465   \n",
       "\n",
       "    split1_test_score  split2_test_score  split3_test_score  mean_test_score  \\\n",
       "6            0.870583           0.847217           0.867311         0.863454   \n",
       "40           0.870579           0.846923           0.867390         0.863363   \n",
       "47           0.875116           0.845026           0.867238         0.863202   \n",
       "13           0.870754           0.847277           0.866532         0.863159   \n",
       "27           0.875228           0.843809           0.866491         0.863066   \n",
       "49           0.871034           0.847383           0.866396         0.863050   \n",
       "48           0.870298           0.845897           0.867029         0.863034   \n",
       "15           0.873964           0.844653           0.866799         0.862859   \n",
       "46           0.870855           0.845598           0.866081         0.862800   \n",
       "43           0.875279           0.843246           0.866787         0.862474   \n",
       "5            0.865536           0.844600           0.864853         0.860995   \n",
       "8            0.877935           0.841321           0.865253         0.860928   \n",
       "12           0.860204           0.847557           0.863471         0.859900   \n",
       "44           0.861657           0.847286           0.863918         0.859633   \n",
       "22           0.875520           0.837176           0.866872         0.859588   \n",
       "26           0.877295           0.837934           0.864453         0.859527   \n",
       "1            0.858429           0.846941           0.861952         0.858097   \n",
       "14           0.856594           0.845327           0.860724         0.857098   \n",
       "9            0.856387           0.844481           0.859875         0.856507   \n",
       "10           0.874812           0.830231           0.862894         0.854643   \n",
       "21           0.875076           0.830622           0.862147         0.854233   \n",
       "20           0.875470           0.829815           0.863023         0.854052   \n",
       "3            0.874727           0.830303           0.862582         0.853957   \n",
       "33           0.852699           0.841441           0.858158         0.853774   \n",
       "30           0.851747           0.841133           0.858302         0.853532   \n",
       "28           0.852648           0.840719           0.856513         0.853412   \n",
       "39           0.851855           0.840254           0.855058         0.851987   \n",
       "23           0.853421           0.838967           0.852398         0.851978   \n",
       "35           0.846927           0.839427           0.854350         0.850861   \n",
       "24           0.848590           0.838463           0.852591         0.850064   \n",
       "25           0.847622           0.835633           0.852563         0.848818   \n",
       "18           0.842517           0.835837           0.854324         0.847920   \n",
       "11           0.841358           0.840282           0.851029         0.847375   \n",
       "7            0.841446           0.836486           0.852432         0.846795   \n",
       "45           0.842857           0.832855           0.850358         0.845966   \n",
       "4            0.845580           0.825697           0.848942         0.844682   \n",
       "31           0.869153           0.815904           0.855352         0.844650   \n",
       "41           0.868935           0.815019           0.856962         0.844549   \n",
       "19           0.871253           0.816789           0.855525         0.844362   \n",
       "34           0.869611           0.815233           0.856031         0.844305   \n",
       "42           0.867937           0.814120           0.856847         0.843772   \n",
       "29           0.838132           0.828859           0.851384         0.843142   \n",
       "37           0.840303           0.826674           0.846219         0.842702   \n",
       "0            0.838567           0.831970           0.841673         0.842526   \n",
       "2            0.855152           0.791517           0.850386         0.830563   \n",
       "38           0.856511           0.796260           0.845322         0.830426   \n",
       "16           0.857718           0.793756           0.844580         0.829938   \n",
       "36           0.854683           0.793832           0.842805         0.829070   \n",
       "17           0.858070           0.790997           0.845612         0.828985   \n",
       "32           0.846139           0.784361           0.844359         0.823331   \n",
       "\n",
       "    std_test_score  rank_test_score  \n",
       "6         0.009446                1  \n",
       "40        0.009560                2  \n",
       "47        0.011108                3  \n",
       "13        0.009293                4  \n",
       "27        0.011661                5  \n",
       "49        0.009209                6  \n",
       "48        0.009961                7  \n",
       "15        0.010958                8  \n",
       "46        0.010074                9  \n",
       "43        0.011798               10  \n",
       "5         0.009595               11  \n",
       "8         0.013185               12  \n",
       "12        0.007696               13  \n",
       "44        0.007269               14  \n",
       "22        0.014229               15  \n",
       "26        0.014208               16  \n",
       "1         0.006855               17  \n",
       "14        0.007529               18  \n",
       "9         0.007633               19  \n",
       "10        0.016484               20  \n",
       "21        0.016440               21  \n",
       "20        0.017062               22  \n",
       "3         0.016570               23  \n",
       "33        0.007968               24  \n",
       "30        0.008190               25  \n",
       "28        0.008345               26  \n",
       "39        0.007491               27  \n",
       "23        0.008601               28  \n",
       "35        0.008653               29  \n",
       "24        0.007975               30  \n",
       "25        0.008695               31  \n",
       "18        0.009206               32  \n",
       "11        0.006879               33  \n",
       "7         0.008172               34  \n",
       "45        0.009229               35  \n",
       "4         0.011944               36  \n",
       "31        0.019893               37  \n",
       "41        0.020455               38  \n",
       "19        0.020723               39  \n",
       "34        0.020533               40  \n",
       "42        0.020565               41  \n",
       "29        0.010237               42  \n",
       "37        0.011151               43  \n",
       "0         0.009540               44  \n",
       "2         0.025253               45  \n",
       "38        0.023000               46  \n",
       "16        0.024157               47  \n",
       "36        0.022931               48  \n",
       "17        0.025618               49  \n",
       "32        0.025024               50  "
      ]
     },
     "execution_count": 75,
     "metadata": {},
     "output_type": "execute_result"
    }
   ],
   "source": [
    "rf_res = pd.DataFrame(rf_rand_two.cv_results_)\n",
    "rf_res.sort_values('mean_test_score',axis=0, ascending=False)"
   ]
  },
  {
   "cell_type": "markdown",
   "metadata": {},
   "source": [
    "<h3>Random Forest second results</h3>\n",
    "\n",
    "More iterations in the random search yeilded an almost non-existent improvement. I will explore other classifiers before doing a thorough grid search within a more confined range, which will take a good amount of time. "
   ]
  },
  {
   "cell_type": "markdown",
   "metadata": {},
   "source": [
    "<h3>Random Forest Conclusions</h3>\n",
    "\n",
    "The Random Forest Classifier performs well out of the gate with an auc of 0.863 on the training set and 0.894 on the test set. The optimal max depth appears to be either 5 or 6 and the optimal number of estimators is likely between 750 - 1750"
   ]
  },
  {
   "cell_type": "markdown",
   "metadata": {},
   "source": [
    "<h2>Logistic Regression</h2>\n"
   ]
  },
  {
   "cell_type": "code",
   "execution_count": 76,
   "metadata": {},
   "outputs": [],
   "source": [
    "from sklearn.linear_model import LogisticRegression"
   ]
  },
  {
   "cell_type": "code",
   "execution_count": 77,
   "metadata": {},
   "outputs": [],
   "source": [
    "pipe_lr = make_pipeline( \n",
    "    StandardScaler(),\n",
    "    LogisticRegression(max_iter=1000)\n",
    ")\n",
    "\n",
    "params = {'logisticregression__C': np.logspace(-2,6)}\n",
    "\n",
    "#starting with few iterations, and narrowing the ranges afterwards\n",
    "lr = RandomizedSearchCV(pipe_lr,param_distributions=params,cv=5, n_jobs=-1, verbose =10, \n",
    "                                 scoring = 'roc_auc',n_iter=20,random_state = 42)\n"
   ]
  },
  {
   "cell_type": "code",
   "execution_count": 78,
   "metadata": {
    "scrolled": true
   },
   "outputs": [
    {
     "name": "stdout",
     "output_type": "stream",
     "text": [
      "Fitting 5 folds for each of 20 candidates, totalling 100 fits\n"
     ]
    },
    {
     "name": "stderr",
     "output_type": "stream",
     "text": [
      "[Parallel(n_jobs=-1)]: Using backend LokyBackend with 8 concurrent workers.\n",
      "[Parallel(n_jobs=-1)]: Done   2 tasks      | elapsed:    0.6s\n",
      "[Parallel(n_jobs=-1)]: Done   9 tasks      | elapsed:    3.0s\n",
      "[Parallel(n_jobs=-1)]: Done  16 tasks      | elapsed:    5.0s\n",
      "[Parallel(n_jobs=-1)]: Done  25 tasks      | elapsed:    6.7s\n",
      "[Parallel(n_jobs=-1)]: Done  34 tasks      | elapsed:    9.7s\n",
      "[Parallel(n_jobs=-1)]: Done  45 tasks      | elapsed:   12.2s\n",
      "[Parallel(n_jobs=-1)]: Done  56 tasks      | elapsed:   12.9s\n",
      "[Parallel(n_jobs=-1)]: Done  69 tasks      | elapsed:   13.9s\n",
      "[Parallel(n_jobs=-1)]: Done  82 tasks      | elapsed:   17.3s\n",
      "[Parallel(n_jobs=-1)]: Done  96 out of 100 | elapsed:   20.2s remaining:    0.8s\n",
      "[Parallel(n_jobs=-1)]: Done 100 out of 100 | elapsed:   20.4s finished\n"
     ]
    },
    {
     "data": {
      "text/plain": [
       "RandomizedSearchCV(cv=5,\n",
       "                   estimator=Pipeline(steps=[('standardscaler',\n",
       "                                              StandardScaler()),\n",
       "                                             ('logisticregression',\n",
       "                                              LogisticRegression(max_iter=1000))]),\n",
       "                   n_iter=20, n_jobs=-1,\n",
       "                   param_distributions={'logisticregression__C': array([1.00000000e-02, 1.45634848e-02, 2.12095089e-02, 3.08884360e-02,\n",
       "       4.49843267e-02, 6.55128557e-02, 9.54095476e-02, 1.38949549e-01,\n",
       "       2.02358965e-0...\n",
       "       3.72759372e+02, 5.42867544e+02, 7.90604321e+02, 1.15139540e+03,\n",
       "       1.67683294e+03, 2.44205309e+03, 3.55648031e+03, 5.17947468e+03,\n",
       "       7.54312006e+03, 1.09854114e+04, 1.59985872e+04, 2.32995181e+04,\n",
       "       3.39322177e+04, 4.94171336e+04, 7.19685673e+04, 1.04811313e+05,\n",
       "       1.52641797e+05, 2.22299648e+05, 3.23745754e+05, 4.71486636e+05,\n",
       "       6.86648845e+05, 1.00000000e+06])},\n",
       "                   random_state=42, scoring='roc_auc', verbose=10)"
      ]
     },
     "execution_count": 78,
     "metadata": {},
     "output_type": "execute_result"
    }
   ],
   "source": [
    "lr.fit(X,y)"
   ]
  },
  {
   "cell_type": "code",
   "execution_count": 79,
   "metadata": {},
   "outputs": [
    {
     "data": {
      "text/plain": [
       "{'logisticregression__C': 0.030888435964774818}"
      ]
     },
     "execution_count": 79,
     "metadata": {},
     "output_type": "execute_result"
    }
   ],
   "source": [
    "lr.best_params_"
   ]
  },
  {
   "cell_type": "code",
   "execution_count": 80,
   "metadata": {},
   "outputs": [
    {
     "data": {
      "text/plain": [
       "0.6718474443831586"
      ]
     },
     "execution_count": 80,
     "metadata": {},
     "output_type": "execute_result"
    }
   ],
   "source": [
    "lr.best_score_"
   ]
  },
  {
   "cell_type": "markdown",
   "metadata": {},
   "source": [
    "<h3>ROC auc - Logistic Regression</h3>\n"
   ]
  },
  {
   "cell_type": "code",
   "execution_count": 83,
   "metadata": {},
   "outputs": [
    {
     "data": {
      "image/png": "[encoded data removed]",
      "text/plain": [
       "<Figure size 432x288 with 1 Axes>"
      ]
     },
     "metadata": {},
     "output_type": "display_data"
    }
   ],
   "source": [
    "c = roc_plot(lr.best_estimator_,X_train,y_train)"
   ]
  },
  {
   "cell_type": "markdown",
   "metadata": {},
   "source": [
    "<h3>Evaluating with test set</h3>"
   ]
  },
  {
   "cell_type": "code",
   "execution_count": 84,
   "metadata": {},
   "outputs": [
    {
     "name": "stdout",
     "output_type": "stream",
     "text": [
      "Evaluating the classifier on the test set, area under the roc curve is: 0.883\n"
     ]
    }
   ],
   "source": [
    "test_comp(lr.best_estimator_)"
   ]
  },
  {
   "cell_type": "markdown",
   "metadata": {},
   "source": [
    "<h3>Logistic Regression Conclusions</h3>\n",
    "\n",
    "The logistic regression results were considerably worse on the training set than random forest. But surprisingly close for the test set. I prefer the random forest classifier, and I expect that on a different test set, I would see different results. "
   ]
  },
  {
   "cell_type": "markdown",
   "metadata": {},
   "source": [
    "<h2>KNN </h2>\n",
    "\n",
    "I don't expect KNN to give better results due to the high-dimensionality of the feature space. I expect PCA to be necessary, though I will try it without first. "
   ]
  },
  {
   "cell_type": "code",
   "execution_count": 85,
   "metadata": {
    "scrolled": true
   },
   "outputs": [
    {
     "name": "stderr",
     "output_type": "stream",
     "text": [
      "/Users/jon/opt/anaconda3/lib/python3.8/site-packages/sklearn/model_selection/_search.py:278: UserWarning: The total space of parameters 199 is smaller than n_iter=200. Running 199 iterations. For exhaustive searches, use GridSearchCV.\n",
      "  warnings.warn(\n",
      "[Parallel(n_jobs=-1)]: Using backend LokyBackend with 8 concurrent workers.\n"
     ]
    },
    {
     "name": "stdout",
     "output_type": "stream",
     "text": [
      "Fitting 5 folds for each of 199 candidates, totalling 995 fits\n"
     ]
    },
    {
     "name": "stderr",
     "output_type": "stream",
     "text": [
      "[Parallel(n_jobs=-1)]: Done   2 tasks      | elapsed:    0.7s\n",
      "[Parallel(n_jobs=-1)]: Done   9 tasks      | elapsed:    1.3s\n",
      "[Parallel(n_jobs=-1)]: Done  16 tasks      | elapsed:    1.8s\n",
      "[Parallel(n_jobs=-1)]: Done  25 tasks      | elapsed:    2.8s\n",
      "[Parallel(n_jobs=-1)]: Done  34 tasks      | elapsed:    3.7s\n",
      "[Parallel(n_jobs=-1)]: Done  45 tasks      | elapsed:    4.8s\n",
      "[Parallel(n_jobs=-1)]: Done  56 tasks      | elapsed:    6.1s\n",
      "[Parallel(n_jobs=-1)]: Done  69 tasks      | elapsed:    7.8s\n",
      "[Parallel(n_jobs=-1)]: Done  82 tasks      | elapsed:    9.6s\n",
      "[Parallel(n_jobs=-1)]: Done  97 tasks      | elapsed:   11.6s\n",
      "[Parallel(n_jobs=-1)]: Done 112 tasks      | elapsed:   13.8s\n",
      "[Parallel(n_jobs=-1)]: Done 129 tasks      | elapsed:   16.0s\n",
      "[Parallel(n_jobs=-1)]: Done 146 tasks      | elapsed:   18.7s\n",
      "[Parallel(n_jobs=-1)]: Done 165 tasks      | elapsed:   21.6s\n",
      "[Parallel(n_jobs=-1)]: Done 184 tasks      | elapsed:   24.5s\n",
      "[Parallel(n_jobs=-1)]: Done 205 tasks      | elapsed:   28.0s\n",
      "[Parallel(n_jobs=-1)]: Done 226 tasks      | elapsed:   31.6s\n",
      "[Parallel(n_jobs=-1)]: Done 249 tasks      | elapsed:   35.4s\n",
      "[Parallel(n_jobs=-1)]: Done 272 tasks      | elapsed:   39.4s\n",
      "[Parallel(n_jobs=-1)]: Done 297 tasks      | elapsed:   44.2s\n",
      "[Parallel(n_jobs=-1)]: Done 322 tasks      | elapsed:   48.9s\n",
      "[Parallel(n_jobs=-1)]: Done 349 tasks      | elapsed:   53.5s\n",
      "[Parallel(n_jobs=-1)]: Done 376 tasks      | elapsed:   58.6s\n",
      "[Parallel(n_jobs=-1)]: Done 405 tasks      | elapsed:  1.1min\n",
      "[Parallel(n_jobs=-1)]: Done 434 tasks      | elapsed:  1.2min\n",
      "[Parallel(n_jobs=-1)]: Done 465 tasks      | elapsed:  1.3min\n",
      "[Parallel(n_jobs=-1)]: Done 496 tasks      | elapsed:  1.3min\n",
      "[Parallel(n_jobs=-1)]: Done 529 tasks      | elapsed:  1.5min\n",
      "[Parallel(n_jobs=-1)]: Done 562 tasks      | elapsed:  1.6min\n",
      "[Parallel(n_jobs=-1)]: Done 597 tasks      | elapsed:  1.7min\n",
      "[Parallel(n_jobs=-1)]: Done 632 tasks      | elapsed:  1.8min\n",
      "[Parallel(n_jobs=-1)]: Done 669 tasks      | elapsed:  1.9min\n",
      "[Parallel(n_jobs=-1)]: Done 706 tasks      | elapsed:  2.1min\n",
      "[Parallel(n_jobs=-1)]: Done 745 tasks      | elapsed:  2.2min\n",
      "[Parallel(n_jobs=-1)]: Done 784 tasks      | elapsed:  2.3min\n",
      "[Parallel(n_jobs=-1)]: Done 825 tasks      | elapsed:  2.5min\n",
      "[Parallel(n_jobs=-1)]: Done 866 tasks      | elapsed:  2.7min\n",
      "[Parallel(n_jobs=-1)]: Done 909 tasks      | elapsed:  2.8min\n",
      "[Parallel(n_jobs=-1)]: Done 952 tasks      | elapsed:  3.0min\n",
      "[Parallel(n_jobs=-1)]: Done 995 out of 995 | elapsed:  3.1min finished\n"
     ]
    },
    {
     "data": {
      "text/plain": [
       "RandomizedSearchCV(cv=5,\n",
       "                   estimator=Pipeline(steps=[('standardscaler',\n",
       "                                              StandardScaler()),\n",
       "                                             ('kneighborsclassifier',\n",
       "                                              KNeighborsClassifier(weights='distance'))]),\n",
       "                   n_iter=200, n_jobs=-1,\n",
       "                   param_distributions={'kneighborsclassifier__n_neighbors': array([  1,   2,   3,   4,   5,   6,   7,   8,   9,  10,  11,  12,  13,\n",
       "        14,  15,  16,  17,  18,  19,  20,  21,  22,  23,  24,  25,  26,\n",
       "        27,  28,  29,  30,  31,  32,  33,  34,  35,  36,  37,  38,  39,\n",
       "        40,...\n",
       "       118, 119, 120, 121, 122, 123, 124, 125, 126, 127, 128, 129, 130,\n",
       "       131, 132, 133, 134, 135, 136, 137, 138, 139, 140, 141, 142, 143,\n",
       "       144, 145, 146, 147, 148, 149, 150, 151, 152, 153, 154, 155, 156,\n",
       "       157, 158, 159, 160, 161, 162, 163, 164, 165, 166, 167, 168, 169,\n",
       "       170, 171, 172, 173, 174, 175, 176, 177, 178, 179, 180, 181, 182,\n",
       "       183, 184, 185, 186, 187, 188, 189, 190, 191, 192, 193, 194, 195,\n",
       "       196, 197, 198, 199])},\n",
       "                   random_state=42, scoring='roc_auc', verbose=10)"
      ]
     },
     "execution_count": 85,
     "metadata": {},
     "output_type": "execute_result"
    }
   ],
   "source": [
    "from sklearn.neighbors import KNeighborsClassifier\n",
    "\n",
    "pipe_knn = make_pipeline( \n",
    "    StandardScaler(),\n",
    "    KNeighborsClassifier(weights='distance')\n",
    ")\n",
    "\n",
    "params = {'kneighborsclassifier__n_neighbors': np.arange(1,200)}\n",
    "    \n",
    "\n",
    "#starting with few iterations, and narrowing the ranges afterwards\n",
    "knn = RandomizedSearchCV(pipe_knn,param_distributions=params,cv=5, n_jobs=-1, verbose =10, \n",
    "                                 scoring = 'roc_auc',n_iter=200,random_state = 42)\n",
    "\n",
    "knn.fit(X_train,y_train)"
   ]
  },
  {
   "cell_type": "code",
   "execution_count": 87,
   "metadata": {},
   "outputs": [
    {
     "data": {
      "text/plain": [
       "{'kneighborsclassifier__n_neighbors': 149}"
      ]
     },
     "execution_count": 87,
     "metadata": {},
     "output_type": "execute_result"
    }
   ],
   "source": [
    "knn.best_params_"
   ]
  },
  {
   "cell_type": "code",
   "execution_count": 89,
   "metadata": {},
   "outputs": [
    {
     "data": {
      "text/plain": [
       "0.8267475735577478"
      ]
     },
     "execution_count": 89,
     "metadata": {},
     "output_type": "execute_result"
    }
   ],
   "source": [
    "knn.best_score_"
   ]
  },
  {
   "cell_type": "code",
   "execution_count": 91,
   "metadata": {},
   "outputs": [
    {
     "data": {
      "image/png": "[encoded data removed]",
      "text/plain": [
       "<Figure size 432x288 with 1 Axes>"
      ]
     },
     "metadata": {},
     "output_type": "display_data"
    }
   ],
   "source": [
    "c = roc_plot(knn.best_estimator_,X_train,y_train)"
   ]
  },
  {
   "cell_type": "code",
   "execution_count": 92,
   "metadata": {},
   "outputs": [
    {
     "name": "stdout",
     "output_type": "stream",
     "text": [
      "Evaluating the classifier on the test set, area under the roc curve is: 0.832\n"
     ]
    }
   ],
   "source": [
    "test_comp(knn.best_estimator_)"
   ]
  },
  {
   "cell_type": "markdown",
   "metadata": {},
   "source": [
    "Knn performed better than expected, with a max aoc of 0.827 for train and similar for test. Let's see if PCA improves"
   ]
  },
  {
   "cell_type": "code",
   "execution_count": 95,
   "metadata": {},
   "outputs": [
    {
     "name": "stdout",
     "output_type": "stream",
     "text": [
      "Fitting 5 folds for each of 200 candidates, totalling 1000 fits\n"
     ]
    },
    {
     "name": "stderr",
     "output_type": "stream",
     "text": [
      "[Parallel(n_jobs=-1)]: Using backend LokyBackend with 8 concurrent workers.\n",
      "[Parallel(n_jobs=-1)]: Done   2 tasks      | elapsed:    0.5s\n",
      "[Parallel(n_jobs=-1)]: Done   9 tasks      | elapsed:    1.2s\n",
      "[Parallel(n_jobs=-1)]: Done  16 tasks      | elapsed:    1.7s\n",
      "[Parallel(n_jobs=-1)]: Done  25 tasks      | elapsed:    2.8s\n",
      "[Parallel(n_jobs=-1)]: Done  34 tasks      | elapsed:    3.3s\n",
      "[Parallel(n_jobs=-1)]: Done  45 tasks      | elapsed:    4.6s\n",
      "[Parallel(n_jobs=-1)]: Done  56 tasks      | elapsed:    5.4s\n",
      "[Parallel(n_jobs=-1)]: Done  69 tasks      | elapsed:    6.9s\n",
      "[Parallel(n_jobs=-1)]: Done  82 tasks      | elapsed:    7.7s\n",
      "[Parallel(n_jobs=-1)]: Done  97 tasks      | elapsed:    8.7s\n",
      "[Parallel(n_jobs=-1)]: Done 112 tasks      | elapsed:    9.9s\n",
      "[Parallel(n_jobs=-1)]: Done 129 tasks      | elapsed:   11.4s\n",
      "[Parallel(n_jobs=-1)]: Done 146 tasks      | elapsed:   12.7s\n",
      "[Parallel(n_jobs=-1)]: Done 165 tasks      | elapsed:   14.6s\n",
      "[Parallel(n_jobs=-1)]: Done 184 tasks      | elapsed:   16.6s\n",
      "[Parallel(n_jobs=-1)]: Done 205 tasks      | elapsed:   17.8s\n",
      "[Parallel(n_jobs=-1)]: Done 226 tasks      | elapsed:   19.6s\n",
      "[Parallel(n_jobs=-1)]: Done 249 tasks      | elapsed:   21.2s\n",
      "[Parallel(n_jobs=-1)]: Done 272 tasks      | elapsed:   22.6s\n",
      "[Parallel(n_jobs=-1)]: Done 297 tasks      | elapsed:   24.9s\n",
      "[Parallel(n_jobs=-1)]: Done 322 tasks      | elapsed:   26.7s\n",
      "[Parallel(n_jobs=-1)]: Done 349 tasks      | elapsed:   28.6s\n",
      "[Parallel(n_jobs=-1)]: Done 376 tasks      | elapsed:   29.8s\n",
      "[Parallel(n_jobs=-1)]: Done 405 tasks      | elapsed:   31.5s\n",
      "[Parallel(n_jobs=-1)]: Done 434 tasks      | elapsed:   33.5s\n",
      "[Parallel(n_jobs=-1)]: Done 465 tasks      | elapsed:   35.6s\n",
      "[Parallel(n_jobs=-1)]: Done 496 tasks      | elapsed:   37.6s\n",
      "[Parallel(n_jobs=-1)]: Done 529 tasks      | elapsed:   39.8s\n",
      "[Parallel(n_jobs=-1)]: Done 562 tasks      | elapsed:   42.0s\n",
      "[Parallel(n_jobs=-1)]: Done 597 tasks      | elapsed:   43.8s\n",
      "[Parallel(n_jobs=-1)]: Done 632 tasks      | elapsed:   46.1s\n",
      "[Parallel(n_jobs=-1)]: Done 669 tasks      | elapsed:   48.4s\n",
      "[Parallel(n_jobs=-1)]: Done 706 tasks      | elapsed:   50.2s\n",
      "[Parallel(n_jobs=-1)]: Done 745 tasks      | elapsed:   52.7s\n",
      "[Parallel(n_jobs=-1)]: Done 784 tasks      | elapsed:   55.1s\n",
      "[Parallel(n_jobs=-1)]: Done 825 tasks      | elapsed:   58.6s\n",
      "[Parallel(n_jobs=-1)]: Done 866 tasks      | elapsed:  1.0min\n",
      "[Parallel(n_jobs=-1)]: Done 909 tasks      | elapsed:  1.1min\n",
      "[Parallel(n_jobs=-1)]: Done 952 tasks      | elapsed:  1.2min\n",
      "[Parallel(n_jobs=-1)]: Done 1000 out of 1000 | elapsed:  1.2min finished\n"
     ]
    },
    {
     "data": {
      "text/plain": [
       "RandomizedSearchCV(cv=5,\n",
       "                   estimator=Pipeline(steps=[('standardscaler',\n",
       "                                              StandardScaler()),\n",
       "                                             ('pca', PCA()),\n",
       "                                             ('kneighborsclassifier',\n",
       "                                              KNeighborsClassifier(weights='distance'))]),\n",
       "                   n_iter=200, n_jobs=-1,\n",
       "                   param_distributions={'kneighborsclassifier__n_neighbors': array([ 50,  51,  52,  53,  54,  55,  56,  57,  58,  59,  60,  61,  62,\n",
       "        63,  64,  65,  66,  67,  68,  69,  70,  71,  72,  73,  74,  75,\n",
       "        76,  77,  78,  79,  80,  81,  8...\n",
       "       193, 194, 195, 196, 197, 198, 199, 200, 201, 202, 203, 204, 205,\n",
       "       206, 207, 208, 209, 210, 211, 212, 213, 214, 215, 216, 217, 218,\n",
       "       219, 220, 221, 222, 223, 224, 225, 226, 227, 228, 229, 230, 231,\n",
       "       232, 233, 234, 235, 236, 237, 238, 239, 240, 241, 242, 243, 244,\n",
       "       245, 246, 247, 248, 249]),\n",
       "                                        'pca__n_components': array([ 2,  3,  4,  5,  6,  7,  8,  9, 10, 11, 12, 13, 14, 15, 16, 17, 18,\n",
       "       19, 20, 21, 22, 23, 24, 25, 26, 27, 28, 29])},\n",
       "                   random_state=42, scoring='roc_auc', verbose=10)"
      ]
     },
     "execution_count": 95,
     "metadata": {},
     "output_type": "execute_result"
    }
   ],
   "source": [
    "from sklearn.decomposition import PCA\n",
    "\n",
    "pipe_knn = make_pipeline( \n",
    "    StandardScaler(),\n",
    "    PCA(),\n",
    "    KNeighborsClassifier(weights='distance')\n",
    ")\n",
    "\n",
    "params = {'pca__n_components' : np.arange(2,X.shape[1]),\n",
    "          'kneighborsclassifier__n_neighbors': np.arange(50,250)}\n",
    "    \n",
    "\n",
    "#starting with few iterations, and narrowing the ranges afterwards\n",
    "knn = RandomizedSearchCV(pipe_knn,param_distributions=params,cv=5, n_jobs=-1, verbose =10, \n",
    "                                 scoring = 'roc_auc',n_iter=200,random_state = 42)\n",
    "\n",
    "knn.fit(X_train,y_train)"
   ]
  },
  {
   "cell_type": "code",
   "execution_count": 96,
   "metadata": {},
   "outputs": [
    {
     "data": {
      "text/plain": [
       "{'pca__n_components': 11, 'kneighborsclassifier__n_neighbors': 74}"
      ]
     },
     "execution_count": 96,
     "metadata": {},
     "output_type": "execute_result"
    }
   ],
   "source": [
    "knn.best_params_"
   ]
  },
  {
   "cell_type": "code",
   "execution_count": 97,
   "metadata": {},
   "outputs": [
    {
     "data": {
      "text/plain": [
       "0.8384868493125573"
      ]
     },
     "execution_count": 97,
     "metadata": {},
     "output_type": "execute_result"
    }
   ],
   "source": [
    "knn.best_score_"
   ]
  },
  {
   "cell_type": "code",
   "execution_count": 98,
   "metadata": {},
   "outputs": [
    {
     "data": {
      "image/png": "[encoded data removed]",
      "text/plain": [
       "<Figure size 432x288 with 1 Axes>"
      ]
     },
     "metadata": {},
     "output_type": "display_data"
    }
   ],
   "source": [
    "c = roc_plot(knn.best_estimator_,X_train,y_train)"
   ]
  },
  {
   "cell_type": "markdown",
   "metadata": {},
   "source": [
    "<h3>Evaluating with test set</h3>"
   ]
  },
  {
   "cell_type": "code",
   "execution_count": 99,
   "metadata": {},
   "outputs": [
    {
     "name": "stdout",
     "output_type": "stream",
     "text": [
      "Evaluating the classifier on the test set, area under the roc curve is: 0.866\n"
     ]
    }
   ],
   "source": [
    "test_comp(knn.best_estimator_)"
   ]
  },
  {
   "cell_type": "markdown",
   "metadata": {},
   "source": [
    "<h3>KNN Conclusions</h3>\n",
    "\n",
    "PCA did not improve things by much, if at all. It's certainly not worth it to lose feature importances. "
   ]
  },
  {
   "cell_type": "markdown",
   "metadata": {},
   "source": [
    "<h2>SVC</h2>\n",
    "\n",
    "SVC is supposedly good in high dimension data, and the set I have is relatively high dimension. "
   ]
  },
  {
   "cell_type": "code",
   "execution_count": 100,
   "metadata": {},
   "outputs": [
    {
     "name": "stdout",
     "output_type": "stream",
     "text": [
      "Fitting 5 folds for each of 10 candidates, totalling 50 fits\n"
     ]
    },
    {
     "name": "stderr",
     "output_type": "stream",
     "text": [
      "[Parallel(n_jobs=-1)]: Using backend LokyBackend with 8 concurrent workers.\n",
      "[Parallel(n_jobs=-1)]: Done   2 tasks      | elapsed:    4.1s\n",
      "[Parallel(n_jobs=-1)]: Done   9 tasks      | elapsed:   25.1s\n",
      "[Parallel(n_jobs=-1)]: Done  16 tasks      | elapsed:   34.4s\n",
      "[Parallel(n_jobs=-1)]: Done  25 tasks      | elapsed:  2.9min\n",
      "[Parallel(n_jobs=-1)]: Done  34 tasks      | elapsed:  3.3min\n",
      "[Parallel(n_jobs=-1)]: Done  41 out of  50 | elapsed:  3.6min remaining:   47.9s\n",
      "[Parallel(n_jobs=-1)]: Done  47 out of  50 | elapsed:  5.3min remaining:   20.4s\n",
      "[Parallel(n_jobs=-1)]: Done  50 out of  50 | elapsed:  6.1min finished\n"
     ]
    },
    {
     "data": {
      "text/plain": [
       "RandomizedSearchCV(cv=5,\n",
       "                   estimator=Pipeline(steps=[('standardscaler',\n",
       "                                              StandardScaler()),\n",
       "                                             ('svc', SVC(probability=True))]),\n",
       "                   n_jobs=-1,\n",
       "                   param_distributions={'svc__C': array([1.00000000e-05, 1.59985872e-05, 2.55954792e-05, 4.09491506e-05,\n",
       "       6.55128557e-05, 1.04811313e-04, 1.67683294e-04, 2.68269580e-04,\n",
       "       4.29193426e-04, 6.86648845e-04, 1.09854114e-03, 1.75751062e-03,\n",
       "       2.811...\n",
       "       5.17947468e+00, 8.28642773e+00, 1.32571137e+01, 2.12095089e+01,\n",
       "       3.39322177e+01, 5.42867544e+01, 8.68511374e+01, 1.38949549e+02,\n",
       "       2.22299648e+02, 3.55648031e+02, 5.68986603e+02, 9.10298178e+02,\n",
       "       1.45634848e+03, 2.32995181e+03, 3.72759372e+03, 5.96362332e+03,\n",
       "       9.54095476e+03, 1.52641797e+04, 2.44205309e+04, 3.90693994e+04,\n",
       "       6.25055193e+04, 1.00000000e+05])},\n",
       "                   random_state=42, scoring='roc_auc', verbose=10)"
      ]
     },
     "execution_count": 100,
     "metadata": {},
     "output_type": "execute_result"
    }
   ],
   "source": [
    "from sklearn.svm import SVC\n",
    "\n",
    "pipe_svc = make_pipeline( \n",
    "    StandardScaler(),\n",
    "    SVC(probability=True)\n",
    ")\n",
    "\n",
    "params = {'svc__C': np.logspace(-5,5)}\n",
    "    \n",
    "\n",
    "#starting with few iterations, and narrowing the ranges afterwards\n",
    "svc = RandomizedSearchCV(pipe_svc,param_distributions=params,cv=5, n_jobs=-1, verbose =10, \n",
    "                                 scoring = 'roc_auc',n_iter=10,random_state = 42)\n",
    "\n",
    "svc.fit(X_train,y_train)"
   ]
  },
  {
   "cell_type": "code",
   "execution_count": 101,
   "metadata": {},
   "outputs": [
    {
     "data": {
      "text/plain": [
       "{'svc__C': 910.2981779915227}"
      ]
     },
     "execution_count": 101,
     "metadata": {},
     "output_type": "execute_result"
    }
   ],
   "source": [
    "svc.best_params_"
   ]
  },
  {
   "cell_type": "code",
   "execution_count": 102,
   "metadata": {},
   "outputs": [
    {
     "data": {
      "text/plain": [
       "0.7810697781278164"
      ]
     },
     "execution_count": 102,
     "metadata": {},
     "output_type": "execute_result"
    }
   ],
   "source": [
    "svc.best_score_"
   ]
  },
  {
   "cell_type": "code",
   "execution_count": 103,
   "metadata": {},
   "outputs": [
    {
     "data": {
      "image/png": "[encoded data removed]",
      "text/plain": [
       "<Figure size 432x288 with 1 Axes>"
      ]
     },
     "metadata": {},
     "output_type": "display_data"
    }
   ],
   "source": [
    "c = roc_plot(svc.best_estimator_,X_train,y_train)"
   ]
  },
  {
   "cell_type": "markdown",
   "metadata": {},
   "source": [
    "<h3>Evaluating with test set</h3>"
   ]
  },
  {
   "cell_type": "code",
   "execution_count": 104,
   "metadata": {},
   "outputs": [
    {
     "name": "stdout",
     "output_type": "stream",
     "text": [
      "Evaluating the classifier on the test set, area under the roc curve is: 0.839\n"
     ]
    }
   ],
   "source": [
    "test_comp(svc.best_estimator_)"
   ]
  },
  {
   "cell_type": "markdown",
   "metadata": {},
   "source": [
    "<h3>SVC Conclusions</h3>\n",
    "\n",
    "SVC clearly performs worse"
   ]
  },
  {
   "cell_type": "markdown",
   "metadata": {},
   "source": [
    "<h1>Choosing a classifier</h1>\n",
    "\n",
    "Two models stand out as options to ultimately choose -- Random Forest and Logistic Regression. They both generalize faily well, though not to the extent I would hope. Random forest has more hyperparameters that I can tune and evaluate, so I will continue to look into it as the final model."
   ]
  },
  {
   "cell_type": "code",
   "execution_count": 89,
   "metadata": {
    "scrolled": true
   },
   "outputs": [
    {
     "name": "stdout",
     "output_type": "stream",
     "text": [
      "Fitting 5 folds for each of 100 candidates, totalling 500 fits\n"
     ]
    },
    {
     "name": "stderr",
     "output_type": "stream",
     "text": [
      "[Parallel(n_jobs=-1)]: Using backend LokyBackend with 8 concurrent workers.\n",
      "[Parallel(n_jobs=-1)]: Done   2 tasks      | elapsed:    3.0s\n",
      "[Parallel(n_jobs=-1)]: Done   9 tasks      | elapsed:    4.6s\n",
      "[Parallel(n_jobs=-1)]: Done  16 tasks      | elapsed:    9.1s\n",
      "[Parallel(n_jobs=-1)]: Done  25 tasks      | elapsed:   11.0s\n",
      "[Parallel(n_jobs=-1)]: Done  34 tasks      | elapsed:   15.5s\n",
      "[Parallel(n_jobs=-1)]: Done  45 tasks      | elapsed:   18.4s\n",
      "[Parallel(n_jobs=-1)]: Done  56 tasks      | elapsed:   20.4s\n",
      "[Parallel(n_jobs=-1)]: Done  69 tasks      | elapsed:   30.9s\n",
      "[Parallel(n_jobs=-1)]: Done  82 tasks      | elapsed:   38.3s\n",
      "[Parallel(n_jobs=-1)]: Done  97 tasks      | elapsed:   42.0s\n",
      "[Parallel(n_jobs=-1)]: Done 112 tasks      | elapsed:   47.9s\n",
      "[Parallel(n_jobs=-1)]: Done 129 tasks      | elapsed:   59.5s\n",
      "[Parallel(n_jobs=-1)]: Done 146 tasks      | elapsed:  1.2min\n",
      "[Parallel(n_jobs=-1)]: Done 165 tasks      | elapsed:  1.4min\n",
      "[Parallel(n_jobs=-1)]: Done 184 tasks      | elapsed:  1.8min\n",
      "[Parallel(n_jobs=-1)]: Done 205 tasks      | elapsed:  2.1min\n",
      "[Parallel(n_jobs=-1)]: Done 226 tasks      | elapsed:  2.3min\n",
      "[Parallel(n_jobs=-1)]: Done 249 tasks      | elapsed:  2.5min\n",
      "[Parallel(n_jobs=-1)]: Done 272 tasks      | elapsed:  2.8min\n",
      "[Parallel(n_jobs=-1)]: Done 297 tasks      | elapsed:  3.0min\n",
      "[Parallel(n_jobs=-1)]: Done 322 tasks      | elapsed:  3.5min\n",
      "[Parallel(n_jobs=-1)]: Done 349 tasks      | elapsed:  3.8min\n",
      "[Parallel(n_jobs=-1)]: Done 376 tasks      | elapsed:  4.0min\n",
      "[Parallel(n_jobs=-1)]: Done 405 tasks      | elapsed:  4.3min\n",
      "[Parallel(n_jobs=-1)]: Done 434 tasks      | elapsed:  4.7min\n",
      "[Parallel(n_jobs=-1)]: Done 465 tasks      | elapsed:  4.9min\n",
      "[Parallel(n_jobs=-1)]: Done 500 out of 500 | elapsed:  5.2min finished\n"
     ]
    },
    {
     "data": {
      "text/plain": [
       "RandomizedSearchCV(cv=5,\n",
       "                   estimator=Pipeline(steps=[('simpleimputer',\n",
       "                                              SimpleImputer(strategy='median')),\n",
       "                                             ('standardscaler',\n",
       "                                              StandardScaler()),\n",
       "                                             ('randomforestclassifier',\n",
       "                                              RandomForestClassifier())]),\n",
       "                   n_iter=100, n_jobs=-1,\n",
       "                   param_distributions={'randomforestclassifier__max_depth': array([1, 2, 3, 4]),\n",
       "                                        'randomforestclassifier__min_samples_leaf': array([1, 2, 3, 4]),\n",
       "                                        'randomforestclassifier__min_samples_split': array([1, 2, 3, 4]),\n",
       "                                        'randomforestclassifier__n_estimators': array([  50,   51,   52, ..., 1997, 1998, 1999])},\n",
       "                   random_state=42, scoring='recall', verbose=10)"
      ]
     },
     "execution_count": 89,
     "metadata": {},
     "output_type": "execute_result"
    }
   ],
   "source": [
    "pipe_rf = make_pipeline( \n",
    "    StandardScaler(), \n",
    "    RandomForestClassifier()\n",
    ")\n",
    "\n",
    "params = {'randomforestclassifier__n_estimators': np.arange(750,2000,50),\n",
    "          'randomforestclassifier__max_depth' :  np.arange(4,10)}\n",
    "\n",
    "rf = GridSearchCV(pipe,param_grid=params,cv=5, n_jobs=-1, scoring = 'roc_auc',n_iter=100,\n",
    "                            random_state = 42,verbose=10)\n",
    "\n",
    "rf.fit(X_train,y_train)"
   ]
  },
  {
   "cell_type": "code",
   "execution_count": 91,
   "metadata": {
    "scrolled": false
   },
   "outputs": [
    {
     "data": {
      "text/plain": [
       "{'randomforestclassifier__n_estimators': 1108,\n",
       " 'randomforestclassifier__min_samples_split': 3,\n",
       " 'randomforestclassifier__min_samples_leaf': 4,\n",
       " 'randomforestclassifier__max_depth': 4}"
      ]
     },
     "execution_count": 91,
     "metadata": {},
     "output_type": "execute_result"
    }
   ],
   "source": [
    "rf.best_params_"
   ]
  },
  {
   "cell_type": "markdown",
   "metadata": {},
   "source": [
    "***Evaluating Performance***"
   ]
  },
  {
   "cell_type": "code",
   "execution_count": 92,
   "metadata": {},
   "outputs": [
    {
     "data": {
      "image/png": "[encoded data removed]",
      "text/plain": [
       "<Figure size 432x288 with 1 Axes>"
      ]
     },
     "metadata": {},
     "output_type": "display_data"
    }
   ],
   "source": [
    "c = roc_plot(rf.best_estimator_,X_train,y_train)"
   ]
  },
  {
   "cell_type": "code",
   "execution_count": 97,
   "metadata": {},
   "outputs": [
    {
     "name": "stdout",
     "output_type": "stream",
     "text": [
      "Evaluating the classifier on the test set, the recall is: 0.881, and the precision is: 0.096\n"
     ]
    }
   ],
   "source": [
    "test_comp(svc.best_estimator_)"
   ]
  },
  {
   "cell_type": "markdown",
   "metadata": {},
   "source": [
    "***Looking at feature importance***"
   ]
  },
  {
   "cell_type": "code",
   "execution_count": 125,
   "metadata": {},
   "outputs": [],
   "source": [
    "r = rf.best_estimator_\n",
    "imp = r.steps[2][1].feature_importances_"
   ]
  },
  {
   "cell_type": "code",
   "execution_count": 137,
   "metadata": {},
   "outputs": [
    {
     "data": {
      "text/plain": [
       "<AxesSubplot:xlabel='importance', ylabel='feature'>"
      ]
     },
     "execution_count": 137,
     "metadata": {},
     "output_type": "execute_result"
    },
    {
     "data": {
      "image/png": "[encoded data removed]",
      "text/plain": [
       "<Figure size 1080x1440 with 1 Axes>"
      ]
     },
     "metadata": {},
     "output_type": "display_data"
    }
   ],
   "source": [
    "ax = plt.figure(figsize=(15,20))\n",
    "\n",
    "i = pd.DataFrame({'feature':X_test.columns,'importance':imp}).sort_values('importance',ascending=False)\n",
    "\n",
    "sns.barplot(data=i,y='feature',x='importance',orient='h',color='gray')"
   ]
  },
  {
   "cell_type": "markdown",
   "metadata": {},
   "source": [
    "<h1>Conclusions</h1>\n",
    "\n",
    "We are able to predict the appearence of WNV carrying mosquitos in the Chicago area with relative success. With a Random Forest Classifier, we're able to identify more than 80% of the WNV carrying mosquitos based primarily on weather data from two locations in the Chicago area. There is a trade-off however, that only roughly 1/10 positives from the model are true positives. The model gives us a good sense of where WNV is most likely to be, and airs on the side of extreme caution. In order to effectively target mosquito populations, this data set allows prioritization, for treatment or prevention, of zones and weather circumstances that are most closely associated with WNV. "
   ]
  },
  {
   "cell_type": "code",
   "execution_count": null,
   "metadata": {},
   "outputs": [],
   "source": []
  }
 ],
 "metadata": {
  "kernelspec": {
   "display_name": "Python 3",
   "language": "python",
   "name": "python3"
  },
  "language_info": {
   "codemirror_mode": {
    "name": "ipython",
    "version": 3
   },
   "file_extension": ".py",
   "mimetype": "text/x-python",
   "name": "python",
   "nbconvert_exporter": "python",
   "pygments_lexer": "ipython3",
   "version": "3.8.3"
  }
 },
 "nbformat": 4,
 "nbformat_minor": 4
}
