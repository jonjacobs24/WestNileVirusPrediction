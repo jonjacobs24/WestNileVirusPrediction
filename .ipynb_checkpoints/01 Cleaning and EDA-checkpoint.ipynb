{
 "cells": [
  {
   "cell_type": "markdown",
   "metadata": {},
   "source": [
    "# Predicting West Nile Virus in Chicago\n",
    "## Cleaning, feature engineering, and EDA\n"
   ]
  },
  {
   "cell_type": "markdown",
   "metadata": {},
   "source": [
    "* [1 Introduction and Imports](#intro)\n",
    "* [2. Cleaning](#cleaning)\n",
    "    *  [2.1 Weather](#weather_c)\n",
    "        * [2.1.1 Correcting Data Types](#w_missing)\n",
    "        * [2.1.2 Snow fall](#snow_fall)\n",
    "        * [2.1.3 Depth](#depth)\n",
    "        * [2.1.4 Water1](#water1)\n",
    "        * [2.1.5 Preciptotal](#precip)\n",
    "        * [2.1.6 Heat and Cool](#heat_cool)\n",
    "        * [2.1.7 Filling missing numerical data](#w_miss)\n",
    "        * [2.1.8 weather codes](#codesum)\n",
    "        * [2.1.9 two weather stations](#two_w)\n",
    "    * [2.2 Mosquito and Spray data](#mosquito_and_spray) \n",
    "        * [2.2.1 Spray data](#spray)\n",
    "        * [2.2.2 Traps](#trap)\n",
    "        * [2.2.3 uniting the two](#ms)  \n",
    "* [2.3 EDA and Feature Engineering](#EDA)\n",
    "    * [2.3.1 Distributions and Pairplots](#dist) \n",
    "    * [2.3.2 Species](#species)\n",
    "    * [2.3.3 WNV comparisons](#grouped)\n",
    "    * [2.3.4 Lagged Variables](#lagged)\n",
    "    * [2.3.5 Information Value](#inf_val)\n",
    "    * [2.3.6 Variance Inflation Factor](#var_in)"
   ]
  },
  {
   "cell_type": "markdown",
   "metadata": {},
   "source": [
    "## Introduction\n",
    "\n",
    "According to the CDC, West Nile Virus (WNV) is the leading cause of mosquito-borne disease in the US. The Chicago area reported 6 cases of WNV in the summer of 2020. Although this figure is small, the disease is dangerous, proving fatal for around 1 in 150 people who become infected. Mosquitos, beyond being a nuisance, are a public health concern, and it’s important for densely populated urban areas to control the mosquito population. \n",
    "\n",
    "The primary method of mosquito control is to spray insecticide over large areas of land. Along with environmental costs, there are significant costs and inconveniences associated with controlling mosquito populations. The city of Chicago Department of Public Health treats 40,000 water basins each year with larvicide and monitors 83 traps around the city each week for mosquitos with WNV. It’s costly both in terms of time and resources, and yet there are cases of WNV reported every year. \n",
    "\n",
    "This notebook is centered on the wrangling, cleaning, and feature engineering of three data sets in order to predict the presence of WNV in Chicago and surrounding commiunities. The three data sets are 1. historical data on mosquito spraying with insecticide 2. historical weather data from two monitoring stations 3. mosquito trap data from the city of Chicago Department of Public Health, which details if and when mosquitos were trapped, and whether or not they carried WNV.\n",
    "\n",
    "<a id='intro'></a>"
   ]
  },
  {
   "cell_type": "code",
   "execution_count": 1,
   "metadata": {},
   "outputs": [],
   "source": [
    "#importing relevant packages\n",
    "\n",
    "import pandas as pd\n",
    "import numpy as np\n",
    "from scipy import stats\n",
    "import seaborn as sns\n",
    "import matplotlib.pyplot as plt\n",
    "from sklearn.model_selection import train_test_split, cross_val_score, GridSearchCV\n",
    "from sklearn.pipeline import Pipeline\n",
    "from sklearn.metrics import classification_report\n",
    "from sklearn.linear_model import LogisticRegression\n",
    "import pandas.core.algorithms as algos\n",
    "from pandas import Series\n",
    "import scipy.stats.stats as stats\n",
    "import re\n",
    "import traceback\n",
    "import string\n",
    "import statsmodels.api as sm\n",
    "from statsmodels.stats.outliers_influence import variance_inflation_factor\n",
    "\n",
    "sns.set_style('whitegrid')"
   ]
  },
  {
   "cell_type": "code",
   "execution_count": 2,
   "metadata": {},
   "outputs": [],
   "source": [
    "#loading the three data sets\n",
    "\n",
    "sp = pd.read_csv('./data/raw/spray.csv.zip') #spray data\n",
    "df= pd.read_csv('./data/raw/train.csv.zip') #mosquito data\n",
    "w = pd.read_csv('./data/raw/weather.csv.zip') # weather data\n"
   ]
  },
  {
   "cell_type": "markdown",
   "metadata": {},
   "source": [
    "<a id='cleaning'></a>\n",
    "\n",
    "## 2. Cleaning"
   ]
  },
  {
   "cell_type": "markdown",
   "metadata": {},
   "source": [
    "<a id='weather_c'></a>\n",
    "\n",
    "## 2. 1 Weather Cleaning\n"
   ]
  },
  {
   "cell_type": "code",
   "execution_count": 3,
   "metadata": {},
   "outputs": [
    {
     "name": "stdout",
     "output_type": "stream",
     "text": [
      "<class 'pandas.core.frame.DataFrame'>\n",
      "RangeIndex: 2944 entries, 0 to 2943\n",
      "Data columns (total 22 columns):\n",
      " #   Column       Non-Null Count  Dtype  \n",
      "---  ------       --------------  -----  \n",
      " 0   Station      2944 non-null   int64  \n",
      " 1   Date         2944 non-null   object \n",
      " 2   Tmax         2944 non-null   int64  \n",
      " 3   Tmin         2944 non-null   int64  \n",
      " 4   Tavg         2944 non-null   object \n",
      " 5   Depart       2944 non-null   object \n",
      " 6   DewPoint     2944 non-null   int64  \n",
      " 7   WetBulb      2944 non-null   object \n",
      " 8   Heat         2944 non-null   object \n",
      " 9   Cool         2944 non-null   object \n",
      " 10  Sunrise      2944 non-null   object \n",
      " 11  Sunset       2944 non-null   object \n",
      " 12  CodeSum      2944 non-null   object \n",
      " 13  Depth        2944 non-null   object \n",
      " 14  Water1       2944 non-null   object \n",
      " 15  SnowFall     2944 non-null   object \n",
      " 16  PrecipTotal  2944 non-null   object \n",
      " 17  StnPressure  2944 non-null   object \n",
      " 18  SeaLevel     2944 non-null   object \n",
      " 19  ResultSpeed  2944 non-null   float64\n",
      " 20  ResultDir    2944 non-null   int64  \n",
      " 21  AvgSpeed     2944 non-null   object \n",
      "dtypes: float64(1), int64(5), object(16)\n",
      "memory usage: 506.1+ KB\n"
     ]
    }
   ],
   "source": [
    "w.info()"
   ]
  },
  {
   "cell_type": "code",
   "execution_count": 4,
   "metadata": {},
   "outputs": [
    {
     "data": {
      "text/html": [
       "<div>\n",
       "<style scoped>\n",
       "    .dataframe tbody tr th:only-of-type {\n",
       "        vertical-align: middle;\n",
       "    }\n",
       "\n",
       "    .dataframe tbody tr th {\n",
       "        vertical-align: top;\n",
       "    }\n",
       "\n",
       "    .dataframe thead th {\n",
       "        text-align: right;\n",
       "    }\n",
       "</style>\n",
       "<table border=\"1\" class=\"dataframe\">\n",
       "  <thead>\n",
       "    <tr style=\"text-align: right;\">\n",
       "      <th></th>\n",
       "      <th>Station</th>\n",
       "      <th>Date</th>\n",
       "      <th>Tmax</th>\n",
       "      <th>Tmin</th>\n",
       "      <th>Tavg</th>\n",
       "      <th>Depart</th>\n",
       "      <th>DewPoint</th>\n",
       "      <th>WetBulb</th>\n",
       "      <th>Heat</th>\n",
       "      <th>Cool</th>\n",
       "      <th>...</th>\n",
       "      <th>CodeSum</th>\n",
       "      <th>Depth</th>\n",
       "      <th>Water1</th>\n",
       "      <th>SnowFall</th>\n",
       "      <th>PrecipTotal</th>\n",
       "      <th>StnPressure</th>\n",
       "      <th>SeaLevel</th>\n",
       "      <th>ResultSpeed</th>\n",
       "      <th>ResultDir</th>\n",
       "      <th>AvgSpeed</th>\n",
       "    </tr>\n",
       "  </thead>\n",
       "  <tbody>\n",
       "    <tr>\n",
       "      <th>0</th>\n",
       "      <td>1</td>\n",
       "      <td>2007-05-01</td>\n",
       "      <td>83</td>\n",
       "      <td>50</td>\n",
       "      <td>67</td>\n",
       "      <td>14</td>\n",
       "      <td>51</td>\n",
       "      <td>56</td>\n",
       "      <td>0</td>\n",
       "      <td>2</td>\n",
       "      <td>...</td>\n",
       "      <td></td>\n",
       "      <td>0</td>\n",
       "      <td>M</td>\n",
       "      <td>0.0</td>\n",
       "      <td>0.00</td>\n",
       "      <td>29.10</td>\n",
       "      <td>29.82</td>\n",
       "      <td>1.7</td>\n",
       "      <td>27</td>\n",
       "      <td>9.2</td>\n",
       "    </tr>\n",
       "    <tr>\n",
       "      <th>1</th>\n",
       "      <td>2</td>\n",
       "      <td>2007-05-01</td>\n",
       "      <td>84</td>\n",
       "      <td>52</td>\n",
       "      <td>68</td>\n",
       "      <td>M</td>\n",
       "      <td>51</td>\n",
       "      <td>57</td>\n",
       "      <td>0</td>\n",
       "      <td>3</td>\n",
       "      <td>...</td>\n",
       "      <td></td>\n",
       "      <td>M</td>\n",
       "      <td>M</td>\n",
       "      <td>M</td>\n",
       "      <td>0.00</td>\n",
       "      <td>29.18</td>\n",
       "      <td>29.82</td>\n",
       "      <td>2.7</td>\n",
       "      <td>25</td>\n",
       "      <td>9.6</td>\n",
       "    </tr>\n",
       "    <tr>\n",
       "      <th>2</th>\n",
       "      <td>1</td>\n",
       "      <td>2007-05-02</td>\n",
       "      <td>59</td>\n",
       "      <td>42</td>\n",
       "      <td>51</td>\n",
       "      <td>-3</td>\n",
       "      <td>42</td>\n",
       "      <td>47</td>\n",
       "      <td>14</td>\n",
       "      <td>0</td>\n",
       "      <td>...</td>\n",
       "      <td>BR</td>\n",
       "      <td>0</td>\n",
       "      <td>M</td>\n",
       "      <td>0.0</td>\n",
       "      <td>0.00</td>\n",
       "      <td>29.38</td>\n",
       "      <td>30.09</td>\n",
       "      <td>13.0</td>\n",
       "      <td>4</td>\n",
       "      <td>13.4</td>\n",
       "    </tr>\n",
       "    <tr>\n",
       "      <th>3</th>\n",
       "      <td>2</td>\n",
       "      <td>2007-05-02</td>\n",
       "      <td>60</td>\n",
       "      <td>43</td>\n",
       "      <td>52</td>\n",
       "      <td>M</td>\n",
       "      <td>42</td>\n",
       "      <td>47</td>\n",
       "      <td>13</td>\n",
       "      <td>0</td>\n",
       "      <td>...</td>\n",
       "      <td>BR HZ</td>\n",
       "      <td>M</td>\n",
       "      <td>M</td>\n",
       "      <td>M</td>\n",
       "      <td>0.00</td>\n",
       "      <td>29.44</td>\n",
       "      <td>30.08</td>\n",
       "      <td>13.3</td>\n",
       "      <td>2</td>\n",
       "      <td>13.4</td>\n",
       "    </tr>\n",
       "    <tr>\n",
       "      <th>4</th>\n",
       "      <td>1</td>\n",
       "      <td>2007-05-03</td>\n",
       "      <td>66</td>\n",
       "      <td>46</td>\n",
       "      <td>56</td>\n",
       "      <td>2</td>\n",
       "      <td>40</td>\n",
       "      <td>48</td>\n",
       "      <td>9</td>\n",
       "      <td>0</td>\n",
       "      <td>...</td>\n",
       "      <td></td>\n",
       "      <td>0</td>\n",
       "      <td>M</td>\n",
       "      <td>0.0</td>\n",
       "      <td>0.00</td>\n",
       "      <td>29.39</td>\n",
       "      <td>30.12</td>\n",
       "      <td>11.7</td>\n",
       "      <td>7</td>\n",
       "      <td>11.9</td>\n",
       "    </tr>\n",
       "  </tbody>\n",
       "</table>\n",
       "<p>5 rows × 22 columns</p>\n",
       "</div>"
      ],
      "text/plain": [
       "   Station        Date  Tmax  Tmin Tavg Depart  DewPoint WetBulb Heat Cool  \\\n",
       "0        1  2007-05-01    83    50   67     14        51      56    0    2   \n",
       "1        2  2007-05-01    84    52   68      M        51      57    0    3   \n",
       "2        1  2007-05-02    59    42   51     -3        42      47   14    0   \n",
       "3        2  2007-05-02    60    43   52      M        42      47   13    0   \n",
       "4        1  2007-05-03    66    46   56      2        40      48    9    0   \n",
       "\n",
       "   ... CodeSum Depth Water1 SnowFall PrecipTotal StnPressure SeaLevel  \\\n",
       "0  ...             0      M      0.0        0.00       29.10    29.82   \n",
       "1  ...             M      M        M        0.00       29.18    29.82   \n",
       "2  ...      BR     0      M      0.0        0.00       29.38    30.09   \n",
       "3  ...   BR HZ     M      M        M        0.00       29.44    30.08   \n",
       "4  ...             0      M      0.0        0.00       29.39    30.12   \n",
       "\n",
       "  ResultSpeed ResultDir  AvgSpeed  \n",
       "0         1.7        27       9.2  \n",
       "1         2.7        25       9.6  \n",
       "2        13.0         4      13.4  \n",
       "3        13.3         2      13.4  \n",
       "4        11.7         7      11.9  \n",
       "\n",
       "[5 rows x 22 columns]"
      ]
     },
     "execution_count": 4,
     "metadata": {},
     "output_type": "execute_result"
    }
   ],
   "source": [
    "w.head()"
   ]
  },
  {
   "cell_type": "code",
   "execution_count": 5,
   "metadata": {},
   "outputs": [
    {
     "data": {
      "text/plain": [
       "M    2944\n",
       "Name: Water1, dtype: int64"
      ]
     },
     "execution_count": 5,
     "metadata": {},
     "output_type": "execute_result"
    }
   ],
   "source": [
    "w.Water1.value_counts()"
   ]
  },
  {
   "cell_type": "markdown",
   "metadata": {},
   "source": [
    "### 2.1.1 Correcting Data Types\n",
    "\n",
    "<a id='w_missing'></a>\n",
    "\n",
    "In order to have the numerical data correctly represented, I first replace 'M', 'T', and '-' and then represent relevant columns as floats.\n",
    "\n",
    "'M' indicates missing data. I replace 'M' with np.nan in order to more easily handle missing numerical data.\n",
    "\n",
    "'T' indicates 'trace,' for example a snow flurry that does not stick. T is only relevant for precipitation, where I reaplce T with 0.01. For snow fall, where T is also present, there are only 12 non-zero observations, too sparse to make any conclusions on.\n",
    "\n",
    "'-' appears only in sunrise and sunset, which are measured every other day. I fill all missing sunrise and sunset values with the day before.\n",
    "\n"
   ]
  },
  {
   "cell_type": "code",
   "execution_count": 6,
   "metadata": {},
   "outputs": [
    {
     "name": "stdout",
     "output_type": "stream",
     "text": [
      "<class 'pandas.core.frame.DataFrame'>\n",
      "RangeIndex: 2944 entries, 0 to 2943\n",
      "Data columns (total 22 columns):\n",
      " #   Column       Non-Null Count  Dtype  \n",
      "---  ------       --------------  -----  \n",
      " 0   Station      2944 non-null   int64  \n",
      " 1   Date         2944 non-null   object \n",
      " 2   Tmax         2944 non-null   int64  \n",
      " 3   Tmin         2944 non-null   int64  \n",
      " 4   Tavg         2933 non-null   object \n",
      " 5   Depart       1472 non-null   object \n",
      " 6   DewPoint     2944 non-null   int64  \n",
      " 7   WetBulb      2940 non-null   object \n",
      " 8   Heat         2933 non-null   object \n",
      " 9   Cool         2933 non-null   object \n",
      " 10  Sunrise      2944 non-null   object \n",
      " 11  Sunset       2944 non-null   object \n",
      " 12  CodeSum      2944 non-null   object \n",
      " 13  Depth        1472 non-null   object \n",
      " 14  Water1       0 non-null      float64\n",
      " 15  SnowFall     1472 non-null   object \n",
      " 16  PrecipTotal  2942 non-null   object \n",
      " 17  StnPressure  2940 non-null   object \n",
      " 18  SeaLevel     2935 non-null   object \n",
      " 19  ResultSpeed  2944 non-null   float64\n",
      " 20  ResultDir    2944 non-null   int64  \n",
      " 21  AvgSpeed     2941 non-null   object \n",
      "dtypes: float64(2), int64(5), object(15)\n",
      "memory usage: 506.1+ KB\n"
     ]
    }
   ],
   "source": [
    "w = w.replace('M',np.nan)\n",
    "w = w.replace(['T','  T'], 0.01)\n",
    "w.loc[:,'Sunrise':'Sunset'] = w.loc[:,'Sunrise':'Sunset'].replace('-',method='bfill')\n",
    "w.loc[:,'Sunrise':'Sunset'] = w.loc[:,'Sunrise':'Sunset'].replace('-',method='ffill')\n",
    "\n",
    "w.info()"
   ]
  },
  {
   "cell_type": "code",
   "execution_count": 7,
   "metadata": {},
   "outputs": [],
   "source": [
    "as_float = ['Tavg','Depart','WetBulb','Heat','Cool','Depth','StnPressure','SeaLevel','AvgSpeed','PrecipTotal',\n",
    "           'Sunrise','Sunset', 'SnowFall']\n",
    "\n",
    "w.loc[:,as_float] = w.loc[:,as_float].astype('float')\n",
    "    \n",
    "#quickly engineering a feature\n",
    "w['sunrise_diff'] = w['Sunrise'].diff().fillna(0)\n",
    "w['sunset_diff'] = w['Sunset'].diff().fillna(0)\n"
   ]
  },
  {
   "cell_type": "code",
   "execution_count": 8,
   "metadata": {},
   "outputs": [
    {
     "data": {
      "text/plain": [
       "0    448.0\n",
       "1    447.0\n",
       "2    447.0\n",
       "3    446.0\n",
       "4    446.0\n",
       "Name: Sunrise, dtype: float64"
      ]
     },
     "execution_count": 8,
     "metadata": {},
     "output_type": "execute_result"
    }
   ],
   "source": [
    "w['Sunrise'].head()"
   ]
  },
  {
   "cell_type": "markdown",
   "metadata": {},
   "source": [
    "### 2.1.2 Snow Fall\n",
    "<a id='snow_fall'></a>\n",
    "\n",
    "Snow fall is almost entirely 0, except for 12 observations of trace snow fall and 1 of 0.1 inches. For this reason, I drop the column."
   ]
  },
  {
   "cell_type": "code",
   "execution_count": 9,
   "metadata": {},
   "outputs": [
    {
     "data": {
      "text/plain": [
       "<AxesSubplot:xlabel='SnowFall', ylabel='Count'>"
      ]
     },
     "execution_count": 9,
     "metadata": {},
     "output_type": "execute_result"
    },
    {
     "data": {
      "image/png": "[encoded data removed]",
      "text/plain": [
       "<Figure size 432x288 with 1 Axes>"
      ]
     },
     "metadata": {},
     "output_type": "display_data"
    }
   ],
   "source": [
    "sns.histplot(data = w, x='SnowFall')"
   ]
  },
  {
   "cell_type": "code",
   "execution_count": 10,
   "metadata": {
    "scrolled": true
   },
   "outputs": [
    {
     "data": {
      "text/plain": [
       "Float64Index([0.0, 0.01, 0.1], dtype='float64')"
      ]
     },
     "execution_count": 10,
     "metadata": {},
     "output_type": "execute_result"
    }
   ],
   "source": [
    "w.SnowFall.value_counts().index"
   ]
  },
  {
   "cell_type": "code",
   "execution_count": 11,
   "metadata": {},
   "outputs": [],
   "source": [
    "w = w.drop('SnowFall',axis=1)"
   ]
  },
  {
   "cell_type": "markdown",
   "metadata": {},
   "source": [
    "### 2.1.3 Depth\n",
    "<a id='depth'></a>\n",
    "Depth is all 0 and is dropped"
   ]
  },
  {
   "cell_type": "code",
   "execution_count": 12,
   "metadata": {},
   "outputs": [
    {
     "data": {
      "text/plain": [
       "0.0    1472\n",
       "Name: Depth, dtype: int64"
      ]
     },
     "execution_count": 12,
     "metadata": {},
     "output_type": "execute_result"
    }
   ],
   "source": [
    "w.Depth.value_counts()"
   ]
  },
  {
   "cell_type": "code",
   "execution_count": 13,
   "metadata": {},
   "outputs": [],
   "source": [
    "w = w.drop('Depth',axis=1)"
   ]
  },
  {
   "cell_type": "markdown",
   "metadata": {},
   "source": [
    "### 2.1.4 Water1\n",
    "<a id='water1'></a>\n",
    "Water 1 is all 0 and is dropped"
   ]
  },
  {
   "cell_type": "code",
   "execution_count": 14,
   "metadata": {},
   "outputs": [
    {
     "data": {
      "text/plain": [
       "Series([], Name: Water1, dtype: int64)"
      ]
     },
     "execution_count": 14,
     "metadata": {},
     "output_type": "execute_result"
    }
   ],
   "source": [
    "w['Water1'].value_counts()"
   ]
  },
  {
   "cell_type": "code",
   "execution_count": 15,
   "metadata": {},
   "outputs": [],
   "source": [
    "w = w.drop('Water1',axis=1)"
   ]
  },
  {
   "cell_type": "markdown",
   "metadata": {},
   "source": [
    "### 2.1.5 PrecipTotal\n",
    "<a id='precip'></a>\n",
    "\n",
    "I assume that missing values for percipitation are simply days the data was not recorded because there was no precipitation. I have not found any indication that too much rain (filling the measuring device too high) would have caused a missing value to be unput.\n",
    "\n",
    "For this reason, I fill missing values with 0"
   ]
  },
  {
   "cell_type": "code",
   "execution_count": 16,
   "metadata": {},
   "outputs": [],
   "source": [
    "w['PrecipTotal'] = w['PrecipTotal'].fillna(0)"
   ]
  },
  {
   "cell_type": "code",
   "execution_count": null,
   "metadata": {},
   "outputs": [],
   "source": []
  },
  {
   "cell_type": "markdown",
   "metadata": {},
   "source": [
    "### 2.1.6 Heat and Cool\n",
    "<a id='heat_cool'></a>\n",
    "\n",
    "Heat and Cool are a measure of the average departure from the base temperature of 65 F. If the average temperature is greater than 65, Cool is calculated as Tavg - base temp. If the average temperature is lower than 65, Heat is calculated as 65 - Tavg. Both values are either positive or zero, and if one is non-zero, the other is positive. I combine the two into one feature that indicates average deviance from 65. If Cool is non-zero, deviance is positive because the average temperature was above 65. "
   ]
  },
  {
   "cell_type": "code",
   "execution_count": 17,
   "metadata": {},
   "outputs": [],
   "source": [
    "w['dev_65'] = w['Cool'] - w['Heat']"
   ]
  },
  {
   "cell_type": "markdown",
   "metadata": {},
   "source": [
    "### 2.1.7 Filling missing numerical data\n",
    "\n",
    "<a id='w_miss'></a>\n",
    "\n",
    "There are few coluns where there is significat missing data. \n",
    "\n",
    "Depart is only measured at one of two weather stations each days, which is why half of the data is missing. This is handled by using the value for Depart from station 1 for station 2 as well. The weather at the two stations is not different enought to suggest different values for Departure is necessary. \n",
    "\n",
    "The other columns with missing data do not follow an obvious trend. My assumption is that the missing values are random and could be due to chance or errors with the measurement devices. I will fill the missing values with a forward fill. The previous day's weather will be a good enough approximation of the next days weather for the few values that are missing."
   ]
  },
  {
   "cell_type": "code",
   "execution_count": 18,
   "metadata": {},
   "outputs": [
    {
     "data": {
      "text/plain": [
       "Station            0\n",
       "Date               0\n",
       "Tmax               0\n",
       "Tmin               0\n",
       "Tavg              11\n",
       "Depart          1472\n",
       "DewPoint           0\n",
       "WetBulb            4\n",
       "Heat              11\n",
       "Cool              11\n",
       "Sunrise            0\n",
       "Sunset             0\n",
       "CodeSum            0\n",
       "PrecipTotal        0\n",
       "StnPressure        4\n",
       "SeaLevel           9\n",
       "ResultSpeed        0\n",
       "ResultDir          0\n",
       "AvgSpeed           3\n",
       "sunrise_diff       0\n",
       "sunset_diff        0\n",
       "dev_65            11\n",
       "dtype: int64"
      ]
     },
     "execution_count": 18,
     "metadata": {},
     "output_type": "execute_result"
    }
   ],
   "source": [
    "w.isna().sum()"
   ]
  },
  {
   "cell_type": "code",
   "execution_count": 19,
   "metadata": {},
   "outputs": [
    {
     "data": {
      "text/html": [
       "<div>\n",
       "<style scoped>\n",
       "    .dataframe tbody tr th:only-of-type {\n",
       "        vertical-align: middle;\n",
       "    }\n",
       "\n",
       "    .dataframe tbody tr th {\n",
       "        vertical-align: top;\n",
       "    }\n",
       "\n",
       "    .dataframe thead th {\n",
       "        text-align: right;\n",
       "    }\n",
       "</style>\n",
       "<table border=\"1\" class=\"dataframe\">\n",
       "  <thead>\n",
       "    <tr style=\"text-align: right;\">\n",
       "      <th></th>\n",
       "      <th>Station</th>\n",
       "      <th>Date</th>\n",
       "      <th>Tmax</th>\n",
       "      <th>Tmin</th>\n",
       "      <th>Tavg</th>\n",
       "      <th>Depart</th>\n",
       "      <th>DewPoint</th>\n",
       "      <th>WetBulb</th>\n",
       "      <th>Heat</th>\n",
       "      <th>Cool</th>\n",
       "      <th>...</th>\n",
       "      <th>CodeSum</th>\n",
       "      <th>PrecipTotal</th>\n",
       "      <th>StnPressure</th>\n",
       "      <th>SeaLevel</th>\n",
       "      <th>ResultSpeed</th>\n",
       "      <th>ResultDir</th>\n",
       "      <th>AvgSpeed</th>\n",
       "      <th>sunrise_diff</th>\n",
       "      <th>sunset_diff</th>\n",
       "      <th>dev_65</th>\n",
       "    </tr>\n",
       "  </thead>\n",
       "  <tbody>\n",
       "    <tr>\n",
       "      <th>7</th>\n",
       "      <td>2</td>\n",
       "      <td>2007-05-04</td>\n",
       "      <td>78</td>\n",
       "      <td>51</td>\n",
       "      <td>NaN</td>\n",
       "      <td>NaN</td>\n",
       "      <td>42</td>\n",
       "      <td>50.0</td>\n",
       "      <td>NaN</td>\n",
       "      <td>NaN</td>\n",
       "      <td>...</td>\n",
       "      <td></td>\n",
       "      <td>0.00</td>\n",
       "      <td>29.36</td>\n",
       "      <td>30.04</td>\n",
       "      <td>10.1</td>\n",
       "      <td>7</td>\n",
       "      <td>10.4</td>\n",
       "      <td>-1.0</td>\n",
       "      <td>1.0</td>\n",
       "      <td>NaN</td>\n",
       "    </tr>\n",
       "    <tr>\n",
       "      <th>505</th>\n",
       "      <td>2</td>\n",
       "      <td>2008-07-08</td>\n",
       "      <td>86</td>\n",
       "      <td>46</td>\n",
       "      <td>NaN</td>\n",
       "      <td>NaN</td>\n",
       "      <td>68</td>\n",
       "      <td>71.0</td>\n",
       "      <td>NaN</td>\n",
       "      <td>NaN</td>\n",
       "      <td>...</td>\n",
       "      <td>TS RA</td>\n",
       "      <td>0.28</td>\n",
       "      <td>29.16</td>\n",
       "      <td>29.80</td>\n",
       "      <td>7.4</td>\n",
       "      <td>24</td>\n",
       "      <td>8.3</td>\n",
       "      <td>1.0</td>\n",
       "      <td>0.0</td>\n",
       "      <td>NaN</td>\n",
       "    </tr>\n",
       "    <tr>\n",
       "      <th>675</th>\n",
       "      <td>2</td>\n",
       "      <td>2008-10-01</td>\n",
       "      <td>62</td>\n",
       "      <td>46</td>\n",
       "      <td>NaN</td>\n",
       "      <td>NaN</td>\n",
       "      <td>41</td>\n",
       "      <td>47.0</td>\n",
       "      <td>NaN</td>\n",
       "      <td>NaN</td>\n",
       "      <td>...</td>\n",
       "      <td></td>\n",
       "      <td>0.00</td>\n",
       "      <td>29.30</td>\n",
       "      <td>29.96</td>\n",
       "      <td>10.9</td>\n",
       "      <td>33</td>\n",
       "      <td>11.0</td>\n",
       "      <td>1.0</td>\n",
       "      <td>-2.0</td>\n",
       "      <td>NaN</td>\n",
       "    </tr>\n",
       "    <tr>\n",
       "      <th>1637</th>\n",
       "      <td>2</td>\n",
       "      <td>2011-07-22</td>\n",
       "      <td>100</td>\n",
       "      <td>71</td>\n",
       "      <td>NaN</td>\n",
       "      <td>NaN</td>\n",
       "      <td>70</td>\n",
       "      <td>74.0</td>\n",
       "      <td>NaN</td>\n",
       "      <td>NaN</td>\n",
       "      <td>...</td>\n",
       "      <td>TS TSRA BR</td>\n",
       "      <td>0.14</td>\n",
       "      <td>29.23</td>\n",
       "      <td>29.86</td>\n",
       "      <td>3.8</td>\n",
       "      <td>10</td>\n",
       "      <td>8.2</td>\n",
       "      <td>1.0</td>\n",
       "      <td>-1.0</td>\n",
       "      <td>NaN</td>\n",
       "    </tr>\n",
       "    <tr>\n",
       "      <th>2067</th>\n",
       "      <td>2</td>\n",
       "      <td>2012-08-22</td>\n",
       "      <td>84</td>\n",
       "      <td>72</td>\n",
       "      <td>NaN</td>\n",
       "      <td>NaN</td>\n",
       "      <td>51</td>\n",
       "      <td>61.0</td>\n",
       "      <td>NaN</td>\n",
       "      <td>NaN</td>\n",
       "      <td>...</td>\n",
       "      <td></td>\n",
       "      <td>0.00</td>\n",
       "      <td>29.39</td>\n",
       "      <td>NaN</td>\n",
       "      <td>4.7</td>\n",
       "      <td>19</td>\n",
       "      <td>NaN</td>\n",
       "      <td>2.0</td>\n",
       "      <td>-1.0</td>\n",
       "      <td>NaN</td>\n",
       "    </tr>\n",
       "    <tr>\n",
       "      <th>2211</th>\n",
       "      <td>2</td>\n",
       "      <td>2013-05-02</td>\n",
       "      <td>71</td>\n",
       "      <td>42</td>\n",
       "      <td>NaN</td>\n",
       "      <td>NaN</td>\n",
       "      <td>39</td>\n",
       "      <td>45.0</td>\n",
       "      <td>NaN</td>\n",
       "      <td>NaN</td>\n",
       "      <td>...</td>\n",
       "      <td></td>\n",
       "      <td>0.00</td>\n",
       "      <td>29.51</td>\n",
       "      <td>30.17</td>\n",
       "      <td>15.8</td>\n",
       "      <td>2</td>\n",
       "      <td>16.1</td>\n",
       "      <td>-1.0</td>\n",
       "      <td>1.0</td>\n",
       "      <td>NaN</td>\n",
       "    </tr>\n",
       "    <tr>\n",
       "      <th>2501</th>\n",
       "      <td>2</td>\n",
       "      <td>2013-09-24</td>\n",
       "      <td>91</td>\n",
       "      <td>52</td>\n",
       "      <td>NaN</td>\n",
       "      <td>NaN</td>\n",
       "      <td>48</td>\n",
       "      <td>54.0</td>\n",
       "      <td>NaN</td>\n",
       "      <td>NaN</td>\n",
       "      <td>...</td>\n",
       "      <td></td>\n",
       "      <td>0.00</td>\n",
       "      <td>29.33</td>\n",
       "      <td>30.00</td>\n",
       "      <td>5.8</td>\n",
       "      <td>9</td>\n",
       "      <td>7.7</td>\n",
       "      <td>1.0</td>\n",
       "      <td>-2.0</td>\n",
       "      <td>NaN</td>\n",
       "    </tr>\n",
       "    <tr>\n",
       "      <th>2511</th>\n",
       "      <td>2</td>\n",
       "      <td>2013-09-29</td>\n",
       "      <td>84</td>\n",
       "      <td>53</td>\n",
       "      <td>NaN</td>\n",
       "      <td>NaN</td>\n",
       "      <td>48</td>\n",
       "      <td>54.0</td>\n",
       "      <td>NaN</td>\n",
       "      <td>NaN</td>\n",
       "      <td>...</td>\n",
       "      <td>RA BR</td>\n",
       "      <td>0.22</td>\n",
       "      <td>29.36</td>\n",
       "      <td>30.01</td>\n",
       "      <td>6.3</td>\n",
       "      <td>36</td>\n",
       "      <td>7.8</td>\n",
       "      <td>1.0</td>\n",
       "      <td>-2.0</td>\n",
       "      <td>NaN</td>\n",
       "    </tr>\n",
       "    <tr>\n",
       "      <th>2525</th>\n",
       "      <td>2</td>\n",
       "      <td>2013-10-06</td>\n",
       "      <td>76</td>\n",
       "      <td>48</td>\n",
       "      <td>NaN</td>\n",
       "      <td>NaN</td>\n",
       "      <td>44</td>\n",
       "      <td>50.0</td>\n",
       "      <td>NaN</td>\n",
       "      <td>NaN</td>\n",
       "      <td>...</td>\n",
       "      <td>RA DZ BR</td>\n",
       "      <td>0.06</td>\n",
       "      <td>29.10</td>\n",
       "      <td>29.76</td>\n",
       "      <td>10.1</td>\n",
       "      <td>25</td>\n",
       "      <td>10.6</td>\n",
       "      <td>1.0</td>\n",
       "      <td>-1.0</td>\n",
       "      <td>NaN</td>\n",
       "    </tr>\n",
       "    <tr>\n",
       "      <th>2579</th>\n",
       "      <td>2</td>\n",
       "      <td>2014-05-02</td>\n",
       "      <td>80</td>\n",
       "      <td>47</td>\n",
       "      <td>NaN</td>\n",
       "      <td>NaN</td>\n",
       "      <td>43</td>\n",
       "      <td>47.0</td>\n",
       "      <td>NaN</td>\n",
       "      <td>NaN</td>\n",
       "      <td>...</td>\n",
       "      <td>RA</td>\n",
       "      <td>0.04</td>\n",
       "      <td>29.10</td>\n",
       "      <td>29.79</td>\n",
       "      <td>10.7</td>\n",
       "      <td>23</td>\n",
       "      <td>11.9</td>\n",
       "      <td>-1.0</td>\n",
       "      <td>1.0</td>\n",
       "      <td>NaN</td>\n",
       "    </tr>\n",
       "    <tr>\n",
       "      <th>2811</th>\n",
       "      <td>2</td>\n",
       "      <td>2014-08-26</td>\n",
       "      <td>86</td>\n",
       "      <td>49</td>\n",
       "      <td>NaN</td>\n",
       "      <td>NaN</td>\n",
       "      <td>68</td>\n",
       "      <td>71.0</td>\n",
       "      <td>NaN</td>\n",
       "      <td>NaN</td>\n",
       "      <td>...</td>\n",
       "      <td></td>\n",
       "      <td>0.01</td>\n",
       "      <td>29.41</td>\n",
       "      <td>30.04</td>\n",
       "      <td>1.3</td>\n",
       "      <td>15</td>\n",
       "      <td>5.8</td>\n",
       "      <td>1.0</td>\n",
       "      <td>-2.0</td>\n",
       "      <td>NaN</td>\n",
       "    </tr>\n",
       "  </tbody>\n",
       "</table>\n",
       "<p>11 rows × 22 columns</p>\n",
       "</div>"
      ],
      "text/plain": [
       "      Station        Date  Tmax  Tmin  Tavg  Depart  DewPoint  WetBulb  Heat  \\\n",
       "7           2  2007-05-04    78    51   NaN     NaN        42     50.0   NaN   \n",
       "505         2  2008-07-08    86    46   NaN     NaN        68     71.0   NaN   \n",
       "675         2  2008-10-01    62    46   NaN     NaN        41     47.0   NaN   \n",
       "1637        2  2011-07-22   100    71   NaN     NaN        70     74.0   NaN   \n",
       "2067        2  2012-08-22    84    72   NaN     NaN        51     61.0   NaN   \n",
       "2211        2  2013-05-02    71    42   NaN     NaN        39     45.0   NaN   \n",
       "2501        2  2013-09-24    91    52   NaN     NaN        48     54.0   NaN   \n",
       "2511        2  2013-09-29    84    53   NaN     NaN        48     54.0   NaN   \n",
       "2525        2  2013-10-06    76    48   NaN     NaN        44     50.0   NaN   \n",
       "2579        2  2014-05-02    80    47   NaN     NaN        43     47.0   NaN   \n",
       "2811        2  2014-08-26    86    49   NaN     NaN        68     71.0   NaN   \n",
       "\n",
       "      Cool  ...     CodeSum  PrecipTotal StnPressure  SeaLevel  ResultSpeed  \\\n",
       "7      NaN  ...                     0.00       29.36     30.04         10.1   \n",
       "505    NaN  ...       TS RA         0.28       29.16     29.80          7.4   \n",
       "675    NaN  ...                     0.00       29.30     29.96         10.9   \n",
       "1637   NaN  ...  TS TSRA BR         0.14       29.23     29.86          3.8   \n",
       "2067   NaN  ...                     0.00       29.39       NaN          4.7   \n",
       "2211   NaN  ...                     0.00       29.51     30.17         15.8   \n",
       "2501   NaN  ...                     0.00       29.33     30.00          5.8   \n",
       "2511   NaN  ...       RA BR         0.22       29.36     30.01          6.3   \n",
       "2525   NaN  ...    RA DZ BR         0.06       29.10     29.76         10.1   \n",
       "2579   NaN  ...          RA         0.04       29.10     29.79         10.7   \n",
       "2811   NaN  ...                     0.01       29.41     30.04          1.3   \n",
       "\n",
       "      ResultDir  AvgSpeed  sunrise_diff  sunset_diff  dev_65  \n",
       "7             7      10.4          -1.0          1.0     NaN  \n",
       "505          24       8.3           1.0          0.0     NaN  \n",
       "675          33      11.0           1.0         -2.0     NaN  \n",
       "1637         10       8.2           1.0         -1.0     NaN  \n",
       "2067         19       NaN           2.0         -1.0     NaN  \n",
       "2211          2      16.1          -1.0          1.0     NaN  \n",
       "2501          9       7.7           1.0         -2.0     NaN  \n",
       "2511         36       7.8           1.0         -2.0     NaN  \n",
       "2525         25      10.6           1.0         -1.0     NaN  \n",
       "2579         23      11.9          -1.0          1.0     NaN  \n",
       "2811         15       5.8           1.0         -2.0     NaN  \n",
       "\n",
       "[11 rows x 22 columns]"
      ]
     },
     "execution_count": 19,
     "metadata": {},
     "output_type": "execute_result"
    }
   ],
   "source": [
    "w[w.Tavg.isna()]"
   ]
  },
  {
   "cell_type": "code",
   "execution_count": 20,
   "metadata": {},
   "outputs": [
    {
     "data": {
      "text/html": [
       "<div>\n",
       "<style scoped>\n",
       "    .dataframe tbody tr th:only-of-type {\n",
       "        vertical-align: middle;\n",
       "    }\n",
       "\n",
       "    .dataframe tbody tr th {\n",
       "        vertical-align: top;\n",
       "    }\n",
       "\n",
       "    .dataframe thead th {\n",
       "        text-align: right;\n",
       "    }\n",
       "</style>\n",
       "<table border=\"1\" class=\"dataframe\">\n",
       "  <thead>\n",
       "    <tr style=\"text-align: right;\">\n",
       "      <th></th>\n",
       "      <th>Station</th>\n",
       "      <th>Date</th>\n",
       "      <th>Tmax</th>\n",
       "      <th>Tmin</th>\n",
       "      <th>Tavg</th>\n",
       "      <th>Depart</th>\n",
       "      <th>DewPoint</th>\n",
       "      <th>WetBulb</th>\n",
       "      <th>Heat</th>\n",
       "      <th>Cool</th>\n",
       "      <th>...</th>\n",
       "      <th>CodeSum</th>\n",
       "      <th>PrecipTotal</th>\n",
       "      <th>StnPressure</th>\n",
       "      <th>SeaLevel</th>\n",
       "      <th>ResultSpeed</th>\n",
       "      <th>ResultDir</th>\n",
       "      <th>AvgSpeed</th>\n",
       "      <th>sunrise_diff</th>\n",
       "      <th>sunset_diff</th>\n",
       "      <th>dev_65</th>\n",
       "    </tr>\n",
       "  </thead>\n",
       "  <tbody>\n",
       "    <tr>\n",
       "      <th>87</th>\n",
       "      <td>2</td>\n",
       "      <td>2007-06-13</td>\n",
       "      <td>86</td>\n",
       "      <td>68</td>\n",
       "      <td>77.0</td>\n",
       "      <td>NaN</td>\n",
       "      <td>53</td>\n",
       "      <td>62.0</td>\n",
       "      <td>0.0</td>\n",
       "      <td>12.0</td>\n",
       "      <td>...</td>\n",
       "      <td></td>\n",
       "      <td>0.0</td>\n",
       "      <td>NaN</td>\n",
       "      <td>NaN</td>\n",
       "      <td>7.0</td>\n",
       "      <td>5</td>\n",
       "      <td>NaN</td>\n",
       "      <td>0.0</td>\n",
       "      <td>1.0</td>\n",
       "      <td>12.0</td>\n",
       "    </tr>\n",
       "    <tr>\n",
       "      <th>848</th>\n",
       "      <td>1</td>\n",
       "      <td>2009-06-26</td>\n",
       "      <td>86</td>\n",
       "      <td>69</td>\n",
       "      <td>78.0</td>\n",
       "      <td>7.0</td>\n",
       "      <td>60</td>\n",
       "      <td>NaN</td>\n",
       "      <td>0.0</td>\n",
       "      <td>13.0</td>\n",
       "      <td>...</td>\n",
       "      <td></td>\n",
       "      <td>0.0</td>\n",
       "      <td>NaN</td>\n",
       "      <td>29.85</td>\n",
       "      <td>6.4</td>\n",
       "      <td>4</td>\n",
       "      <td>8.2</td>\n",
       "      <td>0.0</td>\n",
       "      <td>0.0</td>\n",
       "      <td>13.0</td>\n",
       "    </tr>\n",
       "    <tr>\n",
       "      <th>2410</th>\n",
       "      <td>1</td>\n",
       "      <td>2013-08-10</td>\n",
       "      <td>81</td>\n",
       "      <td>64</td>\n",
       "      <td>73.0</td>\n",
       "      <td>0.0</td>\n",
       "      <td>57</td>\n",
       "      <td>NaN</td>\n",
       "      <td>0.0</td>\n",
       "      <td>8.0</td>\n",
       "      <td>...</td>\n",
       "      <td></td>\n",
       "      <td>0.0</td>\n",
       "      <td>NaN</td>\n",
       "      <td>30.08</td>\n",
       "      <td>5.3</td>\n",
       "      <td>5</td>\n",
       "      <td>6.5</td>\n",
       "      <td>0.0</td>\n",
       "      <td>0.0</td>\n",
       "      <td>8.0</td>\n",
       "    </tr>\n",
       "    <tr>\n",
       "      <th>2411</th>\n",
       "      <td>2</td>\n",
       "      <td>2013-08-10</td>\n",
       "      <td>81</td>\n",
       "      <td>68</td>\n",
       "      <td>75.0</td>\n",
       "      <td>NaN</td>\n",
       "      <td>55</td>\n",
       "      <td>63.0</td>\n",
       "      <td>0.0</td>\n",
       "      <td>10.0</td>\n",
       "      <td>...</td>\n",
       "      <td></td>\n",
       "      <td>0.0</td>\n",
       "      <td>NaN</td>\n",
       "      <td>30.07</td>\n",
       "      <td>6.0</td>\n",
       "      <td>6</td>\n",
       "      <td>7.4</td>\n",
       "      <td>1.0</td>\n",
       "      <td>-41.0</td>\n",
       "      <td>10.0</td>\n",
       "    </tr>\n",
       "  </tbody>\n",
       "</table>\n",
       "<p>4 rows × 22 columns</p>\n",
       "</div>"
      ],
      "text/plain": [
       "      Station        Date  Tmax  Tmin  Tavg  Depart  DewPoint  WetBulb  Heat  \\\n",
       "87          2  2007-06-13    86    68  77.0     NaN        53     62.0   0.0   \n",
       "848         1  2009-06-26    86    69  78.0     7.0        60      NaN   0.0   \n",
       "2410        1  2013-08-10    81    64  73.0     0.0        57      NaN   0.0   \n",
       "2411        2  2013-08-10    81    68  75.0     NaN        55     63.0   0.0   \n",
       "\n",
       "      Cool  ...  CodeSum  PrecipTotal StnPressure  SeaLevel  ResultSpeed  \\\n",
       "87    12.0  ...                   0.0         NaN       NaN          7.0   \n",
       "848   13.0  ...                   0.0         NaN     29.85          6.4   \n",
       "2410   8.0  ...                   0.0         NaN     30.08          5.3   \n",
       "2411  10.0  ...                   0.0         NaN     30.07          6.0   \n",
       "\n",
       "      ResultDir  AvgSpeed  sunrise_diff  sunset_diff  dev_65  \n",
       "87            5       NaN           0.0          1.0    12.0  \n",
       "848           4       8.2           0.0          0.0    13.0  \n",
       "2410          5       6.5           0.0          0.0     8.0  \n",
       "2411          6       7.4           1.0        -41.0    10.0  \n",
       "\n",
       "[4 rows x 22 columns]"
      ]
     },
     "execution_count": 20,
     "metadata": {},
     "output_type": "execute_result"
    }
   ],
   "source": [
    "w[w.StnPressure.isna()]"
   ]
  },
  {
   "cell_type": "code",
   "execution_count": 21,
   "metadata": {},
   "outputs": [
    {
     "data": {
      "text/html": [
       "<div>\n",
       "<style scoped>\n",
       "    .dataframe tbody tr th:only-of-type {\n",
       "        vertical-align: middle;\n",
       "    }\n",
       "\n",
       "    .dataframe tbody tr th {\n",
       "        vertical-align: top;\n",
       "    }\n",
       "\n",
       "    .dataframe thead th {\n",
       "        text-align: right;\n",
       "    }\n",
       "</style>\n",
       "<table border=\"1\" class=\"dataframe\">\n",
       "  <thead>\n",
       "    <tr style=\"text-align: right;\">\n",
       "      <th></th>\n",
       "      <th>Station</th>\n",
       "      <th>Date</th>\n",
       "      <th>Tmax</th>\n",
       "      <th>Tmin</th>\n",
       "      <th>Tavg</th>\n",
       "      <th>Depart</th>\n",
       "      <th>DewPoint</th>\n",
       "      <th>WetBulb</th>\n",
       "      <th>Heat</th>\n",
       "      <th>Cool</th>\n",
       "      <th>...</th>\n",
       "      <th>CodeSum</th>\n",
       "      <th>PrecipTotal</th>\n",
       "      <th>StnPressure</th>\n",
       "      <th>SeaLevel</th>\n",
       "      <th>ResultSpeed</th>\n",
       "      <th>ResultDir</th>\n",
       "      <th>AvgSpeed</th>\n",
       "      <th>sunrise_diff</th>\n",
       "      <th>sunset_diff</th>\n",
       "      <th>dev_65</th>\n",
       "    </tr>\n",
       "  </thead>\n",
       "  <tbody>\n",
       "    <tr>\n",
       "      <th>87</th>\n",
       "      <td>2</td>\n",
       "      <td>2007-06-13</td>\n",
       "      <td>86</td>\n",
       "      <td>68</td>\n",
       "      <td>77.0</td>\n",
       "      <td>NaN</td>\n",
       "      <td>53</td>\n",
       "      <td>62.0</td>\n",
       "      <td>0.0</td>\n",
       "      <td>12.0</td>\n",
       "      <td>...</td>\n",
       "      <td></td>\n",
       "      <td>0.00</td>\n",
       "      <td>NaN</td>\n",
       "      <td>NaN</td>\n",
       "      <td>7.0</td>\n",
       "      <td>5</td>\n",
       "      <td>NaN</td>\n",
       "      <td>0.0</td>\n",
       "      <td>1.0</td>\n",
       "      <td>12.0</td>\n",
       "    </tr>\n",
       "    <tr>\n",
       "      <th>1745</th>\n",
       "      <td>2</td>\n",
       "      <td>2011-09-14</td>\n",
       "      <td>60</td>\n",
       "      <td>48</td>\n",
       "      <td>54.0</td>\n",
       "      <td>NaN</td>\n",
       "      <td>45</td>\n",
       "      <td>51.0</td>\n",
       "      <td>11.0</td>\n",
       "      <td>0.0</td>\n",
       "      <td>...</td>\n",
       "      <td>RA BR HZ FU</td>\n",
       "      <td>0.01</td>\n",
       "      <td>29.47</td>\n",
       "      <td>NaN</td>\n",
       "      <td>6.0</td>\n",
       "      <td>32</td>\n",
       "      <td>NaN</td>\n",
       "      <td>1.0</td>\n",
       "      <td>-2.0</td>\n",
       "      <td>-11.0</td>\n",
       "    </tr>\n",
       "    <tr>\n",
       "      <th>2067</th>\n",
       "      <td>2</td>\n",
       "      <td>2012-08-22</td>\n",
       "      <td>84</td>\n",
       "      <td>72</td>\n",
       "      <td>NaN</td>\n",
       "      <td>NaN</td>\n",
       "      <td>51</td>\n",
       "      <td>61.0</td>\n",
       "      <td>NaN</td>\n",
       "      <td>NaN</td>\n",
       "      <td>...</td>\n",
       "      <td></td>\n",
       "      <td>0.00</td>\n",
       "      <td>29.39</td>\n",
       "      <td>NaN</td>\n",
       "      <td>4.7</td>\n",
       "      <td>19</td>\n",
       "      <td>NaN</td>\n",
       "      <td>2.0</td>\n",
       "      <td>-1.0</td>\n",
       "      <td>NaN</td>\n",
       "    </tr>\n",
       "  </tbody>\n",
       "</table>\n",
       "<p>3 rows × 22 columns</p>\n",
       "</div>"
      ],
      "text/plain": [
       "      Station        Date  Tmax  Tmin  Tavg  Depart  DewPoint  WetBulb  Heat  \\\n",
       "87          2  2007-06-13    86    68  77.0     NaN        53     62.0   0.0   \n",
       "1745        2  2011-09-14    60    48  54.0     NaN        45     51.0  11.0   \n",
       "2067        2  2012-08-22    84    72   NaN     NaN        51     61.0   NaN   \n",
       "\n",
       "      Cool  ...      CodeSum  PrecipTotal StnPressure  SeaLevel  ResultSpeed  \\\n",
       "87    12.0  ...                      0.00         NaN       NaN          7.0   \n",
       "1745   0.0  ...  RA BR HZ FU         0.01       29.47       NaN          6.0   \n",
       "2067   NaN  ...                      0.00       29.39       NaN          4.7   \n",
       "\n",
       "      ResultDir  AvgSpeed  sunrise_diff  sunset_diff  dev_65  \n",
       "87            5       NaN           0.0          1.0    12.0  \n",
       "1745         32       NaN           1.0         -2.0   -11.0  \n",
       "2067         19       NaN           2.0         -1.0     NaN  \n",
       "\n",
       "[3 rows x 22 columns]"
      ]
     },
     "execution_count": 21,
     "metadata": {},
     "output_type": "execute_result"
    }
   ],
   "source": [
    "w[w.AvgSpeed.isna()]"
   ]
  },
  {
   "cell_type": "code",
   "execution_count": 22,
   "metadata": {},
   "outputs": [
    {
     "data": {
      "image/png": "[encoded data removed]",
      "text/plain": [
       "<Figure size 432x288 with 1 Axes>"
      ]
     },
     "metadata": {},
     "output_type": "display_data"
    }
   ],
   "source": [
    "w['Date'] = pd.to_datetime(w['Date'], format='%Y-%m-%d')\n",
    "sub = w.iloc[481:550:2,:]\n",
    "sns.lineplot(data=sub,x='Date',y='Tavg')\n",
    "sns.lineplot(data=sub,x='Date',y=[sub.Tavg.median() for i in range(sub.shape[0])])\n",
    "plt.xticks(rotation=45);"
   ]
  },
  {
   "cell_type": "code",
   "execution_count": 23,
   "metadata": {},
   "outputs": [
    {
     "data": {
      "text/plain": [
       "75.5"
      ]
     },
     "execution_count": 23,
     "metadata": {},
     "output_type": "execute_result"
    }
   ],
   "source": [
    "sub.Tavg.median()"
   ]
  },
  {
   "cell_type": "code",
   "execution_count": 24,
   "metadata": {},
   "outputs": [
    {
     "data": {
      "text/html": [
       "<div>\n",
       "<style scoped>\n",
       "    .dataframe tbody tr th:only-of-type {\n",
       "        vertical-align: middle;\n",
       "    }\n",
       "\n",
       "    .dataframe tbody tr th {\n",
       "        vertical-align: top;\n",
       "    }\n",
       "\n",
       "    .dataframe thead th {\n",
       "        text-align: right;\n",
       "    }\n",
       "</style>\n",
       "<table border=\"1\" class=\"dataframe\">\n",
       "  <thead>\n",
       "    <tr style=\"text-align: right;\">\n",
       "      <th></th>\n",
       "      <th>Station</th>\n",
       "      <th>Date</th>\n",
       "      <th>Tmax</th>\n",
       "      <th>Tmin</th>\n",
       "      <th>Tavg</th>\n",
       "      <th>Depart</th>\n",
       "      <th>DewPoint</th>\n",
       "      <th>WetBulb</th>\n",
       "      <th>Heat</th>\n",
       "      <th>Cool</th>\n",
       "      <th>...</th>\n",
       "      <th>CodeSum</th>\n",
       "      <th>PrecipTotal</th>\n",
       "      <th>StnPressure</th>\n",
       "      <th>SeaLevel</th>\n",
       "      <th>ResultSpeed</th>\n",
       "      <th>ResultDir</th>\n",
       "      <th>AvgSpeed</th>\n",
       "      <th>sunrise_diff</th>\n",
       "      <th>sunset_diff</th>\n",
       "      <th>dev_65</th>\n",
       "    </tr>\n",
       "  </thead>\n",
       "  <tbody>\n",
       "    <tr>\n",
       "      <th>85</th>\n",
       "      <td>2</td>\n",
       "      <td>2007-06-12</td>\n",
       "      <td>82</td>\n",
       "      <td>66</td>\n",
       "      <td>74.0</td>\n",
       "      <td>NaN</td>\n",
       "      <td>51</td>\n",
       "      <td>61.0</td>\n",
       "      <td>0.0</td>\n",
       "      <td>9.0</td>\n",
       "      <td>...</td>\n",
       "      <td></td>\n",
       "      <td>0.0</td>\n",
       "      <td>29.49</td>\n",
       "      <td>30.14</td>\n",
       "      <td>9.4</td>\n",
       "      <td>5</td>\n",
       "      <td>10.0</td>\n",
       "      <td>0.0</td>\n",
       "      <td>0.0</td>\n",
       "      <td>9.0</td>\n",
       "    </tr>\n",
       "    <tr>\n",
       "      <th>86</th>\n",
       "      <td>1</td>\n",
       "      <td>2007-06-13</td>\n",
       "      <td>87</td>\n",
       "      <td>60</td>\n",
       "      <td>74.0</td>\n",
       "      <td>6.0</td>\n",
       "      <td>53</td>\n",
       "      <td>62.0</td>\n",
       "      <td>0.0</td>\n",
       "      <td>9.0</td>\n",
       "      <td>...</td>\n",
       "      <td></td>\n",
       "      <td>0.0</td>\n",
       "      <td>29.36</td>\n",
       "      <td>30.09</td>\n",
       "      <td>7.2</td>\n",
       "      <td>5</td>\n",
       "      <td>8.6</td>\n",
       "      <td>0.0</td>\n",
       "      <td>0.0</td>\n",
       "      <td>9.0</td>\n",
       "    </tr>\n",
       "    <tr>\n",
       "      <th>87</th>\n",
       "      <td>2</td>\n",
       "      <td>2007-06-13</td>\n",
       "      <td>86</td>\n",
       "      <td>68</td>\n",
       "      <td>77.0</td>\n",
       "      <td>NaN</td>\n",
       "      <td>53</td>\n",
       "      <td>62.0</td>\n",
       "      <td>0.0</td>\n",
       "      <td>12.0</td>\n",
       "      <td>...</td>\n",
       "      <td></td>\n",
       "      <td>0.0</td>\n",
       "      <td>NaN</td>\n",
       "      <td>NaN</td>\n",
       "      <td>7.0</td>\n",
       "      <td>5</td>\n",
       "      <td>NaN</td>\n",
       "      <td>0.0</td>\n",
       "      <td>1.0</td>\n",
       "      <td>12.0</td>\n",
       "    </tr>\n",
       "    <tr>\n",
       "      <th>88</th>\n",
       "      <td>1</td>\n",
       "      <td>2007-06-14</td>\n",
       "      <td>89</td>\n",
       "      <td>64</td>\n",
       "      <td>77.0</td>\n",
       "      <td>9.0</td>\n",
       "      <td>55</td>\n",
       "      <td>64.0</td>\n",
       "      <td>0.0</td>\n",
       "      <td>12.0</td>\n",
       "      <td>...</td>\n",
       "      <td></td>\n",
       "      <td>0.0</td>\n",
       "      <td>29.30</td>\n",
       "      <td>30.02</td>\n",
       "      <td>5.6</td>\n",
       "      <td>5</td>\n",
       "      <td>6.8</td>\n",
       "      <td>0.0</td>\n",
       "      <td>0.0</td>\n",
       "      <td>12.0</td>\n",
       "    </tr>\n",
       "  </tbody>\n",
       "</table>\n",
       "<p>4 rows × 22 columns</p>\n",
       "</div>"
      ],
      "text/plain": [
       "    Station       Date  Tmax  Tmin  Tavg  Depart  DewPoint  WetBulb  Heat  \\\n",
       "85        2 2007-06-12    82    66  74.0     NaN        51     61.0   0.0   \n",
       "86        1 2007-06-13    87    60  74.0     6.0        53     62.0   0.0   \n",
       "87        2 2007-06-13    86    68  77.0     NaN        53     62.0   0.0   \n",
       "88        1 2007-06-14    89    64  77.0     9.0        55     64.0   0.0   \n",
       "\n",
       "    Cool  ...  CodeSum  PrecipTotal StnPressure  SeaLevel  ResultSpeed  \\\n",
       "85   9.0  ...                   0.0       29.49     30.14          9.4   \n",
       "86   9.0  ...                   0.0       29.36     30.09          7.2   \n",
       "87  12.0  ...                   0.0         NaN       NaN          7.0   \n",
       "88  12.0  ...                   0.0       29.30     30.02          5.6   \n",
       "\n",
       "    ResultDir  AvgSpeed  sunrise_diff  sunset_diff  dev_65  \n",
       "85          5      10.0           0.0          0.0     9.0  \n",
       "86          5       8.6           0.0          0.0     9.0  \n",
       "87          5       NaN           0.0          1.0    12.0  \n",
       "88          5       6.8           0.0          0.0    12.0  \n",
       "\n",
       "[4 rows x 22 columns]"
      ]
     },
     "execution_count": 24,
     "metadata": {},
     "output_type": "execute_result"
    }
   ],
   "source": [
    "w.iloc[85:89,:]"
   ]
  },
  {
   "cell_type": "code",
   "execution_count": 25,
   "metadata": {},
   "outputs": [],
   "source": [
    "w = w.fillna(method='ffill')"
   ]
  },
  {
   "cell_type": "code",
   "execution_count": 26,
   "metadata": {},
   "outputs": [
    {
     "name": "stdout",
     "output_type": "stream",
     "text": [
      "<class 'pandas.core.frame.DataFrame'>\n",
      "RangeIndex: 2944 entries, 0 to 2943\n",
      "Data columns (total 22 columns):\n",
      " #   Column        Non-Null Count  Dtype         \n",
      "---  ------        --------------  -----         \n",
      " 0   Station       2944 non-null   int64         \n",
      " 1   Date          2944 non-null   datetime64[ns]\n",
      " 2   Tmax          2944 non-null   int64         \n",
      " 3   Tmin          2944 non-null   int64         \n",
      " 4   Tavg          2944 non-null   float64       \n",
      " 5   Depart        2944 non-null   float64       \n",
      " 6   DewPoint      2944 non-null   int64         \n",
      " 7   WetBulb       2944 non-null   float64       \n",
      " 8   Heat          2944 non-null   float64       \n",
      " 9   Cool          2944 non-null   float64       \n",
      " 10  Sunrise       2944 non-null   float64       \n",
      " 11  Sunset        2944 non-null   float64       \n",
      " 12  CodeSum       2944 non-null   object        \n",
      " 13  PrecipTotal   2944 non-null   float64       \n",
      " 14  StnPressure   2944 non-null   float64       \n",
      " 15  SeaLevel      2944 non-null   float64       \n",
      " 16  ResultSpeed   2944 non-null   float64       \n",
      " 17  ResultDir     2944 non-null   int64         \n",
      " 18  AvgSpeed      2944 non-null   float64       \n",
      " 19  sunrise_diff  2944 non-null   float64       \n",
      " 20  sunset_diff   2944 non-null   float64       \n",
      " 21  dev_65        2944 non-null   float64       \n",
      "dtypes: datetime64[ns](1), float64(15), int64(5), object(1)\n",
      "memory usage: 506.1+ KB\n"
     ]
    }
   ],
   "source": [
    "w.info()"
   ]
  },
  {
   "cell_type": "markdown",
   "metadata": {},
   "source": [
    "### 2.1.8 Codesum\n",
    "<a id='codesum'></a>\n",
    "\n",
    "Codesum is a sum of all of the weather codes observed on a particular day. I break these apart into separate columns and assign 1 for occured and 0 otherwise."
   ]
  },
  {
   "cell_type": "code",
   "execution_count": 27,
   "metadata": {},
   "outputs": [],
   "source": [
    "#breaking out codesum into separate columns \n",
    "#getting a list of all unique codes in the weather set\n",
    "codes = []\n",
    "for code in w.CodeSum.unique():\n",
    "    for c in code.split(' '):\n",
    "        codes.append(c)\n",
    "codes = pd.Series(codes)\n",
    "codes = codes.unique()[1:]\n",
    "\n",
    "#for each code, creating a column where value is 1 if happens, 0 if doesn't, then drop codeSum\n",
    "for c in codes:\n",
    "    col = [1 if c in s else 0 for s in w.CodeSum]\n",
    "    \n",
    "    if np.sum(col)>(len(col)/100): \n",
    "        w[c] = col\n",
    "\n",
    "w = w.drop('CodeSum',axis=1)\n"
   ]
  },
  {
   "cell_type": "code",
   "execution_count": 28,
   "metadata": {},
   "outputs": [
    {
     "name": "stdout",
     "output_type": "stream",
     "text": [
      "<class 'pandas.core.frame.DataFrame'>\n",
      "RangeIndex: 2944 entries, 0 to 2943\n",
      "Data columns (total 28 columns):\n",
      " #   Column        Non-Null Count  Dtype         \n",
      "---  ------        --------------  -----         \n",
      " 0   Station       2944 non-null   int64         \n",
      " 1   Date          2944 non-null   datetime64[ns]\n",
      " 2   Tmax          2944 non-null   int64         \n",
      " 3   Tmin          2944 non-null   int64         \n",
      " 4   Tavg          2944 non-null   float64       \n",
      " 5   Depart        2944 non-null   float64       \n",
      " 6   DewPoint      2944 non-null   int64         \n",
      " 7   WetBulb       2944 non-null   float64       \n",
      " 8   Heat          2944 non-null   float64       \n",
      " 9   Cool          2944 non-null   float64       \n",
      " 10  Sunrise       2944 non-null   float64       \n",
      " 11  Sunset        2944 non-null   float64       \n",
      " 12  PrecipTotal   2944 non-null   float64       \n",
      " 13  StnPressure   2944 non-null   float64       \n",
      " 14  SeaLevel      2944 non-null   float64       \n",
      " 15  ResultSpeed   2944 non-null   float64       \n",
      " 16  ResultDir     2944 non-null   int64         \n",
      " 17  AvgSpeed      2944 non-null   float64       \n",
      " 18  sunrise_diff  2944 non-null   float64       \n",
      " 19  sunset_diff   2944 non-null   float64       \n",
      " 20  dev_65        2944 non-null   float64       \n",
      " 21  BR            2944 non-null   int64         \n",
      " 22  HZ            2944 non-null   int64         \n",
      " 23  RA            2944 non-null   int64         \n",
      " 24  TSRA          2944 non-null   int64         \n",
      " 25  TS            2944 non-null   int64         \n",
      " 26  DZ            2944 non-null   int64         \n",
      " 27  FG            2944 non-null   int64         \n",
      "dtypes: datetime64[ns](1), float64(15), int64(12)\n",
      "memory usage: 644.1 KB\n"
     ]
    }
   ],
   "source": [
    "w.info()"
   ]
  },
  {
   "cell_type": "code",
   "execution_count": 29,
   "metadata": {},
   "outputs": [
    {
     "data": {
      "text/plain": [
       "count    2944.000000\n",
       "mean        0.119905\n",
       "std         0.324905\n",
       "min         0.000000\n",
       "25%         0.000000\n",
       "50%         0.000000\n",
       "75%         0.000000\n",
       "max         1.000000\n",
       "Name: TS, dtype: float64"
      ]
     },
     "execution_count": 29,
     "metadata": {},
     "output_type": "execute_result"
    }
   ],
   "source": [
    "w.TS.describe()"
   ]
  },
  {
   "cell_type": "markdown",
   "metadata": {},
   "source": [
    "### 2.1.9 Two weather stations\n",
    "<a id='two_w'></a>\n",
    "\n",
    "There are two weather observations for each day, one for each weather station. Here I separate each station and re-merge on data. This yields one observation for each day, which is necessary to merge with the mosquito data.\n",
    "\n",
    "I resample and compare sample means for each variable. Although there is significant differences statistically, the differences are not likely to be practically significant. For example, Tavg is statistically different between the groups but only by about 1.2 degrees F, less than the margin of error on most home thermometers. \n",
    "\n",
    "Because the groups are close, but not exact, I will average the two to use for analysis. There is not enough of a significant difference to justify separate use, and one or the other would be culled later on due to covariance."
   ]
  },
  {
   "cell_type": "code",
   "execution_count": 30,
   "metadata": {},
   "outputs": [],
   "source": [
    "#breaking two weather stations out based on station and merging together in one \n",
    "w_1 = w[w['Station']==1].drop('Station',axis=1)\n",
    "w_2 = w[w['Station']==2].drop('Station',axis=1)"
   ]
  },
  {
   "cell_type": "code",
   "execution_count": 31,
   "metadata": {},
   "outputs": [],
   "source": [
    "def resample(df):\n",
    "    res = {col : [] for col, ser in df.iteritems()}\n",
    "    for col, ser in df.iteritems():\n",
    "        res[col] = [np.mean(np.random.choice(ser,size=100)) for i in range(len(ser))]\n",
    "    return pd.DataFrame(res)\n",
    "\n",
    "\n",
    "w_1_sam = resample(w_1.drop('Date',axis=1))\n",
    "w_2_sam = resample(w_2.drop('Date',axis=1))"
   ]
  },
  {
   "cell_type": "code",
   "execution_count": 32,
   "metadata": {},
   "outputs": [
    {
     "name": "stdout",
     "output_type": "stream",
     "text": [
      "for Tmin, t is -56.582573825259445, and p is 0.0\n",
      "for Tavg, t is -29.918995040494096, and p is 6.028816512414554e-172\n",
      "for WetBulb, t is -16.95272697654048, and p is 1.4045636313978301e-61\n",
      "for Heat, t is 18.870523639075877, and p is 4.546240367173312e-75\n",
      "for Cool, t is -36.148947937336594, and p is 4.2169046881196206e-237\n",
      "for StnPressure, t is -104.22982138526763, and p is 0.0\n",
      "for SeaLevel, t is 15.901517604300665, and p is 1.100872936138483e-54\n",
      "for dev_65, t is -30.62329901854997, and p is 5.158607633518241e-179\n",
      "for HZ, t is -33.99380579733039, and p is 6.1341146871651234e-214\n",
      "for DZ, t is -15.122014646811065, and p is 8.237158200357753e-50\n"
     ]
    }
   ],
   "source": [
    "from scipy.stats import ttest_ind\n",
    "\n",
    "for col in w_1_sam.columns:\n",
    "    t, p = ttest_ind(w_1_sam[col],w_2_sam[col])\n",
    "    if p < 0.1**(len(w_1_sam.columns)):\n",
    "        print('for {}, t is {}, and p is {}'.format(col,t,p))"
   ]
  },
  {
   "cell_type": "code",
   "execution_count": 33,
   "metadata": {},
   "outputs": [],
   "source": [
    "#averaging the two weather sets\n",
    "w_avg = (w_1.set_index('Date') + w_2.set_index('Date')) / 2\n",
    "w_avg = w_avg.reset_index()"
   ]
  },
  {
   "cell_type": "code",
   "execution_count": 34,
   "metadata": {},
   "outputs": [
    {
     "name": "stderr",
     "output_type": "stream",
     "text": [
      "<ipython-input-34-96b0941d2952>:3: FutureWarning: DataFrame.mean and DataFrame.median with numeric_only=None will include datetime64 and datetime64tz columns in a future version.\n",
      "  diff_df[0] = diff_df[0]/(w_avg.mean().reset_index()[0])\n"
     ]
    },
    {
     "ename": "TypeError",
     "evalue": "sort_values() got an unexpected keyword argument 'aascending'",
     "output_type": "error",
     "traceback": [
      "\u001b[0;31m---------------------------------------------------------------------------\u001b[0m",
      "\u001b[0;31mTypeError\u001b[0m                                 Traceback (most recent call last)",
      "\u001b[0;32m<ipython-input-34-96b0941d2952>\u001b[0m in \u001b[0;36m<module>\u001b[0;34m\u001b[0m\n\u001b[1;32m      5\u001b[0m \u001b[0mdiff_df\u001b[0m \u001b[0;34m=\u001b[0m \u001b[0mdiff_df\u001b[0m\u001b[0;34m.\u001b[0m\u001b[0mdrop\u001b[0m\u001b[0;34m(\u001b[0m\u001b[0;34m[\u001b[0m\u001b[0;36m16\u001b[0m\u001b[0;34m,\u001b[0m\u001b[0;36m17\u001b[0m\u001b[0;34m]\u001b[0m\u001b[0;34m)\u001b[0m\u001b[0;34m\u001b[0m\u001b[0;34m\u001b[0m\u001b[0m\n\u001b[1;32m      6\u001b[0m \u001b[0mdiff_df\u001b[0m\u001b[0;34m[\u001b[0m\u001b[0;36m0\u001b[0m\u001b[0;34m]\u001b[0m \u001b[0;34m=\u001b[0m \u001b[0mnp\u001b[0m\u001b[0;34m.\u001b[0m\u001b[0mabs\u001b[0m\u001b[0;34m(\u001b[0m\u001b[0mdiff_df\u001b[0m\u001b[0;34m[\u001b[0m\u001b[0;36m0\u001b[0m\u001b[0;34m]\u001b[0m\u001b[0;34m)\u001b[0m\u001b[0;34m\u001b[0m\u001b[0;34m\u001b[0m\u001b[0m\n\u001b[0;32m----> 7\u001b[0;31m \u001b[0mdiff_df\u001b[0m \u001b[0;34m=\u001b[0m \u001b[0mdiff_df\u001b[0m\u001b[0;34m.\u001b[0m\u001b[0msort_values\u001b[0m\u001b[0;34m(\u001b[0m\u001b[0;36m0\u001b[0m\u001b[0;34m,\u001b[0m \u001b[0maascending\u001b[0m\u001b[0;34m=\u001b[0m\u001b[0;32mFalse\u001b[0m\u001b[0;34m)\u001b[0m\u001b[0;34m\u001b[0m\u001b[0;34m\u001b[0m\u001b[0m\n\u001b[0m\u001b[1;32m      8\u001b[0m \u001b[0msns\u001b[0m\u001b[0;34m.\u001b[0m\u001b[0mbarplot\u001b[0m\u001b[0;34m(\u001b[0m\u001b[0mdata\u001b[0m\u001b[0;34m=\u001b[0m\u001b[0mdiff_df\u001b[0m\u001b[0;34m,\u001b[0m\u001b[0my\u001b[0m\u001b[0;34m=\u001b[0m\u001b[0;34m'index'\u001b[0m\u001b[0;34m,\u001b[0m\u001b[0mx\u001b[0m\u001b[0;34m=\u001b[0m\u001b[0;36m0\u001b[0m\u001b[0;34m,\u001b[0m\u001b[0mcolor\u001b[0m\u001b[0;34m=\u001b[0m\u001b[0;34m'gray'\u001b[0m\u001b[0;34m)\u001b[0m\u001b[0;34m\u001b[0m\u001b[0;34m\u001b[0m\u001b[0m\n\u001b[1;32m      9\u001b[0m \u001b[0mplt\u001b[0m\u001b[0;34m.\u001b[0m\u001b[0mtitle\u001b[0m\u001b[0;34m(\u001b[0m\u001b[0;34m'Average difference between weather stations as a percentage of overall mean'\u001b[0m\u001b[0;34m)\u001b[0m\u001b[0;34m\u001b[0m\u001b[0;34m\u001b[0m\u001b[0m\n",
      "\u001b[0;31mTypeError\u001b[0m: sort_values() got an unexpected keyword argument 'aascending'"
     ]
    },
    {
     "data": {
      "text/plain": [
       "<Figure size 720x576 with 0 Axes>"
      ]
     },
     "metadata": {},
     "output_type": "display_data"
    }
   ],
   "source": [
    "w_diff = w_1_sam - w_2_sam\n",
    "diff_df = (w_diff.mean().reset_index())\n",
    "diff_df[0] = diff_df[0]/(w_avg.mean().reset_index()[0])\n",
    "ax=plt.figure(figsize=(10,8))\n",
    "diff_df = diff_df.drop([16,17])\n",
    "diff_df[0] = np.abs(diff_df[0])\n",
    "diff_df = diff_df.sort_values(0, ascending=False)\n",
    "sns.barplot(data=diff_df,y='index',x=0,color='gray')\n",
    "plt.title('Average difference between weather stations as a percentage of overall mean')\n",
    "plt.xlabel('% different between stations 1 and 2')"
   ]
  },
  {
   "cell_type": "code",
   "execution_count": null,
   "metadata": {},
   "outputs": [],
   "source": [
    "w_avg['Date'] = pd.to_datetime(w_avg['Date'])"
   ]
  },
  {
   "cell_type": "markdown",
   "metadata": {},
   "source": [
    "## 2.2 Mosquito and Spray Data\n",
    "<a id='mosquito_and_spray'></a>\n"
   ]
  },
  {
   "cell_type": "markdown",
   "metadata": {},
   "source": [
    "### 2.2.1 Spray Data Exploration\n",
    "<a id ='spray'></a>"
   ]
  },
  {
   "cell_type": "code",
   "execution_count": null,
   "metadata": {
    "scrolled": true
   },
   "outputs": [],
   "source": [
    "sp.info()"
   ]
  },
  {
   "cell_type": "code",
   "execution_count": null,
   "metadata": {},
   "outputs": [],
   "source": [
    "sp.head()"
   ]
  },
  {
   "cell_type": "markdown",
   "metadata": {},
   "source": [
    "### 2.2.2 Mosquito trap data\n",
    "<a id='trap'></a>\n"
   ]
  },
  {
   "cell_type": "code",
   "execution_count": null,
   "metadata": {},
   "outputs": [],
   "source": [
    "df.info()"
   ]
  },
  {
   "cell_type": "code",
   "execution_count": null,
   "metadata": {},
   "outputs": [],
   "source": [
    "df.head()"
   ]
  },
  {
   "cell_type": "markdown",
   "metadata": {},
   "source": [
    "### 2.2.3 Integrating spray and mosquito data\n",
    "<a id='ms'></a>\n",
    "\n",
    "Insecticide sprays, unlike weather, are highly location dependant. A particular spray affects a small area and can last for a varying amount of time dependant on the type of insecticide used, the amount sprayed, the total are covered and other factors. These factors are not included, so to integrate spray data, I look at different time intervals and different location proximities.\n",
    "\n",
    "After this calculation I merge the data sets and drop a few redundant columns."
   ]
  },
  {
   "cell_type": "code",
   "execution_count": null,
   "metadata": {
    "scrolled": true
   },
   "outputs": [],
   "source": [
    "#integrating spray data into mosquito data\n",
    "\n",
    "mi_per_deg_lat = 364000/5280 #36400 ft per degree lat\n",
    "mi_per_deg_long = 288200/5280 #288200 ft per degree long\n",
    "\n",
    "#chaning date columns to pandas datetime for easy handling\n",
    "sp['Date'] = pd.to_datetime(sp['Date'])\n",
    "df['Date'] = pd.to_datetime(df['Date'])\n",
    "\n",
    "\n",
    "def sprayed(dist, time, traps, sprays):\n",
    "    \"\"\"Returns wether or not a mosquito trap locations was sprayed within a certain distance and time frame. \n",
    "    Distance is in miles, time is 0 for year, 1 for month, and 2 for day. d is dataset\"\"\"\n",
    "    s = []\n",
    "    #for each trap, find the distances to all sprays within the timeframe, if the miniumum is below \n",
    "    # the threshold, than it was sprayed during that time period\n",
    "    period = {0:'y',1:'m',2:'d'}\n",
    "    \n",
    "    for i,r  in traps.iterrows():\n",
    "       \n",
    "        #creating a mask to select relevant spray locations based on date\n",
    "        mask = sprays['Date'].dt.to_period(period[time]) == r[0].to_period(period[time]) \n",
    "        \n",
    "        #passing the loop if there are no sprays during the right window\n",
    "        if mask.sum() == 0:\n",
    "            s.append(0)\n",
    "            continue\n",
    "        spray = sprays[mask]\n",
    "        \n",
    "        #finding euclidian distance based on lat/long converted to miles\n",
    "        lat_d = (spray.iloc[:,2]-r[7]) * mi_per_deg_lat\n",
    "        long_d = (spray.iloc[:,3]-r[8])* mi_per_deg_long\n",
    "        d = np.sqrt(lat_d**2 + long_d**2)\n",
    "        \n",
    "        #if the closest spray in the time period is within the cutoff distance, assign 1, otherwise 0\n",
    "        if d.min() <= dist:\n",
    "            s.append(1) \n",
    "        else: \n",
    "            s.append(0)\n",
    "\n",
    "    return s"
   ]
  },
  {
   "cell_type": "code",
   "execution_count": null,
   "metadata": {},
   "outputs": [],
   "source": [
    "df['spray_year'] = sprayed(1,0,df,sp)\n",
    "df['spray_month'] = sprayed(1,1,df,sp)\n",
    "df['spray_day'] = sprayed(1,2,df,sp)"
   ]
  },
  {
   "cell_type": "code",
   "execution_count": null,
   "metadata": {},
   "outputs": [],
   "source": [
    "df.info()"
   ]
  },
  {
   "cell_type": "code",
   "execution_count": null,
   "metadata": {},
   "outputs": [],
   "source": [
    "df['spray_day'].sum()"
   ]
  },
  {
   "cell_type": "code",
   "execution_count": null,
   "metadata": {},
   "outputs": [],
   "source": [
    "df['spray_month'].sum()"
   ]
  },
  {
   "cell_type": "code",
   "execution_count": null,
   "metadata": {},
   "outputs": [],
   "source": [
    "df['spray_year'].sum()"
   ]
  },
  {
   "cell_type": "code",
   "execution_count": null,
   "metadata": {},
   "outputs": [],
   "source": [
    "df = df.drop(['Address','Block','Street','AddressNumberAndStreet','AddressAccuracy'],axis=1)"
   ]
  },
  {
   "cell_type": "code",
   "execution_count": null,
   "metadata": {},
   "outputs": [],
   "source": [
    "df.info()"
   ]
  },
  {
   "cell_type": "code",
   "execution_count": null,
   "metadata": {},
   "outputs": [],
   "source": [
    "df_avg = df.merge(w_avg,on='Date')"
   ]
  },
  {
   "cell_type": "code",
   "execution_count": null,
   "metadata": {},
   "outputs": [],
   "source": [
    "df_avg.info()"
   ]
  },
  {
   "cell_type": "code",
   "execution_count": null,
   "metadata": {},
   "outputs": [],
   "source": [
    "df_avg.ResultDir.describe()"
   ]
  },
  {
   "cell_type": "markdown",
   "metadata": {},
   "source": [
    "## 2.3 EDA and Feature Engineering\n",
    "<a id='EDA'></a>"
   ]
  },
  {
   "cell_type": "markdown",
   "metadata": {},
   "source": [
    "### 2.3.1 Distributions and Pairplots\n",
    "<a id='dist'></a>\n"
   ]
  },
  {
   "cell_type": "code",
   "execution_count": null,
   "metadata": {
    "scrolled": true
   },
   "outputs": [],
   "source": [
    "df_num = df_avg.select_dtypes(include='number')\n",
    "df_num.info()"
   ]
  },
  {
   "cell_type": "code",
   "execution_count": null,
   "metadata": {
    "scrolled": true
   },
   "outputs": [],
   "source": [
    "vars1 = ['NumMosquitos','spray_month','Tavg','Depart','DewPoint','PrecipTotal','StnPressure','SeaLevel','AvgSpeed']\n",
    "\n",
    "def p_plot(df,v,file_name, h=False):\n",
    "    if h:\n",
    "        ax = plt.figure(figsize = (30,30))\n",
    "        sns.pairplot(df,vars=v,corner=True, kind ='reg',diag_kind ='kde', hue='WnvPresent');\n",
    "        plt.savefig(file_name,dpi=100)\n",
    "    else : \n",
    "        ax = plt.figure(figsize = (30,30))\n",
    "        sns.pairplot(df,vars=v,corner=True, kind ='reg',diag_kind ='kde');\n",
    "        plt.savefig(file_name,dpi=100)\n",
    "    \n"
   ]
  },
  {
   "cell_type": "code",
   "execution_count": null,
   "metadata": {},
   "outputs": [],
   "source": [
    "p_plot(df_num, vars1,'./plots/pairplot1.png',h=False)\n",
    "p_plot(df_num, vars1,'./plots/pairplot1_with_hue.png',h=True)"
   ]
  },
  {
   "cell_type": "markdown",
   "metadata": {},
   "source": [
    "from the first pairplots it's clear that StnPressure and SeaLevel are highly correlated and likely represent a similar concept. Whichever variable has a better information value I will stick with, and the other I'll drop.\n",
    "\n",
    "We also see strong relationships to Tavg, indicating temperature is a mediating factor in a lot of weather."
   ]
  },
  {
   "cell_type": "code",
   "execution_count": null,
   "metadata": {},
   "outputs": [],
   "source": [
    "vars2= ['Tmax','Tmin','Tavg','Depart','WetBulb','Heat','Cool']\n",
    "p_plot(df_num,vars2,'./plots/temp_pair_plots_hued.png',h=True)\n",
    "p_plot(df_num,vars2,'./plots/temp_pair_plots.png')"
   ]
  },
  {
   "cell_type": "code",
   "execution_count": null,
   "metadata": {},
   "outputs": [],
   "source": []
  },
  {
   "cell_type": "markdown",
   "metadata": {},
   "source": [
    "We see above that temperature is represented in many different ways. There are strong relationships between all of the variables. "
   ]
  },
  {
   "cell_type": "markdown",
   "metadata": {},
   "source": [
    "### 2.3.2 Species \n",
    "<a id='species'></a>\n",
    "\n",
    "WNV can only be carrier by two mosquito species, pipens or restauns. Unfortunately the data is highly class biased, and the vast majority of mosquitos are of the two species that can carry WNV. I create a boolean variable with 1 as a positive indication for species and 0 otherwise."
   ]
  },
  {
   "cell_type": "code",
   "execution_count": null,
   "metadata": {},
   "outputs": [],
   "source": [
    "df.groupby('Species').describe().T"
   ]
  },
  {
   "cell_type": "code",
   "execution_count": null,
   "metadata": {},
   "outputs": [],
   "source": [
    "sns.barplot(data=df,y='Species',x='WnvPresent')\n"
   ]
  },
  {
   "cell_type": "code",
   "execution_count": null,
   "metadata": {},
   "outputs": [],
   "source": [
    "sns.barplot(y=df.Species.value_counts().index, x=df.Species.value_counts())"
   ]
  },
  {
   "cell_type": "code",
   "execution_count": null,
   "metadata": {},
   "outputs": [],
   "source": [
    "df['cul_or_pip'] = [1 if s in ['CULEX PIPIENS/RESTUANS', 'CULEX RESTUANS', 'CULEX PIPIENS'] else 0 for s in df.Species]\n"
   ]
  },
  {
   "cell_type": "markdown",
   "metadata": {},
   "source": [
    "### 2.3.3 WNV comparisons\n",
    "<a id='grouped'></a>\n",
    "\n",
    "For the numerical data, I create violin plots to looks at any differences in the distributions for WNV present or not."
   ]
  },
  {
   "cell_type": "code",
   "execution_count": null,
   "metadata": {},
   "outputs": [],
   "source": [
    "sns.violinplot(data=df_avg,x='WnvPresent',y='Tavg')"
   ]
  },
  {
   "cell_type": "markdown",
   "metadata": {},
   "source": []
  },
  {
   "cell_type": "code",
   "execution_count": null,
   "metadata": {},
   "outputs": [],
   "source": [
    "df_avg.WnvPresent.corr(df_avg.Tavg)"
   ]
  },
  {
   "cell_type": "markdown",
   "metadata": {},
   "source": [
    "It appears as though temperatures trend higher when WNV is present. The relationship is not strong and has a low correlation."
   ]
  },
  {
   "cell_type": "code",
   "execution_count": null,
   "metadata": {},
   "outputs": [],
   "source": [
    "sns.violinplot(data=df_avg,x='WnvPresent',y='PrecipTotal')"
   ]
  },
  {
   "cell_type": "markdown",
   "metadata": {},
   "source": [
    "Precipitation is somewhat unclear, despite the association with mosquitos."
   ]
  },
  {
   "cell_type": "code",
   "execution_count": null,
   "metadata": {},
   "outputs": [],
   "source": [
    "#rolling total pepceiption on a few different time scales. \n",
    "w_avg['three_day_rain'] = w_avg['PrecipTotal'].rolling(3, min_periods=1).sum()\n",
    "w_avg['week_rain'] = w_avg['PrecipTotal'].rolling(7, min_periods=1).sum()\n",
    "w_avg['two_week_rain'] = w_avg['PrecipTotal'].rolling(14, min_periods=1).sum()\n",
    "w_avg['month_rain'] = w_avg['PrecipTotal'].rolling(28, min_periods=1).sum()\n",
    "\n"
   ]
  },
  {
   "cell_type": "code",
   "execution_count": null,
   "metadata": {},
   "outputs": [],
   "source": [
    "df_avg = df.merge(w_avg,on='Date')\n"
   ]
  },
  {
   "cell_type": "code",
   "execution_count": null,
   "metadata": {
    "scrolled": true
   },
   "outputs": [],
   "source": [
    "sns.violinplot(data=df_avg,x='WnvPresent',y='three_day_rain')"
   ]
  },
  {
   "cell_type": "code",
   "execution_count": null,
   "metadata": {},
   "outputs": [],
   "source": [
    "sns.violinplot(data=df_avg,x='WnvPresent',y='week_rain')"
   ]
  },
  {
   "cell_type": "code",
   "execution_count": null,
   "metadata": {},
   "outputs": [],
   "source": [
    "sns.violinplot(data=df_avg,x='WnvPresent',y='two_week_rain')"
   ]
  },
  {
   "cell_type": "code",
   "execution_count": null,
   "metadata": {},
   "outputs": [],
   "source": [
    "sns.violinplot(data=df_avg,x='WnvPresent',y='month_rain')"
   ]
  },
  {
   "cell_type": "code",
   "execution_count": null,
   "metadata": {},
   "outputs": [],
   "source": [
    "subset = df_avg[['WnvPresent','PrecipTotal','three_day_rain','week_rain','two_week_rain',\n",
    "                'month_rain','DewPoint','Tavg']]\n",
    "sns.heatmap(subset.corr())"
   ]
  },
  {
   "cell_type": "code",
   "execution_count": null,
   "metadata": {},
   "outputs": [],
   "source": [
    "corr = df_avg.corr()\n",
    "corr['WnvPresent']\n",
    "\n"
   ]
  },
  {
   "cell_type": "markdown",
   "metadata": {},
   "source": [
    "Aside from NumMosquitos, there are not many features that are highly correlated to WNV"
   ]
  },
  {
   "cell_type": "code",
   "execution_count": null,
   "metadata": {},
   "outputs": [],
   "source": [
    "sns.violinplot(data=df_avg,x='WnvPresent',y='spray_month')"
   ]
  },
  {
   "cell_type": "code",
   "execution_count": null,
   "metadata": {},
   "outputs": [],
   "source": [
    "sns.violinplot(data=df_avg,x='WnvPresent',y='Sunrise')"
   ]
  },
  {
   "cell_type": "code",
   "execution_count": null,
   "metadata": {},
   "outputs": [],
   "source": [
    "sns.violinplot(data=df_avg,x='WnvPresent',y='SeaLevel')"
   ]
  },
  {
   "cell_type": "code",
   "execution_count": null,
   "metadata": {},
   "outputs": [],
   "source": [
    "sns.violinplot(data=df_avg,x='WnvPresent',y='AvgSpeed')"
   ]
  },
  {
   "cell_type": "code",
   "execution_count": null,
   "metadata": {},
   "outputs": [],
   "source": [
    "sns.violinplot(data=df_avg,x='WnvPresent',y='DewPoint')"
   ]
  },
  {
   "cell_type": "code",
   "execution_count": null,
   "metadata": {},
   "outputs": [],
   "source": [
    "df_avg['T_spread'] = df_avg.Tmax - df_avg.Tmin\n",
    "df_avg['longer_days'] = [1 if r[0] - r[1] > 0 else 0 for i,r in df_avg[['sunset_diff','sunrise_diff']].iterrows()]"
   ]
  },
  {
   "cell_type": "code",
   "execution_count": null,
   "metadata": {},
   "outputs": [],
   "source": [
    "df_avg.info()"
   ]
  },
  {
   "cell_type": "markdown",
   "metadata": {},
   "source": [
    "### 2.3.4 Lagged Variables\n",
    "<a id='lagged'></a>\n",
    "\n",
    "Here I will explore how correlation changes based on the lag in the variable. For each variable, I will save the index (lag or span) that produced the best correlation"
   ]
  },
  {
   "cell_type": "code",
   "execution_count": null,
   "metadata": {},
   "outputs": [],
   "source": [
    "#lagged weather\n",
    "def lagged(df,n):\n",
    "    return df.rolling(n, min_periods=1).mean().dropna()\n",
    "\n",
    "def exp_lag(df,n):\n",
    "    return df.ewm(span=n,min_periods=1).mean().dropna()\n",
    "\n",
    "df_to_lag = df_avg.iloc[:,11:19].join(df_avg.iloc[:,21:27]).join(df_avg.iloc[:,29:36]).join(df_avg.iloc[:,40:]).join(df_avg.iloc[:,9])\n",
    "\n"
   ]
  },
  {
   "cell_type": "code",
   "execution_count": null,
   "metadata": {},
   "outputs": [],
   "source": [
    "we1 = {s:exp_lag(df_to_lag,s) for s in np.arange(2,8)}\n",
    "wl1 = {s:lagged(df_to_lag,s) for s in np.arange(2,8)}\n",
    "we2 = {s:exp_lag(df_to_lag,s) for s in np.arange(8,18,2)}\n",
    "wl2 = {s:lagged(df_to_lag,s) for s in np.arange(8,18,2)}\n",
    "we3 = {s:exp_lag(df_to_lag,s) for s in np.arange(18,60,4)}\n",
    "wl3 = {s:lagged(df_to_lag,s) for s in np.arange(18,60,4)}\n"
   ]
  },
  {
   "cell_type": "code",
   "execution_count": null,
   "metadata": {},
   "outputs": [],
   "source": [
    "df_list = [we1,wl1,we2,wl2,we3,wl3]\n",
    "\n",
    "\n",
    "def incorporate(df_original,d_list):\n",
    "    count = 0\n",
    "    for df_dict in d_list:\n",
    "        count+=1 \n",
    "        for lag, df in df_dict.items():\n",
    "            \n",
    "            if count % 2 == 0:\n",
    "                t = 'exp'\n",
    "            else:\n",
    "                t = 'lag'  \n",
    "                \n",
    "\n",
    "            new_col = []\n",
    "\n",
    "            for col in df.columns:\n",
    "                new_col.append(str(col)+' ' + str(lag) + ' ' + t)\n",
    "            df.columns = new_col\n",
    "            \n",
    "            df_original = df_original.join(df)\n",
    "            \n",
    "    \n",
    "    return df_original\n",
    "    \n",
    "    \n",
    "df_all = incorporate(df_avg,df_list)"
   ]
  },
  {
   "cell_type": "code",
   "execution_count": null,
   "metadata": {
    "scrolled": true
   },
   "outputs": [],
   "source": [
    "df_all.columns[1000:1020]"
   ]
  },
  {
   "cell_type": "code",
   "execution_count": null,
   "metadata": {},
   "outputs": [],
   "source": [
    "df_all.info()"
   ]
  },
  {
   "cell_type": "markdown",
   "metadata": {},
   "source": [
    "### 2.3.5 Information Value\n",
    "<a id='inf_val'></a>"
   ]
  },
  {
   "cell_type": "code",
   "execution_count": null,
   "metadata": {},
   "outputs": [],
   "source": [
    "pd.options.mode.use_inf_as_na = True\n",
    "\n",
    "max_bin = 20\n",
    "force_bin = 2\n",
    "\n",
    "def mono_bin(Y, X, n = max_bin):\n",
    "    \n",
    "    np.seterr(divide='ignore', invalid='ignore')\n",
    "    pd.options.mode.use_inf_as_na = True\n",
    "\n",
    "    df1 = pd.DataFrame({\"X\": X, \"Y\": Y})\n",
    "    justmiss = df1[['X','Y']][df1.X.isna()]\n",
    "    notmiss = df1[['X','Y']][~df1.X.isna()]\n",
    "    r = 0\n",
    "    while np.abs(r) < 1:\n",
    "        try:\n",
    "            d1 = pd.DataFrame({\"X\": notmiss.X, \"Y\": notmiss.Y, \"Bucket\": pd.qcut(notmiss.X, n,duplicates='drop')})\n",
    "            d2 = d1.groupby('Bucket', as_index=True)\n",
    "            r, p = stats.spearmanr(d2.mean().X, d2.mean().Y)\n",
    "            n = n - 1 \n",
    "        except Exception as e:\n",
    "            n = n - 1\n",
    "\n",
    "    if len(d2) == 1:\n",
    "        n = force_bin         \n",
    "        bins = algos.quantile(notmiss.X, np.linspace(0, 1, n))\n",
    "        if len(np.unique(bins)) == 2:\n",
    "            bins = np.insert(bins, 0, 1)\n",
    "            bins[1] = bins[1]-(bins[1]/2)\n",
    "        bucket = pd.cut(notmiss.X, np.unique(bins),include_lowest=True)\n",
    "        d1 = pd.DataFrame({\"X\": notmiss.X, \"Y\": notmiss.Y, \"Bucket\": bucket}) \n",
    "        d2 = d1.groupby('Bucket', as_index=True)\n",
    "    \n",
    "    d3 = pd.DataFrame({},index=[])\n",
    "    d3[\"MIN_VALUE\"] = d2.min().X\n",
    "    d3[\"MAX_VALUE\"] = d2.max().X\n",
    "    d3[\"COUNT\"] = d2.count().Y\n",
    "    d3[\"EVENT\"] = d2.sum().Y\n",
    "    d3[\"NONEVENT\"] = d2.count().Y - d2.sum().Y\n",
    "    d3=d3.reset_index(drop=True)\n",
    "    \n",
    "    if len(justmiss.index) > 0:\n",
    "        d4 = pd.DataFrame({'MIN_VALUE':np.nan},index=[0])\n",
    "        d4[\"MAX_VALUE\"] = np.nan\n",
    "        d4[\"COUNT\"] = justmiss.count().Y\n",
    "        d4[\"EVENT\"] = justmiss.sum().Y\n",
    "        d4[\"NONEVENT\"] = justmiss.count().Y - justmiss.sum().Y\n",
    "        d3 = d3.append(d4,ignore_index=True)\n",
    "    \n",
    "    d3[\"EVENT_RATE\"] = np.divide(d3.EVENT,d3.COUNT)\n",
    "    d3[\"NON_EVENT_RATE\"] = np.divide(d3.NONEVENT,d3.COUNT)\n",
    "    d3[\"DIST_EVENT\"] = np.divide(d3.EVENT,d3.sum().EVENT)\n",
    "    d3[\"DIST_NON_EVENT\"] = np.divide(d3.NONEVENT,d3.sum().NONEVENT)\n",
    "    d3[\"WOE\"] = np.log(np.divide(d3.DIST_EVENT,d3.DIST_NON_EVENT))\n",
    "    d3[\"IV\"] = (d3.DIST_EVENT-d3.DIST_NON_EVENT)*d3.WOE\n",
    "    d3[\"VAR_NAME\"] = \"VAR\"\n",
    "    d3 = d3[['VAR_NAME','MIN_VALUE', 'MAX_VALUE', 'COUNT', 'EVENT', 'EVENT_RATE', 'NONEVENT', 'NON_EVENT_RATE', 'DIST_EVENT','DIST_NON_EVENT','WOE', 'IV']]       \n",
    "    d3 = d3.replace([np.inf, -np.inf], 0)\n",
    "    d3.IV = d3.IV.sum()\n",
    "    \n",
    "    return(d3)\n",
    "\n",
    "def char_bin(Y, X):\n",
    "        \n",
    "    df1 = pd.DataFrame({\"X\": X, \"Y\": Y})\n",
    "    justmiss = df1[['X','Y']][df1.X.isnull()]\n",
    "    notmiss = df1[['X','Y']][df1.X.notnull()]    \n",
    "    df2 = notmiss.groupby('X',as_index=True)\n",
    "    \n",
    "    d3 = pd.DataFrame({},index=[])\n",
    "    d3[\"COUNT\"] = df2.count().Y\n",
    "    d3[\"MIN_VALUE\"] = df2.sum().Y.index\n",
    "    d3[\"MAX_VALUE\"] = d3[\"MIN_VALUE\"]\n",
    "    d3[\"EVENT\"] = df2.sum().Y\n",
    "    d3[\"NONEVENT\"] = df2.count().Y - df2.sum().Y\n",
    "    \n",
    "    if len(justmiss.index) > 0:\n",
    "        d4 = pd.DataFrame({'MIN_VALUE':np.nan},index=[0])\n",
    "        d4[\"MAX_VALUE\"] = np.nan\n",
    "        d4[\"COUNT\"] = justmiss.count().Y\n",
    "        d4[\"EVENT\"] = justmiss.sum().Y\n",
    "        d4[\"NONEVENT\"] = justmiss.count().Y - justmiss.sum().Y\n",
    "        d3 = d3.append(d4,ignore_index=True)\n",
    "    \n",
    "    \n",
    "    d3[\"EVENT_RATE\"] = np.divide(d3.EVENT,d3.COUNT)\n",
    "    d3[\"NON_EVENT_RATE\"] = np.divide(d3.NONEVENT,d3.COUNT)\n",
    "    d3[\"DIST_EVENT\"] = np.divide(d3.EVENT,d3.sum().EVENT)\n",
    "    d3[\"DIST_NON_EVENT\"] = np.divide(d3.NONEVENT,d3.sum().NONEVENT)\n",
    "    d3[\"WOE\"] = np.log(np.divide(d3.DIST_EVENT,d3.DIST_NON_EVENT))\n",
    "    \n",
    "    d3[\"IV\"] = (d3.DIST_EVENT-d3.DIST_NON_EVENT)*np.log(d3.DIST_EVENT/d3.DIST_NON_EVENT)\n",
    "    d3[\"VAR_NAME\"] = \"VAR\"\n",
    "    d3 = d3[['VAR_NAME','MIN_VALUE', 'MAX_VALUE', 'COUNT', 'EVENT', 'EVENT_RATE', 'NONEVENT', 'NON_EVENT_RATE', 'DIST_EVENT','DIST_NON_EVENT','WOE', 'IV']]      \n",
    "    d3 = d3.replace([np.inf, -np.inf], 0)\n",
    "    d3.IV = d3.IV.sum()\n",
    "    d3 = d3.reset_index(drop=True)\n",
    "    \n",
    "    return(d3)\n",
    "\n",
    "def data_vars(df1, target):\n",
    "    \n",
    "    stack = traceback.extract_stack()\n",
    "    filename, lineno, function_name, code = stack[-2]\n",
    "    vars_name = re.compile(r'\\((.*?)\\).*$').search(code).groups()[0]\n",
    "    final = (re.findall(r\"[\\w']+\", vars_name))[-1]\n",
    "    \n",
    "    x = df1.dtypes.index\n",
    "    count = -1\n",
    "    \n",
    "    for i in x:\n",
    "        #print(i)\n",
    "        if i.upper() not in (final.upper()):\n",
    "            if np.issubdtype(df1[i], np.number) and len(pd.Series.unique(df1[i])) > 2:\n",
    "                conv = mono_bin(target, df1[i])\n",
    "                conv[\"VAR_NAME\"] = i\n",
    "                count = count + 1\n",
    "            else:\n",
    "                conv = char_bin(target, df1[i])\n",
    "                conv[\"VAR_NAME\"] = i            \n",
    "                count = count + 1\n",
    "                \n",
    "            if count == 0:\n",
    "                iv_df = conv\n",
    "            else:\n",
    "                iv_df = iv_df.append(conv,ignore_index=True)\n",
    "    \n",
    "    iv = pd.DataFrame({'IV':iv_df.groupby('VAR_NAME').IV.max()})\n",
    "    iv = iv.reset_index()\n",
    "    return(iv_df,iv)"
   ]
  },
  {
   "cell_type": "code",
   "execution_count": null,
   "metadata": {
    "scrolled": true
   },
   "outputs": [],
   "source": [
    "df_ivs, IV = data_vars(df_all.drop('WnvPresent',axis=1),df_all['WnvPresent'])\n",
    "to_drop = IV[(IV.IV > 0.8) | (IV.IV < 0.01)]\n",
    "df_iv = df_all.drop(to_drop.VAR_NAME, axis=1)"
   ]
  },
  {
   "cell_type": "code",
   "execution_count": null,
   "metadata": {},
   "outputs": [],
   "source": [
    "df_iv.info()"
   ]
  },
  {
   "cell_type": "code",
   "execution_count": null,
   "metadata": {},
   "outputs": [],
   "source": [
    "IV = IV.set_index('VAR_NAME')"
   ]
  },
  {
   "cell_type": "code",
   "execution_count": null,
   "metadata": {},
   "outputs": [],
   "source": [
    "df_avg.columns"
   ]
  },
  {
   "cell_type": "code",
   "execution_count": null,
   "metadata": {},
   "outputs": [],
   "source": [
    "features = []\n",
    "wnv = df_avg.WnvPresent\n",
    "df_a = df_avg.drop(['WnvPresent','three_day_rain','two_week_rain','month_rain','week_rain','spray_month'\n",
    "                    ,'spray_year','sunset_diff','Cool','Heat','longer_days', 'Species','Trap'],axis=1)\n",
    "for column in df_a.columns:\n",
    "    cols = []\n",
    "    for col in df_iv.columns:\n",
    "        if column in col:\n",
    "            cols.append(col)\n",
    "    if len(cols)>= 2:\n",
    "        iv=0\n",
    "        max_iv = 0\n",
    "        c_to_save = ''\n",
    "        for c in cols:      \n",
    "            try:\n",
    "                iv = IV.loc[c]\n",
    "            except Exception as e:\n",
    "                continue\n",
    "            \n",
    "            if iv[0] >= max_iv:\n",
    "                max_iv = iv[0]\n",
    "                c_to_save = c     \n",
    "        features.append(c_to_save)\n",
    "    else:\n",
    "        for c in cols:\n",
    "            features.append(c)\n"
   ]
  },
  {
   "cell_type": "code",
   "execution_count": null,
   "metadata": {},
   "outputs": [],
   "source": [
    "features"
   ]
  },
  {
   "cell_type": "code",
   "execution_count": null,
   "metadata": {},
   "outputs": [],
   "source": [
    "df_X = df_iv[features]"
   ]
  },
  {
   "cell_type": "code",
   "execution_count": null,
   "metadata": {},
   "outputs": [],
   "source": [
    "IV_bar = IV.loc[df_X.columns,:].sort_values(by='IV',ascending=False).reset_index()\n",
    "ax=plt.figure(figsize=(10,8))\n",
    "sns.barplot(data=IV_bar,x='IV',y='index',color='gray')\n",
    "plt.ylabel('Feature')\n",
    "plt.xlabel('Information Value')"
   ]
  },
  {
   "cell_type": "markdown",
   "metadata": {},
   "source": [
    "### 2.3.6 Variance inflation factor \n",
    "<a id='var_in'></a>"
   ]
  },
  {
   "cell_type": "code",
   "execution_count": null,
   "metadata": {},
   "outputs": [],
   "source": [
    "from statsmodels.stats.outliers_influence import variance_inflation_factor\n",
    "def iterate_vif(df, vif_threshold=6, max_vif=11):\n",
    "  count = 0\n",
    "  while max_vif > vif_threshold:\n",
    "    count += 1\n",
    "    print(\"Iteration # \"+str(count))\n",
    "    vif = pd.DataFrame()\n",
    "    vif[\"VIFactor\"] = [variance_inflation_factor(df.to_numpy(), i) for i in range(df.shape[1])]\n",
    "    vif[\"features\"] = df.columns\n",
    "    \n",
    "    if np.round(vif['VIFactor'].max(),1) > vif_threshold:\n",
    "      print('Removing %s with VIF of %f' % (vif[vif['VIFactor'] == vif['VIFactor'].max()]['features'].values[0], np.round(vif['VIFactor'].max(),1)))\n",
    "      df = df.drop(vif[vif['VIFactor'] == vif['VIFactor'].max()]['features'].values[0], axis=1)\n",
    "      max_vif = np.round(vif['VIFactor'].max(),1)\n",
    "    else:\n",
    "        print('Complete')\n",
    "        return df, np.round(vif.sort_values('VIFactor'),1)"
   ]
  },
  {
   "cell_type": "code",
   "execution_count": null,
   "metadata": {},
   "outputs": [],
   "source": [
    "X = df_X\n",
    "y = wnv"
   ]
  },
  {
   "cell_type": "code",
   "execution_count": null,
   "metadata": {
    "scrolled": true
   },
   "outputs": [],
   "source": [
    "X2, vif = iterate_vif(X._get_numeric_data())"
   ]
  },
  {
   "cell_type": "code",
   "execution_count": null,
   "metadata": {},
   "outputs": [],
   "source": [
    "X2.info()"
   ]
  },
  {
   "cell_type": "code",
   "execution_count": null,
   "metadata": {
    "scrolled": true
   },
   "outputs": [],
   "source": [
    "ax=plt.figure(figsize=(10,8))\n",
    "sns.barplot(data=vif.sort_values('VIFactor',ascending=False),x='VIFactor',y='features',color='gray')\n",
    "plt.ylabel('Feature')\n",
    "plt.xlabel('Variance Inflation Factor')"
   ]
  },
  {
   "cell_type": "code",
   "execution_count": null,
   "metadata": {},
   "outputs": [],
   "source": [
    "from sklearn.model_selection import train_test_split\n",
    "from sklearn.ensemble import RandomForestClassifier\n",
    "from sklearn.model_selection import RandomizedSearchCV\n",
    "\n",
    "X2.to_pickle('./data/X2.pkl')\n",
    "y.to_pickle('./data/y.pkl')"
   ]
  },
  {
   "cell_type": "code",
   "execution_count": null,
   "metadata": {
    "scrolled": true
   },
   "outputs": [],
   "source": [
    "final_vars = X2.join(y.astype('float'))\n",
    "vars3 = list(final_vars.columns)\n",
    "#final_vars.info()\n",
    "p_plot(final_vars, vars3,'./plots/final_pair.png',h=False)\n"
   ]
  },
  {
   "cell_type": "code",
   "execution_count": null,
   "metadata": {},
   "outputs": [],
   "source": [
    "X_train, X_test, y_train, y_test = train_test_split(X2,y, test_size = 0.2, random_state = 42)"
   ]
  },
  {
   "cell_type": "code",
   "execution_count": null,
   "metadata": {},
   "outputs": [],
   "source": [
    "rf = RandomForestClassifier()\n",
    "\n",
    "params = {'n_estimators': np.arange(750,2000,50),'max_depth': np.arange(3,8)}\n",
    "\n",
    "rf_rand = RandomizedSearchCV(rf,param_distributions=params,cv=5, n_jobs=-1, scoring = 'roc_auc',n_iter=10,\n",
    "                            random_state = 42, verbose=10)"
   ]
  },
  {
   "cell_type": "code",
   "execution_count": null,
   "metadata": {},
   "outputs": [],
   "source": [
    "rf_rand.fit(X_train,y_train)"
   ]
  },
  {
   "cell_type": "code",
   "execution_count": null,
   "metadata": {},
   "outputs": [],
   "source": [
    "rf_rand.best_score_"
   ]
  },
  {
   "cell_type": "code",
   "execution_count": null,
   "metadata": {},
   "outputs": [],
   "source": [
    "from sklearn.metrics import roc_auc_score\n",
    "\n",
    "y_pred = rf_rand.best_estimator_.predict_proba(X_test)\n",
    "\n",
    "roc_auc_score(y_test,y_pred[:,1])\n"
   ]
  },
  {
   "cell_type": "code",
   "execution_count": null,
   "metadata": {},
   "outputs": [],
   "source": [
    "r = rf_rand.best_estimator_\n",
    "imp = r.feature_importances_\n",
    "\n",
    "ax = plt.figure(figsize=(10,5))\n",
    "\n",
    "i = pd.DataFrame({'feature':X_test.columns,'importance':imp}).sort_values('importance',ascending=False)\n",
    "\n",
    "sns.barplot(data=i,y='feature',x='importance',orient='h',color='gray')"
   ]
  },
  {
   "cell_type": "code",
   "execution_count": null,
   "metadata": {},
   "outputs": [],
   "source": [
    "from sklearn.metrics import roc_curve\n",
    "\n",
    "def roc_plot(e,x,y):\n",
    "    \"\"\"e is estimator, x is data and y is true value\"\"\"\n",
    "\n",
    "    #predicting from model\n",
    "    y_pred = e.predict_proba(x)[:,1]\n",
    "\n",
    "    #finding curve\n",
    "    fpr, tpr, t = roc_curve(y, y_pred)\n",
    "    sns.lineplot(x=fpr,y=tpr)\n",
    "    plt.xlabel('false positive rate')\n",
    "    plt.ylabel('true positive rate')\n",
    "    plt.title('Compute Receiver Operating Characteristic Curve')\n",
    "    return pd.DataFrame({'fpr':fpr,'tpr':tpr,'threshold':t})\n",
    "\n",
    "from sklearn.metrics import roc_auc_score\n",
    "\n",
    "\n",
    "def test_comp(e):\n",
    "    #predicting probability from test set\n",
    "    y_pred = e.predict_proba(X_test)[:,1]\n",
    "    \n",
    "    \n",
    "    r = np.round(roc_auc_score(y_test,y_pred),3)\n",
    "    \n",
    "    print('Evaluating the classifier on the test set, area under the roc curve is: ' +  \n",
    "           '{}'.format(r))\n",
    "\n",
    "test_comp(rf_rand.best_estimator_)\n",
    "\n"
   ]
  },
  {
   "cell_type": "code",
   "execution_count": null,
   "metadata": {
    "scrolled": true
   },
   "outputs": [],
   "source": [
    "test_comp(rf_rand.best_estimator_)"
   ]
  },
  {
   "cell_type": "code",
   "execution_count": null,
   "metadata": {},
   "outputs": [],
   "source": [
    "est = rf_rand.best_estimator_\n",
    "c = roc_plot(est, X_train, y_train)"
   ]
  }
 ],
 "metadata": {
  "kernelspec": {
   "display_name": "Python 3",
   "language": "python",
   "name": "python3"
  },
  "language_info": {
   "codemirror_mode": {
    "name": "ipython",
    "version": 3
   },
   "file_extension": ".py",
   "mimetype": "text/x-python",
   "name": "python",
   "nbconvert_exporter": "python",
   "pygments_lexer": "ipython3",
   "version": "3.8.3"
  }
 },
 "nbformat": 4,
 "nbformat_minor": 4
}
