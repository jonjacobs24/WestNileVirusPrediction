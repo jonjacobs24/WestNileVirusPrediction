{
 "cells": [
  {
   "cell_type": "markdown",
   "metadata": {},
   "source": [
    "<h1>Modeling and Prediction</h1>\n",
    "On the West Nile Virus data set"
   ]
  },
  {
   "cell_type": "code",
   "execution_count": 1,
   "metadata": {},
   "outputs": [],
   "source": [
    "import pandas as pd\n",
    "import numpy as np\n",
    "from scipy import stats\n",
    "import seaborn as sns\n",
    "import matplotlib.pyplot as plt\n",
    "from sklearn.model_selection import train_test_split, cross_val_score, GridSearchCV\n",
    "from sklearn.pipeline import Pipeline\n",
    "from sklearn.metrics import classification_report\n",
    "from sklearn.linear_model import LogisticRegression\n",
    "import pandas.core.algorithms as algos\n",
    "from pandas import Series\n",
    "import scipy.stats.stats as stats\n",
    "\n",
    "sns.set_style('whitegrid')"
   ]
  },
  {
   "cell_type": "code",
   "execution_count": 2,
   "metadata": {},
   "outputs": [],
   "source": [
    "#loading cleaned data\n",
    "df = pd.read_pickle('./data/df_best.pkl')\n",
    "X = df.drop('WnvPresent',axis=1)\n",
    "y = df.WnvPresent\n",
    "\n",
    "df_avg = pd.read_pickle('./data/df_avg.pkl')\n",
    "X_avg = df_avg.drop('WnvPresent',axis=1)\n",
    "y_avg = df_avg.WnvPresent"
   ]
  },
  {
   "cell_type": "code",
   "execution_count": 3,
   "metadata": {},
   "outputs": [],
   "source": [
    "# mistakenly, thought that the train_test_split was done for me. It was not, the test set is for the kaggle competition\n",
    "X_train, X_test, y_train, y_test = train_test_split(X,y,test_size=0.2,random_state=123)"
   ]
  },
  {
   "cell_type": "markdown",
   "metadata": {},
   "source": [
    "<h2>Random Forest Classifier</h2>\n",
    "Random Forest Classifier is a great ensemble method which I will look into first with a Random Search CV. The driving metric for analysis is roc_auc. This data set is heavily class biased -- there are few west nile virus sightings compared to the observations as a whole. The area under the roc curve is relatively good at handling this sort of imbalance."
   ]
  },
  {
   "cell_type": "markdown",
   "metadata": {},
   "source": [
    "***Building Pipeline***"
   ]
  },
  {
   "cell_type": "code",
   "execution_count": 4,
   "metadata": {},
   "outputs": [],
   "source": [
    "from sklearn.pipeline import make_pipeline\n",
    "from sklearn.ensemble import RandomForestClassifier\n",
    "from sklearn.model_selection import RandomizedSearchCV\n",
    "from sklearn.preprocessing import StandardScaler\n",
    "from sklearn.metrics import recall_score\n",
    "from scipy.stats import truncnorm, uniform\n"
   ]
  },
  {
   "cell_type": "code",
   "execution_count": 5,
   "metadata": {},
   "outputs": [],
   "source": [
    "pipe = make_pipeline( \n",
    "    StandardScaler(), \n",
    "    RandomForestClassifier()\n",
    ")"
   ]
  },
  {
   "cell_type": "code",
   "execution_count": 6,
   "metadata": {},
   "outputs": [
    {
     "data": {
      "text/plain": [
       "dict_keys(['memory', 'steps', 'verbose', 'standardscaler', 'randomforestclassifier', 'standardscaler__copy', 'standardscaler__with_mean', 'standardscaler__with_std', 'randomforestclassifier__bootstrap', 'randomforestclassifier__ccp_alpha', 'randomforestclassifier__class_weight', 'randomforestclassifier__criterion', 'randomforestclassifier__max_depth', 'randomforestclassifier__max_features', 'randomforestclassifier__max_leaf_nodes', 'randomforestclassifier__max_samples', 'randomforestclassifier__min_impurity_decrease', 'randomforestclassifier__min_impurity_split', 'randomforestclassifier__min_samples_leaf', 'randomforestclassifier__min_samples_split', 'randomforestclassifier__min_weight_fraction_leaf', 'randomforestclassifier__n_estimators', 'randomforestclassifier__n_jobs', 'randomforestclassifier__oob_score', 'randomforestclassifier__random_state', 'randomforestclassifier__verbose', 'randomforestclassifier__warm_start'])"
      ]
     },
     "execution_count": 6,
     "metadata": {},
     "output_type": "execute_result"
    }
   ],
   "source": [
    "pipe.get_params().keys()\n"
   ]
  },
  {
   "cell_type": "code",
   "execution_count": 7,
   "metadata": {},
   "outputs": [],
   "source": [
    "params = {'randomforestclassifier__n_estimators': np.arange(50,2000),\n",
    "         'randomforestclassifier__max_depth' :  np.arange(2,20)}\n",
    "\n",
    "rf_rand = RandomizedSearchCV(pipe,param_distributions=params,cv=5, n_jobs=-1, scoring = 'roc_auc',n_iter=10,\n",
    "                            random_state = 42, verbose= 10)"
   ]
  },
  {
   "cell_type": "code",
   "execution_count": 8,
   "metadata": {},
   "outputs": [
    {
     "name": "stdout",
     "output_type": "stream",
     "text": [
      "Fitting 5 folds for each of 10 candidates, totalling 50 fits\n"
     ]
    },
    {
     "name": "stderr",
     "output_type": "stream",
     "text": [
      "[Parallel(n_jobs=-1)]: Using backend LokyBackend with 8 concurrent workers.\n",
      "[Parallel(n_jobs=-1)]: Done   2 tasks      | elapsed:    3.9s\n",
      "[Parallel(n_jobs=-1)]: Done   9 tasks      | elapsed:    8.2s\n",
      "[Parallel(n_jobs=-1)]: Done  16 tasks      | elapsed:   14.7s\n",
      "[Parallel(n_jobs=-1)]: Done  25 tasks      | elapsed:   22.0s\n",
      "[Parallel(n_jobs=-1)]: Done  34 tasks      | elapsed:   27.8s\n",
      "[Parallel(n_jobs=-1)]: Done  41 out of  50 | elapsed:   33.6s remaining:    7.4s\n",
      "[Parallel(n_jobs=-1)]: Done  47 out of  50 | elapsed:   35.3s remaining:    2.3s\n",
      "[Parallel(n_jobs=-1)]: Done  50 out of  50 | elapsed:   35.7s finished\n"
     ]
    },
    {
     "data": {
      "text/plain": [
       "RandomizedSearchCV(cv=5,\n",
       "                   estimator=Pipeline(steps=[('standardscaler',\n",
       "                                              StandardScaler()),\n",
       "                                             ('randomforestclassifier',\n",
       "                                              RandomForestClassifier())]),\n",
       "                   n_jobs=-1,\n",
       "                   param_distributions={'randomforestclassifier__max_depth': array([ 2,  3,  4,  5,  6,  7,  8,  9, 10, 11, 12, 13, 14, 15, 16, 17, 18,\n",
       "       19]),\n",
       "                                        'randomforestclassifier__n_estimators': array([  50,   51,   52, ..., 1997, 1998, 1999])},\n",
       "                   random_state=42, scoring='roc_auc', verbose=10)"
      ]
     },
     "execution_count": 8,
     "metadata": {},
     "output_type": "execute_result"
    }
   ],
   "source": [
    "rf_rand.fit(X_train,y_train)"
   ]
  },
  {
   "cell_type": "markdown",
   "metadata": {},
   "source": [
    "***Looking at results from the random search***"
   ]
  },
  {
   "cell_type": "code",
   "execution_count": 9,
   "metadata": {},
   "outputs": [
    {
     "data": {
      "text/plain": [
       "{'randomforestclassifier__n_estimators': 1584,\n",
       " 'randomforestclassifier__max_depth': 7}"
      ]
     },
     "execution_count": 9,
     "metadata": {},
     "output_type": "execute_result"
    }
   ],
   "source": [
    "rf_rand.best_params_"
   ]
  },
  {
   "cell_type": "code",
   "execution_count": 10,
   "metadata": {},
   "outputs": [],
   "source": [
    "rf_res = pd.DataFrame(rf_rand.cv_results_)\n"
   ]
  },
  {
   "cell_type": "code",
   "execution_count": 11,
   "metadata": {},
   "outputs": [
    {
     "data": {
      "text/html": [
       "<div>\n",
       "<style scoped>\n",
       "    .dataframe tbody tr th:only-of-type {\n",
       "        vertical-align: middle;\n",
       "    }\n",
       "\n",
       "    .dataframe tbody tr th {\n",
       "        vertical-align: top;\n",
       "    }\n",
       "\n",
       "    .dataframe thead th {\n",
       "        text-align: right;\n",
       "    }\n",
       "</style>\n",
       "<table border=\"1\" class=\"dataframe\">\n",
       "  <thead>\n",
       "    <tr style=\"text-align: right;\">\n",
       "      <th></th>\n",
       "      <th>mean_fit_time</th>\n",
       "      <th>std_fit_time</th>\n",
       "      <th>mean_score_time</th>\n",
       "      <th>std_score_time</th>\n",
       "      <th>param_randomforestclassifier__n_estimators</th>\n",
       "      <th>param_randomforestclassifier__max_depth</th>\n",
       "      <th>params</th>\n",
       "      <th>split0_test_score</th>\n",
       "      <th>split1_test_score</th>\n",
       "      <th>split2_test_score</th>\n",
       "      <th>split3_test_score</th>\n",
       "      <th>split4_test_score</th>\n",
       "      <th>mean_test_score</th>\n",
       "      <th>std_test_score</th>\n",
       "      <th>rank_test_score</th>\n",
       "    </tr>\n",
       "  </thead>\n",
       "  <tbody>\n",
       "    <tr>\n",
       "      <th>2</th>\n",
       "      <td>10.239376</td>\n",
       "      <td>0.048580</td>\n",
       "      <td>0.540828</td>\n",
       "      <td>0.004391</td>\n",
       "      <td>1584</td>\n",
       "      <td>7</td>\n",
       "      <td>{'randomforestclassifier__n_estimators': 1584,...</td>\n",
       "      <td>0.831167</td>\n",
       "      <td>0.841123</td>\n",
       "      <td>0.857084</td>\n",
       "      <td>0.852370</td>\n",
       "      <td>0.804537</td>\n",
       "      <td>0.837256</td>\n",
       "      <td>0.018677</td>\n",
       "      <td>1</td>\n",
       "    </tr>\n",
       "    <tr>\n",
       "      <th>3</th>\n",
       "      <td>2.660805</td>\n",
       "      <td>0.017199</td>\n",
       "      <td>0.153028</td>\n",
       "      <td>0.004479</td>\n",
       "      <td>465</td>\n",
       "      <td>5</td>\n",
       "      <td>{'randomforestclassifier__n_estimators': 465, ...</td>\n",
       "      <td>0.834293</td>\n",
       "      <td>0.833056</td>\n",
       "      <td>0.846626</td>\n",
       "      <td>0.858944</td>\n",
       "      <td>0.796821</td>\n",
       "      <td>0.833948</td>\n",
       "      <td>0.020808</td>\n",
       "      <td>2</td>\n",
       "    </tr>\n",
       "    <tr>\n",
       "      <th>6</th>\n",
       "      <td>3.542203</td>\n",
       "      <td>0.022882</td>\n",
       "      <td>0.189504</td>\n",
       "      <td>0.005198</td>\n",
       "      <td>473</td>\n",
       "      <td>10</td>\n",
       "      <td>{'randomforestclassifier__n_estimators': 473, ...</td>\n",
       "      <td>0.813194</td>\n",
       "      <td>0.830030</td>\n",
       "      <td>0.845342</td>\n",
       "      <td>0.832723</td>\n",
       "      <td>0.804491</td>\n",
       "      <td>0.825156</td>\n",
       "      <td>0.014551</td>\n",
       "      <td>3</td>\n",
       "    </tr>\n",
       "    <tr>\n",
       "      <th>4</th>\n",
       "      <td>9.566973</td>\n",
       "      <td>0.086105</td>\n",
       "      <td>0.506088</td>\n",
       "      <td>0.014844</td>\n",
       "      <td>1300</td>\n",
       "      <td>10</td>\n",
       "      <td>{'randomforestclassifier__n_estimators': 1300,...</td>\n",
       "      <td>0.812463</td>\n",
       "      <td>0.828757</td>\n",
       "      <td>0.846823</td>\n",
       "      <td>0.832826</td>\n",
       "      <td>0.804147</td>\n",
       "      <td>0.825003</td>\n",
       "      <td>0.015124</td>\n",
       "      <td>4</td>\n",
       "    </tr>\n",
       "    <tr>\n",
       "      <th>0</th>\n",
       "      <td>1.783622</td>\n",
       "      <td>0.016124</td>\n",
       "      <td>0.104214</td>\n",
       "      <td>0.005250</td>\n",
       "      <td>245</td>\n",
       "      <td>10</td>\n",
       "      <td>{'randomforestclassifier__n_estimators': 245, ...</td>\n",
       "      <td>0.811527</td>\n",
       "      <td>0.829984</td>\n",
       "      <td>0.845127</td>\n",
       "      <td>0.831737</td>\n",
       "      <td>0.800883</td>\n",
       "      <td>0.823852</td>\n",
       "      <td>0.015696</td>\n",
       "      <td>5</td>\n",
       "    </tr>\n",
       "    <tr>\n",
       "      <th>9</th>\n",
       "      <td>2.163758</td>\n",
       "      <td>0.227506</td>\n",
       "      <td>0.100424</td>\n",
       "      <td>0.014546</td>\n",
       "      <td>533</td>\n",
       "      <td>3</td>\n",
       "      <td>{'randomforestclassifier__n_estimators': 533, ...</td>\n",
       "      <td>0.839370</td>\n",
       "      <td>0.814625</td>\n",
       "      <td>0.828575</td>\n",
       "      <td>0.852774</td>\n",
       "      <td>0.781918</td>\n",
       "      <td>0.823452</td>\n",
       "      <td>0.024259</td>\n",
       "      <td>6</td>\n",
       "    </tr>\n",
       "    <tr>\n",
       "      <th>1</th>\n",
       "      <td>3.977661</td>\n",
       "      <td>0.044473</td>\n",
       "      <td>0.264812</td>\n",
       "      <td>0.025610</td>\n",
       "      <td>910</td>\n",
       "      <td>2</td>\n",
       "      <td>{'randomforestclassifier__n_estimators': 910, ...</td>\n",
       "      <td>0.838075</td>\n",
       "      <td>0.797767</td>\n",
       "      <td>0.817461</td>\n",
       "      <td>0.848276</td>\n",
       "      <td>0.770065</td>\n",
       "      <td>0.814329</td>\n",
       "      <td>0.028141</td>\n",
       "      <td>7</td>\n",
       "    </tr>\n",
       "    <tr>\n",
       "      <th>5</th>\n",
       "      <td>4.473930</td>\n",
       "      <td>0.041664</td>\n",
       "      <td>0.234698</td>\n",
       "      <td>0.006555</td>\n",
       "      <td>562</td>\n",
       "      <td>13</td>\n",
       "      <td>{'randomforestclassifier__n_estimators': 562, ...</td>\n",
       "      <td>0.797774</td>\n",
       "      <td>0.817719</td>\n",
       "      <td>0.826753</td>\n",
       "      <td>0.825514</td>\n",
       "      <td>0.802377</td>\n",
       "      <td>0.814028</td>\n",
       "      <td>0.011895</td>\n",
       "      <td>8</td>\n",
       "    </tr>\n",
       "    <tr>\n",
       "      <th>7</th>\n",
       "      <td>7.735308</td>\n",
       "      <td>0.021976</td>\n",
       "      <td>0.471211</td>\n",
       "      <td>0.008683</td>\n",
       "      <td>1735</td>\n",
       "      <td>2</td>\n",
       "      <td>{'randomforestclassifier__n_estimators': 1735,...</td>\n",
       "      <td>0.837824</td>\n",
       "      <td>0.797620</td>\n",
       "      <td>0.814173</td>\n",
       "      <td>0.846896</td>\n",
       "      <td>0.771396</td>\n",
       "      <td>0.813582</td>\n",
       "      <td>0.027322</td>\n",
       "      <td>9</td>\n",
       "    </tr>\n",
       "    <tr>\n",
       "      <th>8</th>\n",
       "      <td>3.575030</td>\n",
       "      <td>0.152616</td>\n",
       "      <td>0.206997</td>\n",
       "      <td>0.028997</td>\n",
       "      <td>819</td>\n",
       "      <td>2</td>\n",
       "      <td>{'randomforestclassifier__n_estimators': 819, ...</td>\n",
       "      <td>0.835171</td>\n",
       "      <td>0.793601</td>\n",
       "      <td>0.815005</td>\n",
       "      <td>0.846332</td>\n",
       "      <td>0.769952</td>\n",
       "      <td>0.812012</td>\n",
       "      <td>0.027681</td>\n",
       "      <td>10</td>\n",
       "    </tr>\n",
       "  </tbody>\n",
       "</table>\n",
       "</div>"
      ],
      "text/plain": [
       "   mean_fit_time  std_fit_time  mean_score_time  std_score_time  \\\n",
       "2      10.239376      0.048580         0.540828        0.004391   \n",
       "3       2.660805      0.017199         0.153028        0.004479   \n",
       "6       3.542203      0.022882         0.189504        0.005198   \n",
       "4       9.566973      0.086105         0.506088        0.014844   \n",
       "0       1.783622      0.016124         0.104214        0.005250   \n",
       "9       2.163758      0.227506         0.100424        0.014546   \n",
       "1       3.977661      0.044473         0.264812        0.025610   \n",
       "5       4.473930      0.041664         0.234698        0.006555   \n",
       "7       7.735308      0.021976         0.471211        0.008683   \n",
       "8       3.575030      0.152616         0.206997        0.028997   \n",
       "\n",
       "  param_randomforestclassifier__n_estimators  \\\n",
       "2                                       1584   \n",
       "3                                        465   \n",
       "6                                        473   \n",
       "4                                       1300   \n",
       "0                                        245   \n",
       "9                                        533   \n",
       "1                                        910   \n",
       "5                                        562   \n",
       "7                                       1735   \n",
       "8                                        819   \n",
       "\n",
       "  param_randomforestclassifier__max_depth  \\\n",
       "2                                       7   \n",
       "3                                       5   \n",
       "6                                      10   \n",
       "4                                      10   \n",
       "0                                      10   \n",
       "9                                       3   \n",
       "1                                       2   \n",
       "5                                      13   \n",
       "7                                       2   \n",
       "8                                       2   \n",
       "\n",
       "                                              params  split0_test_score  \\\n",
       "2  {'randomforestclassifier__n_estimators': 1584,...           0.831167   \n",
       "3  {'randomforestclassifier__n_estimators': 465, ...           0.834293   \n",
       "6  {'randomforestclassifier__n_estimators': 473, ...           0.813194   \n",
       "4  {'randomforestclassifier__n_estimators': 1300,...           0.812463   \n",
       "0  {'randomforestclassifier__n_estimators': 245, ...           0.811527   \n",
       "9  {'randomforestclassifier__n_estimators': 533, ...           0.839370   \n",
       "1  {'randomforestclassifier__n_estimators': 910, ...           0.838075   \n",
       "5  {'randomforestclassifier__n_estimators': 562, ...           0.797774   \n",
       "7  {'randomforestclassifier__n_estimators': 1735,...           0.837824   \n",
       "8  {'randomforestclassifier__n_estimators': 819, ...           0.835171   \n",
       "\n",
       "   split1_test_score  split2_test_score  split3_test_score  split4_test_score  \\\n",
       "2           0.841123           0.857084           0.852370           0.804537   \n",
       "3           0.833056           0.846626           0.858944           0.796821   \n",
       "6           0.830030           0.845342           0.832723           0.804491   \n",
       "4           0.828757           0.846823           0.832826           0.804147   \n",
       "0           0.829984           0.845127           0.831737           0.800883   \n",
       "9           0.814625           0.828575           0.852774           0.781918   \n",
       "1           0.797767           0.817461           0.848276           0.770065   \n",
       "5           0.817719           0.826753           0.825514           0.802377   \n",
       "7           0.797620           0.814173           0.846896           0.771396   \n",
       "8           0.793601           0.815005           0.846332           0.769952   \n",
       "\n",
       "   mean_test_score  std_test_score  rank_test_score  \n",
       "2         0.837256        0.018677                1  \n",
       "3         0.833948        0.020808                2  \n",
       "6         0.825156        0.014551                3  \n",
       "4         0.825003        0.015124                4  \n",
       "0         0.823852        0.015696                5  \n",
       "9         0.823452        0.024259                6  \n",
       "1         0.814329        0.028141                7  \n",
       "5         0.814028        0.011895                8  \n",
       "7         0.813582        0.027322                9  \n",
       "8         0.812012        0.027681               10  "
      ]
     },
     "execution_count": 11,
     "metadata": {},
     "output_type": "execute_result"
    }
   ],
   "source": [
    "rf_res.sort_values('mean_test_score',axis=0, ascending=False)"
   ]
  },
  {
   "cell_type": "code",
   "execution_count": 12,
   "metadata": {},
   "outputs": [
    {
     "data": {
      "text/plain": [
       "0.8372561153476525"
      ]
     },
     "execution_count": 12,
     "metadata": {},
     "output_type": "execute_result"
    }
   ],
   "source": [
    "rf_rand.best_score_"
   ]
  },
  {
   "cell_type": "code",
   "execution_count": 13,
   "metadata": {},
   "outputs": [],
   "source": [
    "from sklearn.metrics import roc_curve\n",
    "\n",
    "def roc_plot(e,x,y):\n",
    "    \"\"\"e is estimator, x is data and y is true value\"\"\"\n",
    "\n",
    "    #predicting from model\n",
    "    y_pred = e.predict_proba(x)[:,1]\n",
    "\n",
    "    #finding curve\n",
    "    fpr, tpr, t = roc_curve(y, y_pred)\n",
    "    sns.lineplot(x=fpr,y=tpr)\n",
    "    plt.xlabel('false positive rate')\n",
    "    plt.ylabel('true positive rate')\n",
    "    plt.title('Compute Receiver Operating Characteristic Curve')\n",
    "    return pd.DataFrame({'fpr':fpr,'tpr':tpr,'threshold':t})\n",
    "\n",
    "    \n"
   ]
  },
  {
   "cell_type": "code",
   "execution_count": 14,
   "metadata": {},
   "outputs": [
    {
     "data": {
      "image/png": "[encoded data removed]",
      "text/plain": [
       "<Figure size 432x288 with 1 Axes>"
      ]
     },
     "metadata": {},
     "output_type": "display_data"
    }
   ],
   "source": [
    "est = rf_rand.best_estimator_\n",
    "c = roc_plot(est, X_train, y_train)"
   ]
  },
  {
   "cell_type": "markdown",
   "metadata": {},
   "source": [
    "***Comparing to test set***"
   ]
  },
  {
   "cell_type": "code",
   "execution_count": 15,
   "metadata": {},
   "outputs": [
    {
     "name": "stdout",
     "output_type": "stream",
     "text": [
      "Evaluating the classifier on the test set, area under the roc curve is: 0.832\n"
     ]
    }
   ],
   "source": [
    "from sklearn.metrics import roc_auc_score\n",
    "\n",
    "\n",
    "def test_comp(e):\n",
    "    #predicting probability from test set\n",
    "    y_pred = e.predict_proba(X_test)[:,1]\n",
    "    \n",
    "    \n",
    "    r = np.round(roc_auc_score(y_test,y_pred),3)\n",
    "    \n",
    "    print('Evaluating the classifier on the test set, area under the roc curve is: ' +  \n",
    "           '{}'.format(r))\n",
    "\n",
    "test_comp(rf_rand.best_estimator_)"
   ]
  },
  {
   "cell_type": "markdown",
   "metadata": {},
   "source": [
    "<h3>Random Forest first results</h3>\n",
    "\n",
    "The classifier has decent performance. Let's see if with more parameters and a larger search I can improve the results even further."
   ]
  },
  {
   "cell_type": "code",
   "execution_count": 16,
   "metadata": {
    "scrolled": true
   },
   "outputs": [
    {
     "name": "stdout",
     "output_type": "stream",
     "text": [
      "Fitting 4 folds for each of 50 candidates, totalling 200 fits\n"
     ]
    },
    {
     "name": "stderr",
     "output_type": "stream",
     "text": [
      "[Parallel(n_jobs=-1)]: Using backend LokyBackend with 8 concurrent workers.\n",
      "[Parallel(n_jobs=-1)]: Done   2 tasks      | elapsed:    1.8s\n",
      "[Parallel(n_jobs=-1)]: Done   9 tasks      | elapsed:    5.5s\n",
      "[Parallel(n_jobs=-1)]: Done  16 tasks      | elapsed:    7.0s\n",
      "[Parallel(n_jobs=-1)]: Done  25 tasks      | elapsed:   15.8s\n",
      "[Parallel(n_jobs=-1)]: Done  34 tasks      | elapsed:   19.2s\n",
      "[Parallel(n_jobs=-1)]: Done  45 tasks      | elapsed:   28.3s\n",
      "[Parallel(n_jobs=-1)]: Done  56 tasks      | elapsed:   36.4s\n",
      "[Parallel(n_jobs=-1)]: Done  69 tasks      | elapsed:   46.4s\n",
      "[Parallel(n_jobs=-1)]: Done  82 tasks      | elapsed:   59.7s\n",
      "[Parallel(n_jobs=-1)]: Done  97 tasks      | elapsed:  1.1min\n",
      "[Parallel(n_jobs=-1)]: Done 112 tasks      | elapsed:  1.3min\n",
      "[Parallel(n_jobs=-1)]: Done 129 tasks      | elapsed:  1.6min\n",
      "[Parallel(n_jobs=-1)]: Done 146 tasks      | elapsed:  1.9min\n",
      "[Parallel(n_jobs=-1)]: Done 165 tasks      | elapsed:  2.2min\n",
      "[Parallel(n_jobs=-1)]: Done 184 tasks      | elapsed:  2.4min\n",
      "[Parallel(n_jobs=-1)]: Done 200 out of 200 | elapsed:  2.6min finished\n"
     ]
    },
    {
     "data": {
      "text/plain": [
       "RandomizedSearchCV(cv=4,\n",
       "                   estimator=Pipeline(steps=[('standardscaler',\n",
       "                                              StandardScaler()),\n",
       "                                             ('randomforestclassifier',\n",
       "                                              RandomForestClassifier())]),\n",
       "                   n_iter=50, n_jobs=-1,\n",
       "                   param_distributions={'randomforestclassifier__max_depth': array([ 1,  2,  3,  4,  5,  6,  7,  8,  9, 10, 11, 12, 13]),\n",
       "                                        'randomforestclassifier__n_estimators': array([  50,   51,   52, ..., 1997, 1998, 1999])},\n",
       "                   random_state=42, scoring='roc_auc', verbose=10)"
      ]
     },
     "execution_count": 16,
     "metadata": {},
     "output_type": "execute_result"
    }
   ],
   "source": [
    "params = {'randomforestclassifier__n_estimators': np.arange(50,2000),\n",
    "         'randomforestclassifier__max_depth' :  np.arange(1,14)}\n",
    "\n",
    "rf_rand_two = RandomizedSearchCV(pipe,param_distributions=params,cv=4, n_jobs=-1, scoring = 'roc_auc',n_iter=50,\n",
    "                            random_state = 42, verbose = 10)\n",
    "rf_rand_two.fit(X_train,y_train)"
   ]
  },
  {
   "cell_type": "code",
   "execution_count": 17,
   "metadata": {},
   "outputs": [
    {
     "data": {
      "image/png": "[encoded data removed]",
      "text/plain": [
       "<Figure size 432x288 with 1 Axes>"
      ]
     },
     "metadata": {},
     "output_type": "display_data"
    }
   ],
   "source": [
    "c = roc_plot(rf_rand_two.best_estimator_,X_train,y_train)\n"
   ]
  },
  {
   "cell_type": "code",
   "execution_count": 18,
   "metadata": {},
   "outputs": [
    {
     "data": {
      "text/plain": [
       "{'randomforestclassifier__n_estimators': 1663,\n",
       " 'randomforestclassifier__max_depth': 6}"
      ]
     },
     "execution_count": 18,
     "metadata": {},
     "output_type": "execute_result"
    }
   ],
   "source": [
    "rf_rand_two.best_params_"
   ]
  },
  {
   "cell_type": "code",
   "execution_count": 19,
   "metadata": {},
   "outputs": [
    {
     "data": {
      "text/plain": [
       "0.8368736758888845"
      ]
     },
     "execution_count": 19,
     "metadata": {},
     "output_type": "execute_result"
    }
   ],
   "source": [
    "rf_rand_two.best_score_"
   ]
  },
  {
   "cell_type": "code",
   "execution_count": 20,
   "metadata": {},
   "outputs": [
    {
     "name": "stdout",
     "output_type": "stream",
     "text": [
      "Evaluating the classifier on the test set, area under the roc curve is: 0.831\n"
     ]
    }
   ],
   "source": [
    "test_comp(rf_rand_two.best_estimator_)"
   ]
  },
  {
   "cell_type": "code",
   "execution_count": 21,
   "metadata": {},
   "outputs": [
    {
     "data": {
      "text/html": [
       "<div>\n",
       "<style scoped>\n",
       "    .dataframe tbody tr th:only-of-type {\n",
       "        vertical-align: middle;\n",
       "    }\n",
       "\n",
       "    .dataframe tbody tr th {\n",
       "        vertical-align: top;\n",
       "    }\n",
       "\n",
       "    .dataframe thead th {\n",
       "        text-align: right;\n",
       "    }\n",
       "</style>\n",
       "<table border=\"1\" class=\"dataframe\">\n",
       "  <thead>\n",
       "    <tr style=\"text-align: right;\">\n",
       "      <th></th>\n",
       "      <th>mean_fit_time</th>\n",
       "      <th>std_fit_time</th>\n",
       "      <th>mean_score_time</th>\n",
       "      <th>std_score_time</th>\n",
       "      <th>param_randomforestclassifier__n_estimators</th>\n",
       "      <th>param_randomforestclassifier__max_depth</th>\n",
       "      <th>params</th>\n",
       "      <th>split0_test_score</th>\n",
       "      <th>split1_test_score</th>\n",
       "      <th>split2_test_score</th>\n",
       "      <th>split3_test_score</th>\n",
       "      <th>mean_test_score</th>\n",
       "      <th>std_test_score</th>\n",
       "      <th>rank_test_score</th>\n",
       "    </tr>\n",
       "  </thead>\n",
       "  <tbody>\n",
       "    <tr>\n",
       "      <th>13</th>\n",
       "      <td>10.224396</td>\n",
       "      <td>0.037096</td>\n",
       "      <td>0.670138</td>\n",
       "      <td>0.006031</td>\n",
       "      <td>1663</td>\n",
       "      <td>6</td>\n",
       "      <td>{'randomforestclassifier__n_estimators': 1663,...</td>\n",
       "      <td>0.836870</td>\n",
       "      <td>0.839183</td>\n",
       "      <td>0.863839</td>\n",
       "      <td>0.807603</td>\n",
       "      <td>0.836874</td>\n",
       "      <td>0.019933</td>\n",
       "      <td>1</td>\n",
       "    </tr>\n",
       "    <tr>\n",
       "      <th>40</th>\n",
       "      <td>10.561408</td>\n",
       "      <td>0.062106</td>\n",
       "      <td>0.684801</td>\n",
       "      <td>0.016026</td>\n",
       "      <td>1694</td>\n",
       "      <td>6</td>\n",
       "      <td>{'randomforestclassifier__n_estimators': 1694,...</td>\n",
       "      <td>0.837829</td>\n",
       "      <td>0.839197</td>\n",
       "      <td>0.863604</td>\n",
       "      <td>0.806722</td>\n",
       "      <td>0.836838</td>\n",
       "      <td>0.020186</td>\n",
       "      <td>2</td>\n",
       "    </tr>\n",
       "    <tr>\n",
       "      <th>49</th>\n",
       "      <td>3.225300</td>\n",
       "      <td>0.042242</td>\n",
       "      <td>0.145488</td>\n",
       "      <td>0.000566</td>\n",
       "      <td>553</td>\n",
       "      <td>6</td>\n",
       "      <td>{'randomforestclassifier__n_estimators': 553, ...</td>\n",
       "      <td>0.837316</td>\n",
       "      <td>0.838937</td>\n",
       "      <td>0.863632</td>\n",
       "      <td>0.807425</td>\n",
       "      <td>0.836827</td>\n",
       "      <td>0.019923</td>\n",
       "      <td>3</td>\n",
       "    </tr>\n",
       "    <tr>\n",
       "      <th>6</th>\n",
       "      <td>9.466558</td>\n",
       "      <td>0.052931</td>\n",
       "      <td>0.656892</td>\n",
       "      <td>0.009028</td>\n",
       "      <td>1584</td>\n",
       "      <td>6</td>\n",
       "      <td>{'randomforestclassifier__n_estimators': 1584,...</td>\n",
       "      <td>0.836674</td>\n",
       "      <td>0.839163</td>\n",
       "      <td>0.864564</td>\n",
       "      <td>0.806540</td>\n",
       "      <td>0.836735</td>\n",
       "      <td>0.020568</td>\n",
       "      <td>4</td>\n",
       "    </tr>\n",
       "    <tr>\n",
       "      <th>48</th>\n",
       "      <td>5.225202</td>\n",
       "      <td>0.015540</td>\n",
       "      <td>0.316870</td>\n",
       "      <td>0.013596</td>\n",
       "      <td>855</td>\n",
       "      <td>6</td>\n",
       "      <td>{'randomforestclassifier__n_estimators': 855, ...</td>\n",
       "      <td>0.836778</td>\n",
       "      <td>0.839842</td>\n",
       "      <td>0.863347</td>\n",
       "      <td>0.806606</td>\n",
       "      <td>0.836643</td>\n",
       "      <td>0.020159</td>\n",
       "      <td>5</td>\n",
       "    </tr>\n",
       "    <tr>\n",
       "      <th>46</th>\n",
       "      <td>5.740561</td>\n",
       "      <td>0.044289</td>\n",
       "      <td>0.383345</td>\n",
       "      <td>0.004792</td>\n",
       "      <td>927</td>\n",
       "      <td>6</td>\n",
       "      <td>{'randomforestclassifier__n_estimators': 927, ...</td>\n",
       "      <td>0.836874</td>\n",
       "      <td>0.838472</td>\n",
       "      <td>0.864724</td>\n",
       "      <td>0.806162</td>\n",
       "      <td>0.836558</td>\n",
       "      <td>0.020743</td>\n",
       "      <td>6</td>\n",
       "    </tr>\n",
       "    <tr>\n",
       "      <th>5</th>\n",
       "      <td>2.012522</td>\n",
       "      <td>0.018769</td>\n",
       "      <td>0.128005</td>\n",
       "      <td>0.002029</td>\n",
       "      <td>314</td>\n",
       "      <td>7</td>\n",
       "      <td>{'randomforestclassifier__n_estimators': 314, ...</td>\n",
       "      <td>0.833506</td>\n",
       "      <td>0.841721</td>\n",
       "      <td>0.860629</td>\n",
       "      <td>0.809144</td>\n",
       "      <td>0.836250</td>\n",
       "      <td>0.018483</td>\n",
       "      <td>7</td>\n",
       "    </tr>\n",
       "    <tr>\n",
       "      <th>43</th>\n",
       "      <td>6.376572</td>\n",
       "      <td>0.027474</td>\n",
       "      <td>0.431480</td>\n",
       "      <td>0.006282</td>\n",
       "      <td>1088</td>\n",
       "      <td>5</td>\n",
       "      <td>{'randomforestclassifier__n_estimators': 1088,...</td>\n",
       "      <td>0.839482</td>\n",
       "      <td>0.833618</td>\n",
       "      <td>0.862971</td>\n",
       "      <td>0.805386</td>\n",
       "      <td>0.835364</td>\n",
       "      <td>0.020499</td>\n",
       "      <td>8</td>\n",
       "    </tr>\n",
       "    <tr>\n",
       "      <th>47</th>\n",
       "      <td>6.091259</td>\n",
       "      <td>0.035317</td>\n",
       "      <td>0.387766</td>\n",
       "      <td>0.003954</td>\n",
       "      <td>1042</td>\n",
       "      <td>5</td>\n",
       "      <td>{'randomforestclassifier__n_estimators': 1042,...</td>\n",
       "      <td>0.839362</td>\n",
       "      <td>0.833255</td>\n",
       "      <td>0.861292</td>\n",
       "      <td>0.805817</td>\n",
       "      <td>0.834932</td>\n",
       "      <td>0.019780</td>\n",
       "      <td>9</td>\n",
       "    </tr>\n",
       "    <tr>\n",
       "      <th>15</th>\n",
       "      <td>3.346151</td>\n",
       "      <td>0.023739</td>\n",
       "      <td>0.225375</td>\n",
       "      <td>0.003281</td>\n",
       "      <td>572</td>\n",
       "      <td>5</td>\n",
       "      <td>{'randomforestclassifier__n_estimators': 572, ...</td>\n",
       "      <td>0.839066</td>\n",
       "      <td>0.832646</td>\n",
       "      <td>0.861527</td>\n",
       "      <td>0.805151</td>\n",
       "      <td>0.834598</td>\n",
       "      <td>0.020100</td>\n",
       "      <td>10</td>\n",
       "    </tr>\n",
       "    <tr>\n",
       "      <th>12</th>\n",
       "      <td>5.598684</td>\n",
       "      <td>0.017554</td>\n",
       "      <td>0.367596</td>\n",
       "      <td>0.001430</td>\n",
       "      <td>823</td>\n",
       "      <td>8</td>\n",
       "      <td>{'randomforestclassifier__n_estimators': 823, ...</td>\n",
       "      <td>0.830006</td>\n",
       "      <td>0.839995</td>\n",
       "      <td>0.858730</td>\n",
       "      <td>0.809593</td>\n",
       "      <td>0.834581</td>\n",
       "      <td>0.017733</td>\n",
       "      <td>11</td>\n",
       "    </tr>\n",
       "    <tr>\n",
       "      <th>27</th>\n",
       "      <td>5.786599</td>\n",
       "      <td>0.016068</td>\n",
       "      <td>0.365194</td>\n",
       "      <td>0.004699</td>\n",
       "      <td>916</td>\n",
       "      <td>5</td>\n",
       "      <td>{'randomforestclassifier__n_estimators': 916, ...</td>\n",
       "      <td>0.838061</td>\n",
       "      <td>0.832728</td>\n",
       "      <td>0.862508</td>\n",
       "      <td>0.804376</td>\n",
       "      <td>0.834418</td>\n",
       "      <td>0.020662</td>\n",
       "      <td>12</td>\n",
       "    </tr>\n",
       "    <tr>\n",
       "      <th>44</th>\n",
       "      <td>6.151771</td>\n",
       "      <td>0.033065</td>\n",
       "      <td>0.394078</td>\n",
       "      <td>0.003713</td>\n",
       "      <td>902</td>\n",
       "      <td>8</td>\n",
       "      <td>{'randomforestclassifier__n_estimators': 902, ...</td>\n",
       "      <td>0.829043</td>\n",
       "      <td>0.840239</td>\n",
       "      <td>0.856846</td>\n",
       "      <td>0.807878</td>\n",
       "      <td>0.833502</td>\n",
       "      <td>0.017796</td>\n",
       "      <td>13</td>\n",
       "    </tr>\n",
       "    <tr>\n",
       "      <th>26</th>\n",
       "      <td>3.782452</td>\n",
       "      <td>0.013131</td>\n",
       "      <td>0.261597</td>\n",
       "      <td>0.001961</td>\n",
       "      <td>596</td>\n",
       "      <td>4</td>\n",
       "      <td>{'randomforestclassifier__n_estimators': 596, ...</td>\n",
       "      <td>0.840790</td>\n",
       "      <td>0.823230</td>\n",
       "      <td>0.858903</td>\n",
       "      <td>0.804673</td>\n",
       "      <td>0.831899</td>\n",
       "      <td>0.020154</td>\n",
       "      <td>14</td>\n",
       "    </tr>\n",
       "    <tr>\n",
       "      <th>22</th>\n",
       "      <td>3.495517</td>\n",
       "      <td>0.014077</td>\n",
       "      <td>0.252587</td>\n",
       "      <td>0.016015</td>\n",
       "      <td>620</td>\n",
       "      <td>4</td>\n",
       "      <td>{'randomforestclassifier__n_estimators': 620, ...</td>\n",
       "      <td>0.840420</td>\n",
       "      <td>0.822368</td>\n",
       "      <td>0.858012</td>\n",
       "      <td>0.803494</td>\n",
       "      <td>0.831073</td>\n",
       "      <td>0.020307</td>\n",
       "      <td>15</td>\n",
       "    </tr>\n",
       "    <tr>\n",
       "      <th>9</th>\n",
       "      <td>9.268795</td>\n",
       "      <td>0.067295</td>\n",
       "      <td>0.573821</td>\n",
       "      <td>0.016567</td>\n",
       "      <td>1300</td>\n",
       "      <td>9</td>\n",
       "      <td>{'randomforestclassifier__n_estimators': 1300,...</td>\n",
       "      <td>0.823287</td>\n",
       "      <td>0.836349</td>\n",
       "      <td>0.855089</td>\n",
       "      <td>0.808072</td>\n",
       "      <td>0.830699</td>\n",
       "      <td>0.017275</td>\n",
       "      <td>16</td>\n",
       "    </tr>\n",
       "    <tr>\n",
       "      <th>8</th>\n",
       "      <td>2.521617</td>\n",
       "      <td>0.020283</td>\n",
       "      <td>0.177842</td>\n",
       "      <td>0.003245</td>\n",
       "      <td>465</td>\n",
       "      <td>4</td>\n",
       "      <td>{'randomforestclassifier__n_estimators': 465, ...</td>\n",
       "      <td>0.841264</td>\n",
       "      <td>0.820975</td>\n",
       "      <td>0.855706</td>\n",
       "      <td>0.804091</td>\n",
       "      <td>0.830509</td>\n",
       "      <td>0.019617</td>\n",
       "      <td>17</td>\n",
       "    </tr>\n",
       "    <tr>\n",
       "      <th>14</th>\n",
       "      <td>3.241470</td>\n",
       "      <td>0.013828</td>\n",
       "      <td>0.208052</td>\n",
       "      <td>0.003019</td>\n",
       "      <td>473</td>\n",
       "      <td>9</td>\n",
       "      <td>{'randomforestclassifier__n_estimators': 473, ...</td>\n",
       "      <td>0.823303</td>\n",
       "      <td>0.837368</td>\n",
       "      <td>0.853456</td>\n",
       "      <td>0.807160</td>\n",
       "      <td>0.830322</td>\n",
       "      <td>0.017107</td>\n",
       "      <td>18</td>\n",
       "    </tr>\n",
       "    <tr>\n",
       "      <th>1</th>\n",
       "      <td>1.669409</td>\n",
       "      <td>0.029492</td>\n",
       "      <td>0.111903</td>\n",
       "      <td>0.001734</td>\n",
       "      <td>245</td>\n",
       "      <td>9</td>\n",
       "      <td>{'randomforestclassifier__n_estimators': 245, ...</td>\n",
       "      <td>0.819583</td>\n",
       "      <td>0.837469</td>\n",
       "      <td>0.855335</td>\n",
       "      <td>0.806250</td>\n",
       "      <td>0.829659</td>\n",
       "      <td>0.018505</td>\n",
       "      <td>19</td>\n",
       "    </tr>\n",
       "    <tr>\n",
       "      <th>39</th>\n",
       "      <td>3.187121</td>\n",
       "      <td>0.027478</td>\n",
       "      <td>0.202901</td>\n",
       "      <td>0.003447</td>\n",
       "      <td>412</td>\n",
       "      <td>10</td>\n",
       "      <td>{'randomforestclassifier__n_estimators': 412, ...</td>\n",
       "      <td>0.817861</td>\n",
       "      <td>0.833855</td>\n",
       "      <td>0.853180</td>\n",
       "      <td>0.806415</td>\n",
       "      <td>0.827828</td>\n",
       "      <td>0.017585</td>\n",
       "      <td>20</td>\n",
       "    </tr>\n",
       "    <tr>\n",
       "      <th>33</th>\n",
       "      <td>11.748766</td>\n",
       "      <td>0.030805</td>\n",
       "      <td>0.747448</td>\n",
       "      <td>0.006276</td>\n",
       "      <td>1618</td>\n",
       "      <td>10</td>\n",
       "      <td>{'randomforestclassifier__n_estimators': 1618,...</td>\n",
       "      <td>0.817541</td>\n",
       "      <td>0.832815</td>\n",
       "      <td>0.851605</td>\n",
       "      <td>0.807386</td>\n",
       "      <td>0.827337</td>\n",
       "      <td>0.016680</td>\n",
       "      <td>21</td>\n",
       "    </tr>\n",
       "    <tr>\n",
       "      <th>30</th>\n",
       "      <td>6.895411</td>\n",
       "      <td>0.052098</td>\n",
       "      <td>0.435310</td>\n",
       "      <td>0.003852</td>\n",
       "      <td>931</td>\n",
       "      <td>10</td>\n",
       "      <td>{'randomforestclassifier__n_estimators': 931, ...</td>\n",
       "      <td>0.815193</td>\n",
       "      <td>0.832940</td>\n",
       "      <td>0.851630</td>\n",
       "      <td>0.808401</td>\n",
       "      <td>0.827041</td>\n",
       "      <td>0.016787</td>\n",
       "      <td>22</td>\n",
       "    </tr>\n",
       "    <tr>\n",
       "      <th>28</th>\n",
       "      <td>10.952981</td>\n",
       "      <td>0.066805</td>\n",
       "      <td>0.669241</td>\n",
       "      <td>0.005423</td>\n",
       "      <td>1442</td>\n",
       "      <td>10</td>\n",
       "      <td>{'randomforestclassifier__n_estimators': 1442,...</td>\n",
       "      <td>0.816562</td>\n",
       "      <td>0.832633</td>\n",
       "      <td>0.851627</td>\n",
       "      <td>0.806421</td>\n",
       "      <td>0.826811</td>\n",
       "      <td>0.017107</td>\n",
       "      <td>23</td>\n",
       "    </tr>\n",
       "    <tr>\n",
       "      <th>23</th>\n",
       "      <td>0.648910</td>\n",
       "      <td>0.019341</td>\n",
       "      <td>0.045890</td>\n",
       "      <td>0.002972</td>\n",
       "      <td>68</td>\n",
       "      <td>10</td>\n",
       "      <td>{'randomforestclassifier__n_estimators': 68, '...</td>\n",
       "      <td>0.820829</td>\n",
       "      <td>0.833127</td>\n",
       "      <td>0.849204</td>\n",
       "      <td>0.802694</td>\n",
       "      <td>0.826464</td>\n",
       "      <td>0.017017</td>\n",
       "      <td>24</td>\n",
       "    </tr>\n",
       "    <tr>\n",
       "      <th>25</th>\n",
       "      <td>2.785476</td>\n",
       "      <td>0.025635</td>\n",
       "      <td>0.175160</td>\n",
       "      <td>0.007219</td>\n",
       "      <td>319</td>\n",
       "      <td>11</td>\n",
       "      <td>{'randomforestclassifier__n_estimators': 319, ...</td>\n",
       "      <td>0.814214</td>\n",
       "      <td>0.829413</td>\n",
       "      <td>0.849400</td>\n",
       "      <td>0.805024</td>\n",
       "      <td>0.824513</td>\n",
       "      <td>0.016802</td>\n",
       "      <td>25</td>\n",
       "    </tr>\n",
       "    <tr>\n",
       "      <th>35</th>\n",
       "      <td>13.017448</td>\n",
       "      <td>0.077285</td>\n",
       "      <td>0.771323</td>\n",
       "      <td>0.004429</td>\n",
       "      <td>1592</td>\n",
       "      <td>11</td>\n",
       "      <td>{'randomforestclassifier__n_estimators': 1592,...</td>\n",
       "      <td>0.813370</td>\n",
       "      <td>0.829386</td>\n",
       "      <td>0.847305</td>\n",
       "      <td>0.807379</td>\n",
       "      <td>0.824360</td>\n",
       "      <td>0.015499</td>\n",
       "      <td>26</td>\n",
       "    </tr>\n",
       "    <tr>\n",
       "      <th>24</th>\n",
       "      <td>12.599461</td>\n",
       "      <td>0.096365</td>\n",
       "      <td>0.711959</td>\n",
       "      <td>0.004349</td>\n",
       "      <td>1489</td>\n",
       "      <td>11</td>\n",
       "      <td>{'randomforestclassifier__n_estimators': 1489,...</td>\n",
       "      <td>0.812184</td>\n",
       "      <td>0.830439</td>\n",
       "      <td>0.846869</td>\n",
       "      <td>0.806930</td>\n",
       "      <td>0.824105</td>\n",
       "      <td>0.015775</td>\n",
       "      <td>27</td>\n",
       "    </tr>\n",
       "    <tr>\n",
       "      <th>21</th>\n",
       "      <td>6.210128</td>\n",
       "      <td>0.030000</td>\n",
       "      <td>0.555998</td>\n",
       "      <td>0.021586</td>\n",
       "      <td>1201</td>\n",
       "      <td>3</td>\n",
       "      <td>{'randomforestclassifier__n_estimators': 1201,...</td>\n",
       "      <td>0.840726</td>\n",
       "      <td>0.805373</td>\n",
       "      <td>0.851192</td>\n",
       "      <td>0.797502</td>\n",
       "      <td>0.823698</td>\n",
       "      <td>0.022737</td>\n",
       "      <td>28</td>\n",
       "    </tr>\n",
       "    <tr>\n",
       "      <th>20</th>\n",
       "      <td>7.593499</td>\n",
       "      <td>0.056160</td>\n",
       "      <td>0.508176</td>\n",
       "      <td>0.005714</td>\n",
       "      <td>1461</td>\n",
       "      <td>3</td>\n",
       "      <td>{'randomforestclassifier__n_estimators': 1461,...</td>\n",
       "      <td>0.840218</td>\n",
       "      <td>0.804789</td>\n",
       "      <td>0.850581</td>\n",
       "      <td>0.798391</td>\n",
       "      <td>0.823495</td>\n",
       "      <td>0.022324</td>\n",
       "      <td>29</td>\n",
       "    </tr>\n",
       "    <tr>\n",
       "      <th>3</th>\n",
       "      <td>7.298430</td>\n",
       "      <td>0.011942</td>\n",
       "      <td>0.514243</td>\n",
       "      <td>0.003218</td>\n",
       "      <td>1540</td>\n",
       "      <td>3</td>\n",
       "      <td>{'randomforestclassifier__n_estimators': 1540,...</td>\n",
       "      <td>0.838847</td>\n",
       "      <td>0.805286</td>\n",
       "      <td>0.851231</td>\n",
       "      <td>0.797723</td>\n",
       "      <td>0.823272</td>\n",
       "      <td>0.022364</td>\n",
       "      <td>30</td>\n",
       "    </tr>\n",
       "    <tr>\n",
       "      <th>10</th>\n",
       "      <td>2.930094</td>\n",
       "      <td>0.015611</td>\n",
       "      <td>0.205894</td>\n",
       "      <td>0.004020</td>\n",
       "      <td>576</td>\n",
       "      <td>3</td>\n",
       "      <td>{'randomforestclassifier__n_estimators': 576, ...</td>\n",
       "      <td>0.840089</td>\n",
       "      <td>0.805562</td>\n",
       "      <td>0.850784</td>\n",
       "      <td>0.796558</td>\n",
       "      <td>0.823248</td>\n",
       "      <td>0.022732</td>\n",
       "      <td>31</td>\n",
       "    </tr>\n",
       "    <tr>\n",
       "      <th>7</th>\n",
       "      <td>5.262704</td>\n",
       "      <td>0.028247</td>\n",
       "      <td>0.327413</td>\n",
       "      <td>0.004242</td>\n",
       "      <td>718</td>\n",
       "      <td>12</td>\n",
       "      <td>{'randomforestclassifier__n_estimators': 718, ...</td>\n",
       "      <td>0.810425</td>\n",
       "      <td>0.825948</td>\n",
       "      <td>0.843308</td>\n",
       "      <td>0.804151</td>\n",
       "      <td>0.820958</td>\n",
       "      <td>0.015148</td>\n",
       "      <td>32</td>\n",
       "    </tr>\n",
       "    <tr>\n",
       "      <th>18</th>\n",
       "      <td>15.459204</td>\n",
       "      <td>0.115360</td>\n",
       "      <td>0.969737</td>\n",
       "      <td>0.010913</td>\n",
       "      <td>1933</td>\n",
       "      <td>12</td>\n",
       "      <td>{'randomforestclassifier__n_estimators': 1933,...</td>\n",
       "      <td>0.807120</td>\n",
       "      <td>0.825366</td>\n",
       "      <td>0.844272</td>\n",
       "      <td>0.805329</td>\n",
       "      <td>0.820522</td>\n",
       "      <td>0.015795</td>\n",
       "      <td>33</td>\n",
       "    </tr>\n",
       "    <tr>\n",
       "      <th>45</th>\n",
       "      <td>2.899245</td>\n",
       "      <td>0.021978</td>\n",
       "      <td>0.186815</td>\n",
       "      <td>0.003399</td>\n",
       "      <td>377</td>\n",
       "      <td>12</td>\n",
       "      <td>{'randomforestclassifier__n_estimators': 377, ...</td>\n",
       "      <td>0.806900</td>\n",
       "      <td>0.825679</td>\n",
       "      <td>0.841557</td>\n",
       "      <td>0.805692</td>\n",
       "      <td>0.819957</td>\n",
       "      <td>0.014776</td>\n",
       "      <td>34</td>\n",
       "    </tr>\n",
       "    <tr>\n",
       "      <th>11</th>\n",
       "      <td>4.332938</td>\n",
       "      <td>0.042480</td>\n",
       "      <td>0.271001</td>\n",
       "      <td>0.006507</td>\n",
       "      <td>562</td>\n",
       "      <td>12</td>\n",
       "      <td>{'randomforestclassifier__n_estimators': 562, ...</td>\n",
       "      <td>0.808709</td>\n",
       "      <td>0.828022</td>\n",
       "      <td>0.841837</td>\n",
       "      <td>0.799848</td>\n",
       "      <td>0.819604</td>\n",
       "      <td>0.016387</td>\n",
       "      <td>35</td>\n",
       "    </tr>\n",
       "    <tr>\n",
       "      <th>4</th>\n",
       "      <td>1.293573</td>\n",
       "      <td>0.009873</td>\n",
       "      <td>0.085529</td>\n",
       "      <td>0.000341</td>\n",
       "      <td>175</td>\n",
       "      <td>12</td>\n",
       "      <td>{'randomforestclassifier__n_estimators': 175, ...</td>\n",
       "      <td>0.805407</td>\n",
       "      <td>0.823109</td>\n",
       "      <td>0.837669</td>\n",
       "      <td>0.806501</td>\n",
       "      <td>0.818172</td>\n",
       "      <td>0.013263</td>\n",
       "      <td>36</td>\n",
       "    </tr>\n",
       "    <tr>\n",
       "      <th>29</th>\n",
       "      <td>7.188568</td>\n",
       "      <td>0.060493</td>\n",
       "      <td>0.446638</td>\n",
       "      <td>0.013696</td>\n",
       "      <td>883</td>\n",
       "      <td>13</td>\n",
       "      <td>{'randomforestclassifier__n_estimators': 883, ...</td>\n",
       "      <td>0.804483</td>\n",
       "      <td>0.821891</td>\n",
       "      <td>0.841117</td>\n",
       "      <td>0.803423</td>\n",
       "      <td>0.817729</td>\n",
       "      <td>0.015366</td>\n",
       "      <td>37</td>\n",
       "    </tr>\n",
       "    <tr>\n",
       "      <th>0</th>\n",
       "      <td>2.263795</td>\n",
       "      <td>0.025221</td>\n",
       "      <td>0.147678</td>\n",
       "      <td>0.003332</td>\n",
       "      <td>304</td>\n",
       "      <td>13</td>\n",
       "      <td>{'randomforestclassifier__n_estimators': 304, ...</td>\n",
       "      <td>0.797571</td>\n",
       "      <td>0.827922</td>\n",
       "      <td>0.832035</td>\n",
       "      <td>0.802648</td>\n",
       "      <td>0.815044</td>\n",
       "      <td>0.015112</td>\n",
       "      <td>38</td>\n",
       "    </tr>\n",
       "    <tr>\n",
       "      <th>37</th>\n",
       "      <td>6.606308</td>\n",
       "      <td>0.056502</td>\n",
       "      <td>0.372853</td>\n",
       "      <td>0.007890</td>\n",
       "      <td>768</td>\n",
       "      <td>13</td>\n",
       "      <td>{'randomforestclassifier__n_estimators': 768, ...</td>\n",
       "      <td>0.799381</td>\n",
       "      <td>0.823456</td>\n",
       "      <td>0.836543</td>\n",
       "      <td>0.799971</td>\n",
       "      <td>0.814838</td>\n",
       "      <td>0.015853</td>\n",
       "      <td>39</td>\n",
       "    </tr>\n",
       "    <tr>\n",
       "      <th>41</th>\n",
       "      <td>7.288278</td>\n",
       "      <td>0.014165</td>\n",
       "      <td>0.533405</td>\n",
       "      <td>0.016782</td>\n",
       "      <td>1656</td>\n",
       "      <td>2</td>\n",
       "      <td>{'randomforestclassifier__n_estimators': 1656,...</td>\n",
       "      <td>0.835982</td>\n",
       "      <td>0.787536</td>\n",
       "      <td>0.845207</td>\n",
       "      <td>0.785153</td>\n",
       "      <td>0.813470</td>\n",
       "      <td>0.027333</td>\n",
       "      <td>40</td>\n",
       "    </tr>\n",
       "    <tr>\n",
       "      <th>34</th>\n",
       "      <td>4.866835</td>\n",
       "      <td>0.018805</td>\n",
       "      <td>0.353859</td>\n",
       "      <td>0.003140</td>\n",
       "      <td>1105</td>\n",
       "      <td>2</td>\n",
       "      <td>{'randomforestclassifier__n_estimators': 1105,...</td>\n",
       "      <td>0.836856</td>\n",
       "      <td>0.787342</td>\n",
       "      <td>0.845492</td>\n",
       "      <td>0.783462</td>\n",
       "      <td>0.813288</td>\n",
       "      <td>0.028086</td>\n",
       "      <td>41</td>\n",
       "    </tr>\n",
       "    <tr>\n",
       "      <th>31</th>\n",
       "      <td>3.787580</td>\n",
       "      <td>0.015730</td>\n",
       "      <td>0.274808</td>\n",
       "      <td>0.003702</td>\n",
       "      <td>847</td>\n",
       "      <td>2</td>\n",
       "      <td>{'randomforestclassifier__n_estimators': 847, ...</td>\n",
       "      <td>0.838192</td>\n",
       "      <td>0.786697</td>\n",
       "      <td>0.843919</td>\n",
       "      <td>0.783952</td>\n",
       "      <td>0.813190</td>\n",
       "      <td>0.027956</td>\n",
       "      <td>42</td>\n",
       "    </tr>\n",
       "    <tr>\n",
       "      <th>42</th>\n",
       "      <td>8.869233</td>\n",
       "      <td>0.025160</td>\n",
       "      <td>0.658429</td>\n",
       "      <td>0.018383</td>\n",
       "      <td>1990</td>\n",
       "      <td>2</td>\n",
       "      <td>{'randomforestclassifier__n_estimators': 1990,...</td>\n",
       "      <td>0.836799</td>\n",
       "      <td>0.786920</td>\n",
       "      <td>0.844714</td>\n",
       "      <td>0.779328</td>\n",
       "      <td>0.811940</td>\n",
       "      <td>0.029076</td>\n",
       "      <td>43</td>\n",
       "    </tr>\n",
       "    <tr>\n",
       "      <th>19</th>\n",
       "      <td>2.524223</td>\n",
       "      <td>0.013895</td>\n",
       "      <td>0.175875</td>\n",
       "      <td>0.003840</td>\n",
       "      <td>533</td>\n",
       "      <td>2</td>\n",
       "      <td>{'randomforestclassifier__n_estimators': 533, ...</td>\n",
       "      <td>0.834775</td>\n",
       "      <td>0.785359</td>\n",
       "      <td>0.842393</td>\n",
       "      <td>0.781022</td>\n",
       "      <td>0.810887</td>\n",
       "      <td>0.027870</td>\n",
       "      <td>44</td>\n",
       "    </tr>\n",
       "    <tr>\n",
       "      <th>36</th>\n",
       "      <td>9.126516</td>\n",
       "      <td>0.013361</td>\n",
       "      <td>0.634573</td>\n",
       "      <td>0.008316</td>\n",
       "      <td>1949</td>\n",
       "      <td>1</td>\n",
       "      <td>{'randomforestclassifier__n_estimators': 1949,...</td>\n",
       "      <td>0.819121</td>\n",
       "      <td>0.762996</td>\n",
       "      <td>0.829940</td>\n",
       "      <td>0.757038</td>\n",
       "      <td>0.792274</td>\n",
       "      <td>0.032551</td>\n",
       "      <td>45</td>\n",
       "    </tr>\n",
       "    <tr>\n",
       "      <th>2</th>\n",
       "      <td>3.358542</td>\n",
       "      <td>0.010797</td>\n",
       "      <td>0.261162</td>\n",
       "      <td>0.004126</td>\n",
       "      <td>910</td>\n",
       "      <td>1</td>\n",
       "      <td>{'randomforestclassifier__n_estimators': 910, ...</td>\n",
       "      <td>0.823156</td>\n",
       "      <td>0.762349</td>\n",
       "      <td>0.826709</td>\n",
       "      <td>0.756722</td>\n",
       "      <td>0.792234</td>\n",
       "      <td>0.032783</td>\n",
       "      <td>46</td>\n",
       "    </tr>\n",
       "    <tr>\n",
       "      <th>16</th>\n",
       "      <td>6.688001</td>\n",
       "      <td>0.027748</td>\n",
       "      <td>0.581908</td>\n",
       "      <td>0.030109</td>\n",
       "      <td>1735</td>\n",
       "      <td>1</td>\n",
       "      <td>{'randomforestclassifier__n_estimators': 1735,...</td>\n",
       "      <td>0.818505</td>\n",
       "      <td>0.766218</td>\n",
       "      <td>0.827450</td>\n",
       "      <td>0.756085</td>\n",
       "      <td>0.792064</td>\n",
       "      <td>0.031280</td>\n",
       "      <td>47</td>\n",
       "    </tr>\n",
       "    <tr>\n",
       "      <th>38</th>\n",
       "      <td>5.287371</td>\n",
       "      <td>0.023750</td>\n",
       "      <td>0.440518</td>\n",
       "      <td>0.025780</td>\n",
       "      <td>1317</td>\n",
       "      <td>1</td>\n",
       "      <td>{'randomforestclassifier__n_estimators': 1317,...</td>\n",
       "      <td>0.819622</td>\n",
       "      <td>0.763728</td>\n",
       "      <td>0.826632</td>\n",
       "      <td>0.757946</td>\n",
       "      <td>0.791982</td>\n",
       "      <td>0.031310</td>\n",
       "      <td>48</td>\n",
       "    </tr>\n",
       "    <tr>\n",
       "      <th>17</th>\n",
       "      <td>3.146912</td>\n",
       "      <td>0.010667</td>\n",
       "      <td>0.242312</td>\n",
       "      <td>0.001023</td>\n",
       "      <td>819</td>\n",
       "      <td>1</td>\n",
       "      <td>{'randomforestclassifier__n_estimators': 819, ...</td>\n",
       "      <td>0.815948</td>\n",
       "      <td>0.764615</td>\n",
       "      <td>0.826369</td>\n",
       "      <td>0.757463</td>\n",
       "      <td>0.791099</td>\n",
       "      <td>0.030390</td>\n",
       "      <td>49</td>\n",
       "    </tr>\n",
       "    <tr>\n",
       "      <th>32</th>\n",
       "      <td>0.930511</td>\n",
       "      <td>0.011183</td>\n",
       "      <td>0.075078</td>\n",
       "      <td>0.000977</td>\n",
       "      <td>239</td>\n",
       "      <td>1</td>\n",
       "      <td>{'randomforestclassifier__n_estimators': 239, ...</td>\n",
       "      <td>0.812869</td>\n",
       "      <td>0.763906</td>\n",
       "      <td>0.825088</td>\n",
       "      <td>0.754435</td>\n",
       "      <td>0.789074</td>\n",
       "      <td>0.030400</td>\n",
       "      <td>50</td>\n",
       "    </tr>\n",
       "  </tbody>\n",
       "</table>\n",
       "</div>"
      ],
      "text/plain": [
       "    mean_fit_time  std_fit_time  mean_score_time  std_score_time  \\\n",
       "13      10.224396      0.037096         0.670138        0.006031   \n",
       "40      10.561408      0.062106         0.684801        0.016026   \n",
       "49       3.225300      0.042242         0.145488        0.000566   \n",
       "6        9.466558      0.052931         0.656892        0.009028   \n",
       "48       5.225202      0.015540         0.316870        0.013596   \n",
       "46       5.740561      0.044289         0.383345        0.004792   \n",
       "5        2.012522      0.018769         0.128005        0.002029   \n",
       "43       6.376572      0.027474         0.431480        0.006282   \n",
       "47       6.091259      0.035317         0.387766        0.003954   \n",
       "15       3.346151      0.023739         0.225375        0.003281   \n",
       "12       5.598684      0.017554         0.367596        0.001430   \n",
       "27       5.786599      0.016068         0.365194        0.004699   \n",
       "44       6.151771      0.033065         0.394078        0.003713   \n",
       "26       3.782452      0.013131         0.261597        0.001961   \n",
       "22       3.495517      0.014077         0.252587        0.016015   \n",
       "9        9.268795      0.067295         0.573821        0.016567   \n",
       "8        2.521617      0.020283         0.177842        0.003245   \n",
       "14       3.241470      0.013828         0.208052        0.003019   \n",
       "1        1.669409      0.029492         0.111903        0.001734   \n",
       "39       3.187121      0.027478         0.202901        0.003447   \n",
       "33      11.748766      0.030805         0.747448        0.006276   \n",
       "30       6.895411      0.052098         0.435310        0.003852   \n",
       "28      10.952981      0.066805         0.669241        0.005423   \n",
       "23       0.648910      0.019341         0.045890        0.002972   \n",
       "25       2.785476      0.025635         0.175160        0.007219   \n",
       "35      13.017448      0.077285         0.771323        0.004429   \n",
       "24      12.599461      0.096365         0.711959        0.004349   \n",
       "21       6.210128      0.030000         0.555998        0.021586   \n",
       "20       7.593499      0.056160         0.508176        0.005714   \n",
       "3        7.298430      0.011942         0.514243        0.003218   \n",
       "10       2.930094      0.015611         0.205894        0.004020   \n",
       "7        5.262704      0.028247         0.327413        0.004242   \n",
       "18      15.459204      0.115360         0.969737        0.010913   \n",
       "45       2.899245      0.021978         0.186815        0.003399   \n",
       "11       4.332938      0.042480         0.271001        0.006507   \n",
       "4        1.293573      0.009873         0.085529        0.000341   \n",
       "29       7.188568      0.060493         0.446638        0.013696   \n",
       "0        2.263795      0.025221         0.147678        0.003332   \n",
       "37       6.606308      0.056502         0.372853        0.007890   \n",
       "41       7.288278      0.014165         0.533405        0.016782   \n",
       "34       4.866835      0.018805         0.353859        0.003140   \n",
       "31       3.787580      0.015730         0.274808        0.003702   \n",
       "42       8.869233      0.025160         0.658429        0.018383   \n",
       "19       2.524223      0.013895         0.175875        0.003840   \n",
       "36       9.126516      0.013361         0.634573        0.008316   \n",
       "2        3.358542      0.010797         0.261162        0.004126   \n",
       "16       6.688001      0.027748         0.581908        0.030109   \n",
       "38       5.287371      0.023750         0.440518        0.025780   \n",
       "17       3.146912      0.010667         0.242312        0.001023   \n",
       "32       0.930511      0.011183         0.075078        0.000977   \n",
       "\n",
       "   param_randomforestclassifier__n_estimators  \\\n",
       "13                                       1663   \n",
       "40                                       1694   \n",
       "49                                        553   \n",
       "6                                        1584   \n",
       "48                                        855   \n",
       "46                                        927   \n",
       "5                                         314   \n",
       "43                                       1088   \n",
       "47                                       1042   \n",
       "15                                        572   \n",
       "12                                        823   \n",
       "27                                        916   \n",
       "44                                        902   \n",
       "26                                        596   \n",
       "22                                        620   \n",
       "9                                        1300   \n",
       "8                                         465   \n",
       "14                                        473   \n",
       "1                                         245   \n",
       "39                                        412   \n",
       "33                                       1618   \n",
       "30                                        931   \n",
       "28                                       1442   \n",
       "23                                         68   \n",
       "25                                        319   \n",
       "35                                       1592   \n",
       "24                                       1489   \n",
       "21                                       1201   \n",
       "20                                       1461   \n",
       "3                                        1540   \n",
       "10                                        576   \n",
       "7                                         718   \n",
       "18                                       1933   \n",
       "45                                        377   \n",
       "11                                        562   \n",
       "4                                         175   \n",
       "29                                        883   \n",
       "0                                         304   \n",
       "37                                        768   \n",
       "41                                       1656   \n",
       "34                                       1105   \n",
       "31                                        847   \n",
       "42                                       1990   \n",
       "19                                        533   \n",
       "36                                       1949   \n",
       "2                                         910   \n",
       "16                                       1735   \n",
       "38                                       1317   \n",
       "17                                        819   \n",
       "32                                        239   \n",
       "\n",
       "   param_randomforestclassifier__max_depth  \\\n",
       "13                                       6   \n",
       "40                                       6   \n",
       "49                                       6   \n",
       "6                                        6   \n",
       "48                                       6   \n",
       "46                                       6   \n",
       "5                                        7   \n",
       "43                                       5   \n",
       "47                                       5   \n",
       "15                                       5   \n",
       "12                                       8   \n",
       "27                                       5   \n",
       "44                                       8   \n",
       "26                                       4   \n",
       "22                                       4   \n",
       "9                                        9   \n",
       "8                                        4   \n",
       "14                                       9   \n",
       "1                                        9   \n",
       "39                                      10   \n",
       "33                                      10   \n",
       "30                                      10   \n",
       "28                                      10   \n",
       "23                                      10   \n",
       "25                                      11   \n",
       "35                                      11   \n",
       "24                                      11   \n",
       "21                                       3   \n",
       "20                                       3   \n",
       "3                                        3   \n",
       "10                                       3   \n",
       "7                                       12   \n",
       "18                                      12   \n",
       "45                                      12   \n",
       "11                                      12   \n",
       "4                                       12   \n",
       "29                                      13   \n",
       "0                                       13   \n",
       "37                                      13   \n",
       "41                                       2   \n",
       "34                                       2   \n",
       "31                                       2   \n",
       "42                                       2   \n",
       "19                                       2   \n",
       "36                                       1   \n",
       "2                                        1   \n",
       "16                                       1   \n",
       "38                                       1   \n",
       "17                                       1   \n",
       "32                                       1   \n",
       "\n",
       "                                               params  split0_test_score  \\\n",
       "13  {'randomforestclassifier__n_estimators': 1663,...           0.836870   \n",
       "40  {'randomforestclassifier__n_estimators': 1694,...           0.837829   \n",
       "49  {'randomforestclassifier__n_estimators': 553, ...           0.837316   \n",
       "6   {'randomforestclassifier__n_estimators': 1584,...           0.836674   \n",
       "48  {'randomforestclassifier__n_estimators': 855, ...           0.836778   \n",
       "46  {'randomforestclassifier__n_estimators': 927, ...           0.836874   \n",
       "5   {'randomforestclassifier__n_estimators': 314, ...           0.833506   \n",
       "43  {'randomforestclassifier__n_estimators': 1088,...           0.839482   \n",
       "47  {'randomforestclassifier__n_estimators': 1042,...           0.839362   \n",
       "15  {'randomforestclassifier__n_estimators': 572, ...           0.839066   \n",
       "12  {'randomforestclassifier__n_estimators': 823, ...           0.830006   \n",
       "27  {'randomforestclassifier__n_estimators': 916, ...           0.838061   \n",
       "44  {'randomforestclassifier__n_estimators': 902, ...           0.829043   \n",
       "26  {'randomforestclassifier__n_estimators': 596, ...           0.840790   \n",
       "22  {'randomforestclassifier__n_estimators': 620, ...           0.840420   \n",
       "9   {'randomforestclassifier__n_estimators': 1300,...           0.823287   \n",
       "8   {'randomforestclassifier__n_estimators': 465, ...           0.841264   \n",
       "14  {'randomforestclassifier__n_estimators': 473, ...           0.823303   \n",
       "1   {'randomforestclassifier__n_estimators': 245, ...           0.819583   \n",
       "39  {'randomforestclassifier__n_estimators': 412, ...           0.817861   \n",
       "33  {'randomforestclassifier__n_estimators': 1618,...           0.817541   \n",
       "30  {'randomforestclassifier__n_estimators': 931, ...           0.815193   \n",
       "28  {'randomforestclassifier__n_estimators': 1442,...           0.816562   \n",
       "23  {'randomforestclassifier__n_estimators': 68, '...           0.820829   \n",
       "25  {'randomforestclassifier__n_estimators': 319, ...           0.814214   \n",
       "35  {'randomforestclassifier__n_estimators': 1592,...           0.813370   \n",
       "24  {'randomforestclassifier__n_estimators': 1489,...           0.812184   \n",
       "21  {'randomforestclassifier__n_estimators': 1201,...           0.840726   \n",
       "20  {'randomforestclassifier__n_estimators': 1461,...           0.840218   \n",
       "3   {'randomforestclassifier__n_estimators': 1540,...           0.838847   \n",
       "10  {'randomforestclassifier__n_estimators': 576, ...           0.840089   \n",
       "7   {'randomforestclassifier__n_estimators': 718, ...           0.810425   \n",
       "18  {'randomforestclassifier__n_estimators': 1933,...           0.807120   \n",
       "45  {'randomforestclassifier__n_estimators': 377, ...           0.806900   \n",
       "11  {'randomforestclassifier__n_estimators': 562, ...           0.808709   \n",
       "4   {'randomforestclassifier__n_estimators': 175, ...           0.805407   \n",
       "29  {'randomforestclassifier__n_estimators': 883, ...           0.804483   \n",
       "0   {'randomforestclassifier__n_estimators': 304, ...           0.797571   \n",
       "37  {'randomforestclassifier__n_estimators': 768, ...           0.799381   \n",
       "41  {'randomforestclassifier__n_estimators': 1656,...           0.835982   \n",
       "34  {'randomforestclassifier__n_estimators': 1105,...           0.836856   \n",
       "31  {'randomforestclassifier__n_estimators': 847, ...           0.838192   \n",
       "42  {'randomforestclassifier__n_estimators': 1990,...           0.836799   \n",
       "19  {'randomforestclassifier__n_estimators': 533, ...           0.834775   \n",
       "36  {'randomforestclassifier__n_estimators': 1949,...           0.819121   \n",
       "2   {'randomforestclassifier__n_estimators': 910, ...           0.823156   \n",
       "16  {'randomforestclassifier__n_estimators': 1735,...           0.818505   \n",
       "38  {'randomforestclassifier__n_estimators': 1317,...           0.819622   \n",
       "17  {'randomforestclassifier__n_estimators': 819, ...           0.815948   \n",
       "32  {'randomforestclassifier__n_estimators': 239, ...           0.812869   \n",
       "\n",
       "    split1_test_score  split2_test_score  split3_test_score  mean_test_score  \\\n",
       "13           0.839183           0.863839           0.807603         0.836874   \n",
       "40           0.839197           0.863604           0.806722         0.836838   \n",
       "49           0.838937           0.863632           0.807425         0.836827   \n",
       "6            0.839163           0.864564           0.806540         0.836735   \n",
       "48           0.839842           0.863347           0.806606         0.836643   \n",
       "46           0.838472           0.864724           0.806162         0.836558   \n",
       "5            0.841721           0.860629           0.809144         0.836250   \n",
       "43           0.833618           0.862971           0.805386         0.835364   \n",
       "47           0.833255           0.861292           0.805817         0.834932   \n",
       "15           0.832646           0.861527           0.805151         0.834598   \n",
       "12           0.839995           0.858730           0.809593         0.834581   \n",
       "27           0.832728           0.862508           0.804376         0.834418   \n",
       "44           0.840239           0.856846           0.807878         0.833502   \n",
       "26           0.823230           0.858903           0.804673         0.831899   \n",
       "22           0.822368           0.858012           0.803494         0.831073   \n",
       "9            0.836349           0.855089           0.808072         0.830699   \n",
       "8            0.820975           0.855706           0.804091         0.830509   \n",
       "14           0.837368           0.853456           0.807160         0.830322   \n",
       "1            0.837469           0.855335           0.806250         0.829659   \n",
       "39           0.833855           0.853180           0.806415         0.827828   \n",
       "33           0.832815           0.851605           0.807386         0.827337   \n",
       "30           0.832940           0.851630           0.808401         0.827041   \n",
       "28           0.832633           0.851627           0.806421         0.826811   \n",
       "23           0.833127           0.849204           0.802694         0.826464   \n",
       "25           0.829413           0.849400           0.805024         0.824513   \n",
       "35           0.829386           0.847305           0.807379         0.824360   \n",
       "24           0.830439           0.846869           0.806930         0.824105   \n",
       "21           0.805373           0.851192           0.797502         0.823698   \n",
       "20           0.804789           0.850581           0.798391         0.823495   \n",
       "3            0.805286           0.851231           0.797723         0.823272   \n",
       "10           0.805562           0.850784           0.796558         0.823248   \n",
       "7            0.825948           0.843308           0.804151         0.820958   \n",
       "18           0.825366           0.844272           0.805329         0.820522   \n",
       "45           0.825679           0.841557           0.805692         0.819957   \n",
       "11           0.828022           0.841837           0.799848         0.819604   \n",
       "4            0.823109           0.837669           0.806501         0.818172   \n",
       "29           0.821891           0.841117           0.803423         0.817729   \n",
       "0            0.827922           0.832035           0.802648         0.815044   \n",
       "37           0.823456           0.836543           0.799971         0.814838   \n",
       "41           0.787536           0.845207           0.785153         0.813470   \n",
       "34           0.787342           0.845492           0.783462         0.813288   \n",
       "31           0.786697           0.843919           0.783952         0.813190   \n",
       "42           0.786920           0.844714           0.779328         0.811940   \n",
       "19           0.785359           0.842393           0.781022         0.810887   \n",
       "36           0.762996           0.829940           0.757038         0.792274   \n",
       "2            0.762349           0.826709           0.756722         0.792234   \n",
       "16           0.766218           0.827450           0.756085         0.792064   \n",
       "38           0.763728           0.826632           0.757946         0.791982   \n",
       "17           0.764615           0.826369           0.757463         0.791099   \n",
       "32           0.763906           0.825088           0.754435         0.789074   \n",
       "\n",
       "    std_test_score  rank_test_score  \n",
       "13        0.019933                1  \n",
       "40        0.020186                2  \n",
       "49        0.019923                3  \n",
       "6         0.020568                4  \n",
       "48        0.020159                5  \n",
       "46        0.020743                6  \n",
       "5         0.018483                7  \n",
       "43        0.020499                8  \n",
       "47        0.019780                9  \n",
       "15        0.020100               10  \n",
       "12        0.017733               11  \n",
       "27        0.020662               12  \n",
       "44        0.017796               13  \n",
       "26        0.020154               14  \n",
       "22        0.020307               15  \n",
       "9         0.017275               16  \n",
       "8         0.019617               17  \n",
       "14        0.017107               18  \n",
       "1         0.018505               19  \n",
       "39        0.017585               20  \n",
       "33        0.016680               21  \n",
       "30        0.016787               22  \n",
       "28        0.017107               23  \n",
       "23        0.017017               24  \n",
       "25        0.016802               25  \n",
       "35        0.015499               26  \n",
       "24        0.015775               27  \n",
       "21        0.022737               28  \n",
       "20        0.022324               29  \n",
       "3         0.022364               30  \n",
       "10        0.022732               31  \n",
       "7         0.015148               32  \n",
       "18        0.015795               33  \n",
       "45        0.014776               34  \n",
       "11        0.016387               35  \n",
       "4         0.013263               36  \n",
       "29        0.015366               37  \n",
       "0         0.015112               38  \n",
       "37        0.015853               39  \n",
       "41        0.027333               40  \n",
       "34        0.028086               41  \n",
       "31        0.027956               42  \n",
       "42        0.029076               43  \n",
       "19        0.027870               44  \n",
       "36        0.032551               45  \n",
       "2         0.032783               46  \n",
       "16        0.031280               47  \n",
       "38        0.031310               48  \n",
       "17        0.030390               49  \n",
       "32        0.030400               50  "
      ]
     },
     "execution_count": 21,
     "metadata": {},
     "output_type": "execute_result"
    }
   ],
   "source": [
    "rf_res = pd.DataFrame(rf_rand_two.cv_results_)\n",
    "rf_res.sort_values('mean_test_score',axis=0, ascending=False)"
   ]
  },
  {
   "cell_type": "markdown",
   "metadata": {},
   "source": [
    "<h3>Random Forest second results</h3>\n",
    "\n",
    "More iterations in the random search yeilded an almost non-existent improvement. I will explore other classifiers before doing a thorough grid search within a more confined range, which will take a good amount of time. "
   ]
  },
  {
   "cell_type": "markdown",
   "metadata": {},
   "source": [
    "<h3>Random Forest Conclusions</h3>\n",
    "\n",
    "The Random Forest Classifier performs well out of the gate with an auc of 0.863 on the training set and 0.894 on the test set. The optimal max depth appears to be either 5 or 6 and the optimal number of estimators is likely between 750 - 1750"
   ]
  },
  {
   "cell_type": "markdown",
   "metadata": {},
   "source": [
    "<h2>Logistic Regression</h2>\n"
   ]
  },
  {
   "cell_type": "code",
   "execution_count": 22,
   "metadata": {},
   "outputs": [],
   "source": [
    "from sklearn.linear_model import LogisticRegression"
   ]
  },
  {
   "cell_type": "code",
   "execution_count": 23,
   "metadata": {},
   "outputs": [],
   "source": [
    "pipe_lr = make_pipeline( \n",
    "    StandardScaler(),\n",
    "    LogisticRegression(max_iter=1000)\n",
    ")\n",
    "\n",
    "params = {'logisticregression__C': np.logspace(-2,6)}\n",
    "\n",
    "#starting with few iterations, and narrowing the ranges afterwards\n",
    "lr = RandomizedSearchCV(pipe_lr,param_distributions=params,cv=5, n_jobs=-1, verbose =10, \n",
    "                                 scoring = 'roc_auc',n_iter=20,random_state = 42)\n"
   ]
  },
  {
   "cell_type": "code",
   "execution_count": 24,
   "metadata": {
    "scrolled": true
   },
   "outputs": [
    {
     "name": "stdout",
     "output_type": "stream",
     "text": [
      "Fitting 5 folds for each of 20 candidates, totalling 100 fits\n"
     ]
    },
    {
     "name": "stderr",
     "output_type": "stream",
     "text": [
      "[Parallel(n_jobs=-1)]: Using backend LokyBackend with 8 concurrent workers.\n",
      "[Parallel(n_jobs=-1)]: Done   2 tasks      | elapsed:    0.2s\n",
      "[Parallel(n_jobs=-1)]: Done   9 tasks      | elapsed:    0.5s\n",
      "[Parallel(n_jobs=-1)]: Done  16 tasks      | elapsed:    0.8s\n",
      "[Parallel(n_jobs=-1)]: Done  25 tasks      | elapsed:    1.1s\n",
      "[Parallel(n_jobs=-1)]: Done  34 tasks      | elapsed:    1.5s\n",
      "[Parallel(n_jobs=-1)]: Done  45 tasks      | elapsed:    1.9s\n",
      "[Parallel(n_jobs=-1)]: Done  56 tasks      | elapsed:    2.1s\n",
      "[Parallel(n_jobs=-1)]: Done  69 tasks      | elapsed:    2.5s\n",
      "[Parallel(n_jobs=-1)]: Done  82 tasks      | elapsed:    2.8s\n",
      "[Parallel(n_jobs=-1)]: Done  96 out of 100 | elapsed:    3.2s remaining:    0.1s\n",
      "[Parallel(n_jobs=-1)]: Done 100 out of 100 | elapsed:    3.2s finished\n"
     ]
    },
    {
     "data": {
      "text/plain": [
       "RandomizedSearchCV(cv=5,\n",
       "                   estimator=Pipeline(steps=[('standardscaler',\n",
       "                                              StandardScaler()),\n",
       "                                             ('logisticregression',\n",
       "                                              LogisticRegression(max_iter=1000))]),\n",
       "                   n_iter=20, n_jobs=-1,\n",
       "                   param_distributions={'logisticregression__C': array([1.00000000e-02, 1.45634848e-02, 2.12095089e-02, 3.08884360e-02,\n",
       "       4.49843267e-02, 6.55128557e-02, 9.54095476e-02, 1.38949549e-01,\n",
       "       2.02358965e-0...\n",
       "       3.72759372e+02, 5.42867544e+02, 7.90604321e+02, 1.15139540e+03,\n",
       "       1.67683294e+03, 2.44205309e+03, 3.55648031e+03, 5.17947468e+03,\n",
       "       7.54312006e+03, 1.09854114e+04, 1.59985872e+04, 2.32995181e+04,\n",
       "       3.39322177e+04, 4.94171336e+04, 7.19685673e+04, 1.04811313e+05,\n",
       "       1.52641797e+05, 2.22299648e+05, 3.23745754e+05, 4.71486636e+05,\n",
       "       6.86648845e+05, 1.00000000e+06])},\n",
       "                   random_state=42, scoring='roc_auc', verbose=10)"
      ]
     },
     "execution_count": 24,
     "metadata": {},
     "output_type": "execute_result"
    }
   ],
   "source": [
    "lr.fit(X,y)"
   ]
  },
  {
   "cell_type": "code",
   "execution_count": 25,
   "metadata": {},
   "outputs": [
    {
     "data": {
      "text/plain": [
       "{'logisticregression__C': 0.030888435964774818}"
      ]
     },
     "execution_count": 25,
     "metadata": {},
     "output_type": "execute_result"
    }
   ],
   "source": [
    "lr.best_params_"
   ]
  },
  {
   "cell_type": "code",
   "execution_count": 26,
   "metadata": {},
   "outputs": [
    {
     "data": {
      "text/plain": [
       "0.6350835297263868"
      ]
     },
     "execution_count": 26,
     "metadata": {},
     "output_type": "execute_result"
    }
   ],
   "source": [
    "lr.best_score_"
   ]
  },
  {
   "cell_type": "markdown",
   "metadata": {},
   "source": [
    "<h3>ROC auc - Logistic Regression</h3>\n"
   ]
  },
  {
   "cell_type": "code",
   "execution_count": 27,
   "metadata": {},
   "outputs": [
    {
     "data": {
      "image/png": "[encoded data removed]",
      "text/plain": [
       "<Figure size 432x288 with 1 Axes>"
      ]
     },
     "metadata": {},
     "output_type": "display_data"
    }
   ],
   "source": [
    "c = roc_plot(lr.best_estimator_,X_train,y_train)"
   ]
  },
  {
   "cell_type": "markdown",
   "metadata": {},
   "source": [
    "<h3>Evaluating with test set</h3>"
   ]
  },
  {
   "cell_type": "code",
   "execution_count": 28,
   "metadata": {},
   "outputs": [
    {
     "name": "stdout",
     "output_type": "stream",
     "text": [
      "Evaluating the classifier on the test set, area under the roc curve is: 0.793\n"
     ]
    }
   ],
   "source": [
    "test_comp(lr.best_estimator_)"
   ]
  },
  {
   "cell_type": "markdown",
   "metadata": {},
   "source": [
    "<h3>Logistic Regression Conclusions</h3>\n",
    "\n",
    "The logistic regression results were considerably worse on the training set than random forest. But surprisingly close for the test set. I prefer the random forest classifier, and I expect that on a different test set, I would see different results. "
   ]
  },
  {
   "cell_type": "markdown",
   "metadata": {},
   "source": [
    "<h2>KNN </h2>\n",
    "\n",
    "I don't expect KNN to give better results due to the high-dimensionality of the feature space. I expect PCA to be necessary, though I will try it without first. "
   ]
  },
  {
   "cell_type": "code",
   "execution_count": 29,
   "metadata": {
    "scrolled": true
   },
   "outputs": [
    {
     "name": "stdout",
     "output_type": "stream",
     "text": [
      "Fitting 5 folds for each of 199 candidates, totalling 995 fits\n"
     ]
    },
    {
     "name": "stderr",
     "output_type": "stream",
     "text": [
      "/Users/jon/opt/anaconda3/lib/python3.8/site-packages/sklearn/model_selection/_search.py:278: UserWarning: The total space of parameters 199 is smaller than n_iter=200. Running 199 iterations. For exhaustive searches, use GridSearchCV.\n",
      "  warnings.warn(\n",
      "[Parallel(n_jobs=-1)]: Using backend LokyBackend with 8 concurrent workers.\n",
      "[Parallel(n_jobs=-1)]: Done   2 tasks      | elapsed:    0.3s\n",
      "[Parallel(n_jobs=-1)]: Done   9 tasks      | elapsed:    0.5s\n",
      "[Parallel(n_jobs=-1)]: Done  16 tasks      | elapsed:    0.7s\n",
      "[Parallel(n_jobs=-1)]: Done  25 tasks      | elapsed:    1.1s\n",
      "[Parallel(n_jobs=-1)]: Done  34 tasks      | elapsed:    1.4s\n",
      "[Parallel(n_jobs=-1)]: Done  45 tasks      | elapsed:    1.9s\n",
      "[Parallel(n_jobs=-1)]: Done  56 tasks      | elapsed:    2.4s\n",
      "[Parallel(n_jobs=-1)]: Done  69 tasks      | elapsed:    2.9s\n",
      "[Parallel(n_jobs=-1)]: Done  82 tasks      | elapsed:    3.6s\n",
      "[Parallel(n_jobs=-1)]: Done  97 tasks      | elapsed:    4.4s\n",
      "[Parallel(n_jobs=-1)]: Done 112 tasks      | elapsed:    5.1s\n",
      "[Parallel(n_jobs=-1)]: Done 129 tasks      | elapsed:    6.0s\n",
      "[Parallel(n_jobs=-1)]: Done 146 tasks      | elapsed:    7.0s\n",
      "[Parallel(n_jobs=-1)]: Done 165 tasks      | elapsed:    8.2s\n",
      "[Parallel(n_jobs=-1)]: Done 184 tasks      | elapsed:    9.3s\n",
      "[Parallel(n_jobs=-1)]: Done 205 tasks      | elapsed:   10.8s\n",
      "[Parallel(n_jobs=-1)]: Done 226 tasks      | elapsed:   12.1s\n",
      "[Parallel(n_jobs=-1)]: Done 249 tasks      | elapsed:   13.6s\n",
      "[Parallel(n_jobs=-1)]: Done 272 tasks      | elapsed:   15.2s\n",
      "[Parallel(n_jobs=-1)]: Done 297 tasks      | elapsed:   17.0s\n",
      "[Parallel(n_jobs=-1)]: Done 322 tasks      | elapsed:   18.8s\n",
      "[Parallel(n_jobs=-1)]: Done 349 tasks      | elapsed:   20.9s\n",
      "[Parallel(n_jobs=-1)]: Done 376 tasks      | elapsed:   22.9s\n",
      "[Parallel(n_jobs=-1)]: Done 405 tasks      | elapsed:   25.2s\n",
      "[Parallel(n_jobs=-1)]: Done 434 tasks      | elapsed:   27.5s\n",
      "[Parallel(n_jobs=-1)]: Done 465 tasks      | elapsed:   30.0s\n",
      "[Parallel(n_jobs=-1)]: Done 496 tasks      | elapsed:   32.6s\n",
      "[Parallel(n_jobs=-1)]: Done 529 tasks      | elapsed:   35.4s\n",
      "[Parallel(n_jobs=-1)]: Done 562 tasks      | elapsed:   38.2s\n",
      "[Parallel(n_jobs=-1)]: Done 597 tasks      | elapsed:   41.3s\n",
      "[Parallel(n_jobs=-1)]: Done 632 tasks      | elapsed:   44.6s\n",
      "[Parallel(n_jobs=-1)]: Done 669 tasks      | elapsed:   47.9s\n",
      "[Parallel(n_jobs=-1)]: Done 706 tasks      | elapsed:   51.4s\n",
      "[Parallel(n_jobs=-1)]: Done 745 tasks      | elapsed:   55.2s\n",
      "[Parallel(n_jobs=-1)]: Done 784 tasks      | elapsed:   59.0s\n",
      "[Parallel(n_jobs=-1)]: Done 825 tasks      | elapsed:  1.1min\n",
      "[Parallel(n_jobs=-1)]: Done 866 tasks      | elapsed:  1.1min\n",
      "[Parallel(n_jobs=-1)]: Done 909 tasks      | elapsed:  1.2min\n",
      "[Parallel(n_jobs=-1)]: Done 952 tasks      | elapsed:  1.3min\n",
      "[Parallel(n_jobs=-1)]: Done 995 out of 995 | elapsed:  1.3min finished\n"
     ]
    },
    {
     "data": {
      "text/plain": [
       "RandomizedSearchCV(cv=5,\n",
       "                   estimator=Pipeline(steps=[('standardscaler',\n",
       "                                              StandardScaler()),\n",
       "                                             ('kneighborsclassifier',\n",
       "                                              KNeighborsClassifier(weights='distance'))]),\n",
       "                   n_iter=200, n_jobs=-1,\n",
       "                   param_distributions={'kneighborsclassifier__n_neighbors': array([  1,   2,   3,   4,   5,   6,   7,   8,   9,  10,  11,  12,  13,\n",
       "        14,  15,  16,  17,  18,  19,  20,  21,  22,  23,  24,  25,  26,\n",
       "        27,  28,  29,  30,  31,  32,  33,  34,  35,  36,  37,  38,  39,\n",
       "        40,...\n",
       "       118, 119, 120, 121, 122, 123, 124, 125, 126, 127, 128, 129, 130,\n",
       "       131, 132, 133, 134, 135, 136, 137, 138, 139, 140, 141, 142, 143,\n",
       "       144, 145, 146, 147, 148, 149, 150, 151, 152, 153, 154, 155, 156,\n",
       "       157, 158, 159, 160, 161, 162, 163, 164, 165, 166, 167, 168, 169,\n",
       "       170, 171, 172, 173, 174, 175, 176, 177, 178, 179, 180, 181, 182,\n",
       "       183, 184, 185, 186, 187, 188, 189, 190, 191, 192, 193, 194, 195,\n",
       "       196, 197, 198, 199])},\n",
       "                   random_state=42, scoring='roc_auc', verbose=10)"
      ]
     },
     "execution_count": 29,
     "metadata": {},
     "output_type": "execute_result"
    }
   ],
   "source": [
    "from sklearn.neighbors import KNeighborsClassifier\n",
    "\n",
    "pipe_knn = make_pipeline( \n",
    "    StandardScaler(),\n",
    "    KNeighborsClassifier(weights='distance')\n",
    ")\n",
    "\n",
    "params = {'kneighborsclassifier__n_neighbors': np.arange(1,200)}\n",
    "    \n",
    "\n",
    "#starting with few iterations, and narrowing the ranges afterwards\n",
    "knn = RandomizedSearchCV(pipe_knn,param_distributions=params,cv=5, n_jobs=-1, verbose =10, \n",
    "                                 scoring = 'roc_auc',n_iter=200,random_state = 42)\n",
    "\n",
    "knn.fit(X_train,y_train)"
   ]
  },
  {
   "cell_type": "code",
   "execution_count": 30,
   "metadata": {},
   "outputs": [
    {
     "data": {
      "text/plain": [
       "{'kneighborsclassifier__n_neighbors': 21}"
      ]
     },
     "execution_count": 30,
     "metadata": {},
     "output_type": "execute_result"
    }
   ],
   "source": [
    "knn.best_params_"
   ]
  },
  {
   "cell_type": "code",
   "execution_count": 31,
   "metadata": {},
   "outputs": [
    {
     "data": {
      "text/plain": [
       "0.6853939050109518"
      ]
     },
     "execution_count": 31,
     "metadata": {},
     "output_type": "execute_result"
    }
   ],
   "source": [
    "knn.best_score_"
   ]
  },
  {
   "cell_type": "code",
   "execution_count": 32,
   "metadata": {},
   "outputs": [
    {
     "data": {
      "image/png": "[encoded data removed]",
      "text/plain": [
       "<Figure size 432x288 with 1 Axes>"
      ]
     },
     "metadata": {},
     "output_type": "display_data"
    }
   ],
   "source": [
    "c = roc_plot(knn.best_estimator_,X_train,y_train)"
   ]
  },
  {
   "cell_type": "code",
   "execution_count": 33,
   "metadata": {},
   "outputs": [
    {
     "name": "stdout",
     "output_type": "stream",
     "text": [
      "Evaluating the classifier on the test set, area under the roc curve is: 0.691\n"
     ]
    }
   ],
   "source": [
    "test_comp(knn.best_estimator_)"
   ]
  },
  {
   "cell_type": "markdown",
   "metadata": {},
   "source": [
    "Knn performed better than expected, with a max aoc of 0.827 for train and similar for test. Let's see if PCA improves"
   ]
  },
  {
   "cell_type": "code",
   "execution_count": 34,
   "metadata": {
    "scrolled": true
   },
   "outputs": [
    {
     "name": "stdout",
     "output_type": "stream",
     "text": [
      "Fitting 5 folds for each of 200 candidates, totalling 1000 fits\n"
     ]
    },
    {
     "name": "stderr",
     "output_type": "stream",
     "text": [
      "[Parallel(n_jobs=-1)]: Using backend LokyBackend with 8 concurrent workers.\n",
      "[Parallel(n_jobs=-1)]: Batch computation too fast (0.0956s.) Setting batch_size=2.\n",
      "[Parallel(n_jobs=-1)]: Done   2 tasks      | elapsed:    0.1s\n",
      "[Parallel(n_jobs=-1)]: Done   9 tasks      | elapsed:    0.3s\n",
      "[Parallel(n_jobs=-1)]: Done  16 tasks      | elapsed:    0.5s\n",
      "[Parallel(n_jobs=-1)]: Done  34 tasks      | elapsed:    0.9s\n",
      "[Parallel(n_jobs=-1)]: Done  52 tasks      | elapsed:    1.6s\n",
      "[Parallel(n_jobs=-1)]: Done  74 tasks      | elapsed:    2.2s\n",
      "[Parallel(n_jobs=-1)]: Done  96 tasks      | elapsed:    2.9s\n",
      "[Parallel(n_jobs=-1)]: Done 122 tasks      | elapsed:    3.9s\n",
      "[Parallel(n_jobs=-1)]: Done 148 tasks      | elapsed:    4.7s\n",
      "[Parallel(n_jobs=-1)]: Done 178 tasks      | elapsed:    5.3s\n",
      "[Parallel(n_jobs=-1)]: Done 208 tasks      | elapsed:    6.2s\n",
      "[Parallel(n_jobs=-1)]: Done 242 tasks      | elapsed:    7.3s\n",
      "[Parallel(n_jobs=-1)]: Done 276 tasks      | elapsed:    8.4s\n",
      "[Parallel(n_jobs=-1)]: Done 314 tasks      | elapsed:    9.6s\n",
      "[Parallel(n_jobs=-1)]: Done 352 tasks      | elapsed:   11.2s\n",
      "[Parallel(n_jobs=-1)]: Done 394 tasks      | elapsed:   12.4s\n",
      "[Parallel(n_jobs=-1)]: Done 436 tasks      | elapsed:   13.8s\n",
      "[Parallel(n_jobs=-1)]: Done 482 tasks      | elapsed:   15.3s\n",
      "[Parallel(n_jobs=-1)]: Done 528 tasks      | elapsed:   16.2s\n",
      "[Parallel(n_jobs=-1)]: Done 578 tasks      | elapsed:   17.4s\n",
      "[Parallel(n_jobs=-1)]: Done 628 tasks      | elapsed:   19.3s\n",
      "[Parallel(n_jobs=-1)]: Done 682 tasks      | elapsed:   20.9s\n",
      "[Parallel(n_jobs=-1)]: Done 736 tasks      | elapsed:   22.7s\n",
      "[Parallel(n_jobs=-1)]: Done 794 tasks      | elapsed:   24.7s\n",
      "[Parallel(n_jobs=-1)]: Done 852 tasks      | elapsed:   26.5s\n",
      "[Parallel(n_jobs=-1)]: Done 914 tasks      | elapsed:   28.7s\n",
      "[Parallel(n_jobs=-1)]: Done 976 tasks      | elapsed:   30.7s\n",
      "[Parallel(n_jobs=-1)]: Done 1000 out of 1000 | elapsed:   31.0s finished\n"
     ]
    },
    {
     "data": {
      "text/plain": [
       "RandomizedSearchCV(cv=5,\n",
       "                   estimator=Pipeline(steps=[('standardscaler',\n",
       "                                              StandardScaler()),\n",
       "                                             ('pca', PCA()),\n",
       "                                             ('kneighborsclassifier',\n",
       "                                              KNeighborsClassifier(weights='distance'))]),\n",
       "                   n_iter=200, n_jobs=-1,\n",
       "                   param_distributions={'kneighborsclassifier__n_neighbors': array([ 50,  51,  52,  53,  54,  55,  56,  57,  58,  59,  60,  61,  62,\n",
       "        63,  64,  65,  66,  67,  68,  69,  70,  71,  72,  73,  74,  75,\n",
       "        76,  77,  78,  79,  80,  81,  8...\n",
       "       180, 181, 182, 183, 184, 185, 186, 187, 188, 189, 190, 191, 192,\n",
       "       193, 194, 195, 196, 197, 198, 199, 200, 201, 202, 203, 204, 205,\n",
       "       206, 207, 208, 209, 210, 211, 212, 213, 214, 215, 216, 217, 218,\n",
       "       219, 220, 221, 222, 223, 224, 225, 226, 227, 228, 229, 230, 231,\n",
       "       232, 233, 234, 235, 236, 237, 238, 239, 240, 241, 242, 243, 244,\n",
       "       245, 246, 247, 248, 249]),\n",
       "                                        'pca__n_components': array([ 2,  3,  4,  5,  6,  7,  8,  9, 10, 11, 12, 13, 14, 15, 16])},\n",
       "                   random_state=42, scoring='roc_auc', verbose=10)"
      ]
     },
     "execution_count": 34,
     "metadata": {},
     "output_type": "execute_result"
    }
   ],
   "source": [
    "from sklearn.decomposition import PCA\n",
    "\n",
    "pipe_knn = make_pipeline( \n",
    "    StandardScaler(),\n",
    "    PCA(),\n",
    "    KNeighborsClassifier(weights='distance')\n",
    ")\n",
    "\n",
    "params = {'pca__n_components' : np.arange(2,X.shape[1]),\n",
    "          'kneighborsclassifier__n_neighbors': np.arange(50,250)}\n",
    "    \n",
    "\n",
    "#starting with few iterations, and narrowing the ranges afterwards\n",
    "knn = RandomizedSearchCV(pipe_knn,param_distributions=params,cv=5, n_jobs=-1, verbose =10, \n",
    "                                 scoring = 'roc_auc',n_iter=200,random_state = 42)\n",
    "\n",
    "knn.fit(X_train,y_train)"
   ]
  },
  {
   "cell_type": "code",
   "execution_count": 35,
   "metadata": {},
   "outputs": [
    {
     "data": {
      "text/plain": [
       "{'pca__n_components': 8, 'kneighborsclassifier__n_neighbors': 53}"
      ]
     },
     "execution_count": 35,
     "metadata": {},
     "output_type": "execute_result"
    }
   ],
   "source": [
    "knn.best_params_"
   ]
  },
  {
   "cell_type": "code",
   "execution_count": 36,
   "metadata": {},
   "outputs": [
    {
     "data": {
      "text/plain": [
       "0.7819124438256505"
      ]
     },
     "execution_count": 36,
     "metadata": {},
     "output_type": "execute_result"
    }
   ],
   "source": [
    "knn.best_score_"
   ]
  },
  {
   "cell_type": "code",
   "execution_count": 37,
   "metadata": {},
   "outputs": [
    {
     "data": {
      "image/png": "[encoded data removed]",
      "text/plain": [
       "<Figure size 432x288 with 1 Axes>"
      ]
     },
     "metadata": {},
     "output_type": "display_data"
    }
   ],
   "source": [
    "c = roc_plot(knn.best_estimator_,X_train,y_train)"
   ]
  },
  {
   "cell_type": "markdown",
   "metadata": {},
   "source": [
    "<h3>Evaluating with test set</h3>"
   ]
  },
  {
   "cell_type": "code",
   "execution_count": 38,
   "metadata": {},
   "outputs": [
    {
     "name": "stdout",
     "output_type": "stream",
     "text": [
      "Evaluating the classifier on the test set, area under the roc curve is: 0.779\n"
     ]
    }
   ],
   "source": [
    "test_comp(knn.best_estimator_)"
   ]
  },
  {
   "cell_type": "markdown",
   "metadata": {},
   "source": [
    "<h3>KNN Conclusions</h3>\n",
    "\n",
    "PCA did not improve things by much, if at all. It's certainly not worth it to lose feature importances. "
   ]
  },
  {
   "cell_type": "markdown",
   "metadata": {},
   "source": [
    "<h1>Choosing a classifier</h1>\n",
    "\n",
    "Two models stand out as options to ultimately choose -- Random Forest and KNN. The random forest model has a feature importance attribute, which is a great piece of data, so I will choose it. "
   ]
  },
  {
   "cell_type": "code",
   "execution_count": 40,
   "metadata": {
    "scrolled": true
   },
   "outputs": [
    {
     "name": "stdout",
     "output_type": "stream",
     "text": [
      "Fitting 5 folds for each of 150 candidates, totalling 750 fits\n"
     ]
    },
    {
     "name": "stderr",
     "output_type": "stream",
     "text": [
      "[Parallel(n_jobs=-1)]: Using backend LokyBackend with 8 concurrent workers.\n",
      "[Parallel(n_jobs=-1)]: Done   2 tasks      | elapsed:    6.6s\n",
      "[Parallel(n_jobs=-1)]: Done   9 tasks      | elapsed:   11.6s\n",
      "[Parallel(n_jobs=-1)]: Done  16 tasks      | elapsed:   13.0s\n",
      "[Parallel(n_jobs=-1)]: Done  25 tasks      | elapsed:   27.5s\n",
      "[Parallel(n_jobs=-1)]: Done  34 tasks      | elapsed:   36.8s\n",
      "[Parallel(n_jobs=-1)]: Done  45 tasks      | elapsed:   45.2s\n",
      "[Parallel(n_jobs=-1)]: Done  56 tasks      | elapsed:   54.1s\n",
      "[Parallel(n_jobs=-1)]: Done  69 tasks      | elapsed:  1.1min\n",
      "[Parallel(n_jobs=-1)]: Done  82 tasks      | elapsed:  1.4min\n",
      "[Parallel(n_jobs=-1)]: Done  97 tasks      | elapsed:  1.7min\n",
      "[Parallel(n_jobs=-1)]: Done 112 tasks      | elapsed:  2.0min\n",
      "[Parallel(n_jobs=-1)]: Done 129 tasks      | elapsed:  2.3min\n",
      "[Parallel(n_jobs=-1)]: Done 146 tasks      | elapsed:  2.5min\n",
      "[Parallel(n_jobs=-1)]: Done 165 tasks      | elapsed:  2.8min\n",
      "[Parallel(n_jobs=-1)]: Done 184 tasks      | elapsed:  3.1min\n",
      "[Parallel(n_jobs=-1)]: Done 205 tasks      | elapsed:  3.5min\n",
      "[Parallel(n_jobs=-1)]: Done 226 tasks      | elapsed:  4.0min\n",
      "[Parallel(n_jobs=-1)]: Done 249 tasks      | elapsed:  4.6min\n",
      "[Parallel(n_jobs=-1)]: Done 272 tasks      | elapsed:  4.8min\n",
      "[Parallel(n_jobs=-1)]: Done 297 tasks      | elapsed:  5.2min\n",
      "[Parallel(n_jobs=-1)]: Done 322 tasks      | elapsed:  5.7min\n",
      "[Parallel(n_jobs=-1)]: Done 349 tasks      | elapsed:  6.3min\n",
      "[Parallel(n_jobs=-1)]: Done 376 tasks      | elapsed:  7.0min\n",
      "[Parallel(n_jobs=-1)]: Done 405 tasks      | elapsed:  7.4min\n",
      "[Parallel(n_jobs=-1)]: Done 434 tasks      | elapsed:  7.9min\n",
      "[Parallel(n_jobs=-1)]: Done 465 tasks      | elapsed:  8.6min\n",
      "[Parallel(n_jobs=-1)]: Done 496 tasks      | elapsed:  9.5min\n",
      "[Parallel(n_jobs=-1)]: Done 529 tasks      | elapsed: 10.0min\n",
      "[Parallel(n_jobs=-1)]: Done 562 tasks      | elapsed: 10.7min\n",
      "[Parallel(n_jobs=-1)]: Done 597 tasks      | elapsed: 11.7min\n",
      "[Parallel(n_jobs=-1)]: Done 632 tasks      | elapsed: 12.6min\n",
      "[Parallel(n_jobs=-1)]: Done 669 tasks      | elapsed: 13.3min\n",
      "[Parallel(n_jobs=-1)]: Done 706 tasks      | elapsed: 14.3min\n",
      "[Parallel(n_jobs=-1)]: Done 750 out of 750 | elapsed: 15.7min finished\n"
     ]
    },
    {
     "data": {
      "text/plain": [
       "GridSearchCV(cv=5,\n",
       "             estimator=Pipeline(steps=[('standardscaler', StandardScaler()),\n",
       "                                       ('randomforestclassifier',\n",
       "                                        RandomForestClassifier())]),\n",
       "             n_jobs=-1,\n",
       "             param_grid={'randomforestclassifier__max_depth': array([4, 5, 6, 7, 8, 9]),\n",
       "                         'randomforestclassifier__n_estimators': array([ 750,  800,  850,  900,  950, 1000, 1050, 1100, 1150, 1200, 1250,\n",
       "       1300, 1350, 1400, 1450, 1500, 1550, 1600, 1650, 1700, 1750, 1800,\n",
       "       1850, 1900, 1950])},\n",
       "             scoring='roc_auc', verbose=10)"
      ]
     },
     "execution_count": 40,
     "metadata": {},
     "output_type": "execute_result"
    }
   ],
   "source": [
    "from sklearn.model_selection import GridSearchCV\n",
    "\n",
    "pipe_rf = make_pipeline( \n",
    "    StandardScaler(), \n",
    "    RandomForestClassifier()\n",
    ")\n",
    "\n",
    "params = {'randomforestclassifier__n_estimators': np.arange(750,2000,50),\n",
    "          'randomforestclassifier__max_depth' :  np.arange(4,10)}\n",
    "\n",
    "rf = GridSearchCV(pipe,param_grid=params,cv=5, n_jobs=-1, scoring = 'roc_auc',verbose=10)\n",
    "\n",
    "rf.fit(X_train,y_train)"
   ]
  },
  {
   "cell_type": "code",
   "execution_count": 41,
   "metadata": {
    "scrolled": false
   },
   "outputs": [
    {
     "data": {
      "text/plain": [
       "{'randomforestclassifier__max_depth': 7,\n",
       " 'randomforestclassifier__n_estimators': 1100}"
      ]
     },
     "execution_count": 41,
     "metadata": {},
     "output_type": "execute_result"
    }
   ],
   "source": [
    "rf.best_params_"
   ]
  },
  {
   "cell_type": "markdown",
   "metadata": {},
   "source": [
    "***Evaluating Performance***"
   ]
  },
  {
   "cell_type": "code",
   "execution_count": 42,
   "metadata": {},
   "outputs": [
    {
     "data": {
      "image/png": "[encoded data removed]",
      "text/plain": [
       "<Figure size 432x288 with 1 Axes>"
      ]
     },
     "metadata": {},
     "output_type": "display_data"
    }
   ],
   "source": [
    "c = roc_plot(rf.best_estimator_,X_train,y_train)"
   ]
  },
  {
   "cell_type": "code",
   "execution_count": 43,
   "metadata": {},
   "outputs": [
    {
     "name": "stdout",
     "output_type": "stream",
     "text": [
      "Evaluating the classifier on the test set, area under the roc curve is: 0.832\n"
     ]
    }
   ],
   "source": [
    "test_comp(rf.best_estimator_)"
   ]
  },
  {
   "cell_type": "markdown",
   "metadata": {},
   "source": [
    "***Looking at feature importance***"
   ]
  },
  {
   "cell_type": "code",
   "execution_count": 44,
   "metadata": {},
   "outputs": [],
   "source": [
    "r = rf.best_estimator_\n",
    "imp = r.steps[1][1].feature_importances_"
   ]
  },
  {
   "cell_type": "code",
   "execution_count": 45,
   "metadata": {},
   "outputs": [
    {
     "data": {
      "text/plain": [
       "<AxesSubplot:xlabel='importance', ylabel='feature'>"
      ]
     },
     "execution_count": 45,
     "metadata": {},
     "output_type": "execute_result"
    },
    {
     "data": {
      "image/png": "[encoded data removed]",
      "text/plain": [
       "<Figure size 1080x1440 with 1 Axes>"
      ]
     },
     "metadata": {},
     "output_type": "display_data"
    }
   ],
   "source": [
    "ax = plt.figure(figsize=(15,20))\n",
    "\n",
    "i = pd.DataFrame({'feature':X_test.columns,'importance':imp}).sort_values('importance',ascending=False)\n",
    "\n",
    "sns.barplot(data=i,y='feature',x='importance',orient='h',color='gray')"
   ]
  },
  {
   "cell_type": "markdown",
   "metadata": {},
   "source": [
    "<h1>Conclusions</h1>\n"
   ]
  },
  {
   "cell_type": "code",
   "execution_count": null,
   "metadata": {},
   "outputs": [],
   "source": []
  },
  {
   "cell_type": "code",
   "execution_count": null,
   "metadata": {},
   "outputs": [],
   "source": []
  }
 ],
 "metadata": {
  "kernelspec": {
   "display_name": "Python 3",
   "language": "python",
   "name": "python3"
  },
  "language_info": {
   "codemirror_mode": {
    "name": "ipython",
    "version": 3
   },
   "file_extension": ".py",
   "mimetype": "text/x-python",
   "name": "python",
   "nbconvert_exporter": "python",
   "pygments_lexer": "ipython3",
   "version": "3.8.3"
  }
 },
 "nbformat": 4,
 "nbformat_minor": 4
}
